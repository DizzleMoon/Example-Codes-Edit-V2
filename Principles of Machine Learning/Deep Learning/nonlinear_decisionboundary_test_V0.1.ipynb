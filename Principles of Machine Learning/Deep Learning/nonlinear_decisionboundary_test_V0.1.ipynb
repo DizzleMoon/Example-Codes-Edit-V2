{
 "cells": [
  {
   "cell_type": "code",
   "execution_count": 16,
   "metadata": {},
   "outputs": [],
   "source": [
    "\n",
    "import numpy as np\n",
    "import pandas as pd\n",
    "import matplotlib.pyplot as plt\n",
    "import seaborn as sns\n",
    "sns.set(style=\"white\")\n"
   ]
  },
  {
   "cell_type": "code",
   "execution_count": 17,
   "metadata": {},
   "outputs": [],
   "source": [
    "\n",
    "def map_features(x, degree):\n",
    "    x_old = x.copy()\n",
    "    x = pd.DataFrame({\"intercept\" : [1]*x.shape[0]})\n",
    "    column_index = 1\n",
    "    for i in range(1, degree+1):\n",
    "        for j in range(0, i+1):\n",
    "            x.insert(column_index, str(x_old.columns[1]) + \"^\" + str(i-j) + str(x_old.columns[2]) + \"^\" + str(j), np.multiply(x_old.iloc[:,1]**(i-j), x_old.iloc[:,2]**(j)))\n",
    "            column_index+=1\n",
    "    return x\n",
    "\n",
    "def normalize_features(x):\n",
    "    global mean_values\n",
    "    global std_values\n",
    "    for column_name in x.columns[1:]:\n",
    "        mean = x[column_name].mean()\n",
    "        std = x[column_name].std()\n",
    "        x[column_name] = (x[column_name] - mean) / std\n",
    "        mean_values[column_name] = mean\n",
    "        std_values[column_name] = std\n",
    "    return x\n",
    "\n",
    "def sigmoid(z):\n",
    "    return 1/(1+np.exp(-z))\n",
    "\n",
    "def cost(x, y, theta):\n",
    "    m = x.shape[0]\n",
    "    h_theta = pd.DataFrame(sigmoid(np.dot(x,theta)))\n",
    "    cost = 1/m * ((-np.multiply(y,h_theta.apply(np.log)) - np.multiply(1-y, (1-h_theta).apply(np.log))).sum())\n",
    "    return np.asscalar(cost)\n",
    "\n",
    "def gradient_descent(x, y, theta):\n",
    "    global cost_values\n",
    "    m = x.shape[0]\n",
    "    iterations = 1000\n",
    "    alpha = 0.03\n",
    "    cost_values = pd.DataFrame({'iteration' : [0], 'cost' : [cost(x,y,theta)]})\n",
    "\n",
    "    for iteration in range(0,iterations):\n",
    "        theta_old = theta.copy()\n",
    "        theta.iloc[0,0] = theta.iloc[0,0] - (alpha/m) * np.asscalar((sigmoid(np.dot(x,theta_old)) - y).sum())\n",
    "        for i in range(1,theta.shape[0]):\n",
    "            theta.iloc[i,0] = theta.iloc[i,0] - (alpha/m) * np.asscalar(np.multiply((sigmoid(np.dot(x,theta_old)) - y), pd.DataFrame(x.iloc[:,i])).sum())\n",
    "        c = cost(x,y,theta)\n",
    "        cost_values = cost_values.append({\"iteration\" : iteration, \"cost\" : c}, ignore_index=True)\n",
    "\n",
    "def predict(x):\n",
    "    global theta\n",
    "    probability = np.asscalar(sigmoid(np.dot(x.T,theta)))\n",
    "    return probability\n",
    "    if(probability >= 0.5):\n",
    "        return 1\n",
    "    else:\n",
    "        return 0\n",
    "\n"
   ]
  },
  {
   "cell_type": "code",
   "execution_count": 18,
   "metadata": {},
   "outputs": [],
   "source": [
    "### Read train data\n",
    "train_data = pd.read_csv(\"ex2data1.csv\", names = [\"exam1\", \"exam2\", \"admit\"])\n"
   ]
  },
  {
   "cell_type": "code",
   "execution_count": 19,
   "metadata": {},
   "outputs": [
    {
     "data": {
      "text/html": [
       "<div>\n",
       "<style scoped>\n",
       "    .dataframe tbody tr th:only-of-type {\n",
       "        vertical-align: middle;\n",
       "    }\n",
       "\n",
       "    .dataframe tbody tr th {\n",
       "        vertical-align: top;\n",
       "    }\n",
       "\n",
       "    .dataframe thead th {\n",
       "        text-align: right;\n",
       "    }\n",
       "</style>\n",
       "<table border=\"1\" class=\"dataframe\">\n",
       "  <thead>\n",
       "    <tr style=\"text-align: right;\">\n",
       "      <th></th>\n",
       "      <th>intercept</th>\n",
       "      <th>exam1</th>\n",
       "      <th>exam2</th>\n",
       "    </tr>\n",
       "  </thead>\n",
       "  <tbody>\n",
       "    <tr>\n",
       "      <th>0</th>\n",
       "      <td>1</td>\n",
       "      <td>-1.594216</td>\n",
       "      <td>0.635141</td>\n",
       "    </tr>\n",
       "    <tr>\n",
       "      <th>1</th>\n",
       "      <td>1</td>\n",
       "      <td>-1.817101</td>\n",
       "      <td>-1.201489</td>\n",
       "    </tr>\n",
       "    <tr>\n",
       "      <th>2</th>\n",
       "      <td>1</td>\n",
       "      <td>-1.531325</td>\n",
       "      <td>0.359483</td>\n",
       "    </tr>\n",
       "    <tr>\n",
       "      <th>3</th>\n",
       "      <td>1</td>\n",
       "      <td>-0.280687</td>\n",
       "      <td>1.080923</td>\n",
       "    </tr>\n",
       "    <tr>\n",
       "      <th>4</th>\n",
       "      <td>1</td>\n",
       "      <td>0.688062</td>\n",
       "      <td>0.490905</td>\n",
       "    </tr>\n",
       "    <tr>\n",
       "      <th>...</th>\n",
       "      <td>...</td>\n",
       "      <td>...</td>\n",
       "      <td>...</td>\n",
       "    </tr>\n",
       "    <tr>\n",
       "      <th>95</th>\n",
       "      <td>1</td>\n",
       "      <td>0.917087</td>\n",
       "      <td>-0.960121</td>\n",
       "    </tr>\n",
       "    <tr>\n",
       "      <th>96</th>\n",
       "      <td>1</td>\n",
       "      <td>-1.201681</td>\n",
       "      <td>1.123720</td>\n",
       "    </tr>\n",
       "    <tr>\n",
       "      <th>97</th>\n",
       "      <td>1</td>\n",
       "      <td>1.730412</td>\n",
       "      <td>0.137407</td>\n",
       "    </tr>\n",
       "    <tr>\n",
       "      <th>98</th>\n",
       "      <td>1</td>\n",
       "      <td>-0.529558</td>\n",
       "      <td>-0.069422</td>\n",
       "    </tr>\n",
       "    <tr>\n",
       "      <th>99</th>\n",
       "      <td>1</td>\n",
       "      <td>0.469294</td>\n",
       "      <td>1.254269</td>\n",
       "    </tr>\n",
       "  </tbody>\n",
       "</table>\n",
       "<p>100 rows × 3 columns</p>\n",
       "</div>"
      ],
      "text/plain": [
       "    intercept     exam1     exam2\n",
       "0           1 -1.594216  0.635141\n",
       "1           1 -1.817101 -1.201489\n",
       "2           1 -1.531325  0.359483\n",
       "3           1 -0.280687  1.080923\n",
       "4           1  0.688062  0.490905\n",
       "..        ...       ...       ...\n",
       "95          1  0.917087 -0.960121\n",
       "96          1 -1.201681  1.123720\n",
       "97          1  1.730412  0.137407\n",
       "98          1 -0.529558 -0.069422\n",
       "99          1  0.469294  1.254269\n",
       "\n",
       "[100 rows x 3 columns]"
      ]
     },
     "execution_count": 19,
     "metadata": {},
     "output_type": "execute_result"
    }
   ],
   "source": [
    "### Create input data\n",
    "x = train_data.loc[:,\"exam1\":\"exam2\"]\n",
    "### Add intercept column\n",
    "x.insert(0, \"intercept\", 1)\n",
    "mean_values = {}\n",
    "std_values = {}\n",
    "mapping_degree = 2\n",
    "x = normalize_features(x) #normalize features\n",
    "x0 = x\n",
    "x = map_features(x, mapping_degree) #map polynomial features\n",
    "x1 = x\n",
    "y = pd.DataFrame(train_data.loc[:,\"admit\"])\n",
    "theta = pd.DataFrame({\"theta\" : [0] * len(x.columns)})\n",
    "x0"
   ]
  },
  {
   "cell_type": "code",
   "execution_count": 20,
   "metadata": {},
   "outputs": [
    {
     "name": "stderr",
     "output_type": "stream",
     "text": [
      "<ipython-input-17-1c759ca1bcc4>:29: DeprecationWarning: np.asscalar(a) is deprecated since NumPy v1.16, use a.item() instead\n",
      "  return np.asscalar(cost)\n",
      "<ipython-input-17-1c759ca1bcc4>:40: DeprecationWarning: np.asscalar(a) is deprecated since NumPy v1.16, use a.item() instead\n",
      "  theta.iloc[0,0] = theta.iloc[0,0] - (alpha/m) * np.asscalar((sigmoid(np.dot(x,theta_old)) - y).sum())\n",
      "<ipython-input-17-1c759ca1bcc4>:42: DeprecationWarning: np.asscalar(a) is deprecated since NumPy v1.16, use a.item() instead\n",
      "  theta.iloc[i,0] = theta.iloc[i,0] - (alpha/m) * np.asscalar(np.multiply((sigmoid(np.dot(x,theta_old)) - y), pd.DataFrame(x.iloc[:,i])).sum())\n"
     ]
    }
   ],
   "source": [
    "### Test cost of initial theta\n",
    "# print(cost(x,y,theta))\n",
    "\n",
    "### Perform Gradient Descent\n",
    "gradient_descent(x, y, theta)\n",
    "# print(theta)\n",
    "# print(\"Cost: \" + str(cost(x,y,theta)))\n",
    "\n"
   ]
  },
  {
   "cell_type": "code",
   "execution_count": 21,
   "metadata": {},
   "outputs": [
    {
     "data": {
      "image/png": "[encoded data removed]",
      "text/plain": [
       "<Figure size 432x288 with 1 Axes>"
      ]
     },
     "metadata": {},
     "output_type": "display_data"
    }
   ],
   "source": [
    "### Plot iteration vs Cost\n",
    "plt.scatter(cost_values[\"iteration\"], cost_values[\"cost\"])\n",
    "plt.show()\n"
   ]
  },
  {
   "cell_type": "code",
   "execution_count": 22,
   "metadata": {},
   "outputs": [
    {
     "name": "stdout",
     "output_type": "stream",
     "text": [
      "probability of admission: 0.32666925862295454\n"
     ]
    },
    {
     "name": "stderr",
     "output_type": "stream",
     "text": [
      "<ipython-input-17-1c759ca1bcc4>:48: DeprecationWarning: np.asscalar(a) is deprecated since NumPy v1.16, use a.item() instead\n",
      "  probability = np.asscalar(sigmoid(np.dot(x.T,theta)))\n"
     ]
    },
    {
     "data": {
      "text/html": [
       "<div>\n",
       "<style scoped>\n",
       "    .dataframe tbody tr th:only-of-type {\n",
       "        vertical-align: middle;\n",
       "    }\n",
       "\n",
       "    .dataframe tbody tr th {\n",
       "        vertical-align: top;\n",
       "    }\n",
       "\n",
       "    .dataframe thead th {\n",
       "        text-align: right;\n",
       "    }\n",
       "</style>\n",
       "<table border=\"1\" class=\"dataframe\">\n",
       "  <thead>\n",
       "    <tr style=\"text-align: right;\">\n",
       "      <th></th>\n",
       "      <th>intercept</th>\n",
       "      <th>exam1^1exam2^0</th>\n",
       "      <th>exam1^0exam2^1</th>\n",
       "      <th>exam1^2exam2^0</th>\n",
       "      <th>exam1^1exam2^1</th>\n",
       "      <th>exam1^0exam2^2</th>\n",
       "    </tr>\n",
       "  </thead>\n",
       "  <tbody>\n",
       "    <tr>\n",
       "      <th>0</th>\n",
       "      <td>1</td>\n",
       "      <td>-0.701209</td>\n",
       "      <td>-0.173386</td>\n",
       "      <td>0.491694</td>\n",
       "      <td>0.12158</td>\n",
       "      <td>0.030063</td>\n",
       "    </tr>\n",
       "  </tbody>\n",
       "</table>\n",
       "</div>"
      ],
      "text/plain": [
       "   intercept  exam1^1exam2^0  exam1^0exam2^1  exam1^2exam2^0  exam1^1exam2^1  \\\n",
       "0          1       -0.701209       -0.173386        0.491694         0.12158   \n",
       "\n",
       "   exam1^0exam2^2  \n",
       "0        0.030063  "
      ]
     },
     "execution_count": 22,
     "metadata": {},
     "output_type": "execute_result"
    }
   ],
   "source": [
    "### Predict an example\n",
    "student = pd.DataFrame({\"exam1\": [52], \"exam2\":[63]})\n",
    "student.insert(0, \"intercept\", 1)\n",
    "#normalizing\n",
    "for column_name in student.columns[1:]:\n",
    "    student[column_name] = (student[column_name] - mean_values[column_name]) / std_values[column_name]\n",
    "student = map_features(student, mapping_degree)\n",
    "print(\"probability of admission: \" + str(predict(student.T)))\n",
    "\n",
    "student"
   ]
  },
  {
   "cell_type": "code",
   "execution_count": 23,
   "metadata": {},
   "outputs": [
    {
     "name": "stdout",
     "output_type": "stream",
     "text": [
      "Accuracy : 96.0\n"
     ]
    },
    {
     "name": "stderr",
     "output_type": "stream",
     "text": [
      "<ipython-input-17-1c759ca1bcc4>:48: DeprecationWarning: np.asscalar(a) is deprecated since NumPy v1.16, use a.item() instead\n",
      "  probability = np.asscalar(sigmoid(np.dot(x.T,theta)))\n"
     ]
    }
   ],
   "source": [
    "### Calculate Accuracy\n",
    "acc = 0\n",
    "for i in range(0,x.shape[0]):\n",
    "    p = predict(pd.DataFrame(x.iloc[i,:]))\n",
    "    actual = y.iloc[i,0]\n",
    "    if(p >= 0.5):\n",
    "        p = 1\n",
    "    else:\n",
    "        p = 0\n",
    "    if(p == actual):\n",
    "        acc+=1\n",
    "print(\"Accuracy : \" + str((acc/x.shape[0]) * 100))\n",
    "\n"
   ]
  },
  {
   "cell_type": "code",
   "execution_count": 24,
   "metadata": {},
   "outputs": [
    {
     "name": "stderr",
     "output_type": "stream",
     "text": [
      "<ipython-input-17-1c759ca1bcc4>:48: DeprecationWarning: np.asscalar(a) is deprecated since NumPy v1.16, use a.item() instead\n",
      "  probability = np.asscalar(sigmoid(np.dot(x.T,theta)))\n"
     ]
    },
    {
     "data": {
      "image/png": "[encoded data removed]",
      "text/plain": [
       "<Figure size 432x288 with 1 Axes>"
      ]
     },
     "metadata": {},
     "output_type": "display_data"
    }
   ],
   "source": [
    "### Plot decision boundary\n",
    "x_min = train_data[\"exam1\"].min()\n",
    "x_max = train_data[\"exam1\"].max()\n",
    "y_min = train_data[\"exam2\"].min()\n",
    "y_max = train_data[\"exam2\"].max()\n",
    "x_grid, y_grid = np.meshgrid(np.arange(x_min, x_max, 1), np.arange(y_min, y_max, 1))\n",
    "xx = pd.DataFrame(x_grid.ravel(), columns=[\"exam1\"])\n",
    "yy = pd.DataFrame(y_grid.ravel(), columns=[\"exam2\"])\n",
    "z = pd.DataFrame({\"intercept\" : [1]*xx.shape[0]})\n",
    "z[\"exam1\"] = xx\n",
    "z[\"exam2\"] = yy\n",
    "z = normalize_features(z)\n",
    "z = map_features(z,mapping_degree)\n",
    "p = z.apply(lambda row: predict(pd.DataFrame(row)), axis=1)\n",
    "p = np.array(p.values)\n",
    "p = p.reshape(x_grid.shape)\n",
    "plt.scatter(train_data[train_data[\"admit\"] == 0][\"exam1\"], train_data[train_data[\"admit\"] == 0][\"exam2\"],marker=\"o\")\n",
    "plt.scatter(train_data[train_data[\"admit\"] == 1][\"exam1\"], train_data[train_data[\"admit\"] == 1][\"exam2\"],marker=\"x\")\n",
    "plt.contour(x_grid, y_grid, p, levels = [0.5]) #displays only decision boundary\n",
    "# plt.contour(x_grid, y_grid, p, 50, cmap=\"RdBu\") #display a colored contour\n",
    "# plt.colorbar()\n",
    "plt.show()\n",
    "# p"
   ]
  },
  {
   "cell_type": "code",
   "execution_count": 25,
   "metadata": {},
   "outputs": [
    {
     "data": {
      "text/plain": [
       "array([[4.86710229e-04, 5.82874911e-04, 6.96456306e-04, ...,\n",
       "        3.71997963e-01, 3.78891018e-01, 3.85299397e-01],\n",
       "       [5.60361983e-04, 6.71017091e-04, 8.01698349e-04, ...,\n",
       "        4.04232193e-01, 4.11312552e-01, 4.17881480e-01],\n",
       "       [6.44324950e-04, 7.71487723e-04, 9.21646302e-04, ...,\n",
       "        4.36998731e-01, 4.44205937e-01, 4.50878630e-01],\n",
       "       ...,\n",
       "       [2.54398035e-01, 2.89048722e-01, 3.25857959e-01, ...,\n",
       "        9.96616945e-01, 9.96697829e-01, 9.96769537e-01],\n",
       "       [2.65219181e-01, 3.00732953e-01, 3.38304706e-01, ...,\n",
       "        9.96784876e-01, 9.96861516e-01, 9.96929443e-01],\n",
       "       [2.76073436e-01, 3.12405994e-01, 3.50687040e-01, ...,\n",
       "        9.96940585e-01, 9.97013293e-01, 9.97077719e-01]])"
      ]
     },
     "execution_count": 25,
     "metadata": {},
     "output_type": "execute_result"
    }
   ],
   "source": [
    "p"
   ]
  },
  {
   "cell_type": "code",
   "execution_count": null,
   "metadata": {},
   "outputs": [],
   "source": []
  }
 ],
 "metadata": {
  "kernelspec": {
   "display_name": "Python 3 (ipykernel)",
   "language": "python",
   "name": "python3"
  },
  "language_info": {
   "codemirror_mode": {
    "name": "ipython",
    "version": 3
   },
   "file_extension": ".py",
   "mimetype": "text/x-python",
   "name": "python",
   "nbconvert_exporter": "python",
   "pygments_lexer": "ipython3",
   "version": "3.9.7"
  }
 },
 "nbformat": 4,
 "nbformat_minor": 4
}
