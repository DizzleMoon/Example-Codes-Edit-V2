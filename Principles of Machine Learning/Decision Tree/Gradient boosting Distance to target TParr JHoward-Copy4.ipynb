{
 "cells": [
  {
   "cell_type": "code",
   "execution_count": 49,
   "metadata": {},
   "outputs": [],
   "source": [
    "from typing import List, Dict, Iterable, Tuple, Callable\n",
    "from matplotlib import pyplot as plt\n",
    "from collections import Counter\n",
    "import sys\n",
    "import os\n",
    "import string\n",
    "import urllib.request\n",
    "import requests\n",
    "import curl\n",
    "import pycurl\n",
    "import webbrowser\n",
    "import numpy as np\n",
    "import math\n",
    "import pandas as pd\n",
    "# from IPython import qt\n",
    "from matplotlib.pyplot import figure\n",
    "from py.xml import raw\n",
    "from requests.api import get\n",
    "from matplotlib import pyplot as plt\n",
    "# from scratch.working_with_data import rescale\n",
    "# from scratch.multiple_regression import least_squares_fit, predict\n",
    "# from scratch.gradient_descent import gradient_step\n",
    "\n",
    "# from stats import mean, median, de_mean, standard_deviation, correlation\n",
    "# from gradient_descent import minimize_stochastic, maximize_stochastic, maximize_batch\n",
    "# from vector import dot, vector_add\n",
    "# from normal import normal_cdf\n",
    "# from matrix import make_matrix, get_column, shape, matrix_multiply\n",
    "# from logistic_regression import *\n",
    "\n",
    "import math\n",
    "import os\n",
    "import random\n",
    "import sys\n",
    "from functools import partial, reduce\n",
    "\n",
    "from scipy.optimize import fmin_tnc\n",
    "\n",
    "import tqdm\n",
    "\n",
    "from typing import*\n",
    "\n",
    "from collections import*\n",
    "from scipy import*\n",
    "from sklearn.metrics import*\n"
   ]
  },
  {
   "cell_type": "code",
   "execution_count": 50,
   "metadata": {},
   "outputs": [
    {
     "data": {
      "text/plain": [
       "array([-258., -218., -138.,   32.,  582.])"
      ]
     },
     "execution_count": 50,
     "metadata": {},
     "output_type": "execute_result"
    }
   ],
   "source": [
    "# Room Size\n",
    "sqft = np.array([750,800,850,900,950])\n",
    "# Rent\n",
    "rent = np.array([1160,1200,1280,1450,2000])\n",
    "# Average Rent\n",
    "f_0 = []\n",
    "for _ in range(0,len(rent)):\n",
    "    f_0.append(np.mean(rent))\n",
    "# Residuals\n",
    "resd = rent-f_0\n",
    "resd\n",
    "\n",
    "# \n",
    "# stats.describe(rent)\n"
   ]
  },
  {
   "cell_type": "code",
   "execution_count": 51,
   "metadata": {},
   "outputs": [
    {
     "name": "stdout",
     "output_type": "stream",
     "text": [
      "850.0\n",
      "825.0\n"
     ]
    }
   ],
   "source": [
    "# Square Feet\n",
    "sqft_mean_full = np.mean(sqft)\n",
    "print(sqft_mean_full)\n",
    "sqft_mean = np.mean(sqft[:-1])\n",
    "print(sqft_mean)"
   ]
  },
  {
   "cell_type": "code",
   "execution_count": 52,
   "metadata": {},
   "outputs": [
    {
     "name": "stdout",
     "output_type": "stream",
     "text": [
      "1418.0\n",
      "1272.5\n"
     ]
    }
   ],
   "source": [
    "# Rent\n",
    "rent_mean_full = np.mean(rent)\n",
    "print(rent_mean_full)\n",
    "rent_mean = np.mean(rent[:-1])\n",
    "print(rent_mean)"
   ]
  },
  {
   "cell_type": "code",
   "execution_count": 53,
   "metadata": {},
   "outputs": [
    {
     "name": "stdout",
     "output_type": "stream",
     "text": [
      "3\n",
      "2\n",
      "[[-145.5]\n",
      " [-145.5]\n",
      " [-145.5]\n",
      " [-145.5]\n",
      " [ 582. ]]\n"
     ]
    },
    {
     "data": {
      "text/plain": [
       "[-258.0, -218.0, -138.0, 32.0, 582.0]"
      ]
     },
     "execution_count": 53,
     "metadata": {},
     "output_type": "execute_result"
    }
   ],
   "source": [
    "resd_1 = []\n",
    "for i in range(len(rent)):\n",
    "    resd_1.append(rent[i] - rent_mean_full )\n",
    "    \n",
    "y_f2_mean = []\n",
    "resd_1\n",
    "\n",
    "resd_1\n",
    "resd_1_mean = np.mean(resd_1)\n",
    "\n",
    "abc = []\n",
    "abc_init = np.square(resd_1[0] - resd_1_mean)\n",
    "abc.append(abc_init)\n",
    "for i in range(1,5):\n",
    "    var_0 = np.sum((resd_1[i]-resd_1_mean)**2)\n",
    "    abc.append(var_0/(i))\n",
    "# abcd = np.sum(abc)/5\n",
    "# abcd\n",
    "abc\n",
    "\n",
    "# m = min(filter(lambda x: x > 0, abc))\n",
    "# m = min(i for i in abc if i > 0)\n",
    "# n = abc.index(m)\n",
    "# n\n",
    "# o = len(rent) - n\n",
    "\n",
    "# a = 0\n",
    "a_lst = []\n",
    "for i in abc:\n",
    "    if i > 0:\n",
    "        a_lst.append(i)\n",
    "#         a = 1\n",
    "# n = abc.index(m)\n",
    "# if a == 1:\n",
    "#     n = n - 1\n",
    "# o = len(y_f1) - n\n",
    "\n",
    "# m\n",
    "# Min\n",
    "min_a = min(a_lst)\n",
    "# min_a\n",
    "n = abc.index(min_a)\n",
    "o = len(rent) - n\n",
    "\n",
    "print(n)\n",
    "print(o)\n",
    "\n",
    "if n > o:\n",
    "    n = n + 1\n",
    "\n",
    "# Delta 2\n",
    "delta_pos = []\n",
    "delta_neg = []\n",
    "for i in range(0,len(rent)):\n",
    "    if i < n:\n",
    "        delta_pos.append(resd_1[i])\n",
    "    else:\n",
    "        delta_neg.append(resd_1[i])\n",
    "# delta_pos\n",
    "d_pos = np.mean(delta_pos)\n",
    "d_pos = d_pos * np.ones((n,1))\n",
    "d_pos\n",
    "\n",
    "if y_f2_mean == 0:\n",
    "    y_f2_ind = o\n",
    "    y_f2_mean = np.mean(y_f2[0:y_f2_ind])\n",
    "    d_pos = y_f2_mean * np.ones((y_f2_ind,1))\n",
    "    d_neg = delta_neg[o-n] * np.ones((len(rent)-o,1))\n",
    "d_pos    \n",
    "\n",
    "\n",
    "# delta_neg\n",
    "d_neg = np.mean(delta_neg)\n",
    "d_neg = d_neg * np.ones((o-1,1))\n",
    "d_neg\n",
    "\n",
    "delta_final_1 = np.vstack((d_pos,delta_neg))\n",
    "print(delta_final_1)\n",
    "\n",
    "resd_1"
   ]
  },
  {
   "cell_type": "code",
   "execution_count": 54,
   "metadata": {},
   "outputs": [
    {
     "name": "stdout",
     "output_type": "stream",
     "text": [
      "[[-145.5]\n",
      " [-145.5]\n",
      " [-145.5]\n",
      " [-145.5]]\n"
     ]
    },
    {
     "data": {
      "text/plain": [
       "array([[1272.5],\n",
       "       [1272.5],\n",
       "       [1272.5],\n",
       "       [1272.5],\n",
       "       [2000. ]])"
      ]
     },
     "execution_count": 54,
     "metadata": {},
     "output_type": "execute_result"
    }
   ],
   "source": [
    "# delta T\n",
    "delta_1 = np.mean(resd[0:len(rent)-1]) * np.ones((len(rent)-1,1))\n",
    "print(delta_1)\n",
    "# resd[len(rent)-1]\n",
    "# delta_1 = np.vstack((delta_1,resd[len(rent)-1]))\n",
    "# f_1 = np.mean(f_0[0:len(rent)-1])* np.ones((len(rent)-1,1)) + delta_1\n",
    "# f_1\n",
    "# f_0_1 = np.vstack(((np.mean(f_0[0:len(rent)])* np.ones((len(rent)-1,1))),rent[len(rent)-1])) \n",
    "f_0_1 = np.mean(f_0[0:len(rent)])* np.ones((len(rent)-1,1))\n",
    "f_0_1 = f_0_1 + delta_1\n",
    "f_1 = np.vstack((f_0_1,rent[len(rent)-1])) \n",
    "f_1"
   ]
  },
  {
   "cell_type": "code",
   "execution_count": 55,
   "metadata": {},
   "outputs": [
    {
     "data": {
      "text/plain": [
       "[array([-112.5]), array([-72.5]), array([7.5]), array([177.5]), array([0.])]"
      ]
     },
     "execution_count": 55,
     "metadata": {},
     "output_type": "execute_result"
    }
   ],
   "source": [
    "#y - F_1\n",
    "y_f1 = []\n",
    "for i in range(len(rent)):\n",
    "    y_f1.append(rent[i] - f_1[i]) \n",
    "y_f1"
   ]
  },
  {
   "cell_type": "code",
   "execution_count": 56,
   "metadata": {},
   "outputs": [
    {
     "data": {
      "text/plain": [
       "[-92.5, -92.5, 61.666666666666664, 61.666666666666664, 61.666666666666664]"
      ]
     },
     "execution_count": 56,
     "metadata": {},
     "output_type": "execute_result"
    }
   ],
   "source": [
    "# Delta 2\n",
    "delta_pos = []\n",
    "delta_neg = []\n",
    "for i in range(0,len(rent)):\n",
    "    if y_f1[i] >= 0:\n",
    "        delta_pos.append(y_f1[i])\n",
    "    else:\n",
    "        delta_neg.append(y_f1[i])\n",
    "delta_pos\n",
    "\n",
    "delta_2 = []\n",
    "for i in range(0,len(rent)):\n",
    "    if y_f1[i] >= 0:\n",
    "        delta_2.append(np.mean(delta_pos))\n",
    "    else:\n",
    "        delta_2.append(np.mean(delta_neg))\n",
    "delta_2"
   ]
  },
  {
   "cell_type": "code",
   "execution_count": 57,
   "metadata": {},
   "outputs": [
    {
     "data": {
      "text/plain": [
       "[array([1180.]),\n",
       " array([1180.]),\n",
       " array([1334.16666667]),\n",
       " array([1334.16666667]),\n",
       " array([2061.66666667])]"
      ]
     },
     "execution_count": 57,
     "metadata": {},
     "output_type": "execute_result"
    }
   ],
   "source": [
    "# F2\n",
    "f_2 = []\n",
    "for i in range(len(rent)):\n",
    "    f_2.append(f_1[i] + delta_2[i])\n",
    "f_2"
   ]
  },
  {
   "cell_type": "code",
   "execution_count": 58,
   "metadata": {},
   "outputs": [
    {
     "data": {
      "text/plain": [
       "[array([-20.]),\n",
       " array([20.]),\n",
       " array([-54.16666667]),\n",
       " array([115.83333333]),\n",
       " array([-61.66666667])]"
      ]
     },
     "execution_count": 58,
     "metadata": {},
     "output_type": "execute_result"
    }
   ],
   "source": [
    "# y - F2\n",
    "y_f2 = []\n",
    "for i in range(len(rent)):\n",
    "    y_f2.append(rent[i] - f_2[i]) \n",
    "y_f2"
   ]
  },
  {
   "cell_type": "code",
   "execution_count": 59,
   "metadata": {},
   "outputs": [
    {
     "data": {
      "text/plain": [
       "-20.0"
      ]
     },
     "execution_count": 59,
     "metadata": {},
     "output_type": "execute_result"
    }
   ],
   "source": [
    "np.median(y_f2)"
   ]
  },
  {
   "cell_type": "code",
   "execution_count": 60,
   "metadata": {},
   "outputs": [
    {
     "name": "stdout",
     "output_type": "stream",
     "text": [
      "[[ 15.41666667]\n",
      " [ 15.41666667]\n",
      " [ 15.41666667]\n",
      " [ 15.41666667]\n",
      " [-61.66666667]]\n"
     ]
    }
   ],
   "source": [
    "# delta T\n",
    "delta_3 = np.mean(y_f2[0:len(rent)-1]) * np.ones((len(rent)-1,1))\n",
    "delta_3 = np.vstack((delta_3,y_f2[len(rent)-1]))\n",
    "print(delta_3)"
   ]
  },
  {
   "cell_type": "code",
   "execution_count": 61,
   "metadata": {},
   "outputs": [
    {
     "data": {
      "text/plain": [
       "[array([1195.41666667]),\n",
       " array([1195.41666667]),\n",
       " array([1349.58333333]),\n",
       " array([1349.58333333]),\n",
       " array([2000.])]"
      ]
     },
     "execution_count": 61,
     "metadata": {},
     "output_type": "execute_result"
    }
   ],
   "source": [
    "# F3\n",
    "f_3 = []\n",
    "for i in range(len(rent)):\n",
    "    f_3.append(f_2[i] + delta_3[i])\n",
    "f_3"
   ]
  },
  {
   "cell_type": "code",
   "execution_count": 62,
   "metadata": {},
   "outputs": [
    {
     "data": {
      "text/plain": [
       "[array([-35.41666667]),\n",
       " array([4.58333333]),\n",
       " array([-69.58333333]),\n",
       " array([100.41666667]),\n",
       " array([0.])]"
      ]
     },
     "execution_count": 62,
     "metadata": {},
     "output_type": "execute_result"
    }
   ],
   "source": [
    "# y - F3\n",
    "y_f3 = []\n",
    "for i in range(len(rent)):\n",
    "    y_f3.append(rent[i] - f_3[i]) \n",
    "y_f3"
   ]
  },
  {
   "cell_type": "code",
   "execution_count": 63,
   "metadata": {},
   "outputs": [],
   "source": [
    "def find_best_split(x,y):\n",
    "    best_loss = np.inf\n",
    "    best_split = -1\n",
    "    print(f\"find_best_split in x={list(x)}\")\n",
    "    for v in x[1:]: # try all possible x values\n",
    "        lefty = y[x<v]\n",
    "        righty = y[x>=v]\n",
    "        nl = len(lefty)\n",
    "        nr = len(righty)\n",
    "        if nl==0 or nr==0:\n",
    "            continue\n",
    "        # variance is same as MSE here\n",
    "        # weight by proportion on left and right, get avg as loss\n",
    "        loss = (np.var(lefty)*nl + np.var(righty)*nr)/2\n",
    "        print(f\"{lefty} | {righty}    candidate split x ={v:4d} loss {loss:8.1f}\")\n",
    "        if loss < best_loss:\n",
    "            best_loss = loss\n",
    "            best_split = v\n",
    "    return float(best_loss), best_split"
   ]
  },
  {
   "cell_type": "code",
   "execution_count": 64,
   "metadata": {},
   "outputs": [
    {
     "name": "stdout",
     "output_type": "stream",
     "text": [
      "find_best_split in x=[750, 800, 850, 900, 950]\n",
      "[1160] | [1200 1280 1450 2000]    candidate split x = 800 loss 194837.5\n",
      "[1160 1200] | [1280 1450 2000]    candidate split x = 850 loss 142033.3\n",
      "[1160 1200 1280] | [1450 2000]    candidate split x = 900 loss  79358.3\n",
      "[1160 1200 1280 1450] | [2000]    candidate split x = 950 loss  24737.5\n"
     ]
    },
    {
     "data": {
      "text/plain": [
       "(24737.5, 950)"
      ]
     },
     "execution_count": 64,
     "metadata": {},
     "output_type": "execute_result"
    }
   ],
   "source": [
    "find_best_split(sqft,rent)"
   ]
  },
  {
   "cell_type": "code",
   "execution_count": 65,
   "metadata": {},
   "outputs": [
    {
     "name": "stdout",
     "output_type": "stream",
     "text": [
      "find_best_split in x=[750, 800, 850, 900, 950]\n",
      "[1160] | [1200 1280 1450 2000]    candidate split x = 800 loss 194837.5\n",
      "[1160 1200] | [1280 1450 2000]    candidate split x = 850 loss 142033.3\n",
      "[1160 1200 1280] | [1450 2000]    candidate split x = 900 loss  79358.3\n",
      "[1160 1200 1280 1450] | [2000]    candidate split x = 950 loss  24737.5\n",
      "[1160 1200 1280 1450]\n",
      "[2000]\n",
      "24737.5\n",
      "24737.5\n",
      "950\n"
     ]
    }
   ],
   "source": [
    "x = sqft\n",
    "y = rent\n",
    "best_loss = np.inf\n",
    "best_split = -1\n",
    "print(f\"find_best_split in x={list(x)}\")\n",
    "for v in x[1:]:\n",
    "    left_y = y[x<v]\n",
    "    right_y = y[x >= v]\n",
    "\n",
    "    nl = len(left_y)\n",
    "    nr = len(right_y)\n",
    "    \n",
    "    if nl == 0 or nr == 0:\n",
    "        continue\n",
    "    loss = (np.var(left_y)*nl + np.var(right_y)*nr)/2\n",
    "    print(f\"{left_y} | {right_y}    candidate split x ={v:4d} loss {loss:8.1f}\")\n",
    "    if loss < best_loss:\n",
    "        best_loss = loss\n",
    "        best_split = v\n",
    "    \n",
    "    \n",
    "print(left_y)\n",
    "print(right_y)\n",
    "print(loss)\n",
    "print(best_loss)\n",
    "print(best_split)"
   ]
  },
  {
   "cell_type": "code",
   "execution_count": 66,
   "metadata": {},
   "outputs": [
    {
     "data": {
      "text/plain": [
       "array([750, 800, 850, 900, 950])"
      ]
     },
     "execution_count": 66,
     "metadata": {},
     "output_type": "execute_result"
    }
   ],
   "source": [
    "sqft"
   ]
  },
  {
   "cell_type": "code",
   "execution_count": 67,
   "metadata": {},
   "outputs": [
    {
     "data": {
      "text/plain": [
       "[10000.0, 1250.0, 0.0, 625.0, 2000.0]"
      ]
     },
     "execution_count": 67,
     "metadata": {},
     "output_type": "execute_result"
    }
   ],
   "source": [
    "sqft_mean = np.mean(sqft)\n",
    "summ = []\n",
    "\n",
    "# for q in range(1,len(sqft)):\n",
    "#     sum1 = np.sum(sqft[:q])\n",
    "#     summ.append(sum1)\n",
    "# #     for p in summ:\n",
    "# #         print(p)\n",
    "# summ\n",
    "abc = []\n",
    "abc_init = np.square(sqft[0] - sqft_mean)\n",
    "abc.append(abc_init)\n",
    "for i in range(1,5):\n",
    "    var_0 = np.sum((sqft[i]-sqft_mean)**2)\n",
    "    abc.append(var_0/(i+1))\n",
    "# abcd = np.sum(abc)/5\n",
    "# abcd\n",
    "abc\n"
   ]
  },
  {
   "cell_type": "code",
   "execution_count": 68,
   "metadata": {},
   "outputs": [
    {
     "name": "stdout",
     "output_type": "stream",
     "text": [
      "n:  2\n",
      "o:  3\n"
     ]
    },
    {
     "data": {
      "text/plain": [
       "array([[-92.5       ],\n",
       "       [-92.5       ],\n",
       "       [ 61.66666667],\n",
       "       [ 61.66666667],\n",
       "       [ 61.66666667]])"
      ]
     },
     "execution_count": 68,
     "metadata": {},
     "output_type": "execute_result"
    }
   ],
   "source": [
    "y_f1\n",
    "y_f1_mean = np.mean(y_f1)\n",
    "\n",
    "abc = []\n",
    "abc_init = np.square(y_f1[0] - y_f1_mean)\n",
    "abc.append(abc_init)\n",
    "for i in range(1,5):\n",
    "    var_0 = np.sum((y_f1[i]-y_f1_mean)**2)\n",
    "    abc.append(var_0/(i+1))\n",
    "# abcd = np.sum(abc)/5\n",
    "# abcd\n",
    "abc\n",
    "\n",
    "\n",
    "a_lst = []\n",
    "for i in abc:\n",
    "    if i > 0:\n",
    "        a_lst.append(i)\n",
    "#         a = 1\n",
    "# n = abc.index(m)\n",
    "# if a == 1:\n",
    "#     n = n - 1\n",
    "# o = len(y_f1) - n\n",
    "\n",
    "# m\n",
    "# Min\n",
    "min_a = min(a_lst)\n",
    "# min_a\n",
    "n = abc.index(min_a)\n",
    "o = len(rent) - n\n",
    "\n",
    "print(\"n: \",n)\n",
    "print(\"o: \",o)\n",
    "\n",
    "if n > o:\n",
    "    n = n + 1\n",
    "\n",
    "# Delta 2\n",
    "delta_pos = []\n",
    "delta_neg = []\n",
    "for i in range(0,len(rent)):\n",
    "    if i < n:\n",
    "        delta_pos.append(y_f1[i])\n",
    "    else:\n",
    "        delta_neg.append(y_f1[i])\n",
    "delta_pos\n",
    "d_pos = np.mean(delta_pos)\n",
    "d_pos = d_pos * np.ones((n,1))\n",
    "d_pos\n",
    "\n",
    "delta_neg\n",
    "d_neg = np.mean(delta_neg)\n",
    "d_neg = d_neg * np.ones((o,1))\n",
    "d_neg\n",
    "\n",
    "if y_f2_mean == 0:\n",
    "    y_f2_ind = o\n",
    "    y_f2_mean = np.mean(y_f2[0:y_f2_ind])\n",
    "    d_pos = y_f2_mean * np.ones((y_f2_ind,1))\n",
    "    d_neg = delta_neg[o-n] * np.ones((len(rent)-o,1))\n",
    "d_pos    \n",
    "\n",
    "delta_final = np.vstack((d_pos,d_neg))\n",
    "delta_final"
   ]
  },
  {
   "cell_type": "code",
   "execution_count": 69,
   "metadata": {},
   "outputs": [
    {
     "name": "stdout",
     "output_type": "stream",
     "text": [
      "0.0\n",
      "N:  1\n",
      "O:  4\n",
      "[[ 15.41666667]\n",
      " [ 15.41666667]\n",
      " [ 15.41666667]\n",
      " [ 15.41666667]\n",
      " [-61.66666667]]\n",
      "[array([20.]), array([-54.16666667]), array([115.83333333]), array([-61.66666667])]\n",
      "[array([-20.])]\n",
      "15.416666666666629\n",
      "4\n",
      "[[-20.        ]\n",
      " [ 20.        ]\n",
      " [-54.16666667]\n",
      " [115.83333333]]\n"
     ]
    }
   ],
   "source": [
    "y_f2 = np.array(y_f2)\n",
    "y_f2_mean = np.mean(y_f2)\n",
    "print(y_f2_mean)\n",
    "\n",
    "# if y_f2_mean == 0:\n",
    "#     y_f2_mean = np.mean(y_f2[0:len(y_f2)-1])\n",
    "\n",
    "abc = []\n",
    "abc_init = np.square(y_f2[0] - y_f2_mean)\n",
    "abc.append(abc_init)\n",
    "for i in range(1,5):\n",
    "    var_0 = np.sum((y_f2[i]-y_f2_mean)**2)\n",
    "    abc.append(var_0/(i+1))\n",
    "# abcd = np.sum(abc)/5\n",
    "# abcd\n",
    "abc\n",
    "\n",
    "\n",
    "a_lst = []\n",
    "for i in abc:\n",
    "    if i > 0:\n",
    "        a_lst.append(i)\n",
    "#         a = 1\n",
    "# n = abc.index(m)\n",
    "# if a == 1:\n",
    "#     n = n - 1\n",
    "# o = len(y_f1) - n\n",
    "\n",
    "# m\n",
    "# Min\n",
    "min_a = min(a_lst)\n",
    "# min_a\n",
    "n = abc.index(min_a)\n",
    "o = len(rent) - n\n",
    "print(\"N: \", n)\n",
    "print(\"O: \",o)\n",
    "\n",
    "if n > o:\n",
    "    n = n + 1\n",
    "\n",
    "# Delta 2\n",
    "delta_pos = []\n",
    "delta_neg = []\n",
    "for i in range(0,len(rent)):\n",
    "    if i < n:\n",
    "        delta_pos.append(y_f2[i])\n",
    "    else:\n",
    "        delta_neg.append(y_f2[i])\n",
    "delta_pos\n",
    "d_pos = np.mean(delta_pos)\n",
    "d_pos = d_pos * np.ones((n,1))\n",
    "\n",
    "delta_neg\n",
    "d_neg = np.mean(delta_neg)\n",
    "d_neg = d_neg * np.ones((o,1))\n",
    "d_neg\n",
    "\n",
    "if y_f2_mean == 0:\n",
    "    y_f2_ind = o\n",
    "    y_f2_mean = np.mean(y_f2[0:y_f2_ind])\n",
    "    d_pos = y_f2_mean * np.ones((y_f2_ind,1))\n",
    "    d_neg = delta_neg[o-n] * np.ones((len(rent)-o,1))\n",
    "d_pos    \n",
    "# delta_neg[y_f2_ind-1]\n",
    "# d_neg\n",
    "# n\n",
    "delta_final = np.vstack((d_pos,d_neg))\n",
    "print(delta_final)\n",
    "# delta_neg[len(y_f2)-1]\n",
    "# delta_neg\n",
    "print(delta_neg)\n",
    "print(delta_pos)\n",
    "print(y_f2_mean)\n",
    "print(y_f2_ind)\n",
    "print(y_f2[0:o])"
   ]
  },
  {
   "cell_type": "code",
   "execution_count": 70,
   "metadata": {},
   "outputs": [
    {
     "data": {
      "text/plain": [
       "[array([1195.41666667]),\n",
       " array([1195.41666667]),\n",
       " array([1349.58333333]),\n",
       " array([1349.58333333]),\n",
       " array([2000.])]"
      ]
     },
     "execution_count": 70,
     "metadata": {},
     "output_type": "execute_result"
    }
   ],
   "source": [
    "# F3\n",
    "f_3 = []\n",
    "for i in range(len(rent)):\n",
    "    f_3.append(f_2[i] + delta_final[i])\n",
    "f_3"
   ]
  },
  {
   "cell_type": "code",
   "execution_count": 71,
   "metadata": {},
   "outputs": [
    {
     "data": {
      "text/plain": [
       "[array([-35.41666667]),\n",
       " array([4.58333333]),\n",
       " array([-69.58333333]),\n",
       " array([100.41666667]),\n",
       " array([0.])]"
      ]
     },
     "execution_count": 71,
     "metadata": {},
     "output_type": "execute_result"
    }
   ],
   "source": [
    "# y - F3\n",
    "y_f3 = []\n",
    "for i in range(len(rent)):\n",
    "    y_f3.append(rent[i] - f_3[i]) \n",
    "y_f3\n",
    "\n"
   ]
  },
  {
   "cell_type": "code",
   "execution_count": 72,
   "metadata": {},
   "outputs": [
    {
     "data": {
      "text/plain": [
       "[array([-35.41666667]),\n",
       " array([4.58333333]),\n",
       " array([-69.58333333]),\n",
       " array([100.41666667]),\n",
       " array([0.])]"
      ]
     },
     "execution_count": 72,
     "metadata": {},
     "output_type": "execute_result"
    }
   ],
   "source": [
    "# y - F3\n",
    "y_f3 = []\n",
    "for i in range(len(rent)):\n",
    "    y_f3.append(rent[i] - f_3[i]) \n",
    "y_f3\n",
    "\n",
    "# y_f3_ind = y_f3.index(0)\n",
    "# y_f3_ind\n"
   ]
  },
  {
   "cell_type": "code",
   "execution_count": 73,
   "metadata": {},
   "outputs": [
    {
     "name": "stdout",
     "output_type": "stream",
     "text": [
      "N:  1\n",
      "O:  4\n",
      "4\n",
      "[array([4.58333333]), array([-69.58333333]), array([100.41666667]), array([0.])]\n",
      "[array([-35.41666667])]\n",
      "[[-33.47222222]\n",
      " [-33.47222222]\n",
      " [-33.47222222]\n",
      " [-33.47222222]]\n",
      "[[0.]]\n",
      "-33.47222222222217\n",
      "[[-33.47222222]\n",
      " [-33.47222222]\n",
      " [-33.47222222]\n",
      " [-33.47222222]\n",
      " [  0.        ]]\n"
     ]
    }
   ],
   "source": [
    "y_f3 = np.array(y_f3)\n",
    "y_f3_mean = np.mean(y_f3)\n",
    "\n",
    "# if y_f2_mean == 0:\n",
    "#     y_f2_mean = np.mean(y_f2[0:len(y_f2)-1])\n",
    "\n",
    "abc = []\n",
    "abc_init = np.square(y_f3[0] - y_f3_mean)\n",
    "abc.append(abc_init)\n",
    "for i in range(1,5):\n",
    "    var_0 = np.sum((y_f3[i]-y_f3_mean)**2)\n",
    "    abc.append(var_0/(i+1))\n",
    "# abcd = np.sum(abc)/5\n",
    "# abcd\n",
    "abc = abc[0].tolist() + abc[1:5]\n",
    "abc\n",
    "\n",
    "\n",
    "a_lst = []\n",
    "for i in abc:\n",
    "    if i > 0:\n",
    "        a_lst.append(i)\n",
    "#         a = 1\n",
    "# n = abc.index(m)\n",
    "# if a == 1:\n",
    "#     n = n - 1\n",
    "# o = len(y_f1) - n\n",
    "a_lst\n",
    "\n",
    "# m\n",
    "# Min\n",
    "min_a = min(a_lst)\n",
    "# min_a\n",
    "n = abc.index(min_a)\n",
    "o = len(rent) - n\n",
    "print(\"N: \", n)\n",
    "print(\"O: \", o)\n",
    "\n",
    "if n > o:\n",
    "    n = n+1\n",
    "\n",
    "# Delta 2\n",
    "delta_pos = []\n",
    "delta_neg = []\n",
    "for i in range(0,len(rent)):\n",
    "    if i < n:\n",
    "        delta_pos.append(y_f3[i])\n",
    "    else:\n",
    "        delta_neg.append(y_f3[i])\n",
    "delta_pos\n",
    "# d_pos = np.mean(delta_pos)\n",
    "# d_pos = d_pos * np.ones((n+1,1))\n",
    "# d_pos\n",
    "delta_neg\n",
    "# d_neg = np.mean(delta_neg)\n",
    "# d_neg = d_neg * np.ones((o,1))\n",
    "# d_neg\n",
    "\n",
    "if y_f3_mean == 0:\n",
    "    y_f3_ind = o\n",
    "    print(y_f3_ind)\n",
    "    if y_f3_ind >= 0:\n",
    "        y_f3_mean = np.mean(y_f3[0:y_f3_ind-1])\n",
    "        d_pos = y_f3_mean * np.ones((y_f3_ind,1))\n",
    "    #     d_neg = y_f3_mean\n",
    "        d_neg = delta_neg[o-n] * np.ones((len(rent)-o,1))\n",
    "    else:\n",
    "        y_f3_mean = np.mean(y_f3[0:y_f3_ind])\n",
    "        d_pos = y_f3_mean * np.ones((y_f3_ind,1))\n",
    "    #     d_neg = y_f3_mean\n",
    "        d_neg = delta_neg[o-n] * np.ones((len(rent)-o,1))\n",
    "# d_pos    \n",
    "# # delta_neg[y_f2_ind-1]\n",
    "# d_neg\n",
    "# # n\n",
    "delta_final = np.vstack((d_pos,d_neg))\n",
    "# # delta_neg[len(y_f2)-1]\n",
    "print(delta_neg)\n",
    "print(delta_pos)\n",
    "print(d_pos)\n",
    "print(d_neg)\n",
    "print(y_f3_mean)\n",
    "print(delta_final)"
   ]
  },
  {
   "cell_type": "code",
   "execution_count": 74,
   "metadata": {},
   "outputs": [
    {
     "name": "stdout",
     "output_type": "stream",
     "text": [
      "[[-33.47222222]\n",
      " [-33.47222222]\n",
      " [-33.47222222]\n",
      " [-33.47222222]\n",
      " [  0.        ]]\n"
     ]
    }
   ],
   "source": [
    "if y_f3_mean == 0:\n",
    "    y_f3_ind = o\n",
    "    y_f3_mean = np.mean(y_f3[0:y_f3_ind])\n",
    "    d_pos = y_f3_mean * np.ones((y_f3_ind,1))\n",
    "    d_neg = delta_neg[o-n] * np.ones((len(rent)-o,1))\n",
    "d_pos \n",
    "d_neg\n",
    "\n",
    "delta_final = np.vstack((d_pos,d_neg))\n",
    "print(delta_final)"
   ]
  },
  {
   "cell_type": "code",
   "execution_count": 75,
   "metadata": {},
   "outputs": [
    {
     "data": {
      "text/plain": [
       "[array([1161.94444444]),\n",
       " array([1161.94444444]),\n",
       " array([1316.11111111]),\n",
       " array([1316.11111111]),\n",
       " array([2000.])]"
      ]
     },
     "execution_count": 75,
     "metadata": {},
     "output_type": "execute_result"
    }
   ],
   "source": [
    "# F4\n",
    "f_4 = []\n",
    "for i in range(len(rent)):\n",
    "    f_4.append(f_3[i] + delta_final[i])\n",
    "f_4"
   ]
  },
  {
   "cell_type": "code",
   "execution_count": 76,
   "metadata": {},
   "outputs": [
    {
     "data": {
      "text/plain": [
       "[array([-1.94444444]),\n",
       " array([38.05555556]),\n",
       " array([-36.11111111]),\n",
       " array([133.88888889]),\n",
       " array([0.])]"
      ]
     },
     "execution_count": 76,
     "metadata": {},
     "output_type": "execute_result"
    }
   ],
   "source": [
    "# y - F4\n",
    "y_f4 = []\n",
    "for i in range(len(rent)):\n",
    "    y_f4.append(rent[i] - f_4[i]) \n",
    "y_f4\n",
    "\n",
    "# y_f3_ind = y_f3.index(0)\n",
    "# y_f3_ind\n"
   ]
  },
  {
   "cell_type": "code",
   "execution_count": 77,
   "metadata": {},
   "outputs": [
    {
     "data": {
      "text/plain": [
       "42.0"
      ]
     },
     "execution_count": 77,
     "metadata": {},
     "output_type": "execute_result"
    }
   ],
   "source": [
    "rms = mean_absolute_error(rent,f_4)\n",
    "rms"
   ]
  },
  {
   "cell_type": "code",
   "execution_count": 78,
   "metadata": {},
   "outputs": [
    {
     "data": {
      "text/plain": [
       "202906.16666666663"
      ]
     },
     "execution_count": 78,
     "metadata": {},
     "output_type": "execute_result"
    }
   ],
   "source": [
    "MSE = np.square(np.subtract(rent,f_2)).mean() \n",
    "MSE"
   ]
  },
  {
   "cell_type": "code",
   "execution_count": 79,
   "metadata": {},
   "outputs": [],
   "source": [
    "# Plot 1\n",
    "ff = []\n",
    "for i in range(len(rent)):\n",
    "    ff.append(f_0[i] + delta_final_1[i] + delta_2[i] + delta_3[i])\n",
    "# ff = np.multiply(0.5,ff)"
   ]
  },
  {
   "cell_type": "code",
   "execution_count": 80,
   "metadata": {},
   "outputs": [
    {
     "data": {
      "image/png": "[encoded data removed]",
      "text/plain": [
       "<Figure size 432x288 with 1 Axes>"
      ]
     },
     "metadata": {
      "needs_background": "light"
     },
     "output_type": "display_data"
    }
   ],
   "source": [
    "plt.scatter(sqft,rent)\n",
    "plt.plot(sqft,ff, marker='*', color='red')\n",
    "plt.grid()\n",
    "plt.show()"
   ]
  },
  {
   "cell_type": "code",
   "execution_count": 81,
   "metadata": {},
   "outputs": [
    {
     "data": {
      "text/plain": [
       "[array([1195.41666667]),\n",
       " array([1195.41666667]),\n",
       " array([1349.58333333]),\n",
       " array([1349.58333333]),\n",
       " array([2000.])]"
      ]
     },
     "execution_count": 81,
     "metadata": {},
     "output_type": "execute_result"
    }
   ],
   "source": [
    "ff"
   ]
  },
  {
   "cell_type": "code",
   "execution_count": 82,
   "metadata": {},
   "outputs": [
    {
     "data": {
      "text/plain": [
       "array([1349.58333333])"
      ]
     },
     "execution_count": 82,
     "metadata": {},
     "output_type": "execute_result"
    }
   ],
   "source": [
    "sqft[len(ff)//2]\n",
    "sqft\n",
    "ff[-2]"
   ]
  },
  {
   "cell_type": "code",
   "execution_count": 83,
   "metadata": {},
   "outputs": [
    {
     "name": "stdout",
     "output_type": "stream",
     "text": [
      "4\n",
      "[array([1195.41666667]) array([1195.41666667]) array([1195.41666667])\n",
      " array([1195.41666667]) array([1349.58333333]) array([1349.58333333])\n",
      " array([1349.58333333]) array([2000.]) 2000]\n",
      "[750, 800, 825.0, 825.0, 850, 900, 925.0, 925.0, 950]\n"
     ]
    },
    {
     "name": "stderr",
     "output_type": "stream",
     "text": [
      "C:\\Users\\USER\\anaconda3\\lib\\site-packages\\numpy\\core\\_asarray.py:171: VisibleDeprecationWarning: Creating an ndarray from ragged nested sequences (which is a list-or-tuple of lists-or-tuples-or ndarrays with different lengths or shapes) is deprecated. If you meant to do this, you must specify 'dtype=object' when creating the ndarray.\n",
      "  return array(a, dtype, copy=False, order=order, subok=True)\n"
     ]
    }
   ],
   "source": [
    "# Create stepped plots\n",
    "sqft_2 = []\n",
    "rent_2 = []\n",
    "for i in range(1,len(ff)):\n",
    "    sqft_2.append(sqft[i-1])\n",
    "    rent_2.append(ff[i])\n",
    "    if abs(ff[i]-ff[i-1]) != 0:\n",
    "#         print((sqft[i] + sqft[i-1])/2)\n",
    "        sqft_2.append((sqft[i] + sqft[i-1])/2)\n",
    "        sqft_2.append((sqft[i] + sqft[i-1])/2)\n",
    "        rent_2.append(ff[1])   \n",
    "        rent_2.append(ff[i-1])\n",
    "    if i == len(ff)-1:\n",
    "        print(i)\n",
    "        sqft_2.append(sqft[len(rent)-1])\n",
    "        rent_2.append(rent[len(rent)-1])  \n",
    "        \n",
    "rent_2 = np.sort(rent_2)      \n",
    "print(rent_2)\n",
    "print(sqft_2)"
   ]
  },
  {
   "cell_type": "code",
   "execution_count": 84,
   "metadata": {},
   "outputs": [
    {
     "data": {
      "text/plain": [
       "array([array([1195.41666667]), array([1195.41666667]),\n",
       "       array([1195.41666667]), array([1349.58333333]),\n",
       "       array([1349.58333333]), array([1349.58333333]),\n",
       "       array([1349.58333333]), 2000, 2000], dtype=object)"
      ]
     },
     "execution_count": 84,
     "metadata": {},
     "output_type": "execute_result"
    }
   ],
   "source": [
    "for j in range(1,len(rent_2)):\n",
    "    if sqft_2[j] - sqft_2[j-1] == 0:\n",
    "        rent_2[j] = rent_2[j+1]\n",
    "rent_2\n"
   ]
  },
  {
   "cell_type": "code",
   "execution_count": 85,
   "metadata": {},
   "outputs": [
    {
     "data": {
      "text/plain": [
       "array([1160, 1200, 1280, 1450, 2000])"
      ]
     },
     "execution_count": 85,
     "metadata": {},
     "output_type": "execute_result"
    }
   ],
   "source": [
    "rent"
   ]
  },
  {
   "cell_type": "code",
   "execution_count": 86,
   "metadata": {},
   "outputs": [
    {
     "data": {
      "image/png": "[encoded data removed]",
      "text/plain": [
       "<Figure size 432x288 with 1 Axes>"
      ]
     },
     "metadata": {
      "needs_background": "light"
     },
     "output_type": "display_data"
    }
   ],
   "source": [
    "plt.scatter(sqft,rent)\n",
    "plt.scatter(sqft_2,rent_2, marker='+', color='darkviolet')\n",
    "plt.plot(sqft_2,rent_2, color='darkorange')\n",
    "# plt.plot(sqft,ff, marker='*', color='red')\n",
    "plt.grid()\n",
    "plt.show()"
   ]
  },
  {
   "cell_type": "code",
   "execution_count": 87,
   "metadata": {},
   "outputs": [
    {
     "data": {
      "text/plain": [
       "[array([1195.41666667]),\n",
       " array([1195.41666667]),\n",
       " array([1349.58333333]),\n",
       " array([1349.58333333]),\n",
       " array([2000.])]"
      ]
     },
     "execution_count": 87,
     "metadata": {},
     "output_type": "execute_result"
    }
   ],
   "source": [
    "ff"
   ]
  },
  {
   "cell_type": "code",
   "execution_count": null,
   "metadata": {},
   "outputs": [],
   "source": []
  }
 ],
 "metadata": {
  "kernelspec": {
   "display_name": "Python 3 (ipykernel)",
   "language": "python",
   "name": "python3"
  },
  "language_info": {
   "codemirror_mode": {
    "name": "ipython",
    "version": 3
   },
   "file_extension": ".py",
   "mimetype": "text/x-python",
   "name": "python",
   "nbconvert_exporter": "python",
   "pygments_lexer": "ipython3",
   "version": "3.9.7"
  }
 },
 "nbformat": 4,
 "nbformat_minor": 4
}
