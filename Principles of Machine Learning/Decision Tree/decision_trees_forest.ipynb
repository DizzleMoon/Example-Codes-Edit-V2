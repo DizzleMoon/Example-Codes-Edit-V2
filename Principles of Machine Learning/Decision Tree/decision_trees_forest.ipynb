{
 "cells": [
  {
   "cell_type": "markdown",
   "metadata": {},
   "source": [
    "# Decision Trees\n",
    "\n",
    "Chapter 17 of _Data Science from Scratch_."
   ]
  },
  {
   "cell_type": "code",
   "execution_count": 1,
   "metadata": {},
   "outputs": [],
   "source": [
    "import math\n",
    "import random\n",
    "from collections import Counter, defaultdict\n",
    "from functools import partial"
   ]
  },
  {
   "cell_type": "markdown",
   "metadata": {},
   "source": [
    "## Entropy"
   ]
  },
  {
   "cell_type": "code",
   "execution_count": 2,
   "metadata": {},
   "outputs": [],
   "source": [
    "def entropy(class_probabilities):\n",
    "    \"\"\"given a list of class probabilities, compute the entropy\"\"\"\n",
    "    return sum(-p * math.log(p, 2)\n",
    "               for p in class_probabilities\n",
    "               if p)"
   ]
  },
  {
   "cell_type": "code",
   "execution_count": 3,
   "metadata": {},
   "outputs": [],
   "source": [
    "def class_probabilities(labels):\n",
    "    total_count = len(labels)\n",
    "    return [count / total_count for count in Counter(labels).values()]"
   ]
  },
  {
   "cell_type": "code",
   "execution_count": 4,
   "metadata": {},
   "outputs": [],
   "source": [
    "def data_entropy(labeled_data):\n",
    "    labels = [label for _, label in labeled_data]\n",
    "    probabilities = class_probabilities(labels)\n",
    "    return entropy(probabilities)"
   ]
  },
  {
   "cell_type": "markdown",
   "metadata": {},
   "source": [
    "## Entropy of some test strings\n",
    "\n",
    "Just for kicks, let's check on the entropy of some english, plus some HTML."
   ]
  },
  {
   "cell_type": "code",
   "execution_count": 5,
   "metadata": {},
   "outputs": [
    {
     "data": {
      "text/plain": [
       "3.7659573209491746"
      ]
     },
     "execution_count": 5,
     "metadata": {},
     "output_type": "execute_result"
    }
   ],
   "source": [
    "entropy(class_probabilities('This is just a regular english sentence.'))"
   ]
  },
  {
   "cell_type": "code",
   "execution_count": 6,
   "metadata": {},
   "outputs": [],
   "source": [
    "a = [random.choice('ABCDEFGHIJKLMNOPQRSTUVWXYZabcdefghijklmnopqrstuvwxyz</>.!?,\";') for i in range(174378)]"
   ]
  },
  {
   "cell_type": "code",
   "execution_count": 7,
   "metadata": {},
   "outputs": [
    {
     "data": {
      "text/plain": [
       "5.9305148661526585"
      ]
     },
     "execution_count": 7,
     "metadata": {},
     "output_type": "execute_result"
    }
   ],
   "source": [
    "entropy(class_probabilities(a))"
   ]
  },
  {
   "cell_type": "code",
   "execution_count": 8,
   "metadata": {},
   "outputs": [
    {
     "data": {
      "text/plain": [
       "174378"
      ]
     },
     "execution_count": 8,
     "metadata": {},
     "output_type": "execute_result"
    }
   ],
   "source": [
    "import requests\n",
    "f = requests.get('http://shakespeare.mit.edu/midsummer/full.html')\n",
    "msnd = f.text\n",
    "len(msnd)"
   ]
  },
  {
   "cell_type": "code",
   "execution_count": 9,
   "metadata": {},
   "outputs": [
    {
     "data": {
      "text/plain": [
       "5.226816008054085"
      ]
     },
     "execution_count": 9,
     "metadata": {},
     "output_type": "execute_result"
    }
   ],
   "source": [
    "entropy(class_probabilities(msnd))"
   ]
  },
  {
   "cell_type": "markdown",
   "metadata": {},
   "source": [
    "## Building a decision tree"
   ]
  },
  {
   "cell_type": "code",
   "execution_count": 10,
   "metadata": {},
   "outputs": [],
   "source": [
    "inputs = [\n",
    "    ({'level':'Senior','lang':'Java','tweets':'no','phd':'no'},   False),\n",
    "    ({'level':'Senior','lang':'Java','tweets':'no','phd':'yes'},  False),\n",
    "    ({'level':'Mid','lang':'Python','tweets':'no','phd':'no'},     True),\n",
    "    ({'level':'Junior','lang':'Python','tweets':'no','phd':'no'},  True),\n",
    "    ({'level':'Junior','lang':'R','tweets':'yes','phd':'no'},      True),\n",
    "    ({'level':'Junior','lang':'R','tweets':'yes','phd':'yes'},    False),\n",
    "    ({'level':'Mid','lang':'R','tweets':'yes','phd':'yes'},        True),\n",
    "    ({'level':'Senior','lang':'Python','tweets':'no','phd':'no'}, False),\n",
    "    ({'level':'Senior','lang':'R','tweets':'yes','phd':'no'},      True),\n",
    "    ({'level':'Junior','lang':'Python','tweets':'yes','phd':'no'}, True),\n",
    "    ({'level':'Senior','lang':'Python','tweets':'yes','phd':'yes'},True),\n",
    "    ({'level':'Mid','lang':'Python','tweets':'no','phd':'yes'},    True),\n",
    "    ({'level':'Mid','lang':'Java','tweets':'yes','phd':'no'},      True),\n",
    "    ({'level':'Junior','lang':'Python','tweets':'no','phd':'yes'},False)\n",
    "]"
   ]
  },
  {
   "cell_type": "code",
   "execution_count": 11,
   "metadata": {},
   "outputs": [],
   "source": [
    "def partition_entropy(subsets):\n",
    "    \"\"\"\n",
    "    find the entropy from this partition of data into subsets\n",
    "    \n",
    "    subsets is a list of lists of labeled data\n",
    "    \"\"\"\n",
    "    total_count = sum(len(subset) for subset in subsets)\n",
    "    return sum( data_entropy(subset) * len(subset) / total_count for subset in subsets )"
   ]
  },
  {
   "cell_type": "code",
   "execution_count": 12,
   "metadata": {},
   "outputs": [],
   "source": [
    "def partition_by(inputs, attribute):\n",
    "    \"\"\"returns a dict of inputs partitioned by the attribute\n",
    "    each input is a pair (attribute_dict, label)\"\"\"\n",
    "    return group_by(inputs, lambda x: x[0][attribute])"
   ]
  },
  {
   "cell_type": "code",
   "execution_count": 13,
   "metadata": {},
   "outputs": [],
   "source": [
    "def partition_entropy_by(inputs, attribute):\n",
    "    \"\"\"computes the entropy corresponding to the given partition\"\"\"\n",
    "    partitions = partition_by(inputs, attribute)\n",
    "    return partition_entropy(partitions.values())"
   ]
  },
  {
   "cell_type": "code",
   "execution_count": 14,
   "metadata": {},
   "outputs": [],
   "source": [
    "def group_by(items, key_fn):\n",
    "    \"\"\"returns a defaultdict(list), where each input item\n",
    "    is in the list whose key is key_fn(item)\"\"\"\n",
    "    groups = defaultdict(list)\n",
    "    for item in items:\n",
    "        groups[key_fn(item)].append(item)\n",
    "    return groups"
   ]
  },
  {
   "cell_type": "code",
   "execution_count": 15,
   "metadata": {},
   "outputs": [
    {
     "name": "stdout",
     "output_type": "stream",
     "text": [
      "level 0.6935361388961919\n",
      "lang 0.8601317128547441\n",
      "tweets 0.7884504573082896\n",
      "phd 0.8921589282623617\n"
     ]
    }
   ],
   "source": [
    "for key in ['level','lang','tweets','phd']:\n",
    "    print(key, partition_entropy_by(inputs, key))"
   ]
  },
  {
   "cell_type": "code",
   "execution_count": 16,
   "metadata": {},
   "outputs": [
    {
     "name": "stdout",
     "output_type": "stream",
     "text": [
      "Senior       2 3\n",
      "Mid          4 0\n",
      "Junior       3 2\n"
     ]
    }
   ],
   "source": [
    "gb_level = partition_by(inputs, 'level')\n",
    "for key, items in gb_level.items():\n",
    "    print('{:12} {} {}'.format(key, sum(1 for item in items if item[1]), sum(1 for item in items if not item[1])))"
   ]
  },
  {
   "cell_type": "code",
   "execution_count": 17,
   "metadata": {},
   "outputs": [
    {
     "name": "stdout",
     "output_type": "stream",
     "text": [
      "lang 0.4\n",
      "tweets 0.0\n",
      "phd 0.9509775004326938\n"
     ]
    }
   ],
   "source": [
    "for key in ['lang','tweets','phd']:\n",
    "    print(key, partition_entropy_by(gb_level['Senior'], key))"
   ]
  },
  {
   "cell_type": "code",
   "execution_count": 18,
   "metadata": {},
   "outputs": [
    {
     "name": "stdout",
     "output_type": "stream",
     "text": [
      "Java         1 2\n",
      "Python       5 2\n",
      "R            3 1\n"
     ]
    }
   ],
   "source": [
    "gb_level = partition_by(inputs, 'lang')\n",
    "for key, items in gb_level.items():\n",
    "    print('{:12} {} {}'.format(key, sum(1 for item in items if item[1]), sum(1 for item in items if not item[1])))"
   ]
  },
  {
   "cell_type": "code",
   "execution_count": 19,
   "metadata": {},
   "outputs": [],
   "source": [
    "def classify(tree, input):\n",
    "    \"\"\"classify the input using the given decision tree\"\"\"\n",
    "\n",
    "    # if this is a leaf node, return its value\n",
    "    if tree in [True, False]:\n",
    "        return tree\n",
    "\n",
    "    # otherwise this tree consists of an attribute to split on\n",
    "    # and a dictionary whose keys are values of that attribute\n",
    "    # and whose values of are subtrees to consider next\n",
    "    attribute, subtree_dict = tree\n",
    "#     print(\"Sub Dict:\", subtree_dict)\n",
    "\n",
    "    subtree_key = input.get(attribute)  # None if input is missing attribute\n",
    "\n",
    "    if subtree_key not in subtree_dict: # if no subtree for key,\n",
    "        subtree_key = None              # we'll use the None subtree\n",
    "\n",
    "    subtree = subtree_dict[subtree_key] # choose the appropriate subtree\n",
    "#     print(\"SubtreeA: \")\n",
    "    return classify(subtree, input)     # and use it to classify the input"
   ]
  },
  {
   "cell_type": "code",
   "execution_count": 20,
   "metadata": {},
   "outputs": [],
   "source": [
    "def build_tree_id3(inputs, split_candidates=None):\n",
    "\n",
    "    # if this is our first pass,\n",
    "    # all keys of the first input are split candidates\n",
    "    if split_candidates is None:\n",
    "        split_candidates = inputs[0][0].keys()\n",
    "\n",
    "    # count Trues and Falses in the inputs\n",
    "    num_trues = len([label for item, label in inputs if label])\n",
    "    num_falses = len(inputs) - num_trues\n",
    "    \n",
    "    if num_trues == 0:\n",
    "        return False\n",
    "    \n",
    "    if num_falses == 0:\n",
    "        return True\n",
    "    \n",
    "    if not split_candidates:\n",
    "        return num_trues >= num_falses\n",
    "\n",
    "    # otherwise, split on the best attribute\n",
    "    best_attribute = min(split_candidates,\n",
    "        key=partial(partition_entropy_by, inputs))\n",
    "    \n",
    "    partitions = partition_by(inputs, best_attribute)\n",
    "    new_candidates = [a for a in split_candidates if a != best_attribute]\n",
    "    \n",
    "    # recursively build the subtrees\n",
    "    subtrees = { attribute : build_tree_id3(subset, new_candidates)\n",
    "                 for attribute, subset in partitions.items() }\n",
    "    \n",
    "    subtrees[None] = num_trues > num_falses # default case\n",
    "    \n",
    "    return (best_attribute, subtrees)"
   ]
  },
  {
   "cell_type": "code",
   "execution_count": 21,
   "metadata": {},
   "outputs": [],
   "source": [
    "tree = build_tree_id3(inputs)"
   ]
  },
  {
   "cell_type": "code",
   "execution_count": 22,
   "metadata": {},
   "outputs": [
    {
     "data": {
      "text/plain": [
       "False"
      ]
     },
     "execution_count": 22,
     "metadata": {},
     "output_type": "execute_result"
    }
   ],
   "source": [
    "classify(tree, {'level':'Junior','lang':'Python','tweets':'yes','phd':'yes'})"
   ]
  },
  {
   "cell_type": "code",
   "execution_count": 23,
   "metadata": {},
   "outputs": [
    {
     "data": {
      "text/plain": [
       "('level',\n",
       " {'Senior': ('tweets', {'no': False, 'yes': True, None: False}),\n",
       "  'Mid': True,\n",
       "  'Junior': ('phd', {'no': True, 'yes': False, None: True}),\n",
       "  None: True})"
      ]
     },
     "execution_count": 23,
     "metadata": {},
     "output_type": "execute_result"
    }
   ],
   "source": [
    "tree"
   ]
  },
  {
   "cell_type": "code",
   "execution_count": 24,
   "metadata": {},
   "outputs": [
    {
     "data": {
      "text/plain": [
       "True"
      ]
     },
     "execution_count": 24,
     "metadata": {},
     "output_type": "execute_result"
    }
   ],
   "source": [
    "classify(tree, { \"level\" : \"Junior\",\n",
    "                 \"lang\" : \"Java\",\n",
    "                 \"tweets\" : \"yes\",\n",
    "                 \"phd\" : \"no\"} )"
   ]
  },
  {
   "cell_type": "code",
   "execution_count": 25,
   "metadata": {},
   "outputs": [
    {
     "data": {
      "text/plain": [
       "False"
      ]
     },
     "execution_count": 25,
     "metadata": {},
     "output_type": "execute_result"
    }
   ],
   "source": [
    "classify(tree, { \"level\" : \"Junior\",\n",
    "                 \"lang\" : \"Java\",\n",
    "                 \"tweets\" : \"yes\",\n",
    "                 \"phd\" : \"yes\"} )"
   ]
  },
  {
   "cell_type": "code",
   "execution_count": 26,
   "metadata": {},
   "outputs": [
    {
     "data": {
      "text/plain": [
       "True"
      ]
     },
     "execution_count": 26,
     "metadata": {},
     "output_type": "execute_result"
    }
   ],
   "source": [
    "classify(tree, { \"level\" : \"Intern\" } )"
   ]
  },
  {
   "cell_type": "code",
   "execution_count": 27,
   "metadata": {},
   "outputs": [
    {
     "data": {
      "text/plain": [
       "False"
      ]
     },
     "execution_count": 27,
     "metadata": {},
     "output_type": "execute_result"
    }
   ],
   "source": [
    "classify(tree, { \"level\" : \"Senior\" } )"
   ]
  },
  {
   "cell_type": "code",
   "execution_count": 28,
   "metadata": {},
   "outputs": [
    {
     "name": "stdout",
     "output_type": "stream",
     "text": [
      "False\n",
      "True\n",
      "True\n"
     ]
    },
    {
     "data": {
      "text/plain": [
       "[False, True, True]"
      ]
     },
     "execution_count": 28,
     "metadata": {},
     "output_type": "execute_result"
    }
   ],
   "source": [
    "input_level = ['Senior','Mid','Junior']\n",
    "votes = []\n",
    "for i in range(3):\n",
    "    vote = classify(tree, { \"level\" : input_level[i] })\n",
    "    print(classify(tree, { \"level\" : input_level[i] }))\n",
    "    votes.append(vote)\n",
    "    \n",
    "votes"
   ]
  },
  {
   "cell_type": "markdown",
   "metadata": {},
   "source": [
    "## Random Forest"
   ]
  },
  {
   "cell_type": "code",
   "execution_count": 29,
   "metadata": {},
   "outputs": [],
   "source": [
    "def forest_classify(trees, input):\n",
    "    cnt = 0\n",
    "    votes = [classify(tree, input) for tree in trees]\n",
    "    print(cnt)\n",
    "    vote_counts = Counter(votes)\n",
    "    forest_vote = vote_counts.most_common(1)[0][0]\n",
    "    print(\"Forest_Vote\",forest_vote)\n",
    "    return forest_vote"
   ]
  },
  {
   "cell_type": "code",
   "execution_count": 30,
   "metadata": {},
   "outputs": [],
   "source": [
    "# input = ['Senior','Mid','Junior']\n",
    "\n",
    "# def forest_classify2(trees, input):\n",
    "# #     votes = [classify(tree, input) for tree in trees]\n",
    "#     votes = []\n",
    "#     cnt = 0\n",
    "#     for i in range(1,3):\n",
    "#         name = input[i]\n",
    "#         print(name)\n",
    "#         votes.append(classify(tree, name))\n",
    "# #     for tree in trees:\n",
    "# #         votes.append(classify(tree, name))\n",
    "# #         cnt += 1\n",
    "# #     cnt += 1\n",
    "# #     print(cnt)\n",
    "#     vote_counts = Counter(votes)\n",
    "#     forest_vote = vote_counts.most_common(1)[0][0]\n",
    "#     print(\"Forest_Vote\",forest_vote)\n",
    "#     return forest_vote"
   ]
  },
  {
   "cell_type": "code",
   "execution_count": 31,
   "metadata": {},
   "outputs": [],
   "source": [
    "def build_forest_id3(inputs, split_candidates=None, num_split_candidates=None):\n",
    "\n",
    "    # if this is our first pass,\n",
    "    # all keys of the first input are split candidates\n",
    "    if split_candidates is None:\n",
    "        split_candidates = inputs[0][0].keys()\n",
    "\n",
    "    \n",
    "    # count Trues and Falses in the inputs\n",
    "    num_trues = len([label for item, label in inputs if label])\n",
    "    num_falses = len(inputs) - num_trues\n",
    "    \n",
    "    if num_trues == 0:\n",
    "        return False\n",
    "    \n",
    "    if num_falses == 0:\n",
    "        return True\n",
    "    \n",
    "    if not split_candidates:\n",
    "        return num_trues >= num_falses\n",
    "    \n",
    "    # if there's already few enough split candidates, look at all of them\n",
    "    if num_split_candidates is None or len(split_candidates) <= num_split_candidates:\n",
    "        sampled_split_candidates = split_candidates    \n",
    "    # otherwise pick a random sample\n",
    "    else:\n",
    "        sampled_split_candidates = random.sample(split_candidates, num_split_candidates)\n",
    "\n",
    "    # otherwise, split on the best attribute\n",
    "    best_attribute = min(sampled_split_candidates,\n",
    "        key=partial(partition_entropy_by, inputs))\n",
    "    \n",
    "    partitions = partition_by(inputs, best_attribute)\n",
    "    new_candidates = [a for a in split_candidates if a != best_attribute]\n",
    "    \n",
    "    # recursively build the subtrees\n",
    "    subtrees = { attribute : build_tree_id3(subset, new_candidates)\n",
    "                 for attribute, subset in partitions.items() }\n",
    "    \n",
    "    subtrees[None] = num_trues > num_falses # default case\n",
    "    \n",
    "    return (best_attribute, subtrees)"
   ]
  },
  {
   "cell_type": "code",
   "execution_count": 32,
   "metadata": {},
   "outputs": [],
   "source": [
    "def build_forest(inputs, n=3):\n",
    "    return [build_forest_id3(inputs, num_split_candidates=3) for i in range(n)]"
   ]
  },
  {
   "cell_type": "code",
   "execution_count": 33,
   "metadata": {},
   "outputs": [
    {
     "name": "stderr",
     "output_type": "stream",
     "text": [
      "C:\\Users\\USER\\AppData\\Local\\Temp/ipykernel_7500/3002452913.py:27: DeprecationWarning: Sampling from a set deprecated\n",
      "since Python 3.9 and will be removed in a subsequent version.\n",
      "  sampled_split_candidates = random.sample(split_candidates, num_split_candidates)\n"
     ]
    }
   ],
   "source": [
    "trees = build_forest(inputs,3)"
   ]
  },
  {
   "cell_type": "code",
   "execution_count": 34,
   "metadata": {},
   "outputs": [
    {
     "name": "stdout",
     "output_type": "stream",
     "text": [
      "0\n",
      "Forest_Vote False\n"
     ]
    },
    {
     "data": {
      "text/plain": [
       "False"
      ]
     },
     "execution_count": 34,
     "metadata": {},
     "output_type": "execute_result"
    }
   ],
   "source": [
    "forest_classify(trees, { \"level\" : \"Senior\",\n",
    "                 \"lang\" : \"Python\",\n",
    "                 \"tweets\" : \"no\",\n",
    "                 \"phd\" : \"no\"})\n",
    "\n",
    "# forest_classify(trees, { \"level\" : \"Senior\", 'level': 'Junior'})"
   ]
  },
  {
   "cell_type": "code",
   "execution_count": 35,
   "metadata": {},
   "outputs": [
    {
     "data": {
      "text/plain": [
       "[('tweets',\n",
       "  {'no': ('level',\n",
       "    {'Senior': False,\n",
       "     'Mid': True,\n",
       "     'Junior': ('phd', {'no': True, 'yes': False, None: False}),\n",
       "     None: False}),\n",
       "   'yes': ('level',\n",
       "    {'Junior': ('phd', {'no': True, 'yes': False, None: True}),\n",
       "     'Mid': True,\n",
       "     'Senior': True,\n",
       "     None: True}),\n",
       "   None: True}),\n",
       " ('level',\n",
       "  {'Senior': ('tweets', {'no': False, 'yes': True, None: False}),\n",
       "   'Mid': True,\n",
       "   'Junior': ('phd', {'no': True, 'yes': False, None: True}),\n",
       "   None: True}),\n",
       " ('level',\n",
       "  {'Senior': ('tweets', {'no': False, 'yes': True, None: False}),\n",
       "   'Mid': True,\n",
       "   'Junior': ('phd', {'no': True, 'yes': False, None: True}),\n",
       "   None: True})]"
      ]
     },
     "execution_count": 35,
     "metadata": {},
     "output_type": "execute_result"
    }
   ],
   "source": [
    "trees"
   ]
  },
  {
   "cell_type": "code",
   "execution_count": 36,
   "metadata": {},
   "outputs": [
    {
     "data": {
      "text/plain": [
       "3"
      ]
     },
     "execution_count": 36,
     "metadata": {},
     "output_type": "execute_result"
    }
   ],
   "source": [
    "len(trees)"
   ]
  },
  {
   "cell_type": "code",
   "execution_count": 37,
   "metadata": {},
   "outputs": [],
   "source": [
    "# for tree in trees:\n",
    "#     for i in range(len(trees)):\n",
    "#         print(tree[i])"
   ]
  },
  {
   "cell_type": "code",
   "execution_count": 38,
   "metadata": {},
   "outputs": [],
   "source": [
    "# input_level = ['Senior','Mid','Junior']\n",
    "# # input_level[0]\n",
    "# # forest_classify2(trees, { \"level\" : input_level})\n",
    "# votes=[]\n",
    "# tree = build_tree_id3(inputs)\n",
    "# # for i in range(3):\n",
    "# #     name = input_level[i]\n",
    "# #     print(name)\n",
    "# classify(tree, input_level[0])\n",
    "# # #     for tree in trees:\n",
    "# # #         votes.append(classify(tree, name))\n",
    "# # #         cnt += 1\n",
    "# # #     cnt += 1\n",
    "# # #     print(cnt)\n",
    "# # # vote_counts = Counter(votes)\n",
    "# # # forest_vote = vote_counts.most_common(1)[0][0]\n",
    "# # # print(\"Forest_Vote\",forest_vote)"
   ]
  },
  {
   "cell_type": "code",
   "execution_count": 39,
   "metadata": {},
   "outputs": [],
   "source": [
    "# Create list of keys\n",
    "level = inputs[0][0]\n",
    "input_lvl = []\n",
    "input_lang = []\n",
    "input_twts = []\n",
    "input_phd = []\n",
    "for i in range(len(inputs)):\n",
    "    # For level\n",
    "    lvl = inputs[i][0]['level']\n",
    "    if lvl not in input_lvl:\n",
    "        input_lvl.append(lvl)\n",
    "    # For lang\n",
    "    lang = inputs[i][0]['lang']\n",
    "    if lang not in input_lang:\n",
    "        input_lang.append(lang)\n",
    "    # For level\n",
    "    twts = inputs[i][0]['tweets']\n",
    "    if twts not in input_twts:\n",
    "        input_twts.append(twts)\n",
    "    # For level\n",
    "    phd = inputs[i][0]['phd']\n",
    "    if phd not in input_phd:\n",
    "        input_phd.append(phd)\n",
    "\n"
   ]
  },
  {
   "cell_type": "code",
   "execution_count": 40,
   "metadata": {},
   "outputs": [
    {
     "name": "stdout",
     "output_type": "stream",
     "text": [
      "False\n",
      "Counter({False: 1})\n",
      "True\n",
      "Counter({False: 1, True: 1})\n",
      "False\n",
      "Counter({False: 2, True: 1})\n"
     ]
    },
    {
     "data": {
      "text/plain": [
       "False"
      ]
     },
     "execution_count": 40,
     "metadata": {},
     "output_type": "execute_result"
    }
   ],
   "source": [
    "# input_level = ['Senior','Mid','Junior']\n",
    "votes = []\n",
    "for i in range(3):\n",
    "    vote = classify(trees[1], { \"level\" : input_lvl[i],\"lang\" : \"Java\",\"tweets\" : \"no\", \"phd\":\"yes\"})\n",
    "    print(vote)\n",
    "    votes.append(vote)\n",
    "    vote_counts = Counter(votes)\n",
    "    print(vote_counts)\n",
    "    forest_vote = vote_counts.most_common(1)[0][0]\n",
    "#     forest_vote = votes.most_common(1)[0][0]\n",
    "    \n",
    "forest_vote"
   ]
  },
  {
   "cell_type": "code",
   "execution_count": 41,
   "metadata": {},
   "outputs": [
    {
     "data": {
      "text/plain": [
       "'Junior'"
      ]
     },
     "execution_count": 41,
     "metadata": {},
     "output_type": "execute_result"
    }
   ],
   "source": [
    "ahs = inputs[13][0]\n",
    "ahs['level']"
   ]
  },
  {
   "cell_type": "code",
   "execution_count": null,
   "metadata": {},
   "outputs": [],
   "source": []
  }
 ],
 "metadata": {
  "kernelspec": {
   "display_name": "Python 3 (ipykernel)",
   "language": "python",
   "name": "python3"
  },
  "language_info": {
   "codemirror_mode": {
    "name": "ipython",
    "version": 3
   },
   "file_extension": ".py",
   "mimetype": "text/x-python",
   "name": "python",
   "nbconvert_exporter": "python",
   "pygments_lexer": "ipython3",
   "version": "3.9.7"
  }
 },
 "nbformat": 4,
 "nbformat_minor": 2
}
