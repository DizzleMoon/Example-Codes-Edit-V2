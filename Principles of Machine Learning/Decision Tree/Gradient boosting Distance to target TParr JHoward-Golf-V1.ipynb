{
 "cells": [
  {
   "cell_type": "code",
   "execution_count": 1,
   "metadata": {},
   "outputs": [],
   "source": [
    "from typing import List, Dict, Iterable, Tuple, Callable\n",
    "from matplotlib import pyplot as plt\n",
    "from collections import Counter\n",
    "import pygal\n",
    "import sys\n",
    "import os\n",
    "import string\n",
    "import urllib.request\n",
    "import requests\n",
    "import curl\n",
    "import pycurl\n",
    "import webbrowser\n",
    "import numpy as np\n",
    "import math\n",
    "import pandas as pd\n",
    "# from IPython import qt\n",
    "from matplotlib.pyplot import figure\n",
    "from py.xml import raw\n",
    "from requests.api import get\n",
    "from matplotlib import pyplot as plt\n",
    "# from scratch.working_with_data import rescale\n",
    "# from scratch.multiple_regression import least_squares_fit, predict\n",
    "# from scratch.gradient_descent import gradient_step\n",
    "\n",
    "# from stats import mean, median, de_mean, standard_deviation, correlation\n",
    "# from gradient_descent import minimize_stochastic, maximize_stochastic, maximize_batch\n",
    "# from vector import dot, vector_add\n",
    "# from normal import normal_cdf\n",
    "# from matrix import make_matrix, get_column, shape, matrix_multiply\n",
    "# from logistic_regression import *\n",
    "\n",
    "import math\n",
    "import os\n",
    "import random\n",
    "import sys\n",
    "from functools import partial, reduce\n",
    "\n",
    "from scipy.optimize import fmin_tnc\n",
    "\n",
    "import tqdm\n",
    "\n",
    "from typing import*\n",
    "\n",
    "from collections import*\n",
    "from scipy import*\n",
    "from sklearn.metrics import*\n"
   ]
  },
  {
   "cell_type": "code",
   "execution_count": 2,
   "metadata": {},
   "outputs": [
    {
     "data": {
      "text/plain": [
       "array([-258., -218., -138.,   32.,  582.])"
      ]
     },
     "execution_count": 2,
     "metadata": {},
     "output_type": "execute_result"
    }
   ],
   "source": [
    "# Room Size\n",
    "sqft = np.array([750,800,850,900,950])\n",
    "# Rent\n",
    "rent = np.array([1160,1200,1280,1450,2000])\n",
    "# Average Rent\n",
    "f_0 = []\n",
    "for _ in range(0,len(rent)):\n",
    "    f_0.append(np.mean(rent))\n",
    "# Residuals\n",
    "resd = rent-f_0\n",
    "resd\n",
    "\n",
    "\n",
    "# stats.describe(rent)\n"
   ]
  },
  {
   "cell_type": "code",
   "execution_count": 3,
   "metadata": {},
   "outputs": [
    {
     "name": "stdout",
     "output_type": "stream",
     "text": [
      "850.0\n",
      "825.0\n"
     ]
    }
   ],
   "source": [
    "# Square Feet\n",
    "sqft_mean_full = np.mean(sqft)\n",
    "print(sqft_mean_full)\n",
    "sqft_mean = np.mean(sqft[:-1])\n",
    "print(sqft_mean)"
   ]
  },
  {
   "cell_type": "code",
   "execution_count": 4,
   "metadata": {},
   "outputs": [
    {
     "name": "stdout",
     "output_type": "stream",
     "text": [
      "1418.0\n",
      "1272.5\n"
     ]
    }
   ],
   "source": [
    "# Rent\n",
    "rent_mean_full = np.mean(rent)\n",
    "print(rent_mean_full)\n",
    "rent_mean = np.mean(rent[:-1])\n",
    "print(rent_mean)"
   ]
  },
  {
   "cell_type": "code",
   "execution_count": 5,
   "metadata": {},
   "outputs": [
    {
     "name": "stdout",
     "output_type": "stream",
     "text": [
      "3\n",
      "2\n",
      "[[-145.5]\n",
      " [-145.5]\n",
      " [-145.5]\n",
      " [-145.5]\n",
      " [ 582. ]]\n"
     ]
    },
    {
     "data": {
      "text/plain": [
       "[-258.0, -218.0, -138.0, 32.0, 582.0]"
      ]
     },
     "execution_count": 5,
     "metadata": {},
     "output_type": "execute_result"
    }
   ],
   "source": [
    "resd_1 = []\n",
    "for i in range(len(rent)):\n",
    "    resd_1.append(rent[i] - rent_mean_full )\n",
    "    \n",
    "resd_1\n",
    "\n",
    "y_f2_mean = []\n",
    "\n",
    "resd_1\n",
    "resd_1_mean = np.mean(resd_1)\n",
    "\n",
    "abc = []\n",
    "abc_init = np.square(resd_1[0] - resd_1_mean)\n",
    "abc.append(abc_init)\n",
    "for i in range(1,5):\n",
    "    var_0 = np.sum((resd_1[i]-resd_1_mean)**2)\n",
    "    abc.append(var_0/(i))\n",
    "# abcd = np.sum(abc)/5\n",
    "# abcd\n",
    "abc\n",
    "\n",
    "# m = min(filter(lambda x: x > 0, abc))\n",
    "# m = min(i for i in abc if i > 0)\n",
    "# n = abc.index(m)\n",
    "# n\n",
    "# o = len(rent) - n\n",
    "\n",
    "# a = 0\n",
    "a_lst = []\n",
    "for i in abc:\n",
    "    if i > 0:\n",
    "        a_lst.append(i)\n",
    "#         a = 1\n",
    "# n = abc.index(m)\n",
    "# if a == 1:\n",
    "#     n = n - 1\n",
    "# o = len(y_f1) - n\n",
    "\n",
    "# m\n",
    "# Min\n",
    "min_a = min(a_lst)\n",
    "# min_a\n",
    "n = abc.index(min_a)\n",
    "o = len(rent) - n\n",
    "\n",
    "print(n)\n",
    "print(o)\n",
    "\n",
    "if n > o:\n",
    "    n = n + 1\n",
    "\n",
    "# Delta 2\n",
    "delta_pos = []\n",
    "delta_neg = []\n",
    "for i in range(0,len(rent)):\n",
    "    if i < n:\n",
    "        delta_pos.append(resd_1[i])\n",
    "    else:\n",
    "        delta_neg.append(resd_1[i])\n",
    "# delta_pos\n",
    "d_pos = np.mean(delta_pos)\n",
    "d_pos = d_pos * np.ones((n,1))\n",
    "d_pos\n",
    "\n",
    "if y_f2_mean == 0:\n",
    "    y_f2_ind = o\n",
    "    y_f2_mean = np.mean(y_f2[0:y_f2_ind])\n",
    "    d_pos = y_f2_mean * np.ones((y_f2_ind,1))\n",
    "    d_neg = delta_neg[o-n] * np.ones((len(rent)-o,1))\n",
    "d_pos    \n",
    "\n",
    "\n",
    "# delta_neg\n",
    "d_neg = np.mean(delta_neg)\n",
    "d_neg = d_neg * np.ones((o-1,1))\n",
    "d_neg\n",
    "\n",
    "delta_final_1 = np.vstack((d_pos,delta_neg))\n",
    "print(delta_final_1)\n",
    "\n",
    "resd_1"
   ]
  },
  {
   "cell_type": "code",
   "execution_count": 6,
   "metadata": {},
   "outputs": [
    {
     "name": "stdout",
     "output_type": "stream",
     "text": [
      "[[-145.5]\n",
      " [-145.5]\n",
      " [-145.5]\n",
      " [-145.5]]\n"
     ]
    },
    {
     "data": {
      "text/plain": [
       "array([[1272.5],\n",
       "       [1272.5],\n",
       "       [1272.5],\n",
       "       [1272.5],\n",
       "       [2000. ]])"
      ]
     },
     "execution_count": 6,
     "metadata": {},
     "output_type": "execute_result"
    }
   ],
   "source": [
    "# delta T\n",
    "delta_1 = np.mean(resd[0:len(rent)-1]) * np.ones((len(rent)-1,1))\n",
    "print(delta_1)\n",
    "# resd[len(rent)-1]\n",
    "# delta_1 = np.vstack((delta_1,resd[len(rent)-1]))\n",
    "# f_1 = np.mean(f_0[0:len(rent)-1])* np.ones((len(rent)-1,1)) + delta_1\n",
    "# f_1\n",
    "# f_0_1 = np.vstack(((np.mean(f_0[0:len(rent)])* np.ones((len(rent)-1,1))),rent[len(rent)-1])) \n",
    "f_0_1 = np.mean(f_0[0:len(rent)])* np.ones((len(rent)-1,1))\n",
    "f_0_1 = f_0_1 + delta_1\n",
    "f_1 = np.vstack((f_0_1,rent[len(rent)-1])) \n",
    "f_1"
   ]
  },
  {
   "cell_type": "code",
   "execution_count": 7,
   "metadata": {},
   "outputs": [
    {
     "data": {
      "text/plain": [
       "[array([-112.5]), array([-72.5]), array([7.5]), array([177.5]), array([0.])]"
      ]
     },
     "execution_count": 7,
     "metadata": {},
     "output_type": "execute_result"
    }
   ],
   "source": [
    "#y - F_1\n",
    "y_f1 = []\n",
    "for i in range(len(rent)):\n",
    "    y_f1.append(rent[i] - f_1[i]) \n",
    "y_f1"
   ]
  },
  {
   "cell_type": "code",
   "execution_count": 8,
   "metadata": {},
   "outputs": [
    {
     "data": {
      "text/plain": [
       "[-92.5, -92.5, 61.666666666666664, 61.666666666666664, 61.666666666666664]"
      ]
     },
     "execution_count": 8,
     "metadata": {},
     "output_type": "execute_result"
    }
   ],
   "source": [
    "# Delta 2\n",
    "delta_pos = []\n",
    "delta_neg = []\n",
    "for i in range(0,len(rent)):\n",
    "    if y_f1[i] >= 0:\n",
    "        delta_pos.append(y_f1[i])\n",
    "    else:\n",
    "        delta_neg.append(y_f1[i])\n",
    "delta_pos\n",
    "\n",
    "delta_2 = []\n",
    "for i in range(0,len(rent)):\n",
    "    if y_f1[i] >= 0:\n",
    "        delta_2.append(np.mean(delta_pos))\n",
    "    else:\n",
    "        delta_2.append(np.mean(delta_neg))\n",
    "delta_2"
   ]
  },
  {
   "cell_type": "code",
   "execution_count": 9,
   "metadata": {},
   "outputs": [
    {
     "data": {
      "text/plain": [
       "[array([1180.]),\n",
       " array([1180.]),\n",
       " array([1334.16666667]),\n",
       " array([1334.16666667]),\n",
       " array([2061.66666667])]"
      ]
     },
     "execution_count": 9,
     "metadata": {},
     "output_type": "execute_result"
    }
   ],
   "source": [
    "# F2\n",
    "f_2 = []\n",
    "for i in range(len(rent)):\n",
    "    f_2.append(f_1[i] + delta_2[i])\n",
    "f_2"
   ]
  },
  {
   "cell_type": "code",
   "execution_count": 10,
   "metadata": {},
   "outputs": [
    {
     "data": {
      "text/plain": [
       "[array([-20.]),\n",
       " array([20.]),\n",
       " array([-54.16666667]),\n",
       " array([115.83333333]),\n",
       " array([-61.66666667])]"
      ]
     },
     "execution_count": 10,
     "metadata": {},
     "output_type": "execute_result"
    }
   ],
   "source": [
    "# y - F2\n",
    "y_f2 = []\n",
    "for i in range(len(rent)):\n",
    "    y_f2.append(rent[i] - f_2[i]) \n",
    "y_f2"
   ]
  },
  {
   "cell_type": "code",
   "execution_count": 11,
   "metadata": {},
   "outputs": [
    {
     "data": {
      "text/plain": [
       "-20.0"
      ]
     },
     "execution_count": 11,
     "metadata": {},
     "output_type": "execute_result"
    }
   ],
   "source": [
    "np.median(y_f2)"
   ]
  },
  {
   "cell_type": "code",
   "execution_count": 12,
   "metadata": {},
   "outputs": [
    {
     "name": "stdout",
     "output_type": "stream",
     "text": [
      "[[ 15.41666667]\n",
      " [ 15.41666667]\n",
      " [ 15.41666667]\n",
      " [ 15.41666667]\n",
      " [-61.66666667]]\n"
     ]
    }
   ],
   "source": [
    "# delta T\n",
    "delta_3 = np.mean(y_f2[0:len(rent)-1]) * np.ones((len(rent)-1,1))\n",
    "delta_3 = np.vstack((delta_3,y_f2[len(rent)-1]))\n",
    "print(delta_3)"
   ]
  },
  {
   "cell_type": "code",
   "execution_count": 13,
   "metadata": {},
   "outputs": [
    {
     "data": {
      "text/plain": [
       "[array([1195.41666667]),\n",
       " array([1195.41666667]),\n",
       " array([1349.58333333]),\n",
       " array([1349.58333333]),\n",
       " array([2000.])]"
      ]
     },
     "execution_count": 13,
     "metadata": {},
     "output_type": "execute_result"
    }
   ],
   "source": [
    "# F3\n",
    "f_3 = []\n",
    "for i in range(len(rent)):\n",
    "    f_3.append(f_2[i] + delta_3[i])\n",
    "f_3"
   ]
  },
  {
   "cell_type": "code",
   "execution_count": 14,
   "metadata": {},
   "outputs": [
    {
     "data": {
      "text/plain": [
       "[array([-35.41666667]),\n",
       " array([4.58333333]),\n",
       " array([-69.58333333]),\n",
       " array([100.41666667]),\n",
       " array([0.])]"
      ]
     },
     "execution_count": 14,
     "metadata": {},
     "output_type": "execute_result"
    }
   ],
   "source": [
    "# y - F3\n",
    "y_f3 = []\n",
    "for i in range(len(rent)):\n",
    "    y_f3.append(rent[i] - f_3[i]) \n",
    "y_f3"
   ]
  },
  {
   "cell_type": "code",
   "execution_count": 15,
   "metadata": {},
   "outputs": [],
   "source": [
    "def find_best_split(x,y):\n",
    "    best_loss = np.inf\n",
    "    best_split = -1\n",
    "    print(f\"find_best_split in x={list(x)}\")\n",
    "    for v in x[1:]: # try all possible x values\n",
    "        lefty = y[x<v]\n",
    "        righty = y[x>=v]\n",
    "        nl = len(lefty)\n",
    "        nr = len(righty)\n",
    "        if nl==0 or nr==0:\n",
    "            continue\n",
    "        # variance is same as MSE here\n",
    "        # weight by proportion on left and right, get avg as loss\n",
    "        loss = (np.var(lefty)*nl + np.var(righty)*nr)/2\n",
    "        print(f\"{lefty} | {righty}    candidate split x ={v:4d} loss {loss:8.1f}\")\n",
    "        if loss < best_loss:\n",
    "            best_loss = loss\n",
    "            best_split = v\n",
    "    return float(best_loss), best_split"
   ]
  },
  {
   "cell_type": "code",
   "execution_count": 16,
   "metadata": {},
   "outputs": [
    {
     "name": "stdout",
     "output_type": "stream",
     "text": [
      "find_best_split in x=[750, 800, 850, 900, 950]\n",
      "[1160] | [1200 1280 1450 2000]    candidate split x = 800 loss 194837.5\n",
      "[1160 1200] | [1280 1450 2000]    candidate split x = 850 loss 142033.3\n",
      "[1160 1200 1280] | [1450 2000]    candidate split x = 900 loss  79358.3\n",
      "[1160 1200 1280 1450] | [2000]    candidate split x = 950 loss  24737.5\n"
     ]
    },
    {
     "data": {
      "text/plain": [
       "(24737.5, 950)"
      ]
     },
     "execution_count": 16,
     "metadata": {},
     "output_type": "execute_result"
    }
   ],
   "source": [
    "find_best_split(sqft,rent)"
   ]
  },
  {
   "cell_type": "code",
   "execution_count": 17,
   "metadata": {},
   "outputs": [
    {
     "name": "stdout",
     "output_type": "stream",
     "text": [
      "find_best_split in x=[750, 800, 850, 900, 950]\n",
      "[1160] | [1200 1280 1450 2000]    candidate split x = 800 loss 194837.5\n",
      "[1160 1200] | [1280 1450 2000]    candidate split x = 850 loss 142033.3\n",
      "[1160 1200 1280] | [1450 2000]    candidate split x = 900 loss  79358.3\n",
      "[1160 1200 1280 1450] | [2000]    candidate split x = 950 loss  24737.5\n",
      "[1160 1200 1280 1450]\n",
      "[2000]\n",
      "24737.5\n",
      "24737.5\n",
      "950\n"
     ]
    }
   ],
   "source": [
    "x = sqft\n",
    "y = rent\n",
    "best_loss = np.inf\n",
    "best_split = -1\n",
    "print(f\"find_best_split in x={list(x)}\")\n",
    "for v in x[1:]:\n",
    "    left_y = y[x<v]\n",
    "    right_y = y[x >= v]\n",
    "\n",
    "    nl = len(left_y)\n",
    "    nr = len(right_y)\n",
    "    \n",
    "    if nl == 0 or nr == 0:\n",
    "        continue\n",
    "    loss = (np.var(left_y)*nl + np.var(right_y)*nr)/2\n",
    "    print(f\"{left_y} | {right_y}    candidate split x ={v:4d} loss {loss:8.1f}\")\n",
    "    if loss < best_loss:\n",
    "        best_loss = loss\n",
    "        best_split = v\n",
    "    \n",
    "    \n",
    "print(left_y)\n",
    "print(right_y)\n",
    "print(loss)\n",
    "print(best_loss)\n",
    "print(best_split)"
   ]
  },
  {
   "cell_type": "code",
   "execution_count": 18,
   "metadata": {},
   "outputs": [
    {
     "data": {
      "text/plain": [
       "array([750, 800, 850, 900, 950])"
      ]
     },
     "execution_count": 18,
     "metadata": {},
     "output_type": "execute_result"
    }
   ],
   "source": [
    "sqft"
   ]
  },
  {
   "cell_type": "code",
   "execution_count": 19,
   "metadata": {},
   "outputs": [
    {
     "data": {
      "text/plain": [
       "[10000.0, 1250.0, 0.0, 625.0, 2000.0]"
      ]
     },
     "execution_count": 19,
     "metadata": {},
     "output_type": "execute_result"
    }
   ],
   "source": [
    "sqft_mean = np.mean(sqft)\n",
    "summ = []\n",
    "\n",
    "# for q in range(1,len(sqft)):\n",
    "#     sum1 = np.sum(sqft[:q])\n",
    "#     summ.append(sum1)\n",
    "# #     for p in summ:\n",
    "# #         print(p)\n",
    "# summ\n",
    "abc = []\n",
    "abc_init = np.square(sqft[0] - sqft_mean)\n",
    "abc.append(abc_init)\n",
    "for i in range(1,5):\n",
    "    var_0 = np.sum((sqft[i]-sqft_mean)**2)\n",
    "    abc.append(var_0/(i+1))\n",
    "# abcd = np.sum(abc)/5\n",
    "# abcd\n",
    "abc\n"
   ]
  },
  {
   "cell_type": "code",
   "execution_count": 20,
   "metadata": {},
   "outputs": [],
   "source": [
    "# y_f1\n",
    "# y_f1_mean = np.mean(y_f1)\n",
    "\n",
    "# abc = []\n",
    "# abc_init = np.square(y_f1[0] - y_f1_mean)\n",
    "# abc.append(abc_init)\n",
    "# for i in range(1,5):\n",
    "#     var_0 = np.sum((y_f1[i]-y_f1_mean)**2)\n",
    "#     abc.append(var_0/(i+1))\n",
    "# # abcd = np.sum(abc)/5\n",
    "# # abcd\n",
    "# abc\n",
    "\n",
    "# # m = min(filter(lambda x: x > 0, abc))\n",
    "# # m = min(i for i in abc if i > 0)\n",
    "# a = 0\n",
    "# for i in abc:\n",
    "#     if i > 0:\n",
    "#         m = i\n",
    "#         a = 1\n",
    "# n = abc.index(m)\n",
    "# if a == 1:\n",
    "#     n = 1\n",
    "# o = len(y_f1) - n\n",
    "# o\n",
    "\n",
    "# # Delta 2\n",
    "# delta_pos = []\n",
    "# delta_neg = []\n",
    "# for i in range(1,len(rent)):\n",
    "#     if i < n+1:\n",
    "#         delta_pos.append(y_f1[i])\n",
    "#     else:\n",
    "#         delta_neg.append(y_f1[i])\n",
    "# delta_pos\n",
    "# d_pos = np.mean(delta_pos)\n",
    "# d_pos = d_pos * np.ones((n+1,1))\n",
    "# d_pos\n",
    "\n",
    "# delta_neg\n",
    "# d_neg = np.mean(delta_neg)\n",
    "# d_neg = d_neg * np.ones((o,1))\n",
    "# d_neg\n",
    "\n",
    "# delta_final = np.vstack((d_pos,d_neg))\n",
    "# delta_final"
   ]
  },
  {
   "cell_type": "code",
   "execution_count": 21,
   "metadata": {},
   "outputs": [
    {
     "name": "stdout",
     "output_type": "stream",
     "text": [
      "n:  2\n",
      "o:  3\n"
     ]
    },
    {
     "data": {
      "text/plain": [
       "array([[-92.5       ],\n",
       "       [-92.5       ],\n",
       "       [ 61.66666667],\n",
       "       [ 61.66666667],\n",
       "       [ 61.66666667]])"
      ]
     },
     "execution_count": 21,
     "metadata": {},
     "output_type": "execute_result"
    }
   ],
   "source": [
    "y_f1\n",
    "y_f1_mean = np.mean(y_f1)\n",
    "\n",
    "abc = []\n",
    "abc_init = np.square(y_f1[0] - y_f1_mean)\n",
    "abc.append(abc_init)\n",
    "for i in range(1,5):\n",
    "    var_0 = np.sum((y_f1[i]-y_f1_mean)**2)\n",
    "    abc.append(var_0/(i+1))\n",
    "# abcd = np.sum(abc)/5\n",
    "# abcd\n",
    "abc\n",
    "\n",
    "\n",
    "a_lst = []\n",
    "for i in abc:\n",
    "    if i > 0:\n",
    "        a_lst.append(i)\n",
    "#         a = 1\n",
    "# n = abc.index(m)\n",
    "# if a == 1:\n",
    "#     n = n - 1\n",
    "# o = len(y_f1) - n\n",
    "\n",
    "# m\n",
    "# Min\n",
    "min_a = min(a_lst)\n",
    "# min_a\n",
    "n = abc.index(min_a)\n",
    "o = len(rent) - n\n",
    "\n",
    "print(\"n: \",n)\n",
    "print(\"o: \",o)\n",
    "\n",
    "if n > o:\n",
    "    n = n + 1\n",
    "\n",
    "# Delta 2\n",
    "delta_pos = []\n",
    "delta_neg = []\n",
    "for i in range(0,len(rent)):\n",
    "    if i < n:\n",
    "        delta_pos.append(y_f1[i])\n",
    "    else:\n",
    "        delta_neg.append(y_f1[i])\n",
    "delta_pos\n",
    "d_pos = np.mean(delta_pos)\n",
    "d_pos = d_pos * np.ones((n,1))\n",
    "d_pos\n",
    "\n",
    "delta_neg\n",
    "d_neg = np.mean(delta_neg)\n",
    "d_neg = d_neg * np.ones((o,1))\n",
    "d_neg\n",
    "\n",
    "if y_f2_mean == 0:\n",
    "    y_f2_ind = o\n",
    "    y_f2_mean = np.mean(y_f2[0:y_f2_ind])\n",
    "    d_pos = y_f2_mean * np.ones((y_f2_ind,1))\n",
    "    d_neg = delta_neg[o-n] * np.ones((len(rent)-o,1))\n",
    "d_pos    \n",
    "\n",
    "delta_final = np.vstack((d_pos,d_neg))\n",
    "delta_final"
   ]
  },
  {
   "cell_type": "code",
   "execution_count": 22,
   "metadata": {},
   "outputs": [],
   "source": [
    "# y_f2 = np.array(y_f2)\n",
    "# y_f2_mean = np.mean(y_f2)\n",
    "\n",
    "# # if y_f2_mean == 0:\n",
    "# #     y_f2_mean = np.mean(y_f2[0:len(y_f2)-1])\n",
    "\n",
    "# abc = []\n",
    "# abc_init = np.square(y_f2[0] - y_f2_mean)\n",
    "# abc.append(abc_init)\n",
    "# for i in range(1,5):\n",
    "#     var_0 = np.sum((y_f2[i]-y_f2_mean)**2)\n",
    "#     abc.append(var_0/(i+1))\n",
    "# # abcd = np.sum(abc)/5\n",
    "# # abcd\n",
    "# abc\n",
    "\n",
    "\n",
    "# a_lst = []\n",
    "# for i in abc:\n",
    "#     if i > 0:\n",
    "#         a_lst.append(i)\n",
    "# #         a = 1\n",
    "# # n = abc.index(m)\n",
    "# # if a == 1:\n",
    "# #     n = n - 1\n",
    "# # o = len(y_f1) - n\n",
    "\n",
    "# # m\n",
    "# # Min\n",
    "# min_a = min(a_lst)\n",
    "# # min_a\n",
    "# n = abc.index(min_a)\n",
    "# o = len(rent) - n\n",
    "\n",
    "# # Delta 2\n",
    "# delta_pos = []\n",
    "# delta_neg = []\n",
    "# for i in range(0,len(rent)):\n",
    "#     if i < n:\n",
    "#         delta_pos.append(y_f2[i])\n",
    "#     else:\n",
    "#         delta_neg.append(y_f2[i])\n",
    "# delta_pos\n",
    "# d_pos = np.mean(delta_pos)\n",
    "# d_pos = d_pos * np.ones((n+1,1))\n",
    "\n",
    "# delta_neg\n",
    "# d_neg = np.mean(delta_neg)\n",
    "# d_neg = d_neg * np.ones((o,1))\n",
    "# d_neg\n",
    "\n",
    "# # if y_f2_mean == 0:\n",
    "# #     y_f2_ind = len(y_f2)-1\n",
    "# #     y_f2_mean = np.mean(y_f2[0:y_f2_ind])\n",
    "# #     d_pos = y_f2_mean * np.ones((y_f2_ind,1))\n",
    "# #     d_neg = delta_neg[3]\n",
    "    \n",
    "# delta_neg\n",
    "\n",
    "# # delta_final = np.vstack((d_pos,d_neg))\n",
    "# # delta_final\n",
    "# # delta_neg[len(y_f2)-1]"
   ]
  },
  {
   "cell_type": "code",
   "execution_count": 23,
   "metadata": {},
   "outputs": [
    {
     "name": "stdout",
     "output_type": "stream",
     "text": [
      "0.0\n",
      "N:  1\n",
      "O:  4\n",
      "[[ 15.41666667]\n",
      " [ 15.41666667]\n",
      " [ 15.41666667]\n",
      " [ 15.41666667]\n",
      " [-61.66666667]]\n",
      "[array([20.]), array([-54.16666667]), array([115.83333333]), array([-61.66666667])]\n",
      "[array([-20.])]\n",
      "15.416666666666629\n",
      "4\n",
      "[[-20.        ]\n",
      " [ 20.        ]\n",
      " [-54.16666667]\n",
      " [115.83333333]]\n"
     ]
    }
   ],
   "source": [
    "y_f2 = np.array(y_f2)\n",
    "y_f2_mean = np.mean(y_f2)\n",
    "print(y_f2_mean)\n",
    "\n",
    "# if y_f2_mean == 0:\n",
    "#     y_f2_mean = np.mean(y_f2[0:len(y_f2)-1])\n",
    "\n",
    "abc = []\n",
    "abc_init = np.square(y_f2[0] - y_f2_mean)\n",
    "abc.append(abc_init)\n",
    "for i in range(1,5):\n",
    "    var_0 = np.sum((y_f2[i]-y_f2_mean)**2)\n",
    "    abc.append(var_0/(i+1))\n",
    "# abcd = np.sum(abc)/5\n",
    "# abcd\n",
    "abc\n",
    "\n",
    "\n",
    "a_lst = []\n",
    "for i in abc:\n",
    "    if i > 0:\n",
    "        a_lst.append(i)\n",
    "#         a = 1\n",
    "# n = abc.index(m)\n",
    "# if a == 1:\n",
    "#     n = n - 1\n",
    "# o = len(y_f1) - n\n",
    "\n",
    "# m\n",
    "# Min\n",
    "min_a = min(a_lst)\n",
    "# min_a\n",
    "n = abc.index(min_a)\n",
    "o = len(rent) - n\n",
    "print(\"N: \", n)\n",
    "print(\"O: \",o)\n",
    "\n",
    "if n > o:\n",
    "    n = n + 1\n",
    "\n",
    "# Delta 2\n",
    "delta_pos = []\n",
    "delta_neg = []\n",
    "for i in range(0,len(rent)):\n",
    "    if i < n:\n",
    "        delta_pos.append(y_f2[i])\n",
    "    else:\n",
    "        delta_neg.append(y_f2[i])\n",
    "delta_pos\n",
    "d_pos = np.mean(delta_pos)\n",
    "d_pos = d_pos * np.ones((n,1))\n",
    "\n",
    "delta_neg\n",
    "d_neg = np.mean(delta_neg)\n",
    "d_neg = d_neg * np.ones((o,1))\n",
    "d_neg\n",
    "\n",
    "if y_f2_mean == 0:\n",
    "    y_f2_ind = o\n",
    "    y_f2_mean = np.mean(y_f2[0:y_f2_ind])\n",
    "    d_pos = y_f2_mean * np.ones((y_f2_ind,1))\n",
    "    d_neg = delta_neg[o-n] * np.ones((len(rent)-o,1))\n",
    "d_pos    \n",
    "# delta_neg[y_f2_ind-1]\n",
    "# d_neg\n",
    "# n\n",
    "delta_final = np.vstack((d_pos,d_neg))\n",
    "print(delta_final)\n",
    "# delta_neg[len(y_f2)-1]\n",
    "# delta_neg\n",
    "print(delta_neg)\n",
    "print(delta_pos)\n",
    "print(y_f2_mean)\n",
    "print(y_f2_ind)\n",
    "print(y_f2[0:o])"
   ]
  },
  {
   "cell_type": "code",
   "execution_count": 24,
   "metadata": {},
   "outputs": [
    {
     "data": {
      "text/plain": [
       "[array([1195.41666667]),\n",
       " array([1195.41666667]),\n",
       " array([1349.58333333]),\n",
       " array([1349.58333333]),\n",
       " array([2000.])]"
      ]
     },
     "execution_count": 24,
     "metadata": {},
     "output_type": "execute_result"
    }
   ],
   "source": [
    "# F3\n",
    "f_3 = []\n",
    "for i in range(len(rent)):\n",
    "    f_3.append(f_2[i] + delta_final[i])\n",
    "f_3"
   ]
  },
  {
   "cell_type": "code",
   "execution_count": 25,
   "metadata": {},
   "outputs": [
    {
     "data": {
      "text/plain": [
       "[array([-35.41666667]),\n",
       " array([4.58333333]),\n",
       " array([-69.58333333]),\n",
       " array([100.41666667]),\n",
       " array([0.])]"
      ]
     },
     "execution_count": 25,
     "metadata": {},
     "output_type": "execute_result"
    }
   ],
   "source": [
    "# y - F3\n",
    "y_f3 = []\n",
    "for i in range(len(rent)):\n",
    "    y_f3.append(rent[i] - f_3[i]) \n",
    "y_f3\n",
    "\n"
   ]
  },
  {
   "cell_type": "code",
   "execution_count": 26,
   "metadata": {},
   "outputs": [],
   "source": [
    "# y_f3 = np.array(y_f3)\n",
    "# y_f3_mean = np.mean(y_f3)\n",
    "\n",
    "# # if y_f2_mean == 0:\n",
    "# #     y_f2_mean = np.mean(y_f2[0:len(y_f2)-1])\n",
    "\n",
    "# abc = []\n",
    "# abc_init = np.square(y_f3[0] - y_f3_mean)\n",
    "# abc.append(abc_init)\n",
    "# for i in range(1,5):\n",
    "#     var_0 = np.sum((y_f3[i]-y_f3_mean)**2)\n",
    "#     abc.append(var_0/(i+1))\n",
    "# # abcd = np.sum(abc)/5\n",
    "# # abcd\n",
    "# abc\n",
    "\n",
    "\n",
    "# a_lst = []\n",
    "# for i in abc:\n",
    "#     if i > 0:\n",
    "#         a_lst.append(i)\n",
    "# #         a = 1\n",
    "# # n = abc.index(m)\n",
    "# # if a == 1:\n",
    "# #     n = n - 1\n",
    "# # o = len(y_f1) - n\n",
    "\n",
    "# # m\n",
    "# # Min\n",
    "# min_a = min(a_lst)\n",
    "# # min_a\n",
    "# n = abc.index(min_a)\n",
    "# o = len(rent) - n\n",
    "\n",
    "# # # Delta 2\n",
    "# # delta_pos = []\n",
    "# # delta_neg = []\n",
    "# # for i in range(0,len(rent)):\n",
    "# #     if i < n:\n",
    "# #         delta_pos.append(y_f3[i])\n",
    "# #     else:\n",
    "# #         delta_neg.append(y_f3[i])\n",
    "# # delta_pos\n",
    "# # d_pos = np.mean(delta_pos)\n",
    "# # d_pos = d_pos * np.ones((n+1,1))\n",
    "\n",
    "# # delta_neg\n",
    "# # d_neg = np.mean(delta_neg)\n",
    "# # d_neg = d_neg * np.ones((o,1))\n",
    "# # d_neg\n",
    "\n",
    "# if y_f3_mean == 0:\n",
    "#     y_f3_ind = n \n",
    "#     y_f3_mean = np.mean(y_f3[0:y_f3_ind])\n",
    "#     d_pos = y_f3_mean * np.ones((y_f3_ind,1))\n",
    "#     d_neg = delta_neg[n-o] * np.ones((len(rent)-n,1))\n",
    "# d_pos    \n",
    "# # # delta_neg[y_f2_ind-1]\n",
    "# d_neg\n",
    "# # # n\n",
    "# # delta_final = np.vstack((d_pos,d_neg))\n",
    "# # delta_final\n",
    "# # # delta_neg[len(y_f2)-1]"
   ]
  },
  {
   "cell_type": "code",
   "execution_count": 27,
   "metadata": {},
   "outputs": [],
   "source": [
    "# y_f2 = y_f3\n",
    "# y_f2 = np.array(y_f2)\n",
    "# y_f2_mean = np.mean(y_f2)\n",
    "\n",
    "# # if y_f2_mean == 0:\n",
    "# #     y_f2_mean = np.mean(y_f2[0:len(y_f2)-1])\n",
    "\n",
    "# abc = []\n",
    "# abc_init = np.square(y_f2[0] - y_f2_mean)\n",
    "# abc.append(abc_init)\n",
    "# for i in range(1,5):\n",
    "#     var_0 = np.sum((y_f2[i]-y_f2_mean)**2)\n",
    "#     abc.append(var_0/(i+1))\n",
    "# # abcd = np.sum(abc)/5\n",
    "# abc = abc[0].tolist() + abc[1:5]\n",
    "\n",
    "\n",
    "\n",
    "# a_lst = []\n",
    "# for i in abc:\n",
    "#     if i > 0:\n",
    "#         a_lst.append(i)\n",
    "# #         a = 1\n",
    "# # n = abc.index(m)\n",
    "# # if a == 1:\n",
    "# #     n = n - 1\n",
    "# # o = len(y_f1) - n\n",
    "\n",
    "# # m\n",
    "# # Min\n",
    "# min_a = min(a_lst)\n",
    "# # min_a\n",
    "# n = abc.index(min_a)\n",
    "# o = len(rent) - n\n",
    "\n",
    "# print(\"N: \", n)\n",
    "# print(\"O: \", o)\n",
    "\n",
    "# # Delta 2\n",
    "# delta_pos = []\n",
    "# delta_neg = []\n",
    "# for i in range(0,len(rent)):\n",
    "#     if i < n:\n",
    "#         delta_pos.append(y_f2[i])\n",
    "#     else:\n",
    "#         delta_neg.append(y_f2[i])\n",
    "# delta_pos\n",
    "# d_pos = np.mean(delta_pos)\n",
    "# d_pos = d_pos * np.ones((n+1,1))\n",
    "\n",
    "# delta_neg\n",
    "# d_neg = np.mean(delta_neg)\n",
    "# d_neg = d_neg * np.ones((o,1))\n",
    "\n",
    "# # d_pos\n",
    "# # d_neg\n",
    "\n",
    "# if y_f2_mean == 0:\n",
    "#     y_f2_ind = o\n",
    "# #     y_f2_mean = np.mean(y_f2[0:y_f2_ind])\n",
    "#     y_f2_mean = np.mean(np.array(a_lst))\n",
    "#     d_pos = y_f2_mean * np.ones((y_f2_ind,1))\n",
    "#     d_neg = delta_neg[o-n] * np.ones((len(rent)-o,1))\n",
    "# d_pos    \n",
    "# # # delta_neg[y_f2_ind-1]\n",
    "# d_neg\n",
    "# # # n\n",
    "# delta_final = np.vstack((d_pos,d_neg))\n",
    "# delta_final\n",
    "# # delta_neg[len(y_f2)-1]\n",
    "# y_f2_mean\n"
   ]
  },
  {
   "cell_type": "code",
   "execution_count": 28,
   "metadata": {},
   "outputs": [],
   "source": [
    "# resd_1 = []\n",
    "# for i in range(len(rent)):\n",
    "#     resd_1.append(rent[i] - y_f2_mean)\n",
    "    \n",
    "# resd_1\n",
    "\n",
    "# resd_1\n",
    "# resd_1_mean = np.mean(resd_1)\n",
    "\n",
    "# abc = []\n",
    "# abc_init = np.square(resd_1[0] - resd_1_mean)\n",
    "# abc.append(abc_init)\n",
    "# for i in range(1,5):\n",
    "#     var_0 = np.sum((resd_1[i]-resd_1_mean)**2)\n",
    "#     abc.append(var_0/(i))\n",
    "# # abcd = np.sum(abc)/5\n",
    "# # abcd\n",
    "# abc\n",
    "\n",
    "# # m = min(filter(lambda x: x > 0, abc))\n",
    "# # m = min(i for i in abc if i > 0)\n",
    "# # n = abc.index(m)\n",
    "# # n\n",
    "# # o = len(rent) - n\n",
    "\n",
    "# # a = 0\n",
    "# a_lst = []\n",
    "# for i in abc:\n",
    "#     if i > 0:\n",
    "#         a_lst.append(i)\n",
    "# #         a = 1\n",
    "# # n = abc.index(m)\n",
    "# # if a == 1:\n",
    "# #     n = n - 1\n",
    "# # o = len(y_f1) - n\n",
    "\n",
    "# # m\n",
    "# # Min\n",
    "# min_a = min(a_lst)\n",
    "# # min_a\n",
    "# n = abc.index(min_a)\n",
    "# o = len(rent) - n\n",
    "\n",
    "# # Delta 2\n",
    "# delta_pos = []\n",
    "# delta_neg = []\n",
    "# for i in range(0,len(rent)):\n",
    "#     if i < n+1:\n",
    "#         delta_pos.append(resd_1[i])\n",
    "#     else:\n",
    "#         delta_neg.append(resd_1[i])\n",
    "# # delta_pos\n",
    "# d_pos = np.mean(delta_pos)\n",
    "# d_pos = d_pos * np.ones((n+1,1))\n",
    "# d_pos\n",
    "\n",
    "# if y_f2_mean == 0:\n",
    "#     y_f2_ind = o\n",
    "#     y_f2_mean = np.mean(y_f2[0:y_f2_ind])\n",
    "#     d_pos = y_f2_mean * np.ones((y_f2_ind,1))\n",
    "#     d_neg = delta_neg[o-n] * np.ones((len(rent)-o,1))\n",
    "# d_pos    \n",
    "\n",
    "\n",
    "# # delta_neg\n",
    "# d_neg = np.mean(delta_neg)\n",
    "# d_neg = d_neg * np.ones((o-1,1))\n",
    "# d_neg\n",
    "\n",
    "# delta_final = np.vstack((d_pos,delta_neg))\n",
    "# print(delta_final)\n",
    "\n",
    "# print(n)\n",
    "# print(o)\n",
    "# abc"
   ]
  },
  {
   "cell_type": "code",
   "execution_count": 29,
   "metadata": {},
   "outputs": [
    {
     "data": {
      "text/plain": [
       "[array([-35.41666667]),\n",
       " array([4.58333333]),\n",
       " array([-69.58333333]),\n",
       " array([100.41666667]),\n",
       " array([0.])]"
      ]
     },
     "execution_count": 29,
     "metadata": {},
     "output_type": "execute_result"
    }
   ],
   "source": [
    "# y - F3\n",
    "y_f3 = []\n",
    "for i in range(len(rent)):\n",
    "    y_f3.append(rent[i] - f_3[i]) \n",
    "y_f3\n",
    "\n",
    "# y_f3_ind = y_f3.index(0)\n",
    "# y_f3_ind\n"
   ]
  },
  {
   "cell_type": "code",
   "execution_count": 30,
   "metadata": {},
   "outputs": [
    {
     "name": "stdout",
     "output_type": "stream",
     "text": [
      "N:  1\n",
      "O:  4\n",
      "4\n",
      "[array([4.58333333]), array([-69.58333333]), array([100.41666667]), array([0.])]\n",
      "[array([-35.41666667])]\n",
      "[[-33.47222222]\n",
      " [-33.47222222]\n",
      " [-33.47222222]\n",
      " [-33.47222222]]\n",
      "[[0.]]\n",
      "-33.47222222222217\n",
      "[[-33.47222222]\n",
      " [-33.47222222]\n",
      " [-33.47222222]\n",
      " [-33.47222222]\n",
      " [  0.        ]]\n"
     ]
    }
   ],
   "source": [
    "y_f3 = np.array(y_f3)\n",
    "y_f3_mean = np.mean(y_f3)\n",
    "\n",
    "# if y_f2_mean == 0:\n",
    "#     y_f2_mean = np.mean(y_f2[0:len(y_f2)-1])\n",
    "\n",
    "abc = []\n",
    "abc_init = np.square(y_f3[0] - y_f3_mean)\n",
    "abc.append(abc_init)\n",
    "for i in range(1,5):\n",
    "    var_0 = np.sum((y_f3[i]-y_f3_mean)**2)\n",
    "    abc.append(var_0/(i+1))\n",
    "# abcd = np.sum(abc)/5\n",
    "# abcd\n",
    "abc = abc[0].tolist() + abc[1:5]\n",
    "abc\n",
    "\n",
    "\n",
    "a_lst = []\n",
    "for i in abc:\n",
    "    if i > 0:\n",
    "        a_lst.append(i)\n",
    "#         a = 1\n",
    "# n = abc.index(m)\n",
    "# if a == 1:\n",
    "#     n = n - 1\n",
    "# o = len(y_f1) - n\n",
    "a_lst\n",
    "\n",
    "# m\n",
    "# Min\n",
    "min_a = min(a_lst)\n",
    "# min_a\n",
    "n = abc.index(min_a)\n",
    "o = len(rent) - n\n",
    "print(\"N: \", n)\n",
    "print(\"O: \", o)\n",
    "\n",
    "if n > o:\n",
    "    n = n+1\n",
    "\n",
    "# Delta 2\n",
    "delta_pos = []\n",
    "delta_neg = []\n",
    "for i in range(0,len(rent)):\n",
    "    if i < n:\n",
    "        delta_pos.append(y_f3[i])\n",
    "    else:\n",
    "        delta_neg.append(y_f3[i])\n",
    "delta_pos\n",
    "# d_pos = np.mean(delta_pos)\n",
    "# d_pos = d_pos * np.ones((n+1,1))\n",
    "# d_pos\n",
    "delta_neg\n",
    "# d_neg = np.mean(delta_neg)\n",
    "# d_neg = d_neg * np.ones((o,1))\n",
    "# d_neg\n",
    "\n",
    "if y_f3_mean == 0:\n",
    "    y_f3_ind = o\n",
    "    print(y_f3_ind)\n",
    "    if y_f3_ind >= 0:\n",
    "        y_f3_mean = np.mean(y_f3[0:y_f3_ind-1])\n",
    "        d_pos = y_f3_mean * np.ones((y_f3_ind,1))\n",
    "    #     d_neg = y_f3_mean\n",
    "        d_neg = delta_neg[o-n] * np.ones((len(rent)-o,1))\n",
    "    else:\n",
    "        y_f3_mean = np.mean(y_f3[0:y_f3_ind])\n",
    "        d_pos = y_f3_mean * np.ones((y_f3_ind,1))\n",
    "    #     d_neg = y_f3_mean\n",
    "        d_neg = delta_neg[o-n] * np.ones((len(rent)-o,1))\n",
    "# d_pos    \n",
    "# # delta_neg[y_f2_ind-1]\n",
    "# d_neg\n",
    "# # n\n",
    "delta_final = np.vstack((d_pos,d_neg))\n",
    "# # delta_neg[len(y_f2)-1]\n",
    "print(delta_neg)\n",
    "print(delta_pos)\n",
    "print(d_pos)\n",
    "print(d_neg)\n",
    "print(y_f3_mean)\n",
    "print(delta_final)"
   ]
  },
  {
   "cell_type": "code",
   "execution_count": 31,
   "metadata": {},
   "outputs": [
    {
     "name": "stdout",
     "output_type": "stream",
     "text": [
      "[[-33.47222222]\n",
      " [-33.47222222]\n",
      " [-33.47222222]\n",
      " [-33.47222222]\n",
      " [  0.        ]]\n"
     ]
    }
   ],
   "source": [
    "if y_f3_mean == 0:\n",
    "    y_f3_ind = o\n",
    "    y_f3_mean = np.mean(y_f3[0:y_f3_ind])\n",
    "    d_pos = y_f3_mean * np.ones((y_f3_ind,1))\n",
    "    d_neg = delta_neg[o-n] * np.ones((len(rent)-o,1))\n",
    "d_pos \n",
    "d_neg\n",
    "\n",
    "delta_final_3 = np.vstack((d_pos,d_neg))\n",
    "print(delta_final_3)"
   ]
  },
  {
   "cell_type": "code",
   "execution_count": 32,
   "metadata": {},
   "outputs": [
    {
     "data": {
      "text/plain": [
       "[array([1161.94444444]),\n",
       " array([1161.94444444]),\n",
       " array([1316.11111111]),\n",
       " array([1316.11111111]),\n",
       " array([2000.])]"
      ]
     },
     "execution_count": 32,
     "metadata": {},
     "output_type": "execute_result"
    }
   ],
   "source": [
    "# F4\n",
    "f_4 = []\n",
    "for i in range(len(rent)):\n",
    "    f_4.append(f_3[i] + delta_final[i])\n",
    "f_4"
   ]
  },
  {
   "cell_type": "code",
   "execution_count": 33,
   "metadata": {},
   "outputs": [
    {
     "data": {
      "text/plain": [
       "[array([-1.94444444]),\n",
       " array([38.05555556]),\n",
       " array([-36.11111111]),\n",
       " array([133.88888889]),\n",
       " array([0.])]"
      ]
     },
     "execution_count": 33,
     "metadata": {},
     "output_type": "execute_result"
    }
   ],
   "source": [
    "# y - F4\n",
    "y_f4 = []\n",
    "for i in range(len(rent)):\n",
    "    y_f4.append(rent[i] - f_4[i]) \n",
    "y_f4\n",
    "\n",
    "# y_f3_ind = y_f3.index(0)\n",
    "# y_f3_ind\n"
   ]
  },
  {
   "cell_type": "code",
   "execution_count": 34,
   "metadata": {},
   "outputs": [
    {
     "data": {
      "text/plain": [
       "42.0"
      ]
     },
     "execution_count": 34,
     "metadata": {},
     "output_type": "execute_result"
    }
   ],
   "source": [
    "rms = mean_absolute_error(rent,f_4)\n",
    "rms"
   ]
  },
  {
   "cell_type": "code",
   "execution_count": 35,
   "metadata": {},
   "outputs": [
    {
     "data": {
      "text/plain": [
       "202906.16666666663"
      ]
     },
     "execution_count": 35,
     "metadata": {},
     "output_type": "execute_result"
    }
   ],
   "source": [
    "MSE = np.square(np.subtract(rent,f_2)).mean() \n",
    "MSE"
   ]
  },
  {
   "cell_type": "code",
   "execution_count": 36,
   "metadata": {},
   "outputs": [
    {
     "name": "stdout",
     "output_type": "stream",
     "text": [
      "[[-145.5]\n",
      " [-145.5]\n",
      " [-145.5]\n",
      " [-145.5]\n",
      " [ 582. ]]\n",
      "[-92.5, -92.5, 61.666666666666664, 61.666666666666664, 61.666666666666664]\n",
      "[[-33.47222222]\n",
      " [-33.47222222]\n",
      " [-33.47222222]\n",
      " [-33.47222222]\n",
      " [  0.        ]]\n"
     ]
    }
   ],
   "source": [
    "print(delta_final_1)\n",
    "print(delta_2)\n",
    "print(delta_final)"
   ]
  },
  {
   "cell_type": "code",
   "execution_count": 37,
   "metadata": {},
   "outputs": [],
   "source": [
    "# Plot 1\n",
    "ff = []\n",
    "for i in range(len(rent)):\n",
    "    ff.append(f_0[i] + delta_final_1[i] + delta_2[i] + delta_3[i])\n",
    "# ff = np.multiply(0.5,ff)"
   ]
  },
  {
   "cell_type": "code",
   "execution_count": 38,
   "metadata": {},
   "outputs": [
    {
     "data": {
      "image/png": "[encoded data removed]",
      "text/plain": [
       "<Figure size 432x288 with 1 Axes>"
      ]
     },
     "metadata": {
      "needs_background": "light"
     },
     "output_type": "display_data"
    }
   ],
   "source": [
    "plt.scatter(sqft,rent)\n",
    "plt.plot(sqft,ff, marker='*', color='red')\n",
    "plt.grid()\n",
    "plt.show()"
   ]
  },
  {
   "cell_type": "code",
   "execution_count": 39,
   "metadata": {},
   "outputs": [
    {
     "data": {
      "text/plain": [
       "[array([1195.41666667]),\n",
       " array([1195.41666667]),\n",
       " array([1349.58333333]),\n",
       " array([1349.58333333]),\n",
       " array([2000.])]"
      ]
     },
     "execution_count": 39,
     "metadata": {},
     "output_type": "execute_result"
    }
   ],
   "source": [
    "ff"
   ]
  },
  {
   "cell_type": "code",
   "execution_count": 40,
   "metadata": {},
   "outputs": [
    {
     "data": {
      "text/plain": [
       "array([1349.58333333])"
      ]
     },
     "execution_count": 40,
     "metadata": {},
     "output_type": "execute_result"
    }
   ],
   "source": [
    "sqft[len(ff)//2]\n",
    "sqft\n",
    "ff[-2]"
   ]
  },
  {
   "cell_type": "code",
   "execution_count": 41,
   "metadata": {},
   "outputs": [],
   "source": [
    "# # Create stepped plots\n",
    "# sqft_2 = []\n",
    "# rent_2 = []\n",
    "# for i in range(1,len(rent)):\n",
    "#     sqft_2.append(sqft[i-1])\n",
    "#     rent_2.append(ff[i])\n",
    "#     if abs(ff[i]-ff[i-1]) != 0:\n",
    "#         print(i)\n",
    "# #         print((sqft[i] + sqft[i-1])/2)\n",
    "#         sqft_2.append((sqft[i] + sqft[i-1])/2)\n",
    "#         rent_2.append(ff[i-1])        \n",
    "#     if i == len(rent)-1:\n",
    "#         print(i)\n",
    "#         sqft_2.append(sqft[len(rent)-1])\n",
    "#         rent_2.append(rent[len(rent)-1])  \n",
    "        \n",
    "        \n",
    "# print(np.sort(rent_2))\n",
    "# print(sqft_2)"
   ]
  },
  {
   "cell_type": "code",
   "execution_count": 42,
   "metadata": {},
   "outputs": [
    {
     "name": "stdout",
     "output_type": "stream",
     "text": [
      "4\n",
      "[array([1195.41666667]) array([1195.41666667]) array([1195.41666667])\n",
      " array([1195.41666667]) array([1349.58333333]) array([1349.58333333])\n",
      " array([1349.58333333]) array([2000.]) 2000]\n",
      "[750, 800, 825.0, 825.0, 850, 900, 925.0, 925.0, 950]\n"
     ]
    },
    {
     "name": "stderr",
     "output_type": "stream",
     "text": [
      "C:\\Users\\USER\\anaconda3\\lib\\site-packages\\numpy\\core\\_asarray.py:136: VisibleDeprecationWarning: Creating an ndarray from ragged nested sequences (which is a list-or-tuple of lists-or-tuples-or ndarrays with different lengths or shapes) is deprecated. If you meant to do this, you must specify 'dtype=object' when creating the ndarray\n",
      "  return array(a, dtype, copy=False, order=order, subok=True)\n"
     ]
    }
   ],
   "source": [
    "# Create stepped plots\n",
    "sqft_2 = []\n",
    "rent_2 = []\n",
    "for i in range(1,len(ff)):\n",
    "    sqft_2.append(sqft[i-1])\n",
    "    rent_2.append(ff[i])\n",
    "    if abs(ff[i]-ff[i-1]) != 0:\n",
    "#         print((sqft[i] + sqft[i-1])/2)\n",
    "        sqft_2.append((sqft[i] + sqft[i-1])/2)\n",
    "        sqft_2.append((sqft[i] + sqft[i-1])/2)\n",
    "        rent_2.append(ff[1])   \n",
    "        rent_2.append(ff[i-1])\n",
    "    if i == len(ff)-1:\n",
    "        print(i)\n",
    "        sqft_2.append(sqft[len(rent)-1])\n",
    "        rent_2.append(rent[len(rent)-1])  \n",
    "        \n",
    "rent_2 = np.sort(rent_2)      \n",
    "print(rent_2)\n",
    "print(sqft_2)"
   ]
  },
  {
   "cell_type": "code",
   "execution_count": 43,
   "metadata": {},
   "outputs": [
    {
     "data": {
      "text/plain": [
       "array([array([1195.41666667]), array([1195.41666667]),\n",
       "       array([1195.41666667]), array([1349.58333333]),\n",
       "       array([1349.58333333]), array([1349.58333333]),\n",
       "       array([1349.58333333]), 2000, 2000], dtype=object)"
      ]
     },
     "execution_count": 43,
     "metadata": {},
     "output_type": "execute_result"
    }
   ],
   "source": [
    "for j in range(1,len(rent_2)):\n",
    "    if sqft_2[j] - sqft_2[j-1] == 0:\n",
    "        rent_2[j] = rent_2[j+1]\n",
    "rent_2\n"
   ]
  },
  {
   "cell_type": "code",
   "execution_count": 44,
   "metadata": {},
   "outputs": [],
   "source": [
    "# # Create stepped plots\n",
    "# sqft_2 = []\n",
    "# rent_2 = []\n",
    "# for i in range(0,len(rent)):\n",
    "#     sqft_2.append(sqft[i])\n",
    "#     rent_2.append(ff[i])\n",
    "#     if abs(ff[i]-ff[i+1]) != 0:\n",
    "# #         print((sqft[i] + sqft[i-1])/2)\n",
    "#         sqft_2.append((sqft[i] + sqft[i+1])/2)\n",
    "#         sqft_2.append((sqft[i] + sqft[i+1])/2)\n",
    "#         rent_2.append(ff[1])   \n",
    "#         rent_2.append(ff[i-1])\n",
    "#     if i == len(rent):\n",
    "#         print(i)\n",
    "#         sqft_2.append(sqft[len(rent)])\n",
    "#         rent_2.append(rent[len(rent)])  \n",
    "        \n",
    "# # rent_2 = np.sort(rent_2)      \n",
    "# print(rent_2)\n",
    "# print(sqft_2)"
   ]
  },
  {
   "cell_type": "code",
   "execution_count": 45,
   "metadata": {},
   "outputs": [],
   "source": [
    "# # Create stepped plots\n",
    "# sqft_2 = []\n",
    "# rent_2 = []\n",
    "# for i in range(1,len(rent)):\n",
    "#     sqft_2.append(sqft[i-1])\n",
    "#     rent_2.append(ff[i])\n",
    "#     if abs(ff[i]-ff[i-1]) != 0:\n",
    "# #         print((sqft[i] + sqft[i-1])/2)\n",
    "#         sqft_2.append((sqft[i] + sqft[i-1])/2)\n",
    "#         rent_2.append(ff[1])        \n",
    "#     if i == len(rent)-1:\n",
    "#         print(i)\n",
    "#         sqft_2.append(sqft[len(rent)-1])\n",
    "#         rent_2.append(rent[i])  \n",
    "        \n",
    "# rent_2 = np.sort(rent_2)      \n",
    "# print(rent_2)\n",
    "# print(sqft_2)"
   ]
  },
  {
   "cell_type": "code",
   "execution_count": 46,
   "metadata": {},
   "outputs": [
    {
     "data": {
      "text/plain": [
       "array([1160, 1200, 1280, 1450, 2000])"
      ]
     },
     "execution_count": 46,
     "metadata": {},
     "output_type": "execute_result"
    }
   ],
   "source": [
    "rent"
   ]
  },
  {
   "cell_type": "code",
   "execution_count": 47,
   "metadata": {},
   "outputs": [
    {
     "data": {
      "image/png": "[encoded data removed]",
      "text/plain": [
       "<Figure size 432x288 with 1 Axes>"
      ]
     },
     "metadata": {
      "needs_background": "light"
     },
     "output_type": "display_data"
    }
   ],
   "source": [
    "plt.scatter(sqft,rent)\n",
    "plt.scatter(sqft_2,rent_2, marker='+', color='darkviolet')\n",
    "plt.plot(sqft_2,rent_2)\n",
    "# plt.plot(sqft,ff, marker='*', color='red')\n",
    "plt.grid()\n",
    "plt.show()"
   ]
  },
  {
   "cell_type": "code",
   "execution_count": 48,
   "metadata": {},
   "outputs": [
    {
     "data": {
      "text/plain": [
       "[array([1195.41666667]),\n",
       " array([1195.41666667]),\n",
       " array([1349.58333333]),\n",
       " array([1349.58333333]),\n",
       " array([2000.])]"
      ]
     },
     "execution_count": 48,
     "metadata": {},
     "output_type": "execute_result"
    }
   ],
   "source": [
    "ff"
   ]
  },
  {
   "cell_type": "code",
   "execution_count": 49,
   "metadata": {},
   "outputs": [
    {
     "data": {
      "text/html": [
       "<div>\n",
       "<style scoped>\n",
       "    .dataframe tbody tr th:only-of-type {\n",
       "        vertical-align: middle;\n",
       "    }\n",
       "\n",
       "    .dataframe tbody tr th {\n",
       "        vertical-align: top;\n",
       "    }\n",
       "\n",
       "    .dataframe thead th {\n",
       "        text-align: right;\n",
       "    }\n",
       "</style>\n",
       "<table border=\"1\" class=\"dataframe\">\n",
       "  <thead>\n",
       "    <tr style=\"text-align: right;\">\n",
       "      <th></th>\n",
       "      <th>Outlook</th>\n",
       "      <th>Temp</th>\n",
       "      <th>Humidity</th>\n",
       "      <th>Wind</th>\n",
       "      <th>Decision</th>\n",
       "    </tr>\n",
       "  </thead>\n",
       "  <tbody>\n",
       "    <tr>\n",
       "      <th>0</th>\n",
       "      <td>Sunny</td>\n",
       "      <td>Hot</td>\n",
       "      <td>High</td>\n",
       "      <td>Weak</td>\n",
       "      <td>25</td>\n",
       "    </tr>\n",
       "    <tr>\n",
       "      <th>1</th>\n",
       "      <td>Sunny</td>\n",
       "      <td>Hot</td>\n",
       "      <td>High</td>\n",
       "      <td>Strong</td>\n",
       "      <td>30</td>\n",
       "    </tr>\n",
       "    <tr>\n",
       "      <th>2</th>\n",
       "      <td>Overcast</td>\n",
       "      <td>Hot</td>\n",
       "      <td>High</td>\n",
       "      <td>Weak</td>\n",
       "      <td>46</td>\n",
       "    </tr>\n",
       "    <tr>\n",
       "      <th>3</th>\n",
       "      <td>Rain</td>\n",
       "      <td>Mild</td>\n",
       "      <td>High</td>\n",
       "      <td>Weak</td>\n",
       "      <td>45</td>\n",
       "    </tr>\n",
       "    <tr>\n",
       "      <th>4</th>\n",
       "      <td>Rain</td>\n",
       "      <td>Cool</td>\n",
       "      <td>Normal</td>\n",
       "      <td>Weak</td>\n",
       "      <td>52</td>\n",
       "    </tr>\n",
       "    <tr>\n",
       "      <th>5</th>\n",
       "      <td>Rain</td>\n",
       "      <td>Cool</td>\n",
       "      <td>Normal</td>\n",
       "      <td>Strong</td>\n",
       "      <td>23</td>\n",
       "    </tr>\n",
       "    <tr>\n",
       "      <th>6</th>\n",
       "      <td>Overcast</td>\n",
       "      <td>Cool</td>\n",
       "      <td>Normal</td>\n",
       "      <td>Strong</td>\n",
       "      <td>43</td>\n",
       "    </tr>\n",
       "    <tr>\n",
       "      <th>7</th>\n",
       "      <td>Sunny</td>\n",
       "      <td>Mild</td>\n",
       "      <td>High</td>\n",
       "      <td>Weak</td>\n",
       "      <td>35</td>\n",
       "    </tr>\n",
       "    <tr>\n",
       "      <th>8</th>\n",
       "      <td>Sunny</td>\n",
       "      <td>Cool</td>\n",
       "      <td>Normal</td>\n",
       "      <td>Weak</td>\n",
       "      <td>38</td>\n",
       "    </tr>\n",
       "    <tr>\n",
       "      <th>9</th>\n",
       "      <td>Rain</td>\n",
       "      <td>Mild</td>\n",
       "      <td>Normal</td>\n",
       "      <td>Weak</td>\n",
       "      <td>46</td>\n",
       "    </tr>\n",
       "    <tr>\n",
       "      <th>10</th>\n",
       "      <td>Sunny</td>\n",
       "      <td>Mild</td>\n",
       "      <td>Normal</td>\n",
       "      <td>Strong</td>\n",
       "      <td>48</td>\n",
       "    </tr>\n",
       "    <tr>\n",
       "      <th>11</th>\n",
       "      <td>Overcast</td>\n",
       "      <td>Mild</td>\n",
       "      <td>High</td>\n",
       "      <td>Strong</td>\n",
       "      <td>52</td>\n",
       "    </tr>\n",
       "    <tr>\n",
       "      <th>12</th>\n",
       "      <td>Overcast</td>\n",
       "      <td>Hot</td>\n",
       "      <td>Normal</td>\n",
       "      <td>Weak</td>\n",
       "      <td>44</td>\n",
       "    </tr>\n",
       "    <tr>\n",
       "      <th>13</th>\n",
       "      <td>Rain</td>\n",
       "      <td>Mild</td>\n",
       "      <td>High</td>\n",
       "      <td>Strong</td>\n",
       "      <td>30</td>\n",
       "    </tr>\n",
       "  </tbody>\n",
       "</table>\n",
       "</div>"
      ],
      "text/plain": [
       "     Outlook  Temp Humidity    Wind  Decision\n",
       "0      Sunny   Hot     High    Weak        25\n",
       "1      Sunny   Hot     High  Strong        30\n",
       "2   Overcast   Hot     High    Weak        46\n",
       "3       Rain  Mild     High    Weak        45\n",
       "4       Rain  Cool   Normal    Weak        52\n",
       "5       Rain  Cool   Normal  Strong        23\n",
       "6   Overcast  Cool   Normal  Strong        43\n",
       "7      Sunny  Mild     High    Weak        35\n",
       "8      Sunny  Cool   Normal    Weak        38\n",
       "9       Rain  Mild   Normal    Weak        46\n",
       "10     Sunny  Mild   Normal  Strong        48\n",
       "11  Overcast  Mild     High  Strong        52\n",
       "12  Overcast   Hot   Normal    Weak        44\n",
       "13      Rain  Mild     High  Strong        30"
      ]
     },
     "execution_count": 49,
     "metadata": {},
     "output_type": "execute_result"
    }
   ],
   "source": [
    "df = pd.read_csv(\"golf3.txt\")\n",
    "dec_org = df['Decision']\n",
    "df.head(15)"
   ]
  },
  {
   "cell_type": "code",
   "execution_count": 50,
   "metadata": {},
   "outputs": [
    {
     "data": {
      "text/html": [
       "<div>\n",
       "<style scoped>\n",
       "    .dataframe tbody tr th:only-of-type {\n",
       "        vertical-align: middle;\n",
       "    }\n",
       "\n",
       "    .dataframe tbody tr th {\n",
       "        vertical-align: top;\n",
       "    }\n",
       "\n",
       "    .dataframe thead th {\n",
       "        text-align: right;\n",
       "    }\n",
       "</style>\n",
       "<table border=\"1\" class=\"dataframe\">\n",
       "  <thead>\n",
       "    <tr style=\"text-align: right;\">\n",
       "      <th></th>\n",
       "      <th>Decision</th>\n",
       "    </tr>\n",
       "  </thead>\n",
       "  <tbody>\n",
       "    <tr>\n",
       "      <th>0</th>\n",
       "      <td>25</td>\n",
       "    </tr>\n",
       "    <tr>\n",
       "      <th>1</th>\n",
       "      <td>30</td>\n",
       "    </tr>\n",
       "    <tr>\n",
       "      <th>2</th>\n",
       "      <td>46</td>\n",
       "    </tr>\n",
       "    <tr>\n",
       "      <th>3</th>\n",
       "      <td>45</td>\n",
       "    </tr>\n",
       "    <tr>\n",
       "      <th>4</th>\n",
       "      <td>52</td>\n",
       "    </tr>\n",
       "    <tr>\n",
       "      <th>5</th>\n",
       "      <td>23</td>\n",
       "    </tr>\n",
       "    <tr>\n",
       "      <th>6</th>\n",
       "      <td>43</td>\n",
       "    </tr>\n",
       "    <tr>\n",
       "      <th>7</th>\n",
       "      <td>35</td>\n",
       "    </tr>\n",
       "    <tr>\n",
       "      <th>8</th>\n",
       "      <td>38</td>\n",
       "    </tr>\n",
       "    <tr>\n",
       "      <th>9</th>\n",
       "      <td>46</td>\n",
       "    </tr>\n",
       "    <tr>\n",
       "      <th>10</th>\n",
       "      <td>48</td>\n",
       "    </tr>\n",
       "    <tr>\n",
       "      <th>11</th>\n",
       "      <td>52</td>\n",
       "    </tr>\n",
       "    <tr>\n",
       "      <th>12</th>\n",
       "      <td>44</td>\n",
       "    </tr>\n",
       "    <tr>\n",
       "      <th>13</th>\n",
       "      <td>30</td>\n",
       "    </tr>\n",
       "  </tbody>\n",
       "</table>\n",
       "</div>"
      ],
      "text/plain": [
       "    Decision\n",
       "0         25\n",
       "1         30\n",
       "2         46\n",
       "3         45\n",
       "4         52\n",
       "5         23\n",
       "6         43\n",
       "7         35\n",
       "8         38\n",
       "9         46\n",
       "10        48\n",
       "11        52\n",
       "12        44\n",
       "13        30"
      ]
     },
     "execution_count": 50,
     "metadata": {},
     "output_type": "execute_result"
    }
   ],
   "source": [
    "dec_org_lst = dec_org.tolist()\n",
    "\n",
    "epoch = []\n",
    "epoch = pd.DataFrame(dec_org)\n",
    "epoch"
   ]
  },
  {
   "cell_type": "code",
   "execution_count": 51,
   "metadata": {},
   "outputs": [
    {
     "data": {
      "text/plain": [
       "46.25"
      ]
     },
     "execution_count": 51,
     "metadata": {},
     "output_type": "execute_result"
    }
   ],
   "source": [
    "# Overcast\n",
    "overcast = []\n",
    "for i in range(0,len(dec_org)):\n",
    "    if df['Outlook'][i] == 'Overcast':\n",
    "        overcast.append(dec_org[i])\n",
    "        \n",
    "overcast = np.mean(overcast)\n",
    "overcast"
   ]
  },
  {
   "cell_type": "code",
   "execution_count": 52,
   "metadata": {},
   "outputs": [
    {
     "data": {
      "text/plain": [
       "['Sunny', 'Overcast', 'Rain']"
      ]
     },
     "execution_count": 52,
     "metadata": {},
     "output_type": "execute_result"
    }
   ],
   "source": [
    "# Create lists of labels\n",
    "outlook_labels = [] \n",
    "temp_labels = []\n",
    "hum_labels = []\n",
    "wind_labels = []\n",
    "\n",
    "# inputs[2][0]\n",
    "\n",
    "for i in range(len(dec_org )):\n",
    "    if df['Outlook'][i] not in outlook_labels:\n",
    "        outlook_labels.append(df['Outlook'][i])\n",
    "    if df['Temp'][i] not in temp_labels:\n",
    "        temp_labels.append(df['Temp'][i])\n",
    "    if df['Humidity'][i] not in hum_labels:\n",
    "        hum_labels.append(df['Humidity'][i])\n",
    "    if df['Wind'][i] not in wind_labels:\n",
    "        wind_labels.append(df['Wind'][i])\n",
    "outlook_labels"
   ]
  },
  {
   "cell_type": "code",
   "execution_count": 53,
   "metadata": {},
   "outputs": [
    {
     "data": {
      "text/plain": [
       "[Candidate(outlook='Sunny', temp='Hot', humidity='High', wind='Weak', decision=25),\n",
       " Candidate(outlook='Sunny', temp='Hot', humidity='High', wind='Strong', decision=30),\n",
       " Candidate(outlook='Overcast', temp='Hot', humidity='High', wind='Weak', decision=46),\n",
       " Candidate(outlook='Rain', temp='Mild', humidity='High', wind='Weak', decision=45),\n",
       " Candidate(outlook='Rain', temp='Cool', humidity='Normal', wind='Weak', decision=52),\n",
       " Candidate(outlook='Rain', temp='Cool', humidity='Normal', wind='Strong', decision=23),\n",
       " Candidate(outlook='Overcast', temp='Cool', humidity='Normal', wind='Strong', decision=43),\n",
       " Candidate(outlook='Sunny', temp='Mild', humidity='High', wind='Weak', decision=35),\n",
       " Candidate(outlook='Sunny', temp='Cool', humidity='Normal', wind='Weak', decision=38),\n",
       " Candidate(outlook='Rain', temp='Mild', humidity='Normal', wind='Weak', decision=46),\n",
       " Candidate(outlook='Sunny', temp='Mild', humidity='Normal', wind='Strong', decision=48),\n",
       " Candidate(outlook='Overcast', temp='Mild', humidity='High', wind='Strong', decision=52),\n",
       " Candidate(outlook='Overcast', temp='Hot', humidity='Normal', wind='Weak', decision=44),\n",
       " Candidate(outlook='Rain', temp='Mild', humidity='High', wind='Strong', decision=30)]"
      ]
     },
     "execution_count": 53,
     "metadata": {},
     "output_type": "execute_result"
    }
   ],
   "source": [
    "# Creating a Decision Tree using Panda\n",
    "outlook = df['Outlook']\n",
    "temp = df['Temp']\n",
    "humidity = df['Humidity']\n",
    "wind = df['Wind']\n",
    "decision = df['Decision']\n",
    "\n",
    "class Candidate(NamedTuple):\n",
    "    outlook: str\n",
    "    temp: str\n",
    "    humidity: str\n",
    "    wind: str\n",
    "    decision: Optional[float] = None  # allow unlabeled data\n",
    "        \n",
    "# inputs = Candidate(outlook,temp,humidity,wind,decision)\n",
    "\n",
    "inputs = []\n",
    "for i in range(len(df)):\n",
    "    inputs.append(Candidate(df['Outlook'][i],df['Temp'][i],df['Humidity'][i],df['Wind'][i],dec_org[i]))\n",
    "inputs"
   ]
  },
  {
   "cell_type": "code",
   "execution_count": 54,
   "metadata": {},
   "outputs": [
    {
     "name": "stdout",
     "output_type": "stream",
     "text": [
      "Sunny_temp1: 27.5\n",
      "Sunny_temp2: 27.5\n"
     ]
    },
    {
     "data": {
      "text/plain": [
       "{'Hot': 27.5, 'Mild': 41.5, 'Cool': 38.0}"
      ]
     },
     "execution_count": 54,
     "metadata": {},
     "output_type": "execute_result"
    }
   ],
   "source": [
    "# Weather - Sunny\n",
    "w1 = {}\n",
    "w1_prob = {}\n",
    "\n",
    "for j in range(0,len(temp_labels)):\n",
    "    weather = []\n",
    "    for i in range(0,len(inputs)):\n",
    "        if inputs[i][0] == 'Sunny' and inputs[i][1] == temp_labels[j]:\n",
    "            weather.append(inputs[i][4])\n",
    "    w1[temp_labels[j]] = weather\n",
    "    w1_prob[temp_labels[j]]  = np.mean(weather)\n",
    "    \n",
    "\n",
    "sunny_temp = w1_prob\n",
    "\n",
    "for j in range(len(w1_prob)):\n",
    "    weather_sun = 'sunny_temp_' + str(temp_labels[j]).lower()\n",
    "    sun = exec(weather_sun + '=' + str(w1_prob[temp_labels[j]]))\n",
    "    \n",
    "# Print trees\n",
    "sun_temp_hot = sunny_temp['Hot']\n",
    "sun_temp_mild = sunny_temp['Mild']\n",
    "sun_temp_cool = sunny_temp['Cool']\n",
    "print('Sunny_temp1:',sun_temp_hot)\n",
    "\n",
    "print('Sunny_temp2:',sunny_temp_hot)\n",
    "w1_prob['Hot']\n",
    "sunny_temp"
   ]
  },
  {
   "cell_type": "code",
   "execution_count": 55,
   "metadata": {},
   "outputs": [
    {
     "data": {
      "text/plain": [
       "{'Weak': 47.666666666666664, 'Strong': 26.5}"
      ]
     },
     "execution_count": 55,
     "metadata": {},
     "output_type": "execute_result"
    }
   ],
   "source": [
    "# Weather - Wind\n",
    "\n",
    "w1 = {}\n",
    "w1_prob = {}\n",
    "for j in range(0,len(wind_labels)):\n",
    "#     print(temp_labels[j])\n",
    "    weather = []\n",
    "    for i in range(0,len(inputs)):\n",
    "        if inputs[i][0] == 'Rain' and inputs[i][3] == wind_labels[j]:\n",
    "            weather.append(inputs[i][4])\n",
    "    w1[wind_labels[j]] = weather\n",
    "    w1_prob[wind_labels[j]]  = np.mean(weather)\n",
    "\n",
    "rain_wind = w1_prob\n",
    "\n",
    "for j in range(len(w1_prob)):\n",
    "    weather_rain = 'rain_wind' + str(wind_labels[j])\n",
    "    rain_1 = exec(weather_rain + '=' + str(inputs[i][4]))\n",
    "\n",
    "\n",
    "w1_prob"
   ]
  },
  {
   "cell_type": "code",
   "execution_count": 56,
   "metadata": {},
   "outputs": [
    {
     "name": "stdout",
     "output_type": "stream",
     "text": [
      "Sunny_temp1: 27.5\n",
      "Sunny_temp2: 27.5\n"
     ]
    },
    {
     "data": {
      "text/plain": [
       "{'Hot': 27.5, 'Mild': 41.5, 'Cool': 38.0}"
      ]
     },
     "execution_count": 56,
     "metadata": {},
     "output_type": "execute_result"
    }
   ],
   "source": [
    "# Weather - Sunny\n",
    "w1 = {}\n",
    "w1_prob = {}\n",
    "\n",
    "for j in range(0,len(temp_labels)):\n",
    "    weather = []\n",
    "    for i in range(0,len(inputs)):\n",
    "        if inputs[i][0] == 'Sunny' and inputs[i][1] == temp_labels[j]:\n",
    "            weather.append(inputs[i][4])\n",
    "    w1[temp_labels[j]] = weather\n",
    "    w1_prob[temp_labels[j]]  = np.mean(weather)\n",
    "    \n",
    "\n",
    "sunny_temp = w1_prob\n",
    "\n",
    "for j in range(len(w1_prob)):\n",
    "    weather_sun = 'sunny_temp_' + str(temp_labels[j]).lower()\n",
    "    sun = exec(weather_sun + '=' + str(w1_prob[temp_labels[j]]))\n",
    "    \n",
    "# Print trees\n",
    "sun_temp_hot = sunny_temp['Hot']\n",
    "sun_temp_mild = sunny_temp['Mild']\n",
    "sun_temp_cool = sunny_temp['Cool']\n",
    "print('Sunny_temp1:',sun_temp_hot)\n",
    "\n",
    "print('Sunny_temp2:',sunny_temp_hot)\n",
    "w1_prob['Hot']\n",
    "sunny_temp"
   ]
  },
  {
   "cell_type": "code",
   "execution_count": 57,
   "metadata": {},
   "outputs": [
    {
     "name": "stdout",
     "output_type": "stream",
     "text": [
      "27.5\n",
      "27.5\n",
      "46.25\n",
      "47.666666666666664\n",
      "47.666666666666664\n",
      "26.5\n",
      "46.25\n",
      "41.5\n",
      "38.0\n",
      "47.666666666666664\n",
      "41.5\n",
      "46.25\n",
      "46.25\n",
      "26.5\n"
     ]
    }
   ],
   "source": [
    "# Decisions\n",
    "dec_prob = []\n",
    "for i in range(len(inputs)):\n",
    "    if inputs[i][0] == 'Sunny':\n",
    "        if inputs[i][1] == 'Hot':\n",
    "            dec_prob.append(w1_prob['Hot'])\n",
    "            print(w1_prob['Hot'])\n",
    "        elif inputs[i][1] == 'Mild':\n",
    "            dec_prob.append(w1_prob['Mild'])\n",
    "            print(w1_prob['Mild'])\n",
    "        elif inputs[i][1] == 'Cool':\n",
    "            dec_prob.append(w1_prob['Cool'])\n",
    "            print(w1_prob['Cool'])\n",
    "    elif inputs[i][0] == 'Rain':\n",
    "        if inputs[i][3] == 'Weak':\n",
    "            dec_prob.append(rain_wind['Weak'])\n",
    "            print(rain_wind['Weak'])\n",
    "        elif inputs[i][3] == 'Strong':\n",
    "            dec_prob.append(rain_wind['Strong'])\n",
    "            print(rain_wind['Strong'])\n",
    "    elif inputs[i][0] == 'Overcast':\n",
    "        dec_prob.append(overcast)\n",
    "        print(overcast)\n",
    "# dec_prob"
   ]
  },
  {
   "cell_type": "code",
   "execution_count": 58,
   "metadata": {},
   "outputs": [
    {
     "data": {
      "text/plain": [
       "[27.5,\n",
       " 27.5,\n",
       " 46.25,\n",
       " 47.666666666666664,\n",
       " 47.666666666666664,\n",
       " 26.5,\n",
       " 46.25,\n",
       " 41.5,\n",
       " 38.0,\n",
       " 47.666666666666664,\n",
       " 41.5,\n",
       " 46.25,\n",
       " 46.25,\n",
       " 26.5]"
      ]
     },
     "execution_count": 58,
     "metadata": {},
     "output_type": "execute_result"
    }
   ],
   "source": [
    "f_0 = dec_prob\n",
    "f_0"
   ]
  },
  {
   "cell_type": "code",
   "execution_count": 59,
   "metadata": {},
   "outputs": [
    {
     "data": {
      "text/html": [
       "<div>\n",
       "<style scoped>\n",
       "    .dataframe tbody tr th:only-of-type {\n",
       "        vertical-align: middle;\n",
       "    }\n",
       "\n",
       "    .dataframe tbody tr th {\n",
       "        vertical-align: top;\n",
       "    }\n",
       "\n",
       "    .dataframe thead th {\n",
       "        text-align: right;\n",
       "    }\n",
       "</style>\n",
       "<table border=\"1\" class=\"dataframe\">\n",
       "  <thead>\n",
       "    <tr style=\"text-align: right;\">\n",
       "      <th></th>\n",
       "      <th>Decision</th>\n",
       "      <th>f_0</th>\n",
       "      <th>delta_1</th>\n",
       "    </tr>\n",
       "  </thead>\n",
       "  <tbody>\n",
       "    <tr>\n",
       "      <th>0</th>\n",
       "      <td>25</td>\n",
       "      <td>27.500000</td>\n",
       "      <td>-2.500000</td>\n",
       "    </tr>\n",
       "    <tr>\n",
       "      <th>1</th>\n",
       "      <td>30</td>\n",
       "      <td>27.500000</td>\n",
       "      <td>2.500000</td>\n",
       "    </tr>\n",
       "    <tr>\n",
       "      <th>2</th>\n",
       "      <td>46</td>\n",
       "      <td>46.250000</td>\n",
       "      <td>-0.250000</td>\n",
       "    </tr>\n",
       "    <tr>\n",
       "      <th>3</th>\n",
       "      <td>45</td>\n",
       "      <td>47.666667</td>\n",
       "      <td>-2.666667</td>\n",
       "    </tr>\n",
       "    <tr>\n",
       "      <th>4</th>\n",
       "      <td>52</td>\n",
       "      <td>47.666667</td>\n",
       "      <td>4.333333</td>\n",
       "    </tr>\n",
       "    <tr>\n",
       "      <th>5</th>\n",
       "      <td>23</td>\n",
       "      <td>26.500000</td>\n",
       "      <td>-3.500000</td>\n",
       "    </tr>\n",
       "    <tr>\n",
       "      <th>6</th>\n",
       "      <td>43</td>\n",
       "      <td>46.250000</td>\n",
       "      <td>-3.250000</td>\n",
       "    </tr>\n",
       "    <tr>\n",
       "      <th>7</th>\n",
       "      <td>35</td>\n",
       "      <td>41.500000</td>\n",
       "      <td>-6.500000</td>\n",
       "    </tr>\n",
       "    <tr>\n",
       "      <th>8</th>\n",
       "      <td>38</td>\n",
       "      <td>38.000000</td>\n",
       "      <td>0.000000</td>\n",
       "    </tr>\n",
       "    <tr>\n",
       "      <th>9</th>\n",
       "      <td>46</td>\n",
       "      <td>47.666667</td>\n",
       "      <td>-1.666667</td>\n",
       "    </tr>\n",
       "    <tr>\n",
       "      <th>10</th>\n",
       "      <td>48</td>\n",
       "      <td>41.500000</td>\n",
       "      <td>6.500000</td>\n",
       "    </tr>\n",
       "    <tr>\n",
       "      <th>11</th>\n",
       "      <td>52</td>\n",
       "      <td>46.250000</td>\n",
       "      <td>5.750000</td>\n",
       "    </tr>\n",
       "    <tr>\n",
       "      <th>12</th>\n",
       "      <td>44</td>\n",
       "      <td>46.250000</td>\n",
       "      <td>-2.250000</td>\n",
       "    </tr>\n",
       "    <tr>\n",
       "      <th>13</th>\n",
       "      <td>30</td>\n",
       "      <td>26.500000</td>\n",
       "      <td>3.500000</td>\n",
       "    </tr>\n",
       "  </tbody>\n",
       "</table>\n",
       "</div>"
      ],
      "text/plain": [
       "    Decision        f_0   delta_1\n",
       "0         25  27.500000 -2.500000\n",
       "1         30  27.500000  2.500000\n",
       "2         46  46.250000 -0.250000\n",
       "3         45  47.666667 -2.666667\n",
       "4         52  47.666667  4.333333\n",
       "5         23  26.500000 -3.500000\n",
       "6         43  46.250000 -3.250000\n",
       "7         35  41.500000 -6.500000\n",
       "8         38  38.000000  0.000000\n",
       "9         46  47.666667 -1.666667\n",
       "10        48  41.500000  6.500000\n",
       "11        52  46.250000  5.750000\n",
       "12        44  46.250000 -2.250000\n",
       "13        30  26.500000  3.500000"
      ]
     },
     "execution_count": 59,
     "metadata": {},
     "output_type": "execute_result"
    }
   ],
   "source": [
    "epoch['f_0']= pd.DataFrame(f_0)\n",
    "resd = dec_org - f_0\n",
    "epoch['delta_1'] = pd.DataFrame(resd)\n",
    "epoch"
   ]
  },
  {
   "cell_type": "code",
   "execution_count": 60,
   "metadata": {},
   "outputs": [
    {
     "name": "stdout",
     "output_type": "stream",
     "text": [
      "[[-0.26923077]\n",
      " [-0.26923077]\n",
      " [-0.26923077]\n",
      " [-0.26923077]\n",
      " [-0.26923077]\n",
      " [-0.26923077]\n",
      " [-0.26923077]\n",
      " [-0.26923077]\n",
      " [-0.26923077]\n",
      " [-0.26923077]\n",
      " [-0.26923077]\n",
      " [-0.26923077]\n",
      " [-0.26923077]]\n"
     ]
    },
    {
     "data": {
      "text/plain": [
       "array([27.23076923, 27.23076923, 45.98076923, 47.3974359 , 47.3974359 ,\n",
       "       26.23076923, 45.98076923, 41.23076923, 37.73076923, 47.3974359 ,\n",
       "       41.23076923, 45.98076923, 45.98076923, 26.23076923])"
      ]
     },
     "execution_count": 60,
     "metadata": {},
     "output_type": "execute_result"
    }
   ],
   "source": [
    "# delta T\n",
    "delta_1 = np.mean(resd[0:len(dec_org)-1]) * np.ones((len(dec_org)-1,1))\n",
    "print(delta_1)\n",
    "# resd[len(rent)-1]\n",
    "# delta_1 = np.vstack((delta_1,resd[len(rent)-1]))\n",
    "# f_1 = np.mean(f_0[0:len(rent)-1])* np.ones((len(rent)-1,1)) + delta_1\n",
    "# f_1\n",
    "# f_0_1 = np.vstack(((np.mean(f_0[0:len(rent)])* np.ones((len(rent)-1,1))),rent[len(rent)-1])) \n",
    "# f_0_1 = np.mean(f_0[0:len(dec_org)])* np.ones((len(dec_org)-1,1))\n",
    "f_1 = f_0 + delta_1\n",
    "# f_1 = np.vstack((f_0,dec_org[len(dec_org)-1])) \n",
    "f_1 = f_1[0]\n",
    "f_1"
   ]
  },
  {
   "cell_type": "code",
   "execution_count": 61,
   "metadata": {},
   "outputs": [
    {
     "data": {
      "text/plain": [
       "[-2.23076923076923,\n",
       " 2.76923076923077,\n",
       " 0.019230769230766498,\n",
       " -2.397435897435898,\n",
       " 4.602564102564102,\n",
       " -3.23076923076923,\n",
       " -2.9807692307692335,\n",
       " -6.2307692307692335,\n",
       " 0.2692307692307665,\n",
       " -1.3974358974358978,\n",
       " 6.7692307692307665,\n",
       " 6.0192307692307665,\n",
       " -1.9807692307692335,\n",
       " 3.76923076923077]"
      ]
     },
     "execution_count": 61,
     "metadata": {},
     "output_type": "execute_result"
    }
   ],
   "source": [
    "#y - F_1\n",
    "y_f1 = []\n",
    "for i in range(len(dec_org)):\n",
    "    y_f1.append(dec_org[i] - f_1[i]) \n",
    "y_f1"
   ]
  },
  {
   "cell_type": "code",
   "execution_count": 62,
   "metadata": {},
   "outputs": [
    {
     "data": {
      "text/plain": [
       "[-2.9212454212454224,\n",
       " 3.4597069597069585,\n",
       " 3.4597069597069585,\n",
       " -2.9212454212454224,\n",
       " 3.4597069597069585,\n",
       " -2.9212454212454224,\n",
       " -2.9212454212454224,\n",
       " -2.9212454212454224,\n",
       " 3.4597069597069585,\n",
       " -2.9212454212454224,\n",
       " 3.4597069597069585,\n",
       " 3.4597069597069585,\n",
       " -2.9212454212454224,\n",
       " 3.4597069597069585]"
      ]
     },
     "execution_count": 62,
     "metadata": {},
     "output_type": "execute_result"
    }
   ],
   "source": [
    "# Delta 2\n",
    "delta_pos = []\n",
    "delta_neg = []\n",
    "for i in range(0,len(dec_org)):\n",
    "    if y_f1[i] >= 0:\n",
    "        delta_pos.append(y_f1[i])\n",
    "    else:\n",
    "        delta_neg.append(y_f1[i])\n",
    "delta_pos\n",
    "\n",
    "delta_2 = []\n",
    "for i in range(0,len(dec_org)):\n",
    "    if y_f1[i] >= 0:\n",
    "        delta_2.append(np.mean(delta_pos))\n",
    "    else:\n",
    "        delta_2.append(np.mean(delta_neg))\n",
    "delta_2"
   ]
  },
  {
   "cell_type": "code",
   "execution_count": 63,
   "metadata": {},
   "outputs": [
    {
     "data": {
      "text/plain": [
       "[24.309523809523807,\n",
       " 30.69047619047619,\n",
       " 49.44047619047619,\n",
       " 44.476190476190474,\n",
       " 50.857142857142854,\n",
       " 23.309523809523807,\n",
       " 43.05952380952381,\n",
       " 38.30952380952381,\n",
       " 41.19047619047619,\n",
       " 44.476190476190474,\n",
       " 44.69047619047619,\n",
       " 49.44047619047619,\n",
       " 43.05952380952381,\n",
       " 29.69047619047619]"
      ]
     },
     "execution_count": 63,
     "metadata": {},
     "output_type": "execute_result"
    }
   ],
   "source": [
    "# F2\n",
    "f_2 = []\n",
    "for i in range(len(dec_org)):\n",
    "    f_2.append(f_1[i] + delta_2[i])\n",
    "f_2"
   ]
  },
  {
   "cell_type": "code",
   "execution_count": 64,
   "metadata": {},
   "outputs": [
    {
     "data": {
      "text/plain": [
       "[0.6904761904761934,\n",
       " -0.6904761904761898,\n",
       " -3.44047619047619,\n",
       " 0.5238095238095255,\n",
       " 1.142857142857146,\n",
       " -0.30952380952380665,\n",
       " -0.0595238095238102,\n",
       " -3.30952380952381,\n",
       " -3.19047619047619,\n",
       " 1.5238095238095255,\n",
       " 3.30952380952381,\n",
       " 2.55952380952381,\n",
       " 0.9404761904761898,\n",
       " 0.3095238095238102]"
      ]
     },
     "execution_count": 64,
     "metadata": {},
     "output_type": "execute_result"
    }
   ],
   "source": [
    "# y - F2\n",
    "y_f2 = []\n",
    "for i in range(len(dec_org)):\n",
    "    y_f2.append(dec_org[i] - f_2[i]) \n",
    "y_f2"
   ]
  },
  {
   "cell_type": "code",
   "execution_count": 65,
   "metadata": {},
   "outputs": [
    {
     "name": "stdout",
     "output_type": "stream",
     "text": [
      "[[-0.02380952]\n",
      " [-0.02380952]\n",
      " [-0.02380952]\n",
      " [-0.02380952]\n",
      " [-0.02380952]\n",
      " [-0.02380952]\n",
      " [-0.02380952]\n",
      " [-0.02380952]\n",
      " [-0.02380952]\n",
      " [-0.02380952]\n",
      " [-0.02380952]\n",
      " [-0.02380952]\n",
      " [-0.02380952]\n",
      " [ 0.30952381]]\n"
     ]
    }
   ],
   "source": [
    "# delta T\n",
    "delta_3 = np.mean(y_f2[0:len(dec_org)-1]) * np.ones((len(dec_org)-1,1))\n",
    "delta_3 = np.vstack((delta_3,y_f2[len(dec_org)-1]))\n",
    "print(delta_3)"
   ]
  },
  {
   "cell_type": "code",
   "execution_count": 66,
   "metadata": {},
   "outputs": [
    {
     "data": {
      "text/plain": [
       "[array([24.45549451]),\n",
       " array([30.59358974]),\n",
       " array([46.31858974]),\n",
       " array([44.43882784]),\n",
       " array([52.77692308]),\n",
       " array([22.35549451]),\n",
       " array([42.38049451]),\n",
       " array([34.05549451]),\n",
       " array([38.34358974]),\n",
       " array([45.53882784]),\n",
       " array([48.99358974]),\n",
       " array([52.91858974]),\n",
       " array([43.48049451]),\n",
       " array([30.72692308])]"
      ]
     },
     "execution_count": 66,
     "metadata": {},
     "output_type": "execute_result"
    }
   ],
   "source": [
    "# Plot 1\n",
    "ff = []\n",
    "for i in range(len(dec_org)):\n",
    "    ff.append(dec_org[i] + 0.1*(resd[i] + delta_2[i] + delta_3[i]))\n",
    "# ff = np.multiply(0.5,ff)\n",
    "ff"
   ]
  },
  {
   "cell_type": "code",
   "execution_count": 67,
   "metadata": {},
   "outputs": [
    {
     "name": "stdout",
     "output_type": "stream",
     "text": [
      "8\n",
      "-3\n",
      "[[-1.31481481]\n",
      " [-1.31481481]\n",
      " [-1.31481481]\n",
      " [-1.31481481]\n",
      " [-1.31481481]\n",
      " [-1.31481481]\n",
      " [-1.31481481]\n",
      " [-1.31481481]\n",
      " [-1.31481481]\n",
      " [ 0.        ]]\n"
     ]
    },
    {
     "data": {
      "text/plain": [
       "[-2.5,\n",
       " 2.5,\n",
       " -0.25,\n",
       " -2.6666666666666643,\n",
       " 4.333333333333336,\n",
       " -3.5,\n",
       " -3.25,\n",
       " -6.5,\n",
       " 0.0,\n",
       " -1.6666666666666643,\n",
       " 6.5,\n",
       " 5.75,\n",
       " -2.25,\n",
       " 3.5]"
      ]
     },
     "execution_count": 67,
     "metadata": {},
     "output_type": "execute_result"
    }
   ],
   "source": [
    "# Create y_f0\n",
    "# y_f0 = dec_org - f_0\n",
    "resd_1 = []\n",
    "for i in range(len(dec_org)):\n",
    "    resd_1.append(dec_org[i] - dec_prob[i] )\n",
    "    \n",
    "y_f2_mean = []\n",
    "resd_1\n",
    "\n",
    "resd_1\n",
    "resd_1_mean = np.mean(resd_1)\n",
    "\n",
    "abc = []\n",
    "abc_init = np.square(resd_1[0] - resd_1_mean)\n",
    "abc.append(abc_init)\n",
    "for i in range(1,len(dec_org)):\n",
    "    var_0 = np.sum((resd_1[i]-resd_1_mean)**2)\n",
    "    abc.append(var_0/(i))\n",
    "# abcd = np.sum(abc)/5\n",
    "# abcd\n",
    "abc\n",
    "\n",
    "# m = min(filter(lambda x: x > 0, abc))\n",
    "# m = min(i for i in abc if i > 0)\n",
    "# n = abc.index(m)\n",
    "# n\n",
    "# o = len(rent) - n\n",
    "\n",
    "# a = 0\n",
    "a_lst = []\n",
    "for i in abc:\n",
    "    if i > 0:\n",
    "        a_lst.append(i)\n",
    "#         a = 1\n",
    "# n = abc.index(m)\n",
    "# if a == 1:\n",
    "#     n = n - 1\n",
    "# o = len(y_f1) - n\n",
    "\n",
    "# m\n",
    "# Min\n",
    "min_a = min(a_lst)\n",
    "# min_a\n",
    "n = abc.index(min_a)\n",
    "o = len(rent) - n\n",
    "\n",
    "print(n)\n",
    "print(o)\n",
    "\n",
    "if n > o:\n",
    "    n = n + 1\n",
    "\n",
    "# Delta 2\n",
    "delta_pos = []\n",
    "delta_neg = []\n",
    "for i in range(0,len(dec_org)):\n",
    "    if i < n:\n",
    "        delta_pos.append(resd_1[i])\n",
    "    else:\n",
    "        delta_neg.append(resd_1[i])\n",
    "# delta_pos\n",
    "d_pos = np.mean(delta_pos)\n",
    "d_pos = d_pos * np.ones((n,1))\n",
    "d_pos\n",
    "\n",
    "if y_f2_mean == 0:\n",
    "    y_f2_ind = o\n",
    "    y_f2_mean = np.mean(y_f2[0:y_f2_ind])\n",
    "    d_pos = y_f2_mean * np.ones((y_f2_ind,1))\n",
    "    d_neg = delta_neg[o-n] * np.ones((len(rent)-o,1))\n",
    "d_pos    \n",
    "\n",
    "\n",
    "# delta_neg\n",
    "# d_neg = np.mean(delta_neg)\n",
    "# d_neg = d_neg * np.ones((o-1,1))\n",
    "# d_neg\n",
    "\n",
    "delta_final_1 = np.vstack((d_pos,d_neg))\n",
    "print(delta_final_1)\n",
    "\n",
    "resd_1\n",
    "\n"
   ]
  },
  {
   "cell_type": "code",
   "execution_count": 68,
   "metadata": {},
   "outputs": [
    {
     "data": {
      "text/html": [
       "<div>\n",
       "<style scoped>\n",
       "    .dataframe tbody tr th:only-of-type {\n",
       "        vertical-align: middle;\n",
       "    }\n",
       "\n",
       "    .dataframe tbody tr th {\n",
       "        vertical-align: top;\n",
       "    }\n",
       "\n",
       "    .dataframe thead th {\n",
       "        text-align: right;\n",
       "    }\n",
       "</style>\n",
       "<table border=\"1\" class=\"dataframe\">\n",
       "  <thead>\n",
       "    <tr style=\"text-align: right;\">\n",
       "      <th></th>\n",
       "      <th>Decision</th>\n",
       "      <th>f_0</th>\n",
       "      <th>delta_1</th>\n",
       "      <th>final</th>\n",
       "    </tr>\n",
       "  </thead>\n",
       "  <tbody>\n",
       "    <tr>\n",
       "      <th>0</th>\n",
       "      <td>25</td>\n",
       "      <td>27.500000</td>\n",
       "      <td>-2.500000</td>\n",
       "      <td>24.455495</td>\n",
       "    </tr>\n",
       "    <tr>\n",
       "      <th>1</th>\n",
       "      <td>30</td>\n",
       "      <td>27.500000</td>\n",
       "      <td>2.500000</td>\n",
       "      <td>30.593590</td>\n",
       "    </tr>\n",
       "    <tr>\n",
       "      <th>2</th>\n",
       "      <td>46</td>\n",
       "      <td>46.250000</td>\n",
       "      <td>-0.250000</td>\n",
       "      <td>46.318590</td>\n",
       "    </tr>\n",
       "    <tr>\n",
       "      <th>3</th>\n",
       "      <td>45</td>\n",
       "      <td>47.666667</td>\n",
       "      <td>-2.666667</td>\n",
       "      <td>44.438828</td>\n",
       "    </tr>\n",
       "    <tr>\n",
       "      <th>4</th>\n",
       "      <td>52</td>\n",
       "      <td>47.666667</td>\n",
       "      <td>4.333333</td>\n",
       "      <td>52.776923</td>\n",
       "    </tr>\n",
       "    <tr>\n",
       "      <th>5</th>\n",
       "      <td>23</td>\n",
       "      <td>26.500000</td>\n",
       "      <td>-3.500000</td>\n",
       "      <td>22.355495</td>\n",
       "    </tr>\n",
       "    <tr>\n",
       "      <th>6</th>\n",
       "      <td>43</td>\n",
       "      <td>46.250000</td>\n",
       "      <td>-3.250000</td>\n",
       "      <td>42.380495</td>\n",
       "    </tr>\n",
       "    <tr>\n",
       "      <th>7</th>\n",
       "      <td>35</td>\n",
       "      <td>41.500000</td>\n",
       "      <td>-6.500000</td>\n",
       "      <td>34.055495</td>\n",
       "    </tr>\n",
       "    <tr>\n",
       "      <th>8</th>\n",
       "      <td>38</td>\n",
       "      <td>38.000000</td>\n",
       "      <td>0.000000</td>\n",
       "      <td>38.343590</td>\n",
       "    </tr>\n",
       "    <tr>\n",
       "      <th>9</th>\n",
       "      <td>46</td>\n",
       "      <td>47.666667</td>\n",
       "      <td>-1.666667</td>\n",
       "      <td>45.538828</td>\n",
       "    </tr>\n",
       "    <tr>\n",
       "      <th>10</th>\n",
       "      <td>48</td>\n",
       "      <td>41.500000</td>\n",
       "      <td>6.500000</td>\n",
       "      <td>48.993590</td>\n",
       "    </tr>\n",
       "    <tr>\n",
       "      <th>11</th>\n",
       "      <td>52</td>\n",
       "      <td>46.250000</td>\n",
       "      <td>5.750000</td>\n",
       "      <td>52.918590</td>\n",
       "    </tr>\n",
       "    <tr>\n",
       "      <th>12</th>\n",
       "      <td>44</td>\n",
       "      <td>46.250000</td>\n",
       "      <td>-2.250000</td>\n",
       "      <td>43.480495</td>\n",
       "    </tr>\n",
       "    <tr>\n",
       "      <th>13</th>\n",
       "      <td>30</td>\n",
       "      <td>26.500000</td>\n",
       "      <td>3.500000</td>\n",
       "      <td>30.726923</td>\n",
       "    </tr>\n",
       "  </tbody>\n",
       "</table>\n",
       "</div>"
      ],
      "text/plain": [
       "    Decision        f_0   delta_1      final\n",
       "0         25  27.500000 -2.500000  24.455495\n",
       "1         30  27.500000  2.500000  30.593590\n",
       "2         46  46.250000 -0.250000  46.318590\n",
       "3         45  47.666667 -2.666667  44.438828\n",
       "4         52  47.666667  4.333333  52.776923\n",
       "5         23  26.500000 -3.500000  22.355495\n",
       "6         43  46.250000 -3.250000  42.380495\n",
       "7         35  41.500000 -6.500000  34.055495\n",
       "8         38  38.000000  0.000000  38.343590\n",
       "9         46  47.666667 -1.666667  45.538828\n",
       "10        48  41.500000  6.500000  48.993590\n",
       "11        52  46.250000  5.750000  52.918590\n",
       "12        44  46.250000 -2.250000  43.480495\n",
       "13        30  26.500000  3.500000  30.726923"
      ]
     },
     "execution_count": 68,
     "metadata": {},
     "output_type": "execute_result"
    }
   ],
   "source": [
    "epoch['final'] = pd.DataFrame(ff)\n",
    "epoch"
   ]
  },
  {
   "cell_type": "code",
   "execution_count": null,
   "metadata": {},
   "outputs": [],
   "source": []
  }
 ],
 "metadata": {
  "kernelspec": {
   "display_name": "Python 3 (ipykernel)",
   "language": "python",
   "name": "python3"
  },
  "language_info": {
   "codemirror_mode": {
    "name": "ipython",
    "version": 3
   },
   "file_extension": ".py",
   "mimetype": "text/x-python",
   "name": "python",
   "nbconvert_exporter": "python",
   "pygments_lexer": "ipython3",
   "version": "3.9.7"
  }
 },
 "nbformat": 4,
 "nbformat_minor": 4
}
