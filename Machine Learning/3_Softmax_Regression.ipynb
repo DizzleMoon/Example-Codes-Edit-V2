{
 "cells": [
  {
   "cell_type": "code",
   "execution_count": 1,
   "metadata": {
    "colab": {
     "base_uri": "https://localhost:8080/",
     "height": 34
    },
    "colab_type": "code",
    "id": "GAiy6oVNELSZ",
    "outputId": "ae416349-4e43-4f1b-b189-f3fca64836eb"
   },
   "outputs": [
    {
     "name": "stdout",
     "output_type": "stream",
     "text": [
      "Populating the interactive namespace from numpy and matplotlib\n"
     ]
    }
   ],
   "source": [
    "%pylab inline"
   ]
  },
  {
   "cell_type": "code",
   "execution_count": 2,
   "metadata": {
    "colab": {},
    "colab_type": "code",
    "id": "mqwfllGX4Jgp"
   },
   "outputs": [],
   "source": [
    "import pandas as pd"
   ]
  },
  {
   "cell_type": "code",
   "execution_count": 3,
   "metadata": {
    "colab": {
     "base_uri": "https://localhost:8080/",
     "height": 204
    },
    "colab_type": "code",
    "id": "bSgCsD_oENna",
    "outputId": "51a29918-cd84-4aec-adba-4d5add08cd0e"
   },
   "outputs": [],
   "source": [
    "# !wget -O dataset.csv https://archive.ics.uci.edu/ml/machine-learning-databases/iris/iris.data"
   ]
  },
  {
   "cell_type": "code",
   "execution_count": 4,
   "metadata": {
    "colab": {
     "base_uri": "https://localhost:8080/",
     "height": 68
    },
    "colab_type": "code",
    "id": "mu0GXYGFpj0T",
    "outputId": "a975ec4e-3b96-4b7c-eab1-1df586d4ad8b"
   },
   "outputs": [],
   "source": [
    "# !head -3 dataset.csv"
   ]
  },
  {
   "cell_type": "code",
   "execution_count": 5,
   "metadata": {
    "colab": {},
    "colab_type": "code",
    "id": "JqQG1st2p7Ti"
   },
   "outputs": [],
   "source": [
    "df = pd.read_csv('iris.csv', names=[\n",
    "  \"sepal length in cm\",\n",
    "  \"sepal width in cm\",\n",
    "  \"petal length in cm\",\n",
    "  \"petal width in cm\",\n",
    "  \"class\"\n",
    "])"
   ]
  },
  {
   "cell_type": "code",
   "execution_count": 6,
   "metadata": {
    "colab": {
     "base_uri": "https://localhost:8080/",
     "height": 204
    },
    "colab_type": "code",
    "id": "-rmeM3iCrA15",
    "outputId": "194dcd3b-4e7f-4102-80e0-f4ccc79dbb22"
   },
   "outputs": [
    {
     "data": {
      "text/html": [
       "<div>\n",
       "<style scoped>\n",
       "    .dataframe tbody tr th:only-of-type {\n",
       "        vertical-align: middle;\n",
       "    }\n",
       "\n",
       "    .dataframe tbody tr th {\n",
       "        vertical-align: top;\n",
       "    }\n",
       "\n",
       "    .dataframe thead th {\n",
       "        text-align: right;\n",
       "    }\n",
       "</style>\n",
       "<table border=\"1\" class=\"dataframe\">\n",
       "  <thead>\n",
       "    <tr style=\"text-align: right;\">\n",
       "      <th></th>\n",
       "      <th>sepal length in cm</th>\n",
       "      <th>sepal width in cm</th>\n",
       "      <th>petal length in cm</th>\n",
       "      <th>petal width in cm</th>\n",
       "      <th>class</th>\n",
       "    </tr>\n",
       "  </thead>\n",
       "  <tbody>\n",
       "    <tr>\n",
       "      <th>0</th>\n",
       "      <td>5.1</td>\n",
       "      <td>3.5</td>\n",
       "      <td>1.4</td>\n",
       "      <td>0.2</td>\n",
       "      <td>Iris-setosa</td>\n",
       "    </tr>\n",
       "    <tr>\n",
       "      <th>1</th>\n",
       "      <td>4.9</td>\n",
       "      <td>3.0</td>\n",
       "      <td>1.4</td>\n",
       "      <td>0.2</td>\n",
       "      <td>Iris-setosa</td>\n",
       "    </tr>\n",
       "    <tr>\n",
       "      <th>2</th>\n",
       "      <td>4.7</td>\n",
       "      <td>3.2</td>\n",
       "      <td>1.3</td>\n",
       "      <td>0.2</td>\n",
       "      <td>Iris-setosa</td>\n",
       "    </tr>\n",
       "    <tr>\n",
       "      <th>3</th>\n",
       "      <td>4.6</td>\n",
       "      <td>3.1</td>\n",
       "      <td>1.5</td>\n",
       "      <td>0.2</td>\n",
       "      <td>Iris-setosa</td>\n",
       "    </tr>\n",
       "    <tr>\n",
       "      <th>4</th>\n",
       "      <td>5.0</td>\n",
       "      <td>3.6</td>\n",
       "      <td>1.4</td>\n",
       "      <td>0.2</td>\n",
       "      <td>Iris-setosa</td>\n",
       "    </tr>\n",
       "  </tbody>\n",
       "</table>\n",
       "</div>"
      ],
      "text/plain": [
       "   sepal length in cm  sepal width in cm  petal length in cm  \\\n",
       "0                 5.1                3.5                 1.4   \n",
       "1                 4.9                3.0                 1.4   \n",
       "2                 4.7                3.2                 1.3   \n",
       "3                 4.6                3.1                 1.5   \n",
       "4                 5.0                3.6                 1.4   \n",
       "\n",
       "   petal width in cm        class  \n",
       "0                0.2  Iris-setosa  \n",
       "1                0.2  Iris-setosa  \n",
       "2                0.2  Iris-setosa  \n",
       "3                0.2  Iris-setosa  \n",
       "4                0.2  Iris-setosa  "
      ]
     },
     "execution_count": 6,
     "metadata": {},
     "output_type": "execute_result"
    }
   ],
   "source": [
    "df.head()"
   ]
  },
  {
   "cell_type": "code",
   "execution_count": 7,
   "metadata": {
    "colab": {
     "base_uri": "https://localhost:8080/",
     "height": 34
    },
    "colab_type": "code",
    "id": "qJsu3I1Vty1D",
    "outputId": "1fd3d425-839a-4af2-9fc6-b89f4325895f"
   },
   "outputs": [
    {
     "data": {
      "text/plain": [
       "(150, 4)"
      ]
     },
     "execution_count": 7,
     "metadata": {},
     "output_type": "execute_result"
    }
   ],
   "source": [
    "X = df[[\"sepal length in cm\",\n",
    "  \"sepal width in cm\",\n",
    "  \"petal length in cm\",\n",
    "  \"petal width in cm\"\n",
    "]].values.astype(np.float32)\n",
    "X.shape"
   ]
  },
  {
   "cell_type": "code",
   "execution_count": 8,
   "metadata": {
    "colab": {
     "base_uri": "https://localhost:8080/",
     "height": 34
    },
    "colab_type": "code",
    "id": "pRlEcPzxtnN5",
    "outputId": "bc296f2d-1676-43d3-c6aa-b08c7c4edae9"
   },
   "outputs": [
    {
     "data": {
      "text/plain": [
       "(150,)"
      ]
     },
     "execution_count": 8,
     "metadata": {},
     "output_type": "execute_result"
    }
   ],
   "source": [
    "y = pd.factorize(df['class'])[0]\n",
    "y.shape"
   ]
  },
  {
   "cell_type": "code",
   "execution_count": 9,
   "metadata": {
    "colab": {},
    "colab_type": "code",
    "id": "znfaOanoyQX_"
   },
   "outputs": [],
   "source": [
    "X = np.hstack((np.ones((len(X), 1)), X))"
   ]
  },
  {
   "cell_type": "code",
   "execution_count": 10,
   "metadata": {
    "colab": {
     "base_uri": "https://localhost:8080/",
     "height": 34
    },
    "colab_type": "code",
    "id": "fgLDj1yQyc8u",
    "outputId": "4e1a2f92-9772-4425-ba3c-0eb6e68b06ea"
   },
   "outputs": [
    {
     "data": {
      "text/plain": [
       "(3, 150, 5)"
      ]
     },
     "execution_count": 10,
     "metadata": {},
     "output_type": "execute_result"
    }
   ],
   "source": [
    "m, n = X.shape\n",
    "K = 3\n",
    "K, m, n"
   ]
  },
  {
   "cell_type": "code",
   "execution_count": 11,
   "metadata": {
    "colab": {},
    "colab_type": "code",
    "id": "EmShaDqkAOQ-"
   },
   "outputs": [],
   "source": [
    "X[:, 1:] = (X[:, 1:] - np.mean(X[:, 1:], axis=0)) / np.std(X[:, 1:], axis=0)"
   ]
  },
  {
   "cell_type": "code",
   "execution_count": 12,
   "metadata": {
    "colab": {},
    "colab_type": "code",
    "id": "wrrExZ764dDI"
   },
   "outputs": [],
   "source": [
    "np.random.seed(0)\n",
    "theta = np.random.random((n, K))"
   ]
  },
  {
   "cell_type": "code",
   "execution_count": 13,
   "metadata": {
    "colab": {},
    "colab_type": "code",
    "id": "Fo1I0TLupnAw"
   },
   "outputs": [],
   "source": [
    "def softmax(z):\n",
    "    z -= np.max(z)\n",
    "    return np.exp(z) / np.sum(np.exp(z))"
   ]
  },
  {
   "cell_type": "code",
   "execution_count": 14,
   "metadata": {
    "colab": {},
    "colab_type": "code",
    "id": "QYp6wZ2TmSjE"
   },
   "outputs": [],
   "source": [
    "def h(X, theta):\n",
    "  return softmax(X @ theta)"
   ]
  },
  {
   "cell_type": "code",
   "execution_count": 15,
   "metadata": {
    "colab": {},
    "colab_type": "code",
    "id": "lWllbrs6maBI"
   },
   "outputs": [],
   "source": [
    "def J(preds, y):\n",
    "  return np.sum(- np.log(preds[np.arange(m), y]))"
   ]
  },
  {
   "cell_type": "code",
   "execution_count": 16,
   "metadata": {
    "colab": {},
    "colab_type": "code",
    "id": "PzsvjC3014GL"
   },
   "outputs": [],
   "source": [
    "def T(y, K):\n",
    "  \"\"\" one hot encoding \"\"\"\n",
    "  one_hot = np.zeros((len(y), K))\n",
    "  one_hot[np.arange(len(y)), y] = 1\n",
    "  return one_hot"
   ]
  },
  {
   "cell_type": "code",
   "execution_count": 17,
   "metadata": {
    "colab": {},
    "colab_type": "code",
    "id": "y9ApxWz4nUTy"
   },
   "outputs": [],
   "source": [
    "def compute_gradient(theta, X, y):\n",
    "  preds = h(X, theta)\n",
    "  gradient = 1/m * X.T @ (preds - T(y, K))\n",
    "  return gradient"
   ]
  },
  {
   "cell_type": "code",
   "execution_count": 18,
   "metadata": {
    "colab": {
     "base_uri": "https://localhost:8080/",
     "height": 153
    },
    "colab_type": "code",
    "id": "wOcjo9MA_flk",
    "outputId": "97563789-42cb-4ec7-b970-707019dead8e"
   },
   "outputs": [
    {
     "name": "stdout",
     "output_type": "stream",
     "text": [
      "1145.40 20.67%\n",
      "1119.38 34.00%\n",
      "1097.88 49.33%\n",
      "1080.74 58.67%\n",
      "1067.77 60.67%\n",
      "1058.76 63.33%\n",
      "1053.44 64.67%\n",
      "1051.54 68.67%\n"
     ]
    }
   ],
   "source": [
    "hist = {'loss': [], 'acc': []}\n",
    "alpha = 1e-3\n",
    "\n",
    "for i in range(1500):\n",
    "  gradient = compute_gradient(theta, X, y)\n",
    "  theta -= alpha * gradient\n",
    "\n",
    "  # loss\n",
    "  preds = h(X, theta)\n",
    "  loss = J(preds, y)\n",
    "  hist['loss'].append(loss)\n",
    "\n",
    "  # acc\n",
    "  c = 0\n",
    "  for j in range(len(y)):\n",
    "    if np.argmax(h(X[j], theta)) == y[j]:\n",
    "      c += 1\n",
    "  acc = c / len(y)\n",
    "  hist['acc'].append(acc)\n",
    "\n",
    "  # print stats\n",
    "  if i % 200 == 0: print('{:.2f} {:.2f}%'.format(loss, acc * 100))"
   ]
  },
  {
   "cell_type": "code",
   "execution_count": 19,
   "metadata": {
    "colab": {
     "base_uri": "https://localhost:8080/",
     "height": 623
    },
    "colab_type": "code",
    "id": "tagqBRvVnVCE",
    "outputId": "8e0e8674-e327-4c72-e62c-ee39c05ef7f2"
   },
   "outputs": [
    {
     "data": {
      "text/plain": [
       "Text(0.5, 0, 'accuracy')"
      ]
     },
     "execution_count": 19,
     "metadata": {},
     "output_type": "execute_result"
    },
    {
     "data": {
      "image/png": "[encoded data removed]",
      "text/plain": [
       "<Figure size 720x720 with 2 Axes>"
      ]
     },
     "metadata": {
      "needs_background": "light"
     },
     "output_type": "display_data"
    }
   ],
   "source": [
    "figsize(10, 10)\n",
    "subplot(2, 1, 1)\n",
    "plot(hist['loss'])\n",
    "xlabel('loss')\n",
    "subplot(2, 1, 2)\n",
    "plot(hist['acc'])\n",
    "xlabel('accuracy')"
   ]
  },
  {
   "cell_type": "markdown",
   "metadata": {
    "colab_type": "text",
    "id": "aTChgVmgm5SM"
   },
   "source": [
    "## Graphics"
   ]
  },
  {
   "cell_type": "markdown",
   "metadata": {
    "colab_type": "text",
    "id": "WDjTA2DVsNC1"
   },
   "source": [
    "The rest of the notebook is not directly related to the concept. This section just shows how I generate graphics for the blog post."
   ]
  },
  {
   "cell_type": "code",
   "execution_count": 20,
   "metadata": {
    "colab": {
     "base_uri": "https://localhost:8080/",
     "height": 643
    },
    "colab_type": "code",
    "id": "8ehWninCnmKV",
    "outputId": "952e6f2a-a060-4473-998a-36b4d7f8707e"
   },
   "outputs": [
    {
     "name": "stdout",
     "output_type": "stream",
     "text": [
      "(100,)\n"
     ]
    },
    {
     "name": "stderr",
     "output_type": "stream",
     "text": [
      "C:\\Users\\USER\\AppData\\Local\\Temp/ipykernel_1368/183565995.py:4: RuntimeWarning: divide by zero encountered in log\n",
      "  y = -np.log(x)\n"
     ]
    },
    {
     "data": {
      "image/png": "[encoded data removed]",
      "text/plain": [
       "<Figure size 720x720 with 1 Axes>"
      ]
     },
     "metadata": {
      "needs_background": "light"
     },
     "output_type": "display_data"
    }
   ],
   "source": [
    "# error for $log 0$\n",
    "x = np.linspace(0, 1, 100)\n",
    "print(x.shape)\n",
    "y = -np.log(x)\n",
    "plot(x, y)\n",
    "ylabel('-log x')\n",
    "show()"
   ]
  },
  {
   "cell_type": "markdown",
   "metadata": {
    "colab_type": "text",
    "id": "NrRWRco8tm6T"
   },
   "source": [
    "---\n",
    "\n",
    "By [Rick Wierenga](https://twitter.com/rickwierenga/)"
   ]
  }
 ],
 "metadata": {
  "colab": {
   "collapsed_sections": [],
   "name": "Softmax Regression.ipynb",
   "provenance": []
  },
  "kernelspec": {
   "display_name": "Python 3 (ipykernel)",
   "language": "python",
   "name": "python3"
  },
  "language_info": {
   "codemirror_mode": {
    "name": "ipython",
    "version": 3
   },
   "file_extension": ".py",
   "mimetype": "text/x-python",
   "name": "python",
   "nbconvert_exporter": "python",
   "pygments_lexer": "ipython3",
   "version": "3.9.7"
  }
 },
 "nbformat": 4,
 "nbformat_minor": 1
}
