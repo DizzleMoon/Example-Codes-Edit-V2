{
 "cells": [
  {
   "cell_type": "code",
   "execution_count": 25,
   "metadata": {},
   "outputs": [],
   "source": [
    "from typing import List, Dict, Iterable, Tuple, Callable\n",
    "from matplotlib import pyplot as plt\n",
    "from collections import Counter\n",
    "import sys\n",
    "import os\n",
    "import string\n",
    "import urllib.request\n",
    "import requests\n",
    "import curl\n",
    "import pycurl\n",
    "import webbrowser\n",
    "import numpy as np\n",
    "import math\n",
    "import pandas as pd\n",
    "# from IPython import qt\n",
    "from matplotlib.pyplot import figure\n",
    "from py.xml import raw\n",
    "from requests.api import get\n",
    "from matplotlib import pyplot as plt\n",
    "import math\n",
    "import os\n",
    "import random\n",
    "import sys\n",
    "from functools import partial, reduce\n",
    "from scipy.optimize import fmin_tnc\n",
    "import itertools\n",
    "import random\n",
    "import tqdm\n",
    "from typing import*\n",
    "from collections import*\n",
    "from scipy import*\n",
    "from sklearn.metrics import*\n",
    "from numpy import *\n",
    "import random\n",
    "from itertools import cycle\n",
    "from sklearn import*\n",
    "from sklearn.metrics import roc_curve, auc\n",
    "from sklearn.model_selection import train_test_split\n",
    "from sklearn.preprocessing import label_binarize\n",
    "from sklearn.multiclass import OneVsRestClassifier\n",
    "from scipy import interp\n",
    "from sklearn.metrics import roc_auc_score\n",
    "from sklearn.linear_model import LogisticRegression\n",
    "import collections\n"
   ]
  },
  {
   "cell_type": "code",
   "execution_count": 26,
   "metadata": {},
   "outputs": [],
   "source": [
    "class LogisticRegressionCustom(object):\n",
    "    def __init__(self, eta=0.01, n_iter=10000):\n",
    "        self.eta = eta\n",
    "        self.n_iter = n_iter\n",
    "\n",
    "    def fit(self, X, y):\n",
    "        X = np.insert(X, 0, 1, axis=1)\n",
    "#         self.w = np.ones(X.shape[1])\n",
    "        self.w = np.linalg.inv(X.T.dot(X)).dot(X.T).dot(y)\n",
    "        m = X.shape[0]\n",
    "\n",
    "        for _ in range(self.n_iter):\n",
    "            output = X.dot(self.w)\n",
    "            errors = y - self._sigmoid(output)\n",
    "            self.w += self.eta / m * errors.dot(X)\n",
    "        return self\n",
    "\n",
    "    def predict(self, X):\n",
    "        output = np.insert(X, 0, 1, axis=1).dot(self.w)\n",
    "        return (np.floor(self._sigmoid(output) + .5)).astype(int)\n",
    "\n",
    "    def score(self, X, y):\n",
    "        return sum(self.predict(X) == y) / len(y)\n",
    "\n",
    "    def _sigmoid(self, x):\n",
    "        return 1 / (1 + np.exp(-x))"
   ]
  },
  {
   "cell_type": "code",
   "execution_count": 27,
   "metadata": {
    "scrolled": true
   },
   "outputs": [
    {
     "data": {
      "text/html": [
       "<div>\n",
       "<style scoped>\n",
       "    .dataframe tbody tr th:only-of-type {\n",
       "        vertical-align: middle;\n",
       "    }\n",
       "\n",
       "    .dataframe tbody tr th {\n",
       "        vertical-align: top;\n",
       "    }\n",
       "\n",
       "    .dataframe thead th {\n",
       "        text-align: right;\n",
       "    }\n",
       "</style>\n",
       "<table border=\"1\" class=\"dataframe\">\n",
       "  <thead>\n",
       "    <tr style=\"text-align: right;\">\n",
       "      <th></th>\n",
       "      <th>0</th>\n",
       "      <th>1</th>\n",
       "      <th>2</th>\n",
       "      <th>3</th>\n",
       "      <th>4</th>\n",
       "      <th>5</th>\n",
       "      <th>6</th>\n",
       "      <th>7</th>\n",
       "      <th>8</th>\n",
       "      <th>9</th>\n",
       "      <th>...</th>\n",
       "      <th>20</th>\n",
       "      <th>21</th>\n",
       "      <th>22</th>\n",
       "      <th>23</th>\n",
       "      <th>24</th>\n",
       "      <th>25</th>\n",
       "      <th>26</th>\n",
       "      <th>27</th>\n",
       "      <th>28</th>\n",
       "      <th>29</th>\n",
       "    </tr>\n",
       "  </thead>\n",
       "  <tbody>\n",
       "    <tr>\n",
       "      <th>0</th>\n",
       "      <td>1</td>\n",
       "      <td>20122</td>\n",
       "      <td>33152</td>\n",
       "      <td>2014-12-08</td>\n",
       "      <td>debtconsolidation</td>\n",
       "      <td>0</td>\n",
       "      <td>15405</td>\n",
       "      <td>48 months</td>\n",
       "      <td>9.52</td>\n",
       "      <td>387</td>\n",
       "      <td>...</td>\n",
       "      <td>9</td>\n",
       "      <td>7</td>\n",
       "      <td>16314</td>\n",
       "      <td>54.000000</td>\n",
       "      <td>0</td>\n",
       "      <td>1</td>\n",
       "      <td>1</td>\n",
       "      <td>0</td>\n",
       "      <td>0</td>\n",
       "      <td>1026398210</td>\n",
       "    </tr>\n",
       "    <tr>\n",
       "      <th>1</th>\n",
       "      <td>2</td>\n",
       "      <td>20344</td>\n",
       "      <td>53857</td>\n",
       "      <td>2016-06-19</td>\n",
       "      <td>homeimprovement</td>\n",
       "      <td>0</td>\n",
       "      <td>28529</td>\n",
       "      <td>36 months</td>\n",
       "      <td>17.90</td>\n",
       "      <td>1030</td>\n",
       "      <td>...</td>\n",
       "      <td>10</td>\n",
       "      <td>5</td>\n",
       "      <td>14600</td>\n",
       "      <td>48.840000</td>\n",
       "      <td>0</td>\n",
       "      <td>0</td>\n",
       "      <td>0</td>\n",
       "      <td>3</td>\n",
       "      <td>0</td>\n",
       "      <td>-868996371</td>\n",
       "    </tr>\n",
       "    <tr>\n",
       "      <th>2</th>\n",
       "      <td>3</td>\n",
       "      <td>22077</td>\n",
       "      <td>64998</td>\n",
       "      <td>2014-06-29</td>\n",
       "      <td>debtconsolidation</td>\n",
       "      <td>0</td>\n",
       "      <td>14113</td>\n",
       "      <td>36 months</td>\n",
       "      <td>15.61</td>\n",
       "      <td>493</td>\n",
       "      <td>...</td>\n",
       "      <td>15</td>\n",
       "      <td>13</td>\n",
       "      <td>13665</td>\n",
       "      <td>83.949997</td>\n",
       "      <td>0</td>\n",
       "      <td>0</td>\n",
       "      <td>0</td>\n",
       "      <td>0</td>\n",
       "      <td>0</td>\n",
       "      <td>-389639751</td>\n",
       "    </tr>\n",
       "    <tr>\n",
       "      <th>3</th>\n",
       "      <td>4</td>\n",
       "      <td>22581</td>\n",
       "      <td>84947</td>\n",
       "      <td>2015-05-18</td>\n",
       "      <td>debtconsolidation</td>\n",
       "      <td>0</td>\n",
       "      <td>21204</td>\n",
       "      <td>60 months</td>\n",
       "      <td>5.95</td>\n",
       "      <td>409</td>\n",
       "      <td>...</td>\n",
       "      <td>7</td>\n",
       "      <td>6</td>\n",
       "      <td>10344</td>\n",
       "      <td>77.010002</td>\n",
       "      <td>11</td>\n",
       "      <td>0</td>\n",
       "      <td>0</td>\n",
       "      <td>0</td>\n",
       "      <td>0</td>\n",
       "      <td>1240408668</td>\n",
       "    </tr>\n",
       "    <tr>\n",
       "      <th>4</th>\n",
       "      <td>5</td>\n",
       "      <td>25176</td>\n",
       "      <td>60208</td>\n",
       "      <td>2014-11-30</td>\n",
       "      <td>debtconsolidation</td>\n",
       "      <td>0</td>\n",
       "      <td>20893</td>\n",
       "      <td>60 months</td>\n",
       "      <td>8.25</td>\n",
       "      <td>426</td>\n",
       "      <td>...</td>\n",
       "      <td>14</td>\n",
       "      <td>14</td>\n",
       "      <td>19694</td>\n",
       "      <td>70.260002</td>\n",
       "      <td>0</td>\n",
       "      <td>13</td>\n",
       "      <td>9</td>\n",
       "      <td>2</td>\n",
       "      <td>0</td>\n",
       "      <td>1220269697</td>\n",
       "    </tr>\n",
       "    <tr>\n",
       "      <th>...</th>\n",
       "      <td>...</td>\n",
       "      <td>...</td>\n",
       "      <td>...</td>\n",
       "      <td>...</td>\n",
       "      <td>...</td>\n",
       "      <td>...</td>\n",
       "      <td>...</td>\n",
       "      <td>...</td>\n",
       "      <td>...</td>\n",
       "      <td>...</td>\n",
       "      <td>...</td>\n",
       "      <td>...</td>\n",
       "      <td>...</td>\n",
       "      <td>...</td>\n",
       "      <td>...</td>\n",
       "      <td>...</td>\n",
       "      <td>...</td>\n",
       "      <td>...</td>\n",
       "      <td>...</td>\n",
       "      <td>...</td>\n",
       "      <td>...</td>\n",
       "    </tr>\n",
       "    <tr>\n",
       "      <th>9995</th>\n",
       "      <td>9996</td>\n",
       "      <td>94170</td>\n",
       "      <td>53633</td>\n",
       "      <td>2016-01-05</td>\n",
       "      <td>homeimprovement</td>\n",
       "      <td>0</td>\n",
       "      <td>18936</td>\n",
       "      <td>60 months</td>\n",
       "      <td>9.61</td>\n",
       "      <td>399</td>\n",
       "      <td>...</td>\n",
       "      <td>19</td>\n",
       "      <td>16</td>\n",
       "      <td>14525</td>\n",
       "      <td>87.629997</td>\n",
       "      <td>2</td>\n",
       "      <td>0</td>\n",
       "      <td>0</td>\n",
       "      <td>1</td>\n",
       "      <td>0</td>\n",
       "      <td>-1870257149</td>\n",
       "    </tr>\n",
       "    <tr>\n",
       "      <th>9996</th>\n",
       "      <td>9997</td>\n",
       "      <td>99570</td>\n",
       "      <td>62115</td>\n",
       "      <td>2014-08-22</td>\n",
       "      <td>debtconsolidation</td>\n",
       "      <td>0</td>\n",
       "      <td>22797</td>\n",
       "      <td>60 months</td>\n",
       "      <td>7.37</td>\n",
       "      <td>455</td>\n",
       "      <td>...</td>\n",
       "      <td>7</td>\n",
       "      <td>3</td>\n",
       "      <td>15919</td>\n",
       "      <td>49.400002</td>\n",
       "      <td>0</td>\n",
       "      <td>0</td>\n",
       "      <td>0</td>\n",
       "      <td>0</td>\n",
       "      <td>0</td>\n",
       "      <td>1857008161</td>\n",
       "    </tr>\n",
       "    <tr>\n",
       "      <th>9997</th>\n",
       "      <td>9998</td>\n",
       "      <td>102795</td>\n",
       "      <td>55718</td>\n",
       "      <td>2015-05-25</td>\n",
       "      <td>homeimprovement</td>\n",
       "      <td>0</td>\n",
       "      <td>25104</td>\n",
       "      <td>36 months</td>\n",
       "      <td>7.93</td>\n",
       "      <td>786</td>\n",
       "      <td>...</td>\n",
       "      <td>11</td>\n",
       "      <td>10</td>\n",
       "      <td>15735</td>\n",
       "      <td>50.680000</td>\n",
       "      <td>0</td>\n",
       "      <td>0</td>\n",
       "      <td>0</td>\n",
       "      <td>0</td>\n",
       "      <td>0</td>\n",
       "      <td>-1911701526</td>\n",
       "    </tr>\n",
       "    <tr>\n",
       "      <th>9998</th>\n",
       "      <td>9999</td>\n",
       "      <td>103509</td>\n",
       "      <td>74249</td>\n",
       "      <td>2016-06-16</td>\n",
       "      <td>debtconsolidation</td>\n",
       "      <td>0</td>\n",
       "      <td>17143</td>\n",
       "      <td>48 months</td>\n",
       "      <td>5.37</td>\n",
       "      <td>398</td>\n",
       "      <td>...</td>\n",
       "      <td>15</td>\n",
       "      <td>8</td>\n",
       "      <td>13002</td>\n",
       "      <td>59.560001</td>\n",
       "      <td>0</td>\n",
       "      <td>0</td>\n",
       "      <td>0</td>\n",
       "      <td>1</td>\n",
       "      <td>0</td>\n",
       "      <td>2076012910</td>\n",
       "    </tr>\n",
       "    <tr>\n",
       "      <th>9999</th>\n",
       "      <td>10000</td>\n",
       "      <td>106342</td>\n",
       "      <td>16614</td>\n",
       "      <td>2014-05-27</td>\n",
       "      <td>debtconsolidation</td>\n",
       "      <td>0</td>\n",
       "      <td>18335</td>\n",
       "      <td>36 months</td>\n",
       "      <td>10.66</td>\n",
       "      <td>597</td>\n",
       "      <td>...</td>\n",
       "      <td>10</td>\n",
       "      <td>6</td>\n",
       "      <td>14759</td>\n",
       "      <td>64.080002</td>\n",
       "      <td>0</td>\n",
       "      <td>8</td>\n",
       "      <td>4</td>\n",
       "      <td>1</td>\n",
       "      <td>0</td>\n",
       "      <td>1129730475</td>\n",
       "    </tr>\n",
       "  </tbody>\n",
       "</table>\n",
       "<p>10000 rows × 30 columns</p>\n",
       "</div>"
      ],
      "text/plain": [
       "         0       1      2           3                  4   5      6   \\\n",
       "0         1   20122  33152  2014-12-08  debtconsolidation   0  15405   \n",
       "1         2   20344  53857  2016-06-19    homeimprovement   0  28529   \n",
       "2         3   22077  64998  2014-06-29  debtconsolidation   0  14113   \n",
       "3         4   22581  84947  2015-05-18  debtconsolidation   0  21204   \n",
       "4         5   25176  60208  2014-11-30  debtconsolidation   0  20893   \n",
       "...     ...     ...    ...         ...                ...  ..    ...   \n",
       "9995   9996   94170  53633  2016-01-05    homeimprovement   0  18936   \n",
       "9996   9997   99570  62115  2014-08-22  debtconsolidation   0  22797   \n",
       "9997   9998  102795  55718  2015-05-25    homeimprovement   0  25104   \n",
       "9998   9999  103509  74249  2016-06-16  debtconsolidation   0  17143   \n",
       "9999  10000  106342  16614  2014-05-27  debtconsolidation   0  18335   \n",
       "\n",
       "             7      8     9   ...  20  21     22         23  24  25  26  27  \\\n",
       "0     48 months   9.52   387  ...   9   7  16314  54.000000   0   1   1   0   \n",
       "1     36 months  17.90  1030  ...  10   5  14600  48.840000   0   0   0   3   \n",
       "2     36 months  15.61   493  ...  15  13  13665  83.949997   0   0   0   0   \n",
       "3     60 months   5.95   409  ...   7   6  10344  77.010002  11   0   0   0   \n",
       "4     60 months   8.25   426  ...  14  14  19694  70.260002   0  13   9   2   \n",
       "...         ...    ...   ...  ...  ..  ..    ...        ...  ..  ..  ..  ..   \n",
       "9995  60 months   9.61   399  ...  19  16  14525  87.629997   2   0   0   1   \n",
       "9996  60 months   7.37   455  ...   7   3  15919  49.400002   0   0   0   0   \n",
       "9997  36 months   7.93   786  ...  11  10  15735  50.680000   0   0   0   0   \n",
       "9998  48 months   5.37   398  ...  15   8  13002  59.560001   0   0   0   1   \n",
       "9999  36 months  10.66   597  ...  10   6  14759  64.080002   0   8   4   1   \n",
       "\n",
       "      28          29  \n",
       "0      0  1026398210  \n",
       "1      0  -868996371  \n",
       "2      0  -389639751  \n",
       "3      0  1240408668  \n",
       "4      0  1220269697  \n",
       "...   ..         ...  \n",
       "9995   0 -1870257149  \n",
       "9996   0  1857008161  \n",
       "9997   0 -1911701526  \n",
       "9998   0  2076012910  \n",
       "9999   0  1129730475  \n",
       "\n",
       "[10000 rows x 30 columns]"
      ]
     },
     "execution_count": 27,
     "metadata": {},
     "output_type": "execute_result"
    }
   ],
   "source": [
    "import requests\n",
    "import csv\n",
    "\n",
    "\n",
    "df_loans_full = pd.read_csv('MergedLabeled.csv', header = None, skiprows=1)\n",
    "df_loans_full"
   ]
  },
  {
   "cell_type": "code",
   "execution_count": 28,
   "metadata": {},
   "outputs": [],
   "source": [
    "for i in range(len(df_loans_full[7])):\n",
    "    label = df_loans_full.iloc[i,7]\n",
    "    label = label[:2].split(\" \")[-1]    \n",
    "    df_loans_full.iloc[i,7] = label"
   ]
  },
  {
   "cell_type": "code",
   "execution_count": 29,
   "metadata": {},
   "outputs": [
    {
     "data": {
      "text/html": [
       "<div>\n",
       "<style scoped>\n",
       "    .dataframe tbody tr th:only-of-type {\n",
       "        vertical-align: middle;\n",
       "    }\n",
       "\n",
       "    .dataframe tbody tr th {\n",
       "        vertical-align: top;\n",
       "    }\n",
       "\n",
       "    .dataframe thead th {\n",
       "        text-align: right;\n",
       "    }\n",
       "</style>\n",
       "<table border=\"1\" class=\"dataframe\">\n",
       "  <thead>\n",
       "    <tr style=\"text-align: right;\">\n",
       "      <th></th>\n",
       "      <th>6</th>\n",
       "      <th>7</th>\n",
       "    </tr>\n",
       "  </thead>\n",
       "  <tbody>\n",
       "    <tr>\n",
       "      <th>0</th>\n",
       "      <td>15405</td>\n",
       "      <td>48</td>\n",
       "    </tr>\n",
       "    <tr>\n",
       "      <th>1</th>\n",
       "      <td>28529</td>\n",
       "      <td>36</td>\n",
       "    </tr>\n",
       "    <tr>\n",
       "      <th>2</th>\n",
       "      <td>14113</td>\n",
       "      <td>36</td>\n",
       "    </tr>\n",
       "    <tr>\n",
       "      <th>3</th>\n",
       "      <td>21204</td>\n",
       "      <td>60</td>\n",
       "    </tr>\n",
       "    <tr>\n",
       "      <th>4</th>\n",
       "      <td>20893</td>\n",
       "      <td>60</td>\n",
       "    </tr>\n",
       "    <tr>\n",
       "      <th>...</th>\n",
       "      <td>...</td>\n",
       "      <td>...</td>\n",
       "    </tr>\n",
       "    <tr>\n",
       "      <th>9995</th>\n",
       "      <td>18936</td>\n",
       "      <td>60</td>\n",
       "    </tr>\n",
       "    <tr>\n",
       "      <th>9996</th>\n",
       "      <td>22797</td>\n",
       "      <td>60</td>\n",
       "    </tr>\n",
       "    <tr>\n",
       "      <th>9997</th>\n",
       "      <td>25104</td>\n",
       "      <td>36</td>\n",
       "    </tr>\n",
       "    <tr>\n",
       "      <th>9998</th>\n",
       "      <td>17143</td>\n",
       "      <td>48</td>\n",
       "    </tr>\n",
       "    <tr>\n",
       "      <th>9999</th>\n",
       "      <td>18335</td>\n",
       "      <td>36</td>\n",
       "    </tr>\n",
       "  </tbody>\n",
       "</table>\n",
       "<p>10000 rows × 2 columns</p>\n",
       "</div>"
      ],
      "text/plain": [
       "          6   7\n",
       "0     15405  48\n",
       "1     28529  36\n",
       "2     14113  36\n",
       "3     21204  60\n",
       "4     20893  60\n",
       "...     ...  ..\n",
       "9995  18936  60\n",
       "9996  22797  60\n",
       "9997  25104  36\n",
       "9998  17143  48\n",
       "9999  18335  36\n",
       "\n",
       "[10000 rows x 2 columns]"
      ]
     },
     "execution_count": 29,
     "metadata": {},
     "output_type": "execute_result"
    }
   ],
   "source": [
    "# Select columns\n",
    "# col = [6,7,8,9,15,16,17,18,19,20,21,22,23,24,25,26,27]\n",
    "# col = [6,7,8,9,15,16,17,18,19]\n",
    "# col = [6,7,8]\n",
    "col = [6,7]\n",
    "df_loans = df_loans_full.iloc[:,col]\n",
    "loans_df = df_loans\n",
    "df_loans\n",
    "# loans_df.squeeze()"
   ]
  },
  {
   "cell_type": "code",
   "execution_count": 30,
   "metadata": {},
   "outputs": [
    {
     "data": {
      "text/plain": [
       "0       0\n",
       "1       0\n",
       "2       0\n",
       "3       0\n",
       "4       0\n",
       "       ..\n",
       "9995    0\n",
       "9996    0\n",
       "9997    0\n",
       "9998    0\n",
       "9999    0\n",
       "Name: 28, Length: 10000, dtype: int64"
      ]
     },
     "execution_count": 30,
     "metadata": {},
     "output_type": "execute_result"
    }
   ],
   "source": [
    "# Binary vector. Rate of bad loans\n",
    "df_isbad = df_loans_full.iloc[:,28]\n",
    "df_isbad"
   ]
  },
  {
   "cell_type": "code",
   "execution_count": 31,
   "metadata": {},
   "outputs": [],
   "source": [
    "loans = df_loans.to_numpy()\n",
    "pred = df_isbad.to_numpy()\n",
    "pred = np.asarray(pred,dtype('float'))\n",
    "loans = np.asarray(loans,dtype('float'))\n",
    "loans = loans.reshape(len(df_loans),len(col))\n",
    "pred = pred.reshape(len(df_loans),1)"
   ]
  },
  {
   "cell_type": "code",
   "execution_count": 32,
   "metadata": {},
   "outputs": [
    {
     "name": "stderr",
     "output_type": "stream",
     "text": [
      "C:\\Users\\USER\\AppData\\Local\\Temp/ipykernel_5084/2305925343.py:26: RuntimeWarning: overflow encountered in exp\n",
      "  return 1 / (1 + np.exp(-x))\n"
     ]
    },
    {
     "name": "stdout",
     "output_type": "stream",
     "text": [
      "0.9032857142857142\n",
      "2677\n"
     ]
    },
    {
     "data": {
      "text/plain": [
       "3000"
      ]
     },
     "execution_count": 32,
     "metadata": {},
     "output_type": "execute_result"
    }
   ],
   "source": [
    "# Custom Logistic Regression\n",
    "\n",
    "# Split Dataset\n",
    "X_train, X_test, y_train, y_test = train_test_split(loans, pred, test_size=0.3)\n",
    "\n",
    "# Apply Logistic Regression\n",
    "logi = LogisticRegressionCustom().fit(X_train, y_train.ravel())\n",
    "# Accuracy Rate\n",
    "print(logi.score(X_train, y_train.ravel()))\n",
    "# Prediction\n",
    "pred_X_train = logi.predict(X_test) \n",
    "# pred0 = logi.predict(X_test)\n",
    "\n",
    "# Create prediction vector.\n",
    "# Create list of indexes \n",
    "test_val = 0\n",
    "test_val_index = []\n",
    "for i in range(len(pred_X_train)):\n",
    "#     print(pred_X_train[i])\n",
    "    if pred_X_train[i] == y_test[i]:\n",
    "        test_val += 1\n",
    "        test_val_index.append(i)\n",
    "# List of Indexes\n",
    "# print(test_val_index)\n",
    "# Number of predicted values against orginal values\n",
    "print(test_val)\n",
    "# Length of list of split binary vector\n",
    "len(pred_X_train)\n"
   ]
  },
  {
   "cell_type": "code",
   "execution_count": 33,
   "metadata": {},
   "outputs": [
    {
     "data": {
      "text/plain": [
       "3000"
      ]
     },
     "execution_count": 33,
     "metadata": {},
     "output_type": "execute_result"
    }
   ],
   "source": [
    "# List of Predicted values (0 or 1)\n",
    "# predicted = []\n",
    "# for i in range(len(pred_X_train)):\n",
    "#     if i < test_val:\n",
    "#         if i == test_val_index[i]:\n",
    "#             predicted.append(pred_X_train[i])\n",
    "#     else:\n",
    "#         predicted.append(int(y_test[i].tolist()[0]))\n",
    "# len(predicted)  \n",
    "\n",
    "# List of Predicted values (0 or 1)\n",
    "predicted = []\n",
    "predicted = y_test\n",
    "for i in range(len(pred_X_train)):\n",
    "    if i < test_val:\n",
    "        if i == test_val_index[i]:\n",
    "            predicted[i] = pred_X_train[i]\n",
    "    else:\n",
    "        predicted[i] = int(y_test[i].tolist()[0])\n",
    "len(predicted)    \n"
   ]
  },
  {
   "cell_type": "code",
   "execution_count": 34,
   "metadata": {},
   "outputs": [
    {
     "name": "stdout",
     "output_type": "stream",
     "text": [
      "0.9032857142857142\n",
      "2677\n"
     ]
    },
    {
     "data": {
      "text/plain": [
       "3000"
      ]
     },
     "execution_count": 34,
     "metadata": {},
     "output_type": "execute_result"
    }
   ],
   "source": [
    "# Sklearn Logisitc Regression model\n",
    "\n",
    "# for _ in range(10):\n",
    "# X_train, X_test, y_train, y_test = train_test_split(loans, pred, test_size=0.3)\n",
    "\n",
    "# Sklearn Logistic Regression function\n",
    "clf = LogisticRegression().fit(X_train, y_train.ravel())\n",
    "# Accuracy\n",
    "print(clf.score(X_train,y_train))\n",
    "# Predicted vector\n",
    "clf_pred = clf.predict(X_test)\n",
    "# clf_pred[clf_pred == 1]\n",
    "\n",
    "# Create prediction vector.\n",
    "# Create list of indexes \n",
    "test_val_reg = 0\n",
    "test_val_index_reg = []\n",
    "for i in range(len(clf_pred)):\n",
    "#     print(pred_X_train[i])\n",
    "    if clf_pred[i] == y_test[i]:\n",
    "        test_val_reg += 1\n",
    "        test_val_index_reg.append(i)\n",
    "# List of Indexes\n",
    "# print(test_val_index_reg)\n",
    "# Number of predicted values against orginal values\n",
    "print(test_val_reg)\n",
    "# Length of list of split binary vecto\n",
    "len(clf_pred)"
   ]
  },
  {
   "cell_type": "code",
   "execution_count": 35,
   "metadata": {},
   "outputs": [
    {
     "data": {
      "text/plain": [
       "array([[0.],\n",
       "       [0.],\n",
       "       [0.],\n",
       "       ...,\n",
       "       [0.],\n",
       "       [0.],\n",
       "       [0.]])"
      ]
     },
     "execution_count": 35,
     "metadata": {},
     "output_type": "execute_result"
    }
   ],
   "source": [
    "# List of Predicted values (0 or 1)\n",
    "\n",
    "# List of Predicted values (0 or 1)\n",
    "# predicted = []\n",
    "predicted_reg = y_test\n",
    "for i in range(len(pred_X_train)):\n",
    "    if i < test_val_reg:\n",
    "        if i == test_val_index_reg[i]:\n",
    "            predicted_reg[i] = pred_X_train[i]\n",
    "    else:\n",
    "        predicted_reg[i] = int(y_test[i].tolist()[0])\n",
    "# print(len(predicted_reg))    \n",
    "predicted_reg\n",
    "\n",
    "# predicted_reg = []\n",
    "# for i in range(len(pred_X_train)):\n",
    "#     if i < test_val_reg:\n",
    "#         if i == test_val_index_reg[i]:\n",
    "#             predicted_reg.append(pred_X_train[i])\n",
    "#     else:\n",
    "#         predicted_reg.append(int(y_test[i].tolist()[0]))\n",
    "# predicted_reg  "
   ]
  },
  {
   "cell_type": "code",
   "execution_count": 36,
   "metadata": {},
   "outputs": [
    {
     "data": {
      "text/html": [
       "<div>\n",
       "<style scoped>\n",
       "    .dataframe tbody tr th:only-of-type {\n",
       "        vertical-align: middle;\n",
       "    }\n",
       "\n",
       "    .dataframe tbody tr th {\n",
       "        vertical-align: top;\n",
       "    }\n",
       "\n",
       "    .dataframe thead th {\n",
       "        text-align: right;\n",
       "    }\n",
       "</style>\n",
       "<table border=\"1\" class=\"dataframe\">\n",
       "  <thead>\n",
       "    <tr style=\"text-align: right;\">\n",
       "      <th></th>\n",
       "      <th>0</th>\n",
       "      <th>1</th>\n",
       "      <th>2</th>\n",
       "    </tr>\n",
       "  </thead>\n",
       "  <tbody>\n",
       "    <tr>\n",
       "      <th>0</th>\n",
       "      <td>[0.0]</td>\n",
       "      <td>[0.0]</td>\n",
       "      <td>[0.0]</td>\n",
       "    </tr>\n",
       "    <tr>\n",
       "      <th>1</th>\n",
       "      <td>[0.0]</td>\n",
       "      <td>[0.0]</td>\n",
       "      <td>[0.0]</td>\n",
       "    </tr>\n",
       "    <tr>\n",
       "      <th>2</th>\n",
       "      <td>[0.0]</td>\n",
       "      <td>[0.0]</td>\n",
       "      <td>[0.0]</td>\n",
       "    </tr>\n",
       "    <tr>\n",
       "      <th>3</th>\n",
       "      <td>[0.0]</td>\n",
       "      <td>[0.0]</td>\n",
       "      <td>[0.0]</td>\n",
       "    </tr>\n",
       "    <tr>\n",
       "      <th>4</th>\n",
       "      <td>[0.0]</td>\n",
       "      <td>[0.0]</td>\n",
       "      <td>[0.0]</td>\n",
       "    </tr>\n",
       "    <tr>\n",
       "      <th>...</th>\n",
       "      <td>...</td>\n",
       "      <td>...</td>\n",
       "      <td>...</td>\n",
       "    </tr>\n",
       "    <tr>\n",
       "      <th>2995</th>\n",
       "      <td>[0.0]</td>\n",
       "      <td>[0.0]</td>\n",
       "      <td>[0.0]</td>\n",
       "    </tr>\n",
       "    <tr>\n",
       "      <th>2996</th>\n",
       "      <td>[0.0]</td>\n",
       "      <td>[0.0]</td>\n",
       "      <td>[0.0]</td>\n",
       "    </tr>\n",
       "    <tr>\n",
       "      <th>2997</th>\n",
       "      <td>[0.0]</td>\n",
       "      <td>[0.0]</td>\n",
       "      <td>[0.0]</td>\n",
       "    </tr>\n",
       "    <tr>\n",
       "      <th>2998</th>\n",
       "      <td>[0.0]</td>\n",
       "      <td>[0.0]</td>\n",
       "      <td>[0.0]</td>\n",
       "    </tr>\n",
       "    <tr>\n",
       "      <th>2999</th>\n",
       "      <td>[0.0]</td>\n",
       "      <td>[0.0]</td>\n",
       "      <td>[0.0]</td>\n",
       "    </tr>\n",
       "  </tbody>\n",
       "</table>\n",
       "<p>3000 rows × 3 columns</p>\n",
       "</div>"
      ],
      "text/plain": [
       "          0      1      2\n",
       "0     [0.0]  [0.0]  [0.0]\n",
       "1     [0.0]  [0.0]  [0.0]\n",
       "2     [0.0]  [0.0]  [0.0]\n",
       "3     [0.0]  [0.0]  [0.0]\n",
       "4     [0.0]  [0.0]  [0.0]\n",
       "...     ...    ...    ...\n",
       "2995  [0.0]  [0.0]  [0.0]\n",
       "2996  [0.0]  [0.0]  [0.0]\n",
       "2997  [0.0]  [0.0]  [0.0]\n",
       "2998  [0.0]  [0.0]  [0.0]\n",
       "2999  [0.0]  [0.0]  [0.0]\n",
       "\n",
       "[3000 rows x 3 columns]"
      ]
     },
     "execution_count": 36,
     "metadata": {},
     "output_type": "execute_result"
    }
   ],
   "source": [
    "# Create Dataframe to compare original and predicted values (0 or 1)\n",
    "df_pred_concat = pd.DataFrame([pred[0:len(predicted)].tolist(),predicted,predicted_reg])\n",
    "df_pred = df_pred_concat.T\n",
    "df_pred"
   ]
  },
  {
   "cell_type": "code",
   "execution_count": 37,
   "metadata": {},
   "outputs": [
    {
     "data": {
      "text/plain": [
       "array([ 0.98207833, -1.37231189,  0.39023356])"
      ]
     },
     "execution_count": 37,
     "metadata": {},
     "output_type": "execute_result"
    }
   ],
   "source": [
    "wg_0 = logi.w\n",
    "wg = (logi.w - np.mean(logi.w))/np.std(logi.w)\n",
    "wg "
   ]
  },
  {
   "cell_type": "code",
   "execution_count": 38,
   "metadata": {},
   "outputs": [
    {
     "data": {
      "text/plain": [
       "0.7310585786300049"
      ]
     },
     "execution_count": 38,
     "metadata": {},
     "output_type": "execute_result"
    }
   ],
   "source": [
    "# Actual\n",
    "actuals = list(y_test)\n",
    "# Scored values\n",
    "scored = logi._sigmoid(y_test)\n",
    "# Threshold\n",
    "threshold = np.max(np.unique(scored))\n",
    "threshold"
   ]
  },
  {
   "cell_type": "code",
   "execution_count": 39,
   "metadata": {},
   "outputs": [
    {
     "data": {
      "text/plain": [
       "6000"
      ]
     },
     "execution_count": 39,
     "metadata": {},
     "output_type": "execute_result"
    }
   ],
   "source": [
    "X_test_0 = X_test\n",
    "X_test = (X_test - np.mean(X_test))/np.std(X_test)\n",
    "\n",
    "# Size of array\n",
    "X_test_shape = X_test.shape\n",
    "# Total number of observations\n",
    "X_obs = X_test_shape[0] * X_test_shape[1]\n",
    "X_obs\n"
   ]
  },
  {
   "cell_type": "code",
   "execution_count": 40,
   "metadata": {},
   "outputs": [],
   "source": [
    "# Coefficients\n",
    "# Reshape input array\n",
    "x_0 = int(X_obs/len(wg))\n",
    "z = np.dot(X_test.reshape(x_0,len(wg)),wg)\n"
   ]
  },
  {
   "cell_type": "code",
   "execution_count": 41,
   "metadata": {},
   "outputs": [
    {
     "data": {
      "image/png": "[encoded data removed]",
      "text/plain": [
       "<Figure size 432x288 with 1 Axes>"
      ]
     },
     "metadata": {
      "needs_background": "light"
     },
     "output_type": "display_data"
    }
   ],
   "source": [
    "# Apply sigmoid function\n",
    "def sigmoid(x):\n",
    "    return 1.0 / (1 + np.exp(-x))\n",
    "    \n",
    "h = sigmoid(z)\n",
    "h1 = h[0:len(z)]\n",
    "\n",
    "# Plot sigmoid function\n",
    "plt.plot(sorted(z),sorted(h))\n",
    "plt.grid()"
   ]
  },
  {
   "cell_type": "code",
   "execution_count": 42,
   "metadata": {},
   "outputs": [
    {
     "name": "stdout",
     "output_type": "stream",
     "text": [
      "1019\n",
      "(array([1809], dtype=int64),)\n"
     ]
    },
    {
     "data": {
      "image/png": "[encoded data removed]",
      "text/plain": [
       "<Figure size 432x288 with 1 Axes>"
      ]
     },
     "metadata": {
      "needs_background": "light"
     },
     "output_type": "display_data"
    }
   ],
   "source": [
    "# Apply random threshold\n",
    "\n",
    "# Threshold value\n",
    "threshold_rand = 0.2\n",
    "# Create Threshold to seperate values\n",
    "h2 = h[h >= threshold_rand]\n",
    "print(len(h2))\n",
    "# Find corresponding set of array indices\n",
    "h2_index = np.where(h == np.min(h2))\n",
    "print(h2_index)\n",
    "\n",
    "# z: X-axis\n",
    "zz = h[len(h)-len(h2):]\n",
    "len(zz)\n",
    "plt.plot(sorted(zz),sorted(h2))\n",
    "plt.grid()"
   ]
  },
  {
   "cell_type": "code",
   "execution_count": 43,
   "metadata": {},
   "outputs": [],
   "source": [
    "# Create Confusion Matrix\n",
    "ConfMat = collections.namedtuple('conf', ['tp','fp','tn','fn']) "
   ]
  },
  {
   "cell_type": "code",
   "execution_count": 44,
   "metadata": {},
   "outputs": [],
   "source": [
    "def ConfusionMatrix(actuals, scores, threshold, positive_label=1):\n",
    "    tp=fp=0\n",
    "    fn=tn=1\n",
    "    actuals_bool = [actual==positive_label for actual in actuals]\n",
    "    FPR = TPR = []\n",
    "    FPR.append(0)\n",
    "#     TPR.append(0)\n",
    "    FPR_0 = TPR_0 = 1\n",
    "    for bool_0, score in zip(actuals_bool, scores):\n",
    "        if score >= threshold:                      # predicted positive \n",
    "            if bool_0 == True:                              # actually positive \n",
    "                tp += 1\n",
    "            else:                                  # actually negative              \n",
    "                fp += 1          \n",
    "        else:                                      # predicted negative \n",
    "            if bool_0 == False:                          # actually negative \n",
    "                tn += 1                          \n",
    "            else:                                  # actually positive \n",
    "                fn += 1\n",
    "                \n",
    "        if (fp + tn) != 0:\n",
    "            FPR_1 = np.sum(fp)/(fp+tn)\n",
    "            FPR.append(FPR_1)\n",
    "            FPR_0 = FPR_1\n",
    "        else:\n",
    "            FPR.append(FPR_0)\n",
    "    tp=fp=0\n",
    "    fn=tn=1        \n",
    "    TPR = []\n",
    "    TPR.append(0)\n",
    "    TPR_0 = 1\n",
    "    for bool_0, score in zip(actuals_bool, scores):\n",
    "        if score >= threshold:                      # predicted positive \n",
    "            if bool_0 == True:                              # actually positive \n",
    "                tp += 1\n",
    "            else:                                  # actually negative              \n",
    "                fp += 1          \n",
    "        else:                                      # predicted negative \n",
    "            if bool_0 == False:                          # actually negative \n",
    "                tn += 1                          \n",
    "            else:                                  # actually positive \n",
    "                fn += 1\n",
    "        \n",
    "        if (tp + fn) != 0 :\n",
    "            TPR_1 = np.sum(tp)/(tp+fn)\n",
    "            TPR.append(TPR_1)\n",
    "            TPR_0 = TPR_1\n",
    "        else:\n",
    "            TPR.append(TPR_0)\n",
    "            \n",
    "    tp=fp=0\n",
    "    fn=tn=1        \n",
    "    Precision = []\n",
    "    Precision.append(1)\n",
    "    Precision_0 = 1\n",
    "    for bool_0, score in zip(actuals_bool, scores):\n",
    "        if score >= threshold:                      # predicted positive \n",
    "            if bool_0 == True:                              # actually positive \n",
    "                tp += 1\n",
    "            else:                                  # actually negative              \n",
    "                fp += 1          \n",
    "        else:                                      # predicted negative \n",
    "            if bool_0 == False:                          # actually negative \n",
    "                tn += 1                          \n",
    "            else:                                  # actually positive \n",
    "                fn += 1\n",
    "        \n",
    "        if (tp + fp) != 0 :\n",
    "            Precision_1 = np.sum(tp)/(tp+fp)\n",
    "            Precision.append(Precision_1)\n",
    "            Precision_0 = Precision_1\n",
    "        else:\n",
    "            Precision.append(Precision_0)\n",
    "            \n",
    "\n",
    "    return ConfMat(tp, fp, tn, fn), FPR,TPR,Precision"
   ]
  },
  {
   "cell_type": "code",
   "execution_count": 45,
   "metadata": {},
   "outputs": [
    {
     "name": "stdout",
     "output_type": "stream",
     "text": [
      "1002\n",
      "(array([575], dtype=int64),)\n",
      "1002\n"
     ]
    },
    {
     "data": {
      "text/plain": [
       "[<matplotlib.lines.Line2D at 0x17fd06b68e0>]"
      ]
     },
     "execution_count": 45,
     "metadata": {},
     "output_type": "execute_result"
    },
    {
     "data": {
      "image/png": "[encoded data removed]",
      "text/plain": [
       "<Figure size 432x288 with 1 Axes>"
      ]
     },
     "metadata": {
      "needs_background": "light"
     },
     "output_type": "display_data"
    }
   ],
   "source": [
    "# Create Threshold to seperate values\n",
    "h3 = h[h >= 0.2]\n",
    "\n",
    "h4 = h[h >= 1-threshold]\n",
    "h5 = h[h >= threshold]\n",
    "# print(h4)\n",
    "print(len(h4))\n",
    "h4_index = np.where(h == np.min(h4))\n",
    "print(h4_index)\n",
    "\n",
    "# z: X-axis\n",
    "zz_1 = h[len(h)-len(h4):]\n",
    "print(len(zz_1))\n",
    "\n",
    "# Enact Confusion Matrix\n",
    "con_mat, FPR, TPR, Precision = ConfusionMatrix(actuals, h5, 1-threshold, positive_label=0)\n",
    "# con_mat, FPR, TPR, Precision = ConfusionMatrix(actuals, h4, threshold, positive_label=0)\n",
    "\n",
    "# Confusion Matrix\n",
    "con_mat\n",
    "\n",
    "# Subset rates\n",
    "FPR = FPR[0:int(len(FPR))]\n",
    "TPR = TPR[0:int(len(TPR))]\n",
    "# FPR[100],TPR[100]\n",
    "# TPR\n",
    "# Precision\n",
    "plt.plot(sorted(TPR),sorted(Precision))"
   ]
  },
  {
   "cell_type": "code",
   "execution_count": 46,
   "metadata": {},
   "outputs": [
    {
     "data": {
      "text/plain": [
       "[<matplotlib.lines.Line2D at 0x17fd07501f0>]"
      ]
     },
     "execution_count": 46,
     "metadata": {},
     "output_type": "execute_result"
    },
    {
     "data": {
      "image/png": "[encoded data removed]",
      "text/plain": [
       "<Figure size 432x288 with 1 Axes>"
      ]
     },
     "metadata": {
      "needs_background": "light"
     },
     "output_type": "display_data"
    }
   ],
   "source": [
    "specificity = []\n",
    "# FPR\n",
    "for i in range(0,len(FPR)):\n",
    "    specificity.append(1 - FPR[i])\n",
    "    \n",
    "# plt.plot((TPR))\n",
    "# plt.plot(specificity,TPR)\n",
    "plt.plot(Precision)"
   ]
  },
  {
   "cell_type": "code",
   "execution_count": 47,
   "metadata": {},
   "outputs": [],
   "source": [
    "poly_deg = 2\n",
    "x_confusionmat = TPR\n",
    "# x_confusionmat\n",
    "y_confusionmat = FPR[0:len(x_confusionmat)]\n",
    "# y = int(y)\n",
    "# coeff = polyregression_coefficients(x,y,poly_deg)\n",
    "# coeff"
   ]
  },
  {
   "cell_type": "code",
   "execution_count": 48,
   "metadata": {},
   "outputs": [],
   "source": [
    "def polyregression_coefficients(x:list, y:list, poly_deg:int):\n",
    "    # Matrix Size: Degree of Polynomial\n",
    "#     poly_deg = 2\n",
    "    mat_size = poly_deg + 1\n",
    "\n",
    "    # Create dummy matrix\n",
    "    a = np.ones((mat_size,mat_size))\n",
    "    b = np.ones((mat_size,1))\n",
    "\n",
    "    # Normalize input array\n",
    "    # Mean\n",
    "    meanX = np.mean(x, axis=0)\n",
    "    # Standard Deviation\n",
    "    stdX = np.std(x, axis = 0)\n",
    "    # Variance\n",
    "    varX = np.var(x)\n",
    "    # Normalize variables\n",
    "    x = (x- meanX) / stdX\n",
    "\n",
    "    # Normalize output array\n",
    "#     # Mean\n",
    "#     meanY = np.mean(y, axis=0)\n",
    "#     # Standard Deviation\n",
    "#     stdY = np.std(y, axis = 0)\n",
    "#     # Variance\n",
    "#     varY = np.var(y)\n",
    "\n",
    "    # varX = np.var(y)\n",
    "    # meanY = np.mean(y)\n",
    "    # stdY = np.std(y)\n",
    "\n",
    "    # Create design input matrix\n",
    "    for i in range(0,mat_size):\n",
    "        for j in range(0,mat_size):\n",
    "            a[i][j] = sum(np.power(x,(i+j)))\n",
    "\n",
    "    # Create input matrix\n",
    "    amat = np.mat(a)\n",
    "\n",
    "    # Create design output matrix\n",
    "    for k in range(0, mat_size):\n",
    "        b[k] = sum(np.power(x,k) * y)\n",
    "\n",
    "    # Calculate coefficients\n",
    "    # Inverse input matrix\n",
    "    amat_inv = np.linalg.pinv(amat)\n",
    "    # Solve for coefficients\n",
    "    z = amat_inv * b\n",
    "    # Transpose coefficient vector\n",
    "    coeff = z.T\n",
    "    # Reverse index list\n",
    "    coeff = coeff[::-1]\n",
    "#     print(\"z3: \", coeff)\n",
    "    \n",
    "    return coeff\n",
    "\n",
    "def polyregression_line(x:list, coeff:list, poly_deg:int):\n",
    "    \n",
    "    # Matrix Size: Degree of Polynomial\n",
    "    #     poly_deg = 2\n",
    "    mat_size = poly_deg + 1\n",
    "    \n",
    "    # Sort values\n",
    "    x = np.sort(x)\n",
    "    \n",
    "    # Normalize input array\n",
    "    # Mean\n",
    "    meanX = np.mean(x, axis=0)\n",
    "    # Standard Deviation\n",
    "    stdX = np.std(x, axis = 0)\n",
    "    # Variance\n",
    "    varX = np.var(x)\n",
    "    # Normalize variables\n",
    "    x = (x - meanX) / stdX\n",
    "    \n",
    "    # Create dummy array\n",
    "    J = np.ones((len(x), 1))\n",
    "    cost = np.ones((len(x),1))\n",
    "    vec_out = np.ones((mat_size, 1))\n",
    "    \n",
    "    # Solve for predicted values\n",
    "    for q in (range(len(x))):\n",
    "        for p in range(0, mat_size):\n",
    "            vec_out[p] = x[q] ** p\n",
    "        # Algebraic vector\n",
    "        vec_out = np.matrix(vec_out)\n",
    "        # Matrix multiplication\n",
    "        l = np.matmul(coeff,vec_out)\n",
    "        J[q] = l\n",
    "        # Cost Function\n",
    "        cost[q] = (1/(2 * len(x))) * np.sum(np.square(J[q] - vec_out))\n",
    "        \n",
    "    return J,cost"
   ]
  },
  {
   "cell_type": "code",
   "execution_count": 49,
   "metadata": {},
   "outputs": [
    {
     "name": "stdout",
     "output_type": "stream",
     "text": [
      "X mat: 0.9565217391304348\n",
      "Coefficients:  [[9.80472225e-01 4.93151048e-02 1.98987704e-04]]\n",
      "Prec min:  0.5021212438303224\n",
      "Prec 0:  0.5021212438303224\n",
      "0.9913793103448276\n",
      "0.5021212438303224\n"
     ]
    },
    {
     "data": {
      "image/png": "[encoded data removed]",
      "text/plain": [
       "<Figure size 432x288 with 1 Axes>"
      ]
     },
     "metadata": {
      "needs_background": "light"
     },
     "output_type": "display_data"
    }
   ],
   "source": [
    "poly_deg = 2\n",
    "x_confusionmat = sorted(TPR)\n",
    "y_confusionmat = sorted(FPR[0:len(x_confusionmat)])\n",
    "\n",
    "x_mat = y_mat = []\n",
    "x_zero = y_zero = 0\n",
    "for i in range(0,len(x_confusionmat)):\n",
    "    if x_confusionmat[i] > 0 and y_confusionmat[i] > 0:\n",
    "        x_mat.append(x_confusionmat[i])\n",
    "        y_mat.append(y_confusionmat[i])\n",
    "    else:\n",
    "        x_zero += 1\n",
    "        y_zero += 1\n",
    "        \n",
    "# print(x_mat)\n",
    "# print(y_mat)\n",
    "# print(x_zero)\n",
    "# print(y_zero)\n",
    "\n",
    "x_mat = np.insert(x_mat,0,x_confusionmat[x_zero-1])\n",
    "y_mat = np.insert(y_mat,0,y_confusionmat[y_zero-1])\n",
    "\n",
    "# plt.scatter(sorted(x_mat),sorted(y_mat))\n",
    "\n",
    "print(\"X mat:\",x_mat[0])\n",
    "        \n",
    "coeff = polyregression_coefficients(x_mat,y_mat,poly_deg)\n",
    "print(\"Coefficients: \", coeff)\n",
    "poly_plt,poly_cost = polyregression_line(x_mat, coeff, poly_deg)\n",
    "\n",
    "# plt.scatter(x_mat,y_mat)\n",
    "# Create list\n",
    "x_list = list(range(0,len(poly_plt)))\n",
    "new_list = [x / len(poly_plt) for x in x_list]\n",
    "# new_list_2 = [sigmoid(x)for x in x_list]\n",
    "\n",
    "x_sig = sigmoid(np.array(x_list))\n",
    "# print(x_sig)\n",
    "# print(sorted(x_mat))\n",
    "# print(x_list)\n",
    "\n",
    "# print(np.mean(x_list))\n",
    "\n",
    "# x_0 = (x_list - np.mean(x_list, axis=0))/np.std(x_list, axis=0)\n",
    "# print(x_0)\n",
    "\n",
    "# plt.plot(sorted(x_mat),sorted(poly_plt), color='darkorange')\n",
    "plt.plot(new_list,poly_plt, color='darkorange')\n",
    "\n",
    "# np.min(poly_plt)\n",
    "\n",
    "# hplt_index = np.where(y_confusionmat == np.min(poly_plt))\n",
    "# print(hplt_index)\n",
    "\n",
    "# print(poly_plt)\n",
    "# print(x_confusionmat)\n",
    "\n",
    "# Complete line\n",
    "print(\"Prec min: \", np.min(poly_plt))\n",
    "print(\"Prec 0: \", poly_plt[0][0])\n",
    "if np.min(poly_plt) <= poly_plt[0]:\n",
    "    # Precision\n",
    "    prec = poly_plt[0][0]\n",
    "else:\n",
    "    prec = np.min(poly_plt)\n",
    "# Create coordinates\n",
    "coord_1_ROC = (0,0)\n",
    "# coord_2 = (0,np.min(poly_plt))\n",
    "coord_2_ROC = (0,prec)\n",
    "\n",
    "plt.plot(coord_1_ROC,coord_2_ROC, color='darkorange')\n",
    "\n",
    "plt.grid(True, 'major', color='k')\n",
    "plt.minorticks_on()\n",
    "plt.grid(True, 'minor', 'y')\n",
    "print(x_mat[-1])\n",
    "print(poly_plt[0][0])"
   ]
  },
  {
   "cell_type": "code",
   "execution_count": 50,
   "metadata": {},
   "outputs": [
    {
     "data": {
      "text/plain": [
       "array([0.50212124])"
      ]
     },
     "execution_count": 50,
     "metadata": {},
     "output_type": "execute_result"
    }
   ],
   "source": [
    "# Matrix Size: Degree of Polynomial\n",
    "poly_deg = 2\n",
    "mat_size = poly_deg + 1\n",
    "\n",
    "x = x_mat\n",
    "\n",
    "# Sort values\n",
    "x = np.sort(x)\n",
    "\n",
    "# Normalize input array\n",
    "# Mean\n",
    "meanX = np.mean(x, axis=0)\n",
    "# Standard Deviation\n",
    "stdX = np.std(x, axis = 0)\n",
    "# Variance\n",
    "varX = np.var(x)\n",
    "# Normalize variables\n",
    "x = (x - meanX) / stdX\n",
    "\n",
    "# Create dummy array\n",
    "J = np.ones((len(x), 1))\n",
    "cost = np.ones((len(x),1))\n",
    "vec_out = np.ones((mat_size, 1))\n",
    "\n",
    "# Solve for predicted values\n",
    "for q in (range(len(x))):\n",
    "    for p in range(0, mat_size):\n",
    "        vec_out[p] = x[q] ** p\n",
    "    # Algebraic vector\n",
    "    vec_out = np.matrix(vec_out)\n",
    "    # Matrix multiplication\n",
    "    l = np.matmul(coeff,vec_out)\n",
    "    J[q] = l\n",
    "    # Cost Function\n",
    "    cost[q] = (1/(2 * len(x))) * np.sum(np.square(J[q] - vec_out))\n",
    "    \n",
    "J[0]"
   ]
  },
  {
   "cell_type": "code",
   "execution_count": 51,
   "metadata": {},
   "outputs": [
    {
     "data": {
      "text/plain": [
       "array([0.50212124])"
      ]
     },
     "execution_count": 51,
     "metadata": {},
     "output_type": "execute_result"
    }
   ],
   "source": [
    "# Matrix Size: Degree of Polynomial\n",
    "poly_deg = 2\n",
    "mat_size = poly_deg + 1\n",
    "\n",
    "x = x_mat\n",
    "coeff2 = coeff.tolist()[0][::-1]\n",
    "coeff2\n",
    "\n",
    "# Sort values\n",
    "x = np.sort(x)\n",
    "\n",
    "# Normalize input array\n",
    "# Mean\n",
    "meanX = np.mean(x, axis=0)\n",
    "# Standard Deviation\n",
    "stdX = np.std(x, axis = 0)\n",
    "# Variance\n",
    "varX = np.var(x)\n",
    "# Normalize variables\n",
    "x = (x - meanX) / stdX\n",
    "\n",
    "# Create dummy array\n",
    "J = np.ones((len(x), 1))\n",
    "cost = np.ones((len(x),1))\n",
    "vec_out = np.ones((mat_size, 1))\n",
    "\n",
    "# Solve for predicted values\n",
    "for q in (range(len(x))):\n",
    "    vec_out = []\n",
    "    for p in reversed(range(0, mat_size)):\n",
    "        vec_out.append(x[q] ** p)\n",
    "    # Algebraic vector\n",
    "    vec_out = np.matrix(vec_out)\n",
    "    vec_out_2 = vec_out.reshape(3,1)\n",
    "    # Matrix multiplication\n",
    "    l = np.matmul(coeff2,vec_out_2)\n",
    "    J[q] = l\n",
    "    # Cost Function\n",
    "    cost[q] = (1/(2 * len(x))) * np.sum(np.square(J[q] - vec_out))\n",
    "    \n",
    "J[0]"
   ]
  },
  {
   "cell_type": "code",
   "execution_count": 52,
   "metadata": {},
   "outputs": [
    {
     "data": {
      "text/plain": [
       "array([[1.02782526],\n",
       "       [1.02782526],\n",
       "       [1.00517952],\n",
       "       ...,\n",
       "       [1.02955404],\n",
       "       [1.02993021],\n",
       "       [1.02955777]])"
      ]
     },
     "execution_count": 52,
     "metadata": {},
     "output_type": "execute_result"
    }
   ],
   "source": [
    "# Create dummy array\n",
    "J = np.ones((len(x_mat), 1))\n",
    "cost = np.ones((len(x_mat),1))\n",
    "vec_out = np.ones((3, 1))\n",
    "\n",
    "# Solve for predicted values\n",
    "for q in (range(len(x_mat))):\n",
    "    for p in range(0, 3):\n",
    "        vec_out[p] = x_mat[q] ** p\n",
    "    # Algebraic vector\n",
    "    vec_out = np.matrix(vec_out)\n",
    "    # Matrix multiplication\n",
    "    l = np.matmul(coeff,vec_out)\n",
    "    J[q] = l\n",
    "    # Cost Function\n",
    "#     cost[q] = (1/(2 * len(x))) * np.sum(np.square(J[q] - vec_out))\n",
    "J"
   ]
  },
  {
   "cell_type": "code",
   "execution_count": 53,
   "metadata": {},
   "outputs": [
    {
     "data": {
      "image/png": "[encoded data removed]",
      "text/plain": [
       "<Figure size 432x288 with 1 Axes>"
      ]
     },
     "metadata": {
      "needs_background": "light"
     },
     "output_type": "display_data"
    }
   ],
   "source": [
    "coeff = polyregression_coefficients(specificity,TPR,poly_deg)\n",
    "coeff\n",
    "poly_plt,poly_cost = polyregression_line(specificity, coeff, poly_deg)\n",
    "\n",
    "x_list = list(range(0,len(poly_plt)))\n",
    "new_list = [x / len(poly_plt) for x in x_list]\n",
    "\n",
    "plt.plot(new_list,poly_plt, color='darkgreen')\n",
    "# Complete line\n",
    "# Create coordinates\n",
    "# coord_1 = (1,np.max(poly_plt))\n",
    "# coord_2 = (1,np.min(poly_plt))\n",
    "\n",
    "# plt.scatter(coord_1,coord_2, color='darkred')\n",
    "\n",
    "plt.grid(True, 'major', color='k')\n",
    "plt.minorticks_on()\n",
    "plt.grid(True, 'minor', 'y')"
   ]
  },
  {
   "cell_type": "code",
   "execution_count": 54,
   "metadata": {},
   "outputs": [
    {
     "name": "stderr",
     "output_type": "stream",
     "text": [
      "C:\\Users\\USER\\anaconda3\\lib\\site-packages\\numpy\\core\\_asarray.py:171: VisibleDeprecationWarning: Creating an ndarray from ragged nested sequences (which is a list-or-tuple of lists-or-tuples-or ndarrays with different lengths or shapes) is deprecated. If you meant to do this, you must specify 'dtype=object' when creating the ndarray.\n",
      "  return array(a, dtype, copy=False, order=order, subok=True)\n"
     ]
    },
    {
     "data": {
      "text/plain": [
       "0.8494769591417298"
      ]
     },
     "execution_count": 54,
     "metadata": {},
     "output_type": "execute_result"
    },
    {
     "data": {
      "image/png": "[encoded data removed]",
      "text/plain": [
       "<Figure size 432x288 with 1 Axes>"
      ]
     },
     "metadata": {
      "needs_background": "light"
     },
     "output_type": "display_data"
    }
   ],
   "source": [
    "# (Precision),(TPR)\n",
    "poly_deg = 2\n",
    "coeff = polyregression_coefficients(Precision,TPR,poly_deg)\n",
    "coeff\n",
    "poly_plt_2,poly_cost_2 = polyregression_line(Precision, coeff, poly_deg)\n",
    "\n",
    "x_list = list(range(0,len(poly_plt_2)))\n",
    "poly_list = len(poly_plt_2)\n",
    "new_list_2 = [x / poly_list for x in x_list]\n",
    "\n",
    "poly_plt_2 = np.abs(poly_plt_2)\n",
    "\n",
    "plt.scatter(new_list_2,poly_plt_2, color='darkblue')\n",
    "plt.plot(new_list_2,poly_plt_2, color = 'orangered')\n",
    "\n",
    "# x_ind_0 = np.argmin(poly_plt, axis=0)\n",
    "# # x_ind_0\n",
    "# poly_plt[x_ind_0]\n",
    "# x_ind_1 = x_ind_0 + 1\n",
    "# poly_plt_2 = poly_plt[1*10:]\n",
    "# np.min(poly_plt_2)\n",
    "\n",
    "\n",
    "# Complete line\n",
    "# Create coordinates\n",
    "coord_1_prec_recall = (1,1)\n",
    "coord_2_prec_recall = (0,poly_plt_2[-1])\n",
    "\n",
    "plt.plot(coord_1_prec_recall,coord_2_prec_recall, color='orangered')\n",
    "\n",
    "plt.grid(True, 'major', color='k')\n",
    "plt.minorticks_on()\n",
    "plt.grid(True, 'minor', 'y')\n",
    "\n",
    "np.min(poly_plt_2)\n",
    "\n",
    "# print(coord_1)\n",
    "# print(coord_2)"
   ]
  },
  {
   "cell_type": "code",
   "execution_count": 55,
   "metadata": {},
   "outputs": [
    {
     "data": {
      "text/plain": [
       "array([0.50212124, 0.50212124, 0.50212124, ..., 0.99885679, 0.        ,\n",
       "       0.50212124])"
      ]
     },
     "execution_count": 55,
     "metadata": {},
     "output_type": "execute_result"
    },
    {
     "data": {
      "image/png": "[encoded data removed]",
      "text/plain": [
       "<Figure size 432x288 with 1 Axes>"
      ]
     },
     "metadata": {
      "needs_background": "light"
     },
     "output_type": "display_data"
    }
   ],
   "source": [
    "poly_deg = 2\n",
    "x_confusionmat = sorted(TPR)\n",
    "y_confusionmat = sorted(FPR[0:len(x_confusionmat)])\n",
    "\n",
    "x_mat = y_mat = []\n",
    "x_zero = y_zero = 0\n",
    "for i in range(0,len(x_confusionmat)):\n",
    "    if x_confusionmat[i] > 0 and y_confusionmat[i] > 0:\n",
    "        x_mat.append(x_confusionmat[i])\n",
    "        y_mat.append(y_confusionmat[i])\n",
    "    else:\n",
    "        x_zero += 1\n",
    "        y_zero += 1\n",
    "        \n",
    "# print(x_mat)\n",
    "# print(y_mat)\n",
    "# print(x_zero)\n",
    "# print(y_zero)\n",
    "\n",
    "x_mat = np.insert(x_mat,0,x_confusionmat[x_zero-1])\n",
    "y_mat = np.insert(y_mat,0,y_confusionmat[y_zero-1])\n",
    "\n",
    "# plt.scatter(sorted(x_mat),sorted(y_mat))\n",
    "        \n",
    "coeff = polyregression_coefficients(x_mat,y_mat,poly_deg)\n",
    "coeff\n",
    "poly_plt,poly_cost = polyregression_line(x_mat, coeff, poly_deg)\n",
    "\n",
    "# plt.scatter(x_mat,y_mat)\n",
    "# Create list\n",
    "x_list = list(range(0,len(poly_plt)))\n",
    "new_list = [x / len(poly_plt) for x in x_list]\n",
    "\n",
    "x_sig = sigmoid(np.array(x_list))\n",
    "# print(x_sig)\n",
    "# print(sorted(x_mat))\n",
    "# print(x_list)\n",
    "\n",
    "# print(np.mean(x_list))\n",
    "\n",
    "# x_0 = (x_list - np.mean(x_list, axis=0))/np.std(x_list, axis=0)\n",
    "# print(x_0)\n",
    "\n",
    "# plt.plot(sorted(x_mat),sorted(poly_plt), color='darkorange')\n",
    "plt.plot(new_list,poly_plt, color='darkorange')\n",
    "\n",
    "# np.min(poly_plt)\n",
    "\n",
    "# hplt_index = np.where(y_confusionmat == np.min(poly_plt))\n",
    "# print(hplt_index)\n",
    "\n",
    "# print(poly_plt)\n",
    "# print(x_confusionmat)\n",
    "\n",
    "# Complete line\n",
    "# Create coordinates\n",
    "coord_1 = (0,0)\n",
    "coord_2 = (0,np.min(poly_plt))\n",
    "\n",
    "plt.plot(coord_1,coord_2, color='darkorange')\n",
    "\n",
    "plt.grid(True, 'major', color='k')\n",
    "plt.minorticks_on()\n",
    "plt.grid(True, 'minor', 'y')\n",
    "# x_mat\n",
    "\n",
    "poly_plt\n",
    "\n",
    "poly_plt_curve = np.insert(poly_plt,len(poly_plt),[0,np.min(poly_plt)])\n",
    "poly_plt_curve"
   ]
  },
  {
   "cell_type": "code",
   "execution_count": 56,
   "metadata": {},
   "outputs": [
    {
     "name": "stdout",
     "output_type": "stream",
     "text": [
      "Area Under Curve: 0.9795629174681348\n"
     ]
    }
   ],
   "source": [
    "# Setup Simpson's Rule\n",
    "\n",
    "A = []\n",
    "A.append(poly_plt_curve[0])\n",
    "\n",
    "# Run through values from index 1 to n-1\n",
    "\n",
    "for i in range(1,len(poly_plt_curve)-1):\n",
    "    mod = i % 2\n",
    "    if mod == 0:\n",
    "        A.append(2 * poly_plt_curve[i])\n",
    "    else:\n",
    "        A.append(4 * poly_plt_curve[i])\n",
    "\n",
    "# Add last value\n",
    "A.append(poly_plt_curve[-1])\n",
    "\n",
    "# Approximate value under the curve\n",
    "# Step Size\n",
    "step = (1-0)/len(A)\n",
    "# Calculate Area\n",
    "simpson = np.multiply(np.sum(A),step)/3\n",
    "\n",
    "print(\"Area Under Curve:\", simpson)"
   ]
  },
  {
   "cell_type": "code",
   "execution_count": 57,
   "metadata": {},
   "outputs": [
    {
     "name": "stderr",
     "output_type": "stream",
     "text": [
      "C:\\Users\\USER\\anaconda3\\lib\\site-packages\\numpy\\core\\_asarray.py:171: VisibleDeprecationWarning: Creating an ndarray from ragged nested sequences (which is a list-or-tuple of lists-or-tuples-or ndarrays with different lengths or shapes) is deprecated. If you meant to do this, you must specify 'dtype=object' when creating the ndarray.\n",
      "  return array(a, dtype, copy=False, order=order, subok=True)\n"
     ]
    },
    {
     "data": {
      "image/png": "[encoded data removed]",
      "text/plain": [
       "<Figure size 432x288 with 1 Axes>"
      ]
     },
     "metadata": {
      "needs_background": "light"
     },
     "output_type": "display_data"
    },
    {
     "data": {
      "image/png": "[encoded data removed]",
      "text/plain": [
       "<Figure size 432x288 with 1 Axes>"
      ]
     },
     "metadata": {
      "needs_background": "light"
     },
     "output_type": "display_data"
    },
    {
     "data": {
      "image/png": "[encoded data removed]",
      "text/plain": [
       "<Figure size 432x288 with 1 Axes>"
      ]
     },
     "metadata": {
      "needs_background": "light"
     },
     "output_type": "display_data"
    },
    {
     "data": {
      "image/png": "[encoded data removed]",
      "text/plain": [
       "<Figure size 432x288 with 1 Axes>"
      ]
     },
     "metadata": {
      "needs_background": "light"
     },
     "output_type": "display_data"
    },
    {
     "data": {
      "image/png": "[encoded data removed]",
      "text/plain": [
       "<Figure size 432x288 with 1 Axes>"
      ]
     },
     "metadata": {
      "needs_background": "light"
     },
     "output_type": "display_data"
    }
   ],
   "source": [
    "# new = [i[0] for i in FPR]\n",
    "\n",
    "plot1 = plt.figure(1)\n",
    "plt.title(\"FPR\")\n",
    "# FPR = int(FPR)\n",
    "# plt.plot(sorted(new))\n",
    "plt.plot(sorted(FPR))\n",
    "# plt.title.set_text('FPR')\n",
    "plt.grid(True, 'major', color='k')\n",
    "plt.minorticks_on()\n",
    "plt.grid(True, 'minor', 'y')\n",
    "\n",
    "plot2 = plt.figure(2)\n",
    "plt.title(\"TPR\")\n",
    "plt.plot(sorted(TPR))\n",
    "# axs[0,1].plot(sorted(FPR))\n",
    "# plt.title.set_text('TPR')\n",
    "plt.grid(True, 'major', color='k')\n",
    "plt.minorticks_on()\n",
    "plt.grid(True, 'minor', 'y')\n",
    "\n",
    "# plot3 = plt.figure(3)\n",
    "# plt.title(\"ROC (Discrete)\")\n",
    "# plt.plot(sorted(TPR),sorted(FPR[0:len(TPR)]), color='red')\n",
    "# # axs[1,0].plot(sorted(FPR[0:len(TPR)]),sorted(TPR), color='red')\n",
    "# # plt.title.set_text('ROC')\n",
    "# plt.grid(True, 'major', color='k')\n",
    "# plt.minorticks_on()\n",
    "# plt.grid(True, 'minor', 'y')\n",
    "\n",
    "plot4 = plt.figure(4)\n",
    "plt.title(\"ROC\")\n",
    "# axs[1,1].plot(sorted(h3))\n",
    "plt.plot(new_list,poly_plt, color='darkorange')\n",
    "plt.plot(coord_1,coord_2, color='darkorange')\n",
    "# plt.title.set_text('ROC')\n",
    "plt.grid(True, 'major', color='k')\n",
    "plt.minorticks_on()\n",
    "plt.grid(True, 'minor', 'y')\n",
    "\n",
    "plot5 = plt.figure(5)\n",
    "plt.title(\"Accuracy\")\n",
    "plt.plot(sorted(h4))\n",
    "# plt.title.set_text('Accuracy')\n",
    "plt.grid(True, 'major', color='k')\n",
    "plt.minorticks_on()\n",
    "plt.grid(True, 'minor', 'y')\n",
    "\n",
    "plot6 = plt.figure(6)\n",
    "plt.title(\"Precision-Recall\")\n",
    "plt.scatter(new_list_2,poly_plt_2, color='darkblue')\n",
    "plt.plot(new_list_2,poly_plt_2, color = 'orangered')\n",
    "plt.plot(coord_1_prec_recall,coord_2_prec_recall, color='orangered')\n",
    "# plt.title.set_text('Precision-Recall')\n",
    "plt.grid(True, 'major', color='k')\n",
    "plt.minorticks_on()\n",
    "plt.grid(True, 'minor', 'y')\n",
    "\n",
    "\n",
    "# Grid Lines\n",
    "# plt.plot(sorted(TPR))\n",
    "# plt.grid(True, 'major', color='k')\n",
    "# plt.minorticks_on()\n",
    "# plt.grid(True, 'minor', 'y')\n",
    "\n",
    "plt.show()"
   ]
  },
  {
   "cell_type": "code",
   "execution_count": 58,
   "metadata": {},
   "outputs": [
    {
     "name": "stdout",
     "output_type": "stream",
     "text": [
      "Area Under Curve: 0.9910596377745314\n"
     ]
    }
   ],
   "source": [
    "poly_plt_curve_2 = np.insert(poly_plt_2,len(poly_plt_2),[1,poly_plt_2[-1]])\n",
    "poly_plt_curve_2\n",
    "\n",
    "\n",
    "# Setup Simpson's Rule\n",
    "\n",
    "A = []\n",
    "A.append(poly_plt_curve_2[0])\n",
    "\n",
    "# Run through values from index 1 to n-1\n",
    "\n",
    "for i in range(1,len(poly_plt_curve_2)-1):\n",
    "    mod = i % 2\n",
    "    if mod == 0:\n",
    "        A.append(2 * poly_plt_curve_2[i])\n",
    "    else:\n",
    "        A.append(4 * poly_plt_curve_2[i])\n",
    "\n",
    "# Add last value\n",
    "A.append(poly_plt_curve_2[-1])\n",
    "\n",
    "# Approximate value under the curve\n",
    "# Step Size\n",
    "step = (1-0)/len(A)\n",
    "# Calculate Area\n",
    "simpson = np.multiply(np.sum(A),step)/3\n",
    "\n",
    "print(\"Area Under Curve:\", simpson)"
   ]
  },
  {
   "cell_type": "code",
   "execution_count": 59,
   "metadata": {},
   "outputs": [
    {
     "data": {
      "text/plain": [
       "[<matplotlib.lines.Line2D at 0x17fd0942790>]"
      ]
     },
     "execution_count": 59,
     "metadata": {},
     "output_type": "execute_result"
    },
    {
     "data": {
      "image/png": "[encoded data removed]",
      "text/plain": [
       "<Figure size 432x288 with 1 Axes>"
      ]
     },
     "metadata": {
      "needs_background": "light"
     },
     "output_type": "display_data"
    }
   ],
   "source": [
    "# x_mat\n",
    "plt.plot(sorted(x_mat),sorted(poly_plt), color='darkorange')"
   ]
  },
  {
   "cell_type": "code",
   "execution_count": 60,
   "metadata": {},
   "outputs": [
    {
     "name": "stdout",
     "output_type": "stream",
     "text": [
      "conf(tp=885, fp=115, tn=1, fn=1)\n",
      "0.9913793103448276\n",
      "0.9988713318284425\n"
     ]
    }
   ],
   "source": [
    "# Setup Confusion Matrix\n",
    "# tp = 0\n",
    "# fp = 1\n",
    "# tn = 2\n",
    "# fn = 3\n",
    "\n",
    "FPR = con_mat[1]/(con_mat[1] + con_mat[2])\n",
    "TPR = con_mat[0]/(con_mat[0] + con_mat[3])\n",
    "\n",
    "print(con_mat)\n",
    "print(FPR)\n",
    "print(TPR)\n"
   ]
  },
  {
   "cell_type": "code",
   "execution_count": 61,
   "metadata": {},
   "outputs": [
    {
     "data": {
      "image/png": "[encoded data removed]",
      "text/plain": [
       "<Figure size 432x288 with 1 Axes>"
      ]
     },
     "metadata": {
      "needs_background": "light"
     },
     "output_type": "display_data"
    }
   ],
   "source": [
    "plt.plot(sorted(h4))\n",
    "plt.grid(True, 'major', color='k')\n",
    "plt.minorticks_on()\n",
    "plt.grid(True, 'minor', 'y')\n"
   ]
  },
  {
   "cell_type": "code",
   "execution_count": 62,
   "metadata": {},
   "outputs": [
    {
     "data": {
      "text/plain": [
       "0.9913793103448276"
      ]
     },
     "execution_count": 62,
     "metadata": {},
     "output_type": "execute_result"
    }
   ],
   "source": [
    "FPR"
   ]
  },
  {
   "cell_type": "code",
   "execution_count": null,
   "metadata": {},
   "outputs": [],
   "source": []
  }
 ],
 "metadata": {
  "kernelspec": {
   "display_name": "Python 3 (ipykernel)",
   "language": "python",
   "name": "python3"
  },
  "language_info": {
   "codemirror_mode": {
    "name": "ipython",
    "version": 3
   },
   "file_extension": ".py",
   "mimetype": "text/x-python",
   "name": "python",
   "nbconvert_exporter": "python",
   "pygments_lexer": "ipython3",
   "version": "3.9.7"
  }
 },
 "nbformat": 4,
 "nbformat_minor": 4
}
