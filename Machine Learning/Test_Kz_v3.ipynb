{
 "cells": [
  {
   "cell_type": "code",
   "execution_count": 1,
   "metadata": {},
   "outputs": [
    {
     "data": {
      "image/png": "[encoded data removed]",
      "text/plain": [
       "<Figure size 288x216 with 1 Axes>"
      ]
     },
     "metadata": {},
     "output_type": "display_data"
    }
   ],
   "source": [
    "import matplotlib.pyplot as plt\n",
    "import numpy as np\n",
    "import random\n",
    "\n",
    "from sklearn import datasets, linear_model\n",
    "\n",
    "\n",
    "class LogisticRegression(object):\n",
    "    def __init__(self, eta=0.001, n_iter=50):\n",
    "        self.eta = eta\n",
    "        self.n_iter = n_iter\n",
    "\n",
    "    def fit(self, X, y):\n",
    "        X = np.insert(X, 0, 1, axis=1)\n",
    "        self.w_ = np.ones(X.shape[1])\n",
    "\n",
    "        for _ in range(self.n_iter):\n",
    "            output = X.dot(self.w_)\n",
    "            errors = y - self.sigmoid(output)\n",
    "            self.w_ += self.eta * errors.T.dot(X)\n",
    "            # print(sum(errors**2) / 2.0)\n",
    "        return self\n",
    "\n",
    "    def predict(self, X):\n",
    "        output = np.insert(X, 0, 1, axis=1).dot(self.w_)\n",
    "        return (self.sigmoid(output) + .5) // 1\n",
    "\n",
    "    def sigmoid(self, x):\n",
    "        return 1.0 / (1 + np.exp(-x))\n",
    "\n",
    "\n",
    "class LogisticRegressionOVR(object):\n",
    "    \"\"\"One vs Rest\"\"\"\n",
    "\n",
    "    def __init__(self, eta=0.001, n_iter=50):\n",
    "        self.eta = eta\n",
    "        self.n_iter = n_iter\n",
    "\n",
    "    def fit(self, X, y):\n",
    "        X = np.insert(X, 0, 1, axis=1)\n",
    "        self.w_ = []\n",
    "\n",
    "        for i in np.unique(y):\n",
    "            y_copy = [1 if c == i else 0 for c in y]\n",
    "#             w = np.ones(X.shape[1])\n",
    "            w = np.linalg.inv(X.T.dot(X)).dot(X.T).dot(y)\n",
    "\n",
    "            # print('training ', i)\n",
    "            # counter = 0\n",
    "\n",
    "            for _ in range(self.n_iter):\n",
    "                output = X.dot(w)\n",
    "                errors = y_copy - self.sigmoid(output)\n",
    "                w += self.eta * errors.T.dot(X)\n",
    "                \n",
    "                # counter += 1\n",
    "                # if counter // 10 == 0:\n",
    "                #     print(sum(errors**2) / 2.0)\n",
    "            self.w_.append((w, i))\n",
    "\n",
    "        return self\n",
    "\n",
    "\n",
    "    def predictOne(self, x):\n",
    "        return max((x.dot(w), c) for w, c in self.w_)[1]\n",
    "\n",
    "    def predict(self, X):\n",
    "        return np.array([self.predictOne(i) for i in np.insert(X, 0, 1, axis=1)])\n",
    "    \n",
    "    def score(self, X, y):\n",
    "        return sum(self.predict(X) == y) / len(y)\n",
    "\n",
    "    def sigmoid(self, x):\n",
    "        return 1.0 / (1 + np.exp(-x))\n",
    "    \n",
    "    def softmax(self, x):\n",
    "        \"\"\" applies softmax to an input x\"\"\"\n",
    "        e_x = np.exp(x)\n",
    "        return e_x / e_x.sum()\n",
    "    \n",
    "\n",
    "\n",
    "def main():\n",
    "    iris = datasets.load_iris()\n",
    "    # X = iris.data[:100, :2]\n",
    "    # y = iris.target[:100]\n",
    "    X = iris.data[:, :2]\n",
    "    y = iris.target\n",
    "    logi = LogisticRegressionOVR()\n",
    "    logi.fit(X, y)\n",
    "    y_pred = logi.predict(X)\n",
    "    print(y_pred)\n",
    "    print(\"out of a total %d points : %d\" % (X.shape[0],(y != y_pred).sum()))\n",
    "\n",
    "\n",
    "# if __name__ == '__main__': main()\n",
    "\n",
    "iris = datasets.load_iris()\n",
    "X = iris.data[:, :2]  # we only take the first two features.\n",
    "Y = iris.target\n",
    "\n",
    "h = .02  # step size in the mesh\n",
    "\n",
    "# logreg = linear_model.LogisticRegression(C=1e5)\n",
    "logreg = LogisticRegressionOVR(n_iter=1000)\n",
    "\n",
    "# we create an instance of Neighbours Classifier and fit the data.\n",
    "logreg.fit(X, Y)\n",
    "\n",
    "# Plot the decision boundary. For that, we will assign a color to each\n",
    "# point in the mesh [x_min, m_max]x[y_min, y_max].\n",
    "x_min, x_max = X[:, 0].min() - .5, X[:, 0].max() + .5\n",
    "y_min, y_max = X[:, 1].min() - .5, X[:, 1].max() + .5\n",
    "xx, yy = np.meshgrid(np.arange(x_min, x_max, h), np.arange(y_min, y_max, h))\n",
    "Z = logreg.predict(np.c_[xx.ravel(), yy.ravel()])\n",
    "\n",
    "# Put the result into a color plot\n",
    "Z = Z.reshape(xx.shape)\n",
    "plt.figure(1, figsize=(4, 3))\n",
    "plt.pcolormesh(xx, yy, Z, cmap=plt.cm.Paired)\n",
    "\n",
    "# Plot also the training points\n",
    "plt.scatter(X[:, 0], X[:, 1], c=Y, edgecolors='k', cmap=plt.cm.Paired)\n",
    "plt.xlabel('Sepal length')\n",
    "plt.ylabel('Sepal width')\n",
    "\n",
    "plt.xlim(xx.min(), xx.max())\n",
    "plt.ylim(yy.min(), yy.max())\n",
    "plt.xticks(())\n",
    "plt.yticks(())\n",
    "\n",
    "plt.show()"
   ]
  },
  {
   "cell_type": "code",
   "execution_count": 2,
   "metadata": {},
   "outputs": [
    {
     "data": {
      "text/plain": [
       "[(array([-0.15550334, -3.29867604,  5.72939301]), 0),\n",
       " (array([ 0.40531782,  0.66333248, -1.69824498]), 1),\n",
       " (array([-3.47518351,  1.50784398, -2.08277474]), 2)]"
      ]
     },
     "execution_count": 2,
     "metadata": {},
     "output_type": "execute_result"
    }
   ],
   "source": [
    "logreg.w_"
   ]
  },
  {
   "cell_type": "code",
   "execution_count": 3,
   "metadata": {},
   "outputs": [
    {
     "data": {
      "text/plain": [
       "array([0.5       , 0.5       , 0.5       , 0.5       , 0.5       ,\n",
       "       0.5       , 0.5       , 0.5       , 0.5       , 0.5       ,\n",
       "       0.5       , 0.5       , 0.5       , 0.5       , 0.5       ,\n",
       "       0.5       , 0.5       , 0.5       , 0.5       , 0.5       ,\n",
       "       0.5       , 0.5       , 0.5       , 0.5       , 0.5       ,\n",
       "       0.5       , 0.5       , 0.5       , 0.5       , 0.5       ,\n",
       "       0.5       , 0.5       , 0.5       , 0.5       , 0.5       ,\n",
       "       0.5       , 0.5       , 0.5       , 0.5       , 0.5       ,\n",
       "       0.5       , 0.5       , 0.5       , 0.5       , 0.5       ,\n",
       "       0.5       , 0.5       , 0.5       , 0.5       , 0.5       ,\n",
       "       0.73105858, 0.73105858, 0.73105858, 0.73105858, 0.73105858,\n",
       "       0.73105858, 0.73105858, 0.73105858, 0.73105858, 0.73105858,\n",
       "       0.73105858, 0.73105858, 0.73105858, 0.73105858, 0.73105858,\n",
       "       0.73105858, 0.73105858, 0.73105858, 0.73105858, 0.73105858,\n",
       "       0.73105858, 0.73105858, 0.73105858, 0.73105858, 0.73105858,\n",
       "       0.73105858, 0.73105858, 0.73105858, 0.73105858, 0.73105858,\n",
       "       0.73105858, 0.73105858, 0.73105858, 0.73105858, 0.73105858,\n",
       "       0.73105858, 0.73105858, 0.73105858, 0.73105858, 0.73105858,\n",
       "       0.73105858, 0.73105858, 0.73105858, 0.73105858, 0.73105858,\n",
       "       0.73105858, 0.73105858, 0.73105858, 0.73105858, 0.73105858,\n",
       "       0.88079708, 0.88079708, 0.88079708, 0.88079708, 0.88079708,\n",
       "       0.88079708, 0.88079708, 0.88079708, 0.88079708, 0.88079708,\n",
       "       0.88079708, 0.88079708, 0.88079708, 0.88079708, 0.88079708,\n",
       "       0.88079708, 0.88079708, 0.88079708, 0.88079708, 0.88079708,\n",
       "       0.88079708, 0.88079708, 0.88079708, 0.88079708, 0.88079708,\n",
       "       0.88079708, 0.88079708, 0.88079708, 0.88079708, 0.88079708,\n",
       "       0.88079708, 0.88079708, 0.88079708, 0.88079708, 0.88079708,\n",
       "       0.88079708, 0.88079708, 0.88079708, 0.88079708, 0.88079708,\n",
       "       0.88079708, 0.88079708, 0.88079708, 0.88079708, 0.88079708,\n",
       "       0.88079708, 0.88079708, 0.88079708, 0.88079708, 0.88079708])"
      ]
     },
     "execution_count": 3,
     "metadata": {},
     "output_type": "execute_result"
    }
   ],
   "source": [
    "logreg.sigmoid(Y)"
   ]
  },
  {
   "cell_type": "code",
   "execution_count": 4,
   "metadata": {},
   "outputs": [
    {
     "name": "stdout",
     "output_type": "stream",
     "text": [
      "0.9666666666666667\n",
      "0.9666666666666667\n"
     ]
    }
   ],
   "source": [
    "from sklearn import datasets\n",
    "from sklearn.model_selection import train_test_split\n",
    "\n",
    "iris = datasets.load_iris()\n",
    "X_train, X_temp, y_train, y_temp = \\\n",
    "    train_test_split(iris.data, iris.target, test_size=.4)\n",
    "X_validation, X_test, y_validation, y_test = \\\n",
    "    train_test_split(X_temp, y_temp, test_size=.5)\n",
    "\n",
    "logi = LogisticRegressionOVR(n_iter=1000).fit(X_train, y_train)\n",
    "# logi = LogisticRegressionOVR(n_iter=1000).fit(X_validation, y_validation)\n",
    "\n",
    "print(logi.score(X_train, y_train))\n",
    "print(logi.score(X_validation, y_validation))"
   ]
  },
  {
   "cell_type": "code",
   "execution_count": 5,
   "metadata": {},
   "outputs": [
    {
     "data": {
      "text/plain": [
       "array([0.02151903, 0.00791641, 0.05849478, 0.00791641, 0.00791641,\n",
       "       0.05849478, 0.00791641, 0.00791641, 0.05849478, 0.05849478,\n",
       "       0.05849478, 0.05849478, 0.00791641, 0.05849478, 0.05849478,\n",
       "       0.05849478, 0.02151903, 0.02151903, 0.05849478, 0.05849478,\n",
       "       0.05849478, 0.05849478, 0.00791641, 0.00791641, 0.05849478,\n",
       "       0.00791641, 0.02151903, 0.00791641, 0.00791641, 0.00791641])"
      ]
     },
     "execution_count": 5,
     "metadata": {},
     "output_type": "execute_result"
    }
   ],
   "source": [
    "logi.softmax(y_validation)"
   ]
  },
  {
   "cell_type": "code",
   "execution_count": 6,
   "metadata": {},
   "outputs": [
    {
     "data": {
      "text/plain": [
       "array([0.5       , 0.73105858, 0.5       , 0.88079708, 0.5       ,\n",
       "       0.5       , 0.73105858, 0.73105858, 0.5       , 0.5       ,\n",
       "       0.73105858, 0.88079708, 0.88079708, 0.88079708, 0.5       ,\n",
       "       0.5       , 0.5       , 0.73105858, 0.5       , 0.73105858,\n",
       "       0.5       , 0.88079708, 0.5       , 0.73105858, 0.73105858,\n",
       "       0.73105858, 0.5       , 0.88079708, 0.73105858, 0.5       ,\n",
       "       0.73105858, 0.73105858, 0.73105858, 0.5       , 0.5       ,\n",
       "       0.73105858, 0.73105858, 0.5       , 0.88079708, 0.88079708,\n",
       "       0.73105858, 0.5       , 0.73105858, 0.5       , 0.88079708,\n",
       "       0.73105858, 0.73105858, 0.88079708, 0.88079708, 0.5       ,\n",
       "       0.73105858, 0.88079708, 0.88079708, 0.88079708, 0.88079708,\n",
       "       0.88079708, 0.73105858, 0.88079708, 0.73105858, 0.88079708,\n",
       "       0.73105858, 0.5       , 0.5       , 0.73105858, 0.88079708,\n",
       "       0.73105858, 0.88079708, 0.5       , 0.73105858, 0.73105858,\n",
       "       0.5       , 0.73105858, 0.73105858, 0.5       , 0.73105858,\n",
       "       0.73105858, 0.5       , 0.5       , 0.88079708, 0.88079708,\n",
       "       0.73105858, 0.88079708, 0.88079708, 0.73105858, 0.5       ,\n",
       "       0.88079708, 0.88079708, 0.88079708, 0.73105858, 0.88079708])"
      ]
     },
     "execution_count": 6,
     "metadata": {},
     "output_type": "execute_result"
    }
   ],
   "source": [
    "logi.sigmoid(y_train)"
   ]
  },
  {
   "cell_type": "code",
   "execution_count": 7,
   "metadata": {},
   "outputs": [
    {
     "data": {
      "text/plain": [
       "array([[5.1, 3.5],\n",
       "       [4.9, 3. ],\n",
       "       [4.7, 3.2],\n",
       "       [4.6, 3.1],\n",
       "       [5. , 3.6],\n",
       "       [5.4, 3.9],\n",
       "       [4.6, 3.4],\n",
       "       [5. , 3.4],\n",
       "       [4.4, 2.9],\n",
       "       [4.9, 3.1],\n",
       "       [5.4, 3.7],\n",
       "       [4.8, 3.4],\n",
       "       [4.8, 3. ],\n",
       "       [4.3, 3. ],\n",
       "       [5.8, 4. ],\n",
       "       [5.7, 4.4],\n",
       "       [5.4, 3.9],\n",
       "       [5.1, 3.5],\n",
       "       [5.7, 3.8],\n",
       "       [5.1, 3.8],\n",
       "       [5.4, 3.4],\n",
       "       [5.1, 3.7],\n",
       "       [4.6, 3.6],\n",
       "       [5.1, 3.3],\n",
       "       [4.8, 3.4],\n",
       "       [5. , 3. ],\n",
       "       [5. , 3.4],\n",
       "       [5.2, 3.5],\n",
       "       [5.2, 3.4],\n",
       "       [4.7, 3.2],\n",
       "       [4.8, 3.1],\n",
       "       [5.4, 3.4],\n",
       "       [5.2, 4.1],\n",
       "       [5.5, 4.2],\n",
       "       [4.9, 3.1],\n",
       "       [5. , 3.2],\n",
       "       [5.5, 3.5],\n",
       "       [4.9, 3.6],\n",
       "       [4.4, 3. ],\n",
       "       [5.1, 3.4],\n",
       "       [5. , 3.5],\n",
       "       [4.5, 2.3],\n",
       "       [4.4, 3.2],\n",
       "       [5. , 3.5],\n",
       "       [5.1, 3.8],\n",
       "       [4.8, 3. ],\n",
       "       [5.1, 3.8],\n",
       "       [4.6, 3.2],\n",
       "       [5.3, 3.7],\n",
       "       [5. , 3.3],\n",
       "       [7. , 3.2],\n",
       "       [6.4, 3.2],\n",
       "       [6.9, 3.1],\n",
       "       [5.5, 2.3],\n",
       "       [6.5, 2.8],\n",
       "       [5.7, 2.8],\n",
       "       [6.3, 3.3],\n",
       "       [4.9, 2.4],\n",
       "       [6.6, 2.9],\n",
       "       [5.2, 2.7],\n",
       "       [5. , 2. ],\n",
       "       [5.9, 3. ],\n",
       "       [6. , 2.2],\n",
       "       [6.1, 2.9],\n",
       "       [5.6, 2.9],\n",
       "       [6.7, 3.1],\n",
       "       [5.6, 3. ],\n",
       "       [5.8, 2.7],\n",
       "       [6.2, 2.2],\n",
       "       [5.6, 2.5],\n",
       "       [5.9, 3.2],\n",
       "       [6.1, 2.8],\n",
       "       [6.3, 2.5],\n",
       "       [6.1, 2.8],\n",
       "       [6.4, 2.9],\n",
       "       [6.6, 3. ],\n",
       "       [6.8, 2.8],\n",
       "       [6.7, 3. ],\n",
       "       [6. , 2.9],\n",
       "       [5.7, 2.6],\n",
       "       [5.5, 2.4],\n",
       "       [5.5, 2.4],\n",
       "       [5.8, 2.7],\n",
       "       [6. , 2.7],\n",
       "       [5.4, 3. ],\n",
       "       [6. , 3.4],\n",
       "       [6.7, 3.1],\n",
       "       [6.3, 2.3],\n",
       "       [5.6, 3. ],\n",
       "       [5.5, 2.5],\n",
       "       [5.5, 2.6],\n",
       "       [6.1, 3. ],\n",
       "       [5.8, 2.6],\n",
       "       [5. , 2.3],\n",
       "       [5.6, 2.7],\n",
       "       [5.7, 3. ],\n",
       "       [5.7, 2.9],\n",
       "       [6.2, 2.9],\n",
       "       [5.1, 2.5],\n",
       "       [5.7, 2.8],\n",
       "       [6.3, 3.3],\n",
       "       [5.8, 2.7],\n",
       "       [7.1, 3. ],\n",
       "       [6.3, 2.9],\n",
       "       [6.5, 3. ],\n",
       "       [7.6, 3. ],\n",
       "       [4.9, 2.5],\n",
       "       [7.3, 2.9],\n",
       "       [6.7, 2.5],\n",
       "       [7.2, 3.6],\n",
       "       [6.5, 3.2],\n",
       "       [6.4, 2.7],\n",
       "       [6.8, 3. ],\n",
       "       [5.7, 2.5],\n",
       "       [5.8, 2.8],\n",
       "       [6.4, 3.2],\n",
       "       [6.5, 3. ],\n",
       "       [7.7, 3.8],\n",
       "       [7.7, 2.6],\n",
       "       [6. , 2.2],\n",
       "       [6.9, 3.2],\n",
       "       [5.6, 2.8],\n",
       "       [7.7, 2.8],\n",
       "       [6.3, 2.7],\n",
       "       [6.7, 3.3],\n",
       "       [7.2, 3.2],\n",
       "       [6.2, 2.8],\n",
       "       [6.1, 3. ],\n",
       "       [6.4, 2.8],\n",
       "       [7.2, 3. ],\n",
       "       [7.4, 2.8],\n",
       "       [7.9, 3.8],\n",
       "       [6.4, 2.8],\n",
       "       [6.3, 2.8],\n",
       "       [6.1, 2.6],\n",
       "       [7.7, 3. ],\n",
       "       [6.3, 3.4],\n",
       "       [6.4, 3.1],\n",
       "       [6. , 3. ],\n",
       "       [6.9, 3.1],\n",
       "       [6.7, 3.1],\n",
       "       [6.9, 3.1],\n",
       "       [5.8, 2.7],\n",
       "       [6.8, 3.2],\n",
       "       [6.7, 3.3],\n",
       "       [6.7, 3. ],\n",
       "       [6.3, 2.5],\n",
       "       [6.5, 3. ],\n",
       "       [6.2, 3.4],\n",
       "       [5.9, 3. ]])"
      ]
     },
     "execution_count": 7,
     "metadata": {},
     "output_type": "execute_result"
    }
   ],
   "source": [
    "X"
   ]
  },
  {
   "cell_type": "code",
   "execution_count": 8,
   "metadata": {},
   "outputs": [
    {
     "data": {
      "text/plain": [
       "(150, 1)"
      ]
     },
     "execution_count": 8,
     "metadata": {},
     "output_type": "execute_result"
    }
   ],
   "source": [
    "Y2 = Y.reshape(150,1)\n",
    "Y2.shape"
   ]
  },
  {
   "cell_type": "code",
   "execution_count": 9,
   "metadata": {},
   "outputs": [
    {
     "data": {
      "text/plain": [
       "(150, 2)"
      ]
     },
     "execution_count": 9,
     "metadata": {},
     "output_type": "execute_result"
    }
   ],
   "source": [
    "X.shape"
   ]
  },
  {
   "cell_type": "code",
   "execution_count": 10,
   "metadata": {},
   "outputs": [
    {
     "data": {
      "text/plain": [
       "[<matplotlib.lines.Line2D at 0x1ba223d67f0>]"
      ]
     },
     "execution_count": 10,
     "metadata": {},
     "output_type": "execute_result"
    },
    {
     "data": {
      "image/png": "[encoded data removed]",
      "text/plain": [
       "<Figure size 432x288 with 1 Axes>"
      ]
     },
     "metadata": {
      "needs_background": "light"
     },
     "output_type": "display_data"
    }
   ],
   "source": [
    "plt.plot(sorted(logi.sigmoid(y_train)))"
   ]
  },
  {
   "cell_type": "code",
   "execution_count": null,
   "metadata": {},
   "outputs": [],
   "source": []
  }
 ],
 "metadata": {
  "kernelspec": {
   "display_name": "Python 3 (ipykernel)",
   "language": "python",
   "name": "python3"
  },
  "language_info": {
   "codemirror_mode": {
    "name": "ipython",
    "version": 3
   },
   "file_extension": ".py",
   "mimetype": "text/x-python",
   "name": "python",
   "nbconvert_exporter": "python",
   "pygments_lexer": "ipython3",
   "version": "3.9.7"
  }
 },
 "nbformat": 4,
 "nbformat_minor": 4
}
