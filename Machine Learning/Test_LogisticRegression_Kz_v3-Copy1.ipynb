{
 "cells": [
  {
   "cell_type": "code",
   "execution_count": 21,
   "metadata": {},
   "outputs": [],
   "source": [
    "from typing import List, Dict, Iterable, Tuple, Callable\n",
    "from matplotlib import pyplot as plt\n",
    "from collections import Counter\n",
    "import sys\n",
    "import os\n",
    "import string\n",
    "import urllib.request\n",
    "import requests\n",
    "import curl\n",
    "import pycurl\n",
    "import webbrowser\n",
    "import numpy as np\n",
    "import math\n",
    "import pandas as pd\n",
    "# from IPython import qt\n",
    "from matplotlib.pyplot import figure\n",
    "from py.xml import raw\n",
    "from requests.api import get\n",
    "from matplotlib import pyplot as plt\n",
    "# from scratch.working_with_data import rescale\n",
    "# from scratch.multiple_regression import least_squares_fit, predict\n",
    "# from scratch.gradient_descent import gradient_step\n",
    "\n",
    "# from stats import mean, median, de_mean, standard_deviation, correlation\n",
    "# from gradient_descent import minimize_stochastic, maximize_stochastic, maximize_batch\n",
    "# from vector import dot, vector_add\n",
    "# from normal import normal_cdf\n",
    "# from matrix import make_matrix, get_column, shape, matrix_multiply\n",
    "# from logistic_regression import *\n",
    "\n",
    "import math\n",
    "import os\n",
    "import random\n",
    "import sys\n",
    "from functools import partial, reduce\n",
    "\n",
    "from scipy.optimize import fmin_tnc\n",
    "\n",
    "import tqdm\n",
    "\n",
    "from typing import Tuple\n",
    "# from gradient_descent import maximize_stochastic, maximize_batch"
   ]
  },
  {
   "cell_type": "code",
   "execution_count": 22,
   "metadata": {},
   "outputs": [],
   "source": [
    "class LogisticRegressionOVR(object):\n",
    "    def __init__(self, eta=0.1, n_iter=50):\n",
    "        self.eta = eta\n",
    "        self.n_iter = n_iter\n",
    "\n",
    "    def fit(self, X, y):\n",
    "        X = np.insert(X, 0, 1, axis=1)\n",
    "        self.w = []\n",
    "        m = X.shape[0]\n",
    "\n",
    "        for i in np.unique(y):\n",
    "            y_copy = np.where(y == i, 1, 0)\n",
    "            w = np.ones(X.shape[1])\n",
    "\n",
    "            for _ in range(self.n_iter):\n",
    "                output = X.dot(w)\n",
    "                errors = y_copy - self._sigmoid(output)\n",
    "                w += self.eta / m * errors.dot(X)\n",
    "            self.w.append((w, i))\n",
    "        return self\n",
    "    \n",
    "#      def predict(self, X):\n",
    "#         output = np.insert(X, 0, 1, axis=1).dot(self.w)\n",
    "#         return (np.floor(self._sigmoid(output) + .5)).astype(int)\n",
    "\n",
    "    def predict(self, X):\n",
    "        return [self._predict_one(i) for i in np.insert(X, 0, 1, axis=0)]\n",
    "    \n",
    "    def _predict_one(self, x):\n",
    "        return max((x.dot(w), c) for w, c in self.w)[1]\n",
    "\n",
    "    def score(self, X, y):\n",
    "        return sum(self.predict(X) == y) / len(y)\n",
    "\n",
    "    def _sigmoid(self, x):\n",
    "        return 1 / (1 + np.exp(-x))"
   ]
  },
  {
   "cell_type": "code",
   "execution_count": 23,
   "metadata": {},
   "outputs": [
    {
     "name": "stdout",
     "output_type": "stream",
     "text": [
      "[(array([ 1.10750793,  0.16659928,  2.10390635, -2.89603423, -0.67808656]), 0), (array([ 1.51575431,  0.49354106, -1.8173603 ,  0.48598301, -1.28570246]), 1), (array([-0.47207322, -2.29779646, -1.80496179,  3.01463423,  3.18938539]), 2)]\n"
     ]
    }
   ],
   "source": [
    "from sklearn.model_selection import train_test_split\n",
    "from sklearn import datasets\n",
    "\n",
    "# np.set_printoptions(precision=3)\n",
    "iris = datasets.load_iris()\n",
    "X = iris.data\n",
    "y = iris.target\n",
    "logi = LogisticRegressionOVR(n_iter=1000).fit(X, y)\n",
    "print(logi.w)\n",
    "\n",
    "iris = datasets.load_iris()\n",
    "X_train, X_temp, y_train, y_temp = \\\n",
    "    train_test_split(iris.data, iris.target, test_size=.4)\n",
    "X_validation, X_test, y_validation, y_test = \\\n",
    "    train_test_split(X_temp, y_temp, test_size=.5)\n",
    "\n",
    "logi = LogisticRegressionOVR(n_iter=1000).fit(X_train, y_train)\n",
    "\n",
    "# print(logi.score(X_train, y_train))\n",
    "# print(logi.score(X_validation, y_validation))"
   ]
  },
  {
   "cell_type": "code",
   "execution_count": 24,
   "metadata": {},
   "outputs": [
    {
     "data": {
      "text/plain": [
       "array([0.88079708, 0.88079708, 0.88079708, 0.88079708, 0.73105858,\n",
       "       0.73105858, 0.88079708, 0.88079708, 0.73105858, 0.73105858,\n",
       "       0.5       , 0.5       , 0.88079708, 0.88079708, 0.88079708,\n",
       "       0.88079708, 0.73105858, 0.88079708, 0.88079708, 0.88079708,\n",
       "       0.73105858, 0.73105858, 0.73105858, 0.88079708, 0.73105858,\n",
       "       0.88079708, 0.5       , 0.5       , 0.73105858, 0.88079708,\n",
       "       0.88079708, 0.5       , 0.88079708, 0.88079708, 0.5       ,\n",
       "       0.73105858, 0.5       , 0.88079708, 0.73105858, 0.5       ,\n",
       "       0.73105858, 0.73105858, 0.5       , 0.5       , 0.88079708,\n",
       "       0.73105858, 0.73105858, 0.5       , 0.73105858, 0.73105858,\n",
       "       0.73105858, 0.88079708, 0.73105858, 0.5       , 0.5       ,\n",
       "       0.73105858, 0.5       , 0.88079708, 0.88079708, 0.5       ,\n",
       "       0.73105858, 0.5       , 0.5       , 0.73105858, 0.5       ,\n",
       "       0.5       , 0.73105858, 0.88079708, 0.73105858, 0.5       ,\n",
       "       0.5       , 0.88079708, 0.5       , 0.88079708, 0.5       ,\n",
       "       0.88079708, 0.5       , 0.73105858, 0.88079708, 0.88079708,\n",
       "       0.88079708, 0.88079708, 0.73105858, 0.88079708, 0.5       ,\n",
       "       0.5       , 0.5       , 0.88079708, 0.73105858, 0.88079708])"
      ]
     },
     "execution_count": 24,
     "metadata": {},
     "output_type": "execute_result"
    }
   ],
   "source": [
    "logi._sigmoid(y_train)"
   ]
  }
 ],
 "metadata": {
  "kernelspec": {
   "display_name": "Python 3 (ipykernel)",
   "language": "python",
   "name": "python3"
  },
  "language_info": {
   "codemirror_mode": {
    "name": "ipython",
    "version": 3
   },
   "file_extension": ".py",
   "mimetype": "text/x-python",
   "name": "python",
   "nbconvert_exporter": "python",
   "pygments_lexer": "ipython3",
   "version": "3.9.7"
  }
 },
 "nbformat": 4,
 "nbformat_minor": 4
}
