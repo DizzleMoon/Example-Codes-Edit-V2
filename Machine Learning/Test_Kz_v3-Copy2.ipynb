{
 "cells": [
  {
   "cell_type": "code",
   "execution_count": 11,
   "metadata": {},
   "outputs": [
    {
     "data": {
      "image/png": "[encoded data removed]",
      "text/plain": [
       "<Figure size 288x216 with 1 Axes>"
      ]
     },
     "metadata": {},
     "output_type": "display_data"
    }
   ],
   "source": [
    "import matplotlib.pyplot as plt\n",
    "import numpy as np\n",
    "import random\n",
    "\n",
    "from sklearn import datasets, linear_model\n",
    "\n",
    "\n",
    "class LogisticRegression(object):\n",
    "    def __init__(self, eta=0.001, n_iter=50):\n",
    "        self.eta = eta\n",
    "        self.n_iter = n_iter\n",
    "\n",
    "    def fit(self, X, y):\n",
    "        X = np.insert(X, 0, 1, axis=1)\n",
    "        self.w_ = np.ones(X.shape[1])\n",
    "\n",
    "        for _ in range(self.n_iter):\n",
    "            output = X.dot(self.w_)\n",
    "            errors = y - self.sigmoid(output)\n",
    "            self.w_ += self.eta * errors.T.dot(X)\n",
    "            # print(sum(errors**2) / 2.0)\n",
    "        return self\n",
    "\n",
    "    def predict(self, X):\n",
    "        output = np.insert(X, 0, 1, axis=1).dot(self.w_)\n",
    "        return (self.sigmoid(output) + .5) // 1\n",
    "\n",
    "    def sigmoid(self, x):\n",
    "        return 1.0 / (1 + np.exp(-x))\n",
    "\n",
    "\n",
    "class LogisticRegressionOVR(object):\n",
    "    \"\"\"One vs Rest\"\"\"\n",
    "\n",
    "    def __init__(self, eta=0.001, n_iter=50):\n",
    "        self.eta = eta\n",
    "        self.n_iter = n_iter\n",
    "\n",
    "    def fit(self, X, y):\n",
    "        X = np.insert(X, 0, 1, axis=1)\n",
    "        self.w_ = []\n",
    "\n",
    "        for i in np.unique(y):\n",
    "            y_copy = [1 if c == i else 0 for c in y]\n",
    "#             w = np.ones(X.shape[1])\n",
    "            w = np.linalg.inv(X.T.dot(X)).dot(X.T).dot(y)\n",
    "\n",
    "            # print('training ', i)\n",
    "            # counter = 0\n",
    "\n",
    "            for _ in range(self.n_iter):\n",
    "                output = X.dot(w)\n",
    "                errors = y_copy - self.sigmoid(output)\n",
    "                w += self.eta * errors.T.dot(X)\n",
    "                \n",
    "                # counter += 1\n",
    "                # if counter // 10 == 0:\n",
    "                #     print(sum(errors**2) / 2.0)\n",
    "            self.w_.append((w, i))\n",
    "\n",
    "        return self\n",
    "\n",
    "\n",
    "    def predictOne(self, x):\n",
    "        return max((x.dot(w), c) for w, c in self.w_)[1]\n",
    "\n",
    "    def predict(self, X):\n",
    "        return np.array([self.predictOne(i) for i in np.insert(X, 0, 1, axis=1)])\n",
    "    \n",
    "    def score(self, X, y):\n",
    "        return sum(self.predict(X) == y) / len(y)\n",
    "\n",
    "    def sigmoid(self, x):\n",
    "        return 1.0 / (1 + np.exp(-x))\n",
    "    \n",
    "    def softmax(self, x):\n",
    "        \"\"\" applies softmax to an input x\"\"\"\n",
    "        e_x = np.exp(x)\n",
    "        return e_x / e_x.sum()\n",
    "    \n",
    "    def _net_input(self, X):\n",
    "        \"\"\"Compute the linear net input.\"\"\"\n",
    "        return (X.dot(self.w_) + self.b_).flatten()\n",
    "\n",
    "    def _sigmoid_activation(self, z):\n",
    "        \"\"\"Compute the output of the logistic sigmoid function.\"\"\"\n",
    "        return 1.0 / (1.0 + np.exp(-z))\n",
    "\n",
    "    def _forward(self, X):\n",
    "        z = self._net_input(X)\n",
    "        a = self._sigmoid_activation(z)\n",
    "        return a\n",
    "    def predict_proba(self, X):\n",
    "        \"\"\"Predict class probabilities of X from the net input.\n",
    "        Parameters\n",
    "        ----------\n",
    "        X : {array-like, sparse matrix}, shape = [n_samples, n_features]\n",
    "            Training vectors, where n_samples is the number of samples and\n",
    "            n_features is the number of features.\n",
    "        Returns\n",
    "        ----------\n",
    "        Class 1 probability : float\n",
    "        \"\"\"\n",
    "        return self._forward(X)\n",
    "\n",
    "\n",
    "def main():\n",
    "    iris = datasets.load_iris()\n",
    "    # X = iris.data[:100, :2]\n",
    "    # y = iris.target[:100]\n",
    "    X = iris.data[:, :2]\n",
    "    y = iris.target\n",
    "    logi = LogisticRegressionOVR()\n",
    "    logi.fit(X, y)\n",
    "    y_pred = logi.predict(X)\n",
    "    print(y_pred)\n",
    "    print(\"out of a total %d points : %d\" % (X.shape[0],(y != y_pred).sum()))\n",
    "\n",
    "\n",
    "# if __name__ == '__main__': main()\n",
    "\n",
    "iris = datasets.load_iris()\n",
    "X = iris.data[:, :2]  # we only take the first two features.\n",
    "Y = iris.target\n",
    "\n",
    "h = .02  # step size in the mesh\n",
    "\n",
    "# logreg = linear_model.LogisticRegression(C=1e5)\n",
    "logreg = LogisticRegressionOVR(n_iter=1000)\n",
    "\n",
    "# we create an instance of Neighbours Classifier and fit the data.\n",
    "logreg.fit(X, Y)\n",
    "\n",
    "# Plot the decision boundary. For that, we will assign a color to each\n",
    "# point in the mesh [x_min, m_max]x[y_min, y_max].\n",
    "x_min, x_max = X[:, 0].min() - .5, X[:, 0].max() + .5\n",
    "y_min, y_max = X[:, 1].min() - .5, X[:, 1].max() + .5\n",
    "xx, yy = np.meshgrid(np.arange(x_min, x_max, h), np.arange(y_min, y_max, h))\n",
    "Z = logreg.predict(np.c_[xx.ravel(), yy.ravel()])\n",
    "\n",
    "# Put the result into a color plot\n",
    "Z = Z.reshape(xx.shape)\n",
    "plt.figure(1, figsize=(4, 3))\n",
    "plt.pcolormesh(xx, yy, Z, cmap=plt.cm.Paired)\n",
    "\n",
    "# Plot also the training points\n",
    "plt.scatter(X[:, 0], X[:, 1], c=Y, edgecolors='k', cmap=plt.cm.Paired)\n",
    "plt.xlabel('Sepal length')\n",
    "plt.ylabel('Sepal width')\n",
    "\n",
    "plt.xlim(xx.min(), xx.max())\n",
    "plt.ylim(yy.min(), yy.max())\n",
    "plt.xticks(())\n",
    "plt.yticks(())\n",
    "\n",
    "plt.show()"
   ]
  },
  {
   "cell_type": "code",
   "execution_count": 12,
   "metadata": {},
   "outputs": [
    {
     "data": {
      "text/plain": [
       "[(array([-0.15550334, -3.29867604,  5.72939301]), 0),\n",
       " (array([ 0.40531782,  0.66333248, -1.69824498]), 1),\n",
       " (array([-3.47518351,  1.50784398, -2.08277474]), 2)]"
      ]
     },
     "execution_count": 12,
     "metadata": {},
     "output_type": "execute_result"
    }
   ],
   "source": [
    "logreg.w_"
   ]
  },
  {
   "cell_type": "code",
   "execution_count": 13,
   "metadata": {},
   "outputs": [
    {
     "data": {
      "text/plain": [
       "array([0.5       , 0.5       , 0.5       , 0.5       , 0.5       ,\n",
       "       0.5       , 0.5       , 0.5       , 0.5       , 0.5       ,\n",
       "       0.5       , 0.5       , 0.5       , 0.5       , 0.5       ,\n",
       "       0.5       , 0.5       , 0.5       , 0.5       , 0.5       ,\n",
       "       0.5       , 0.5       , 0.5       , 0.5       , 0.5       ,\n",
       "       0.5       , 0.5       , 0.5       , 0.5       , 0.5       ,\n",
       "       0.5       , 0.5       , 0.5       , 0.5       , 0.5       ,\n",
       "       0.5       , 0.5       , 0.5       , 0.5       , 0.5       ,\n",
       "       0.5       , 0.5       , 0.5       , 0.5       , 0.5       ,\n",
       "       0.5       , 0.5       , 0.5       , 0.5       , 0.5       ,\n",
       "       0.73105858, 0.73105858, 0.73105858, 0.73105858, 0.73105858,\n",
       "       0.73105858, 0.73105858, 0.73105858, 0.73105858, 0.73105858,\n",
       "       0.73105858, 0.73105858, 0.73105858, 0.73105858, 0.73105858,\n",
       "       0.73105858, 0.73105858, 0.73105858, 0.73105858, 0.73105858,\n",
       "       0.73105858, 0.73105858, 0.73105858, 0.73105858, 0.73105858,\n",
       "       0.73105858, 0.73105858, 0.73105858, 0.73105858, 0.73105858,\n",
       "       0.73105858, 0.73105858, 0.73105858, 0.73105858, 0.73105858,\n",
       "       0.73105858, 0.73105858, 0.73105858, 0.73105858, 0.73105858,\n",
       "       0.73105858, 0.73105858, 0.73105858, 0.73105858, 0.73105858,\n",
       "       0.73105858, 0.73105858, 0.73105858, 0.73105858, 0.73105858,\n",
       "       0.88079708, 0.88079708, 0.88079708, 0.88079708, 0.88079708,\n",
       "       0.88079708, 0.88079708, 0.88079708, 0.88079708, 0.88079708,\n",
       "       0.88079708, 0.88079708, 0.88079708, 0.88079708, 0.88079708,\n",
       "       0.88079708, 0.88079708, 0.88079708, 0.88079708, 0.88079708,\n",
       "       0.88079708, 0.88079708, 0.88079708, 0.88079708, 0.88079708,\n",
       "       0.88079708, 0.88079708, 0.88079708, 0.88079708, 0.88079708,\n",
       "       0.88079708, 0.88079708, 0.88079708, 0.88079708, 0.88079708,\n",
       "       0.88079708, 0.88079708, 0.88079708, 0.88079708, 0.88079708,\n",
       "       0.88079708, 0.88079708, 0.88079708, 0.88079708, 0.88079708,\n",
       "       0.88079708, 0.88079708, 0.88079708, 0.88079708, 0.88079708])"
      ]
     },
     "execution_count": 13,
     "metadata": {},
     "output_type": "execute_result"
    }
   ],
   "source": [
    "logreg.sigmoid(Y)"
   ]
  },
  {
   "cell_type": "code",
   "execution_count": 14,
   "metadata": {},
   "outputs": [
    {
     "name": "stdout",
     "output_type": "stream",
     "text": [
      "0.9666666666666667\n",
      "1.0\n"
     ]
    }
   ],
   "source": [
    "from sklearn import datasets\n",
    "from sklearn.model_selection import train_test_split\n",
    "\n",
    "iris = datasets.load_iris()\n",
    "X_train, X_temp, y_train, y_temp = \\\n",
    "    train_test_split(iris.data, iris.target, test_size=.4)\n",
    "X_validation, X_test, y_validation, y_test = \\\n",
    "    train_test_split(X_temp, y_temp, test_size=.5)\n",
    "\n",
    "logi = LogisticRegressionOVR(n_iter=1000).fit(X_train, y_train)\n",
    "# logi = LogisticRegressionOVR(n_iter=1000).fit(X_validation, y_validation)\n",
    "\n",
    "print(logi.score(X_train, y_train))\n",
    "print(logi.score(X_validation, y_validation))"
   ]
  },
  {
   "cell_type": "code",
   "execution_count": 15,
   "metadata": {},
   "outputs": [
    {
     "data": {
      "text/plain": [
       "array([0.02323748, 0.06316601, 0.00854859, 0.00854859, 0.00854859,\n",
       "       0.00854859, 0.00854859, 0.02323748, 0.06316601, 0.06316601,\n",
       "       0.06316601, 0.02323748, 0.06316601, 0.06316601, 0.00854859,\n",
       "       0.06316601, 0.06316601, 0.00854859, 0.02323748, 0.00854859,\n",
       "       0.06316601, 0.00854859, 0.02323748, 0.06316601, 0.06316601,\n",
       "       0.06316601, 0.00854859, 0.00854859, 0.00854859, 0.02323748])"
      ]
     },
     "execution_count": 15,
     "metadata": {},
     "output_type": "execute_result"
    }
   ],
   "source": [
    "logi.softmax(y_validation)"
   ]
  },
  {
   "cell_type": "code",
   "execution_count": 16,
   "metadata": {},
   "outputs": [
    {
     "data": {
      "text/plain": [
       "array([0.5       , 0.73105858, 0.73105858, 0.5       , 0.5       ,\n",
       "       0.73105858, 0.73105858, 0.73105858, 0.5       , 0.5       ,\n",
       "       0.73105858, 0.88079708, 0.5       , 0.5       , 0.73105858,\n",
       "       0.73105858, 0.5       , 0.88079708, 0.88079708, 0.73105858,\n",
       "       0.5       , 0.88079708, 0.5       , 0.88079708, 0.5       ,\n",
       "       0.73105858, 0.88079708, 0.73105858, 0.5       , 0.88079708,\n",
       "       0.5       , 0.5       , 0.5       , 0.88079708, 0.88079708,\n",
       "       0.5       , 0.5       , 0.73105858, 0.73105858, 0.73105858,\n",
       "       0.73105858, 0.73105858, 0.88079708, 0.5       , 0.5       ,\n",
       "       0.5       , 0.73105858, 0.73105858, 0.88079708, 0.88079708,\n",
       "       0.88079708, 0.73105858, 0.73105858, 0.5       , 0.5       ,\n",
       "       0.5       , 0.73105858, 0.73105858, 0.73105858, 0.88079708,\n",
       "       0.88079708, 0.88079708, 0.5       , 0.5       , 0.73105858,\n",
       "       0.88079708, 0.73105858, 0.88079708, 0.73105858, 0.88079708,\n",
       "       0.88079708, 0.5       , 0.73105858, 0.73105858, 0.5       ,\n",
       "       0.73105858, 0.88079708, 0.88079708, 0.88079708, 0.73105858,\n",
       "       0.73105858, 0.88079708, 0.88079708, 0.88079708, 0.73105858,\n",
       "       0.88079708, 0.88079708, 0.73105858, 0.88079708, 0.88079708])"
      ]
     },
     "execution_count": 16,
     "metadata": {},
     "output_type": "execute_result"
    }
   ],
   "source": [
    "logi.sigmoid(y_train)"
   ]
  },
  {
   "cell_type": "code",
   "execution_count": 19,
   "metadata": {},
   "outputs": [
    {
     "data": {
      "text/plain": [
       "[(array([ 0.59353967,  0.39366824,  1.83433126, -2.91037422, -0.80885957]), 0),\n",
       " (array([ 1.1678636 ,  0.67517613, -1.92608703,  0.4576254 , -1.39084116]), 1),\n",
       " (array([-0.87992759, -2.10746357, -1.88108506,  3.03525909,  2.83858482]), 2)]"
      ]
     },
     "execution_count": 19,
     "metadata": {},
     "output_type": "execute_result"
    }
   ],
   "source": [
    "logi.w_"
   ]
  },
  {
   "cell_type": "code",
   "execution_count": null,
   "metadata": {},
   "outputs": [],
   "source": [
    "logi._"
   ]
  }
 ],
 "metadata": {
  "kernelspec": {
   "display_name": "Python 3 (ipykernel)",
   "language": "python",
   "name": "python3"
  },
  "language_info": {
   "codemirror_mode": {
    "name": "ipython",
    "version": 3
   },
   "file_extension": ".py",
   "mimetype": "text/x-python",
   "name": "python",
   "nbconvert_exporter": "python",
   "pygments_lexer": "ipython3",
   "version": "3.9.7"
  }
 },
 "nbformat": 4,
 "nbformat_minor": 4
}
