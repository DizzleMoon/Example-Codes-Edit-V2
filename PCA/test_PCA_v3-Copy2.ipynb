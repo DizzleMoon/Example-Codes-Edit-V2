{
 "cells": [
  {
   "cell_type": "code",
   "execution_count": 1,
   "metadata": {},
   "outputs": [],
   "source": [
    "%matplotlib inline\n",
    "import numpy as np\n",
    "np.set_printoptions(linewidth=np.inf)\n",
    "np.set_printoptions(precision=7)\n",
    "import matplotlib.pyplot as plt\n",
    "import math \n",
    "import pandas as pd\n",
    "from numpy import linalg as LA\n",
    "from sympy import * "
   ]
  },
  {
   "cell_type": "code",
   "execution_count": 2,
   "metadata": {},
   "outputs": [],
   "source": [
    "# Scale function\n",
    "def scale(vec_1):\n",
    "    \n",
    "    # Test\n",
    "    v1_scale = np.square(np.linalg.norm(vec_1))\n",
    "#     print(v1_scale)\n",
    "\n",
    "    v1 = np.multiply(1/np.sqrt(v1_scale + 1e-15),vec_1)\n",
    "#     print(v1)\n",
    "    \n",
    "    return list(v1)\n",
    "    \n",
    "    \n",
    "def QR(span):\n",
    "    \n",
    "    # Setup arrays\n",
    "    # Original Values\n",
    "    vector = []\n",
    "    # Normalized Values\n",
    "    vec_norm = []\n",
    "\n",
    "    # Size of array\n",
    "    row,col = span.shape\n",
    "    \n",
    "    # First Column\n",
    "    v1 = span[:,0]\n",
    "    vec_1 = v1\n",
    "    vector.append(vec_1)\n",
    "\n",
    "    v1 = scale(vec_1)\n",
    "    vec_norm.append(v1)\n",
    "    \n",
    "    # Subsequent Columns\n",
    "\n",
    "    start = 1\n",
    "    end = col\n",
    "\n",
    "    for j in range(start,end):\n",
    "\n",
    "        # Column\n",
    "        projection = span[:,j]\n",
    "        v = span[:,j]\n",
    "\n",
    "        #Orthonormal vector\n",
    "        for i in range(len(vec_norm)):\n",
    "            #projection\n",
    "            # dot\n",
    "            proj_dot = np.dot(v,vec_norm[i])/(np.dot(vec_norm[i],vec_norm[i]) + 1e-15)\n",
    "            proj = np.multiply(proj_dot,vec_norm[i])\n",
    "            projection = projection - proj\n",
    "\n",
    "        v_norm = scale(projection)\n",
    "\n",
    "        vec_norm.append(v_norm)\n",
    "        \n",
    "    # Calculate R\n",
    "    Q = vec_norm\n",
    "    Q = np.array(Q)\n",
    "    R = np.dot(Q,span)\n",
    "    R = np.array(R)\n",
    "\n",
    "    \n",
    "    return Q.T,R\n",
    "\n",
    "def eigenspace(span):\n",
    "    \n",
    "    eig_vec = np.eye(span.shape[0])\n",
    "    X = span.copy()\n",
    "\n",
    "    for _ in range(100):\n",
    "        Q,R = QR(X)\n",
    "        eig_vec = np.dot(eig_vec,Q)\n",
    "        X = np.dot(R,Q)\n",
    "        eig_val = np.diag(X)\n",
    "        \n",
    "    return eig_val,eig_vec, X\n"
   ]
  },
  {
   "cell_type": "code",
   "execution_count": 3,
   "metadata": {},
   "outputs": [],
   "source": [
    "def CoV(df):\n",
    "    \n",
    "    # Shape of dataframe\n",
    "    row,col = df.shape\n",
    "    print(row,col)\n",
    "    \n",
    "    # Determine indices\n",
    "#     if row > col:\n",
    "#         row = col\n",
    "#         col = row\n",
    "    \n",
    "    # Initialize Covariance matrix\n",
    "    CoVar = np.zeros((col,col))\n",
    "    \n",
    "    # List of means\n",
    "    stats = []\n",
    "    for i in range(col):\n",
    "        stats.append(df.iloc[:,i].mean())\n",
    "\n",
    "    # Solve covariance matrix        \n",
    "    for k in range(col):\n",
    "        for i in range(col):\n",
    "            var = 0\n",
    "            for j in range(row):\n",
    "                var = var + ((df.iloc[j,k] - stats[k])*(df.iloc[j,i] - stats[i]))/(row-1)\n",
    "            CoVar[k][i] = var\n",
    "        \n",
    "    return CoVar\n",
    "    \n",
    "    "
   ]
  },
  {
   "cell_type": "code",
   "execution_count": 4,
   "metadata": {},
   "outputs": [],
   "source": [
    "x = [2.5,0.5,2.2,1.9,3.1,2.3,2,1,1.5,1.1]\n",
    "y = [2.4,0.7,2.9,2.2,3.0,2.7,1.6,1.1,1.6,0.9]\n",
    "\n",
    "# x = [7,4,6,8,8,7,5,9,7,8]\n",
    "# y = [4,1,3,6,5,2,3,5,4,2]\n",
    "# z = [3,8,5,1,7,9,3,8,5,2]\n",
    "\n",
    "# xyz = np.array([[7,4,3],[4,1,8],[6,3,5],[8,6,1],[8,5,7],[7,2,9],[5,3,3],[9,5,8],[7,4,5],[8,2,2]])\n",
    "# X = pd.DataFrame(xyz)\n",
    "# print(X)\n",
    "\n",
    "f1 = [1,5,1,5,8]\n",
    "f2 = [2,5,4,3,1]\n",
    "f3 = [3,6,2,2,2]\n",
    "f4 = [4,7,3,1,2]"
   ]
  },
  {
   "cell_type": "code",
   "execution_count": 5,
   "metadata": {},
   "outputs": [
    {
     "name": "stdout",
     "output_type": "stream",
     "text": [
      "   0  1  2  3\n",
      "0  1  2  3  4\n",
      "1  5  5  6  7\n",
      "2  1  4  2  3\n",
      "3  5  3  2  1\n",
      "4  8  1  2  2\n",
      "(5, 4)\n",
      "0    4.0\n",
      "1    3.0\n",
      "2    3.0\n",
      "3    3.4\n",
      "dtype: float64\n",
      "0    3.000000\n",
      "1    1.581139\n",
      "2    1.732051\n",
      "3    2.302173\n",
      "dtype: float64\n"
     ]
    }
   ],
   "source": [
    "# Create dataframe.\n",
    "df = pd.DataFrame([f1,f2,f3,f4])\n",
    "df = df.transpose()\n",
    "df_copy = df.copy()\n",
    "# df.columns = ['x','y','z']\n",
    "print(df)\n",
    "print(df.shape)\n",
    "row,col = df.shape\n",
    "print(df.mean())\n",
    "print(df.std())"
   ]
  },
  {
   "cell_type": "code",
   "execution_count": 6,
   "metadata": {},
   "outputs": [],
   "source": [
    "# # Adjust Data\n",
    "# x_adjust = []\n",
    "# y_adjust = []\n",
    "# for i in range(len(x)):\n",
    "#     x_adjust.append(df['x'][i] - df['x'].mean())\n",
    "#     y_adjust.append(df['y'][i] - df['y'].mean())\n",
    "    \n",
    "# print(x_adjust)\n",
    "# print(y_adjust)\n",
    "\n",
    "# row_data_adjust = pd.DataFrame([x_adjust,y_adjust])\n",
    "# print(row_data_adjust.transpose())"
   ]
  },
  {
   "cell_type": "code",
   "execution_count": 7,
   "metadata": {},
   "outputs": [
    {
     "name": "stdout",
     "output_type": "stream",
     "text": [
      "5 4\n",
      "[[ 9.   -1.5   0.25 -1.25]\n",
      " [-1.5   2.5   1.75  2.25]\n",
      " [ 0.25  1.75  3.    3.75]\n",
      " [-1.25  2.25  3.75  5.3 ]]\n"
     ]
    }
   ],
   "source": [
    "# Covariance\n",
    "# df_2 = (df - df.mean())/df.std()\n",
    "df_2 = df - df.mean()\n",
    "cov = CoV(df_2)\n",
    "print(cov)"
   ]
  },
  {
   "cell_type": "code",
   "execution_count": 8,
   "metadata": {},
   "outputs": [
    {
     "name": "stdout",
     "output_type": "stream",
     "text": [
      "[10.6066305  7.908087   1.1906259  0.0946567]\n",
      "[[ 0.6947846  0.6989274 -0.113373   0.1261801]\n",
      " [-0.3482081  0.1703543 -0.9082216  0.1576835]\n",
      " [-0.3234122  0.479971   0.0730065 -0.8122207]\n",
      " [-0.5398425  0.5021034  0.3961693  0.547277 ]]\n",
      "0.9999999999999085\n",
      "-2.2652713038695538e-13\n"
     ]
    }
   ],
   "source": [
    "# Eigenspace\n",
    "eig_val,eig_vec, x_val = eigenspace(cov)\n",
    "print(eig_val)\n",
    "print(eig_vec)\n",
    "\n",
    "# Check for orthonormal\n",
    "orthonormality = np.linalg.norm(eig_vec[0])\n",
    "print(orthonormality)\n",
    "\n",
    "# Cosine Similarity\n",
    "cos_sim = eig_vec[0].dot(eig_vec[1])\n",
    "print(cos_sim)"
   ]
  },
  {
   "cell_type": "code",
   "execution_count": 9,
   "metadata": {},
   "outputs": [
    {
     "name": "stdout",
     "output_type": "stream",
     "text": [
      "[[ 0.6947846  0.6989274]\n",
      " [-0.3482081  0.1703543]\n",
      " [-0.3234122  0.479971 ]\n",
      " [-0.5398425  0.5021034]]\n"
     ]
    }
   ],
   "source": [
    "A = eig_vec[:,0:2]\n",
    "print(A)"
   ]
  },
  {
   "cell_type": "code",
   "execution_count": 10,
   "metadata": {},
   "outputs": [
    {
     "name": "stdout",
     "output_type": "stream",
     "text": [
      "          0         1\n",
      "0  0.694785  0.698927\n",
      "1 -0.348208  0.170354\n",
      "2 -0.323412  0.479971\n",
      "3 -0.539843  0.502103\n",
      "     0    1    2    3\n",
      "0 -3.0 -1.0  0.0  0.6\n",
      "1  1.0  2.0  3.0  3.6\n",
      "2 -3.0  1.0 -1.0 -0.4\n",
      "3  1.0  0.0 -1.0 -2.4\n",
      "4  4.0 -2.0 -1.0 -1.4\n",
      "          0         1\n",
      "0 -2.060051 -1.965874\n",
      "1 -2.915301  4.287121\n",
      "2 -1.893213 -2.607240\n",
      "3  2.313819 -0.986092\n",
      "4  4.554746  1.272085\n"
     ]
    }
   ],
   "source": [
    "# Final Step\n",
    "# Select top two eigen values\n",
    "A = eig_vec[:,0:2]\n",
    "# A = pd.Series(A)\n",
    "A = pd.DataFrame(A)\n",
    "# A = A.transpose()\n",
    "print(A)\n",
    "\n",
    "# df_0 = (df - df.mean())/df.std()\n",
    "df_0 = df - df.mean()\n",
    "# df_0 = df_0.transpose()\n",
    "print(df_0)\n",
    "# df_1 = df_0.loc[0:3,:]\n",
    "df_1 = df_0\n",
    "\n",
    "# A*df_0.transpose()\n",
    "Y = df_1.dot(A)\n",
    "print(Y)"
   ]
  },
  {
   "cell_type": "code",
   "execution_count": 11,
   "metadata": {},
   "outputs": [
    {
     "name": "stdout",
     "output_type": "stream",
     "text": [
      "[[-2.0600514 -1.9658743]\n",
      " [-2.9153013  4.2871211]\n",
      " [-1.8932127 -2.6072401]\n",
      " [ 2.313819  -0.9860917]\n",
      " [ 4.5547465  1.2720851]]\n"
     ]
    }
   ],
   "source": [
    "from sklearn import decomposition\n",
    "pca = decomposition.PCA(n_components=2)\n",
    "pca.fit(df_copy)\n",
    "Y = pca.transform(df_copy)\n",
    "print(Y)"
   ]
  },
  {
   "cell_type": "code",
   "execution_count": 12,
   "metadata": {},
   "outputs": [
    {
     "name": "stdout",
     "output_type": "stream",
     "text": [
      "          0         1         2         3         4\n",
      "0 -2.805295  0.970880 -3.137647  0.918399  4.053663\n",
      "1  0.382431  1.745461  0.215077 -0.973675 -1.369294\n",
      "2 -0.277317  3.000538 -0.639112 -1.221613 -0.862497\n",
      "3  0.125031  3.726382 -0.287067 -1.744218 -1.820128\n",
      "0    1.194705\n",
      "1    4.970880\n",
      "2    0.862353\n",
      "3    4.918399\n",
      "4    8.053663\n",
      "Name: 0, dtype: float64\n",
      "0    3.382431\n",
      "1    4.745461\n",
      "2    3.215077\n",
      "3    2.026325\n",
      "4    1.630706\n",
      "Name: 1, dtype: float64\n",
      "0    2.722683\n",
      "1    6.000538\n",
      "2    2.360888\n",
      "3    1.778387\n",
      "4    2.137503\n",
      "Name: 2, dtype: float64\n",
      "0    3.525031\n",
      "1    7.126382\n",
      "2    3.112933\n",
      "3    1.655782\n",
      "4    1.579872\n",
      "Name: 3, dtype: float64\n",
      "   0  1  2  3\n",
      "0  1  2  3  4\n",
      "1  5  5  6  7\n",
      "2  1  4  2  3\n",
      "3  5  3  2  1\n",
      "4  8  1  2  2\n"
     ]
    }
   ],
   "source": [
    "# Recover data\n",
    "x_0 = A.dot(Y.T)\n",
    "print(x_0)\n",
    "x_0 = x_0.T\n",
    "x_mean = df.mean()\n",
    "x_std = df.std()\n",
    "\n",
    "for i in range(len(x_mean)):\n",
    "    xhat = x_0[i] + x_mean[i]\n",
    "    print(xhat)\n",
    "\n",
    "# xhat_0 = x_0[0]*x_std[0] + x_mean[0]\n",
    "# xhat_1 = x_0[1]*x_std[1] + x_mean[1]\n",
    "# xhat_0 = x_0[0] + x_mean[0]\n",
    "# xhat_1 = x_0[1] + x_mean[1]\n",
    "# xhat_2 = x_0[2] + x_mean[2]\n",
    "# print(xhat_0)\n",
    "# print(xhat_1)\n",
    "# print(xhat_2)\n",
    "print(df_copy)\n",
    "\n",
    "# mse = (((df_copy[0] - xhat_0)**2)/100).sum()\n",
    "# print(mse)"
   ]
  },
  {
   "cell_type": "code",
   "execution_count": 13,
   "metadata": {},
   "outputs": [],
   "source": [
    "# df_0 = df - df.mean()\n",
    "# print(df_0.loc[0])\n",
    "\n",
    "# A = pd.DataFrame(A)\n",
    "# A = A.transpose()\n",
    "# print(A)\n",
    "\n",
    "# # Y = A.loc[0].mul(df_0.loc[0])\n",
    "# Y = \n",
    "# print(Y)\n",
    "\n",
    "# # Y = np.matmul(A,df_0.transpose())\n",
    "# # print(Y)\n",
    "\n",
    "# # Y = A.T.dot((df-df.mean()).transpose)\n",
    "# # print(Y)"
   ]
  },
  {
   "cell_type": "code",
   "execution_count": 14,
   "metadata": {},
   "outputs": [],
   "source": [
    "# # New data set\n",
    "# row_data_adjust = pd.DataFrame([x_adjust,y_adjust])\n",
    "# print(row_data_adjust)\n",
    "# eig_vec = pd.DataFrame(eig_vec[0])\n",
    "# print(eig_vec)\n",
    "# eig_vec = eig_vec.transpose()\n",
    "# row_feature_vec = eig_vec.dot(row_data_adjust)\n",
    "# print(row_feature_vec)"
   ]
  },
  {
   "cell_type": "code",
   "execution_count": 15,
   "metadata": {},
   "outputs": [],
   "source": [
    "# rowdataadjust = row_feature_vec.transpose().dot(eig_vec)\n",
    "# print(rowdataadjust)\n",
    "# # x_adj = rowdataadjust.iloc[:,0] +  df['x'].mean()\n",
    "# # print(x_adj)"
   ]
  },
  {
   "cell_type": "code",
   "execution_count": 16,
   "metadata": {},
   "outputs": [],
   "source": [
    "# X = np.array([x,y,z])\n",
    "X = np.array([x,y])\n",
    "X = X.T\n",
    "\n",
    "Xmean = np.mean(X,0)\n",
    "\n",
    "C = np.cov(X.T)\n"
   ]
  },
  {
   "cell_type": "code",
   "execution_count": 17,
   "metadata": {},
   "outputs": [
    {
     "name": "stdout",
     "output_type": "stream",
     "text": [
      "[1.2840277 0.0490834]\n",
      "[[ 0.6778734 -0.7351787]\n",
      " [ 0.7351787  0.6778734]]\n",
      "[[ 0.6778734 -0.7351787]\n",
      " [ 0.7351787  0.6778734]]\n"
     ]
    }
   ],
   "source": [
    "# Eigenspace\n",
    "eig_val,eig_vec, x_val = eigenspace(C)\n",
    "print(eig_val)\n",
    "print(eig_vec)\n",
    "\n",
    "A = eig_vec[:,0:2]\n",
    "print(A)"
   ]
  },
  {
   "cell_type": "code",
   "execution_count": 18,
   "metadata": {},
   "outputs": [
    {
     "name": "stdout",
     "output_type": "stream",
     "text": [
      "[[ 0.6778734  0.7351787]\n",
      " [-0.7351787  0.6778734]]\n",
      "[[ 0.69 -1.31  0.39  0.09  1.29  0.49  0.19 -0.81 -0.31 -0.71]\n",
      " [ 0.49 -1.21  0.99  0.29  1.09  0.79 -0.31 -0.81 -0.31 -1.01]]\n",
      "[[ 0.8279702 -1.7775803  0.9921975  0.2742104  1.6758014  0.9129491 -0.0991094 -1.1445722 -0.4380461 -1.2238206]\n",
      " [-0.1751153  0.1428572  0.384375   0.1304172 -0.2094985  0.1752824 -0.3498247  0.0464173  0.0177646 -0.1626753]]\n"
     ]
    }
   ],
   "source": [
    "print(A.T)\n",
    "print((X-Xmean).T)\n",
    "Y = np.matmul(A.T,(X-Xmean).T)\n",
    "print(Y)"
   ]
  },
  {
   "cell_type": "code",
   "execution_count": 19,
   "metadata": {},
   "outputs": [
    {
     "name": "stdout",
     "output_type": "stream",
     "text": [
      "   0  1  2  3\n",
      "0  0  1  1  2\n",
      "1  2  1  1  0\n",
      "   0  1\n",
      "0  1  2\n",
      "1  2  3\n",
      "2  2  3\n",
      "3  4  1\n"
     ]
    },
    {
     "data": {
      "text/html": [
       "<div>\n",
       "<style scoped>\n",
       "    .dataframe tbody tr th:only-of-type {\n",
       "        vertical-align: middle;\n",
       "    }\n",
       "\n",
       "    .dataframe tbody tr th {\n",
       "        vertical-align: top;\n",
       "    }\n",
       "\n",
       "    .dataframe thead th {\n",
       "        text-align: right;\n",
       "    }\n",
       "</style>\n",
       "<table border=\"1\" class=\"dataframe\">\n",
       "  <thead>\n",
       "    <tr style=\"text-align: right;\">\n",
       "      <th></th>\n",
       "      <th>0</th>\n",
       "      <th>1</th>\n",
       "    </tr>\n",
       "  </thead>\n",
       "  <tbody>\n",
       "    <tr>\n",
       "      <th>0</th>\n",
       "      <td>12</td>\n",
       "      <td>8</td>\n",
       "    </tr>\n",
       "    <tr>\n",
       "      <th>1</th>\n",
       "      <td>6</td>\n",
       "      <td>10</td>\n",
       "    </tr>\n",
       "  </tbody>\n",
       "</table>\n",
       "</div>"
      ],
      "text/plain": [
       "    0   1\n",
       "0  12   8\n",
       "1   6  10"
      ]
     },
     "execution_count": 19,
     "metadata": {},
     "output_type": "execute_result"
    }
   ],
   "source": [
    "df1 = pd.DataFrame([[0,1,1,2],[2,1,1,0]])\n",
    "print(df1)\n",
    "df2 = pd.DataFrame([[1,2],[2,3],[2,3],[4,1]])\n",
    "print(df2)\n",
    "df1.dot(df2)"
   ]
  },
  {
   "cell_type": "code",
   "execution_count": 20,
   "metadata": {},
   "outputs": [
    {
     "name": "stdout",
     "output_type": "stream",
     "text": [
      "[[-2.0600514 -1.9658743]\n",
      " [-2.9153013  4.2871211]\n",
      " [-1.8932127 -2.6072401]\n",
      " [ 2.313819  -0.9860917]\n",
      " [ 4.5547465  1.2720851]]\n"
     ]
    }
   ],
   "source": [
    "from sklearn import decomposition\n",
    "pca = decomposition.PCA(n_components=2)\n",
    "pca.fit(df_copy)\n",
    "Y = pca.transform(df_copy)\n",
    "print(Y)"
   ]
  },
  {
   "cell_type": "code",
   "execution_count": 21,
   "metadata": {},
   "outputs": [],
   "source": [
    "def PCA(df):\n",
    "    # Create dataframe.\n",
    "#     df = pd.DataFrame([f1,f2,f3,f4])\n",
    "    df = df.transpose()\n",
    "    df_copy = df.copy()\n",
    "    # df.columns = ['x','y','z']\n",
    "    print(df)\n",
    "    print(df.shape)\n",
    "    row,col = df.shape\n",
    "    print(df.mean())\n",
    "    print(df.std())\n",
    "    \n",
    "    \n",
    "    # Covariance\n",
    "    # df_2 = (df - df.mean())/df.std()\n",
    "    df_2 = df - df.mean()\n",
    "    cov = CoV(df_2)\n",
    "    print(cov)\n",
    "    \n",
    "    # Eigenspace\n",
    "    eig_val,eig_vec, x_val = eigenspace(cov)\n",
    "    print(eig_val)\n",
    "    print(eig_vec)\n",
    "    \n",
    "   \n",
    "    # Final Step\n",
    "    # Select top two eigen values\n",
    "    A = eig_vec[:,0:2]\n",
    "    # A = pd.Series(A)\n",
    "    A = pd.DataFrame(A)\n",
    "    # A = A.transpose()\n",
    "    print(A)\n",
    "\n",
    "    # df_0 = (df - df.mean())/df.std()\n",
    "    df_0 = df - df.mean()\n",
    "    # df_0 = df_0.transpose()\n",
    "    print(df_0)\n",
    "    # df_1 = df_0.loc[0:3,:]\n",
    "    df_1 = df_0\n",
    "\n",
    "    # A*df_0.transpose()\n",
    "    Y = df_1.dot(A)\n",
    "    print(Y)\n",
    "    \n",
    "#     print(A.T)\n",
    "#     print((X-Xmean).T)\n",
    "#     Y = np.matmul(A.T,(X-Xmean).T)\n",
    "#     print(Y)\n",
    "    \n",
    "    return A,Y"
   ]
  },
  {
   "cell_type": "code",
   "execution_count": 22,
   "metadata": {},
   "outputs": [
    {
     "name": "stdout",
     "output_type": "stream",
     "text": [
      "   0  1  2  3  4\n",
      "0  1  5  1  5  8\n",
      "1  2  5  4  3  1\n",
      "2  3  6  2  2  2\n",
      "3  4  7  3  1  2\n",
      "(4, 5)\n",
      "0    2.50\n",
      "1    5.75\n",
      "2    2.50\n",
      "3    2.75\n",
      "4    3.25\n",
      "dtype: float64\n",
      "0    1.290994\n",
      "1    0.957427\n",
      "2    1.290994\n",
      "3    1.707825\n",
      "4    3.201562\n",
      "dtype: float64\n",
      "4 5\n",
      "[[ 1.6666667  1.1666667  0.6666667 -2.1666667 -2.8333333]\n",
      " [ 1.1666667  0.9166667  0.1666667 -1.4166667 -1.25     ]\n",
      " [ 0.6666667  0.1666667  1.6666667 -1.1666667 -3.5      ]\n",
      " [-2.1666667 -1.4166667 -1.1666667  2.9166667  4.4166667]\n",
      " [-2.8333333 -1.25      -3.5        4.4166667 10.25     ]]\n",
      "[14.7645758  2.3997936  0.5984275  0.         0.       ]\n",
      "[[ 0.2633362  0.4952312  0.1822586  0.         0.       ]\n",
      " [ 0.1276825  0.5083038  0.3259176  0.         0.       ]\n",
      " [ 0.2211226 -0.3599109  1.2451353  0.         0.       ]\n",
      " [-0.3984924 -0.4823503 -0.0447475  0.         0.       ]\n",
      " [-0.8444887  0.3676167  0.5483752  0.         0.       ]]\n",
      "          0         1\n",
      "0  0.263336  0.495231\n",
      "1  0.127682  0.508304\n",
      "2  0.221123 -0.359911\n",
      "3 -0.398492 -0.482350\n",
      "4 -0.844489  0.367617\n",
      "     0     1    2     3     4\n",
      "0 -1.5 -0.75 -1.5  2.25  4.75\n",
      "1 -0.5 -0.75  1.5  0.25 -2.25\n",
      "2  0.5  0.25 -0.5 -0.75 -1.25\n",
      "3  1.5  1.25  0.5 -1.75 -1.25\n",
      "          0         1\n",
      "0 -5.730379  0.076683\n",
      "1  1.904730 -2.116435\n",
      "2  1.407508  0.456889\n",
      "3  2.418141  1.582863\n",
      "          0         1\n",
      "0  0.263336  0.495231\n",
      "1  0.127682  0.508304\n",
      "2  0.221123 -0.359911\n",
      "3 -0.398492 -0.482350\n",
      "4 -0.844489  0.367617\n",
      "          0         1\n",
      "0 -5.730379  0.076683\n",
      "1  1.904730 -2.116435\n",
      "2  1.407508  0.456889\n",
      "3  2.418141  1.582863\n"
     ]
    }
   ],
   "source": [
    "A,Y = PCA(df_copy)\n",
    "print(A)\n",
    "print(Y)"
   ]
  },
  {
   "cell_type": "code",
   "execution_count": 23,
   "metadata": {},
   "outputs": [
    {
     "name": "stdout",
     "output_type": "stream",
     "text": [
      "[[-2.0600514 -1.9658743]\n",
      " [-2.9153013  4.2871211]\n",
      " [-1.8932127 -2.6072401]\n",
      " [ 2.313819  -0.9860917]\n",
      " [ 4.5547465  1.2720851]]\n"
     ]
    }
   ],
   "source": [
    "from sklearn import decomposition\n",
    "pca = decomposition.PCA(n_components=2)\n",
    "pca.fit(df_copy)\n",
    "Y = pca.transform(df_copy)\n",
    "print(Y)"
   ]
  },
  {
   "cell_type": "code",
   "execution_count": 24,
   "metadata": {},
   "outputs": [
    {
     "name": "stdout",
     "output_type": "stream",
     "text": [
      "          0         1         2         3         4\n",
      "0 -1.516048  1.355411 -1.789738  0.120969  1.829406\n",
      "1 -1.262294  1.806927 -1.567000 -0.205800  1.228167\n",
      "2  0.252016 -2.187621  0.519742  0.866543  0.549320\n",
      "3  1.769155 -0.906169  2.012034 -0.446398 -2.428623\n",
      "4  1.017002  4.037956  0.640332 -2.316498 -3.378792\n",
      "   0  1  2  3\n",
      "0  1  2  3  4\n",
      "1  5  5  6  7\n",
      "2  1  4  2  3\n",
      "3  5  3  2  1\n",
      "4  8  1  2  2\n",
      "          0         1         2         3\n",
      "0  2.483952  1.737706  3.252016  5.169155\n",
      "1  5.355411  4.806927  0.812379  2.493831\n",
      "2  2.210262  1.433000  3.519742  5.412034\n",
      "3  4.120969  2.794200  3.866543  2.953602\n",
      "4  5.829406  4.228167  3.549320  0.971377\n",
      "(5, 4)\n",
      "0    1.855468\n",
      "1    3.431796\n",
      "2    7.033783\n",
      "3    6.473003\n",
      "dtype: float64\n"
     ]
    }
   ],
   "source": [
    "# Recover data\n",
    "x_0 = A.dot(Y.T)\n",
    "print(x_0)\n",
    "x_0 = x_0.T\n",
    "x_mean = df.mean()\n",
    "x_std = df.std()\n",
    "\n",
    "xhat = []\n",
    "for i in range(len(x_mean)):\n",
    "    x_hat = x_0[i] + x_mean[i]\n",
    "    xhat.append(x_hat)\n",
    "    \n",
    "xhat = pd.DataFrame(xhat)\n",
    "\n",
    "# xhat_0 = x_0[0]*x_std[0] + x_mean[0]\n",
    "# xhat_1 = x_0[1]*x_std[1] + x_mean[1]\n",
    "# xhat_0 = x_0[0] + x_mean[0]\n",
    "# xhat_1 = x_0[1] + x_mean[1]\n",
    "# xhat_2 = x_0[2] + x_mean[2]\n",
    "# print(xhat_0)\n",
    "# print(xhat_1)\n",
    "# print(xhat_2)\n",
    "print(df_copy)\n",
    "\n",
    "print(xhat.T)\n",
    "\n",
    "print(df_copy.shape)\n",
    "\n",
    "mse = (((df_copy - xhat.T)**2)/(df_copy.shape[0])).sum()\n",
    "print(mse)"
   ]
  },
  {
   "cell_type": "code",
   "execution_count": null,
   "metadata": {},
   "outputs": [],
   "source": []
  }
 ],
 "metadata": {
  "kernelspec": {
   "display_name": "Python 3 (ipykernel)",
   "language": "python",
   "name": "python3"
  },
  "language_info": {
   "codemirror_mode": {
    "name": "ipython",
    "version": 3
   },
   "file_extension": ".py",
   "mimetype": "text/x-python",
   "name": "python",
   "nbconvert_exporter": "python",
   "pygments_lexer": "ipython3",
   "version": "3.9.7"
  }
 },
 "nbformat": 4,
 "nbformat_minor": 4
}
