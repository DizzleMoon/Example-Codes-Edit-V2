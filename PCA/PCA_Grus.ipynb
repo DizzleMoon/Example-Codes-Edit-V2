{
 "cells": [
  {
   "cell_type": "code",
   "execution_count": 1,
   "metadata": {},
   "outputs": [],
   "source": [
    "import numpy as np\n",
    "import pandas as pd\n",
    "import math\n",
    "import matplotlib.pyplot as plt\n",
    "import scipy.stats\n",
    "from collections import Counter\n",
    "import os.path\n",
    "import sys\n",
    "from functools import partial"
   ]
  },
  {
   "cell_type": "code",
   "execution_count": 2,
   "metadata": {},
   "outputs": [],
   "source": [
    "def scale(data):\n",
    "    num_rows, num_cols = np.array(data).shape\n",
    "    means = [np.mean(get_column(data, j)) for j in range(num_cols)]\n",
    "    stdevs = [np.std(get_column(data, j)) for j in range(num_cols)]\n",
    "    return means, stdevs"
   ]
  },
  {
   "cell_type": "code",
   "execution_count": 3,
   "metadata": {},
   "outputs": [],
   "source": [
    "def rescale(data):\n",
    "    \"\"\"\n",
    "    rescales the input data so that each column has mean 0 and standard deviation 1\n",
    "    leaves alone columns with no deviation\n",
    "    \"\"\"\n",
    "    means, stdevs = scale(data)\n",
    "    \n",
    "    def rescaled(i, j):\n",
    "        if stdevs[j] > 0:\n",
    "            return (data[i][j] - means[j]) / stdevs[j]\n",
    "        else:\n",
    "            return data[i][j]\n",
    "\n",
    "    num_rows, num_cols = np.array(data).shape\n",
    "    return make_matrix(num_rows, num_cols, rescaled)"
   ]
  },
  {
   "cell_type": "code",
   "execution_count": 4,
   "metadata": {},
   "outputs": [],
   "source": [
    "def\tmake_matrix(num_rows,\tnum_cols,\tentry_fn):\n",
    "\t\t\t\t\"\"\"returns\ta\tnum_rows\tx\tnum_cols\tmatrix\n",
    "\t\t\t\twhose\t(i,j)th\tentry\tis\tentry_fn(i,\tj)\"\"\"\n",
    "\t\t\t\treturn\t[[entry_fn(i,\tj)\t\t\t\t\t\t\t\t\t\t\t\t\t#\tgiven\ti,\tcreate\ta\tlist\n",
    "\t\t\t\t\t\t\t\t\t\t\t\t\tfor\tj\tin\trange(num_cols)]\t\t#\t\t\t[entry_fn(i,\t0),\t...\t]\n",
    "\t\t\t\t\t\t\t\t\t\t\t\tfor\ti\tin\trange(num_rows)]\t\t\t#\tcreate\tone\tlist\tfor\teach\ti"
   ]
  },
  {
   "cell_type": "code",
   "execution_count": 5,
   "metadata": {},
   "outputs": [],
   "source": [
    "def\tde_mean_matrix(A):\n",
    "\t\t\t\t\"\"\"returns\tthe\tresult\tof\tsubtracting\tfrom\tevery\tvalue\tin\tA\tthe\tmean\n",
    "\t\t\t\tvalue\tof\tits\tcolumn.\tthe\tresulting\tmatrix\thas\tmean\t0\tin\tevery\tcolumn\"\"\"\n",
    "\t\t\t\tnr,\tnc\t=\tnp.array(A).shape\n",
    "\t\t\t\tcolumn_means,\t_\t=\tscale(A)\n",
    "\t\t\t\treturn\tmake_matrix(nr,\tnc,\tlambda\ti,\tj:\tA[i][j]\t-\tcolumn_means[j])"
   ]
  },
  {
   "cell_type": "code",
   "execution_count": 6,
   "metadata": {},
   "outputs": [],
   "source": [
    "def\tget_row(A,\ti):\n",
    "\treturn\tA[i]\t\t\t\t\t\t\t\t\t\t\t\t\t#\tA[i]\tis\talready\tthe\tith\trow\n",
    "def\tget_column(A,\tj):\n",
    "\t\t\t\treturn\t[A_i[j]\t\t\t\t\t\t\t\t\t\t#\tjth\telement\tof\trow\tA_i\n",
    "\t\t\t\t\t\t\t\t\t\t\t\tfor\tA_i\tin\tA]\t\t\t#\tfor\teach\trow\tA_i"
   ]
  },
  {
   "cell_type": "code",
   "execution_count": 7,
   "metadata": {},
   "outputs": [],
   "source": [
    "n = 100\n",
    "A = [[x,y] for x,y in zip(np.random.randn(n) * 10, np.random.randn(n) * 3)]"
   ]
  },
  {
   "cell_type": "code",
   "execution_count": 8,
   "metadata": {},
   "outputs": [
    {
     "data": {
      "image/png": "[encoded data removed]",
      "text/plain": [
       "<Figure size 432x288 with 1 Axes>"
      ]
     },
     "metadata": {
      "needs_background": "light"
     },
     "output_type": "display_data"
    }
   ],
   "source": [
    "plt.scatter(get_column(A,0), get_column(A,1), marker='.', color='blue')\n",
    "plt.show()"
   ]
  },
  {
   "cell_type": "code",
   "execution_count": 9,
   "metadata": {},
   "outputs": [],
   "source": [
    "theta = - math.pi / 7\n",
    "rotate = [[math.cos(theta), -math.sin(theta)],\n",
    "          [math.sin(theta), math.cos(theta)]]"
   ]
  },
  {
   "cell_type": "code",
   "execution_count": 10,
   "metadata": {},
   "outputs": [],
   "source": [
    "def\tmatrix_product_entry(A,\tB,\ti,\tj):\n",
    "\t\treturn\tnp.dot(get_row(A,\ti),\tget_column(B,\tj))\n",
    "    \n",
    "def\tmatrix_multiply(A,B):\n",
    "\tn1,\tk1\t= np.array(A).shape\n",
    "\tn2,\tk2\t= np.array(B).shape\n",
    "\tif\tk1\t!=\tn2:\n",
    "\t\traise\tArithmeticError(\"incompatible\tshapes!\")\n",
    "\treturn\tmake_matrix(n1,\tk2,\tpartial(matrix_product_entry,\tA,\tB))"
   ]
  },
  {
   "cell_type": "code",
   "execution_count": 11,
   "metadata": {},
   "outputs": [],
   "source": [
    "B = matrix_multiply(A, rotate)"
   ]
  },
  {
   "cell_type": "code",
   "execution_count": 12,
   "metadata": {},
   "outputs": [
    {
     "data": {
      "image/png": "[encoded data removed]",
      "text/plain": [
       "<Figure size 432x288 with 1 Axes>"
      ]
     },
     "metadata": {
      "needs_background": "light"
     },
     "output_type": "display_data"
    }
   ],
   "source": [
    "plt.scatter(get_column(B,0), get_column(B,1), marker='.', color='blue')\n",
    "plt.show()"
   ]
  },
  {
   "cell_type": "code",
   "execution_count": 13,
   "metadata": {},
   "outputs": [],
   "source": [
    "def\tvector_add(v,\tw):\n",
    "\t\t\t\t\"\"\"adds\tcorresponding\telements\"\"\"\n",
    "\t\t\t\treturn\t[v_i\t+\tw_i\n",
    "\t\t\t\t\t\t\t\t\t\t\t\tfor\tv_i,\tw_i\tin\tzip(v,\tw)]\n",
    "        \n",
    "def\tvector_sum(vectors):\n",
    "\t\t\t\t\"\"\"sums\tall\tcorresponding\telements\"\"\"\n",
    "\t\t\t\tresult\t=\tvectors\t\t\t\t\t\t\t\t\t\t\t\t\t\t\t\t\t\t\t\t\t\t\t\t\t#\tstart\twith\tthe\tfirst\tvector\n",
    "\t\t\t\tfor\tvector\tin\tvectors:\t\t\t\t\t\t\t\t\t\t\t\t\t\t\t\t\t\t#\tthen\tloop\tover\tthe\tothers\n",
    "\t\t\t\t\t\t\t\tresult\t=\tvector_add(result,vector)\t\t\t\t\t#\tand\tadd\tthem\tto\tthe\tresult\n",
    "\t\t\t\treturn\tresult"
   ]
  },
  {
   "cell_type": "code",
   "execution_count": 14,
   "metadata": {},
   "outputs": [],
   "source": [
    "def\tnegate(f):\n",
    "\t\t\t\t\"\"\"return\ta\tfunction\tthat\tfor\tany\tinput\tx\treturns\t-f(x)\"\"\"\n",
    "\t\t\t\treturn\tlambda\t*args,\t**kwargs:\t-f(*args,\t**kwargs)\n",
    "def\tnegate_all(f):\n",
    "\t\t\t\t\"\"\"the\tsame\twhen\tf\treturns\ta\tlist\tof\tnumbers\"\"\"\n",
    "\t\t\t\treturn\tlambda\t*args,\t**kwargs:\t[-y\tfor\ty\tin\tf(*args,\t**kwargs)]"
   ]
  },
  {
   "cell_type": "code",
   "execution_count": 15,
   "metadata": {},
   "outputs": [],
   "source": [
    "def\tsafe(f):\n",
    "\t\t\t\t\"\"\"return\ta\tnew\tfunction\tthat's\tthe\tsame\tas\tf,\n",
    "\t\t\t\texcept\tthat\tit\toutputs\tinfinity\twhenever\tf\tproduces\tan\terror\"\"\"\n",
    "\t\t\t\tdef\tsafe_f(*args,\t**kwargs):\n",
    "\t\t\t\t\t\t\t\ttry:\n",
    "\t\t\t\t\t\t\t\t\t\t\t\treturn\tf(*args,\t**kwargs)\n",
    "\t\t\t\t\t\t\t\texcept:\n",
    "\t\t\t\t\t\t\t\t\t\t\t\treturn\tfloat('inf')\t\t\t\t\t\t\t\t\t#\tthis\tmeans\t\"infinity\"\tin\tPython\n",
    "\t\t\t\treturn\tsafe_f"
   ]
  },
  {
   "cell_type": "code",
   "execution_count": 16,
   "metadata": {},
   "outputs": [],
   "source": [
    "def\tstep(v,\tdirection,\tstep_size):\n",
    "\t\t\t\t\"\"\"move\tstep_size\tin\tthe\tdirection\tfrom\tv\"\"\"\n",
    "\t\t\t\treturn\t[v_i\t+\tstep_size\t*\tdirection_i\n",
    "\t\t\t\t\t\t\t\t\t\t\t\tfor\tv_i,\tdirection_i\tin\tzip(v,\tdirection)]"
   ]
  },
  {
   "cell_type": "code",
   "execution_count": 17,
   "metadata": {},
   "outputs": [],
   "source": [
    "def\tsum_of_squares(v):\n",
    "\t\t\t\t\"\"\"v_1\t*\tv_1\t+\t...\t+\tv_n\t*\tv_n\"\"\"\n",
    "\t\t\t\treturn\tnp.dot(v,\tv)"
   ]
  },
  {
   "cell_type": "code",
   "execution_count": 18,
   "metadata": {},
   "outputs": [],
   "source": [
    "def\tmagnitude(v):\n",
    "\t\t\t\treturn\tnp.sqrt(sum_of_squares(v))\t\t\t#\tmath.sqrt\tis\tsquare\troot\tfunction"
   ]
  },
  {
   "cell_type": "code",
   "execution_count": 19,
   "metadata": {},
   "outputs": [],
   "source": [
    "def\tdirection(w):\n",
    "\t\t\t\tmag\t=\tmagnitude(w)\n",
    "\t\t\t\treturn\t[w_i\t/\tmag\tfor\tw_i\tin\tw]"
   ]
  },
  {
   "cell_type": "code",
   "execution_count": 20,
   "metadata": {},
   "outputs": [],
   "source": [
    "def\tdirectional_variance_i(x_i,\tw):\n",
    "\t\t\t\t\"\"\"the\tvariance\tof\tthe\trow\tx_i\tin\tthe\tdirection\tdetermined\tby\tw\"\"\"\n",
    "\t\t\t\treturn\tnp.dot(x_i,\tdirection(w))\t**\t2\n",
    "def\tdirectional_variance(X,\tw):\n",
    "\t\t\t\t\"\"\"the\tvariance\tof\tthe\tdata\tin\tthe\tdirection\tdetermined\tw\"\"\"\n",
    "\t\t\t\treturn\tnp.sum(directional_variance_i(x_i,\tw)\n",
    "\t\t\t\t\t\t\t\t\t\t\t\t\t\t\tfor\tx_i\tin\tX)"
   ]
  },
  {
   "cell_type": "code",
   "execution_count": 21,
   "metadata": {},
   "outputs": [],
   "source": [
    "def\tdirectional_variance_gradient_i(x_i,\tw):\n",
    "\t\t\t\t\"\"\"the\tcontribution\tof\trow\tx_i\tto\tthe\tgradient\tof\n",
    "\t\t\t\tthe\tdirection-w\tvariance\"\"\"\n",
    "\t\t\t\tprojection_length\t=\tnp.dot(x_i,\tdirection(w))\n",
    "\t\t\t\treturn\t[2\t*\tprojection_length\t*\tx_ij\tfor\tx_ij\tin\tx_i]\n",
    "def\tdirectional_variance_gradient(X,\tw):\n",
    "\t\t\t\treturn\tvector_sum(directional_variance_gradient_i(x_i,w)\n",
    "\t\t\t\t\t\t\t\t\t\t\t\t\t\t\t\t\t\t\t\t\t\tfor\tx_i\tin\tX)"
   ]
  },
  {
   "cell_type": "code",
   "execution_count": 22,
   "metadata": {},
   "outputs": [],
   "source": [
    "def\tmaximize_batch(target_fn,\tgradient_fn,\ttheta_0,\ttolerance=0.000001):\n",
    "\t\t\t\treturn\tminimize_batch(negate(target_fn), negate_all(gradient_fn), theta_0, tolerance)"
   ]
  },
  {
   "cell_type": "code",
   "execution_count": 23,
   "metadata": {},
   "outputs": [],
   "source": [
    "def\tminimize_batch(target_fn,\tgradient_fn,\ttheta_0,\ttolerance=0.000001):\n",
    "\t\t\t\t\"\"\"use\tgradient\tdescent\tto\tfind\ttheta\tthat\tminimizes\ttarget\tfunction\"\"\"\n",
    "\t\t\t\tstep_sizes\t=\t[100,\t10,\t1,\t0.1,\t0.01,\t0.001,\t0.0001,\t0.00001]\n",
    "\t\t\t\ttheta\t=\ttheta_0\t\t\t\t\t\t\t\t\t\t\t\t\t\t\t\t\t\t\t\t\t\t\t\t\t\t\t#\tset\ttheta\tto\tinitial\tvalue\n",
    "\t\t\t\ttarget_fn\t=\tsafe(target_fn)\t\t\t\t\t\t\t\t\t\t\t\t\t\t\t#\tsafe\tversion\tof\ttarget_fn\n",
    "\t\t\t\tvalue\t=\ttarget_fn(theta)\t\t\t\t\t\t\t\t\t\t\t\t\t\t\t\t\t\t#\tvalue\twe're\tminimizing\n",
    "\t\t\t\twhile\tTrue:\n",
    "\t\t\t\t\t\t\t\tgradient\t=\tgradient_fn(theta)\n",
    "\t\t\t\t\t\t\t\tnext_thetas\t=\t[step(theta,\tgradient,\t-step_size)\n",
    "\t\t\t\t\t\t\t\t\t\t\t\t\t\t\t\t\t\t\t\t\t\t\tfor\tstep_size\tin\tstep_sizes]\n",
    "\t\t\t\t\t\t\t\t#\tchoose\tthe\tone\tthat\tminimizes\tthe\terror\tfunction\n",
    "\t\t\t\t\t\t\t\tnext_theta\t=\tmin(next_thetas,\tkey=target_fn)\n",
    "\t\t\t\t\t\t\t\tnext_value\t=\ttarget_fn(next_theta)\n",
    "\t\t\t\t\t\t\t\t#\tstop\tif\twe're\t\"converging\"\n",
    "\t\t\t\t\t\t\t\tif\tabs(value\t-\tnext_value)\t<\ttolerance:\n",
    "\t\t\t\t\t\t\t\t\t\t\t\treturn\ttheta\n",
    "\t\t\t\t\t\t\t\telse:\n",
    "\t\t\t\t\t\t\t\t\t\t\t\ttheta,\tvalue\t=\tnext_theta,\tnext_value"
   ]
  },
  {
   "cell_type": "code",
   "execution_count": 24,
   "metadata": {},
   "outputs": [],
   "source": [
    "def\tfirst_principal_component(X):\n",
    "\t\t\t\tguess\t=\t[1\tfor\t_\tin\tX[0]]\n",
    "\t\t\t\tunscaled_maximizer\t=\tmaximize_batch(\n",
    "\t\t\t\t\t\t\t\tpartial(directional_variance,\tX),\t\t\t\t\t\t\t\t\t\t\t#\tis\tnow\ta\tfunction\tof\tw\n",
    "\t\t\t\t\t\t\t\tpartial(directional_variance_gradient,\tX),\t\t#\tis\tnow\ta\tfunction\tof\tw\n",
    "\t\t\t\t\t\t\t\tguess)\n",
    "\t\t\t\treturn\tdirection(unscaled_maximizer)"
   ]
  },
  {
   "cell_type": "code",
   "execution_count": 25,
   "metadata": {},
   "outputs": [
    {
     "name": "stderr",
     "output_type": "stream",
     "text": [
      "C:\\Users\\USER\\AppData\\Local\\Temp/ipykernel_24248/1532052973.py:6: DeprecationWarning: Calling np.sum(generator) is deprecated, and in the future will give a different result. Use np.sum(np.fromiter(generator)) or the python sum builtin instead.\n",
      "  return\tnp.sum(directional_variance_i(x_i,\tw)\n"
     ]
    },
    {
     "ename": "ValueError",
     "evalue": "The truth value of an array with more than one element is ambiguous. Use a.any() or a.all()",
     "output_type": "error",
     "traceback": [
      "\u001b[1;31m---------------------------------------------------------------------------\u001b[0m",
      "\u001b[1;31mValueError\u001b[0m                                Traceback (most recent call last)",
      "\u001b[1;32m~\\AppData\\Local\\Temp/ipykernel_24248/202755455.py\u001b[0m in \u001b[0;36m<module>\u001b[1;34m\u001b[0m\n\u001b[1;32m----> 1\u001b[1;33m \u001b[0mpc1\u001b[0m \u001b[1;33m=\u001b[0m \u001b[0mfirst_principal_component\u001b[0m\u001b[1;33m(\u001b[0m\u001b[0mB\u001b[0m\u001b[1;33m)\u001b[0m\u001b[1;33m\u001b[0m\u001b[1;33m\u001b[0m\u001b[0m\n\u001b[0m\u001b[0;32m      2\u001b[0m \u001b[0mpc1\u001b[0m\u001b[1;33m\u001b[0m\u001b[1;33m\u001b[0m\u001b[0m\n",
      "\u001b[1;32m~\\AppData\\Local\\Temp/ipykernel_24248/2310907749.py\u001b[0m in \u001b[0;36mfirst_principal_component\u001b[1;34m(X)\u001b[0m\n\u001b[0;32m      1\u001b[0m \u001b[1;32mdef\u001b[0m     \u001b[0mfirst_principal_component\u001b[0m\u001b[1;33m(\u001b[0m\u001b[0mX\u001b[0m\u001b[1;33m)\u001b[0m\u001b[1;33m:\u001b[0m\u001b[1;33m\u001b[0m\u001b[1;33m\u001b[0m\u001b[0m\n\u001b[0;32m      2\u001b[0m                                 \u001b[0mguess\u001b[0m   \u001b[1;33m=\u001b[0m       \u001b[1;33m[\u001b[0m\u001b[1;36m1\u001b[0m      \u001b[1;32mfor\u001b[0m     \u001b[0m_\u001b[0m       \u001b[1;32min\u001b[0m      \u001b[0mX\u001b[0m\u001b[1;33m[\u001b[0m\u001b[1;36m0\u001b[0m\u001b[1;33m]\u001b[0m\u001b[1;33m]\u001b[0m\u001b[1;33m\u001b[0m\u001b[1;33m\u001b[0m\u001b[0m\n\u001b[1;32m----> 3\u001b[1;33m \t\t\t\tunscaled_maximizer\t=\tmaximize_batch(\n\u001b[0m\u001b[0;32m      4\u001b[0m                                                                 \u001b[0mpartial\u001b[0m\u001b[1;33m(\u001b[0m\u001b[0mdirectional_variance\u001b[0m\u001b[1;33m,\u001b[0m   \u001b[0mX\u001b[0m\u001b[1;33m)\u001b[0m\u001b[1;33m,\u001b[0m                                                                                     \u001b[1;31m#       is      now     a       function        of      w\u001b[0m\u001b[1;33m\u001b[0m\u001b[1;33m\u001b[0m\u001b[0m\n\u001b[0;32m      5\u001b[0m                                                                 \u001b[0mpartial\u001b[0m\u001b[1;33m(\u001b[0m\u001b[0mdirectional_variance_gradient\u001b[0m\u001b[1;33m,\u001b[0m  \u001b[0mX\u001b[0m\u001b[1;33m)\u001b[0m\u001b[1;33m,\u001b[0m             \u001b[1;31m#       is      now     a       function        of      w\u001b[0m\u001b[1;33m\u001b[0m\u001b[1;33m\u001b[0m\u001b[0m\n",
      "\u001b[1;32m~\\AppData\\Local\\Temp/ipykernel_24248/407039530.py\u001b[0m in \u001b[0;36mmaximize_batch\u001b[1;34m(target_fn, gradient_fn, theta_0, tolerance)\u001b[0m\n\u001b[0;32m      1\u001b[0m \u001b[1;32mdef\u001b[0m     \u001b[0mmaximize_batch\u001b[0m\u001b[1;33m(\u001b[0m\u001b[0mtarget_fn\u001b[0m\u001b[1;33m,\u001b[0m       \u001b[0mgradient_fn\u001b[0m\u001b[1;33m,\u001b[0m    \u001b[0mtheta_0\u001b[0m\u001b[1;33m,\u001b[0m        \u001b[0mtolerance\u001b[0m\u001b[1;33m=\u001b[0m\u001b[1;36m0.000001\u001b[0m\u001b[1;33m)\u001b[0m\u001b[1;33m:\u001b[0m\u001b[1;33m\u001b[0m\u001b[1;33m\u001b[0m\u001b[0m\n\u001b[1;32m----> 2\u001b[1;33m                                 \u001b[1;32mreturn\u001b[0m  \u001b[0mminimize_batch\u001b[0m\u001b[1;33m(\u001b[0m\u001b[0mnegate\u001b[0m\u001b[1;33m(\u001b[0m\u001b[0mtarget_fn\u001b[0m\u001b[1;33m)\u001b[0m\u001b[1;33m,\u001b[0m \u001b[0mnegate_all\u001b[0m\u001b[1;33m(\u001b[0m\u001b[0mgradient_fn\u001b[0m\u001b[1;33m)\u001b[0m\u001b[1;33m,\u001b[0m \u001b[0mtheta_0\u001b[0m\u001b[1;33m,\u001b[0m \u001b[0mtolerance\u001b[0m\u001b[1;33m)\u001b[0m\u001b[1;33m\u001b[0m\u001b[1;33m\u001b[0m\u001b[0m\n\u001b[0m",
      "\u001b[1;32m~\\AppData\\Local\\Temp/ipykernel_24248/930154849.py\u001b[0m in \u001b[0;36mminimize_batch\u001b[1;34m(target_fn, gradient_fn, theta_0, tolerance)\u001b[0m\n\u001b[0;32m     10\u001b[0m \t\t\t\t\t\t\t\t\t\t\t\t\t\t\t\t\t\t\t\t\t\t\tfor\tstep_size\tin\tstep_sizes]\n\u001b[0;32m     11\u001b[0m                                                                 \u001b[1;31m#       choose  the     one     that    minimizes       the     error   function\u001b[0m\u001b[1;33m\u001b[0m\u001b[1;33m\u001b[0m\u001b[0m\n\u001b[1;32m---> 12\u001b[1;33m                                                                 \u001b[0mnext_theta\u001b[0m      \u001b[1;33m=\u001b[0m       \u001b[0mmin\u001b[0m\u001b[1;33m(\u001b[0m\u001b[0mnext_thetas\u001b[0m\u001b[1;33m,\u001b[0m        \u001b[0mkey\u001b[0m\u001b[1;33m=\u001b[0m\u001b[0mtarget_fn\u001b[0m\u001b[1;33m)\u001b[0m\u001b[1;33m\u001b[0m\u001b[1;33m\u001b[0m\u001b[0m\n\u001b[0m\u001b[0;32m     13\u001b[0m                                                                 \u001b[0mnext_value\u001b[0m      \u001b[1;33m=\u001b[0m       \u001b[0mtarget_fn\u001b[0m\u001b[1;33m(\u001b[0m\u001b[0mnext_theta\u001b[0m\u001b[1;33m)\u001b[0m\u001b[1;33m\u001b[0m\u001b[1;33m\u001b[0m\u001b[0m\n\u001b[0;32m     14\u001b[0m                                                                 \u001b[1;31m#       stop    if      we're   \"converging\"\u001b[0m\u001b[1;33m\u001b[0m\u001b[1;33m\u001b[0m\u001b[0m\n",
      "\u001b[1;31mValueError\u001b[0m: The truth value of an array with more than one element is ambiguous. Use a.any() or a.all()"
     ]
    }
   ],
   "source": [
    "pc1 = first_principal_component(B)\n",
    "pc1"
   ]
  },
  {
   "cell_type": "code",
   "execution_count": null,
   "metadata": {},
   "outputs": [],
   "source": []
  },
  {
   "cell_type": "code",
   "execution_count": null,
   "metadata": {},
   "outputs": [],
   "source": []
  }
 ],
 "metadata": {
  "kernelspec": {
   "display_name": "Python 3 (ipykernel)",
   "language": "python",
   "name": "python3"
  },
  "language_info": {
   "codemirror_mode": {
    "name": "ipython",
    "version": 3
   },
   "file_extension": ".py",
   "mimetype": "text/x-python",
   "name": "python",
   "nbconvert_exporter": "python",
   "pygments_lexer": "ipython3",
   "version": "3.9.7"
  }
 },
 "nbformat": 4,
 "nbformat_minor": 4
}
