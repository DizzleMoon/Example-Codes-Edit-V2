{
 "cells": [
  {
   "cell_type": "code",
   "execution_count": 1,
   "metadata": {},
   "outputs": [],
   "source": [
    "%matplotlib inline\n",
    "import numpy as np\n",
    "np.set_printoptions(linewidth=np.inf)\n",
    "np.set_printoptions(precision=7)\n",
    "import matplotlib.pyplot as plt\n",
    "import math \n",
    "import pandas as pd\n",
    "from numpy import linalg as LA\n",
    "from sympy import * "
   ]
  },
  {
   "cell_type": "code",
   "execution_count": 2,
   "metadata": {},
   "outputs": [],
   "source": [
    "# Scale function\n",
    "def scale(vec_1):\n",
    "    \n",
    "    # Test\n",
    "    v1_scale = np.square(np.linalg.norm(vec_1))\n",
    "#     print(v1_scale)\n",
    "\n",
    "    v1 = np.multiply(1/np.sqrt(v1_scale + 1e-15),vec_1)\n",
    "#     print(v1)\n",
    "    \n",
    "    return list(v1)\n",
    "    \n",
    "    \n",
    "def QR(span):\n",
    "    \n",
    "    # Setup arrays\n",
    "    # Original Values\n",
    "    vector = []\n",
    "    # Normalized Values\n",
    "    vec_norm = []\n",
    "\n",
    "    # Size of array\n",
    "    row,col = span.shape\n",
    "    \n",
    "    # First Column\n",
    "    v1 = span[:,0]\n",
    "    vec_1 = v1\n",
    "    vector.append(vec_1)\n",
    "\n",
    "    v1 = scale(vec_1)\n",
    "    vec_norm.append(v1)\n",
    "    \n",
    "    # Subsequent Columns\n",
    "\n",
    "    start = 1\n",
    "    end = col\n",
    "\n",
    "    for j in range(start,end):\n",
    "\n",
    "        # Column\n",
    "        projection = span[:,j]\n",
    "        v = span[:,j]\n",
    "\n",
    "        #Orthonormal vector\n",
    "        for i in range(len(vec_norm)):\n",
    "            #projection\n",
    "            # dot\n",
    "            proj_dot = np.dot(v,vec_norm[i])/(np.dot(vec_norm[i],vec_norm[i]) + 1e-15)\n",
    "            proj = np.multiply(proj_dot,vec_norm[i])\n",
    "            projection = projection - proj\n",
    "\n",
    "        v_norm = scale(projection)\n",
    "\n",
    "        vec_norm.append(v_norm)\n",
    "        \n",
    "    # Calculate R\n",
    "    Q = vec_norm\n",
    "    Q = np.array(Q)\n",
    "    R = np.dot(Q,span)\n",
    "    R = np.array(R)\n",
    "\n",
    "    \n",
    "    return Q.T,R\n",
    "\n",
    "def eigenspace(span):\n",
    "    \n",
    "    eig_vec = np.eye(span.shape[0])\n",
    "    X = span.copy()\n",
    "\n",
    "    for _ in range(100):\n",
    "        Q,R = QR(X)\n",
    "        eig_vec = np.dot(eig_vec,Q)\n",
    "        X = np.dot(R,Q)\n",
    "        eig_val = np.diag(X)\n",
    "        \n",
    "    return eig_val,eig_vec, X\n",
    "\n",
    "\n",
    "def CoV(df):\n",
    "    \n",
    "    # Shape of dataframe\n",
    "    row,col = df.shape\n",
    "    print(row,col)\n",
    "    \n",
    "    # Determine indices\n",
    "#     if row > col:\n",
    "#         row = col\n",
    "#         col = row\n",
    "    \n",
    "    # Initialize Covariance matrix\n",
    "    CoVar = np.zeros((col,col))\n",
    "    \n",
    "    # List of means\n",
    "    stats = []\n",
    "    for i in range(col):\n",
    "        stats.append(df.iloc[:,i].mean())\n",
    "\n",
    "    # Solve covariance matrix        \n",
    "    for k in range(col):\n",
    "        for i in range(col):\n",
    "            var = 0\n",
    "            for j in range(row):\n",
    "                var = var + ((df.iloc[j,k] - stats[k])*(df.iloc[j,i] - stats[i]))/(row-1)\n",
    "            CoVar[k][i] = var\n",
    "        \n",
    "    return CoVar\n",
    "    \n",
    "    "
   ]
  },
  {
   "cell_type": "code",
   "execution_count": 3,
   "metadata": {},
   "outputs": [],
   "source": [
    "\n",
    "import numpy as np\n",
    "angle = np.radians(30.)\n",
    "x1 = np.random.normal(scale=8, size=100)\n",
    "x2 = x1*np.tan(angle) + np.random.normal(scale=3, size=100)\n",
    "x1 = x1-np.mean(x1)\n",
    "x2 = x2-np.mean(x2)\n",
    "data = np.array([x1,x2])"
   ]
  },
  {
   "cell_type": "code",
   "execution_count": 4,
   "metadata": {},
   "outputs": [
    {
     "name": "stdout",
     "output_type": "stream",
     "text": [
      "[[67.425922  41.56248  ]\n",
      " [41.56248   35.9899834]]\n"
     ]
    }
   ],
   "source": [
    "\n",
    "print(np.cov(data))\n",
    "\n",
    "# [[61.57474678 33.59408493]\n",
    "#  [33.59408493 24.50913429]]"
   ]
  },
  {
   "cell_type": "code",
   "execution_count": 5,
   "metadata": {},
   "outputs": [],
   "source": [
    "\n",
    "rot = np.array([[np.cos(-angle), -np.sin(-angle)],\n",
    "                [np.sin(-angle), np.cos(-angle)]])\n",
    "data_rot = np.matmul(rot, data)"
   ]
  },
  {
   "cell_type": "code",
   "execution_count": 6,
   "metadata": {},
   "outputs": [
    {
     "name": "stdout",
     "output_type": "stream",
     "text": [
      "Variance in X: 94.6\n",
      "Variance in Y: 7.8\n"
     ]
    }
   ],
   "source": [
    "print(\"Variance in X: {:0.1f}\".format(np.var(data_rot[0])))\n",
    "print(\"Variance in Y: {:0.1f}\".format(np.var(data_rot[1]))) \n",
    "\n",
    "# Variance in X: 81.4\n",
    "# Variance in Y: 4.7"
   ]
  },
  {
   "cell_type": "code",
   "execution_count": 7,
   "metadata": {},
   "outputs": [
    {
     "name": "stdout",
     "output_type": "stream",
     "text": [
      "[[-0.8227172 -0.5684509]\n",
      " [-0.5684509  0.8227172]]\n"
     ]
    }
   ],
   "source": [
    "\n",
    "from sklearn.decomposition import PCA\n",
    "pca = PCA()\n",
    "pca.fit(data.T)\n",
    "# print(pca.fit(data.T))\n",
    "print(pca.components_.T)\n",
    "\n",
    "# [[-0.8611 -0.5084]\n",
    "#  [0.5084 -0.8611]]"
   ]
  },
  {
   "cell_type": "code",
   "execution_count": 8,
   "metadata": {},
   "outputs": [
    {
     "name": "stdout",
     "output_type": "stream",
     "text": [
      "[96.1432349  7.2726705]\n",
      "(2, 100)\n"
     ]
    }
   ],
   "source": [
    "print(pca.explained_variance_)\n",
    "print(data.shape)\n",
    "\n",
    "# [81.4119 4.6751]"
   ]
  },
  {
   "cell_type": "code",
   "execution_count": 9,
   "metadata": {},
   "outputs": [
    {
     "name": "stdout",
     "output_type": "stream",
     "text": [
      "7.272670540040768\n",
      "[ 4.598976 -4.598976]\n",
      "[-6.656084  6.656084]\n"
     ]
    }
   ],
   "source": [
    "print(pca.explained_variance_[1])\n",
    "eigenvalue_3sigma = 3 * np.sqrt(pca.explained_variance_[1]) \n",
    "eigenvalue_3sigma_arr = np.array([[-eigenvalue_3sigma, eigenvalue_3sigma]])\n",
    "eigenvector = np.array([pca.components_[1]]).T\n",
    "x_comp_1,y_comp_1 = np.dot(eigenvector, eigenvalue_3sigma_arr)\n",
    "print(x_comp_1)\n",
    "print(y_comp_1)\n"
   ]
  },
  {
   "cell_type": "code",
   "execution_count": 10,
   "metadata": {},
   "outputs": [
    {
     "name": "stdout",
     "output_type": "stream",
     "text": [
      "[ 24.2008826 -24.2008826]\n",
      "[ 16.7214352 -16.7214352]\n",
      "0.9999999999999999\n"
     ]
    }
   ],
   "source": [
    "eigenvalue_3sigma = 3 * np.sqrt(pca.explained_variance_[0]) \n",
    "eigenvalue_3sigma_arr = np.array([[-eigenvalue_3sigma, eigenvalue_3sigma]])\n",
    "eigenvector = np.array([pca.components_[0]]).T\n",
    "x_comp_2,y_comp_2 = np.dot(eigenvector, eigenvalue_3sigma_arr)\n",
    "print(x_comp_2)\n",
    "print(y_comp_2)\n",
    "print(np.linalg.norm(eigenvector))"
   ]
  },
  {
   "cell_type": "code",
   "execution_count": 11,
   "metadata": {},
   "outputs": [
    {
     "data": {
      "image/png": "[encoded data removed]",
      "text/plain": [
       "<Figure size 432x288 with 1 Axes>"
      ]
     },
     "metadata": {
      "needs_background": "light"
     },
     "output_type": "display_data"
    }
   ],
   "source": [
    "plt.scatter(data[0,:],data[1,:])\n",
    "plt.plot(x_comp_1,y_comp_1)\n",
    "plt.plot(x_comp_2,y_comp_2)\n",
    "plt.quiver(x_comp_2,y_comp_2, scale = 100, angles='xy', color='red')\n",
    "plt.quiver(x_comp_1,y_comp_1, scale = 100, angles='xy', color='Green')\n",
    "\n",
    "# naming the x axis\n",
    "plt.xlabel('x')\n",
    "# naming the y axis\n",
    "plt.ylabel('y')\n",
    "# giving a title  \n",
    "plt.title('PCA') \n",
    "# Turn on the minor TICKS, which are required for the minor GRID\n",
    "plt.minorticks_on()\n",
    "\n",
    "# Customize the major grid\n",
    "plt.grid(which='major', linestyle='-', linewidth='0.5', color='red')\n",
    "# Customize the minor grid\n",
    "plt.grid(which='minor', linestyle=':', linewidth='0.5', color='black')\n",
    "\n",
    "# Turn off the display of all ticks.\n",
    "plt.tick_params(which='both', # Options for both major and minor ticks\n",
    "                top='off', # turn off top ticks\n",
    "                left='off', # turn off left ticks\n",
    "                right='off',  # turn off right ticks\n",
    "                bottom='off') # turn off bottom ticks\n",
    "\n",
    "plt.show()"
   ]
  },
  {
   "cell_type": "code",
   "execution_count": 12,
   "metadata": {},
   "outputs": [
    {
     "data": {
      "image/png": "[encoded data removed]",
      "text/plain": [
       "<Figure size 432x288 with 1 Axes>"
      ]
     },
     "metadata": {
      "needs_background": "light"
     },
     "output_type": "display_data"
    }
   ],
   "source": [
    "plt.scatter(data[0,:],data[1,:])\n",
    "plt.plot(x_comp_1,y_comp_1)\n",
    "plt.plot(x_comp_2,y_comp_2)\n",
    "plt.quiver(x_comp_2[1],y_comp_2[1], scale = 100, angles='xy', color='red')\n",
    "plt.quiver(x_comp_1[1],y_comp_1[1], scale = 100, angles='xy', color='Green')\n",
    "\n",
    "# naming the x axis\n",
    "plt.xlabel('x')\n",
    "# naming the y axis\n",
    "plt.ylabel('y')\n",
    "# giving a title  \n",
    "plt.title('PCA') \n",
    "# Turn on the minor TICKS, which are required for the minor GRID\n",
    "plt.minorticks_on()\n",
    "\n",
    "# Customize the major grid\n",
    "plt.grid(which='major', linestyle='-', linewidth='0.5', color='red')\n",
    "# Customize the minor grid\n",
    "plt.grid(which='minor', linestyle=':', linewidth='0.5', color='black')\n",
    "\n",
    "# Turn off the display of all ticks.\n",
    "plt.tick_params(which='both', # Options for both major and minor ticks\n",
    "                top='off', # turn off top ticks\n",
    "                left='off', # turn off left ticks\n",
    "                right='off',  # turn off right ticks\n",
    "                bottom='off') # turn off bottom ticks\n",
    "\n",
    "plt.show()"
   ]
  },
  {
   "cell_type": "code",
   "execution_count": 13,
   "metadata": {},
   "outputs": [
    {
     "data": {
      "text/plain": [
       "-61.222341361990345"
      ]
     },
     "execution_count": 13,
     "metadata": {},
     "output_type": "execute_result"
    }
   ],
   "source": [
    "np.dot(x_comp_1,y_comp_1.T)"
   ]
  },
  {
   "cell_type": "code",
   "execution_count": null,
   "metadata": {},
   "outputs": [],
   "source": []
  }
 ],
 "metadata": {
  "kernelspec": {
   "display_name": "Python 3 (ipykernel)",
   "language": "python",
   "name": "python3"
  },
  "language_info": {
   "codemirror_mode": {
    "name": "ipython",
    "version": 3
   },
   "file_extension": ".py",
   "mimetype": "text/x-python",
   "name": "python",
   "nbconvert_exporter": "python",
   "pygments_lexer": "ipython3",
   "version": "3.9.7"
  }
 },
 "nbformat": 4,
 "nbformat_minor": 4
}
