{
 "cells": [
  {
   "cell_type": "code",
   "execution_count": 1,
   "metadata": {},
   "outputs": [],
   "source": [
    "%matplotlib inline\n",
    "import numpy as np\n",
    "np.set_printoptions(linewidth=np.inf)\n",
    "np.set_printoptions(precision=7)\n",
    "import matplotlib.pyplot as plt\n",
    "import math \n",
    "import pandas as pd\n",
    "from numpy import linalg as LA\n",
    "from sympy import * \n",
    "import tqdm"
   ]
  },
  {
   "cell_type": "code",
   "execution_count": 2,
   "metadata": {},
   "outputs": [],
   "source": [
    "# Scale function\n",
    "def scale(vec_1):\n",
    "    \n",
    "    # Test\n",
    "    v1_scale = np.square(np.linalg.norm(vec_1))\n",
    "#     print(v1_scale)\n",
    "\n",
    "    v1 = np.multiply(1/np.sqrt(v1_scale + 1e-15),vec_1)\n",
    "#     print(v1)\n",
    "    \n",
    "    return list(v1)\n",
    "    \n",
    "    \n",
    "def QR(span):\n",
    "    \n",
    "    # Setup arrays\n",
    "    # Original Values\n",
    "    vector = []\n",
    "    # Normalized Values\n",
    "    vec_norm = []\n",
    "\n",
    "    # Size of array\n",
    "    row,col = span.shape\n",
    "    \n",
    "    # First Column\n",
    "    v1 = span[:,0]\n",
    "    vec_1 = v1\n",
    "    vector.append(vec_1)\n",
    "\n",
    "    v1 = scale(vec_1)\n",
    "    vec_norm.append(v1)\n",
    "    \n",
    "    # Subsequent Columns\n",
    "\n",
    "    start = 1\n",
    "    end = col\n",
    "\n",
    "    for j in range(start,end):\n",
    "\n",
    "        # Column\n",
    "        projection = span[:,j]\n",
    "        v = span[:,j]\n",
    "\n",
    "        #Orthonormal vector\n",
    "        for i in range(len(vec_norm)):\n",
    "            #projection\n",
    "            # dot\n",
    "            proj_dot = np.dot(v,vec_norm[i])/(np.dot(vec_norm[i],vec_norm[i]) + 1e-15)\n",
    "            proj = np.multiply(proj_dot,vec_norm[i])\n",
    "            projection = projection - proj\n",
    "\n",
    "        v_norm = scale(projection)\n",
    "\n",
    "        vec_norm.append(v_norm)\n",
    "        \n",
    "    # Calculate R\n",
    "    Q = vec_norm\n",
    "    Q = np.array(Q)\n",
    "    R = np.dot(Q,span)\n",
    "    R = np.array(R)\n",
    "\n",
    "    \n",
    "    return Q.T,R\n",
    "\n",
    "def eigenspace(span):\n",
    "    \n",
    "    eig_vec = np.eye(span.shape[0])\n",
    "    X = span.copy()\n",
    "\n",
    "    for _ in range(100):\n",
    "        Q,R = QR(X)\n",
    "        eig_vec = np.dot(eig_vec,Q)\n",
    "        X = np.dot(R,Q)\n",
    "        eig_val = np.diag(X)\n",
    "        \n",
    "    return eig_val,eig_vec, X\n",
    "\n",
    "\n",
    "def CoV(df):\n",
    "    \n",
    "    # Shape of dataframe\n",
    "    row,col = df.shape\n",
    "    print(row,col)\n",
    "    \n",
    "    # Determine indices\n",
    "#     if row > col:\n",
    "#         row = col\n",
    "#         col = row\n",
    "    \n",
    "    # Initialize Covariance matrix\n",
    "    CoVar = np.zeros((col,col))\n",
    "    \n",
    "    # List of means\n",
    "    stats = []\n",
    "    for i in range(col):\n",
    "        stats.append(df.iloc[:,i].mean())\n",
    "\n",
    "    # Solve covariance matrix        \n",
    "    for k in range(col):\n",
    "        for i in range(col):\n",
    "            var = 0\n",
    "            for j in range(row):\n",
    "                var = var + ((df.iloc[j,k] - stats[k])*(df.iloc[j,i] - stats[i]))/(row-1)\n",
    "            CoVar[k][i] = var\n",
    "        \n",
    "    return CoVar\n",
    "    \n",
    "    "
   ]
  },
  {
   "cell_type": "code",
   "execution_count": 3,
   "metadata": {},
   "outputs": [],
   "source": [
    "def cosine_similarity(v1, v2):\n",
    "    return np.dot(v1, v2) / np.sqrt(np.dot(v1, v1) * np.dot(v2, v2))"
   ]
  },
  {
   "cell_type": "code",
   "execution_count": 4,
   "metadata": {},
   "outputs": [],
   "source": [
    "def get_column(A, j):\n",
    "    \"\"\"Returns the j-th column of A (as a Vector)\"\"\"\n",
    "    A = np.array(A)\n",
    "    return [A_i[j]          # jth element of row A_i\n",
    "            for A_i in A]   # for each row A_i"
   ]
  },
  {
   "cell_type": "code",
   "execution_count": 5,
   "metadata": {},
   "outputs": [],
   "source": [
    "def gradient_step(v,gradient,step_size):\n",
    "    step = np.multiply(step_size,gradient)\n",
    "    return np.add(v,step)"
   ]
  },
  {
   "cell_type": "code",
   "execution_count": 6,
   "metadata": {},
   "outputs": [],
   "source": [
    "def de_mean(data):\n",
    "    mean = np.mean(data)\n",
    "    return [np.subtract(vector,mean) for vector in data]"
   ]
  },
  {
   "cell_type": "code",
   "execution_count": 7,
   "metadata": {},
   "outputs": [],
   "source": [
    "# def sum_of_squares(v):\n",
    "#     \"\"\"Returns v_1 * v_1 + ... + v_n * v_n\"\"\"\n",
    "#     return np.dot(v, v)\n",
    "\n",
    "# def magnitude(v):\n",
    "#     \"\"\"Returns the magnitude (or length) of v\"\"\" \n",
    "#     return np.sqrt(sum_of_squares(v))   # math.sqrt is square root function\n",
    "\n",
    "def direction(w):\n",
    "#     mag = np.sqrt(sum_of_squares(w))\n",
    "    mag = np.linalg.norm(w)\n",
    "#     mag = magnitude(w)\n",
    "    return [w_i / mag for w_i in w]"
   ]
  },
  {
   "cell_type": "code",
   "execution_count": 8,
   "metadata": {},
   "outputs": [],
   "source": [
    "def directional_variance(data, w):     \n",
    "    \"\"\"\n",
    "    Returns the variance of x in the direction of w\n",
    "    \"\"\"\n",
    "    w_dir = direction(w)\n",
    "    return sum(np.dot(v, w_dir) ** 2 for v in data)"
   ]
  },
  {
   "cell_type": "code",
   "execution_count": 9,
   "metadata": {},
   "outputs": [],
   "source": [
    "def directional_variance_gradient(data, w):\n",
    "    \"\"\"\n",
    "    The gradient of directional variance with respect to w\n",
    "    \"\"\"\n",
    "    w_dir = direction(w)\n",
    "\n",
    "    return [sum(2 * np.dot(v, w_dir) * v[i] for v in data)\n",
    "            for i in range(len(w))]"
   ]
  },
  {
   "cell_type": "code",
   "execution_count": 10,
   "metadata": {},
   "outputs": [],
   "source": [
    "def first_principal_component(data, n=100, step_size=0.1):\n",
    "    # Start with a random guess\n",
    "    guess = [1.0 for _ in data[0]]\n",
    "    with tqdm.trange(n) as t:\n",
    "        for _ in t:\n",
    "            dv = directional_variance(data, guess)\n",
    "            gradient = directional_variance_gradient(data, guess)\n",
    "            guess = gradient_step(guess, gradient, step_size)\n",
    "            t.set_description(f\"dv: {dv:.3f}\")\n",
    "    return direction(guess)\n",
    "    "
   ]
  },
  {
   "cell_type": "code",
   "execution_count": 11,
   "metadata": {},
   "outputs": [],
   "source": [
    "def project(v,w):\n",
    "    projection_length = np.dot(v,w)\n",
    "    return np.multiply(projection_length, w)\n",
    "\n",
    "def remove_projection_from_vector(v,w):\n",
    "    return np.subtract(v,project(v,w))\n",
    "\n",
    "def remove_projection(data,w):\n",
    "    return [remove_projection_from_vector(v,w) for v in data]"
   ]
  },
  {
   "cell_type": "code",
   "execution_count": 12,
   "metadata": {},
   "outputs": [],
   "source": [
    "def pca(data,num_components):\n",
    "    components = []\n",
    "    for _ in range(num_components):\n",
    "        component = first_principal_component(data)\n",
    "        components.append(component)\n",
    "        data = remove_projection(data,component)\n",
    "    return components"
   ]
  },
  {
   "cell_type": "code",
   "execution_count": 13,
   "metadata": {},
   "outputs": [],
   "source": [
    "def transform_vector(v,components):\n",
    "    return [np.dot(v,w) for w in components]\n",
    "\n",
    "def transform(data, components):\n",
    "    return [transform_vector(v, components) for v in data]"
   ]
  },
  {
   "cell_type": "code",
   "execution_count": 14,
   "metadata": {},
   "outputs": [],
   "source": [
    "def principal_components(X, num_components, n, step):\n",
    "    components = []\n",
    "    for _ in range(num_components):\n",
    "        component = first_principal_component(X,n,step)\n",
    "        components.append(component)\n",
    "        X = remove_projection(X, component)\n",
    "    return components"
   ]
  },
  {
   "cell_type": "code",
   "execution_count": 15,
   "metadata": {},
   "outputs": [
    {
     "name": "stdout",
     "output_type": "stream",
     "text": [
      "[0.69, -1.31, 0.3900000000000001, 0.08999999999999986, 1.29, 0.48999999999999977, 0.18999999999999995, -0.81, -0.31000000000000005, -0.71]\n",
      "[0.48999999999999977, -1.2100000000000002, 0.9899999999999998, 0.29000000000000004, 1.0899999999999999, 0.79, -0.31000000000000005, -0.81, -0.31000000000000005, -1.0100000000000002]\n",
      "[[ 0.69 -1.31  0.39  0.09  1.29  0.49  0.19 -0.81 -0.31 -0.71]\n",
      " [ 0.49 -1.21  0.99  0.29  1.09  0.79 -0.31 -0.81 -0.31 -1.01]]\n",
      "[[ 0.69  0.49]\n",
      " [-1.31 -1.21]\n",
      " [ 0.39  0.99]\n",
      " [ 0.09  0.29]\n",
      " [ 1.29  1.09]\n",
      " [ 0.49  0.79]\n",
      " [ 0.19 -0.31]\n",
      " [-0.81 -0.81]\n",
      " [-0.31 -0.31]\n",
      " [-0.71 -1.01]]\n",
      "[[ 0.69  0.49]\n",
      " [-1.31 -1.21]\n",
      " [ 0.39  0.99]\n",
      " [ 0.09  0.29]\n",
      " [ 1.29  1.09]\n",
      " [ 0.49  0.79]\n",
      " [ 0.19 -0.31]\n",
      " [-0.81 -0.81]\n",
      " [-0.31 -0.31]\n",
      " [-0.71 -1.01]]\n"
     ]
    }
   ],
   "source": [
    "# Create panda matrix\n",
    "x = [2.5,0.5,2.2,1.9,3.1,2.3,2,1,1.5,1.1]\n",
    "x = np.array(x)\n",
    "x = de_mean(x.T)\n",
    "print(x)\n",
    "y = [2.4,0.7,2.9,2.2,3.0,2.7,1.6,1.1,1.6,0.9]\n",
    "y = np.array(y)\n",
    "y = de_mean(y.T)\n",
    "print(y)\n",
    "x = np.array(x)\n",
    "y = np.array(y)\n",
    "C = np.vstack((x,y))\n",
    "# C = C.reshape(len(x),2)\n",
    "print(C)\n",
    "B = C.T\n",
    "print(B)\n",
    "\n",
    "# D = de_mean(C)\n",
    "# D = np.array(D)\n",
    "# print(D.T)\n",
    "\n",
    "# n = 100\n",
    "# A = [[x,y] for x,y in zip(np.random.randn(n) * 10, np.random.randn(n) * 3)]\n",
    "\n",
    "# theta = - math.pi / 7\n",
    "# rotate = [[math.cos(theta), -math.sin(theta)],\n",
    "#           [math.sin(theta), math.cos(theta)]]\n",
    "\n",
    "# A = np.array(A)\n",
    "# print(A)\n",
    "# B = np.dot(A, rotate)\n",
    "\n",
    "\n",
    "print(B)\n",
    "\n",
    "# comp = pca(x,2)"
   ]
  },
  {
   "cell_type": "code",
   "execution_count": 16,
   "metadata": {},
   "outputs": [
    {
     "name": "stdout",
     "output_type": "stream",
     "text": [
      "      x     y\n",
      "0  0.69  0.49\n",
      "1 -1.31 -1.21\n",
      "2  0.39  0.99\n",
      "3  0.09  0.29\n",
      "4  1.29  1.09\n",
      "5  0.49  0.79\n",
      "6  0.19 -0.31\n",
      "7 -0.81 -0.81\n",
      "8 -0.31 -0.31\n",
      "9 -0.71 -1.01\n",
      "1.31\n"
     ]
    }
   ],
   "source": [
    "row_data_adjust = pd.DataFrame(B)\n",
    "row_data_adjust = row_data_adjust\n",
    "row_data_adjust.columns = ['x','y']\n",
    "\n",
    "print(row_data_adjust)\n",
    "\n",
    "# Maximum value\n",
    "max_val_1 = max(abs(row_data_adjust).max(axis = 0))\n",
    "print(max_val_1)"
   ]
  },
  {
   "cell_type": "code",
   "execution_count": 17,
   "metadata": {},
   "outputs": [
    {
     "name": "stdout",
     "output_type": "stream",
     "text": [
      "10 2\n",
      "[[0.6165556 0.6154444]\n",
      " [0.6154444 0.7165556]]\n"
     ]
    }
   ],
   "source": [
    "CoVar = CoV(row_data_adjust)\n",
    "print(CoVar)"
   ]
  },
  {
   "cell_type": "code",
   "execution_count": 18,
   "metadata": {},
   "outputs": [
    {
     "name": "stdout",
     "output_type": "stream",
     "text": [
      "[1.2840277 0.0490834]\n",
      "[[ 0.6778734 -0.7351787]\n",
      " [ 0.7351787  0.6778734]]\n"
     ]
    }
   ],
   "source": [
    "eig_val,eig_vec,X = eigenspace(CoVar)\n",
    "print(eig_val)\n",
    "print(eig_vec)"
   ]
  },
  {
   "cell_type": "code",
   "execution_count": 19,
   "metadata": {},
   "outputs": [
    {
     "name": "stdout",
     "output_type": "stream",
     "text": [
      "1.2840277121726855\n",
      "[[ 0.6778734]\n",
      " [-0.7351787]]\n",
      "[[-3.3994484  3.3994484]]\n",
      "[-2.3043956  2.3043956]\n",
      "[-2.4992019  2.4992019]\n"
     ]
    }
   ],
   "source": [
    "print(eig_val[0])\n",
    "eigenvalue_3sigma = 3 * np.sqrt(eig_val[0]) \n",
    "eigenvalue_3sigma_arr = np.array([[-eigenvalue_3sigma, eigenvalue_3sigma]])\n",
    "eigenvector = np.array([eig_vec[0]]).T *1\n",
    "print(eigenvector)\n",
    "print(eigenvalue_3sigma_arr)\n",
    "# x_comp_1,y_comp_1 = np.multiply(np.dot(-eigenvector, -eigenvalue_3sigma_arr), -1)\n",
    "# print(x_comp_1)\n",
    "# print(y_comp_1)\n",
    "x_comp_1 = eigenvector[0].dot(eigenvalue_3sigma_arr)\n",
    "y_comp_1 = -eigenvector[1].dot(eigenvalue_3sigma_arr)\n",
    "print(x_comp_1)\n",
    "print(y_comp_1)"
   ]
  },
  {
   "cell_type": "code",
   "execution_count": 20,
   "metadata": {},
   "outputs": [
    {
     "name": "stdout",
     "output_type": "stream",
     "text": [
      "0.04908339893630035\n",
      "[-0.4886315  0.4886315]\n",
      "[ 0.4505439 -0.4505439]\n"
     ]
    }
   ],
   "source": [
    "print(eig_val[1])\n",
    "eigenvalue_3sigma = 3 * np.sqrt(eig_val[1]) \n",
    "eigenvalue_3sigma_arr = np.array([[-eigenvalue_3sigma, eigenvalue_3sigma]])\n",
    "eigenvector = np.array([eig_vec[1]]).T * 1\n",
    "# x_comp_2,y_comp_2 = np.multiply(np.dot(-eigenvector, -eigenvalue_3sigma_arr), -1)\n",
    "x_comp_2 = eigenvector[0].dot(eigenvalue_3sigma_arr)\n",
    "y_comp_2 = -eigenvector[1].dot(eigenvalue_3sigma_arr)\n",
    "# print(x_comp_1)\n",
    "# print(y_comp_1)\n",
    "print(x_comp_2)\n",
    "print(y_comp_2)"
   ]
  },
  {
   "cell_type": "code",
   "execution_count": 21,
   "metadata": {},
   "outputs": [
    {
     "name": "stdout",
     "output_type": "stream",
     "text": [
      "0    0.69\n",
      "1   -1.31\n",
      "2    0.39\n",
      "3    0.09\n",
      "4    1.29\n",
      "5    0.49\n",
      "6    0.19\n",
      "7   -0.81\n",
      "8   -0.31\n",
      "9   -0.71\n",
      "Name: x, dtype: float64\n",
      "[ 0.69 -1.31  0.39  0.09  1.29  0.49  0.19 -0.81 -0.31 -0.71]\n"
     ]
    },
    {
     "data": {
      "image/png": "[encoded data removed]",
      "text/plain": [
       "<Figure size 432x288 with 1 Axes>"
      ]
     },
     "metadata": {
      "needs_background": "light"
     },
     "output_type": "display_data"
    }
   ],
   "source": [
    "print(row_data_adjust['x'])\n",
    "print(np.array(row_data_adjust['x']))\n",
    "\n",
    "plt.scatter(np.array(row_data_adjust['x']), np.array(row_data_adjust['y']))\n",
    "plt.plot(x_comp_1,y_comp_1)\n",
    "plt.plot(x_comp_2,y_comp_2)\n",
    "plt.quiver(x_comp_2[0],y_comp_2[0], scale = 7, angles='xy', color='red')\n",
    "plt.quiver(x_comp_1[0],y_comp_1[0], scale = 14, angles='xy', color='magenta')\n",
    "\n",
    "# naming the x axis\n",
    "plt.xlabel('x')\n",
    "# naming the y axis\n",
    "plt.ylabel('y')\n",
    "# giving a title  \n",
    "plt.title('PCA') \n",
    "# Turn on the minor TICKS, which are required for the minor GRID\n",
    "plt.minorticks_on()\n",
    "\n",
    "# Customize the major grid\n",
    "plt.grid(which='major', linestyle='-', linewidth='0.5', color='red')\n",
    "# Customize the minor grid\n",
    "plt.grid(which='minor', linestyle=':', linewidth='0.5', color='black')\n",
    "\n",
    "# Turn off the display of all ticks.\n",
    "plt.tick_params(which='both', # Options for both major and minor ticks\n",
    "                top='off', # turn off top ticks\n",
    "                left='off', # turn off left ticks\n",
    "                right='off',  # turn off right ticks\n",
    "                bottom='off') # turn off bottom ticks\n",
    "\n",
    "plt.show()"
   ]
  },
  {
   "cell_type": "code",
   "execution_count": 22,
   "metadata": {},
   "outputs": [
    {
     "name": "stderr",
     "output_type": "stream",
     "text": [
      "dv: 11.556: 100%|██████████████████████████████████████████████████████████████████| 100/100 [00:00<00:00, 1323.63it/s]\n",
      "dv: 0.405: 100%|███████████████████████████████████████████████████████████████████| 100/100 [00:00<00:00, 1389.62it/s]"
     ]
    },
    {
     "name": "stdout",
     "output_type": "stream",
     "text": [
      "[[0.6781015995715335, 0.7349681766297965], [0.8966375873912281, -0.44276521642653666]]\n"
     ]
    },
    {
     "name": "stderr",
     "output_type": "stream",
     "text": [
      "\n"
     ]
    }
   ],
   "source": [
    "comp = pca(B,2)\n",
    "print(comp)\n",
    "\n",
    "# np.dot(comp[0],comp[1])"
   ]
  },
  {
   "cell_type": "code",
   "execution_count": 23,
   "metadata": {},
   "outputs": [
    {
     "name": "stdout",
     "output_type": "stream",
     "text": [
      "[[ 0.8280245 -1.7776246  0.9920781  0.2741699  1.6758664  0.9128946 -0.0990008 -1.1445865 -0.4380516 -1.22377  ]\n",
      " [ 0.401725  -0.6388493 -0.0886489 -0.0477045  0.6740484  0.0895679  0.3076184 -0.3676366 -0.1407004 -0.1894198]]\n"
     ]
    }
   ],
   "source": [
    "transform = transform(B,comp)\n",
    "transform = np.array(transform)\n",
    "transform = transform.T\n",
    "print(transform)"
   ]
  },
  {
   "cell_type": "code",
   "execution_count": 24,
   "metadata": {},
   "outputs": [],
   "source": [
    "# plt.scatter(transform[0],transform[1])\n",
    "# D = np.array(D).T\n",
    "# plt.scatter(D[0],D[1])"
   ]
  },
  {
   "cell_type": "code",
   "execution_count": 25,
   "metadata": {},
   "outputs": [],
   "source": [
    "# eig_val,eig_vec = np.linalg.eig(comp)\n",
    "# print(eig_val)\n",
    "# print(eig_vec)\n",
    "\n",
    "# print(eig_val[0])\n",
    "# eigenvalue_3sigma = 3 * np.sqrt(eig_val[0]) \n",
    "# eigenvalue_3sigma_arr = np.array([[-eigenvalue_3sigma, eigenvalue_3sigma]])\n",
    "# eigenvector = np.array([eig_vec[0]]).T *1\n",
    "# print(eigenvector)\n",
    "# print(eigenvalue_3sigma_arr)\n",
    "# # x_comp_1,y_comp_1 = np.multiply(np.dot(-eigenvector, -eigenvalue_3sigma_arr), -1)\n",
    "# # print(x_comp_1)\n",
    "# # print(y_comp_1)\n",
    "# x_comp_1 = eigenvector[0].dot(eigenvalue_3sigma_arr)\n",
    "# y_comp_1 = -eigenvector[1].dot(eigenvalue_3sigma_arr)\n",
    "# print(x_comp_1)\n",
    "# print(y_comp_1)"
   ]
  },
  {
   "cell_type": "code",
   "execution_count": 26,
   "metadata": {},
   "outputs": [
    {
     "name": "stderr",
     "output_type": "stream",
     "text": [
      "dv: 11.556: 100%|██████████████████████████████████████████████████████████████████| 100/100 [00:00<00:00, 1414.22it/s]\n",
      "dv: 0.405: 100%|███████████████████████████████████████████████████████████████████| 100/100 [00:00<00:00, 1517.35it/s]"
     ]
    },
    {
     "name": "stdout",
     "output_type": "stream",
     "text": [
      "[[0.6781015995715335, 0.7349681766297965], [0.8966375873912281, -0.44276521642653666]]\n",
      "[[ 1.2765818  1.3836377]\n",
      " [ 1.6879936 -0.8335418]]\n"
     ]
    },
    {
     "name": "stderr",
     "output_type": "stream",
     "text": [
      "\n"
     ]
    }
   ],
   "source": [
    "# pc1 = first_principal_component(B)\n",
    "# print(pc1)\n",
    "\n",
    "pcs = principal_components(B, 2, 100, 0.1)\n",
    "print(pcs)\n",
    "\n",
    "pcs = np.array(pcs)\n",
    "pcs /= pcs.std()\n",
    "print(pcs)"
   ]
  },
  {
   "cell_type": "code",
   "execution_count": 27,
   "metadata": {},
   "outputs": [
    {
     "data": {
      "image/png": "[encoded data removed]",
      "text/plain": [
       "<Figure size 432x288 with 1 Axes>"
      ]
     },
     "metadata": {
      "needs_background": "light"
     },
     "output_type": "display_data"
    }
   ],
   "source": [
    "# B = B.T\n",
    "# plt.scatter(B[0],B[1])\n",
    "# # plt.scatter(, get_column(B,1), marker='.', color='blue')\n",
    "# x = [pc1[0]*i for i in [-30, 1, 30]]\n",
    "# y = [pc1[1]*i for i in [-30, 1, 30]]\n",
    "# plt.plot(x, y, color=\"#cc000030\", linewidth=2)\n",
    "# plt.quiver(0,0,get_column(pcs[0][0], 0), get_column(pcs[0][0], 1), angles='xy', scale=4, color='red')\n",
    "# # plt.quiver(0,0,pc1[0], pc1[1], angles='xy', scale=4, color='red')\n",
    "# # plt.quiver(0,0,pc1[0], pc1[1], angles='xy', scale=4, color='red')\n",
    "\n",
    "# print(B)\n",
    "\n",
    "# B = np.array(row_data_adjust)\n",
    "# print(B)\n",
    "\n",
    "plt.scatter(get_column(B,0), get_column(B,1), marker='.', color='blue')\n",
    "plt.plot(x_comp_1,y_comp_1)\n",
    "plt.plot(x_comp_2,y_comp_2)\n",
    "plt.quiver(pcs[0][0], pcs[0][1], angles='xy', scale=10, color='red')\n",
    "plt.quiver(pcs[1][0], pcs[1][1], angles='xy', scale=10, color='red')\n",
    "\n",
    "\n",
    "# plt.scatter(get_column(B,0), get_column(B,1), marker='.', color='blue')\n",
    "# plt.quiver(get_column(pcs, 0), get_column(pcs, 1), angles='xy',scale = 10, color='red')\n",
    "\n",
    "# naming the x axis\n",
    "plt.xlabel('x')\n",
    "# naming the y axis\n",
    "plt.ylabel('y')\n",
    "# giving a title  \n",
    "plt.title('PCA') \n",
    "# Turn on the minor TICKS, which are required for the minor GRID\n",
    "plt.minorticks_on()\n",
    "\n",
    "# Customize the major grid\n",
    "plt.grid(which='major', linestyle='-', linewidth='0.5', color='red')\n",
    "# Customize the minor grid\n",
    "plt.grid(which='minor', linestyle=':', linewidth='0.5', color='black')\n",
    "\n",
    "# Turn off the display of all ticks.\n",
    "plt.tick_params(which='both', # Options for both major and minor ticks\n",
    "                top='off', # turn off top ticks\n",
    "                left='off', # turn off left ticks\n",
    "                right='off',  # turn off right ticks\n",
    "                bottom='off') # turn off bottom ticks\n",
    "\n",
    "\n",
    "plt.show()"
   ]
  },
  {
   "cell_type": "code",
   "execution_count": 28,
   "metadata": {},
   "outputs": [
    {
     "data": {
      "image/png": "[encoded data removed]",
      "text/plain": [
       "<Figure size 432x288 with 1 Axes>"
      ]
     },
     "metadata": {
      "needs_background": "light"
     },
     "output_type": "display_data"
    }
   ],
   "source": [
    "plt.scatter(np.array(row_data_adjust['x']), np.array(row_data_adjust['y']))\n",
    "plt.plot(x_comp_1,y_comp_1)\n",
    "plt.plot(x_comp_2,y_comp_2)\n",
    "plt.quiver(x_comp_2[0],y_comp_2[0], scale = 7, angles='xy', color='red')\n",
    "plt.quiver(x_comp_1[0],y_comp_1[0], scale = 14, angles='xy', color='magenta')\n",
    "\n",
    "\n",
    "plt.show()"
   ]
  },
  {
   "cell_type": "code",
   "execution_count": 29,
   "metadata": {},
   "outputs": [],
   "source": [
    "# plt.scatter(get_column(B,0), get_column(B,1), marker='.', color='blue')\n",
    "# plt.quiver(0,0,get_column(pcs, 0), get_column(pcs, 1), angles='xy', scale=4, color='red')\n",
    "# plt.show()"
   ]
  },
  {
   "cell_type": "code",
   "execution_count": 30,
   "metadata": {},
   "outputs": [
    {
     "data": {
      "image/png": "[encoded data removed]",
      "text/plain": [
       "<Figure size 432x288 with 1 Axes>"
      ]
     },
     "metadata": {
      "needs_background": "light"
     },
     "output_type": "display_data"
    }
   ],
   "source": [
    "# plt.scatter(FinalData_1,FinalData_1)\n",
    "# plt.scatter(FinalData[0],FinalData[1])\n",
    "plt.scatter(transform[0],transform[1])\n",
    "plt.plot(x_comp_1,y_comp_1)\n",
    "# plt.plot(x_comp_2,y_comp_2, color='magenta')\n",
    "plt.quiver(x_comp_2[1],y_comp_2[1], scale = 5, angles='xy', color='red')\n",
    "plt.quiver(x_comp_1[1],y_comp_1[1], scale = 50, angles='xy', color='Green')\n",
    "\n",
    "# naming the x axis\n",
    "plt.xlabel('x')\n",
    "# naming the y axis\n",
    "plt.ylabel('y')\n",
    "# giving a title  \n",
    "plt.title('PCA') \n",
    "# Turn on the minor TICKS, which are required for the minor GRID\n",
    "plt.minorticks_on()\n",
    "\n",
    "# Customize the major grid\n",
    "plt.grid(which='major', linestyle='-', linewidth='0.5', color='red')\n",
    "# Customize the minor grid\n",
    "plt.grid(which='minor', linestyle=':', linewidth='0.5', color='black')\n",
    "\n",
    "# Turn off the display of all ticks.\n",
    "plt.tick_params(which='both', # Options for both major and minor ticks\n",
    "                top='off', # turn off top ticks\n",
    "                left='off', # turn off left ticks\n",
    "                right='off',  # turn off right ticks\n",
    "                bottom='off') # turn off bottom ticks\n",
    "\n",
    "plt.show()"
   ]
  },
  {
   "cell_type": "code",
   "execution_count": 31,
   "metadata": {},
   "outputs": [
    {
     "name": "stdout",
     "output_type": "stream",
     "text": [
      "      x     y\n",
      "0  0.69  0.49\n",
      "1 -1.31 -1.21\n",
      "2  0.39  0.99\n",
      "3  0.09  0.29\n",
      "4  1.29  1.09\n",
      "5  0.49  0.79\n",
      "6  0.19 -0.31\n",
      "7 -0.81 -0.81\n",
      "8 -0.31 -0.31\n",
      "9 -0.71 -1.01\n"
     ]
    }
   ],
   "source": [
    "transform = pd.DataFrame(transform.T)\n",
    "transform = transform\n",
    "transform.columns = ['x','y']\n",
    "\n",
    "# maximum value\n",
    "max_val_2 = max(transform.max(axis = 0))\n",
    "\n",
    "print(row_data_adjust)\n",
    "# print(abs(transform['x']).max())\n",
    "# print(abs(transform['y']).max())\n",
    "# max(transform.max(axis = 0))"
   ]
  },
  {
   "cell_type": "code",
   "execution_count": 32,
   "metadata": {},
   "outputs": [
    {
     "name": "stdout",
     "output_type": "stream",
     "text": [
      "10 2\n",
      "[[1.2840276 0.3624895]\n",
      " [0.3624895 0.1474968]]\n"
     ]
    }
   ],
   "source": [
    "CoVar = CoV(transform)\n",
    "print(CoVar)"
   ]
  },
  {
   "cell_type": "code",
   "execution_count": 33,
   "metadata": {},
   "outputs": [
    {
     "name": "stdout",
     "output_type": "stream",
     "text": [
      "[1.389798  0.0417265]\n",
      "[[ 0.9599685 -0.280108 ]\n",
      " [ 0.280108   0.9599685]]\n"
     ]
    }
   ],
   "source": [
    "eig_val,eig_vec,X = eigenspace(CoVar)\n",
    "print(eig_val)\n",
    "print(eig_vec)"
   ]
  },
  {
   "cell_type": "code",
   "execution_count": 34,
   "metadata": {},
   "outputs": [
    {
     "name": "stdout",
     "output_type": "stream",
     "text": [
      "1.3897979559775289\n",
      "[[ 0.9599685]\n",
      " [-0.280108 ]]\n",
      "[[-3.5366908  3.5366908]]\n",
      "[-2.3043956  2.3043956]\n",
      "[-2.4992019  2.4992019]\n"
     ]
    }
   ],
   "source": [
    "print(eig_val[0])\n",
    "eigenvalue_3sigma = 3  * np.sqrt(eig_val[0]) \n",
    "eigenvalue_3sigma_arr = np.array([[-eigenvalue_3sigma, eigenvalue_3sigma]])\n",
    "eigenvector = np.array([eig_vec[0]]).T *1\n",
    "print(eigenvector)\n",
    "print(eigenvalue_3sigma_arr)\n",
    "# x_comp_1,y_comp_1 = np.multiply(np.dot(-eigenvector, -eigenvalue_3sigma_arr), -1)\n",
    "# print(x_comp_1)\n",
    "# print(y_comp_1)\n",
    "x_comp_transform_1 = eigenvector[0].dot(eigenvalue_3sigma_arr)\n",
    "y_comp_transform_1 = -eigenvector[1].dot(eigenvalue_3sigma_arr)\n",
    "print(x_comp_1)\n",
    "print(y_comp_1)"
   ]
  },
  {
   "cell_type": "code",
   "execution_count": 35,
   "metadata": {},
   "outputs": [
    {
     "name": "stdout",
     "output_type": "stream",
     "text": [
      "0.04172648699616342\n",
      "[-0.4886315  0.4886315]\n",
      "[ 0.4505439 -0.4505439]\n"
     ]
    }
   ],
   "source": [
    "print(eig_val[1])\n",
    "eigenvalue_3sigma = 3  * np.sqrt(eig_val[1]) \n",
    "eigenvalue_3sigma_arr = np.array([[-eigenvalue_3sigma, eigenvalue_3sigma]])\n",
    "eigenvector = np.array([eig_vec[1]]).T * 1\n",
    "# x_comp_2,y_comp_2 = np.multiply(np.dot(-eigenvector, -eigenvalue_3sigma_arr), -1)\n",
    "x_comp_transform_2 = eigenvector[0].dot(eigenvalue_3sigma_arr)\n",
    "y_comp_transform_2 = -eigenvector[1].dot(eigenvalue_3sigma_arr)\n",
    "# print(x_comp_1)\n",
    "# print(y_comp_1)\n",
    "print(x_comp_2)\n",
    "print(y_comp_2)"
   ]
  },
  {
   "cell_type": "code",
   "execution_count": 36,
   "metadata": {},
   "outputs": [
    {
     "data": {
      "image/png": "[encoded data removed]",
      "text/plain": [
       "<Figure size 432x288 with 1 Axes>"
      ]
     },
     "metadata": {
      "needs_background": "light"
     },
     "output_type": "display_data"
    }
   ],
   "source": [
    "plt.scatter(transform['x'],transform['y'])\n",
    "plt.plot(x_comp_transform_1,y_comp_transform_1)\n",
    "plt.plot(x_comp_transform_2,y_comp_transform_2)\n",
    "plt.quiver(x_comp_transform_2[0],y_comp_transform_2[0], scale = 7, angles='xy', color='red')\n",
    "plt.quiver(x_comp_transform_1[0],y_comp_transform_1[0], scale = 14, angles='xy', color='magenta')\n",
    "\n",
    "# naming the x axis\n",
    "plt.xlabel('x')\n",
    "# naming the y axis\n",
    "plt.ylabel('y')\n",
    "# giving a title  \n",
    "plt.title('PCA') \n",
    "# Axis\n",
    "# plt.xlim([-2,2])\n",
    "# plt.ylim([-2,2])\n",
    "plt.axis('equal')\n",
    "# Turn on the minor TICKS, which are required for the minor GRID\n",
    "plt.minorticks_on()\n",
    "\n",
    "# Customize the major grid\n",
    "plt.grid(which='major', linestyle='-', linewidth='0.5', color='red')\n",
    "# Customize the minor grid\n",
    "plt.grid(which='minor', linestyle=':', linewidth='0.5', color='black')\n",
    "\n",
    "# Turn off the display of all ticks.\n",
    "plt.tick_params(which='both', # Options for both major and minor ticks\n",
    "                top='off', # turn off top ticks\n",
    "                left='off', # turn off left ticks\n",
    "                right='off',  # turn off right ticks\n",
    "                bottom='off') # turn off bottom ticks\n",
    "\n",
    "plt.show()"
   ]
  },
  {
   "cell_type": "code",
   "execution_count": 37,
   "metadata": {},
   "outputs": [
    {
     "name": "stdout",
     "output_type": "stream",
     "text": [
      "1.0\n"
     ]
    }
   ],
   "source": [
    "cos_sim = cosine_similarity(x_comp_1[0],y_comp_1[0])\n",
    "print(cos_sim)"
   ]
  },
  {
   "cell_type": "code",
   "execution_count": 38,
   "metadata": {},
   "outputs": [
    {
     "name": "stdout",
     "output_type": "stream",
     "text": [
      "0    0.69\n",
      "1   -1.31\n",
      "2    0.39\n",
      "3    0.09\n",
      "4    1.29\n",
      "5    0.49\n",
      "6    0.19\n",
      "7   -0.81\n",
      "8   -0.31\n",
      "9   -0.71\n",
      "Name: x, dtype: float64\n",
      "[ 0.69 -1.31  0.39  0.09  1.29  0.49  0.19 -0.81 -0.31 -0.71]\n"
     ]
    },
    {
     "data": {
      "image/png": "[encoded data removed]",
      "text/plain": [
       "<Figure size 432x288 with 1 Axes>"
      ]
     },
     "metadata": {
      "needs_background": "light"
     },
     "output_type": "display_data"
    }
   ],
   "source": [
    "print(row_data_adjust['x'])\n",
    "print(np.array(row_data_adjust['x']))\n",
    "\n",
    "plt.scatter(row_data_adjust['x'], row_data_adjust['y'])\n",
    "plt.plot(x_comp_1,y_comp_1)\n",
    "plt.plot(x_comp_2,y_comp_2)\n",
    "plt.quiver(x_comp_2[0],y_comp_2[0], scale = 7, angles='xy', color='red')\n",
    "plt.quiver(x_comp_1[0],y_comp_1[0], scale = 14, angles='xy', color='magenta')\n",
    "\n",
    "# naming the x axis\n",
    "plt.xlabel('x')\n",
    "# naming the y axis\n",
    "plt.ylabel('y')\n",
    "# giving a title  \n",
    "plt.title('PCA') \n",
    "# Turn on the minor TICKS, which are required for the minor GRID\n",
    "plt.minorticks_on()\n",
    "\n",
    "# Customize the major grid\n",
    "plt.grid(which='major', linestyle='-', linewidth='0.5', color='red')\n",
    "# Customize the minor grid\n",
    "plt.grid(which='minor', linestyle=':', linewidth='0.5', color='black')\n",
    "\n",
    "# Turn off the display of all ticks.\n",
    "plt.tick_params(which='both', # Options for both major and minor ticks\n",
    "                top='off', # turn off top ticks\n",
    "                left='off', # turn off left ticks\n",
    "                right='off',  # turn off right ticks\n",
    "                bottom='off') # turn off bottom ticks\n",
    "\n",
    "plt.show()"
   ]
  },
  {
   "cell_type": "code",
   "execution_count": null,
   "metadata": {},
   "outputs": [],
   "source": []
  }
 ],
 "metadata": {
  "kernelspec": {
   "display_name": "Python 3 (ipykernel)",
   "language": "python",
   "name": "python3"
  },
  "language_info": {
   "codemirror_mode": {
    "name": "ipython",
    "version": 3
   },
   "file_extension": ".py",
   "mimetype": "text/x-python",
   "name": "python",
   "nbconvert_exporter": "python",
   "pygments_lexer": "ipython3",
   "version": "3.9.7"
  }
 },
 "nbformat": 4,
 "nbformat_minor": 4
}
