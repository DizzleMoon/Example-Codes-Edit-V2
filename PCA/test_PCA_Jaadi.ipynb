{
 "cells": [
  {
   "cell_type": "code",
   "execution_count": 1,
   "metadata": {},
   "outputs": [],
   "source": [
    "%matplotlib inline\n",
    "import numpy as np\n",
    "np.set_printoptions(linewidth=np.inf)\n",
    "np.set_printoptions(precision=7)\n",
    "import matplotlib.pyplot as plt\n",
    "import math \n",
    "import pandas as pd\n",
    "from numpy import linalg as LA\n",
    "from sympy import * "
   ]
  },
  {
   "cell_type": "code",
   "execution_count": 2,
   "metadata": {},
   "outputs": [],
   "source": [
    "# Scale function\n",
    "def scale(vec_1):\n",
    "    \n",
    "    # Test\n",
    "    v1_scale = np.square(np.linalg.norm(vec_1))\n",
    "#     print(v1_scale)\n",
    "\n",
    "    v1 = np.multiply(1/np.sqrt(v1_scale + 1e-15),vec_1)\n",
    "#     print(v1)\n",
    "    \n",
    "    return list(v1)\n",
    "    \n",
    "    \n",
    "def QR(span):\n",
    "    \n",
    "    # Setup arrays\n",
    "    # Original Values\n",
    "    vector = []\n",
    "    # Normalized Values\n",
    "    vec_norm = []\n",
    "\n",
    "    # Size of array\n",
    "    row,col = span.shape\n",
    "    \n",
    "    # First Column\n",
    "    v1 = span[:,0]\n",
    "    vec_1 = v1\n",
    "    vector.append(vec_1)\n",
    "\n",
    "    v1 = scale(vec_1)\n",
    "    vec_norm.append(v1)\n",
    "    \n",
    "    # Subsequent Columns\n",
    "\n",
    "    start = 1\n",
    "    end = col\n",
    "\n",
    "    for j in range(start,end):\n",
    "\n",
    "        # Column\n",
    "        projection = span[:,j]\n",
    "        v = span[:,j]\n",
    "\n",
    "        #Orthonormal vector\n",
    "        for i in range(len(vec_norm)):\n",
    "            #projection\n",
    "            # dot\n",
    "            proj_dot = np.dot(v,vec_norm[i])/(np.dot(vec_norm[i],vec_norm[i]) + 1e-15)\n",
    "            proj = np.multiply(proj_dot,vec_norm[i])\n",
    "            projection = projection - proj\n",
    "\n",
    "        v_norm = scale(projection)\n",
    "\n",
    "        vec_norm.append(v_norm)\n",
    "        \n",
    "    # Calculate R\n",
    "    Q = vec_norm\n",
    "    Q = np.array(Q)\n",
    "    R = np.dot(Q,span)\n",
    "    R = np.array(R)\n",
    "\n",
    "    \n",
    "    return Q.T,R\n",
    "\n",
    "def eigenspace(span):\n",
    "    \n",
    "    eig_vec = np.eye(span.shape[0])\n",
    "    X = span.copy()\n",
    "\n",
    "    for _ in range(100):\n",
    "        Q,R = QR(X)\n",
    "        eig_vec = np.dot(eig_vec,Q)\n",
    "        X = np.dot(R,Q)\n",
    "        eig_val = np.diag(X)\n",
    "        \n",
    "    return eig_val,eig_vec, X\n"
   ]
  },
  {
   "cell_type": "code",
   "execution_count": 3,
   "metadata": {},
   "outputs": [
    {
     "name": "stdout",
     "output_type": "stream",
     "text": [
      "[[0.6778726]\n",
      " [0.7351785]]\n",
      "[[-0.7351785]\n",
      " [ 0.6778736]]\n",
      "[[ 0.6778726 -0.7351785]\n",
      " [ 0.7351785  0.6778736]]\n"
     ]
    }
   ],
   "source": [
    "v1 = np.array([[0.6778726],[0.7351785]])\n",
    "v2 = np.array([[-0.7351785], [0.6778736]])\n",
    "v1_v2 = np.concatenate([v1,v2])\n",
    "v1_v2 = v1_v2.reshape(2,2).T\n",
    "\n",
    "print(v1)\n",
    "print(v2)\n",
    "print(v1_v2)"
   ]
  },
  {
   "cell_type": "code",
   "execution_count": 4,
   "metadata": {},
   "outputs": [],
   "source": [
    "# w,v,u = eigenspace(v1_v2)\n",
    "# print(w)\n",
    "# print(v)\n",
    "# print(u)"
   ]
  },
  {
   "cell_type": "code",
   "execution_count": 5,
   "metadata": {},
   "outputs": [
    {
     "name": "stdout",
     "output_type": "stream",
     "text": [
      "0.9631814443570474\n",
      "0.03681855564295262\n"
     ]
    }
   ],
   "source": [
    "lamda_1 = 1.284028\n",
    "lamda_2 = 0.04908323\n",
    "lamda_sum = lamda_1 + lamda_2\n",
    "pc1 = lamda_1/lamda_sum\n",
    "pc2 = lamda_2/lamda_sum\n",
    "\n",
    "print(pc1)\n",
    "print(pc2)"
   ]
  },
  {
   "cell_type": "code",
   "execution_count": null,
   "metadata": {},
   "outputs": [],
   "source": []
  }
 ],
 "metadata": {
  "kernelspec": {
   "display_name": "Python 3 (ipykernel)",
   "language": "python",
   "name": "python3"
  },
  "language_info": {
   "codemirror_mode": {
    "name": "ipython",
    "version": 3
   },
   "file_extension": ".py",
   "mimetype": "text/x-python",
   "name": "python",
   "nbconvert_exporter": "python",
   "pygments_lexer": "ipython3",
   "version": "3.9.7"
  }
 },
 "nbformat": 4,
 "nbformat_minor": 4
}
