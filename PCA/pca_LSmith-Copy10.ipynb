{
 "cells": [
  {
   "cell_type": "code",
   "execution_count": 1,
   "metadata": {},
   "outputs": [],
   "source": [
    "%matplotlib inline\n",
    "import numpy as np\n",
    "np.set_printoptions(linewidth=np.inf)\n",
    "np.set_printoptions(precision=7)\n",
    "import matplotlib.pyplot as plt\n",
    "import math \n",
    "import pandas as pd\n",
    "from numpy import linalg as LA\n",
    "from sympy import * "
   ]
  },
  {
   "cell_type": "code",
   "execution_count": 2,
   "metadata": {},
   "outputs": [],
   "source": [
    "# Scale function\n",
    "def scale(vec_1):\n",
    "    \n",
    "    # Test\n",
    "    v1_scale = np.square(np.linalg.norm(vec_1))\n",
    "#     print(v1_scale)\n",
    "\n",
    "    v1 = np.multiply(1/np.sqrt(v1_scale + 1e-15),vec_1)\n",
    "#     print(v1)\n",
    "    \n",
    "    return list(v1)\n",
    "    \n",
    "    \n",
    "def QR(span):\n",
    "    \n",
    "    # Setup arrays\n",
    "    # Original Values\n",
    "    vector = []\n",
    "    # Normalized Values\n",
    "    vec_norm = []\n",
    "\n",
    "    # Size of array\n",
    "    row,col = span.shape\n",
    "    \n",
    "    # First Column\n",
    "    v1 = span[:,0]\n",
    "    vec_1 = v1\n",
    "    vector.append(vec_1)\n",
    "\n",
    "    v1 = scale(vec_1)\n",
    "    vec_norm.append(v1)\n",
    "    \n",
    "    # Subsequent Columns\n",
    "\n",
    "    start = 1\n",
    "    end = col\n",
    "\n",
    "    for j in range(start,end):\n",
    "\n",
    "        # Column\n",
    "        projection = span[:,j]\n",
    "        v = span[:,j]\n",
    "\n",
    "        #Orthonormal vector\n",
    "        for i in range(len(vec_norm)):\n",
    "            #projection\n",
    "            # dot\n",
    "            proj_dot = np.dot(v,vec_norm[i])/(np.dot(vec_norm[i],vec_norm[i]) + 1e-15)\n",
    "            proj = np.multiply(proj_dot,vec_norm[i])\n",
    "            projection = projection - proj\n",
    "\n",
    "        v_norm = scale(projection)\n",
    "\n",
    "        vec_norm.append(v_norm)\n",
    "        \n",
    "    # Calculate R\n",
    "    Q = vec_norm\n",
    "    Q = np.array(Q)\n",
    "    R = np.dot(Q,span)\n",
    "    R = np.array(R)\n",
    "\n",
    "    \n",
    "    return Q.T,R\n",
    "\n",
    "def eigenspace(span):\n",
    "    \n",
    "    eig_vec = np.eye(span.shape[0])\n",
    "    X = span.copy()\n",
    "\n",
    "    for _ in range(100):\n",
    "        Q,R = QR(X)\n",
    "        eig_vec = np.dot(eig_vec,Q)\n",
    "        X = np.dot(R,Q)\n",
    "        eig_val = np.diag(X)\n",
    "        \n",
    "    return eig_val,eig_vec, X\n",
    "\n",
    "\n",
    "def CoV(df):\n",
    "    \n",
    "    # Shape of dataframe\n",
    "    row,col = df.shape\n",
    "    print(row,col)\n",
    "    \n",
    "    # Determine indices\n",
    "#     if row > col:\n",
    "#         row = col\n",
    "#         col = row\n",
    "    \n",
    "    # Initialize Covariance matrix\n",
    "    CoVar = np.zeros((col,col))\n",
    "    \n",
    "    # List of means\n",
    "    stats = []\n",
    "    for i in range(col):\n",
    "        stats.append(df.iloc[:,i].mean())\n",
    "\n",
    "    # Solve covariance matrix        \n",
    "    for k in range(col):\n",
    "        for i in range(col):\n",
    "            var = 0\n",
    "            for j in range(row):\n",
    "                var = var + ((df.iloc[j,k] - stats[k])*(df.iloc[j,i] - stats[i]))/(row-1)\n",
    "            CoVar[k][i] = var\n",
    "        \n",
    "    return CoVar\n",
    "    \n",
    "    "
   ]
  },
  {
   "cell_type": "code",
   "execution_count": 3,
   "metadata": {},
   "outputs": [],
   "source": [
    "# Create panda matrix\n",
    "x = [2.5,0.5,2.2,1.9,3.1,2.3,2,1,1.5,1.1]\n",
    "y = [2.4,0.7,2.9,2.2,3.0,2.7,1.6,1.1,1.6,0.9]\n",
    "\n",
    "x = np.array(x)\n",
    "y = np.array(y)\n",
    "\n",
    "# Create dataframe.\n",
    "# df = pd.DataFrame([x,y])\n",
    "# df = df.transpose()\n",
    "# df_copy = df.copy()\n",
    "# orginaldataset = df.copy()\n",
    "# df.columns = ['x','y']\n",
    "# print(df)\n",
    "# row,col = df.shape\n",
    "# print(df.mean())\n",
    "# print(df.std())"
   ]
  },
  {
   "cell_type": "code",
   "execution_count": 4,
   "metadata": {},
   "outputs": [],
   "source": [
    "# Adjust Data\n",
    "x_adjust = []\n",
    "y_adjust = []\n",
    "for i in range(len(x)):\n",
    "    x_adjust.append(x[i] - x.mean())\n",
    "    y_adjust.append(y[i] - y.mean())\n",
    "    \n",
    "# x_adjust.append((df['x'][i] - df['x'].mean())/df['x'].std())\n",
    "# y_adjust.append((df['y'][i] - df['y'].mean())/df['y'].std())\n",
    "\n",
    "row_data_adjust = pd.DataFrame([x_adjust,y_adjust])\n",
    "row_data_adjust = row_data_adjust.transpose()\n",
    "row_data_adjust.columns = ['x','y']\n",
    "\n",
    "# print(row_data_adjust.transpose())\n",
    "# print(row_data_adjust[1].mean())\n",
    "# print(row_data_adjust.columns = ['x','y'])"
   ]
  },
  {
   "cell_type": "code",
   "execution_count": 5,
   "metadata": {},
   "outputs": [
    {
     "name": "stdout",
     "output_type": "stream",
     "text": [
      "10 2\n",
      "[[0.6165556 0.6154444]\n",
      " [0.6154444 0.7165556]]\n"
     ]
    }
   ],
   "source": [
    "CoVar = CoV(row_data_adjust)\n",
    "print(CoVar)"
   ]
  },
  {
   "cell_type": "code",
   "execution_count": 6,
   "metadata": {},
   "outputs": [
    {
     "name": "stdout",
     "output_type": "stream",
     "text": [
      "[1.2840277 0.0490834]\n",
      "[[ 0.6778734 -0.7351787]\n",
      " [ 0.7351787  0.6778734]]\n"
     ]
    }
   ],
   "source": [
    "eig_val,eig_vec,X = eigenspace(CoVar)\n",
    "print(eig_val)\n",
    "print(eig_vec)"
   ]
  },
  {
   "cell_type": "code",
   "execution_count": 7,
   "metadata": {},
   "outputs": [
    {
     "name": "stdout",
     "output_type": "stream",
     "text": [
      "1.2840277121726855\n",
      "[[ 0.6778734]\n",
      " [-0.7351787]]\n",
      "[[-3.3994484  3.3994484]]\n",
      "[-2.3043956  2.3043956]\n",
      "[ 2.4992019 -2.4992019]\n"
     ]
    }
   ],
   "source": [
    "print(eig_val[0])\n",
    "eigenvalue_3sigma = 3 * np.sqrt(eig_val[0]) \n",
    "eigenvalue_3sigma_arr = np.array([[-eigenvalue_3sigma, eigenvalue_3sigma]])\n",
    "eigenvector = np.array([eig_vec[0]]).T *1\n",
    "print(eigenvector)\n",
    "print(eigenvalue_3sigma_arr)\n",
    "# x_comp_1,y_comp_1 = np.multiply(np.dot(-eigenvector, -eigenvalue_3sigma_arr), -1)\n",
    "# print(x_comp_1)\n",
    "# print(y_comp_1)\n",
    "x_comp_1 = eigenvector[0].dot(eigenvalue_3sigma_arr)\n",
    "y_comp_1 = eigenvector[1].dot(eigenvalue_3sigma_arr)\n",
    "print(x_comp_1)\n",
    "print(y_comp_1.T)"
   ]
  },
  {
   "cell_type": "code",
   "execution_count": 8,
   "metadata": {},
   "outputs": [
    {
     "name": "stdout",
     "output_type": "stream",
     "text": [
      "0.04908339893630035\n",
      "[-0.4886315  0.4886315]\n",
      "[-0.4505439  0.4505439]\n"
     ]
    }
   ],
   "source": [
    "print(eig_val[1])\n",
    "eigenvalue_3sigma = 3 * np.sqrt(eig_val[1]) \n",
    "eigenvalue_3sigma_arr = np.array([[-eigenvalue_3sigma, eigenvalue_3sigma]])\n",
    "eigenvector = np.array([eig_vec[1]]).T * 1\n",
    "# x_comp_2,y_comp_2 = np.multiply(np.dot(-eigenvector, -eigenvalue_3sigma_arr), -1)\n",
    "x_comp_2 = eigenvector[0].dot(eigenvalue_3sigma_arr)\n",
    "y_comp_2 = eigenvector[1].dot(eigenvalue_3sigma_arr)\n",
    "# print(x_comp_1)\n",
    "# print(y_comp_1)\n",
    "print(x_comp_2)\n",
    "print(y_comp_2.T)"
   ]
  },
  {
   "cell_type": "code",
   "execution_count": 9,
   "metadata": {},
   "outputs": [
    {
     "data": {
      "image/png": "[encoded data removed]",
      "text/plain": [
       "<Figure size 432x288 with 1 Axes>"
      ]
     },
     "metadata": {
      "needs_background": "light"
     },
     "output_type": "display_data"
    }
   ],
   "source": [
    "plt.scatter(row_data_adjust['x'],row_data_adjust['y'])\n",
    "plt.plot(x_comp_1,y_comp_1)\n",
    "plt.plot(x_comp_2,y_comp_2)\n",
    "plt.quiver(x_comp_2[1],y_comp_2[1], scale = 5, angles='xy', color='red')\n",
    "plt.quiver(x_comp_1[1],y_comp_1[1], scale = 10, angles='xy', color='Green')\n",
    "\n",
    "# naming the x axis\n",
    "plt.xlabel('x')\n",
    "# naming the y axis\n",
    "plt.ylabel('y')\n",
    "# giving a title  \n",
    "plt.title('PCA') \n",
    "# Turn on the minor TICKS, which are required for the minor GRID\n",
    "plt.minorticks_on()\n",
    "\n",
    "# Customize the major grid\n",
    "plt.grid(which='major', linestyle='-', linewidth='0.5', color='red')\n",
    "# Customize the minor grid\n",
    "plt.grid(which='minor', linestyle=':', linewidth='0.5', color='black')\n",
    "\n",
    "# Turn off the display of all ticks.\n",
    "plt.tick_params(which='both', # Options for both major and minor ticks\n",
    "                top='off', # turn off top ticks\n",
    "                left='off', # turn off left ticks\n",
    "                right='off',  # turn off right ticks\n",
    "                bottom='off') # turn off bottom ticks\n",
    "\n",
    "plt.show()"
   ]
  },
  {
   "cell_type": "code",
   "execution_count": 10,
   "metadata": {},
   "outputs": [
    {
     "data": {
      "text/plain": [
       "-11.518299928763044"
      ]
     },
     "execution_count": 10,
     "metadata": {},
     "output_type": "execute_result"
    }
   ],
   "source": [
    "# x_comp_2[1].dot(y_comp_2[1])\n",
    "np.dot(x_comp_1,y_comp_1)"
   ]
  },
  {
   "cell_type": "code",
   "execution_count": 11,
   "metadata": {},
   "outputs": [
    {
     "name": "stdout",
     "output_type": "stream",
     "text": [
      "[[ 0.6778734  0.7351787]\n",
      " [-0.7351787  0.6778734]]\n"
     ]
    }
   ],
   "source": [
    "# Row Feature Vector\n",
    "row_feature_vector = eig_vec.T\n",
    "print(row_feature_vector)"
   ]
  },
  {
   "cell_type": "code",
   "execution_count": 12,
   "metadata": {},
   "outputs": [
    {
     "name": "stdout",
     "output_type": "stream",
     "text": [
      "[[ 0.8279702 -1.7775803  0.9921975  0.2742104  1.6758014  0.9129491 -0.0991094 -1.1445722 -0.4380461 -1.2238206]\n",
      " [-0.1751153  0.1428572  0.384375   0.1304172 -0.2094985  0.1752824 -0.3498247  0.0464173  0.0177646 -0.1626753]]\n",
      "[ 0.8279702 -1.7775803  0.9921975  0.2742104  1.6758014  0.9129491 -0.0991094 -1.1445722 -0.4380461 -1.2238206]\n"
     ]
    }
   ],
   "source": [
    "# Final Data\n",
    "FinalData = row_feature_vector.dot(row_data_adjust.T)\n",
    "FinalData_1 = row_feature_vector[0].dot(row_data_adjust.T)\n",
    "print(FinalData)\n",
    "print(FinalData_1)\n",
    "# plt.plot(FinalData_1)"
   ]
  },
  {
   "cell_type": "code",
   "execution_count": 13,
   "metadata": {},
   "outputs": [
    {
     "data": {
      "image/png": "[encoded data removed]",
      "text/plain": [
       "<Figure size 432x288 with 1 Axes>"
      ]
     },
     "metadata": {
      "needs_background": "light"
     },
     "output_type": "display_data"
    }
   ],
   "source": [
    "plt.scatter(FinalData_1,FinalData_1)\n",
    "plt.plot(x_comp_1,y_comp_1)\n",
    "plt.plot(x_comp_2,y_comp_2, color='magenta')\n",
    "plt.quiver(x_comp_2[1],y_comp_2[1], scale = 15, angles='xy', color='red')\n",
    "# plt.quiver(x_comp_1[1],y_comp_1[1], scale = 10, angles='xy', color='Green')\n",
    "\n",
    "# naming the x axis\n",
    "plt.xlabel('x')\n",
    "# naming the y axis\n",
    "plt.ylabel('y')\n",
    "# giving a title  \n",
    "plt.title('PCA') \n",
    "# Turn on the minor TICKS, which are required for the minor GRID\n",
    "plt.minorticks_on()\n",
    "\n",
    "# Customize the major grid\n",
    "plt.grid(which='major', linestyle='-', linewidth='0.5', color='red')\n",
    "# Customize the minor grid\n",
    "plt.grid(which='minor', linestyle=':', linewidth='0.5', color='black')\n",
    "\n",
    "# Turn off the display of all ticks.\n",
    "plt.tick_params(which='both', # Options for both major and minor ticks\n",
    "                top='off', # turn off top ticks\n",
    "                left='off', # turn off left ticks\n",
    "                right='off',  # turn off right ticks\n",
    "                bottom='off') # turn off bottom ticks\n",
    "\n",
    "plt.show()"
   ]
  },
  {
   "cell_type": "code",
   "execution_count": 14,
   "metadata": {},
   "outputs": [
    {
     "data": {
      "text/plain": [
       "-11.518299928763044"
      ]
     },
     "execution_count": 14,
     "metadata": {},
     "output_type": "execute_result"
    }
   ],
   "source": [
    "np.dot(x_comp_1,y_comp_1)"
   ]
  },
  {
   "cell_type": "code",
   "execution_count": null,
   "metadata": {},
   "outputs": [],
   "source": []
  }
 ],
 "metadata": {
  "kernelspec": {
   "display_name": "Python 3 (ipykernel)",
   "language": "python",
   "name": "python3"
  },
  "language_info": {
   "codemirror_mode": {
    "name": "ipython",
    "version": 3
   },
   "file_extension": ".py",
   "mimetype": "text/x-python",
   "name": "python",
   "nbconvert_exporter": "python",
   "pygments_lexer": "ipython3",
   "version": "3.9.7"
  }
 },
 "nbformat": 4,
 "nbformat_minor": 4
}
