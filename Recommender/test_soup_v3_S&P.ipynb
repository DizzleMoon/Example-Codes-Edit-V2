{
 "cells": [
  {
   "cell_type": "code",
   "execution_count": 11,
   "metadata": {},
   "outputs": [],
   "source": [
    "#Python program to scrape website \n",
    "#and save quotes from website\n",
    "import requests as r\n",
    "from bs4 import BeautifulSoup\n",
    "import csv\n",
    "import bs4 as bs\n",
    "import urllib.request\n",
    "import re\n",
    "import time"
   ]
  },
  {
   "cell_type": "code",
   "execution_count": 12,
   "metadata": {},
   "outputs": [],
   "source": [
    "# headers = requests.utils.default_headers()\n",
    "# # headers: {\n",
    "# #     'accept': 'text/html,application/xhtml+xml,application/xml;q=0.9,image/webp,image/apng,*/*;q=0.8',\n",
    "# #     'accept-encoding': 'gzip, deflate, br',\n",
    "# #     'accept-language': 'en-US,en;q=0.9,fr;q=0.8,ro;q=0.7,ru;q=0.6,la;q=0.5,pt;q=0.4,de;q=0.3',\n",
    "# #     'cache-control': 'max-age=0',\n",
    "# #     'upgrade-insecure-requests': '1',\n",
    "# #     'user-agent': 'Mozilla/5.0 (Macintosh; Intel Mac OS X 10_13_6) AppleWebKit/537.36 (KHTML, like Gecko) Chrome/67.0.3396.99 Safari/537.36'\n",
    "# # }\n",
    "\n",
    "# headers = {\n",
    "#     'user-agent': 'Mozilla/5.0 (Macintosh; Intel Mac OS X 10_11_6) AppleWebKit/537.36 (KHTML, like Gecko) Chrome/56.0.2924.87 Safari/537.36',\n",
    "#     'referrer': 'https://google.com',\n",
    "#     'Accept': 'text/html,application/xhtml+xml,application/xml;q=0.9,image/webp,image/apng,*/*;q=0.8',\n",
    "#     'Accept-Encoding': 'gzip, deflate, br',\n",
    "#     'Accept-Language': 'en-US,en;q=0.9',\n",
    "#     'Pragma': 'no-cache'}\n"
   ]
  },
  {
   "cell_type": "code",
   "execution_count": 13,
   "metadata": {},
   "outputs": [],
   "source": [
    "# source = urllib.request.urlopen('https://www.bloomberg.com/markets/stocks')\n",
    "# source = urllib.request.urlopen('https://www.skysports.com/football')\\\n",
    "url = 'https://www.bloomberg.com/quote/SPX:IND'\n",
    "# url = 'https://www.bloomberg.com/markets/stocks'\n",
    "# url = 'https://www.bloomberg.com/energy'\n",
    "f = urllib.request.Request(url, headers={\"user-agent\": \"Mozilla/80.0\"})\n",
    "source = urllib.request.urlopen(f)\n",
    "# quote_page = 'https://www.bloomberg.com/markets/stocks'\n",
    "# source = r.get(quote_page, headers={\"user-agent\": \"Mozilla/80.0\"})"
   ]
  },
  {
   "cell_type": "code",
   "execution_count": 14,
   "metadata": {},
   "outputs": [],
   "source": [
    "# page_data = soup(data.text, 'html5lib')"
   ]
  },
  {
   "cell_type": "code",
   "execution_count": 15,
   "metadata": {},
   "outputs": [],
   "source": [
    "# headers = requests.utils.default_headers()\n",
    "# headers: {\n",
    "#     'accept': 'text/html,application/xhtml+xml,application/xml;q=0.9,image/webp,image/apng,*/*;q=0.8',\n",
    "#     'accept-encoding': 'gzip, deflate, br',\n",
    "#     'accept-language': 'en-US,en;q=0.9,fr;q=0.8,ro;q=0.7,ru;q=0.6,la;q=0.5,pt;q=0.4,de;q=0.3',\n",
    "#     'cache-control': 'max-age=0',\n",
    "#     'upgrade-insecure-requests': '1',\n",
    "#     'user-agent': 'Mozilla/5.0 (Macintosh; Intel Mac OS X 10_13_6) AppleWebKit/537.36 (KHTML, like Gecko) Chrome/67.0.3396.99 Safari/537.36'\n",
    "# }"
   ]
  },
  {
   "cell_type": "code",
   "execution_count": 16,
   "metadata": {},
   "outputs": [],
   "source": [
    "soup = bs.BeautifulSoup(source,'html.parser')"
   ]
  },
  {
   "cell_type": "code",
   "execution_count": 17,
   "metadata": {},
   "outputs": [],
   "source": [
    "soup.find('div', class_='price-content')\n",
    "# soup.prettify"
   ]
  },
  {
   "cell_type": "code",
   "execution_count": 18,
   "metadata": {},
   "outputs": [
    {
     "name": "stdout",
     "output_type": "stream",
     "text": [
      "<title>Bloomberg - Are you a robot?</title>\n",
      "title\n",
      "Bloomberg - Are you a robot?\n",
      "head\n"
     ]
    }
   ],
   "source": [
    "# title of the page\n",
    "print(soup.title)\n",
    "\n",
    "# get attributes:\n",
    "print(soup.title.name)\n",
    "\n",
    "# get values:\n",
    "print(soup.title.string)\n",
    "\n",
    "# beginning navigation:\n",
    "print(soup.title.parent.name)\n",
    "\n",
    "# getting specific values:\n",
    "# print(soup.p)\n",
    "\n",
    "# print(soup.headers)\n",
    "\n",
    "# print(soup.content)\n",
    "\n",
    "# print(soup.find('p',id=\"bDescTeaser\"))"
   ]
  },
  {
   "cell_type": "code",
   "execution_count": 19,
   "metadata": {},
   "outputs": [],
   "source": [
    "# # print(soup.findAll('tr'))[14]\n",
    "# brent = soup.findAll('tr')\n",
    "# BloomPrice = float(re.search(re.compile (r'\\d+\\.\\d*'),str(soup.findAll('tr').contents)).group())"
   ]
  },
  {
   "cell_type": "code",
   "execution_count": 20,
   "metadata": {},
   "outputs": [],
   "source": [
    "prices = soup.find_all(class_='priceText__1853e8a5')\n",
    "# prices[0].text"
   ]
  },
  {
   "cell_type": "code",
   "execution_count": 21,
   "metadata": {},
   "outputs": [
    {
     "name": "stdout",
     "output_type": "stream",
     "text": [
      "To continue, please click the box below to let us know you're not a robot.\n",
      "To continue, please click the box below to let us know you're not a robot.\n",
      "None\n",
      "Please make sure your browser supports JavaScript and cookies and that you are not\n",
      "            blocking them from loading.\n",
      "            For more information you can review our Terms of\n",
      "                Service and Cookie Policy.\n",
      "None\n",
      "For inquiries related to this message please contact\n",
      "            our support team and provide the reference ID below.\n"
     ]
    }
   ],
   "source": [
    "for paragraph in soup.findAll('p'):\n",
    "    print(paragraph.string)\n",
    "    print(str(paragraph.text))"
   ]
  },
  {
   "cell_type": "code",
   "execution_count": 22,
   "metadata": {},
   "outputs": [],
   "source": [
    "# bloomberg = soup.get_text()\n",
    "# print(bloomberg)\n",
    "# brent = soup.find('tr')\n",
    "# str(brent.text)"
   ]
  },
  {
   "cell_type": "code",
   "execution_count": 23,
   "metadata": {},
   "outputs": [],
   "source": [
    "# import requests\n",
    "# from bs4 import BeautifulSoup\n",
    "\n",
    "# response = requests.get('https://www.bloomberg.com/quote/SPX:IND')\n",
    "# soup = BeautifulSoup(response.text, 'lxml')\n",
    "# price = soup.select_one('.price')\n",
    "# print(soup.select_one('.price'))"
   ]
  },
  {
   "cell_type": "code",
   "execution_count": 24,
   "metadata": {},
   "outputs": [],
   "source": [
    "# from bs4 import BeautifulSoup\n",
    "# from requests import Session\n",
    "\n",
    "# session = Session()\n",
    "# session.headers['user-agent'] = (\n",
    "#     'Mozilla/5.0 (Windows NT 10.0; Win64; x64) '\n",
    "#     'AppleWebKit/537.36 (KHTML, like Gecko) Chrome/'\n",
    "#     '66.0.3359.181 Safari/537.36'\n",
    "# )\n",
    "\n",
    "# quote_page = 'https://www.bloomberg.com/quote/SPX:IND'\n",
    "\n",
    "# page= session.get(quote_page)\n",
    "\n",
    "# soup = BeautifulSoup(page.text, 'html.parser')\n",
    "\n",
    "# price_box = soup.find('meta', itemprop=\"price\")\n",
    "\n",
    "# price = float(price_box)\n",
    "\n",
    "# print(price)"
   ]
  },
  {
   "cell_type": "code",
   "execution_count": 25,
   "metadata": {},
   "outputs": [],
   "source": [
    "# import csv\n",
    "# from bs4 import BeautifulSoup\n",
    "# import requests\n",
    "\n",
    "# url = 'https://www.bloomberg.com/markets/stocks'\n",
    "# headers = ('Name', 'Value', 'Net Change', '% Change' '1 Month', '1 Year', 'Time (EDT)')\n",
    "\n",
    "# r = requests.get(url)\n",
    "# soup = BeautifulSoup(r.text, 'lxml')\n",
    "\n",
    "# trs = soup.select('.data-table-body > tr')\n",
    "\n",
    "# print(trs)\n",
    "\n",
    "\n",
    "# # with open('data.csv', 'w') as outcsv:\n",
    "# #     writer = csv.writer(outcsv)\n",
    "# #     writer.writerow(headers)\n",
    "\n",
    "# #     for tr in trs:\n",
    "# #         tds = tr.find_all('td')[:7]\n",
    "# #         tds[0].select_one('[data-type=\"abbreviation\"]').decompose()  # optional\n",
    "\n",
    "# #         content = [td.text.strip() for td in tds]\n",
    "# #         writer.writerow(content)"
   ]
  },
  {
   "cell_type": "code",
   "execution_count": 26,
   "metadata": {},
   "outputs": [],
   "source": [
    "# import requests\n",
    "# from bs4 import BeautifulSoup as bs\n",
    "\n",
    "# quote_page ='https://www.bloomberg.com/quote/SPX:IND'\n",
    "# page = requests.get(quote_page, headers = {'User-Agent':'Mozilla/5.0', 'accept-language':'en-US,en;q=0.9'})\n",
    "# soup = bs(page.content,'lxml')\n",
    "# name_box = soup.select_one('[class^=companyName]')\n",
    "# name = name_box\n",
    "# print(soup.select_one('[class^=companyName]'))"
   ]
  },
  {
   "cell_type": "code",
   "execution_count": 27,
   "metadata": {},
   "outputs": [],
   "source": [
    "# # get the index price\n",
    "# price_box = soup.find('div', attrs={'class':'price'})\n",
    "# price = price_box.text\n",
    "# print(price)"
   ]
  }
 ],
 "metadata": {
  "kernelspec": {
   "display_name": "Python 3 (ipykernel)",
   "language": "python",
   "name": "python3"
  },
  "language_info": {
   "codemirror_mode": {
    "name": "ipython",
    "version": 3
   },
   "file_extension": ".py",
   "mimetype": "text/x-python",
   "name": "python",
   "nbconvert_exporter": "python",
   "pygments_lexer": "ipython3",
   "version": "3.9.7"
  }
 },
 "nbformat": 4,
 "nbformat_minor": 4
}
