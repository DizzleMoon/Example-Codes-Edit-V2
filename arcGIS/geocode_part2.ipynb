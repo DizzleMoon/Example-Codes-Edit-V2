{
 "cells": [
  {
   "cell_type": "code",
   "execution_count": 1,
   "metadata": {},
   "outputs": [],
   "source": [
    "from arcgis.geocoding import geocode\n",
    "from arcgis.gis import GIS"
   ]
  },
  {
   "cell_type": "code",
   "execution_count": 2,
   "metadata": {},
   "outputs": [],
   "source": [
    "gis = GIS('https://www.arcgis.com', 'arcgis_py', 'Gs#4Dp1o!')"
   ]
  },
  {
   "cell_type": "code",
   "execution_count": 3,
   "metadata": {},
   "outputs": [],
   "source": [
    "address = \"Liverpool\""
   ]
  },
  {
   "cell_type": "code",
   "execution_count": 4,
   "metadata": {},
   "outputs": [
    {
     "data": {
      "application/vnd.jupyter.widget-view+json": {
       "model_id": "6e4d80c4338e41f3974965e64a068f12",
       "version_major": 2,
       "version_minor": 0
      },
      "text/plain": [
       "MapView(layout=Layout(height='400px', width='100%'))"
      ]
     },
     "metadata": {},
     "output_type": "display_data"
    },
    {
     "data": {
      "text/html": [
       "<div class=\"map-static-img-preview-3fcc3725-c9c8-4f0b-badb-ad1d82262834\"><img src=\"\"></img></div>"
      ],
      "text/plain": [
       "<IPython.core.display.HTML object>"
      ]
     },
     "metadata": {},
     "output_type": "display_data"
    },
    {
     "data": {
      "text/html": [
       "<div class=\"map-html-embed-preview-3fcc3725-c9c8-4f0b-badb-ad1d82262834\"></div>"
      ],
      "text/plain": [
       "<IPython.core.display.HTML object>"
      ]
     },
     "metadata": {},
     "output_type": "display_data"
    }
   ],
   "source": [
    "map1 = gis.map(\"United Kingdom\", 6)\n",
    "map1"
   ]
  },
  {
   "cell_type": "code",
   "execution_count": 5,
   "metadata": {},
   "outputs": [],
   "source": [
    "liverpool = geocode(address)[0]"
   ]
  },
  {
   "cell_type": "code",
   "execution_count": 6,
   "metadata": {},
   "outputs": [],
   "source": [
    "map1.draw(liverpool['location'])"
   ]
  },
  {
   "cell_type": "code",
   "execution_count": 7,
   "metadata": {},
   "outputs": [],
   "source": [
    "address = {\n",
    "    \"Address\" : \"Liverpool\",\n",
    "    \"Region\" : \"NY\"\n",
    "}"
   ]
  },
  {
   "cell_type": "code",
   "execution_count": 8,
   "metadata": {},
   "outputs": [
    {
     "data": {
      "application/vnd.jupyter.widget-view+json": {
       "model_id": "0ac2b0240fab4981ba05e41b0073d998",
       "version_major": 2,
       "version_minor": 0
      },
      "text/plain": [
       "MapView(layout=Layout(height='400px', width='100%'))"
      ]
     },
     "metadata": {},
     "output_type": "display_data"
    },
    {
     "data": {
      "text/html": [
       "<div class=\"map-static-img-preview-c925c1c9-0846-45d0-b9e8-81cd6dab4317\"><img src=\"\"></img></div>"
      ],
      "text/plain": [
       "<IPython.core.display.HTML object>"
      ]
     },
     "metadata": {},
     "output_type": "display_data"
    },
    {
     "data": {
      "text/html": [
       "<div class=\"map-html-embed-preview-c925c1c9-0846-45d0-b9e8-81cd6dab4317\"></div>"
      ],
      "text/plain": [
       "<IPython.core.display.HTML object>"
      ]
     },
     "metadata": {},
     "output_type": "display_data"
    }
   ],
   "source": [
    "map2 = gis.map(\"Onondaga County, New York, United States\")\n",
    "map2"
   ]
  },
  {
   "cell_type": "code",
   "execution_count": 9,
   "metadata": {},
   "outputs": [],
   "source": [
    "liverpool = geocode(address)[0]\n",
    "map2.draw(liverpool['location'])"
   ]
  },
  {
   "cell_type": "code",
   "execution_count": 10,
   "metadata": {},
   "outputs": [],
   "source": [
    "landmarks = [\"Mt. Everest\", \"Eiffel Tower\", \"Statue of Liberty\"]"
   ]
  },
  {
   "cell_type": "code",
   "execution_count": 11,
   "metadata": {},
   "outputs": [
    {
     "data": {
      "application/vnd.jupyter.widget-view+json": {
       "model_id": "9acfb2f3c36c429d8546d1224238a531",
       "version_major": 2,
       "version_minor": 0
      },
      "text/plain": [
       "MapView(layout=Layout(height='400px', width='100%'))"
      ]
     },
     "metadata": {},
     "output_type": "display_data"
    },
    {
     "data": {
      "text/html": [
       "<div class=\"map-static-img-preview-ad4f1166-6be6-4682-be8b-6bda9c50a2a2\"><img src=\"\"></img></div>"
      ],
      "text/plain": [
       "<IPython.core.display.HTML object>"
      ]
     },
     "metadata": {},
     "output_type": "display_data"
    },
    {
     "data": {
      "text/html": [
       "<div class=\"map-html-embed-preview-ad4f1166-6be6-4682-be8b-6bda9c50a2a2\"></div>"
      ],
      "text/plain": [
       "<IPython.core.display.HTML object>"
      ]
     },
     "metadata": {},
     "output_type": "display_data"
    }
   ],
   "source": [
    "map4 = gis.map()\n",
    "map4"
   ]
  },
  {
   "cell_type": "code",
   "execution_count": 12,
   "metadata": {},
   "outputs": [],
   "source": [
    "#% Draw. Revise\n",
    "for lm in landmarks:\n",
    "    lm_res = geocode(lm)[0]\n",
    "    map4.draw(lm_res['location'])\n"
   ]
  },
  {
   "cell_type": "code",
   "execution_count": 13,
   "metadata": {},
   "outputs": [],
   "source": [
    "address = {\n",
    "    \"Postal\" : 110001,\n",
    "    \"CountryCode\" : \"India\"\n",
    "}"
   ]
  },
  {
   "cell_type": "code",
   "execution_count": 14,
   "metadata": {},
   "outputs": [
    {
     "data": {
      "application/vnd.jupyter.widget-view+json": {
       "model_id": "6aa99966a79c4004a925c6e086057490",
       "version_major": 2,
       "version_minor": 0
      },
      "text/plain": [
       "MapView(layout=Layout(height='400px', width='100%'))"
      ]
     },
     "metadata": {},
     "output_type": "display_data"
    },
    {
     "data": {
      "text/html": [
       "<div class=\"map-static-img-preview-dfe951c7-51d0-4dee-b852-d830df912d60\"><img src=\"\"></img></div>"
      ],
      "text/plain": [
       "<IPython.core.display.HTML object>"
      ]
     },
     "metadata": {},
     "output_type": "display_data"
    },
    {
     "data": {
      "text/html": [
       "<div class=\"map-html-embed-preview-dfe951c7-51d0-4dee-b852-d830df912d60\"></div>"
      ],
      "text/plain": [
       "<IPython.core.display.HTML object>"
      ]
     },
     "metadata": {},
     "output_type": "display_data"
    }
   ],
   "source": [
    "map3 = gis.map(\"New Delhi, India\")\n",
    "map3"
   ]
  },
  {
   "cell_type": "code",
   "execution_count": 15,
   "metadata": {},
   "outputs": [],
   "source": [
    "pincode = geocode(address)[0]\n",
    "map3.draw(pincode['location'])"
   ]
  },
  {
   "cell_type": "code",
   "execution_count": 16,
   "metadata": {},
   "outputs": [
    {
     "data": {
      "text/plain": [
       "{'Loc_name': 'World',\n",
       " 'Status': 'M',\n",
       " 'Score': 100,\n",
       " 'Match_addr': '110001',\n",
       " 'LongLabel': '110001, New Delhi, Delhi, IND',\n",
       " 'ShortLabel': '110001',\n",
       " 'Addr_type': 'Postal',\n",
       " 'Type': '',\n",
       " 'PlaceName': '110001',\n",
       " 'Place_addr': 'New Delhi, Delhi, 110001',\n",
       " 'Phone': '',\n",
       " 'URL': '',\n",
       " 'Rank': 5,\n",
       " 'AddBldg': '',\n",
       " 'AddNum': '',\n",
       " 'AddNumFrom': '',\n",
       " 'AddNumTo': '',\n",
       " 'AddRange': '',\n",
       " 'Side': '',\n",
       " 'StPreDir': '',\n",
       " 'StPreType': '',\n",
       " 'StName': '',\n",
       " 'StType': '',\n",
       " 'StDir': '',\n",
       " 'BldgType': '',\n",
       " 'BldgName': '',\n",
       " 'LevelType': '',\n",
       " 'LevelName': '',\n",
       " 'UnitType': '',\n",
       " 'UnitName': '',\n",
       " 'SubAddr': '',\n",
       " 'StAddr': '',\n",
       " 'Block': '',\n",
       " 'Sector': '',\n",
       " 'Nbrhd': '',\n",
       " 'District': '',\n",
       " 'City': 'New Delhi',\n",
       " 'MetroArea': '',\n",
       " 'Subregion': 'New Delhi',\n",
       " 'Region': 'Delhi',\n",
       " 'RegionAbbr': 'DL',\n",
       " 'Territory': '',\n",
       " 'Zone': '',\n",
       " 'Postal': '110001',\n",
       " 'PostalExt': '',\n",
       " 'Country': 'IND',\n",
       " 'CntryName': 'India',\n",
       " 'LangCode': 'ENG',\n",
       " 'Distance': 0,\n",
       " 'X': 77.21866000000006,\n",
       " 'Y': 28.623395000000073,\n",
       " 'DisplayX': 77.21866000000006,\n",
       " 'DisplayY': 28.623395000000073,\n",
       " 'Xmin': 77.18466000000005,\n",
       " 'Xmax': 77.25266000000006,\n",
       " 'Ymin': 28.589395000000074,\n",
       " 'Ymax': 28.657395000000072,\n",
       " 'ExInfo': ''}"
      ]
     },
     "execution_count": 16,
     "metadata": {},
     "output_type": "execute_result"
    }
   ],
   "source": [
    "pincode['attributes']"
   ]
  },
  {
   "cell_type": "code",
   "execution_count": 17,
   "metadata": {},
   "outputs": [],
   "source": [
    "categories = \"Indian Food, Thai Food\""
   ]
  },
  {
   "cell_type": "code",
   "execution_count": 18,
   "metadata": {},
   "outputs": [
    {
     "data": {
      "application/vnd.jupyter.widget-view+json": {
       "model_id": "cc88bdb1a7f14823a65ee08481dc6de3",
       "version_major": 2,
       "version_minor": 0
      },
      "text/plain": [
       "MapView(layout=Layout(height='400px', width='100%'))"
      ]
     },
     "metadata": {},
     "output_type": "display_data"
    },
    {
     "data": {
      "text/html": [
       "<div class=\"map-static-img-preview-345c1068-c522-4910-ab49-19988ebe8642\"><img src=\"\"></img></div>"
      ],
      "text/plain": [
       "<IPython.core.display.HTML object>"
      ]
     },
     "metadata": {},
     "output_type": "display_data"
    },
    {
     "data": {
      "text/html": [
       "<div class=\"map-html-embed-preview-345c1068-c522-4910-ab49-19988ebe8642\"></div>"
      ],
      "text/plain": [
       "<IPython.core.display.HTML object>"
      ]
     },
     "metadata": {},
     "output_type": "display_data"
    }
   ],
   "source": [
    "dtla = geocode(\"Downtown, Los Angeles, CA\")[0]\n",
    "\n",
    "map5 = gis.map(dtla)\n",
    "map5"
   ]
  },
  {
   "cell_type": "code",
   "execution_count": 19,
   "metadata": {},
   "outputs": [],
   "source": [
    "# find and plot up to 100 Indian and Thai restaurants in DTLA\n",
    "restaurants = geocode(None, dtla['extent'], category=categories, max_locations=100)"
   ]
  },
  {
   "cell_type": "code",
   "execution_count": 20,
   "metadata": {},
   "outputs": [],
   "source": [
    "thai_symbol = {\n",
    "\"type\": \"esriSMS\",\n",
    " \"style\": \"esriSMSSquare\",\n",
    " \"color\": [76,115,0,255],\n",
    " \"size\": 8,\n",
    " \"angle\": 0,\n",
    " \"xoffset\": 0,\n",
    " \"yoffset\": 0,\n",
    " \"outline\": \n",
    "  {\n",
    "  \"color\": [152,230,0,255],\n",
    "   \"width\": 1\n",
    "  }\n",
    "}\n",
    "\n",
    "indian_symbol = {\n",
    "\"type\": \"esriSMS\",\n",
    " \"style\": \"esriSMSCircle\",\n",
    " \"color\": [115,0,76,255],\n",
    " \"size\": 8,\n",
    " \"angle\": 0,\n",
    " \"xoffset\": 0,\n",
    " \"yoffset\": 0,\n",
    " \"outline\": \n",
    "  {\n",
    "  \"color\": [152,230,0,255],\n",
    "   \"width\": 1\n",
    "  }\n",
    "}\n",
    "\n",
    "for restaurant in restaurants:\n",
    "    popup = { \n",
    "    \"title\" : restaurant['address'], \n",
    "    \"content\" : \"Phone: \" + restaurant['attributes']['Phone']\n",
    "        }\n",
    "    if restaurant['attributes']['Type'] == 'Thai Food':\n",
    "        map5.draw(restaurant['location'], popup, thai_symbol) # use a green square symbol for Thai food\n",
    "    else:\n",
    "        map5.draw(restaurant['location'], popup, indian_symbol)"
   ]
  },
  {
   "cell_type": "code",
   "execution_count": 21,
   "metadata": {},
   "outputs": [
    {
     "data": {
      "application/vnd.jupyter.widget-view+json": {
       "model_id": "d6b30b9b320d4776a2a40a43ff6f22ef",
       "version_major": 2,
       "version_minor": 0
      },
      "text/plain": [
       "MapView(layout=Layout(height='400px', width='100%'))"
      ]
     },
     "metadata": {},
     "output_type": "display_data"
    },
    {
     "data": {
      "text/html": [
       "<div class=\"map-static-img-preview-88104ad4-6808-436e-bd49-c78321de7776\"><img src=\"\"></img></div>"
      ],
      "text/plain": [
       "<IPython.core.display.HTML object>"
      ]
     },
     "metadata": {},
     "output_type": "display_data"
    },
    {
     "data": {
      "text/html": [
       "<div class=\"map-html-embed-preview-88104ad4-6808-436e-bd49-c78321de7776\"></div>"
      ],
      "text/plain": [
       "<IPython.core.display.HTML object>"
      ]
     },
     "metadata": {},
     "output_type": "display_data"
    }
   ],
   "source": [
    "map6 = gis.map()\n",
    "map6.extent = {  'spatialReference': {'latestWkid': 3857, 'wkid': 102100},\n",
    "                 'xmin': -8235706.664189668,\n",
    "                 'ymin': 4977993.551288029,\n",
    "                 'xmax': -8233351.448255569,\n",
    "                 'ymax': 4978949.014141619}\n",
    "map6"
   ]
  },
  {
   "cell_type": "code",
   "execution_count": 22,
   "metadata": {},
   "outputs": [],
   "source": [
    "\n",
    "from arcgis.geometry import Polygon, project, Geometry"
   ]
  },
  {
   "cell_type": "code",
   "execution_count": 23,
   "metadata": {},
   "outputs": [],
   "source": [
    "# Define the callback function that search within the area.\n",
    "drawn_polygon = None\n",
    "\n",
    "def find_restaurants(map1, g):\n",
    "    global drawn_polygon\n",
    "    drawn_polygon = g\n",
    "    \n",
    "    print(\"Searching within the area of drawn polygon...\")\n",
    "    search_area = Polygon(g)\n",
    "    search_area_extent = { 'xmin': search_area.extent[0],\n",
    "                           'ymin': search_area.extent[1],\n",
    "                           'xmax': search_area.extent[2],\n",
    "                           'ymax': search_area.extent[3],\n",
    "                           'spatialReference': {'latestWkid': 3857, 'wkid': 102100}}\n",
    "    print(search_area_extent)\n",
    "    \n",
    "    restaurants = geocode(None, search_extent=search_area_extent, category=\"Food\", max_locations=10)\n",
    "    for restaurant in restaurants:\n",
    "        popup = { \n",
    "                    \"title\" : restaurant['address'], \n",
    "                    \"content\" : \"Phone: \" + restaurant['attributes']['Phone']\n",
    "                }\n",
    "        map1.draw(restaurant['location'], popup)\n",
    "        print(restaurant['address'])\n",
    "\n",
    "# Set as the callback function to be invoked when a polygon is drawn on the map\n",
    "map6.on_draw_end(find_restaurants)"
   ]
  },
  {
   "cell_type": "code",
   "execution_count": 24,
   "metadata": {},
   "outputs": [
    {
     "data": {
      "application/vnd.jupyter.widget-view+json": {
       "model_id": "d6b30b9b320d4776a2a40a43ff6f22ef",
       "version_major": 2,
       "version_minor": 0
      },
      "text/plain": [
       "MapView(layout=Layout(height='400px', width='100%'))"
      ]
     },
     "metadata": {},
     "output_type": "display_data"
    },
    {
     "data": {
      "text/html": [
       "<div class=\"map-static-img-preview-88104ad4-6808-436e-bd49-c78321de7776\"><img src=\"\"></img></div>"
      ],
      "text/plain": [
       "<IPython.core.display.HTML object>"
      ]
     },
     "metadata": {},
     "output_type": "display_data"
    },
    {
     "data": {
      "text/html": [
       "<div class=\"map-html-embed-preview-88104ad4-6808-436e-bd49-c78321de7776\"></div>"
      ],
      "text/plain": [
       "<IPython.core.display.HTML object>"
      ]
     },
     "metadata": {},
     "output_type": "display_data"
    }
   ],
   "source": [
    "# Either use the geometry defined below\n",
    "\"\"\"\n",
    "search_area_dict = {'type': 'Polygon', 'coordinates': [[[-73.95949251594702, 40.763214654993785], \n",
    "                                                    [-73.97567231593547, 40.74551709428493], \n",
    "                                                    [-74.00064117977167, 40.76103030464491],\n",
    "                                                    [-73.95949251594702, 40.763214654993785]]]}\n",
    "\n",
    "search_area = Geometry(search_area_dict)\n",
    "\"\"\"\n",
    "# Or draw your own polygon\n",
    "map6.draw(\"polygon\")\n",
    "map6"
   ]
  },
  {
   "cell_type": "code",
   "execution_count": 25,
   "metadata": {},
   "outputs": [
    {
     "data": {
      "text/plain": [
       "<FeatureSet> 20 features"
      ]
     },
     "execution_count": 25,
     "metadata": {},
     "output_type": "execute_result"
    }
   ],
   "source": [
    "esrihq_fset = geocode(\"Esri\", as_featureset=True)\n",
    "esrihq_fset\n"
   ]
  },
  {
   "cell_type": "code",
   "execution_count": 26,
   "metadata": {},
   "outputs": [
    {
     "data": {
      "text/plain": [
       "'{\"x\": -117.19569523299998, \"y\": 34.05608640000003, \"spatialReference\": {\"wkid\": 4326, \"latestWkid\": 4326}}'"
      ]
     },
     "execution_count": 26,
     "metadata": {},
     "output_type": "execute_result"
    }
   ],
   "source": [
    "\n",
    "esri_geom = esrihq_fset.features[0]\n",
    "esri_geom.geometry.JSON"
   ]
  },
  {
   "cell_type": "code",
   "execution_count": 27,
   "metadata": {},
   "outputs": [],
   "source": [
    "from arcgis.features import Feature, FeatureSet\n",
    "from arcgis.geometry import buffer"
   ]
  },
  {
   "cell_type": "code",
   "execution_count": 28,
   "metadata": {},
   "outputs": [
    {
     "data": {
      "text/plain": [
       "<FeatureSet> 1 features"
      ]
     },
     "execution_count": 28,
     "metadata": {},
     "output_type": "execute_result"
    }
   ],
   "source": [
    "esri_buffer = buffer([esri_geom.geometry], \n",
    "                     in_sr = 102100, buffer_sr=102100,\n",
    "                     distances=0.1, unit=9001)[0]\n",
    "\n",
    "esri_buffer_f = Feature(geometry=esri_buffer)\n",
    "esri_buffer_fset = FeatureSet([esri_buffer_f])\n",
    "esri_buffer_fset"
   ]
  },
  {
   "cell_type": "code",
   "execution_count": 29,
   "metadata": {},
   "outputs": [],
   "source": [
    "\n",
    "# need to change the `type` from `MultiPolygon` to `Polygon`\n",
    "esri_buffer_f_geom_dict = {\"type\": \"Polygon\", \n",
    "                           \"coordinates\":  esri_buffer_f.geometry.coordinates().tolist()}"
   ]
  },
  {
   "cell_type": "code",
   "execution_count": 30,
   "metadata": {},
   "outputs": [
    {
     "data": {
      "application/vnd.jupyter.widget-view+json": {
       "model_id": "dd263bf5206e45668d3be66c437517fe",
       "version_major": 2,
       "version_minor": 0
      },
      "text/plain": [
       "MapView(layout=Layout(height='400px', width='100%'))"
      ]
     },
     "metadata": {},
     "output_type": "display_data"
    },
    {
     "data": {
      "text/html": [
       "<div class=\"map-static-img-preview-76f4e898-d0dd-4792-a8ff-b94f5b678a23\"><img src=\"\"></img></div>"
      ],
      "text/plain": [
       "<IPython.core.display.HTML object>"
      ]
     },
     "metadata": {},
     "output_type": "display_data"
    },
    {
     "data": {
      "text/html": [
       "<div class=\"map-html-embed-preview-76f4e898-d0dd-4792-a8ff-b94f5b678a23\"></div>"
      ],
      "text/plain": [
       "<IPython.core.display.HTML object>"
      ]
     },
     "metadata": {},
     "output_type": "display_data"
    }
   ],
   "source": [
    "\n",
    "map7 = gis.map(\"Redlands, CA\")\n",
    "map7.basemap='gray'\n",
    "map7"
   ]
  },
  {
   "cell_type": "code",
   "execution_count": 31,
   "metadata": {},
   "outputs": [
    {
     "data": {
      "text/plain": [
       "(-117.29569523299998,\n",
       " 33.956086400000025,\n",
       " -117.09569523299999,\n",
       " 34.15608640000003)"
      ]
     },
     "execution_count": 31,
     "metadata": {},
     "output_type": "execute_result"
    }
   ],
   "source": [
    "esri_buffer_geom = Geometry(esri_buffer_f_geom_dict)\n",
    "esri_buffer_geom.extent"
   ]
  },
  {
   "cell_type": "code",
   "execution_count": 32,
   "metadata": {},
   "outputs": [],
   "source": [
    "fill_symbol = {\"type\": \"esriSFS\",\n",
    "               \"style\": \"esriSFSNull\",\n",
    "               \"outline\":{\"color\": [0,0,0,255]}}\n",
    "map7.draw(esri_buffer_geom, symbol=fill_symbol)"
   ]
  },
  {
   "cell_type": "code",
   "execution_count": 33,
   "metadata": {},
   "outputs": [],
   "source": [
    "house_symbol = {\"angle\":0,\"xoffset\":0,\"yoffset\":0,\"type\":\"esriPMS\",\n",
    "                \"url\":\"http://static.arcgis.com/images/Symbols/Shapes/RedStarLargeB.png\",\n",
    "                \"contentType\":\"image/png\",\"width\":24,\"height\":24}\n",
    "map7.draw(esri_geom.geometry, symbol=house_symbol)"
   ]
  },
  {
   "cell_type": "code",
   "execution_count": 34,
   "metadata": {},
   "outputs": [
    {
     "data": {
      "text/plain": [
       "6"
      ]
     },
     "execution_count": 34,
     "metadata": {},
     "output_type": "execute_result"
    }
   ],
   "source": [
    "search_area_extent = { 'xmin': esri_buffer_geom.extent[0],\n",
    "                       'ymin': esri_buffer_geom.extent[1],\n",
    "                       'xmax': esri_buffer_geom.extent[2],\n",
    "                       'ymax': esri_buffer_geom.extent[3],\n",
    "                       'spatialReference': {'latestWkid': 4326, 'wkid': 102100}}\n",
    "\n",
    "hospitals = geocode('hospital', search_extent=search_area_extent, max_locations=50)\n",
    "len(hospitals)"
   ]
  },
  {
   "cell_type": "code",
   "execution_count": 35,
   "metadata": {},
   "outputs": [],
   "source": [
    "hospital_symbol = {\"angle\":0,\"xoffset\":0,\"yoffset\":0,\"type\":\"esriPMS\",\n",
    "                   \"url\":\"http://static.arcgis.com/images/Symbols/SafetyHealth/Hospital.png\",\n",
    "                   \"contentType\":\"image/png\",\"width\":24,\"height\":24}"
   ]
  },
  {
   "cell_type": "code",
   "execution_count": 36,
   "metadata": {},
   "outputs": [],
   "source": [
    "neighborhood_data_dict = {}\n",
    "neighborhood_data_dict['hospitals'] = []\n",
    "\n",
    "for place in hospitals:\n",
    "    popup={\"title\" : place['attributes']['PlaceName'], \n",
    "    \"content\" : place['attributes']['Place_addr']}\n",
    "    map7.draw(place['location'], symbol=hospital_symbol, popup=popup)\n",
    "    neighborhood_data_dict['hospitals'].append(place['attributes']['PlaceName'])"
   ]
  },
  {
   "cell_type": "code",
   "execution_count": 37,
   "metadata": {},
   "outputs": [
    {
     "name": "stdout",
     "output_type": "stream",
     "text": [
      "{'x': -117.27639999999997, 'y': 34.13462000000004, 'type': 'point', 'spatialReference': {'wkid': 4326}}\n",
      "{'x': -117.27727999999996, 'y': 34.13429000000008, 'type': 'point', 'spatialReference': {'wkid': 4326}}\n",
      "{'x': -117.20486999999997, 'y': 34.03696000000008, 'type': 'point', 'spatialReference': {'wkid': 4326}}\n",
      "{'x': -117.20439999999996, 'y': 34.03624000000008, 'type': 'point', 'spatialReference': {'wkid': 4326}}\n",
      "{'x': -117.26324001673439, 'y': 34.0497600366438, 'type': 'point', 'spatialReference': {'wkid': 4326}}\n",
      "{'x': -117.26249999999999, 'y': 34.048730000000035, 'type': 'point', 'spatialReference': {'wkid': 4326}}\n"
     ]
    }
   ],
   "source": [
    "\n",
    "for place in hospitals:\n",
    "    print(place[\"location\"])"
   ]
  },
  {
   "cell_type": "code",
   "execution_count": 38,
   "metadata": {},
   "outputs": [],
   "source": [
    "from arcgis.geometry import Point, distance\n",
    "\n",
    "neighborhood_data_dict['distance'] = []\n",
    "\n",
    "for place in hospitals:\n",
    "    dis = distance(      spatial_ref=4326, \n",
    "                         geometry1=Point(place[\"location\"]), \n",
    "                         geometry2=esri_geom.geometry, \n",
    "                         geodesic=False, \n",
    "                         gis=gis)\n",
    "    neighborhood_data_dict['distance'].append(dis['distance'])"
   ]
  },
  {
   "cell_type": "code",
   "execution_count": 39,
   "metadata": {},
   "outputs": [
    {
     "data": {
      "text/html": [
       "<div>\n",
       "<style scoped>\n",
       "    .dataframe tbody tr th:only-of-type {\n",
       "        vertical-align: middle;\n",
       "    }\n",
       "\n",
       "    .dataframe tbody tr th {\n",
       "        vertical-align: top;\n",
       "    }\n",
       "\n",
       "    .dataframe thead th {\n",
       "        text-align: right;\n",
       "    }\n",
       "</style>\n",
       "<table border=\"1\" class=\"dataframe\">\n",
       "  <thead>\n",
       "    <tr style=\"text-align: right;\">\n",
       "      <th></th>\n",
       "      <th>hospitals</th>\n",
       "      <th>distance</th>\n",
       "    </tr>\n",
       "  </thead>\n",
       "  <tbody>\n",
       "    <tr>\n",
       "      <th>0</th>\n",
       "      <td>St Bernardine Medical Center</td>\n",
       "      <td>0.112609</td>\n",
       "    </tr>\n",
       "    <tr>\n",
       "      <th>1</th>\n",
       "      <td>St Bernardine Medical Center-ER</td>\n",
       "      <td>0.113013</td>\n",
       "    </tr>\n",
       "    <tr>\n",
       "      <th>2</th>\n",
       "      <td>Redlands Community Hospital</td>\n",
       "      <td>0.021213</td>\n",
       "    </tr>\n",
       "    <tr>\n",
       "      <th>3</th>\n",
       "      <td>Redlands Community Hospital-ER</td>\n",
       "      <td>0.021671</td>\n",
       "    </tr>\n",
       "    <tr>\n",
       "      <th>4</th>\n",
       "      <td>Loma Linda University Medical Center</td>\n",
       "      <td>0.06784</td>\n",
       "    </tr>\n",
       "    <tr>\n",
       "      <th>5</th>\n",
       "      <td>Loma Linda University Medical Center-ER</td>\n",
       "      <td>0.067209</td>\n",
       "    </tr>\n",
       "  </tbody>\n",
       "</table>\n",
       "</div>"
      ],
      "text/plain": [
       "                                 hospitals  distance\n",
       "0             St Bernardine Medical Center  0.112609\n",
       "1          St Bernardine Medical Center-ER  0.113013\n",
       "2              Redlands Community Hospital  0.021213\n",
       "3           Redlands Community Hospital-ER  0.021671\n",
       "4     Loma Linda University Medical Center   0.06784\n",
       "5  Loma Linda University Medical Center-ER  0.067209"
      ]
     },
     "execution_count": 39,
     "metadata": {},
     "output_type": "execute_result"
    }
   ],
   "source": [
    "import pandas as pd\n",
    "neighborhood_df = pd.DataFrame.from_dict(neighborhood_data_dict, orient='index')\n",
    "neighborhood_df = neighborhood_df.transpose()\n",
    "neighborhood_df"
   ]
  },
  {
   "cell_type": "code",
   "execution_count": 40,
   "metadata": {},
   "outputs": [
    {
     "data": {
      "image/png": "[encoded data removed]",
      "text/plain": [
       "<Figure size 432x288 with 1 Axes>"
      ]
     },
     "metadata": {
      "needs_background": "light"
     },
     "output_type": "display_data"
    }
   ],
   "source": [
    "import matplotlib.pyplot as plt \n",
    "fig = plt.figure()\n",
    "ax = fig.add_axes([0,0,1,1])\n",
    "addrs = neighborhood_data_dict[\"hospitals\"]\n",
    "scores = neighborhood_data_dict[\"distance\"]\n",
    "ax.bar(addrs,scores)\n",
    "plt.xticks(rotation=90)\n",
    "plt.show()"
   ]
  },
  {
   "cell_type": "code",
   "execution_count": 41,
   "metadata": {},
   "outputs": [],
   "source": [
    "from arcgis.geocoding import get_geocoders\n",
    "geocoder = get_geocoders(gis)[0]"
   ]
  },
  {
   "cell_type": "code",
   "execution_count": 42,
   "metadata": {},
   "outputs": [
    {
     "data": {
      "application/vnd.jupyter.widget-view+json": {
       "model_id": "2bfe0b53edc74ca59501f428f4ebb7f3",
       "version_major": 2,
       "version_minor": 0
      },
      "text/plain": [
       "MapView(layout=Layout(height='400px', width='100%'))"
      ]
     },
     "metadata": {},
     "output_type": "display_data"
    },
    {
     "data": {
      "text/html": [
       "<div class=\"map-static-img-preview-c9a50b55-00e1-4619-9010-d944220dee18\"><img src=\"\"></img></div>"
      ],
      "text/plain": [
       "<IPython.core.display.HTML object>"
      ]
     },
     "metadata": {},
     "output_type": "display_data"
    },
    {
     "data": {
      "text/html": [
       "<div class=\"map-html-embed-preview-c9a50b55-00e1-4619-9010-d944220dee18\"></div>"
      ],
      "text/plain": [
       "<IPython.core.display.HTML object>"
      ]
     },
     "metadata": {},
     "output_type": "display_data"
    }
   ],
   "source": [
    "\n",
    "time_square = geocode(\"Time Square, NYC\")[0]\n",
    "\n",
    "map8 = gis.map(time_square)\n",
    "map8"
   ]
  },
  {
   "cell_type": "code",
   "execution_count": 43,
   "metadata": {},
   "outputs": [],
   "source": [
    "restaurants = geocode(None, time_square['extent'], category=\"Food\", max_locations=100)\n",
    "for restaurant in restaurants:\n",
    "    popup = { \n",
    "                \"title\" : restaurant['address'], \n",
    "                \"content\" : \"Phone: \" + restaurant['attributes']['Phone']\n",
    "            }\n",
    "    map8.draw(restaurant['location'], popup)"
   ]
  },
  {
   "cell_type": "code",
   "execution_count": 44,
   "metadata": {},
   "outputs": [
    {
     "data": {
      "application/vnd.jupyter.widget-view+json": {
       "model_id": "a9a2985f8ef2449a850f49d6d84d9ec9",
       "version_major": 2,
       "version_minor": 0
      },
      "text/plain": [
       "MapView(layout=Layout(height='400px', width='100%'))"
      ]
     },
     "metadata": {},
     "output_type": "display_data"
    },
    {
     "data": {
      "text/html": [
       "<div class=\"map-static-img-preview-1310b53c-59b7-41b3-b354-abe5ca515e8f\"><img src=\"\"></img></div>"
      ],
      "text/plain": [
       "<IPython.core.display.HTML object>"
      ]
     },
     "metadata": {},
     "output_type": "display_data"
    },
    {
     "data": {
      "text/html": [
       "<div class=\"map-html-embed-preview-1310b53c-59b7-41b3-b354-abe5ca515e8f\"></div>"
      ],
      "text/plain": [
       "<IPython.core.display.HTML object>"
      ]
     },
     "metadata": {},
     "output_type": "display_data"
    }
   ],
   "source": [
    "map9 = gis.map(time_square)\n",
    "map9"
   ]
  },
  {
   "cell_type": "code",
   "execution_count": 45,
   "metadata": {},
   "outputs": [],
   "source": [
    "categories = \"Indian Food, Chinese Food, Burgers, Thai Food\""
   ]
  },
  {
   "cell_type": "code",
   "execution_count": 46,
   "metadata": {},
   "outputs": [],
   "source": [
    "chinese_symbol = {\n",
    "\"type\": \"esriSMS\",\n",
    " \"style\": \"esriSMSSquare\",\n",
    " \"color\": [115,100,76,55],\n",
    " \"size\": 8,\n",
    " \"angle\": 0,\n",
    " \"xoffset\": 0,\n",
    " \"yoffset\": 0,\n",
    " \"outline\": \n",
    "  {\n",
    "  \"color\": [152,230,0,255],\n",
    "   \"width\": 1\n",
    "  }\n",
    "}\n",
    "\n",
    "burgers_symbol = {\n",
    "\"type\": \"esriSMS\",\n",
    " \"style\": \"esriSMSCircle\",\n",
    " \"color\": [15,0,176,255],\n",
    " \"size\": 8,\n",
    " \"angle\": 0,\n",
    " \"xoffset\": 0,\n",
    " \"yoffset\": 0,\n",
    " \"outline\": \n",
    "  {\n",
    "  \"color\": [152,230,0,255],\n",
    "   \"width\": 1\n",
    "  }\n",
    "}"
   ]
  },
  {
   "cell_type": "code",
   "execution_count": 47,
   "metadata": {},
   "outputs": [],
   "source": [
    "restaurants = geocode(None, time_square['extent'], category=categories, max_locations=100)\n",
    "\n",
    "for restaurant in restaurants:\n",
    "    popup = { \n",
    "                \"title\" : restaurant['address'], \n",
    "                \"content\" : \"Phone: \" + restaurant['attributes']['Phone']\n",
    "            }\n",
    "    if restaurant['attributes']['Type'] == 'Thai Food':\n",
    "        map9.draw(restaurant['location'], popup, thai_symbol) # green square\n",
    "    elif restaurant['attributes']['Type'] == 'Indian Food':\n",
    "        map9.draw(restaurant['location'], popup, indian_symbol) # dark red circle\n",
    "    elif restaurant['attributes']['Type'] == 'Chinese Food':\n",
    "        map9.draw(restaurant['location'], popup, chinese_symbol) # mint square\n",
    "    else:\n",
    "        map9.draw(restaurant['location'], popup, burgers_symbol) # blue circle"
   ]
  },
  {
   "cell_type": "code",
   "execution_count": 48,
   "metadata": {},
   "outputs": [],
   "source": [
    "symbols = {\"groceries\": {\"angle\":0,\"xoffset\":0,\"yoffset\":0,\"type\":\"esriPMS\",\n",
    "                         \"url\":\"http://static.arcgis.com/images/Symbols/PeoplePlaces/Shopping.png\",\n",
    "                         \"contentType\":\"image/png\",\"width\":12,\"height\":12},\n",
    "          \"coffee\": {\"angle\":0,\"xoffset\":0,\"yoffset\":0,\"type\":\"esriPMS\",\n",
    "                     \"url\":\"http://static.arcgis.com/images/Symbols/PeoplePlaces/Coffee.png\",\n",
    "                     \"contentType\":\"image/png\",\"width\":12,\"height\":12},\n",
    "          \"restaurant\": {\"angle\":0,\"xoffset\":0,\"yoffset\":0,\"type\":\"esriPMS\",\n",
    "                         \"url\":\"http://static.arcgis.com/images/Symbols/PeoplePlaces/Dining.png\",\n",
    "                         \"contentType\":\"image/png\",\"width\":12,\"height\":12},\n",
    "          \"bar\": {\"angle\":0,\"xoffset\":0,\"yoffset\":0,\"type\":\"esriPMS\",\n",
    "                  \"url\":\"http://static.arcgis.com/images/Symbols/PeoplePlaces/Bar.png\",\n",
    "                  \"contentType\":\"image/png\",\"width\":12,\"height\":12},\n",
    "          \"gas\": {\"angle\":0,\"xoffset\":0,\"yoffset\":0,\"type\":\"esriPMS\",\n",
    "                  \"url\":\"http://static.arcgis.com/images/Symbols/Transportation/esriBusinessMarker_72.png\",\n",
    "                  \"contentType\":\"image/png\",\"width\":12,\"height\":12},\n",
    "          \"park\": {\"angle\":0,\"xoffset\":0,\"yoffset\":0,\"type\":\"esriPMS\",\n",
    "                      \"url\":\"http://static.arcgis.com/images/Symbols/OutdoorRecreation/RestArea.png\",\n",
    "                      \"contentType\":\"image/png\",\"width\":10,\"height\":10},\n",
    "          \"school\": {\"angle\":0,\"xoffset\":0,\"yoffset\":0,\"type\":\"esriPMS\",\n",
    "                     \"url\":\"http://static.arcgis.com/images/Symbols/PeoplePlaces/Note.png\",\n",
    "                     \"contentType\":\"image/png\",\"width\":10,\"height\":10},\n",
    "          \"library\": {\"angle\":0,\"xoffset\":0,\"yoffset\":0,\"type\":\"esriPMS\",\n",
    "                      \"url\":\"http://static.arcgis.com/images/Symbols/PeoplePlaces/LiveShow.png\",\n",
    "                      \"contentType\":\"image/png\",\"width\":12,\"height\":12}}"
   ]
  },
  {
   "cell_type": "code",
   "execution_count": 49,
   "metadata": {},
   "outputs": [
    {
     "data": {
      "text/plain": [
       "['groceries',\n",
       " 'coffee',\n",
       " 'restaurant',\n",
       " 'bar',\n",
       " 'gas',\n",
       " 'park',\n",
       " 'school',\n",
       " 'library']"
      ]
     },
     "execution_count": 49,
     "metadata": {},
     "output_type": "execute_result"
    }
   ],
   "source": [
    "list(symbols.keys()) "
   ]
  },
  {
   "cell_type": "code",
   "execution_count": 50,
   "metadata": {},
   "outputs": [],
   "source": [
    "def search_and_map(in_map, kind=\"groceries\"):\n",
    "    per_kind = geocode(kind, search_extent=search_area_extent, \n",
    "                       max_locations=20, as_featureset=True)\n",
    "    neighborhood_data_dict[kind] = []\n",
    "\n",
    "    for place in per_kind:\n",
    "        popup={\"title\" : place.attributes['PlaceName'], \n",
    "               \"content\" : place.attributes['Place_addr']}\n",
    "        in_map.draw(place.geometry, symbol=symbols[kind], popup=popup)\n",
    "        neighborhood_data_dict[kind].append(place.attributes['PlaceName'])"
   ]
  },
  {
   "cell_type": "code",
   "execution_count": 51,
   "metadata": {},
   "outputs": [
    {
     "data": {
      "application/vnd.jupyter.widget-view+json": {
       "model_id": "dd263bf5206e45668d3be66c437517fe",
       "version_major": 2,
       "version_minor": 0
      },
      "text/plain": [
       "MapView(layout=Layout(height='400px', width='100%'))"
      ]
     },
     "metadata": {},
     "output_type": "display_data"
    },
    {
     "data": {
      "text/html": [
       "<div class=\"map-static-img-preview-76f4e898-d0dd-4792-a8ff-b94f5b678a23\"><img src=\"\"></img></div>"
      ],
      "text/plain": [
       "<IPython.core.display.HTML object>"
      ]
     },
     "metadata": {},
     "output_type": "display_data"
    },
    {
     "data": {
      "text/html": [
       "<div class=\"map-html-embed-preview-76f4e898-d0dd-4792-a8ff-b94f5b678a23\"></div>"
      ],
      "text/plain": [
       "<IPython.core.display.HTML object>"
      ]
     },
     "metadata": {},
     "output_type": "display_data"
    }
   ],
   "source": [
    "\n",
    "map7.zoom = 13\n",
    "map7"
   ]
  },
  {
   "cell_type": "code",
   "execution_count": 52,
   "metadata": {},
   "outputs": [],
   "source": [
    "\n",
    "for kind in list(symbols.keys()) :\n",
    "    search_and_map(map7, kind)"
   ]
  },
  {
   "cell_type": "code",
   "execution_count": 53,
   "metadata": {},
   "outputs": [
    {
     "data": {
      "text/html": [
       "<div>\n",
       "<style scoped>\n",
       "    .dataframe tbody tr th:only-of-type {\n",
       "        vertical-align: middle;\n",
       "    }\n",
       "\n",
       "    .dataframe tbody tr th {\n",
       "        vertical-align: top;\n",
       "    }\n",
       "\n",
       "    .dataframe thead th {\n",
       "        text-align: right;\n",
       "    }\n",
       "</style>\n",
       "<table border=\"1\" class=\"dataframe\">\n",
       "  <thead>\n",
       "    <tr style=\"text-align: right;\">\n",
       "      <th></th>\n",
       "      <th>hospitals</th>\n",
       "      <th>distance</th>\n",
       "      <th>groceries</th>\n",
       "      <th>coffee</th>\n",
       "      <th>restaurant</th>\n",
       "      <th>bar</th>\n",
       "      <th>gas</th>\n",
       "      <th>park</th>\n",
       "      <th>school</th>\n",
       "      <th>library</th>\n",
       "    </tr>\n",
       "  </thead>\n",
       "  <tbody>\n",
       "    <tr>\n",
       "      <th>0</th>\n",
       "      <td>St Bernardine Medical Center</td>\n",
       "      <td>0.112609</td>\n",
       "      <td>ALDI</td>\n",
       "      <td>Starbucks</td>\n",
       "      <td>Denny's</td>\n",
       "      <td>Bassrush Massive</td>\n",
       "      <td>ARCO</td>\n",
       "      <td>Palm Park</td>\n",
       "      <td>Public Safety Academy</td>\n",
       "      <td>Howard Rowe Public Library</td>\n",
       "    </tr>\n",
       "    <tr>\n",
       "      <th>1</th>\n",
       "      <td>St Bernardine Medical Center-ER</td>\n",
       "      <td>0.113013</td>\n",
       "      <td>El Super</td>\n",
       "      <td>Starbucks</td>\n",
       "      <td>Carolyn's Cafe</td>\n",
       "      <td>The Office Saloon</td>\n",
       "      <td>Valero Energy</td>\n",
       "      <td>Meadowbrook Fields</td>\n",
       "      <td>Victoria Elementary School</td>\n",
       "      <td>Country Law Library</td>\n",
       "    </tr>\n",
       "    <tr>\n",
       "      <th>2</th>\n",
       "      <td>Redlands Community Hospital</td>\n",
       "      <td>0.021213</td>\n",
       "      <td>Mother's Nutritional Centers</td>\n",
       "      <td>Starbucks</td>\n",
       "      <td>Juice It Up!</td>\n",
       "      <td>Dingers Sports Bar and Grill</td>\n",
       "      <td>Chevron</td>\n",
       "      <td>Meadowbrook Park</td>\n",
       "      <td>La Petite Academy</td>\n",
       "      <td>San Bernardino County Library</td>\n",
       "    </tr>\n",
       "    <tr>\n",
       "      <th>3</th>\n",
       "      <td>Redlands Community Hospital-ER</td>\n",
       "      <td>0.021671</td>\n",
       "      <td>Stater Bros. Markets</td>\n",
       "      <td>Starbucks</td>\n",
       "      <td>Starbucks</td>\n",
       "      <td>Arrowhead Country Club</td>\n",
       "      <td>Chevron Extra Mile</td>\n",
       "      <td>Seccombe Lake</td>\n",
       "      <td>Hope Christian Elementary School</td>\n",
       "      <td>Coddington Library</td>\n",
       "    </tr>\n",
       "    <tr>\n",
       "      <th>4</th>\n",
       "      <td>Loma Linda University Medical Center</td>\n",
       "      <td>0.06784</td>\n",
       "      <td>E D M Supermarket</td>\n",
       "      <td>Starbucks</td>\n",
       "      <td>Escape Craft Brewery</td>\n",
       "      <td>Sportspage</td>\n",
       "      <td>Circle K</td>\n",
       "      <td>Perris Hill Park</td>\n",
       "      <td>Franklin Elementary School</td>\n",
       "      <td>Norman Feldheym Central Library</td>\n",
       "    </tr>\n",
       "    <tr>\n",
       "      <th>5</th>\n",
       "      <td>Loma Linda University Medical Center-ER</td>\n",
       "      <td>0.067209</td>\n",
       "      <td>Food 4 Less</td>\n",
       "      <td>Starbucks</td>\n",
       "      <td>SJL tacos</td>\n",
       "      <td>Trenia's Bed</td>\n",
       "      <td>Chevron Extra Mile</td>\n",
       "      <td>Mill Park</td>\n",
       "      <td>Tender Care for Kids</td>\n",
       "      <td>San Bernardino Public Library</td>\n",
       "    </tr>\n",
       "    <tr>\n",
       "      <th>6</th>\n",
       "      <td>None</td>\n",
       "      <td>None</td>\n",
       "      <td>S M Seafood &amp; Asian Market</td>\n",
       "      <td>Starbucks</td>\n",
       "      <td>Patio Pantry</td>\n",
       "      <td>Gold Ball Billiards</td>\n",
       "      <td>ARCO</td>\n",
       "      <td>Redlands Sports Park</td>\n",
       "      <td>Target Community Schools</td>\n",
       "      <td>AK Smiley Public Library</td>\n",
       "    </tr>\n",
       "    <tr>\n",
       "      <th>7</th>\n",
       "      <td>None</td>\n",
       "      <td>None</td>\n",
       "      <td>Shop Rite No 3 Market</td>\n",
       "      <td>Starbucks</td>\n",
       "      <td>Los Takos</td>\n",
       "      <td>Pool Club</td>\n",
       "      <td>76</td>\n",
       "      <td>Sylvan Park</td>\n",
       "      <td>Ahrens Child Care Center</td>\n",
       "      <td>Highland Branch Library</td>\n",
       "    </tr>\n",
       "    <tr>\n",
       "      <th>8</th>\n",
       "      <td>None</td>\n",
       "      <td>None</td>\n",
       "      <td>Mother's Nutritional Centers</td>\n",
       "      <td>Starbucks</td>\n",
       "      <td>Red Wasabi</td>\n",
       "      <td>South Side Saloon</td>\n",
       "      <td>Shell Oil</td>\n",
       "      <td>Crafton Park</td>\n",
       "      <td>Target Community School</td>\n",
       "      <td>Loma Linda Branch Library</td>\n",
       "    </tr>\n",
       "    <tr>\n",
       "      <th>9</th>\n",
       "      <td>None</td>\n",
       "      <td>None</td>\n",
       "      <td>Ninety Nine Njr Outlet</td>\n",
       "      <td>Boba Tea House</td>\n",
       "      <td>Jan In Jan O</td>\n",
       "      <td>The Blue Swing</td>\n",
       "      <td>Chevron</td>\n",
       "      <td>Community Park</td>\n",
       "      <td>Redlands Christian School</td>\n",
       "      <td>Del E Webb Memorial Library</td>\n",
       "    </tr>\n",
       "    <tr>\n",
       "      <th>10</th>\n",
       "      <td>None</td>\n",
       "      <td>None</td>\n",
       "      <td>Rocky Market</td>\n",
       "      <td>Starbucks</td>\n",
       "      <td>Farmer Boys</td>\n",
       "      <td>Ahalena Hookah Lounge</td>\n",
       "      <td>Circle K</td>\n",
       "      <td>Israel Beal Park</td>\n",
       "      <td>Crafton Elementary School</td>\n",
       "      <td>Loma Linda Branch San Bernardino County Library</td>\n",
       "    </tr>\n",
       "    <tr>\n",
       "      <th>11</th>\n",
       "      <td>None</td>\n",
       "      <td>None</td>\n",
       "      <td>Stater Bros. Markets</td>\n",
       "      <td>Starbucks</td>\n",
       "      <td>Tyga Bites</td>\n",
       "      <td>La Luna</td>\n",
       "      <td>ARCO</td>\n",
       "      <td>Redlands Dog Park</td>\n",
       "      <td>Lugonia Elementary School</td>\n",
       "      <td>Mentone Branch San Bernardino County Library</td>\n",
       "    </tr>\n",
       "    <tr>\n",
       "      <th>12</th>\n",
       "      <td>None</td>\n",
       "      <td>None</td>\n",
       "      <td>Cardenas Markets</td>\n",
       "      <td>The Coffee Bean &amp; Tea Leaf</td>\n",
       "      <td>Alberto's Mexican Food</td>\n",
       "      <td>Taker Over Tuesdays</td>\n",
       "      <td>Valero Energy</td>\n",
       "      <td>Ford Park</td>\n",
       "      <td>Judson &amp; Brown Elementary School</td>\n",
       "      <td>Highland Branch San Bernardino County Library</td>\n",
       "    </tr>\n",
       "    <tr>\n",
       "      <th>13</th>\n",
       "      <td>None</td>\n",
       "      <td>None</td>\n",
       "      <td>Design Checkstands</td>\n",
       "      <td>Starbucks</td>\n",
       "      <td>Angelo's</td>\n",
       "      <td>Gotham</td>\n",
       "      <td>Mobil</td>\n",
       "      <td>Smiley Park</td>\n",
       "      <td>Clement Middle School</td>\n",
       "      <td>San Bernardino County Law Library</td>\n",
       "    </tr>\n",
       "    <tr>\n",
       "      <th>14</th>\n",
       "      <td>None</td>\n",
       "      <td>None</td>\n",
       "      <td>Cott Beverages USA</td>\n",
       "      <td>Starbucks</td>\n",
       "      <td>Maya Cafe</td>\n",
       "      <td>The Finish Line Bar</td>\n",
       "      <td>Golden Petroleum</td>\n",
       "      <td>Prospect Park</td>\n",
       "      <td>Redlands High School</td>\n",
       "      <td>Division Two Library California State Court of...</td>\n",
       "    </tr>\n",
       "    <tr>\n",
       "      <th>15</th>\n",
       "      <td>None</td>\n",
       "      <td>None</td>\n",
       "      <td>La Surtidora II Cash &amp; Carry</td>\n",
       "      <td>Starbucks</td>\n",
       "      <td>Mang Indo Asian Market And restaurant</td>\n",
       "      <td>The Zone Kitchen and Bar</td>\n",
       "      <td>ARCO</td>\n",
       "      <td>Brookside Park</td>\n",
       "      <td>Kids Land Academy</td>\n",
       "      <td>San Bernardino Public Library</td>\n",
       "    </tr>\n",
       "    <tr>\n",
       "      <th>16</th>\n",
       "      <td>None</td>\n",
       "      <td>None</td>\n",
       "      <td>Gate City Beverage Bear Trucking</td>\n",
       "      <td>Starbucks</td>\n",
       "      <td>Thai Bowl Cafe</td>\n",
       "      <td>Redlands Country Club</td>\n",
       "      <td>Costco Gasoline</td>\n",
       "      <td>Caroline Park</td>\n",
       "      <td>Moore Middle School</td>\n",
       "      <td>Rowe Branch San Bernardino Public Library</td>\n",
       "    </tr>\n",
       "    <tr>\n",
       "      <th>17</th>\n",
       "      <td>None</td>\n",
       "      <td>None</td>\n",
       "      <td>Interstate Brands</td>\n",
       "      <td>Starbucks</td>\n",
       "      <td>Maki Yaki 22</td>\n",
       "      <td>Vault Martini Bar &amp; Grill</td>\n",
       "      <td>Shell Oil</td>\n",
       "      <td>Jennie Davis Park</td>\n",
       "      <td>Kingsbury Elementary School</td>\n",
       "      <td>San Bernardino County Library</td>\n",
       "    </tr>\n",
       "    <tr>\n",
       "      <th>18</th>\n",
       "      <td>None</td>\n",
       "      <td>None</td>\n",
       "      <td>La Canasta Clearance Center</td>\n",
       "      <td>Starbucks</td>\n",
       "      <td>Masala Indo Pak Cuisine Under New Management</td>\n",
       "      <td>Kluddes Kitchen Bar</td>\n",
       "      <td>Chevron</td>\n",
       "      <td>Texonia Park</td>\n",
       "      <td>McKinley Elementary School</td>\n",
       "      <td>San Bernardino Sun Library</td>\n",
       "    </tr>\n",
       "    <tr>\n",
       "      <th>19</th>\n",
       "      <td>None</td>\n",
       "      <td>None</td>\n",
       "      <td>A K Food Store</td>\n",
       "      <td>Starbucks</td>\n",
       "      <td>AppleTreeLifestyle</td>\n",
       "      <td>Muscle Mike's Tavern</td>\n",
       "      <td>Valero Energy</td>\n",
       "      <td>East Highlands Ranch Community Park</td>\n",
       "      <td>Cope Middle School</td>\n",
       "      <td>Armacost Library</td>\n",
       "    </tr>\n",
       "  </tbody>\n",
       "</table>\n",
       "</div>"
      ],
      "text/plain": [
       "                                  hospitals  distance  \\\n",
       "0              St Bernardine Medical Center  0.112609   \n",
       "1           St Bernardine Medical Center-ER  0.113013   \n",
       "2               Redlands Community Hospital  0.021213   \n",
       "3            Redlands Community Hospital-ER  0.021671   \n",
       "4      Loma Linda University Medical Center   0.06784   \n",
       "5   Loma Linda University Medical Center-ER  0.067209   \n",
       "6                                      None      None   \n",
       "7                                      None      None   \n",
       "8                                      None      None   \n",
       "9                                      None      None   \n",
       "10                                     None      None   \n",
       "11                                     None      None   \n",
       "12                                     None      None   \n",
       "13                                     None      None   \n",
       "14                                     None      None   \n",
       "15                                     None      None   \n",
       "16                                     None      None   \n",
       "17                                     None      None   \n",
       "18                                     None      None   \n",
       "19                                     None      None   \n",
       "\n",
       "                           groceries                      coffee  \\\n",
       "0                               ALDI                   Starbucks   \n",
       "1                           El Super                   Starbucks   \n",
       "2       Mother's Nutritional Centers                   Starbucks   \n",
       "3               Stater Bros. Markets                   Starbucks   \n",
       "4                  E D M Supermarket                   Starbucks   \n",
       "5                        Food 4 Less                   Starbucks   \n",
       "6         S M Seafood & Asian Market                   Starbucks   \n",
       "7              Shop Rite No 3 Market                   Starbucks   \n",
       "8       Mother's Nutritional Centers                   Starbucks   \n",
       "9             Ninety Nine Njr Outlet              Boba Tea House   \n",
       "10                      Rocky Market                   Starbucks   \n",
       "11              Stater Bros. Markets                   Starbucks   \n",
       "12                  Cardenas Markets  The Coffee Bean & Tea Leaf   \n",
       "13                Design Checkstands                   Starbucks   \n",
       "14                Cott Beverages USA                   Starbucks   \n",
       "15      La Surtidora II Cash & Carry                   Starbucks   \n",
       "16  Gate City Beverage Bear Trucking                   Starbucks   \n",
       "17                 Interstate Brands                   Starbucks   \n",
       "18       La Canasta Clearance Center                   Starbucks   \n",
       "19                    A K Food Store                   Starbucks   \n",
       "\n",
       "                                      restaurant  \\\n",
       "0                                        Denny's   \n",
       "1                                 Carolyn's Cafe   \n",
       "2                                   Juice It Up!   \n",
       "3                                      Starbucks   \n",
       "4                           Escape Craft Brewery   \n",
       "5                                      SJL tacos   \n",
       "6                                   Patio Pantry   \n",
       "7                                      Los Takos   \n",
       "8                                     Red Wasabi   \n",
       "9                                   Jan In Jan O   \n",
       "10                                   Farmer Boys   \n",
       "11                                    Tyga Bites   \n",
       "12                        Alberto's Mexican Food   \n",
       "13                                      Angelo's   \n",
       "14                                     Maya Cafe   \n",
       "15         Mang Indo Asian Market And restaurant   \n",
       "16                                Thai Bowl Cafe   \n",
       "17                                  Maki Yaki 22   \n",
       "18  Masala Indo Pak Cuisine Under New Management   \n",
       "19                            AppleTreeLifestyle   \n",
       "\n",
       "                             bar                 gas  \\\n",
       "0               Bassrush Massive                ARCO   \n",
       "1              The Office Saloon       Valero Energy   \n",
       "2   Dingers Sports Bar and Grill             Chevron   \n",
       "3         Arrowhead Country Club  Chevron Extra Mile   \n",
       "4                     Sportspage            Circle K   \n",
       "5                   Trenia's Bed  Chevron Extra Mile   \n",
       "6            Gold Ball Billiards                ARCO   \n",
       "7                      Pool Club                  76   \n",
       "8              South Side Saloon           Shell Oil   \n",
       "9                 The Blue Swing             Chevron   \n",
       "10         Ahalena Hookah Lounge            Circle K   \n",
       "11                       La Luna                ARCO   \n",
       "12           Taker Over Tuesdays       Valero Energy   \n",
       "13                        Gotham               Mobil   \n",
       "14           The Finish Line Bar    Golden Petroleum   \n",
       "15      The Zone Kitchen and Bar                ARCO   \n",
       "16         Redlands Country Club     Costco Gasoline   \n",
       "17     Vault Martini Bar & Grill           Shell Oil   \n",
       "18           Kluddes Kitchen Bar             Chevron   \n",
       "19          Muscle Mike's Tavern       Valero Energy   \n",
       "\n",
       "                                   park                            school  \\\n",
       "0                             Palm Park             Public Safety Academy   \n",
       "1                    Meadowbrook Fields        Victoria Elementary School   \n",
       "2                      Meadowbrook Park                 La Petite Academy   \n",
       "3                         Seccombe Lake  Hope Christian Elementary School   \n",
       "4                      Perris Hill Park        Franklin Elementary School   \n",
       "5                             Mill Park              Tender Care for Kids   \n",
       "6                  Redlands Sports Park          Target Community Schools   \n",
       "7                           Sylvan Park          Ahrens Child Care Center   \n",
       "8                          Crafton Park           Target Community School   \n",
       "9                        Community Park         Redlands Christian School   \n",
       "10                     Israel Beal Park         Crafton Elementary School   \n",
       "11                    Redlands Dog Park         Lugonia Elementary School   \n",
       "12                            Ford Park  Judson & Brown Elementary School   \n",
       "13                          Smiley Park             Clement Middle School   \n",
       "14                        Prospect Park              Redlands High School   \n",
       "15                       Brookside Park                 Kids Land Academy   \n",
       "16                        Caroline Park               Moore Middle School   \n",
       "17                    Jennie Davis Park       Kingsbury Elementary School   \n",
       "18                         Texonia Park        McKinley Elementary School   \n",
       "19  East Highlands Ranch Community Park                Cope Middle School   \n",
       "\n",
       "                                              library  \n",
       "0                          Howard Rowe Public Library  \n",
       "1                                 Country Law Library  \n",
       "2                       San Bernardino County Library  \n",
       "3                                  Coddington Library  \n",
       "4                     Norman Feldheym Central Library  \n",
       "5                       San Bernardino Public Library  \n",
       "6                            AK Smiley Public Library  \n",
       "7                             Highland Branch Library  \n",
       "8                           Loma Linda Branch Library  \n",
       "9                         Del E Webb Memorial Library  \n",
       "10    Loma Linda Branch San Bernardino County Library  \n",
       "11       Mentone Branch San Bernardino County Library  \n",
       "12      Highland Branch San Bernardino County Library  \n",
       "13                  San Bernardino County Law Library  \n",
       "14  Division Two Library California State Court of...  \n",
       "15                      San Bernardino Public Library  \n",
       "16          Rowe Branch San Bernardino Public Library  \n",
       "17                      San Bernardino County Library  \n",
       "18                         San Bernardino Sun Library  \n",
       "19                                   Armacost Library  "
      ]
     },
     "execution_count": 53,
     "metadata": {},
     "output_type": "execute_result"
    }
   ],
   "source": [
    "neighborhood_df = pd.DataFrame.from_dict(neighborhood_data_dict, orient='index')\n",
    "neighborhood_df = neighborhood_df.transpose()\n",
    "neighborhood_df"
   ]
  },
  {
   "cell_type": "code",
   "execution_count": 54,
   "metadata": {},
   "outputs": [
    {
     "data": {
      "text/plain": [
       "Text(0.5, 1.0, 'Facilities within 10 miles of Esri')"
      ]
     },
     "execution_count": 54,
     "metadata": {},
     "output_type": "execute_result"
    },
    {
     "data": {
      "image/png": "[encoded data removed]",
      "text/plain": [
       "<Figure size 432x288 with 1 Axes>"
      ]
     },
     "metadata": {
      "needs_background": "light"
     },
     "output_type": "display_data"
    }
   ],
   "source": [
    "neighborhood_df.count().plot(kind='bar')\n",
    "plt.title('Facilities within 10 miles of Esri')"
   ]
  },
  {
   "cell_type": "code",
   "execution_count": 55,
   "metadata": {},
   "outputs": [],
   "source": [
    "from arcgis.gis import GIS\n",
    "from arcgis.geocoding import geocode\n",
    "from arcgis.geometry import lengths"
   ]
  },
  {
   "cell_type": "code",
   "execution_count": 56,
   "metadata": {},
   "outputs": [],
   "source": [
    "map1 = gis.map()\n",
    "map1.basemap = \"satellite\""
   ]
  },
  {
   "cell_type": "code",
   "execution_count": 57,
   "metadata": {},
   "outputs": [
    {
     "data": {
      "application/vnd.jupyter.widget-view+json": {
       "model_id": "99f57a3495244e99b253d4ae81072d34",
       "version_major": 2,
       "version_minor": 0
      },
      "text/plain": [
       "MapView(layout=Layout(height='400px', width='100%'))"
      ]
     },
     "metadata": {},
     "output_type": "display_data"
    },
    {
     "data": {
      "text/html": [
       "<div class=\"map-static-img-preview-c31d871b-7b1e-406c-9cd9-6fe6c10685c2\"><img src=\"\"></img></div>"
      ],
      "text/plain": [
       "<IPython.core.display.HTML object>"
      ]
     },
     "metadata": {},
     "output_type": "display_data"
    },
    {
     "data": {
      "text/html": [
       "<div class=\"map-html-embed-preview-c31d871b-7b1e-406c-9cd9-6fe6c10685c2\"></div>"
      ],
      "text/plain": [
       "<IPython.core.display.HTML object>"
      ]
     },
     "metadata": {},
     "output_type": "display_data"
    }
   ],
   "source": [
    "\n",
    "map1"
   ]
  },
  {
   "cell_type": "code",
   "execution_count": 58,
   "metadata": {},
   "outputs": [],
   "source": [
    "map1.height = '650px'"
   ]
  },
  {
   "cell_type": "code",
   "execution_count": 59,
   "metadata": {},
   "outputs": [],
   "source": [
    "location = geocode(\"Central Park, New York\")[0]\n",
    "map1.extent = location['extent']\n"
   ]
  },
  {
   "cell_type": "code",
   "execution_count": 60,
   "metadata": {},
   "outputs": [],
   "source": [
    "map1.zoom = 14"
   ]
  },
  {
   "cell_type": "code",
   "execution_count": 61,
   "metadata": {},
   "outputs": [],
   "source": [
    "# Define the callback function that computes the length.\n",
    "def calc_dist(map1, g):\n",
    "    print(\"Computing length of drawn polyline...\")\n",
    "    length = lengths(g['spatialReference'], [g], \"\", \"geodesic\")\n",
    "    print(\"Length: \" + str(length[0]) + \" m.\")\n",
    "\n",
    "# Set calc_dist as the callback function to be invoked when a polyline is drawn on the map\n",
    "map1.on_draw_end(calc_dist)"
   ]
  },
  {
   "cell_type": "code",
   "execution_count": 62,
   "metadata": {},
   "outputs": [],
   "source": [
    "map1.draw(\"polyline\")\n"
   ]
  },
  {
   "cell_type": "code",
   "execution_count": 63,
   "metadata": {},
   "outputs": [
    {
     "data": {
      "application/vnd.jupyter.widget-view+json": {
       "model_id": "99f57a3495244e99b253d4ae81072d34",
       "version_major": 2,
       "version_minor": 0
      },
      "text/plain": [
       "MapView(layout=Layout(height='400px', width='100%'))"
      ]
     },
     "metadata": {},
     "output_type": "display_data"
    },
    {
     "data": {
      "text/html": [
       "<div class=\"map-static-img-preview-c31d871b-7b1e-406c-9cd9-6fe6c10685c2\"><img src=\"\"></img></div>"
      ],
      "text/plain": [
       "<IPython.core.display.HTML object>"
      ]
     },
     "metadata": {},
     "output_type": "display_data"
    },
    {
     "data": {
      "text/html": [
       "<div class=\"map-html-embed-preview-c31d871b-7b1e-406c-9cd9-6fe6c10685c2\"></div>"
      ],
      "text/plain": [
       "<IPython.core.display.HTML object>"
      ]
     },
     "metadata": {},
     "output_type": "display_data"
    }
   ],
   "source": [
    "map1.clear_graphics()\n",
    "map1"
   ]
  },
  {
   "cell_type": "code",
   "execution_count": null,
   "metadata": {},
   "outputs": [],
   "source": []
  }
 ],
 "metadata": {
  "kernelspec": {
   "display_name": "Python 3 (ipykernel)",
   "language": "python",
   "name": "python3"
  },
  "language_info": {
   "codemirror_mode": {
    "name": "ipython",
    "version": 3
   },
   "file_extension": ".py",
   "mimetype": "text/x-python",
   "name": "python",
   "nbconvert_exporter": "python",
   "pygments_lexer": "ipython3",
   "version": "3.9.7"
  }
 },
 "nbformat": 4,
 "nbformat_minor": 4
}
