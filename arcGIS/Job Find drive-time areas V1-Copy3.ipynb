{
 "cells": [
  {
   "cell_type": "code",
   "execution_count": 1,
   "id": "b46fac99",
   "metadata": {
    "ExecuteTime": {
     "end_time": "2021-11-30T11:29:42.066418Z",
     "start_time": "2021-11-30T11:29:42.055450Z"
    }
   },
   "outputs": [],
   "source": [
    "from arcgis.gis import GIS\n",
    "import arcgis.network as network\n",
    "from arcgis.features import FeatureLayer, Feature, FeatureSet, use_proximity\n",
    "import pandas as pd\n",
    "import datetime as dt\n",
    "import time"
   ]
  },
  {
   "cell_type": "code",
   "execution_count": 2,
   "id": "bb7f1e9e",
   "metadata": {
    "ExecuteTime": {
     "end_time": "2021-11-30T11:29:58.049104Z",
     "start_time": "2021-11-30T11:29:43.038939Z"
    }
   },
   "outputs": [
    {
     "name": "stdout",
     "output_type": "stream",
     "text": [
      "\n",
      "-- Output Polygons -- \n",
      "\n",
      "StoreId StoreName                                Address  FromBreak  ToBreak\n",
      "    120   Store 1 1775 E Lugonia Ave, Redlands, CA 92374         10       15\n",
      "    120   Store 1 1775 E Lugonia Ave, Redlands, CA 92374          5       10\n",
      "    120   Store 1 1775 E Lugonia Ave, Redlands, CA 92374          0        5\n",
      "    130   Store 2     1536 Barton Rd, Redlands, CA 92373         10       15\n",
      "    130   Store 2     1536 Barton Rd, Redlands, CA 92373          5       10\n",
      "    130   Store 2     1536 Barton Rd, Redlands, CA 92373          0        5\n",
      "    121   Store 3    11 E Colton Ave, Redlands, CA 92374         10       15\n",
      "    121   Store 3    11 E Colton Ave, Redlands, CA 92374          5       10\n",
      "    121   Store 3    11 E Colton Ave, Redlands, CA 92374          0        5\n"
     ]
    }
   ],
   "source": [
    "\"\"\"\n",
    "Find the 5, 10, and 15 minute drive-time polygons around all locations of a grocery store chain in a city.\n",
    "\"\"\"\n",
    "\n",
    "import arcgis\n",
    "import pandas as pd\n",
    "\n",
    "\n",
    "def print_result(result):\n",
    "    \"\"\"Print useful information from the result.\"\"\"\n",
    "    pd.set_option(\"display.max_rows\", None)\n",
    "    pd.set_option(\"display.max_colwidth\", None)\n",
    "\n",
    "    output_polygons = result.service_areas.sdf\n",
    "    print(\"\\n-- Output Polygons -- \\n\")\n",
    "    print(output_polygons[[\"StoreId\", \"StoreName\", \"Address\",\n",
    "                           \"FromBreak\", \"ToBreak\"]].to_string(index=False))\n",
    "\n",
    "\n",
    "def main():\n",
    "    \"\"\"Program execution logic.\"\"\"\n",
    "    # inputs\n",
    "    facilities = {\n",
    "        \"displayFieldName\": \"\",\n",
    "        \"fieldAliases\": {\n",
    "            \"StoreName\": \"Store Name\",\n",
    "            \"Address\": \"Address\",\n",
    "            \"StoreId\": \"Store ID\"\n",
    "        },\n",
    "        \"geometryType\": \"esriGeometryPoint\",\n",
    "        \"spatialReference\": {\n",
    "            \"wkid\": 4326,\n",
    "            \"latestWkid\": 4326\n",
    "        },\n",
    "        \"fields\": [\n",
    "            {\n",
    "                \"name\": \"StoreName\",\n",
    "                \"type\": \"esriFieldTypeString\",\n",
    "                \"alias\": \"Name\",\n",
    "                \"length\": 50\n",
    "            },\n",
    "            {\n",
    "                \"name\": \"Address\",\n",
    "                \"type\": \"esriFieldTypeString\",\n",
    "                \"alias\": \"Name\",\n",
    "                \"length\": 256\n",
    "            },\n",
    "            {\n",
    "                \"name\": \"StoreId\",\n",
    "                \"type\": \"esriFieldTypeString\",\n",
    "                \"alias\": \"Store ID\",\n",
    "                \"length\": 16\n",
    "            }\n",
    "        ],\n",
    "        \"features\": [\n",
    "            {\n",
    "                \"attributes\": {\n",
    "                    \"StoreName\": \"Store 1\",\n",
    "                    \"Address\": \"1775 E Lugonia Ave, Redlands, CA 92374\",\n",
    "                    \"StoreId\": \"120\"\n",
    "                },\n",
    "                \"geometry\": {\n",
    "                    \"x\": -117.14002999994386,\n",
    "                    \"y\": 34.071219999994128\n",
    "                }\n",
    "            },\n",
    "            {\n",
    "                \"attributes\": {\n",
    "                    \"StoreName\": \"Store 2\",\n",
    "                    \"Address\": \"1536 Barton Rd, Redlands, CA 92373\",\n",
    "                    \"StoreId\": \"130\"\n",
    "                },\n",
    "                \"geometry\": {\n",
    "                    \"x\": -117.207329999671,\n",
    "                    \"y\": 34.047980000203609\n",
    "                }\n",
    "            },\n",
    "            {\n",
    "                \"attributes\": {\n",
    "                    \"StoreName\": \"Store 3\",\n",
    "                    \"Address\": \"11 E Colton Ave, Redlands, CA 92374\",\n",
    "                    \"StoreId\": \"121\"\n",
    "                },\n",
    "                \"geometry\": {\n",
    "                    \"x\": -117.18194000041973,\n",
    "                    \"y\": 34.06351999976232\n",
    "                }\n",
    "            }\n",
    "        ]\n",
    "    }\n",
    "\n",
    "\n",
    "    # Connect to the Service area service\n",
    "    api_key = \"AAPK584c0e1d93c94b7184b16cab622fc22akbl58IK1U9Xlnhgaqa3L0U4RG0U_Fkb21i2nHHRKngcdkmbcUBML_sGizmYFZpPN\"\n",
    "    arcgis.GIS(\"https://www.arcgis.com\", api_key=api_key)\n",
    "\n",
    "    # Call the Service Area service\n",
    "    result = arcgis.network.analysis.generate_service_areas(facilities=facilities,\n",
    "                                                            break_values=\"5 10 15\",\n",
    "                                                            travel_direction=\"Towards Facility\")\n",
    "    print_result(result)\n",
    "    return result\n",
    "    \n",
    "results = main()"
   ]
  },
  {
   "cell_type": "code",
   "execution_count": 3,
   "id": "98e278f9",
   "metadata": {
    "ExecuteTime": {
     "end_time": "2021-11-30T11:29:58.064646Z",
     "start_time": "2021-11-30T11:29:58.051098Z"
    }
   },
   "outputs": [
    {
     "name": "stdout",
     "output_type": "stream",
     "text": [
      "ToolOutput(service_areas=<FeatureSet> 9 features, solve_succeeded=True, output_network_analysis_layer=None, output_facilities=<FeatureSet> 3 features, output_service_area_lines=None, output_result_file=None, output_network_analysis_layer_package=None, usage_cost={'numObjects': 9, 'credits': 4.5})\n"
     ]
    }
   ],
   "source": [
    "print(results)"
   ]
  },
  {
   "cell_type": "code",
   "execution_count": 4,
   "id": "8601c7f4",
   "metadata": {
    "ExecuteTime": {
     "end_time": "2021-11-30T11:29:58.082886Z",
     "start_time": "2021-11-30T11:29:58.067924Z"
    }
   },
   "outputs": [],
   "source": [
    "# poly_fset = FeatureSet(main())"
   ]
  },
  {
   "cell_type": "code",
   "execution_count": 5,
   "id": "35d937ce",
   "metadata": {
    "ExecuteTime": {
     "end_time": "2021-11-30T11:55:19.084669Z",
     "start_time": "2021-11-30T11:55:11.835090Z"
    }
   },
   "outputs": [
    {
     "data": {
      "application/vnd.jupyter.widget-view+json": {
       "model_id": "42e1a8b2e84b469780702881bf8e5fe7",
       "version_major": 2,
       "version_minor": 0
      },
      "text/plain": [
       "MapView(layout=Layout(height='400px', width='100%'))"
      ]
     },
     "metadata": {},
     "output_type": "display_data"
    },
    {
     "data": {
      "text/html": [
       "<div class=\"map-static-img-preview-702d1361-e877-4c89-8573-77bb6468b7b3\"><img src=\"\"></img></div>"
      ],
      "text/plain": [
       "<IPython.core.display.HTML object>"
      ]
     },
     "metadata": {},
     "output_type": "display_data"
    },
    {
     "data": {
      "text/html": [
       "<div class=\"map-html-embed-preview-702d1361-e877-4c89-8573-77bb6468b7b3\"></div>"
      ],
      "text/plain": [
       "<IPython.core.display.HTML object>"
      ]
     },
     "metadata": {},
     "output_type": "display_data"
    }
   ],
   "source": [
    "api_key = \"AAPK584c0e1d93c94b7184b16cab622fc22akbl58IK1U9Xlnhgaqa3L0U4RG0U_Fkb21i2nHHRKngcdkmbcUBML_sGizmYFZpPN\"\n",
    "#     api_key = \"YOUR_API_KEY\"\n",
    "my_gis = arcgis.GIS(\"https://www.arcgis.com\", api_key=api_key)\n",
    "map1 = my_gis.map('San Bernardino, CA', zoomlevel=12)\n",
    "map1"
   ]
  },
  {
   "cell_type": "code",
   "execution_count": 6,
   "id": "43be5baf",
   "metadata": {
    "ExecuteTime": {
     "end_time": "2021-11-30T11:55:19.099635Z",
     "start_time": "2021-11-30T11:55:19.085667Z"
    }
   },
   "outputs": [],
   "source": [
    "hospital_symbol = {\"type\":\"esriPMS\",\n",
    "                   \"url\":\"http://static.arcgis.com/images/Symbols/SafetyHealth/Hospital.png\",\n",
    "                   \"contentType\": \"image/png\", \"width\":20, \"height\":20}\n",
    "\n",
    "map1.draw(results[0],symbol=hospital_symbol)"
   ]
  },
  {
   "cell_type": "code",
   "execution_count": 7,
   "id": "d8796be9",
   "metadata": {
    "ExecuteTime": {
     "end_time": "2021-11-30T11:55:19.115074Z",
     "start_time": "2021-11-30T11:55:19.101569Z"
    }
   },
   "outputs": [],
   "source": [
    "\n",
    "# colors1 = {0: [255, 255, 128, 90], \n",
    "#           1: [128, 0, 128, 90],\n",
    "#           2: [0, 128, 0, 90], \n",
    "#           3: [255, 255, 0, 90], \n",
    "#           4: [255, 0, 0, 90]}\n",
    "\n",
    "# fill_symbol1 = {\"type\": \"esriSFS\",\"style\": \"esriSFSSolid\",\n",
    "#                \"color\": [115,76,0,255],\n",
    "#                \"outline\":{\"color\":[0,0,128,255],\"width\":0.25,\"type\":\"esriSLS\",\"style\":\"esriSLSSolid\"}}"
   ]
  },
  {
   "cell_type": "code",
   "execution_count": 8,
   "id": "bce3944a",
   "metadata": {
    "ExecuteTime": {
     "end_time": "2021-11-30T11:55:19.130034Z",
     "start_time": "2021-11-30T11:55:19.120061Z"
    }
   },
   "outputs": [],
   "source": [
    "colors = {5: [0, 128, 0, 90], \n",
    "          10: [255, 255, 0, 90], \n",
    "          15: [255, 0, 0, 90]}\n",
    "\n",
    "fill_symbol = {\"type\": \"esriSFS\",\"style\": \"esriSFSSolid\",\n",
    "               \"color\": [115,76,0,255],\n",
    "               \"outline\":{\"color\":[0,0,128,255],\"width\":0.25,\"type\":\"esriSLS\",\"style\":\"esriSLSSolid\"}}\n"
   ]
  },
  {
   "cell_type": "code",
   "execution_count": 9,
   "id": "ba8081fe",
   "metadata": {
    "ExecuteTime": {
     "end_time": "2021-11-30T11:55:38.845607Z",
     "start_time": "2021-11-30T11:55:32.755110Z"
    }
   },
   "outputs": [],
   "source": [
    "map1.clear_graphics()\n",
    "\n",
    "for service_area in results.service_areas.features:\n",
    "    \n",
    "    #set color based on drive time\n",
    "    fill_symbol['color'] = colors[service_area.attributes['ToBreak']]\n",
    "    \n",
    "    #set popup\n",
    "    popup={\"title\": \"Service area\", \n",
    "           \"content\": \"{} minutes\".format(service_area.attributes['ToBreak'])}\n",
    "    \n",
    "    #draw service area\n",
    "    map1.draw(service_area.geometry, symbol=fill_symbol, popup=popup, \n",
    "              attributes={\"title\": service_area.attributes['Name']})\n",
    "\n",
    "map1.draw(results[0], symbol=hospital_symbol)"
   ]
  },
  {
   "cell_type": "code",
   "execution_count": 10,
   "id": "6d301276",
   "metadata": {
    "ExecuteTime": {
     "end_time": "2021-11-30T11:28:20.792466Z",
     "start_time": "2021-11-30T11:28:20.779583Z"
    }
   },
   "outputs": [],
   "source": [
    "# !curl https://route-api.arcgis.com/arcgis/rest/services/World/ServiceAreas/NAServer/ServiceArea_World/solveServiceArea? \\\n",
    "# -d \"f=json\" \\\n",
    "# -d \"token=<AAPK584c0e1d93c94b7184b16cab622fc22akbl58IK1U9Xlnhgaqa3L0U4RG0U_Fkb21i2nHHRKngcdkmbcUBML_sGizmYFZpPN>\" \\\n",
    "# -d \"facilities=-117.133163,34.022445\" \\\n",
    "# -d \"defaultBreaks=2.5\" \\\n",
    "# -d \"travelDirection=esriNATravelDirectionToFacility\" \\\n",
    "# -d \"travelMode={'attributeParameterValues':[{'attributeName':'Avoid Private Roads','parameterName':'Restriction Usage','value':'AVOID_MEDIUM'},{'attributeName':'Walking','parameterName':'Restriction Usage','value':'PROHIBITED'},{'attributeName':'Preferred for Pedestrians','parameterName':'Restriction Usage','value':'PREFER_LOW'},{'attributeName':'WalkTime','parameterName':'Walking Speed (km/h)','value':5},{'attributeName':'Avoid Roads Unsuitable for Pedestrians','parameterName':'Restriction Usage','value':'AVOID_HIGH'}],'description':'Follows paths and roads that allow pedestrian traffic and finds solutions that optimize travel distance.','distanceAttributeName':'Kilometers','id':'yFuMFwIYblqKEefX','impedanceAttributeName':'Kilometers','name':'Walking Distance','restrictionAttributeNames':['Avoid Private Roads','Avoid Roads Unsuitable for Pedestrians','Preferred for Pedestrians','Walking'],'simplificationTolerance':2,'simplificationToleranceUnits':'esriMeters','timeAttributeName':'WalkTime','type':'WALK','useHierarchy':false,'uturnAtJunctions':'esriNFSBAllowBacktrack'}\""
   ]
  },
  {
   "cell_type": "code",
   "execution_count": 11,
   "id": "0f9a210a",
   "metadata": {
    "ExecuteTime": {
     "end_time": "2021-11-30T11:30:18.996755Z",
     "start_time": "2021-11-30T11:30:18.992765Z"
    }
   },
   "outputs": [
    {
     "name": "stdout",
     "output_type": "stream",
     "text": [
      "5 10 15\n"
     ]
    }
   ],
   "source": [
    "list_of_breaks = [5,10,15]\n",
    "# list_of_breaks = [5,10,15, 20,25,30,35,40,45]\n",
    "if isinstance(list_of_breaks, list):\n",
    "    string_of_breaks = ' '.join(map(str, list_of_breaks))\n",
    "    print(string_of_breaks)"
   ]
  },
  {
   "cell_type": "code",
   "execution_count": 12,
   "id": "50e1611d",
   "metadata": {
    "ExecuteTime": {
     "end_time": "2021-11-30T11:30:25.769525Z",
     "start_time": "2021-11-30T11:30:25.760552Z"
    }
   },
   "outputs": [
    {
     "data": {
      "text/plain": [
       "<FeatureSet> 9 features"
      ]
     },
     "execution_count": 12,
     "metadata": {},
     "output_type": "execute_result"
    }
   ],
   "source": [
    "results[0]"
   ]
  },
  {
   "cell_type": "code",
   "execution_count": 13,
   "id": "bef2d38a",
   "metadata": {
    "ExecuteTime": {
     "end_time": "2021-11-30T11:30:52.374168Z",
     "start_time": "2021-11-30T11:30:39.268253Z"
    }
   },
   "outputs": [],
   "source": [
    "# %%time\n",
    "\n",
    "# import datetime\n",
    "\n",
    "# current_time = dt.datetime.now() \n",
    "\n",
    "result1 = network.analysis.generate_service_areas(facilities=results[3], break_values=string_of_breaks, \n",
    "                                                  break_units=\"Minutes\")\n"
   ]
  },
  {
   "cell_type": "code",
   "execution_count": 14,
   "id": "c9fcb899",
   "metadata": {
    "ExecuteTime": {
     "end_time": "2021-11-30T11:31:16.466231Z",
     "start_time": "2021-11-30T11:31:16.457557Z"
    }
   },
   "outputs": [
    {
     "data": {
      "text/plain": [
       "ToolOutput(service_areas=<FeatureSet> 9 features, solve_succeeded=True, output_network_analysis_layer=None, output_facilities=<FeatureSet> 3 features, output_service_area_lines=None, output_result_file=None, output_network_analysis_layer_package=None, usage_cost={'numObjects': 9, 'credits': 4.5})"
      ]
     },
     "execution_count": 14,
     "metadata": {},
     "output_type": "execute_result"
    }
   ],
   "source": [
    "result1"
   ]
  },
  {
   "cell_type": "code",
   "execution_count": 15,
   "id": "627088b9",
   "metadata": {
    "ExecuteTime": {
     "end_time": "2021-11-30T11:31:19.247495Z",
     "start_time": "2021-11-30T11:31:19.231565Z"
    }
   },
   "outputs": [
    {
     "data": {
      "text/html": [
       "<div>\n",
       "<style scoped>\n",
       "    .dataframe tbody tr th:only-of-type {\n",
       "        vertical-align: middle;\n",
       "    }\n",
       "\n",
       "    .dataframe tbody tr th {\n",
       "        vertical-align: top;\n",
       "    }\n",
       "\n",
       "    .dataframe thead th {\n",
       "        text-align: right;\n",
       "    }\n",
       "</style>\n",
       "<table border=\"1\" class=\"dataframe\">\n",
       "  <thead>\n",
       "    <tr style=\"text-align: right;\">\n",
       "      <th></th>\n",
       "      <th>0</th>\n",
       "    </tr>\n",
       "  </thead>\n",
       "  <tbody>\n",
       "    <tr>\n",
       "      <th>0</th>\n",
       "      <td>{\"geometry\": {\"x\": -117.14002999999997, \"y\": 34.07122000000004, \"spatialReference\": {\"wkid\": 4326, \"latestWkid\": 4326}}, \"attributes\": {\"ObjectID\": 1, \"Name\": \"Location 1\", \"SourceID\": 1, \"SourceOID\": 9926360, \"PosAlong\": 0.4400000000363798, \"SideOfEdge\": 2, \"CurbApproach\": 0, \"Status\": 0, \"SnapX\": -117.14002999999997, \"SnapY\": 34.07122000000004, \"SnapZ\": 0, \"DistanceToNetworkInMeters\": 0, \"Bearing\": null, \"BearingTol\": 30, \"NavLatency\": null, \"StoreName\": \"Store 1\", \"Address\": \"1775 E Lugonia Ave, Redlands, CA 92374\", \"StoreId\": \"120\", \"FacilityOID\": 1, \"Breaks\": null, \"AdditionalTime\": 0, \"AdditionalDistance\": 0}}</td>\n",
       "    </tr>\n",
       "    <tr>\n",
       "      <th>1</th>\n",
       "      <td>{\"geometry\": {\"x\": -117.20732999999996, \"y\": 34.04798000000005, \"spatialReference\": {\"wkid\": 4326, \"latestWkid\": 4326}}, \"attributes\": {\"ObjectID\": 2, \"Name\": \"Location 2\", \"SourceID\": 1, \"SourceOID\": 9865666, \"PosAlong\": 0.3495934958462883, \"SideOfEdge\": 1, \"CurbApproach\": 0, \"Status\": 0, \"SnapX\": -117.20732999999996, \"SnapY\": 34.04798000000005, \"SnapZ\": 0, \"DistanceToNetworkInMeters\": 0, \"Bearing\": null, \"BearingTol\": 30, \"NavLatency\": null, \"StoreName\": \"Store 2\", \"Address\": \"1536 Barton Rd, Redlands, CA 92373\", \"StoreId\": \"130\", \"FacilityOID\": 2, \"Breaks\": null, \"AdditionalTime\": 0, \"AdditionalDistance\": 0}}</td>\n",
       "    </tr>\n",
       "    <tr>\n",
       "      <th>2</th>\n",
       "      <td>{\"geometry\": {\"x\": -117.18193999999994, \"y\": 34.06352000000004, \"spatialReference\": {\"wkid\": 4326, \"latestWkid\": 4326}}, \"attributes\": {\"ObjectID\": 3, \"Name\": \"Location 3\", \"SourceID\": 1, \"SourceOID\": 9871044, \"PosAlong\": 0.5000000001291895, \"SideOfEdge\": 2, \"CurbApproach\": 0, \"Status\": 0, \"SnapX\": -117.18193999999994, \"SnapY\": 34.06352000000004, \"SnapZ\": 0, \"DistanceToNetworkInMeters\": 0.09504164755344391, \"Bearing\": null, \"BearingTol\": 30, \"NavLatency\": null, \"StoreName\": \"Store 3\", \"Address\": \"11 E Colton Ave, Redlands, CA 92374\", \"StoreId\": \"121\", \"FacilityOID\": 3, \"Breaks\": null, \"AdditionalTime\": 0, \"AdditionalDistance\": 0}}</td>\n",
       "    </tr>\n",
       "  </tbody>\n",
       "</table>\n",
       "</div>"
      ],
      "text/plain": [
       "                                                                                                                                                                                                                                                                                                                                                                                                                                                                                                                                                                                                                                                                0\n",
       "0                 {\"geometry\": {\"x\": -117.14002999999997, \"y\": 34.07122000000004, \"spatialReference\": {\"wkid\": 4326, \"latestWkid\": 4326}}, \"attributes\": {\"ObjectID\": 1, \"Name\": \"Location 1\", \"SourceID\": 1, \"SourceOID\": 9926360, \"PosAlong\": 0.4400000000363798, \"SideOfEdge\": 2, \"CurbApproach\": 0, \"Status\": 0, \"SnapX\": -117.14002999999997, \"SnapY\": 34.07122000000004, \"SnapZ\": 0, \"DistanceToNetworkInMeters\": 0, \"Bearing\": null, \"BearingTol\": 30, \"NavLatency\": null, \"StoreName\": \"Store 1\", \"Address\": \"1775 E Lugonia Ave, Redlands, CA 92374\", \"StoreId\": \"120\", \"FacilityOID\": 1, \"Breaks\": null, \"AdditionalTime\": 0, \"AdditionalDistance\": 0}}\n",
       "1                     {\"geometry\": {\"x\": -117.20732999999996, \"y\": 34.04798000000005, \"spatialReference\": {\"wkid\": 4326, \"latestWkid\": 4326}}, \"attributes\": {\"ObjectID\": 2, \"Name\": \"Location 2\", \"SourceID\": 1, \"SourceOID\": 9865666, \"PosAlong\": 0.3495934958462883, \"SideOfEdge\": 1, \"CurbApproach\": 0, \"Status\": 0, \"SnapX\": -117.20732999999996, \"SnapY\": 34.04798000000005, \"SnapZ\": 0, \"DistanceToNetworkInMeters\": 0, \"Bearing\": null, \"BearingTol\": 30, \"NavLatency\": null, \"StoreName\": \"Store 2\", \"Address\": \"1536 Barton Rd, Redlands, CA 92373\", \"StoreId\": \"130\", \"FacilityOID\": 2, \"Breaks\": null, \"AdditionalTime\": 0, \"AdditionalDistance\": 0}}\n",
       "2  {\"geometry\": {\"x\": -117.18193999999994, \"y\": 34.06352000000004, \"spatialReference\": {\"wkid\": 4326, \"latestWkid\": 4326}}, \"attributes\": {\"ObjectID\": 3, \"Name\": \"Location 3\", \"SourceID\": 1, \"SourceOID\": 9871044, \"PosAlong\": 0.5000000001291895, \"SideOfEdge\": 2, \"CurbApproach\": 0, \"Status\": 0, \"SnapX\": -117.18193999999994, \"SnapY\": 34.06352000000004, \"SnapZ\": 0, \"DistanceToNetworkInMeters\": 0.09504164755344391, \"Bearing\": null, \"BearingTol\": 30, \"NavLatency\": null, \"StoreName\": \"Store 3\", \"Address\": \"11 E Colton Ave, Redlands, CA 92374\", \"StoreId\": \"121\", \"FacilityOID\": 3, \"Breaks\": null, \"AdditionalTime\": 0, \"AdditionalDistance\": 0}}"
      ]
     },
     "execution_count": 15,
     "metadata": {},
     "output_type": "execute_result"
    }
   ],
   "source": [
    "pd.DataFrame(result1[3])"
   ]
  },
  {
   "cell_type": "code",
   "execution_count": 16,
   "id": "8a9f22e8",
   "metadata": {
    "ExecuteTime": {
     "end_time": "2021-11-30T11:31:20.671562Z",
     "start_time": "2021-11-30T11:31:20.657785Z"
    }
   },
   "outputs": [],
   "source": [
    "\n",
    "# cols = ['FromBreak', 'ToBreak', 'COUNTY_CODE', 'COUNTY_NAME', 'DBA_ADDRESS1', 'DBA_CITY',  \\\n",
    "#         'DBA_ZIP_CODE', 'FACILITY_LEVEL_DESC', 'FACILITY_NAME', 'FACILITY_STATUS_DATE', 'FACILITY_STATUS_DESC', \\\n",
    "#         'LICENSE_CATEGORY_DESC', 'LICENSE_NUM', 'LICENSE_TYPE_DESC', 'Name', \\\n",
    "#         'OSHPD_ID', 'TOTAL_NUMBER_BEDS']"
   ]
  },
  {
   "cell_type": "code",
   "execution_count": 17,
   "id": "cf3b65ca",
   "metadata": {
    "ExecuteTime": {
     "end_time": "2021-11-30T11:31:21.762414Z",
     "start_time": "2021-11-30T11:31:21.756566Z"
    }
   },
   "outputs": [],
   "source": [
    "# df = result1.service_areas.sdf[cols]\n",
    "# df.sort_values('FromBreak', inplace=True, ascending=True)\n",
    "# df.head()"
   ]
  },
  {
   "cell_type": "code",
   "execution_count": 18,
   "id": "2aeb4140",
   "metadata": {
    "ExecuteTime": {
     "start_time": "2021-12-02T08:05:46.388Z"
    }
   },
   "outputs": [
    {
     "data": {
      "application/vnd.jupyter.widget-view+json": {
       "model_id": "d162ff6be6dd4d9a840a9b35d622800c",
       "version_major": 2,
       "version_minor": 0
      },
      "text/plain": [
       "MapView(layout=Layout(height='400px', width='100%'))"
      ]
     },
     "metadata": {},
     "output_type": "display_data"
    },
    {
     "data": {
      "text/html": [
       "<div class=\"map-static-img-preview-9668a27a-752f-4353-8f3f-7980bad27592\"><img src=\"\"></img></div>"
      ],
      "text/plain": [
       "<IPython.core.display.HTML object>"
      ]
     },
     "metadata": {},
     "output_type": "display_data"
    },
    {
     "data": {
      "text/html": [
       "<div class=\"map-html-embed-preview-9668a27a-752f-4353-8f3f-7980bad27592\"></div>"
      ],
      "text/plain": [
       "<IPython.core.display.HTML object>"
      ]
     },
     "metadata": {},
     "output_type": "display_data"
    }
   ],
   "source": [
    "map3 = my_gis.map('SAN BERNARDINO, CA', zoomlevel=12)\n",
    "map3"
   ]
  },
  {
   "cell_type": "code",
   "execution_count": 19,
   "id": "3e7162fd",
   "metadata": {
    "ExecuteTime": {
     "end_time": "2021-11-30T11:32:15.076733Z",
     "start_time": "2021-11-30T11:32:15.066757Z"
    }
   },
   "outputs": [],
   "source": [
    "colors = {5: [0, 128, 0, 90], \n",
    "          10: [255, 255, 0, 90], \n",
    "          15: [255, 0, 0, 90]}\n",
    "\n",
    "fill_symbol = {\"type\": \"esriSFS\",\"style\": \"esriSFSSolid\",\n",
    "               \"color\": [115,76,0,255],\n",
    "               \"outline\":{\"color\":[0,0,128,255],\"width\":0.25,\"type\":\"esriSLS\",\"style\":\"esriSLSSolid\"}}"
   ]
  },
  {
   "cell_type": "code",
   "execution_count": 20,
   "id": "185c2a13",
   "metadata": {
    "ExecuteTime": {
     "end_time": "2021-11-30T11:32:21.749032Z",
     "start_time": "2021-11-30T11:32:19.290016Z"
    }
   },
   "outputs": [
    {
     "data": {
      "application/vnd.jupyter.widget-view+json": {
       "model_id": "d162ff6be6dd4d9a840a9b35d622800c",
       "version_major": 2,
       "version_minor": 0
      },
      "text/plain": [
       "MapView(layout=Layout(height='400px', width='100%'))"
      ]
     },
     "metadata": {},
     "output_type": "display_data"
    },
    {
     "data": {
      "text/html": [
       "<div class=\"map-static-img-preview-9668a27a-752f-4353-8f3f-7980bad27592\"><img src=\"\"></img></div>"
      ],
      "text/plain": [
       "<IPython.core.display.HTML object>"
      ]
     },
     "metadata": {},
     "output_type": "display_data"
    },
    {
     "data": {
      "text/html": [
       "<div class=\"map-html-embed-preview-9668a27a-752f-4353-8f3f-7980bad27592\"></div>"
      ],
      "text/plain": [
       "<IPython.core.display.HTML object>"
      ]
     },
     "metadata": {},
     "output_type": "display_data"
    }
   ],
   "source": [
    "map3.clear_graphics()\n",
    "\n",
    "for service_area in result1.service_areas.features:\n",
    "    \n",
    "    #set color based on drive time\n",
    "    fill_symbol['color'] = colors[service_area.attributes['ToBreak']]\n",
    "    \n",
    "    #set popup\n",
    "    popup={\"title\": \"Service area\", \n",
    "           \"content\": \"{} minutes\".format(service_area.attributes['ToBreak'])}\n",
    "    \n",
    "    #draw service area\n",
    "    map3.draw(service_area.geometry, symbol=fill_symbol, popup=popup, \n",
    "              attributes={\"title\": service_area.attributes['Name']})\n",
    "\n",
    "map3.draw(result1[0], symbol=hospital_symbol)\n",
    "map3"
   ]
  },
  {
   "cell_type": "code",
   "execution_count": 21,
   "id": "4d26d7a8",
   "metadata": {},
   "outputs": [
    {
     "data": {
      "application/vnd.jupyter.widget-view+json": {
       "model_id": "9f6abe53e1a646ff8e95f0b10fd8ff5b",
       "version_major": 2,
       "version_minor": 0
      },
      "text/plain": [
       "MapView(layout=Layout(height='400px', width='100%'))"
      ]
     },
     "metadata": {},
     "output_type": "display_data"
    },
    {
     "data": {
      "text/html": [
       "<div class=\"map-static-img-preview-7d1b2207-3663-4dba-8c0a-1ea43705fe09\"><img src=\"\"></img></div>"
      ],
      "text/plain": [
       "<IPython.core.display.HTML object>"
      ]
     },
     "metadata": {},
     "output_type": "display_data"
    },
    {
     "data": {
      "text/html": [
       "<div class=\"map-html-embed-preview-7d1b2207-3663-4dba-8c0a-1ea43705fe09\"></div>"
      ],
      "text/plain": [
       "<IPython.core.display.HTML object>"
      ]
     },
     "metadata": {},
     "output_type": "display_data"
    }
   ],
   "source": [
    "map4 = my_gis.map('SAN BERNARDINO, CA', zoomlevel=12)\n",
    "map4"
   ]
  },
  {
   "cell_type": "code",
   "execution_count": 22,
   "id": "dc414f44",
   "metadata": {},
   "outputs": [],
   "source": [
    "colors = {5: [0, 128, 0, 90], \n",
    "          10: [255, 255, 0, 90], \n",
    "          15: [255, 0, 0, 90]}\n",
    "\n",
    "fill_symbol = {\"type\": \"esriSFS\",\"style\": \"esriSFSSolid\",\n",
    "               \"color\": [115,76,0,255],\n",
    "               \"outline\":{\"color\":[0,0,128,255],\"width\":0.25,\"type\":\"esriSLS\",\"style\":\"esriSLSSolid\"}}\n",
    "\n",
    "hospital_symbol = {\"type\":\"esriPMS\",\n",
    "                   \"url\":\"http://static.arcgis.com/images/Symbols/SafetyHealth/Hospital.png\",\n",
    "                   \"contentType\": \"image/png\", \"width\":20, \"height\":20}"
   ]
  },
  {
   "cell_type": "code",
   "execution_count": 23,
   "id": "e4f00a8e",
   "metadata": {},
   "outputs": [
    {
     "data": {
      "application/vnd.jupyter.widget-view+json": {
       "model_id": "9f6abe53e1a646ff8e95f0b10fd8ff5b",
       "version_major": 2,
       "version_minor": 0
      },
      "text/plain": [
       "MapView(layout=Layout(height='400px', width='100%'))"
      ]
     },
     "metadata": {},
     "output_type": "display_data"
    },
    {
     "data": {
      "text/html": [
       "<div class=\"map-static-img-preview-7d1b2207-3663-4dba-8c0a-1ea43705fe09\"><img src=\"\"></img></div>"
      ],
      "text/plain": [
       "<IPython.core.display.HTML object>"
      ]
     },
     "metadata": {},
     "output_type": "display_data"
    },
    {
     "data": {
      "text/html": [
       "<div class=\"map-html-embed-preview-7d1b2207-3663-4dba-8c0a-1ea43705fe09\"></div>"
      ],
      "text/plain": [
       "<IPython.core.display.HTML object>"
      ]
     },
     "metadata": {},
     "output_type": "display_data"
    }
   ],
   "source": [
    "map4.clear_graphics()\n",
    "\n",
    "for service_area in result1.service_areas.features:\n",
    "    \n",
    "    #set color based on drive time\n",
    "    fill_symbol['color'] = colors[service_area.attributes['ToBreak']]\n",
    "    \n",
    "    #set popup\n",
    "    popup={\"title\": \"Service area\", \n",
    "           \"content\": \"{} minutes\".format(service_area.attributes['ToBreak'])}\n",
    "    \n",
    "    #draw service area\n",
    "    map4.draw(service_area.geometry, symbol=fill_symbol, popup=popup, \n",
    "              attributes={\"title\": service_area.attributes['Name']})\n",
    "\n",
    "map4.draw(results[0], symbol=hospital_symbol)\n",
    "map4"
   ]
  },
  {
   "cell_type": "code",
   "execution_count": 24,
   "id": "2888422d",
   "metadata": {},
   "outputs": [
    {
     "name": "stdout",
     "output_type": "stream",
     "text": [
      "5 10 15\n"
     ]
    }
   ],
   "source": [
    "list_of_breaks = [5,10,15]\n",
    "# list_of_breaks = [5,10,15, 20,25,30,35,40,45]\n",
    "if isinstance(list_of_breaks, list):\n",
    "    string_of_breaks = ' '.join(map(str, list_of_breaks))\n",
    "    print(string_of_breaks)"
   ]
  },
  {
   "cell_type": "code",
   "execution_count": 25,
   "id": "e8d91cb3",
   "metadata": {},
   "outputs": [
    {
     "data": {
      "application/vnd.jupyter.widget-view+json": {
       "model_id": "74dbaa6042514b75b7eb6f2eac3171bd",
       "version_major": 2,
       "version_minor": 0
      },
      "text/plain": [
       "MapView(layout=Layout(height='400px', width='100%'))"
      ]
     },
     "metadata": {},
     "output_type": "display_data"
    },
    {
     "data": {
      "text/html": [
       "<div class=\"map-static-img-preview-d07f4325-14b9-4a7d-b67e-b660d67d583b\"><img src=\"\"></img></div>"
      ],
      "text/plain": [
       "<IPython.core.display.HTML object>"
      ]
     },
     "metadata": {},
     "output_type": "display_data"
    },
    {
     "data": {
      "text/html": [
       "<div class=\"map-html-embed-preview-d07f4325-14b9-4a7d-b67e-b660d67d583b\"></div>"
      ],
      "text/plain": [
       "<IPython.core.display.HTML object>"
      ]
     },
     "metadata": {},
     "output_type": "display_data"
    }
   ],
   "source": [
    "map5 = my_gis.map('SAN BERNARDINO, CA', zoomlevel=12)\n",
    "map5"
   ]
  },
  {
   "cell_type": "code",
   "execution_count": 26,
   "id": "a22eb565",
   "metadata": {},
   "outputs": [],
   "source": [
    "colors = {5: [0, 128, 0, 90], \n",
    "          10: [255, 255, 0, 90], \n",
    "          15: [255, 0, 0, 90]}\n",
    "\n",
    "fill_symbol = {\"type\": \"esriSFS\",\"style\": \"esriSFSSolid\",\n",
    "               \"color\": [115,76,0,255],\n",
    "               \"outline\":{\"color\":[0,0,128,255],\"width\":0.25,\"type\":\"esriSLS\",\"style\":\"esriSLSSolid\"}}"
   ]
  },
  {
   "cell_type": "code",
   "execution_count": 27,
   "id": "e325c6e2",
   "metadata": {},
   "outputs": [],
   "source": [
    "map5.clear_graphics()\n",
    "\n",
    "for service_area in result1.service_areas.features:\n",
    "    \n",
    "    #set color based on drive time\n",
    "    fill_symbol['color'] = colors[service_area.attributes['ToBreak']]\n",
    "    \n",
    "    #set popup\n",
    "    popup={\"title\": \"Service area\", \n",
    "           \"content\": \"{} minutes\".format(service_area.attributes['ToBreak'])}\n",
    "    \n",
    "    #draw service area\n",
    "    map5.draw(service_area.geometry, symbol=fill_symbol, popup=popup, \n",
    "              attributes={\"title\": service_area.attributes['Name']})\n",
    "\n",
    "map5.draw(result1[0], symbol=hospital_symbol)"
   ]
  },
  {
   "cell_type": "code",
   "execution_count": null,
   "id": "2a5692a9",
   "metadata": {},
   "outputs": [],
   "source": []
  }
 ],
 "metadata": {
  "kernelspec": {
   "display_name": "Python 3 (ipykernel)",
   "language": "python",
   "name": "python3"
  },
  "language_info": {
   "codemirror_mode": {
    "name": "ipython",
    "version": 3
   },
   "file_extension": ".py",
   "mimetype": "text/x-python",
   "name": "python",
   "nbconvert_exporter": "python",
   "pygments_lexer": "ipython3",
   "version": "3.9.7"
  }
 },
 "nbformat": 4,
 "nbformat_minor": 5
}
