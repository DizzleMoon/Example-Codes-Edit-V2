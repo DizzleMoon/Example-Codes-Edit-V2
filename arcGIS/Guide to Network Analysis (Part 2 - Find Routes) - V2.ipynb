{
 "cells": [
  {
   "cell_type": "code",
   "execution_count": 1,
   "id": "b8662122",
   "metadata": {},
   "outputs": [],
   "source": [
    "\n",
    "from copy import deepcopy\n",
    "from datetime import datetime\n",
    "from IPython.display import HTML\n",
    "import json\n",
    "import pandas as pd\n",
    "from arcgis.gis import GIS\n",
    "import arcgis.network as network\n",
    "import arcgis.geocoding as geocoding\n",
    "import arcgis"
   ]
  },
  {
   "cell_type": "code",
   "execution_count": 2,
   "id": "4e4ee80c",
   "metadata": {},
   "outputs": [],
   "source": [
    "# Connect to the routing service and call it\n",
    "api_key = \"AAPK584c0e1d93c94b7184b16cab622fc22akbl58IK1U9Xlnhgaqa3L0U4RG0U_Fkb21i2nHHRKngcdkmbcUBML_sGizmYFZpPN\"\n",
    "my_gis = arcgis.GIS(\"https://www.arcgis.com\", api_key=api_key)\n",
    "# my_gis = GIS('https://www.arcgis.com', user_name, password)"
   ]
  },
  {
   "cell_type": "code",
   "execution_count": 3,
   "id": "a8b8aa69",
   "metadata": {},
   "outputs": [
    {
     "data": {
      "text/plain": [
       "'https://route.arcgis.com/arcgis/rest/services/World/Route/NAServer/Route_World'"
      ]
     },
     "execution_count": 3,
     "metadata": {},
     "output_type": "execute_result"
    }
   ],
   "source": [
    "route_service_url = my_gis.properties.helperServices.route.url\n",
    "route_service_url"
   ]
  },
  {
   "cell_type": "code",
   "execution_count": 4,
   "id": "de93c570",
   "metadata": {},
   "outputs": [
    {
     "data": {
      "text/plain": [
       "<RouteLayer url:\"https://route.arcgis.com/arcgis/rest/services/World/Route/NAServer/Route_World\">"
      ]
     },
     "execution_count": 4,
     "metadata": {},
     "output_type": "execute_result"
    }
   ],
   "source": [
    "route_service = network.RouteLayer(route_service_url, gis=my_gis)\n",
    "route_service"
   ]
  },
  {
   "cell_type": "code",
   "execution_count": 5,
   "id": "6d6ddfaf",
   "metadata": {},
   "outputs": [],
   "source": [
    "# inputs\n",
    "stops = \"-122.68782,45.51238;-122.690176,45.522054;-122.614995,45.526201\""
   ]
  },
  {
   "cell_type": "code",
   "execution_count": 6,
   "id": "c0b64924",
   "metadata": {},
   "outputs": [
    {
     "name": "stdout",
     "output_type": "stream",
     "text": [
      "Total travel time is 16.32 min\n"
     ]
    }
   ],
   "source": [
    "route_layer = network.RouteLayer(route_service_url, gis=my_gis)\n",
    "result = route_layer.solve(stops=stops,\n",
    "                           return_directions=False, return_routes=True, \n",
    "                           output_lines='esriNAOutputLineNone',\n",
    "                           return_barriers=False, return_polygon_barriers=False, \n",
    "                           return_polyline_barriers=False)\n",
    "\n",
    "travel_time = result['routes']['features'][0]['attributes']['Total_TravelTime']\n",
    "print(\"Total travel time is {0:.2f} min\".format(travel_time))"
   ]
  },
  {
   "cell_type": "code",
   "execution_count": 7,
   "id": "87743748",
   "metadata": {},
   "outputs": [
    {
     "name": "stdout",
     "output_type": "stream",
     "text": [
      "Total travel time is 2700.77 min\n"
     ]
    }
   ],
   "source": [
    "stop1_address = 'Miami'\n",
    "stop2_address = 'San Francisco'\n",
    "\n",
    "stop1_geocoded = geocoding.geocode(stop1_address)\n",
    "stop2_geocoded = geocoding.geocode(stop2_address)\n",
    "\n",
    "stops = '{0},{1}; {2},{3}'.format(stop1_geocoded[0]['attributes']['X'],\n",
    "                                  stop1_geocoded[0]['attributes']['Y'],\n",
    "                                  stop2_geocoded[0]['attributes']['X'],\n",
    "                                  stop2_geocoded[0]['attributes']['Y'])\n",
    "\n",
    "route_layer = network.RouteLayer(route_service_url, gis=my_gis)\n",
    "result = route_layer.solve(stops=stops, return_directions=False, return_routes=True, \n",
    "                           output_lines='esriNAOutputLineNone', return_barriers=False, \n",
    "                           return_polygon_barriers=False, return_polyline_barriers=False)\n",
    "\n",
    "travel_time = result['routes']['features'][0]['attributes']['Total_TravelTime']\n",
    "print(\"Total travel time is {0:.2f} min\".format(travel_time))"
   ]
  },
  {
   "cell_type": "code",
   "execution_count": 8,
   "id": "67785fc6",
   "metadata": {},
   "outputs": [],
   "source": [
    "import datetime\n",
    "\n",
    "start_time = int(datetime.datetime.utcnow().timestamp() * 1000)\n",
    "\n",
    "route_layer = network.RouteLayer(route_service_url, gis=my_gis)\n",
    "result = route_layer.solve(stops=stops, \n",
    "                           directions_language='en-US', return_routes=False,\n",
    "                           return_stops=False, return_directions=True,\n",
    "                           directions_length_units='esriNAUKilometers',\n",
    "                           return_barriers=False, return_polygon_barriers=False,\n",
    "                           return_polyline_barriers=False, start_time=start_time,\n",
    "                           start_time_is_utc=True)"
   ]
  },
  {
   "cell_type": "code",
   "execution_count": 9,
   "id": "8b42eac0",
   "metadata": {},
   "outputs": [],
   "source": [
    "records = []\n",
    "travel_time, time_counter = 0, 0\n",
    "distance, distance_counter = 0, 0\n",
    "\n",
    "for i in result['directions'][0]['features']:\n",
    "    time_of_day = datetime.datetime.fromtimestamp(i['attributes']['arriveTimeUTC'] / 1000).strftime('%H:%M:%S')\n",
    "    time_counter = i['attributes']['time']\n",
    "    distance_counter = i['attributes']['length']\n",
    "    travel_time += time_counter\n",
    "    distance += distance_counter\n",
    "    records.append( (time_of_day, i['attributes']['text'], \n",
    "                     round(travel_time, 2), round(distance, 2))  ) "
   ]
  },
  {
   "cell_type": "code",
   "execution_count": 10,
   "id": "92854329",
   "metadata": {},
   "outputs": [
    {
     "data": {
      "text/html": [
       "<table border=\"1\" class=\"dataframe\">\n",
       "  <thead>\n",
       "    <tr style=\"text-align: right;\">\n",
       "      <th>Time of day</th>\n",
       "      <th>Direction text</th>\n",
       "      <th>Duration (min)</th>\n",
       "      <th>Distance (km)</th>\n",
       "    </tr>\n",
       "  </thead>\n",
       "  <tbody>\n",
       "    <tr>\n",
       "      <td>06:16:04</td>\n",
       "      <td>Start at Location 1</td>\n",
       "      <td>0.00</td>\n",
       "      <td>0.00</td>\n",
       "    </tr>\n",
       "    <tr>\n",
       "      <td>06:16:04</td>\n",
       "      <td>Go north on NW 2nd Ave toward NW 1st St</td>\n",
       "      <td>0.05</td>\n",
       "      <td>0.02</td>\n",
       "    </tr>\n",
       "    <tr>\n",
       "      <td>06:16:07</td>\n",
       "      <td>Turn left before the Small Gas Station on NW 1st St</td>\n",
       "      <td>0.25</td>\n",
       "      <td>0.09</td>\n",
       "    </tr>\n",
       "    <tr>\n",
       "      <td>06:16:19</td>\n",
       "      <td>Turn right on NW 3rd Ave (Da Dorsey Blvd)</td>\n",
       "      <td>2.75</td>\n",
       "      <td>0.88</td>\n",
       "    </tr>\n",
       "    <tr>\n",
       "      <td>06:18:49</td>\n",
       "      <td>Keep left to merge onto I-95 N</td>\n",
       "      <td>5.25</td>\n",
       "      <td>1.88</td>\n",
       "    </tr>\n",
       "    <tr>\n",
       "      <td>06:21:19</td>\n",
       "      <td>Take exit 4A on the right to merge onto I-195 E toward Miami Beach</td>\n",
       "      <td>29.71</td>\n",
       "      <td>16.21</td>\n",
       "    </tr>\n",
       "    <tr>\n",
       "      <td>06:45:47</td>\n",
       "      <td>Keep left at exit 12A onto Florida's Tpke toward SR-826 W</td>\n",
       "      <td>267.01</td>\n",
       "      <td>442.82</td>\n",
       "    </tr>\n",
       "    <tr>\n",
       "      <td>10:43:05</td>\n",
       "      <td>Take the exit on the left to merge onto I-75 N toward Ocala</td>\n",
       "      <td>358.65</td>\n",
       "      <td>615.21</td>\n",
       "    </tr>\n",
       "    <tr>\n",
       "      <td>12:14:43</td>\n",
       "      <td>Take exit 435 on the right to I-10 toward Jacksonville / Tallahassee</td>\n",
       "      <td>358.88</td>\n",
       "      <td>615.48</td>\n",
       "    </tr>\n",
       "    <tr>\n",
       "      <td>12:14:57</td>\n",
       "      <td>Keep left at the fork to merge onto I-10 W toward Tallahassee</td>\n",
       "      <td>647.54</td>\n",
       "      <td>1155.99</td>\n",
       "    </tr>\n",
       "    <tr>\n",
       "      <td>17:03:36</td>\n",
       "      <td>Take exit 26B on the right to merge onto Water St toward Downtown</td>\n",
       "      <td>650.36</td>\n",
       "      <td>1158.42</td>\n",
       "    </tr>\n",
       "    <tr>\n",
       "      <td>17:06:26</td>\n",
       "      <td>At the traffic light, bear right on I-165 N (US-90 E)</td>\n",
       "      <td>654.65</td>\n",
       "      <td>1165.81</td>\n",
       "    </tr>\n",
       "    <tr>\n",
       "      <td>17:10:43</td>\n",
       "      <td>Take exit 1A on the left to merge onto I-65 S</td>\n",
       "      <td>658.30</td>\n",
       "      <td>1171.91</td>\n",
       "    </tr>\n",
       "    <tr>\n",
       "      <td>17:14:22</td>\n",
       "      <td>Take exit 5B on the right toward Moffett Rd (US-98)</td>\n",
       "      <td>658.69</td>\n",
       "      <td>1172.05</td>\n",
       "    </tr>\n",
       "    <tr>\n",
       "      <td>17:14:45</td>\n",
       "      <td>At the traffic light, turn left on W I-65 Service Rd N</td>\n",
       "      <td>658.97</td>\n",
       "      <td>1172.24</td>\n",
       "    </tr>\n",
       "    <tr>\n",
       "      <td>17:15:02</td>\n",
       "      <td>Make a sharp right on US-98 (AL-42 N)</td>\n",
       "      <td>746.08</td>\n",
       "      <td>1310.40</td>\n",
       "    </tr>\n",
       "    <tr>\n",
       "      <td>18:42:09</td>\n",
       "      <td>Take the exit on the right to merge onto I-59 N / US-98 W toward Columbia / Laurel / Jackson</td>\n",
       "      <td>754.94</td>\n",
       "      <td>1324.97</td>\n",
       "    </tr>\n",
       "    <tr>\n",
       "      <td>18:51:01</td>\n",
       "      <td>Take exit 67B on the right to merge onto US-49 N / MS-42 W toward Jackson / Collins</td>\n",
       "      <td>836.55</td>\n",
       "      <td>1457.19</td>\n",
       "    </tr>\n",
       "    <tr>\n",
       "      <td>20:12:37</td>\n",
       "      <td>Take the exit on the right to I-20 W / I-55 / I-20 E toward US-49 N / Jackson / Meridian</td>\n",
       "      <td>836.70</td>\n",
       "      <td>1457.34</td>\n",
       "    </tr>\n",
       "    <tr>\n",
       "      <td>20:12:46</td>\n",
       "      <td>Keep left at the fork to I-20 W / I-55 toward US-49 N / Jackson</td>\n",
       "      <td>838.06</td>\n",
       "      <td>1458.76</td>\n",
       "    </tr>\n",
       "    <tr>\n",
       "      <td>20:14:07</td>\n",
       "      <td>Keep left at the fork to merge onto I-20 W toward I-55 S / US-49 N / South Jackson</td>\n",
       "      <td>878.28</td>\n",
       "      <td>1531.87</td>\n",
       "    </tr>\n",
       "    <tr>\n",
       "      <td>20:54:21</td>\n",
       "      <td>Keep right at the fork onto I-20 W toward Monroe</td>\n",
       "      <td>1158.54</td>\n",
       "      <td>2059.24</td>\n",
       "    </tr>\n",
       "    <tr>\n",
       "      <td>01:34:37</td>\n",
       "      <td>Take exit 499A on the right to merge onto the highway toward US-80 W / Dallas</td>\n",
       "      <td>1162.22</td>\n",
       "      <td>2066.10</td>\n",
       "    </tr>\n",
       "    <tr>\n",
       "      <td>01:38:17</td>\n",
       "      <td>Go forward on US-80 W</td>\n",
       "      <td>1176.63</td>\n",
       "      <td>2090.90</td>\n",
       "    </tr>\n",
       "    <tr>\n",
       "      <td>01:52:42</td>\n",
       "      <td>Take the exit on the right to merge onto I-635 N</td>\n",
       "      <td>1200.61</td>\n",
       "      <td>2124.69</td>\n",
       "    </tr>\n",
       "    <tr>\n",
       "      <td>02:16:41</td>\n",
       "      <td>Take exit 27B on the right to merge onto I-35E N toward Denton</td>\n",
       "      <td>1227.37</td>\n",
       "      <td>2170.27</td>\n",
       "    </tr>\n",
       "    <tr>\n",
       "      <td>02:43:26</td>\n",
       "      <td>Go forward on I-35 N (Purple Heart Trl)</td>\n",
       "      <td>1228.08</td>\n",
       "      <td>2170.69</td>\n",
       "    </tr>\n",
       "    <tr>\n",
       "      <td>02:44:09</td>\n",
       "      <td>Take exit 469 on the right to merge onto the highway toward US-380 / University Dr</td>\n",
       "      <td>1230.49</td>\n",
       "      <td>2171.61</td>\n",
       "    </tr>\n",
       "    <tr>\n",
       "      <td>02:46:17</td>\n",
       "      <td>Turn left on US-380 W (W University Dr) toward Decatur</td>\n",
       "      <td>1253.30</td>\n",
       "      <td>2211.75</td>\n",
       "    </tr>\n",
       "    <tr>\n",
       "      <td>03:09:22</td>\n",
       "      <td>Take the exit on the right to merge onto US-81 N / US-287 N toward Wichita Falls</td>\n",
       "      <td>1314.04</td>\n",
       "      <td>2329.11</td>\n",
       "    </tr>\n",
       "    <tr>\n",
       "      <td>04:10:07</td>\n",
       "      <td>Go forward on I-44 E (US-277 N)</td>\n",
       "      <td>1317.07</td>\n",
       "      <td>2333.94</td>\n",
       "    </tr>\n",
       "    <tr>\n",
       "      <td>04:13:09</td>\n",
       "      <td>Keep left at exit 3A onto US-287 N toward Vernon / Amarillo</td>\n",
       "      <td>1500.82</td>\n",
       "      <td>2675.30</td>\n",
       "    </tr>\n",
       "    <tr>\n",
       "      <td>07:16:53</td>\n",
       "      <td>Take the exit on the left to merge onto I-40 W (US-287 N)</td>\n",
       "      <td>2015.58</td>\n",
       "      <td>3665.57</td>\n",
       "    </tr>\n",
       "    <tr>\n",
       "      <td>15:51:39</td>\n",
       "      <td>Keep left at the fork onto I-40 W toward Los Angeles</td>\n",
       "      <td>2311.84</td>\n",
       "      <td>4229.51</td>\n",
       "    </tr>\n",
       "    <tr>\n",
       "      <td>20:47:54</td>\n",
       "      <td>Go forward on I-15 S</td>\n",
       "      <td>2314.93</td>\n",
       "      <td>4235.21</td>\n",
       "    </tr>\n",
       "    <tr>\n",
       "      <td>20:51:00</td>\n",
       "      <td>Take exit 179 on the right to merge onto CA-58 W toward Bakersfield</td>\n",
       "      <td>2429.66</td>\n",
       "      <td>4437.30</td>\n",
       "    </tr>\n",
       "    <tr>\n",
       "      <td>22:45:44</td>\n",
       "      <td>Take the exit on the right to merge onto CA-58 W / CA-99 N toward Sacramento</td>\n",
       "      <td>2448.16</td>\n",
       "      <td>4470.87</td>\n",
       "    </tr>\n",
       "    <tr>\n",
       "      <td>23:04:14</td>\n",
       "      <td>Take exit 44 on the right to merge onto CA-46 toward Wasco / Paso Robles</td>\n",
       "      <td>2448.80</td>\n",
       "      <td>4471.27</td>\n",
       "    </tr>\n",
       "    <tr>\n",
       "      <td>23:04:52</td>\n",
       "      <td>At the stop sign, turn left on CA-46</td>\n",
       "      <td>2478.38</td>\n",
       "      <td>4511.71</td>\n",
       "    </tr>\n",
       "    <tr>\n",
       "      <td>23:34:27</td>\n",
       "      <td>Take the exit on the right to merge onto I-5 N</td>\n",
       "      <td>2622.13</td>\n",
       "      <td>4781.76</td>\n",
       "    </tr>\n",
       "    <tr>\n",
       "      <td>01:58:12</td>\n",
       "      <td>Keep left at the fork onto I-580 toward Tracy / San Francisco</td>\n",
       "      <td>2635.71</td>\n",
       "      <td>4807.19</td>\n",
       "    </tr>\n",
       "    <tr>\n",
       "      <td>02:11:47</td>\n",
       "      <td>Keep left at the fork onto I-580 W</td>\n",
       "      <td>2664.61</td>\n",
       "      <td>4856.45</td>\n",
       "    </tr>\n",
       "    <tr>\n",
       "      <td>02:40:41</td>\n",
       "      <td>Keep right at the fork onto I-580 toward Oakland / San Francisco</td>\n",
       "      <td>2679.94</td>\n",
       "      <td>4881.56</td>\n",
       "    </tr>\n",
       "    <tr>\n",
       "      <td>02:56:01</td>\n",
       "      <td>Take the exit on the left to merge onto I-80-TOLL W toward San Francisco</td>\n",
       "      <td>2692.66</td>\n",
       "      <td>4894.32</td>\n",
       "    </tr>\n",
       "    <tr>\n",
       "      <td>03:08:44</td>\n",
       "      <td>Take exit 1C on the right toward Ninth St / Civic Center</td>\n",
       "      <td>2692.97</td>\n",
       "      <td>4894.56</td>\n",
       "    </tr>\n",
       "    <tr>\n",
       "      <td>03:09:02</td>\n",
       "      <td>Keep right at the fork to merge onto the highway toward 9th St / Civic Ctr / Fell St / Golden Gate Br</td>\n",
       "      <td>2693.96</td>\n",
       "      <td>4894.82</td>\n",
       "    </tr>\n",
       "    <tr>\n",
       "      <td>03:10:02</td>\n",
       "      <td>Turn right after the Blue Colour Building on 9th St</td>\n",
       "      <td>2696.52</td>\n",
       "      <td>4895.61</td>\n",
       "    </tr>\n",
       "    <tr>\n",
       "      <td>03:12:35</td>\n",
       "      <td>Keep left at the fork past the Walgreens onto Hayes</td>\n",
       "      <td>2697.89</td>\n",
       "      <td>4895.91</td>\n",
       "    </tr>\n",
       "    <tr>\n",
       "      <td>03:13:58</td>\n",
       "      <td>At the traffic light, turn left on Van Ness Ave (US-101)</td>\n",
       "      <td>2697.93</td>\n",
       "      <td>4895.93</td>\n",
       "    </tr>\n",
       "    <tr>\n",
       "      <td>03:14:00</td>\n",
       "      <td>Finish at Location 2, on the left</td>\n",
       "      <td>2697.93</td>\n",
       "      <td>4895.93</td>\n",
       "    </tr>\n",
       "  </tbody>\n",
       "</table>"
      ],
      "text/plain": [
       "<IPython.core.display.HTML object>"
      ]
     },
     "execution_count": 10,
     "metadata": {},
     "output_type": "execute_result"
    }
   ],
   "source": [
    "pd.set_option('display.max_colwidth', 100)\n",
    "df = pd.DataFrame.from_records(records, index=[i for i in range(1, len(records) + 1)], \n",
    "                               columns=['Time of day', 'Direction text', \n",
    "                                        'Duration (min)', 'Distance (km)'])\n",
    "HTML(df.to_html(index=False))"
   ]
  },
  {
   "cell_type": "code",
   "execution_count": 11,
   "id": "15676ef3",
   "metadata": {},
   "outputs": [
    {
     "data": {
      "text/html": [
       "<table>              <tr> <th> Time of day </th>              <th>Instruction</th>              <th>Time</th>              <th>Distance</th> </tr> <tr><td align=\"left\">06:16:04</td>            <td align=\"left\">Start at Location 1</td>            <td align=\"left\">0.00</td>            <td align=\"left\">0.00</td></tr><tr><td align=\"left\">06:16:04</td>            <td align=\"left\">Go north on NW 2nd Ave toward NW 1st St</td>            <td align=\"left\">0.05</td>            <td align=\"left\">0.02</td></tr><tr><td align=\"left\">06:16:07</td>            <td align=\"left\">Turn left before the Small Gas Station on NW 1st St</td>            <td align=\"left\">0.25</td>            <td align=\"left\">0.09</td></tr><tr><td align=\"left\">06:16:19</td>            <td align=\"left\">Turn right on NW 3rd Ave (Da Dorsey Blvd)</td>            <td align=\"left\">2.75</td>            <td align=\"left\">0.88</td></tr><tr><td align=\"left\">06:18:49</td>            <td align=\"left\">Keep left to merge onto I-95 N</td>            <td align=\"left\">5.25</td>            <td align=\"left\">1.88</td></tr><tr><td align=\"left\">06:21:19</td>            <td align=\"left\">Take exit 4A on the right to merge onto I-195 E toward Miami Beach</td>            <td align=\"left\">29.71</td>            <td align=\"left\">16.21</td></tr><tr><td align=\"left\">06:45:47</td>            <td align=\"left\">Keep left at exit 12A onto Florida's Tpke toward SR-826 W</td>            <td align=\"left\">267.01</td>            <td align=\"left\">442.82</td></tr><tr><td align=\"left\">10:43:05</td>            <td align=\"left\">Take the exit on the left to merge onto I-75 N toward Ocala</td>            <td align=\"left\">358.65</td>            <td align=\"left\">615.21</td></tr><tr><td align=\"left\">12:14:43</td>            <td align=\"left\">Take exit 435 on the right to I-10 toward Jacksonville / Tallahassee</td>            <td align=\"left\">358.88</td>            <td align=\"left\">615.48</td></tr><tr><td align=\"left\">12:14:57</td>            <td align=\"left\">Keep left at the fork to merge onto I-10 W toward Tallahassee</td>            <td align=\"left\">647.54</td>            <td align=\"left\">1155.99</td></tr><tr><td align=\"left\">17:03:36</td>            <td align=\"left\">Take exit 26B on the right to merge onto Water St toward Downtown</td>            <td align=\"left\">650.36</td>            <td align=\"left\">1158.42</td></tr><tr><td align=\"left\">17:06:26</td>            <td align=\"left\">At the traffic light, bear right on I-165 N (US-90 E)</td>            <td align=\"left\">654.65</td>            <td align=\"left\">1165.81</td></tr><tr><td align=\"left\">17:10:43</td>            <td align=\"left\">Take exit 1A on the left to merge onto I-65 S</td>            <td align=\"left\">658.30</td>            <td align=\"left\">1171.91</td></tr><tr><td align=\"left\">17:14:22</td>            <td align=\"left\">Take exit 5B on the right toward Moffett Rd (US-98)</td>            <td align=\"left\">658.69</td>            <td align=\"left\">1172.05</td></tr><tr><td align=\"left\">17:14:45</td>            <td align=\"left\">At the traffic light, turn left on W I-65 Service Rd N</td>            <td align=\"left\">658.97</td>            <td align=\"left\">1172.24</td></tr><tr><td align=\"left\">17:15:02</td>            <td align=\"left\">Make a sharp right on US-98 (AL-42 N)</td>            <td align=\"left\">746.08</td>            <td align=\"left\">1310.40</td></tr><tr><td align=\"left\">18:42:09</td>            <td align=\"left\">Take the exit on the right to merge onto I-59 N / US-98 W toward Columbia / Laurel / Jackson</td>            <td align=\"left\">754.94</td>            <td align=\"left\">1324.97</td></tr><tr><td align=\"left\">18:51:01</td>            <td align=\"left\">Take exit 67B on the right to merge onto US-49 N / MS-42 W toward Jackson / Collins</td>            <td align=\"left\">836.55</td>            <td align=\"left\">1457.19</td></tr><tr><td align=\"left\">20:12:37</td>            <td align=\"left\">Take the exit on the right to I-20 W / I-55 / I-20 E toward US-49 N / Jackson / Meridian</td>            <td align=\"left\">836.70</td>            <td align=\"left\">1457.34</td></tr><tr><td align=\"left\">20:12:46</td>            <td align=\"left\">Keep left at the fork to I-20 W / I-55 toward US-49 N / Jackson</td>            <td align=\"left\">838.06</td>            <td align=\"left\">1458.76</td></tr><tr><td align=\"left\">20:14:07</td>            <td align=\"left\">Keep left at the fork to merge onto I-20 W toward I-55 S / US-49 N / South Jackson</td>            <td align=\"left\">878.28</td>            <td align=\"left\">1531.87</td></tr><tr><td align=\"left\">20:54:21</td>            <td align=\"left\">Keep right at the fork onto I-20 W toward Monroe</td>            <td align=\"left\">1158.54</td>            <td align=\"left\">2059.24</td></tr><tr><td align=\"left\">01:34:37</td>            <td align=\"left\">Take exit 499A on the right to merge onto the highway toward US-80 W / Dallas</td>            <td align=\"left\">1162.22</td>            <td align=\"left\">2066.10</td></tr><tr><td align=\"left\">01:38:17</td>            <td align=\"left\">Go forward on US-80 W</td>            <td align=\"left\">1176.63</td>            <td align=\"left\">2090.90</td></tr><tr><td align=\"left\">01:52:42</td>            <td align=\"left\">Take the exit on the right to merge onto I-635 N</td>            <td align=\"left\">1200.61</td>            <td align=\"left\">2124.69</td></tr><tr><td align=\"left\">02:16:41</td>            <td align=\"left\">Take exit 27B on the right to merge onto I-35E N toward Denton</td>            <td align=\"left\">1227.37</td>            <td align=\"left\">2170.27</td></tr><tr><td align=\"left\">02:43:26</td>            <td align=\"left\">Go forward on I-35 N (Purple Heart Trl)</td>            <td align=\"left\">1228.08</td>            <td align=\"left\">2170.69</td></tr><tr><td align=\"left\">02:44:09</td>            <td align=\"left\">Take exit 469 on the right to merge onto the highway toward US-380 / University Dr</td>            <td align=\"left\">1230.49</td>            <td align=\"left\">2171.61</td></tr><tr><td align=\"left\">02:46:17</td>            <td align=\"left\">Turn left on US-380 W (W University Dr) toward Decatur</td>            <td align=\"left\">1253.30</td>            <td align=\"left\">2211.75</td></tr><tr><td align=\"left\">03:09:22</td>            <td align=\"left\">Take the exit on the right to merge onto US-81 N / US-287 N toward Wichita Falls</td>            <td align=\"left\">1314.04</td>            <td align=\"left\">2329.11</td></tr><tr><td align=\"left\">04:10:07</td>            <td align=\"left\">Go forward on I-44 E (US-277 N)</td>            <td align=\"left\">1317.07</td>            <td align=\"left\">2333.94</td></tr><tr><td align=\"left\">04:13:09</td>            <td align=\"left\">Keep left at exit 3A onto US-287 N toward Vernon / Amarillo</td>            <td align=\"left\">1500.82</td>            <td align=\"left\">2675.30</td></tr><tr><td align=\"left\">07:16:53</td>            <td align=\"left\">Take the exit on the left to merge onto I-40 W (US-287 N)</td>            <td align=\"left\">2015.58</td>            <td align=\"left\">3665.57</td></tr><tr><td align=\"left\">15:51:39</td>            <td align=\"left\">Keep left at the fork onto I-40 W toward Los Angeles</td>            <td align=\"left\">2311.84</td>            <td align=\"left\">4229.51</td></tr><tr><td align=\"left\">20:47:54</td>            <td align=\"left\">Go forward on I-15 S</td>            <td align=\"left\">2314.93</td>            <td align=\"left\">4235.21</td></tr><tr><td align=\"left\">20:51:00</td>            <td align=\"left\">Take exit 179 on the right to merge onto CA-58 W toward Bakersfield</td>            <td align=\"left\">2429.66</td>            <td align=\"left\">4437.30</td></tr><tr><td align=\"left\">22:45:44</td>            <td align=\"left\">Take the exit on the right to merge onto CA-58 W / CA-99 N toward Sacramento</td>            <td align=\"left\">2448.16</td>            <td align=\"left\">4470.87</td></tr><tr><td align=\"left\">23:04:14</td>            <td align=\"left\">Take exit 44 on the right to merge onto CA-46 toward Wasco / Paso Robles</td>            <td align=\"left\">2448.80</td>            <td align=\"left\">4471.27</td></tr><tr><td align=\"left\">23:04:52</td>            <td align=\"left\">At the stop sign, turn left on CA-46</td>            <td align=\"left\">2478.38</td>            <td align=\"left\">4511.71</td></tr><tr><td align=\"left\">23:34:27</td>            <td align=\"left\">Take the exit on the right to merge onto I-5 N</td>            <td align=\"left\">2622.13</td>            <td align=\"left\">4781.76</td></tr><tr><td align=\"left\">01:58:12</td>            <td align=\"left\">Keep left at the fork onto I-580 toward Tracy / San Francisco</td>            <td align=\"left\">2635.71</td>            <td align=\"left\">4807.19</td></tr><tr><td align=\"left\">02:11:47</td>            <td align=\"left\">Keep left at the fork onto I-580 W</td>            <td align=\"left\">2664.61</td>            <td align=\"left\">4856.45</td></tr><tr><td align=\"left\">02:40:41</td>            <td align=\"left\">Keep right at the fork onto I-580 toward Oakland / San Francisco</td>            <td align=\"left\">2679.94</td>            <td align=\"left\">4881.56</td></tr><tr><td align=\"left\">02:56:01</td>            <td align=\"left\">Take the exit on the left to merge onto I-80-TOLL W toward San Francisco</td>            <td align=\"left\">2692.66</td>            <td align=\"left\">4894.32</td></tr><tr><td align=\"left\">03:08:44</td>            <td align=\"left\">Take exit 1C on the right toward Ninth St / Civic Center</td>            <td align=\"left\">2692.97</td>            <td align=\"left\">4894.56</td></tr><tr><td align=\"left\">03:09:02</td>            <td align=\"left\">Keep right at the fork to merge onto the highway toward 9th St / Civic Ctr / Fell St / Golden Gate Br</td>            <td align=\"left\">2693.96</td>            <td align=\"left\">4894.82</td></tr><tr><td align=\"left\">03:10:02</td>            <td align=\"left\">Turn right after the Blue Colour Building on 9th St</td>            <td align=\"left\">2696.52</td>            <td align=\"left\">4895.61</td></tr><tr><td align=\"left\">03:12:35</td>            <td align=\"left\">Keep left at the fork past the Walgreens onto Hayes</td>            <td align=\"left\">2697.89</td>            <td align=\"left\">4895.91</td></tr><tr><td align=\"left\">03:13:58</td>            <td align=\"left\">At the traffic light, turn left on Van Ness Ave (US-101)</td>            <td align=\"left\">2697.93</td>            <td align=\"left\">4895.93</td></tr><tr><td align=\"left\">03:14:00</td>            <td align=\"left\">Finish at Location 2, on the left</td>            <td align=\"left\">2697.93</td>            <td align=\"left\">4895.93</td></tr> </table>"
      ],
      "text/plain": [
       "<IPython.core.display.HTML object>"
      ]
     },
     "metadata": {},
     "output_type": "display_data"
    }
   ],
   "source": [
    "td_data = ['<td align=\"left\">{:s}</td> \\\n",
    "           <td align=\"left\">{:s}</td> \\\n",
    "           <td align=\"left\">{:.2f}</td> \\\n",
    "           <td align=\"left\">{:.2f}</td>'.format(*values) \n",
    "           for values in records]\n",
    "tr_data = ['<tr>{}</tr>'.format(i) for i in td_data]\n",
    "\n",
    "display(HTML('<table> \\\n",
    "             <tr> <th> Time of day </th> \\\n",
    "             <th>Instruction</th> \\\n",
    "             <th>Time</th> \\\n",
    "             <th>Distance</th> </tr> {0} </table>'.format(''.join(tr_data))))"
   ]
  },
  {
   "cell_type": "code",
   "execution_count": 12,
   "id": "e68fcbe8",
   "metadata": {},
   "outputs": [],
   "source": [
    "stops = '''-3.203062,55.906437; -3.190080,55.935570'''\n",
    "\n",
    "route_layer = network.RouteLayer(route_service_url, gis=my_gis)\n",
    "result = route_layer.solve(stops=stops, \n",
    "                           directions_language='en-US', return_routes=True,\n",
    "                           return_stops=True, return_directions=False,\n",
    "                           return_barriers=False, return_polygon_barriers=False,\n",
    "                           return_polyline_barriers=False)"
   ]
  },
  {
   "cell_type": "code",
   "execution_count": 13,
   "id": "a569a45d",
   "metadata": {},
   "outputs": [
    {
     "data": {
      "application/vnd.jupyter.widget-view+json": {
       "model_id": "830db4cc2912444f90144a953c5c50b4",
       "version_major": 2,
       "version_minor": 0
      },
      "text/plain": [
       "MapView(layout=Layout(height='400px', width='100%'))"
      ]
     },
     "metadata": {},
     "output_type": "display_data"
    },
    {
     "data": {
      "text/html": [
       "<div class=\"map-static-img-preview-19844b9e-51aa-459b-8c40-a71361ae6839\"><img src=\"\"></img></div>"
      ],
      "text/plain": [
       "<IPython.core.display.HTML object>"
      ]
     },
     "metadata": {},
     "output_type": "display_data"
    },
    {
     "data": {
      "text/html": [
       "<div class=\"map-html-embed-preview-19844b9e-51aa-459b-8c40-a71361ae6839\"></div>"
      ],
      "text/plain": [
       "<IPython.core.display.HTML object>"
      ]
     },
     "metadata": {},
     "output_type": "display_data"
    }
   ],
   "source": [
    "my_map = my_gis.map('San Francisco', zoomlevel=13)\n",
    "my_map"
   ]
  },
  {
   "cell_type": "code",
   "execution_count": 14,
   "id": "83c2b1fa",
   "metadata": {},
   "outputs": [
    {
     "data": {
      "application/vnd.jupyter.widget-view+json": {
       "model_id": "830db4cc2912444f90144a953c5c50b4",
       "version_major": 2,
       "version_minor": 0
      },
      "text/plain": [
       "MapView(layout=Layout(height='400px', width='100%'))"
      ]
     },
     "metadata": {},
     "output_type": "display_data"
    },
    {
     "data": {
      "text/html": [
       "<div class=\"map-static-img-preview-19844b9e-51aa-459b-8c40-a71361ae6839\"><img src=\"\"></img></div>"
      ],
      "text/plain": [
       "<IPython.core.display.HTML object>"
      ]
     },
     "metadata": {},
     "output_type": "display_data"
    },
    {
     "data": {
      "text/html": [
       "<div class=\"map-html-embed-preview-19844b9e-51aa-459b-8c40-a71361ae6839\"></div>"
      ],
      "text/plain": [
       "<IPython.core.display.HTML object>"
      ]
     },
     "metadata": {},
     "output_type": "display_data"
    }
   ],
   "source": [
    "# my_map.clear_graphics()\n",
    "stop_count = result['routes']['features'][0]['attributes']['StopCount']\n",
    "travel_time = result['routes']['features'][0]['attributes']['Total_TravelTime']\n",
    "distance = result['routes']['features'][0]['attributes']['Total_Kilometers']\n",
    "\n",
    "data = [('Number of stops', stop_count),\n",
    "        ('Total travel time', '{0:.2f} min'.format(travel_time)),\n",
    "        ('Total travel distance', '{0:.2f} km'.format(distance))]\n",
    "\n",
    "df = pd.DataFrame.from_records(data)\n",
    "styles = [    \n",
    "    dict(selector=\"td\", props=[(\"padding\", \"2px\")]),\n",
    "    dict(selector='.row_heading, .blank', props=[('display', 'none;')]),\n",
    "    dict(selector='.col_heading, .blank', props=[('display', 'none;')])]\n",
    "\n",
    "symbol = {\n",
    "    \"type\": \"esriSLS\",\n",
    "    \"style\": \"esriSLSSolid\",\n",
    "    \"color\": [128,0,128,90],\n",
    "    \"width\": 4\n",
    "}\n",
    "\n",
    "popup_route = {\"title\": \"Route\", \n",
    "               \"content\": df.style.set_table_styles(styles).render()}\n",
    "popup_stop = {\"title\": \"Stop {}\", \n",
    "              \"content\": df.style.set_table_styles(styles).render()}\n",
    "\n",
    "my_map.draw(result['routes']['features'][0]['geometry'], popup_route, symbol)\n",
    "\n",
    "for stop in result['stops']['features']:\n",
    "    address = geocoding.reverse_geocode(stop['geometry'])['address']['Match_addr']\n",
    "    my_map.draw(stop['geometry'], \n",
    "                {\"title\": \"Stop {}\".format(stop['attributes']['Sequence']), \n",
    "                 \"content\": address})\n",
    "my_map.zoom = 12\n",
    "my_map\n"
   ]
  },
  {
   "cell_type": "code",
   "execution_count": null,
   "id": "fdde9fa4",
   "metadata": {},
   "outputs": [],
   "source": []
  }
 ],
 "metadata": {
  "kernelspec": {
   "display_name": "Python 3 (ipykernel)",
   "language": "python",
   "name": "python3"
  },
  "language_info": {
   "codemirror_mode": {
    "name": "ipython",
    "version": 3
   },
   "file_extension": ".py",
   "mimetype": "text/x-python",
   "name": "python",
   "nbconvert_exporter": "python",
   "pygments_lexer": "ipython3",
   "version": "3.9.7"
  }
 },
 "nbformat": 4,
 "nbformat_minor": 5
}
