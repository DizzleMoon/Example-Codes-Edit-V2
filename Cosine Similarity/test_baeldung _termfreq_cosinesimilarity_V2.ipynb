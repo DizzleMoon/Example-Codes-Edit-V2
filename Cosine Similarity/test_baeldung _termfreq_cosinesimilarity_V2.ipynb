{
 "cells": [
  {
   "cell_type": "code",
   "execution_count": 1,
   "metadata": {},
   "outputs": [],
   "source": [
    "%matplotlib inline\n",
    "import numpy as np\n",
    "np.set_printoptions(linewidth=np.inf)\n",
    "np.set_printoptions(precision=7)\n",
    "import matplotlib.pyplot as plt\n",
    "import math \n",
    "import pandas as pd\n",
    "from numpy import linalg as LA\n",
    "from sympy import * \n",
    "from collections import *"
   ]
  },
  {
   "cell_type": "code",
   "execution_count": 2,
   "metadata": {},
   "outputs": [],
   "source": [
    "# Sentences\n",
    "Sentence_1 = 'We went to the pizza place and you ate no pizza at all.'\n",
    "Sentence_2 = 'I ate pizza with you yesterday at home.'\n",
    "Sentence_3 = 'There’s no place like home'"
   ]
  },
  {
   "cell_type": "code",
   "execution_count": 3,
   "metadata": {},
   "outputs": [
    {
     "name": "stdout",
     "output_type": "stream",
     "text": [
      "Counter({'pizza': 2, 'We': 1, 'went': 1, 'to': 1, 'the': 1, 'place': 1, 'and': 1, 'you': 1, 'ate': 1, 'no': 1, 'at': 1, 'all.': 1})\n",
      "\n",
      "\n",
      "[1, 1, 1, 1, 2, 1, 1, 1, 1, 1, 2, 1, 1]\n",
      "2\n"
     ]
    }
   ],
   "source": [
    "# Count\n",
    "Sen_1 = Sentence_1.split()\n",
    "# print(Sen_1)\n",
    "Sen_2 = Sentence_2.split()\n",
    "# print(Sen_2)\n",
    "Sen_3 = Sentence_3.split()\n",
    "# print(Sen_3)\n",
    "\n",
    "# Dictionary\n",
    "Sent_1 = Counter(Sen_1)\n",
    "print(Sent_1)\n",
    "Sent_2 = Counter(Sen_2)\n",
    "# print(Sent_2)\n",
    "Sent_3 = Counter(Sen_3)\n",
    "# print(Sent_3)\n",
    "\n",
    "\n",
    "print('\\n')\n",
    "\n",
    "count = []\n",
    "for i in Sen_1:\n",
    "    cnt = Sen_1.count(i)\n",
    "    count.append(cnt)\n",
    "    \n",
    "print(count)\n",
    " \n",
    "print(Sent_1['pizza'])"
   ]
  },
  {
   "cell_type": "code",
   "execution_count": 4,
   "metadata": {},
   "outputs": [
    {
     "name": "stdout",
     "output_type": "stream",
     "text": [
      "['We', 'went', 'to', 'the', 'pizza', 'place', 'and', 'you', 'ate', 'no', 'pizza', 'at', 'all.', 'I', 'ate', 'pizza', 'with', 'you', 'yesterday', 'at', 'home.']\n"
     ]
    }
   ],
   "source": [
    "# Combining vectors for sentence 1 & sentence 2\n",
    "sentences_1_2 = Sen_1 + Sen_2\n",
    "print(sentences_1_2)\n",
    "\n",
    "# Dictionary\n",
    "# Sent_1_2 = Counter(sentences_1_2)\n",
    "# print(Sent_1_2)"
   ]
  },
  {
   "cell_type": "code",
   "execution_count": 5,
   "metadata": {},
   "outputs": [
    {
     "name": "stdout",
     "output_type": "stream",
     "text": [
      "Counter({'pizza': 2, 'We': 1, 'went': 1, 'to': 1, 'the': 1, 'place': 1, 'and': 1, 'you': 1, 'ate': 1, 'no': 1, 'at': 1, 'all.': 1})\n",
      "I\n",
      "with\n",
      "yesterday\n",
      "home.\n",
      "[('I', 0), ('We', 1), ('all.', 1), ('and', 1), ('at', 1), ('ate', 1), ('home.', 0), ('no', 1), ('pizza', 2), ('place', 1), ('the', 1), ('to', 1), ('went', 1), ('with', 0), ('yesterday', 0), ('you', 1)]\n",
      "[0, 1, 1, 1, 1, 1, 0, 1, 2, 1, 1, 1, 1, 0, 0, 1]\n"
     ]
    }
   ],
   "source": [
    "# doc_1 = Sent_1.keys()\n",
    "# print(doc_1)\n",
    "\n",
    "# for i in doc_1:\n",
    "#     print(i)\n",
    "\n",
    "doc_1 = Sent_1.copy()\n",
    "print(Sent_1)\n",
    "\n",
    "for key,value in Sent_2.items():\n",
    "    akey = str(key)\n",
    "#     print(key)\n",
    "    if akey not in Sent_1.keys():\n",
    "        print(key)\n",
    "        doc_1[key] = 0\n",
    "#         S1 = Sent_1[str(key)] + Sent_2[str(key)]\n",
    "#         print(S1)\n",
    "#     print(key)\n",
    "#     print(value)\n",
    "\n",
    "# print(doc_1)\n",
    "print(sorted(doc_1.items()))\n",
    "\n",
    "doc_1_val = []\n",
    "for key,val in sorted(doc_1.items()):\n",
    "    doc_1_val.append(val)\n",
    "    \n",
    "print(doc_1_val)"
   ]
  },
  {
   "cell_type": "code",
   "execution_count": 6,
   "metadata": {},
   "outputs": [
    {
     "name": "stdout",
     "output_type": "stream",
     "text": [
      "Counter({'I': 1, 'ate': 1, 'pizza': 1, 'with': 1, 'you': 1, 'yesterday': 1, 'at': 1, 'home.': 1})\n",
      "We\n",
      "went\n",
      "to\n",
      "the\n",
      "place\n",
      "and\n",
      "no\n",
      "all.\n",
      "[('I', 1), ('We', 0), ('all.', 0), ('and', 0), ('at', 1), ('ate', 1), ('home.', 1), ('no', 0), ('pizza', 1), ('place', 0), ('the', 0), ('to', 0), ('went', 0), ('with', 1), ('yesterday', 1), ('you', 1)]\n",
      "[1, 0, 0, 0, 1, 1, 1, 0, 1, 0, 0, 0, 0, 1, 1, 1]\n"
     ]
    }
   ],
   "source": [
    "doc_2 = Sent_2.copy()\n",
    "print(doc_2)\n",
    "\n",
    "for key,value in Sent_1.items():\n",
    "    akey = str(key)\n",
    "#     print(key)\n",
    "    if akey not in Sent_2.keys():\n",
    "        print(key)\n",
    "        doc_2[key] = 0\n",
    "#         S1 = Sent_1[str(key)] + Sent_2[str(key)]\n",
    "#         print(S1)\n",
    "#     print(key)\n",
    "#     print(value)\n",
    "\n",
    "print(sorted(doc_2.items()))\n",
    "\n",
    "doc_2_val = []\n",
    "for key,val in sorted(doc_2.items()):\n",
    "    doc_2_val.append(val)\n",
    "    \n",
    "print(doc_2_val)"
   ]
  },
  {
   "cell_type": "code",
   "execution_count": 7,
   "metadata": {},
   "outputs": [
    {
     "name": "stdout",
     "output_type": "stream",
     "text": [
      "[0 1 1 1 1 1 0 1 2 1 1 1 1 0 0 1]\n",
      "[1 0 0 0 1 1 1 0 1 0 0 0 0 1 1 1]\n",
      "0.45643546458763834\n",
      "(16,)\n",
      "16\n"
     ]
    }
   ],
   "source": [
    "doc_1_val = np.array(doc_1_val)\n",
    "print(doc_1_val)\n",
    "doc_2_val = np.array(doc_2_val)\n",
    "print(doc_2_val)\n",
    "top = doc_1_val.dot(doc_2_val)\n",
    "bottom = np.linalg.norm(doc_1_val) * np.linalg.norm(doc_2_val)\n",
    "cos1 = top/bottom\n",
    "print(cos1)\n",
    "print(doc_1_val.shape)\n",
    "print(len(doc_1_val))\n"
   ]
  },
  {
   "cell_type": "code",
   "execution_count": 8,
   "metadata": {},
   "outputs": [
    {
     "name": "stdout",
     "output_type": "stream",
     "text": [
      "1\n",
      "[0.6931471805599453, 0.6931471805599453, 0.6931471805599453, 0.6931471805599453, 0.0, 0.0, 0.6931471805599453, 0.6931471805599453, -0.40546510810816444, 0.6931471805599453, 0.6931471805599453, 0.6931471805599453, 0.6931471805599453, 0.6931471805599453, 0.6931471805599453, 0.0]\n",
      "[0.6931471805599453, 0.6931471805599453, 0.6931471805599453, 0.6931471805599453, 0.0, 0.0, 0.6931471805599453, 0.6931471805599453, -0.40546510810816444, 0.6931471805599453, 0.6931471805599453, 0.6931471805599453, 0.6931471805599453, 0.6931471805599453, 0.6931471805599453, 0.0]\n"
     ]
    }
   ],
   "source": [
    "# IDF\n",
    "# Corpus size\n",
    "Corpus = 2\n",
    "\n",
    "# Document Frequency V1\n",
    "doc = np.concatenate((doc_1_val, doc_2_val))\n",
    "# print(doc)\n",
    "# print(len(doc))\n",
    "doc_2d = doc.reshape(2,int(len(doc)/2))\n",
    "print(doc_2d[0][4])\n",
    "tf_idf_1 = []\n",
    "for i in range(len(doc_1_val)):\n",
    "    df = 0\n",
    "    for j in range(2):\n",
    "#         print(doc_2d[i][j])\n",
    "        df = df + doc_2d[j][i]\n",
    "#         print(df)\n",
    "        \n",
    "    tfidf = np.log(2/df)\n",
    "    tf_idf_1.append(tfidf)\n",
    "print(tf_idf_1)  \n",
    "\n",
    "tf_idf_2 = []\n",
    "# Document Frequency V2\n",
    "for i in zip(doc_1_val, doc_2_val):\n",
    "    df = sum(i)\n",
    "    tfidf = np.log(2/df)\n",
    "    tf_idf_2.append(tfidf)\n",
    "print(tf_idf_2)  "
   ]
  },
  {
   "cell_type": "code",
   "execution_count": null,
   "metadata": {},
   "outputs": [],
   "source": []
  }
 ],
 "metadata": {
  "kernelspec": {
   "display_name": "Python 3 (ipykernel)",
   "language": "python",
   "name": "python3"
  },
  "language_info": {
   "codemirror_mode": {
    "name": "ipython",
    "version": 3
   },
   "file_extension": ".py",
   "mimetype": "text/x-python",
   "name": "python",
   "nbconvert_exporter": "python",
   "pygments_lexer": "ipython3",
   "version": "3.9.7"
  }
 },
 "nbformat": 4,
 "nbformat_minor": 4
}
