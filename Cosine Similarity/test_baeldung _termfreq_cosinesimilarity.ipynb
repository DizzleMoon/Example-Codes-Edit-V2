{
 "cells": [
  {
   "cell_type": "code",
   "execution_count": 1,
   "metadata": {},
   "outputs": [],
   "source": [
    "%matplotlib inline\n",
    "import numpy as np\n",
    "np.set_printoptions(linewidth=np.inf)\n",
    "np.set_printoptions(precision=7)\n",
    "import matplotlib.pyplot as plt\n",
    "import math \n",
    "import pandas as pd\n",
    "from numpy import linalg as LA\n",
    "from sympy import * "
   ]
  },
  {
   "cell_type": "code",
   "execution_count": 2,
   "metadata": {},
   "outputs": [],
   "source": [
    "# tf_doc_1 = np.array([1,1,1,1,2,1,1,1,1,1,1,1])\n",
    "# tf_doc_2 = np.array([1,1,1,1,1,1,1,1,0,0,0,0])\n",
    "\n",
    "tf_doc_1 = np.array([1,1,1,1,2,1,1,1,1,1,1,1,0,0,0,0])\n",
    "tf_doc_2 = np.array([0,0,0,0,1,0,0,1,1,0,1,0,1,1,1,1])\n",
    "\n",
    "# tf_doc_1 = np.array([1,1,1,1,2,1,1,1,1,1,1,1,0,0,0])\n",
    "# tf_doc_3 = np.array([0,0,0,0,0,0,0,1,1,0,0,0,1,1,1])"
   ]
  },
  {
   "cell_type": "code",
   "execution_count": 3,
   "metadata": {},
   "outputs": [
    {
     "name": "stdout",
     "output_type": "stream",
     "text": [
      "0.45643546458763834\n"
     ]
    }
   ],
   "source": [
    "top = tf_doc_1.dot(tf_doc_2)\n",
    "bottom = np.linalg.norm(tf_doc_1) * np.linalg.norm(tf_doc_2)\n",
    "cos1 = top/bottom\n",
    "print(cos1)"
   ]
  },
  {
   "cell_type": "code",
   "execution_count": 4,
   "metadata": {},
   "outputs": [
    {
     "data": {
      "text/plain": [
       "18.154338324488723"
      ]
     },
     "execution_count": 4,
     "metadata": {},
     "output_type": "execute_result"
    }
   ],
   "source": [
    "Caesar = np.array([11.4,8.3,2.3,11.2,0,0,0])\n",
    "np.linalg.norm(Caesar)"
   ]
  },
  {
   "cell_type": "code",
   "execution_count": null,
   "metadata": {},
   "outputs": [],
   "source": []
  }
 ],
 "metadata": {
  "kernelspec": {
   "display_name": "Python 3 (ipykernel)",
   "language": "python",
   "name": "python3"
  },
  "language_info": {
   "codemirror_mode": {
    "name": "ipython",
    "version": 3
   },
   "file_extension": ".py",
   "mimetype": "text/x-python",
   "name": "python",
   "nbconvert_exporter": "python",
   "pygments_lexer": "ipython3",
   "version": "3.9.7"
  }
 },
 "nbformat": 4,
 "nbformat_minor": 4
}
