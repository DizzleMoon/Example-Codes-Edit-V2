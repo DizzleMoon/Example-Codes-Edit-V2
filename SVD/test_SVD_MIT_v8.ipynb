{
 "cells": [
  {
   "cell_type": "code",
   "execution_count": 1,
   "metadata": {},
   "outputs": [],
   "source": [
    "%matplotlib inline\n",
    "import numpy as np\n",
    "np.set_printoptions(linewidth=np.inf)\n",
    "# np.set_printoptions(precision=7)\n",
    "import matplotlib.pyplot as plt\n",
    "import math \n",
    "import pandas as pd\n",
    "from numpy import linalg as LA\n",
    "from sympy import * "
   ]
  },
  {
   "cell_type": "code",
   "execution_count": 2,
   "metadata": {},
   "outputs": [],
   "source": [
    "# Scale function\n",
    "def scale(vec_1):\n",
    "    \n",
    "    # Test\n",
    "    v1_scale = np.square(np.linalg.norm(vec_1))\n",
    "#     print(v1_scale)\n",
    "\n",
    "    v1 = np.multiply(1/np.sqrt(v1_scale + 1e-15),vec_1)\n",
    "#     print(v1)\n",
    "    \n",
    "    return list(v1)\n",
    "    \n",
    "    \n",
    "def QR(span):\n",
    "    \n",
    "    # Setup arrays\n",
    "    # Original Values\n",
    "    vector = []\n",
    "    # Normalized Values\n",
    "    vec_norm = []\n",
    "\n",
    "    # Size of array\n",
    "    row,col = span.shape\n",
    "    \n",
    "    # First Column\n",
    "    v1 = span[:,0]\n",
    "    vec_1 = v1\n",
    "    vector.append(vec_1)\n",
    "\n",
    "    v1 = scale(vec_1)\n",
    "    vec_norm.append(v1)\n",
    "    \n",
    "    # Subsequent Columns\n",
    "\n",
    "    start = 1\n",
    "    end = col\n",
    "\n",
    "    for j in range(start,end):\n",
    "\n",
    "        # Column\n",
    "        projection = span[:,j]\n",
    "        v = span[:,j]\n",
    "\n",
    "        #Orthonormal vector\n",
    "        for i in range(len(vec_norm)):\n",
    "            #projection\n",
    "            # dot\n",
    "            proj_dot = np.dot(v,vec_norm[i])/(np.dot(vec_norm[i],vec_norm[i]) + 1e-15)\n",
    "            proj = np.multiply(proj_dot,vec_norm[i])\n",
    "            projection = projection - proj\n",
    "\n",
    "        v_norm = scale(projection)\n",
    "\n",
    "        vec_norm.append(v_norm)\n",
    "        \n",
    "    # Calculate R\n",
    "    Q = vec_norm\n",
    "    Q = np.array(Q)\n",
    "    R = np.dot(Q,span)\n",
    "    R = np.array(R)\n",
    "\n",
    "    \n",
    "    return Q.T,R\n",
    "\n",
    "def eigenspace(span):\n",
    "    \n",
    "    eig_vec = np.eye(span.shape[0])\n",
    "    X = span.copy()\n",
    "\n",
    "    for _ in range(100):\n",
    "        Q,R = QR(X)\n",
    "        eig_vec = np.dot(eig_vec,Q)\n",
    "        X = np.dot(R,Q)\n",
    "        eig_val = np.diag(X)\n",
    "        \n",
    "    return eig_val,eig_vec, X\n"
   ]
  },
  {
   "cell_type": "code",
   "execution_count": 3,
   "metadata": {},
   "outputs": [
    {
     "name": "stdout",
     "output_type": "stream",
     "text": [
      "[[  0   2  -8   5   8]\n",
      " [  6   0 -10  -6   2]\n",
      " [  8   4   7   9  -2]\n",
      " [  1   2  -9   8   1]\n",
      " [ -7   0   6   1   5]\n",
      " [ -2   2  -8   7   1]]\n"
     ]
    }
   ],
   "source": [
    "# A = np.array([[4,4],[-3,3]])\n",
    "# A = np.array([[2,4],[1,3],[0,0],[0,0]])\n",
    "\n",
    "row = 6\n",
    "col = 5\n",
    "A = np.random.randint(-10,10,size=(row,col))\n",
    "\n",
    "row,col = A.shape\n",
    "\n",
    "if col > row:\n",
    "    np.set_printoptions(precision=0)\n",
    "    \n",
    "\n",
    "B = A.copy()\n",
    "\n",
    "print(A)"
   ]
  },
  {
   "cell_type": "code",
   "execution_count": 4,
   "metadata": {},
   "outputs": [
    {
     "name": "stdout",
     "output_type": "stream",
     "text": [
      "[[157  66 -19 124  -3 111]\n",
      " [ 66 176 -80  50 -98  28]\n",
      " [-19 -80 214  23 -15  -3]\n",
      " [124  50  23 151 -48 131]\n",
      " [ -3 -98 -15 -48 111 -22]\n",
      " [111  28  -3 131 -22 122]]\n",
      "[[154  30 -39  23 -40]\n",
      " [ 30  28 -22  76  12]\n",
      " [-39 -22 394 -39 -85]\n",
      " [ 23  76 -39 256  30]\n",
      " [-40  12 -85  30  99]]\n"
     ]
    }
   ],
   "source": [
    "A1 = A.dot(A.T)\n",
    "print(A1)\n",
    "A2 = np.dot(A.T,A)\n",
    "print(A2)"
   ]
  },
  {
   "cell_type": "code",
   "execution_count": 5,
   "metadata": {},
   "outputs": [
    {
     "name": "stdout",
     "output_type": "stream",
     "text": [
      "[438.13083831 266.62697023 175.14472417  50.48141679   0.61605632   0.        ]\n",
      "[[ 0.52218951 -0.12224972 -0.30082512 -0.59091958 -0.33139382  0.        ]\n",
      " [ 0.40622102  0.48660665  0.43164243 -0.39386791  0.41218729  0.        ]\n",
      " [-0.12527443 -0.77672352  0.48256321 -0.32883766  0.19727608  0.        ]\n",
      " [ 0.53336841 -0.28623978 -0.02483936  0.29291555 -0.34837975  0.        ]\n",
      " [-0.22976874 -0.10893894 -0.66642868 -0.36803345  0.36270971  0.        ]\n",
      " [ 0.45752965 -0.22620486 -0.21348916  0.4077987   0.65455654  0.        ]]\n",
      "[[ 4.38130838e+02 -1.65890334e-14 -1.46944809e-14  3.43411186e-14  2.25549405e-16  0.00000000e+00]\n",
      " [ 1.08073497e-20  2.66626970e+02 -1.46780737e-14  1.52802481e-15 -3.84942986e-15  0.00000000e+00]\n",
      " [-6.72376511e-29 -5.87737166e-17  1.75144724e+02  1.08434365e-14 -3.62265758e-15  0.00000000e+00]\n",
      " [ 3.67061698e-28  1.14097027e-29  6.30804372e-29  5.04814168e+01  6.88110487e-15  0.00000000e+00]\n",
      " [ 1.60000267e-28 -1.66607801e-27 -1.16178018e-27  6.68816036e-28  6.16056322e-01  0.00000000e+00]\n",
      " [ 0.00000000e+00  0.00000000e+00  0.00000000e+00  0.00000000e+00  0.00000000e+00  0.00000000e+00]]\n",
      "\n",
      "\n",
      "[438.13083825 266.6269702  175.14472412  50.48141674   0.6160507 ]\n",
      "[[ 0.12716773  0.14486171  0.87028138 -0.41384167  0.18490226]\n",
      " [ 0.12063485  0.26801144  0.06437442 -0.15422338 -0.94111008]\n",
      " [-0.90560851  0.34252356 -0.04526033 -0.24527113  0.01855811]\n",
      " [ 0.30031364  0.8882322  -0.15947129  0.18000669  0.25104138]\n",
      " [ 0.24281791 -0.03010177 -0.45933285 -0.84403192  0.12944804]]\n",
      "[[ 4.38130838e+02  8.41759074e-15 -1.87799712e-14  8.25819748e-16 -4.83606207e-15]\n",
      " [-5.25867236e-20  2.66626970e+02 -2.07267528e-14 -4.89634653e-15 -1.15473195e-14]\n",
      " [-8.79892157e-29  2.99376573e-16  1.75144724e+02  5.60642542e-15  4.74163358e-15]\n",
      " [ 8.50357355e-30 -3.63147171e-29  3.08565076e-29  5.04814167e+01 -3.76080324e-15]\n",
      " [-3.74040715e-27 -5.75840329e-27  1.55869843e-27 -3.58818099e-28  6.16050699e-01]]\n",
      "\n",
      "\n",
      "V: [[ 0.12716773  0.12063485 -0.90560851  0.30031364  0.24281791]\n",
      " [ 0.14486171  0.26801144  0.34252356  0.8882322  -0.03010177]\n",
      " [ 0.87028138  0.06437442 -0.04526033 -0.15947129 -0.45933285]\n",
      " [-0.41384167 -0.15422338 -0.24527113  0.18000669 -0.84403192]\n",
      " [ 0.18490226 -0.94111008  0.01855811  0.25104138  0.12944804]]\n"
     ]
    }
   ],
   "source": [
    "# Eigenvalues\n",
    "eig_val_A1,eig_vec_A1,x_A1 = eigenspace(A1)\n",
    "print(eig_val_A1)\n",
    "print(eig_vec_A1)\n",
    "print(x_A1)\n",
    "\n",
    "print('\\n')\n",
    "\n",
    "eig_val_A2,eig_vec_A2,x_A2 = eigenspace(A2)\n",
    "print(eig_val_A2)\n",
    "print(eig_vec_A2)\n",
    "print(x_A2)\n",
    "\n",
    "print('\\n')\n",
    "\n",
    "V = eig_vec_A2.T\n",
    "print('V:',V)"
   ]
  },
  {
   "cell_type": "code",
   "execution_count": 6,
   "metadata": {},
   "outputs": [
    {
     "name": "stdout",
     "output_type": "stream",
     "text": [
      "[20.931575149669587, 16.32871612216575, 13.234225482328531, 7.105027567795113, 0.7848889725421784]\n"
     ]
    }
   ],
   "source": [
    "#singular values\n",
    "sigma_A2 = []\n",
    "eig_val = eig_val_A2\n",
    "for i in range(len(eig_val)):\n",
    "    sigma_A2.append(np.sqrt(eig_val[i]))\n",
    "    \n",
    "print(sigma_A2)"
   ]
  },
  {
   "cell_type": "code",
   "execution_count": 7,
   "metadata": {},
   "outputs": [
    {
     "name": "stdout",
     "output_type": "stream",
     "text": [
      "[[20.93157515  0.          0.          0.          0.        ]\n",
      " [ 0.         16.32871612  0.          0.          0.        ]\n",
      " [ 0.          0.         13.23422548  0.          0.        ]\n",
      " [ 0.          0.          0.          7.10502757  0.        ]\n",
      " [ 0.          0.          0.          0.          0.78488897]]\n",
      "[[ 0.12716773  0.14486171  0.87028138 -0.41384167  0.18490226]\n",
      " [ 0.12063485  0.26801144  0.06437442 -0.15422338 -0.94111008]\n",
      " [-0.90560851  0.34252356 -0.04526033 -0.24527113  0.01855811]\n",
      " [ 0.30031364  0.8882322  -0.15947129  0.18000669  0.25104138]\n",
      " [ 0.24281791 -0.03010177 -0.45933285 -0.84403192  0.12944804]]\n",
      "[[ 0.12716773  0.12063485 -0.90560851  0.30031364  0.24281791]\n",
      " [ 0.14486171  0.26801144  0.34252356  0.8882322  -0.03010177]\n",
      " [ 0.87028138  0.06437442 -0.04526033 -0.15947129 -0.45933285]\n",
      " [-0.41384167 -0.15422338 -0.24527113  0.18000669 -0.84403192]\n",
      " [ 0.18490226 -0.94111008  0.01855811  0.25104138  0.12944804]]\n"
     ]
    }
   ],
   "source": [
    "Sigma = np.sqrt(eig_val_A2) * np.eye(len(sigma_A2))\n",
    "print(Sigma)\n",
    "# V = [v1,v2]\n",
    "V = eig_vec_A2\n",
    "V = np.array(V)\n",
    "print(V)\n",
    "print(V.T)"
   ]
  },
  {
   "cell_type": "code",
   "execution_count": 8,
   "metadata": {},
   "outputs": [
    {
     "name": "stdout",
     "output_type": "stream",
     "text": [
      "[[ 2.66182098e+00  2.52507738e+00 -1.89558126e+01  6.28603760e+00  5.08256135e+00]\n",
      " [ 2.36540576e+00  4.37628279e+00  5.59297004e+00  1.45036915e+01 -4.91523212e-01]\n",
      " [ 1.15175000e+01  8.51945606e-01 -5.98985369e-01 -2.11047899e+00 -6.07891449e+00]\n",
      " [-2.94035647e+00 -1.09576139e+00 -1.74265816e+00  1.27895246e+00 -5.99687007e+00]\n",
      " [ 1.45127744e-01 -7.38666923e-01  1.45660579e-02  1.97039611e-01  1.01602339e-01]]\n",
      "[[ 0.52218953  0.12224974 -0.30082514 -0.59091954  0.33139231]\n",
      " [ 0.406221   -0.48660667  0.43164246 -0.39386795 -0.41218541]\n",
      " [-0.12527444  0.77672351  0.48256323 -0.32883768 -0.19727518]\n",
      " [ 0.53336842  0.2862398  -0.02483938  0.29291559  0.34837816]\n",
      " [-0.22976876  0.10893892 -0.66642866 -0.36803348 -0.36270805]\n",
      " [ 0.45752963  0.22620484 -0.21348912  0.40779863 -0.65455356]]\n",
      "[[-3.22379478e-15  2.00000000e+00 -8.00000000e+00  5.00000000e+00  8.00000000e+00]\n",
      " [ 6.00000000e+00 -2.85300778e-15 -1.00000000e+01 -6.00000000e+00  2.00000000e+00]\n",
      " [ 8.00000000e+00  4.00000000e+00  7.00000000e+00  9.00000000e+00 -2.00000000e+00]\n",
      " [ 1.00000000e+00  2.00000000e+00 -9.00000000e+00  8.00000000e+00  1.00000000e+00]\n",
      " [-7.00000000e+00  1.55875285e-17  6.00000000e+00  1.00000000e+00  5.00000000e+00]\n",
      " [-2.00000000e+00  2.00000000e+00 -8.00000000e+00  7.00000000e+00  1.00000000e+00]]\n",
      "[[  0   2  -8   5   8]\n",
      " [  6   0 -10  -6   2]\n",
      " [  8   4   7   9  -2]\n",
      " [  1   2  -9   8   1]\n",
      " [ -7   0   6   1   5]\n",
      " [ -2   2  -8   7   1]]\n"
     ]
    }
   ],
   "source": [
    "Sigma_V = Sigma.dot(V.T)\n",
    "print(Sigma_V)\n",
    "\n",
    "U = A.dot(np.linalg.pinv(Sigma_V))\n",
    "print(U)\n",
    "\n",
    "A = U.dot(Sigma).dot(V.T)\n",
    "print(A)\n",
    "\n",
    "print(B)"
   ]
  },
  {
   "cell_type": "code",
   "execution_count": 9,
   "metadata": {},
   "outputs": [],
   "source": [
    "# # Normalize vectors\n",
    "# # CV = CV.T\n",
    "# print(CV)\n",
    "\n",
    "# row,col = CV.shape\n",
    "\n",
    "# for i in range(row):\n",
    "#     CV[i] = CV[i]/(np.linalg.norm(CV[i]) + 1e-15)\n",
    "    \n",
    "# print(CV)"
   ]
  },
  {
   "cell_type": "code",
   "execution_count": 10,
   "metadata": {},
   "outputs": [],
   "source": [
    "# # Solve for U\n",
    "# print(Sigma)\n",
    "# U = CV.dot(np.linalg.pinv(Sigma))\n",
    "# U1 = U\n",
    "# print(U1)\n",
    "# # print(V)\n",
    "# # print(V.T)"
   ]
  },
  {
   "cell_type": "code",
   "execution_count": null,
   "metadata": {},
   "outputs": [],
   "source": []
  }
 ],
 "metadata": {
  "kernelspec": {
   "display_name": "Python 3 (ipykernel)",
   "language": "python",
   "name": "python3"
  },
  "language_info": {
   "codemirror_mode": {
    "name": "ipython",
    "version": 3
   },
   "file_extension": ".py",
   "mimetype": "text/x-python",
   "name": "python",
   "nbconvert_exporter": "python",
   "pygments_lexer": "ipython3",
   "version": "3.9.7"
  }
 },
 "nbformat": 4,
 "nbformat_minor": 4
}
