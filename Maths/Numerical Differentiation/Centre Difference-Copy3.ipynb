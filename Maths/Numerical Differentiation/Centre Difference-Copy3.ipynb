{
 "cells": [
  {
   "cell_type": "code",
   "execution_count": 49,
   "id": "a8a4fa67",
   "metadata": {},
   "outputs": [],
   "source": [
    "# !pip install import-ipynb\n",
    "import import_ipynb\n",
    "\n",
    "import sympy as sy\n",
    "import numpy as np\n",
    "from sympy.functions import sin,cos,exp\n",
    "import matplotlib.pyplot as plt\n",
    "from sympy import* \n",
    "from test_gcf__v2 import*\n",
    "import math\n",
    "import numpy as np\n",
    "import math\n",
    "import fractions\n",
    "import copy\n",
    "import decimal\n",
    "\n",
    "plt.style.use(\"ggplot\")"
   ]
  },
  {
   "cell_type": "markdown",
   "id": "1b481954",
   "metadata": {},
   "source": [
    "Note to users.\n",
    "Code was designed for centre differences of fourth order accuracy and, possibly, higher.\n",
    "\n",
    "Fourth Order centre difference fomulas begin with system matrix and solution vector with a size of 7 or higher."
   ]
  },
  {
   "cell_type": "code",
   "execution_count": 50,
   "id": "7c21a16b",
   "metadata": {},
   "outputs": [],
   "source": [
    "# Centre Difference\n",
    "# Create System Matrix and Solution Vector to calculate weights\n",
    "\n",
    "# Create System Matrix\n",
    "def sys_matrix(n):\n",
    "    if n < 5:\n",
    "        print(\"Matrix size must be 7 or more.\")\n",
    "        return\n",
    "    \n",
    "    # Create list of zeros\n",
    "    if n%2 == 0:\n",
    "     # Create matrix by breaking it into 2 halves\n",
    "        m = int(n/2)\n",
    "        mat_list_1 = np.zeros((n,m))\n",
    "        mat_list_2 = np.zeros((n,m))\n",
    "\n",
    "        # First Half\n",
    "        for i in reversed(range(m)):\n",
    "            for j in range(n):\n",
    "                mat_list_1[j,i] = ((m-i)**j)/math.factorial(j)\n",
    "\n",
    "        # Second Half\n",
    "        for i in range(m):\n",
    "            for j in range(n):\n",
    "                mat_list_2[j,i] = ((m-i)**j)*(-1)**j/math.factorial(j)\n",
    "\n",
    "        # Concatenate \n",
    "        mat_list = np.hstack((mat_list_1,np.flip(mat_list_2,1)))\n",
    "        print(mat_list)\n",
    "    else:\n",
    "        mat_list = np.matrix(np.zeros((n,n)))\n",
    "        print(mat_list)\n",
    "        m = floor(n/2)\n",
    "        print(m)\n",
    "        # First half\n",
    "        print(n)\n",
    "        for i in range(m+1):\n",
    "            for j in range(n):\n",
    "                mat_list[j,i] = ((m-i)**j)\n",
    "                mat_list[j,i + m] = ((i)**j)*(-1)**j\n",
    "\n",
    "        # Middle function\n",
    "        mat_list[0,m] = 1\n",
    "        print(mat_list)\n",
    "\n",
    "    return mat_list"
   ]
  },
  {
   "cell_type": "code",
   "execution_count": 51,
   "id": "be92981d",
   "metadata": {},
   "outputs": [
    {
     "name": "stdout",
     "output_type": "stream",
     "text": [
      "[[0. 0. 0. 0. 0. 0. 0.]\n",
      " [0. 0. 0. 0. 0. 0. 0.]\n",
      " [0. 0. 0. 0. 0. 0. 0.]\n",
      " [0. 0. 0. 0. 0. 0. 0.]\n",
      " [0. 0. 0. 0. 0. 0. 0.]\n",
      " [0. 0. 0. 0. 0. 0. 0.]\n",
      " [0. 0. 0. 0. 0. 0. 0.]]\n",
      "3\n",
      "7\n",
      "[[   1.    1.    1.    1.    1.    1.    1.]\n",
      " [   3.    2.    1.    0.   -1.   -2.   -3.]\n",
      " [   9.    4.    1.    0.    1.    4.    9.]\n",
      " [  27.    8.    1.    0.   -1.   -8.  -27.]\n",
      " [  81.   16.    1.    0.    1.   16.   81.]\n",
      " [ 243.   32.    1.    0.   -1.  -32. -243.]\n",
      " [ 729.   64.    1.    0.    1.   64.  729.]]\n",
      "[[   1.    1.    1.    1.    1.    1.    1.]\n",
      " [   3.    2.    1.    0.   -1.   -2.   -3.]\n",
      " [   9.    4.    1.    0.    1.    4.    9.]\n",
      " [  27.    8.    1.    0.   -1.   -8.  -27.]\n",
      " [  81.   16.    1.    0.    1.   16.   81.]\n",
      " [ 243.   32.    1.    0.   -1.  -32. -243.]\n",
      " [ 729.   64.    1.    0.    1.   64.  729.]]\n"
     ]
    }
   ],
   "source": [
    "# Determine derivative level\n",
    "derivative = 4\n",
    "index = derivative\n",
    "#System size\n",
    "n = 7\n",
    "if derivative < 3:\n",
    "    n = n - 2\n",
    "# Create System matrix\n",
    "mat_list = sys_matrix(n)\n",
    "print(mat_list)"
   ]
  },
  {
   "cell_type": "code",
   "execution_count": 52,
   "id": "6d58fc38",
   "metadata": {},
   "outputs": [
    {
     "name": "stdout",
     "output_type": "stream",
     "text": [
      "[[0. 0. 0. 0. 0. 0. 0.]\n",
      " [0. 0. 0. 0. 0. 0. 0.]\n",
      " [0. 0. 0. 0. 0. 0. 0.]\n",
      " [0. 0. 0. 0. 0. 0. 0.]\n",
      " [0. 0. 0. 0. 0. 0. 0.]\n",
      " [0. 0. 0. 0. 0. 0. 0.]\n",
      " [0. 0. 0. 0. 0. 0. 0.]]\n",
      "3\n",
      "7\n",
      "[[   1.    1.    1.    1.    1.    1.    1.]\n",
      " [   3.    2.    1.    0.   -1.   -2.   -3.]\n",
      " [   9.    4.    1.    0.    1.    4.    9.]\n",
      " [  27.    8.    1.    0.   -1.   -8.  -27.]\n",
      " [  81.   16.    1.    0.    1.   16.   81.]\n",
      " [ 243.   32.    1.    0.   -1.  -32. -243.]\n",
      " [ 729.   64.    1.    0.    1.   64.  729.]]\n",
      "[[0. 0. 0. 0. 4. 0. 0.]]\n",
      "[[-0.02777778]\n",
      " [ 0.33333333]\n",
      " [-1.08333333]\n",
      " [ 1.55555556]\n",
      " [-1.08333333]\n",
      " [ 0.33333333]\n",
      " [-0.02777778]]\n",
      "[[ -1.]\n",
      " [ 12.]\n",
      " [-39.]\n",
      " [ 56.]\n",
      " [-39.]\n",
      " [ 12.]\n",
      " [ -1.]]\n"
     ]
    }
   ],
   "source": [
    "# Create System matrix\n",
    "mat_list = sys_matrix(n)\n",
    "# Determine derivative level\n",
    "# derivative = 1\n",
    "# index = derivative\n",
    "# Initialize solution vector\n",
    "b = np.zeros((1,n))\n",
    "# Input varaibles into solution vector\n",
    "b[0][index] = derivative\n",
    "print(b)\n",
    "# Weights\n",
    "c = np.linalg.pinv(mat_list)*b.T\n",
    "print(c)\n",
    "# Flag to ensure weights are of correct polarity\n",
    "rem = derivative%2\n",
    "sign = 1\n",
    "if rem == 0:\n",
    "    sign = -1\n",
    "c = c/c[0] * sign\n",
    "print(c)\n"
   ]
  },
  {
   "cell_type": "code",
   "execution_count": 53,
   "id": "e2f45902",
   "metadata": {},
   "outputs": [
    {
     "name": "stdout",
     "output_type": "stream",
     "text": [
      "-1\n"
     ]
    }
   ],
   "source": [
    "# derivative%2\n",
    "print(sign)"
   ]
  },
  {
   "cell_type": "code",
   "execution_count": 54,
   "id": "bae1718b",
   "metadata": {},
   "outputs": [
    {
     "name": "stdout",
     "output_type": "stream",
     "text": [
      "[[29.99997276]]\n"
     ]
    }
   ],
   "source": [
    "# Sine Function\n",
    "f = lambda x: 1/(x**2)\n",
    "dx = 0.01\n",
    "t = -1\n",
    "\n",
    "# Function matrix\n",
    "func = np.matrix([f(t-3*dx),f(t-2*dx),f(t-dx),f(t),f(t+dx),f(t+2*dx),f(t+3*dx)])/(dx**4)\n",
    "\n",
    "# Derivative coefficient\n",
    "deriv = (np.matmul(func,c))/math.factorial(4)\n",
    "print(deriv)"
   ]
  },
  {
   "cell_type": "code",
   "execution_count": 55,
   "id": "2d7bedf7",
   "metadata": {},
   "outputs": [],
   "source": [
    "# # Sine Function\n",
    "# f = lambda x: 1/(x**2)\n",
    "# dx = 0.01\n",
    "# t = 2\n",
    "\n",
    "# # Function matrix\n",
    "# func = np.matrix([f(t-2*dx),f(t-dx),f(t),f(t+dx),f(t+2*dx)])/(dx**1)\n",
    "# print(func)\n",
    "\n",
    "# # Derivative coefficient\n",
    "# deriv = (np.matmul(func,c))/math.factorial(1)\n",
    "# print(deriv)"
   ]
  },
  {
   "cell_type": "code",
   "execution_count": 56,
   "id": "ea1ed412",
   "metadata": {},
   "outputs": [],
   "source": [
    "# Create Function\n",
    "def taylor_series(derivative,n):\n",
    "    \n",
    "    # For fourth order CD, size of matrix must be 7 or higher\n",
    "    if n < 7:\n",
    "        print(\"Matrix size must be 7 or more.\")\n",
    "        return\n",
    "    \n",
    "    # Determine derivative level\n",
    "    index = derivative\n",
    "    #System size\n",
    "    n = 7\n",
    "    if derivative < 3:\n",
    "        n = n - 2\n",
    "    # Create System matrix\n",
    "    mat_list = sys_matrix(n)\n",
    "    print(mat_list)\n",
    "    \n",
    "   \n",
    "    # Create list of zeros\n",
    "    if n%2 == 0:\n",
    "     # Create matrix by breaking it into 2 halves\n",
    "        m = int(n/2)\n",
    "        mat_list_1 = np.zeros((n,m))\n",
    "        mat_list_2 = np.zeros((n,m))\n",
    "\n",
    "        # First Half\n",
    "        for i in reversed(range(m)):\n",
    "            for j in range(n):\n",
    "                mat_list_1[j,i] = ((m-i)**j)/math.factorial(j)\n",
    "\n",
    "        # Second Half\n",
    "        for i in range(m):\n",
    "            for j in range(n):\n",
    "                mat_list_2[j,i] = ((m-i)**j)*(-1)**j/math.factorial(j)\n",
    "\n",
    "        # Concatenate \n",
    "        mat_list = np.hstack((mat_list_1,np.flip(mat_list_2,1)))\n",
    "        print(mat_list)\n",
    "    else:\n",
    "        mat_list = np.matrix(np.zeros((n,n)))\n",
    "        print(mat_list)\n",
    "        m = floor(n/2)\n",
    "        print(m)\n",
    "        # First half\n",
    "        print(n)\n",
    "        for i in range(m+1):\n",
    "            for j in range(n):\n",
    "                mat_list[j,i] = ((m-i)**j)\n",
    "                mat_list[j,i + m] = ((i)**j)*(-1)**j\n",
    "\n",
    "        # Middle function\n",
    "        mat_list[0,m] = 1\n",
    "        print(mat_list)\n",
    "        \n",
    "    # Create System matrix\n",
    "    mat_list = sys_matrix(n)\n",
    "    # Initialize solution vector\n",
    "    b = np.zeros((1,n))\n",
    "    # Input varaibles into solution vector\n",
    "    b[0][index] = derivative\n",
    "    print(b)\n",
    "    # Weights\n",
    "    c = np.linalg.pinv(mat_list)*b.T\n",
    "    print(c)\n",
    "    \n",
    "    print(c[0])\n",
    "    den = 1/c[0]\n",
    "    print(\"Denominator:\",den)\n",
    "    \n",
    "    # Flag to ensure weights are of correct polarity\n",
    "    rem = derivative%2\n",
    "    sign = 1\n",
    "    if rem == 0:\n",
    "        sign = -1\n",
    "    c = c/c[0] * sign\n",
    "#     c = c * sign\n",
    "    print(c)\n",
    "   \n",
    "    return c,den\n",
    "\n"
   ]
  },
  {
   "cell_type": "code",
   "execution_count": 57,
   "id": "bddaa484",
   "metadata": {},
   "outputs": [
    {
     "name": "stdout",
     "output_type": "stream",
     "text": [
      "[[0. 0. 0. 0. 0. 0. 0.]\n",
      " [0. 0. 0. 0. 0. 0. 0.]\n",
      " [0. 0. 0. 0. 0. 0. 0.]\n",
      " [0. 0. 0. 0. 0. 0. 0.]\n",
      " [0. 0. 0. 0. 0. 0. 0.]\n",
      " [0. 0. 0. 0. 0. 0. 0.]\n",
      " [0. 0. 0. 0. 0. 0. 0.]]\n",
      "3\n",
      "7\n",
      "[[   1.    1.    1.    1.    1.    1.    1.]\n",
      " [   3.    2.    1.    0.   -1.   -2.   -3.]\n",
      " [   9.    4.    1.    0.    1.    4.    9.]\n",
      " [  27.    8.    1.    0.   -1.   -8.  -27.]\n",
      " [  81.   16.    1.    0.    1.   16.   81.]\n",
      " [ 243.   32.    1.    0.   -1.  -32. -243.]\n",
      " [ 729.   64.    1.    0.    1.   64.  729.]]\n",
      "[[   1.    1.    1.    1.    1.    1.    1.]\n",
      " [   3.    2.    1.    0.   -1.   -2.   -3.]\n",
      " [   9.    4.    1.    0.    1.    4.    9.]\n",
      " [  27.    8.    1.    0.   -1.   -8.  -27.]\n",
      " [  81.   16.    1.    0.    1.   16.   81.]\n",
      " [ 243.   32.    1.    0.   -1.  -32. -243.]\n",
      " [ 729.   64.    1.    0.    1.   64.  729.]]\n",
      "[[0. 0. 0. 0. 0. 0. 0.]\n",
      " [0. 0. 0. 0. 0. 0. 0.]\n",
      " [0. 0. 0. 0. 0. 0. 0.]\n",
      " [0. 0. 0. 0. 0. 0. 0.]\n",
      " [0. 0. 0. 0. 0. 0. 0.]\n",
      " [0. 0. 0. 0. 0. 0. 0.]\n",
      " [0. 0. 0. 0. 0. 0. 0.]]\n",
      "3\n",
      "7\n",
      "[[   1.    1.    1.    1.    1.    1.    1.]\n",
      " [   3.    2.    1.    0.   -1.   -2.   -3.]\n",
      " [   9.    4.    1.    0.    1.    4.    9.]\n",
      " [  27.    8.    1.    0.   -1.   -8.  -27.]\n",
      " [  81.   16.    1.    0.    1.   16.   81.]\n",
      " [ 243.   32.    1.    0.   -1.  -32. -243.]\n",
      " [ 729.   64.    1.    0.    1.   64.  729.]]\n",
      "[[0. 0. 0. 0. 0. 0. 0.]\n",
      " [0. 0. 0. 0. 0. 0. 0.]\n",
      " [0. 0. 0. 0. 0. 0. 0.]\n",
      " [0. 0. 0. 0. 0. 0. 0.]\n",
      " [0. 0. 0. 0. 0. 0. 0.]\n",
      " [0. 0. 0. 0. 0. 0. 0.]\n",
      " [0. 0. 0. 0. 0. 0. 0.]]\n",
      "3\n",
      "7\n",
      "[[   1.    1.    1.    1.    1.    1.    1.]\n",
      " [   3.    2.    1.    0.   -1.   -2.   -3.]\n",
      " [   9.    4.    1.    0.    1.    4.    9.]\n",
      " [  27.    8.    1.    0.   -1.   -8.  -27.]\n",
      " [  81.   16.    1.    0.    1.   16.   81.]\n",
      " [ 243.   32.    1.    0.   -1.  -32. -243.]\n",
      " [ 729.   64.    1.    0.    1.   64.  729.]]\n",
      "[[0. 0. 0. 0. 4. 0. 0.]]\n",
      "[[-0.02777778]\n",
      " [ 0.33333333]\n",
      " [-1.08333333]\n",
      " [ 1.55555556]\n",
      " [-1.08333333]\n",
      " [ 0.33333333]\n",
      " [-0.02777778]]\n",
      "[[-0.02777778]]\n",
      "Denominator: [[-36.]]\n",
      "[[ -1.]\n",
      " [ 12.]\n",
      " [-39.]\n",
      " [ 56.]\n",
      " [-39.]\n",
      " [ 12.]\n",
      " [ -1.]]\n",
      "[[ -1.]\n",
      " [ 12.]\n",
      " [-39.]\n",
      " [ 56.]\n",
      " [-39.]\n",
      " [ 12.]\n",
      " [ -1.]]\n",
      "[matrix([[-36.]])]\n"
     ]
    }
   ],
   "source": [
    "# Derivative\n",
    "derivative = 4\n",
    "# Order\n",
    "n = 7\n",
    "c,den = taylor_series(derivative,n)\n",
    "print(c)\n",
    "print(list(den))"
   ]
  },
  {
   "cell_type": "code",
   "execution_count": 58,
   "id": "34d9afde",
   "metadata": {},
   "outputs": [],
   "source": [
    "# # Function matrix\n",
    "# dx = 0.0001\n",
    "# t = 1\n",
    "# f = lambda x: 1/(x**2)\n",
    "# func = np.matrix([f(t-2*dx),f(t-dx),f(t),f(t+dx),f(t+2*dx)])/(dx**derivative)\n",
    "# deriv = np.matmul(func,c)/math.factorial(1)\n",
    "# print(deriv)"
   ]
  },
  {
   "cell_type": "code",
   "execution_count": 59,
   "id": "cbeae7ee",
   "metadata": {},
   "outputs": [
    {
     "name": "stdout",
     "output_type": "stream",
     "text": [
      "[[-0.00124008]]\n"
     ]
    }
   ],
   "source": [
    "# Trigonometry\n",
    "# Cosh\n",
    "# Derivative Coefficient Term: Must be EVEN\n",
    "term = 7\n",
    "# Delta\n",
    "dx = 0.0001\n",
    "# Guess\n",
    "t= dx*100\n",
    "# Sine Function\n",
    "f = lambda x: np.sin(x)\n",
    "\n",
    "# Function matrix\n",
    "func = np.matrix([f(t-3*dx),f(t-2*dx),f(t-dx),f(t),f(t+dx),f(t+2*dx),f(t+3*dx)])/(6*dx**4)\n",
    "\n",
    "# Sign\n",
    "# sign = 2\n",
    "# rem = term%4\n",
    "# if rem == 3:\n",
    "#     sign = 1  \n",
    "\n",
    "# Derivative coefficient\n",
    "deriv = (np.matmul(func,c)/math.factorial(term)) * 2\n",
    "\n",
    "\n",
    "print(deriv)\n"
   ]
  },
  {
   "cell_type": "code",
   "execution_count": 60,
   "id": "19d0fca6",
   "metadata": {},
   "outputs": [
    {
     "name": "stdout",
     "output_type": "stream",
     "text": [
      "[[-0.00138889]]\n"
     ]
    }
   ],
   "source": [
    "# Trigonometry\n",
    "# Cosh\n",
    "# Derivative Coefficient Term: Must be EVEN\n",
    "term = 6\n",
    "# Delta\n",
    "dx = 0.0001\n",
    "# Guess\n",
    "t= dx/100\n",
    "# Sine Function\n",
    "f = lambda x: np.cos(x)\n",
    "\n",
    "# Function matrix\n",
    "func = np.matrix([f(t-3*dx),f(t-2*dx),f(t-dx),f(t),f(t+dx),f(t+2*dx),f(t+3*dx)])/(36*dx**4)\n",
    "\n",
    "# Sign\n",
    "# sign = 2\n",
    "# rem = term%4\n",
    "# if rem == 3:\n",
    "#     sign = 1  \n",
    "\n",
    "# Derivative coefficient\n",
    "deriv = (np.matmul(func,c)/math.factorial(term))*2*dx*100\n",
    "\n",
    "\n",
    "print(deriv)\n"
   ]
  },
  {
   "cell_type": "code",
   "execution_count": 61,
   "id": "388645c6",
   "metadata": {},
   "outputs": [
    {
     "name": "stdout",
     "output_type": "stream",
     "text": [
      "[[-0.00138809]]\n"
     ]
    }
   ],
   "source": [
    "# Trigonometry\n",
    "# Cosh\n",
    "# Derivative Coefficient Term: Must be EVEN\n",
    "term = 6\n",
    "# Delta\n",
    "dx = 0.00001\n",
    "# Guess\n",
    "t= dx/100\n",
    "# Sine Function\n",
    "f = lambda x: np.exp(x)\n",
    "\n",
    "# Function matrix\n",
    "func = np.matrix([f(t-3*dx),f(t-2*dx),f(t-dx),f(t),f(t+dx),f(t+2*dx),f(t+3*dx)])/(36*dx**4)\n",
    "\n",
    "# Sign\n",
    "# sign = 2\n",
    "# rem = term%4\n",
    "# if rem == 3:\n",
    "#     sign = 1  \n",
    "\n",
    "# Derivative coefficient\n",
    "deriv = (np.matmul(func,c)/math.factorial(term))*2*dx/10\n",
    "\n",
    "\n",
    "print(deriv)\n"
   ]
  },
  {
   "cell_type": "code",
   "execution_count": 62,
   "id": "fb95f8d3",
   "metadata": {},
   "outputs": [
    {
     "name": "stdout",
     "output_type": "stream",
     "text": [
      "[[-0.33333288]]\n"
     ]
    }
   ],
   "source": [
    "# Trigonometry\n",
    "# Cosh\n",
    "# Derivative Coefficient Term: Must be EVEN\n",
    "term = 3\n",
    "# Delta\n",
    "dx = 0.001*term\n",
    "# Guess\n",
    "t= 0\n",
    "# Sine Function\n",
    "f = lambda x: np.log(1+x)\n",
    "\n",
    "# Function matrix\n",
    "func = np.matrix([f(t-3*dx),f(t-2*dx),f(t-dx),f(t),f(t+dx),f(t+2*dx),f(t+3*dx)])/(36*dx**4)\n",
    "\n",
    "# Sign\n",
    "# sign = 2\n",
    "# rem = term%4\n",
    "# if rem == 3:\n",
    "#     sign = 1  \n",
    "\n",
    "# Derivative coefficient\n",
    "deriv = np.matmul(func,c)/term\n",
    "\n",
    "\n",
    "print(deriv)\n"
   ]
  },
  {
   "cell_type": "code",
   "execution_count": 63,
   "id": "01df18ca",
   "metadata": {},
   "outputs": [
    {
     "name": "stdout",
     "output_type": "stream",
     "text": [
      "[[0.99999939]]\n"
     ]
    }
   ],
   "source": [
    "# Trigonometry\n",
    "# Cosh\n",
    "# Derivative Coefficient Term: Must be EVEN\n",
    "term = 7\n",
    "# Delta\n",
    "dx = 0.01\n",
    "# Guess\n",
    "t= 0\n",
    "# Sine Function\n",
    "f = lambda x: 1/(1-x)\n",
    "\n",
    "# Function matrix\n",
    "func = np.matrix([f(t-3*dx),f(t-2*dx),f(t-dx),f(t),f(t+dx),f(t+2*dx),f(t+3*dx)])/(36*dx**4)\n",
    "\n",
    "# Sign\n",
    "# sign = 2\n",
    "# rem = term%4\n",
    "# if rem == 3:\n",
    "#     sign = 1  \n",
    "\n",
    "# Derivative coefficient\n",
    "deriv = np.matmul(func,c)/4\n",
    "\n",
    "\n",
    "print(deriv)\n"
   ]
  },
  {
   "cell_type": "code",
   "execution_count": 64,
   "id": "92490a68",
   "metadata": {},
   "outputs": [
    {
     "name": "stdout",
     "output_type": "stream",
     "text": [
      "[[0.99999939]]\n"
     ]
    }
   ],
   "source": [
    "# Trigonometry\n",
    "# Cosh\n",
    "# Derivative Coefficient Term: Must be EVEN\n",
    "term = 7\n",
    "# Delta\n",
    "dx = 0.01\n",
    "# Guess\n",
    "t= 0\n",
    "# Sine Function\n",
    "f = lambda x: 1/(1+x)\n",
    "\n",
    "# Function matrix\n",
    "func = np.matrix([f(t-3*dx),f(t-2*dx),f(t-dx),f(t),f(t+dx),f(t+2*dx),f(t+3*dx)])/(36*dx**4)\n",
    "\n",
    "# Sign\n",
    "# sign = 2\n",
    "# rem = term%4\n",
    "# if rem == 3:\n",
    "#     sign = 1  \n",
    "\n",
    "# Derivative coefficient\n",
    "deriv = np.matmul(func,c)/4\n",
    "\n",
    "\n",
    "print(deriv)\n"
   ]
  },
  {
   "cell_type": "code",
   "execution_count": 65,
   "id": "468d81c9",
   "metadata": {},
   "outputs": [
    {
     "data": {
      "text/latex": [
       "$\\displaystyle - x^{7} + x^{6} - x^{5} + x^{4} - x^{3} + x^{2} - x + 1$"
      ],
      "text/plain": [
       "-x**7 + x**6 - x**5 + x**4 - x**3 + x**2 - x + 1"
      ]
     },
     "execution_count": 65,
     "metadata": {},
     "output_type": "execute_result"
    }
   ],
   "source": [
    "var( 'x' )\n",
    "formula = 1/(1+x)\n",
    "series(formula, x, 0, 8).removeO()"
   ]
  },
  {
   "cell_type": "code",
   "execution_count": null,
   "id": "0f1c9c55",
   "metadata": {},
   "outputs": [],
   "source": []
  }
 ],
 "metadata": {
  "kernelspec": {
   "display_name": "Python 3 (ipykernel)",
   "language": "python",
   "name": "python3"
  },
  "language_info": {
   "codemirror_mode": {
    "name": "ipython",
    "version": 3
   },
   "file_extension": ".py",
   "mimetype": "text/x-python",
   "name": "python",
   "nbconvert_exporter": "python",
   "pygments_lexer": "ipython3",
   "version": "3.9.7"
  }
 },
 "nbformat": 4,
 "nbformat_minor": 5
}
