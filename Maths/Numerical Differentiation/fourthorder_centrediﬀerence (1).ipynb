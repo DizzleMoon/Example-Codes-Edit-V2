{
 "cells": [
  {
   "cell_type": "code",
   "execution_count": 1,
   "id": "57010cb4",
   "metadata": {
    "ExecuteTime": {
     "end_time": "2022-04-05T01:41:27.202485Z",
     "start_time": "2022-04-05T01:41:27.182539Z"
    }
   },
   "outputs": [],
   "source": [
    "import sympy as sym\n",
    "import numpy as num\n",
    "import matplotlib.pyplot as pyplot\n",
    "\n",
    "import sympy as sy\n",
    "import numpy as np\n",
    "from sympy.functions import sin,cos,exp\n",
    "import matplotlib.pyplot as plt\n",
    "from sympy import* \n",
    "import math\n",
    "plt.style.use(\"ggplot\")\n",
    "\n",
    "pyplot.style.use(\"ggplot\")"
   ]
  },
  {
   "cell_type": "code",
   "execution_count": 2,
   "id": "a268f902",
   "metadata": {
    "ExecuteTime": {
     "end_time": "2022-04-05T01:41:27.217447Z",
     "start_time": "2022-04-05T01:41:27.204480Z"
    }
   },
   "outputs": [],
   "source": [
    "def centre_difference(order):\n",
    "    # Initialize variables\n",
    "    if order == \"first-order\":\n",
    "        # First Order\n",
    "        # System Matrix\n",
    "        n = 4\n",
    "        # Solution\n",
    "        # Value\n",
    "        sol_val = 12\n",
    "        # index \n",
    "        index = 1 \n",
    "        \n",
    "    elif order == \"second-order\":\n",
    "        # Second Order\n",
    "        # System Matrix\n",
    "        n = 5\n",
    "        # Solution\n",
    "        # Value\n",
    "        sol_val = 12\n",
    "        # index \n",
    "        index = 2\n",
    "        \n",
    "    elif order == \"third-order\":\n",
    "        # Third Order\n",
    "        # System Matrix\n",
    "        n = 6\n",
    "        # Solution\n",
    "        # Value\n",
    "        sol_val = 8\n",
    "        # index \n",
    "        index = 3\n",
    "        \n",
    "    elif order == \"fourth-order\":\n",
    "        # Fourth Order\n",
    "        # System Matrix\n",
    "        n = 7\n",
    "        # Solution\n",
    "        # Value\n",
    "        sol_val = 6\n",
    "        # index \n",
    "        index = 4\n",
    "        \n",
    "    return n,sol_val,index"
   ]
  },
  {
   "cell_type": "code",
   "execution_count": 3,
   "id": "f66205f3",
   "metadata": {
    "ExecuteTime": {
     "end_time": "2022-04-05T01:41:27.233403Z",
     "start_time": "2022-04-05T01:41:27.219440Z"
    }
   },
   "outputs": [],
   "source": [
    "# Function\n",
    "n,sol_val,index = centre_difference(\"fourth-order\")"
   ]
  },
  {
   "cell_type": "code",
   "execution_count": 4,
   "id": "9283390d",
   "metadata": {
    "ExecuteTime": {
     "end_time": "2022-04-05T01:41:27.249361Z",
     "start_time": "2022-04-05T01:41:27.236396Z"
    }
   },
   "outputs": [],
   "source": [
    "# Create System Matrix\n",
    "def sys_matrix(n):\n",
    "    if n%2 == 0:\n",
    "\n",
    "        # Create matrix by breaking it into 2 halves\n",
    "        m = int(n/2)\n",
    "        mat_list_1 = np.zeros((n,m))\n",
    "        mat_list_2 = np.zeros((n,m))\n",
    "\n",
    "        # First Half\n",
    "        for i in reversed(range(m)):\n",
    "            for j in range(n):\n",
    "                mat_list_1[j,i] = ((m-i)**j)/math.factorial(j)\n",
    "\n",
    "        # Second Half\n",
    "        for i in range(m):\n",
    "            for j in range(n):\n",
    "                mat_list_2[j,i] = ((m-i)**j)*(-1)**j/math.factorial(j)\n",
    "\n",
    "        # Concatenate \n",
    "        mat_list = np.hstack((mat_list_1,np.flip(mat_list_2,1)))\n",
    "        print(mat_list)\n",
    "\n",
    "    else:\n",
    "        mat_list = np.matrix(np.zeros((n,n)))\n",
    "        m = floor(n/2)\n",
    "\n",
    "        for i in range(m+1):\n",
    "            for j in range(n):\n",
    "                mat_list[j,i] = ((m-i)**j)/math.factorial(j)\n",
    "                mat_list[j,i + m] = ((i)**j)*(-1)**j/math.factorial(j)\n",
    "\n",
    "        # Middle function\n",
    "        mat_list[0,m] = 1\n",
    "        print(mat_list)\n",
    "        \n",
    "    return mat_list"
   ]
  },
  {
   "cell_type": "code",
   "execution_count": 5,
   "id": "074cf5b2",
   "metadata": {
    "ExecuteTime": {
     "end_time": "2022-04-05T01:41:27.264320Z",
     "start_time": "2022-04-05T01:41:27.251355Z"
    }
   },
   "outputs": [
    {
     "name": "stdout",
     "output_type": "stream",
     "text": [
      "[[ 1.00000000e+00  1.00000000e+00  1.00000000e+00  1.00000000e+00\n",
      "   1.00000000e+00  1.00000000e+00  1.00000000e+00]\n",
      " [ 3.00000000e+00  2.00000000e+00  1.00000000e+00  0.00000000e+00\n",
      "  -1.00000000e+00 -2.00000000e+00 -3.00000000e+00]\n",
      " [ 4.50000000e+00  2.00000000e+00  5.00000000e-01  0.00000000e+00\n",
      "   5.00000000e-01  2.00000000e+00  4.50000000e+00]\n",
      " [ 4.50000000e+00  1.33333333e+00  1.66666667e-01  0.00000000e+00\n",
      "  -1.66666667e-01 -1.33333333e+00 -4.50000000e+00]\n",
      " [ 3.37500000e+00  6.66666667e-01  4.16666667e-02  0.00000000e+00\n",
      "   4.16666667e-02  6.66666667e-01  3.37500000e+00]\n",
      " [ 2.02500000e+00  2.66666667e-01  8.33333333e-03  0.00000000e+00\n",
      "  -8.33333333e-03 -2.66666667e-01 -2.02500000e+00]\n",
      " [ 1.01250000e+00  8.88888889e-02  1.38888889e-03  0.00000000e+00\n",
      "   1.38888889e-03  8.88888889e-02  1.01250000e+00]]\n",
      "[[ -1.]\n",
      " [ 12.]\n",
      " [-39.]\n",
      " [ 56.]\n",
      " [-39.]\n",
      " [ 12.]\n",
      " [ -1.]]\n"
     ]
    }
   ],
   "source": [
    "# Create System Matrix\n",
    "mat_list = sys_matrix(n)\n",
    "# Solution Vector\n",
    "b = np.zeros((1,n))\n",
    "# Index\n",
    "b[0][index] = sol_val\n",
    "# Create Weights\n",
    "c = np.linalg.pinv(np.matrix(mat_list))*b.T\n",
    "print(c)\n"
   ]
  },
  {
   "cell_type": "code",
   "execution_count": 6,
   "id": "6dd7df5b",
   "metadata": {
    "ExecuteTime": {
     "end_time": "2022-04-05T01:41:27.280278Z",
     "start_time": "2022-04-05T01:41:27.265317Z"
    }
   },
   "outputs": [
    {
     "name": "stdout",
     "output_type": "stream",
     "text": [
      "[[1.60590438e-10]]\n"
     ]
    }
   ],
   "source": [
    "# Trigonometry\n",
    "# Sine \n",
    "# Delta\n",
    "dx = 0.0001\n",
    "# Guess\n",
    "t= dx*100\n",
    "# Derivative Coefficient Term: Must be ODD\n",
    "term = 13\n",
    "# Sine Function\n",
    "f = lambda x: np.sin(x)\n",
    "\n",
    "# Function matrix\n",
    "func = np.matrix([f(t-3*dx),f(t-2*dx),f(t-dx),f(t),f(t+dx),f(t+2*dx),f(t+3*dx)])/(dx**4)\n",
    "\n",
    "# Sign\n",
    "sign = 2\n",
    "rem = term%4\n",
    "if rem == 3:\n",
    "    sign = 1  \n",
    "\n",
    "# Derivative coefficient\n",
    "deriv = (np.matmul(func,c)/6/math.factorial(term)) * (-1) ** (sign)\n",
    "\n",
    "print(deriv)\n"
   ]
  },
  {
   "cell_type": "code",
   "execution_count": 7,
   "id": "8bf39e48",
   "metadata": {
    "ExecuteTime": {
     "end_time": "2022-04-05T01:41:27.356928Z",
     "start_time": "2022-04-05T01:41:27.282272Z"
    }
   },
   "outputs": [
    {
     "data": {
      "text/latex": [
       "$\\displaystyle \\frac{x^{17}}{355687428096000} - \\frac{x^{15}}{1307674368000} + \\frac{x^{13}}{6227020800} - \\frac{x^{11}}{39916800} + \\frac{x^{9}}{362880} - \\frac{x^{7}}{5040} + \\frac{x^{5}}{120} - \\frac{x^{3}}{6} + x$"
      ],
      "text/plain": [
       "x**17/355687428096000 - x**15/1307674368000 + x**13/6227020800 - x**11/39916800 + x**9/362880 - x**7/5040 + x**5/120 - x**3/6 + x"
      ]
     },
     "execution_count": 7,
     "metadata": {},
     "output_type": "execute_result"
    }
   ],
   "source": [
    "from sympy import*\n",
    "var( 'x' )\n",
    "formula = sin(x)\n",
    "series(formula, x, 0, 18).removeO()"
   ]
  },
  {
   "cell_type": "code",
   "execution_count": 8,
   "id": "e6f70b61",
   "metadata": {
    "ExecuteTime": {
     "end_time": "2022-04-05T01:41:27.372887Z",
     "start_time": "2022-04-05T01:41:27.358924Z"
    }
   },
   "outputs": [
    {
     "name": "stdout",
     "output_type": "stream",
     "text": [
      "[[-1.14707392e-11]]\n"
     ]
    }
   ],
   "source": [
    "# Trigonometry \n",
    "# Cosine \n",
    "# Delta\n",
    "dx = 0.06001\n",
    "# Guess\n",
    "t= dx/100\n",
    "# Derivative Coefficient Term: Must be EVEN\n",
    "term = 14\n",
    "# Sine Function\n",
    "f = lambda x: np.cos(x)\n",
    "\n",
    "# Function matrix\n",
    "func = np.matrix([f(t-3*dx),f(t-2*dx),f(t-dx),f(t),f(t+dx),f(t+2*dx),f(t+3*dx)])/(dx**4)\n",
    "\n",
    "# Sign\n",
    "sign = 1\n",
    "rem = term%4\n",
    "if rem == 0 or rem == 3:\n",
    "    sign = 2  \n",
    "\n",
    "# Derivative coefficient\n",
    "deriv = (np.matmul(func,c)/6/math.factorial(term)) * (-1) ** (sign)\n",
    "\n",
    "print(deriv)"
   ]
  },
  {
   "cell_type": "code",
   "execution_count": 9,
   "id": "16f7b242",
   "metadata": {
    "ExecuteTime": {
     "end_time": "2022-04-05T01:41:27.449681Z",
     "start_time": "2022-04-05T01:41:27.374881Z"
    }
   },
   "outputs": [
    {
     "data": {
      "text/latex": [
       "$\\displaystyle \\frac{x^{16}}{20922789888000} - \\frac{x^{14}}{87178291200} + \\frac{x^{12}}{479001600} - \\frac{x^{10}}{3628800} + \\frac{x^{8}}{40320} - \\frac{x^{6}}{720} + \\frac{x^{4}}{24} - \\frac{x^{2}}{2} + 1$"
      ],
      "text/plain": [
       "x**16/20922789888000 - x**14/87178291200 + x**12/479001600 - x**10/3628800 + x**8/40320 - x**6/720 + x**4/24 - x**2/2 + 1"
      ]
     },
     "execution_count": 9,
     "metadata": {},
     "output_type": "execute_result"
    }
   ],
   "source": [
    "from sympy import*\n",
    "var( 'x' )\n",
    "formula = cos(x)\n",
    "series(formula, x, 0, 18).removeO()"
   ]
  },
  {
   "cell_type": "code",
   "execution_count": null,
   "id": "cad27e26",
   "metadata": {},
   "outputs": [],
   "source": []
  }
 ],
 "metadata": {
  "kernelspec": {
   "display_name": "Python 3 (ipykernel)",
   "language": "python",
   "name": "python3"
  },
  "language_info": {
   "codemirror_mode": {
    "name": "ipython",
    "version": 3
   },
   "file_extension": ".py",
   "mimetype": "text/x-python",
   "name": "python",
   "nbconvert_exporter": "python",
   "pygments_lexer": "ipython3",
   "version": "3.9.7"
  }
 },
 "nbformat": 4,
 "nbformat_minor": 5
}
