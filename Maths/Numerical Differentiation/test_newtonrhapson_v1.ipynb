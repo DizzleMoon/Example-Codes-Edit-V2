{
 "cells": [
  {
   "cell_type": "code",
   "execution_count": 1,
   "id": "8ddb3bcf",
   "metadata": {},
   "outputs": [],
   "source": [
    "import sympy as sy\n",
    "import numpy as np\n",
    "from sympy.functions import sin,cos,exp\n",
    "import matplotlib.pyplot as plt\n",
    "from sympy import* \n",
    "import math\n",
    "plt.style.use(\"ggplot\")"
   ]
  },
  {
   "cell_type": "code",
   "execution_count": 2,
   "id": "a6fed0fc",
   "metadata": {},
   "outputs": [],
   "source": [
    "def newton(f,Df,x0,epsilon,max_iter):\n",
    "    '''Approximate solution of f(x)=0 by Newton's method.\n",
    "\n",
    "    Parameters\n",
    "    ----------\n",
    "    f : function\n",
    "        Function for which we are searching for a solution f(x)=0.\n",
    "    Df : function\n",
    "        Derivative of f(x).\n",
    "    x0 : number\n",
    "        Initial guess for a solution f(x)=0.\n",
    "    epsilon : number\n",
    "        Stopping criteria is abs(f(x)) < epsilon.\n",
    "    max_iter : integer\n",
    "        Maximum number of iterations of Newton's method.\n",
    "\n",
    "    Returns\n",
    "    -------\n",
    "    xn : number\n",
    "        Implement Newton's method: compute the linear approximation\n",
    "        of f(x) at xn and find x intercept by the formula\n",
    "            x = xn - f(xn)/Df(xn)\n",
    "        Continue until abs(f(xn)) < epsilon and return xn.\n",
    "        If Df(xn) == 0, return None. If the number of iterations\n",
    "        exceeds max_iter, then return None.\n",
    "\n",
    "    Examples\n",
    "    --------\n",
    "    >>> f = lambda x: x**2 - x - 1\n",
    "    >>> Df = lambda x: 2*x - 1\n",
    "    >>> newton(f,Df,1,1e-8,10)\n",
    "    Found solution after 5 iterations.\n",
    "    1.618033988749989\n",
    "    '''\n",
    "    xn = x0\n",
    "    for n in range(0,max_iter):\n",
    "        fxn = f(xn)\n",
    "        if abs(fxn) < epsilon:\n",
    "            print('Found solution after',n,'iterations.')\n",
    "            return xn\n",
    "        Dfxn = Df(xn)\n",
    "        if Dfxn == 0:\n",
    "            print('Zero derivative. No solution found.')\n",
    "            return None\n",
    "        xn = xn - fxn/Dfxn\n",
    "    print('Exceeded maximum iterations. No solution found.')\n",
    "    return None"
   ]
  },
  {
   "cell_type": "code",
   "execution_count": 7,
   "id": "718fbba7",
   "metadata": {},
   "outputs": [
    {
     "name": "stdout",
     "output_type": "stream",
     "text": [
      "Found solution after 7 iterations.\n",
      "-1.9999999999999991\n"
     ]
    }
   ],
   "source": [
    "p = lambda x: 1*x**2 + 5*x + 6\n",
    "Dp = lambda x: 2*x + 5\n",
    "approx = newton(p,Dp,1,1e-10,10)\n",
    "print(approx)"
   ]
  },
  {
   "cell_type": "code",
   "execution_count": 8,
   "id": "aa5e447c",
   "metadata": {},
   "outputs": [],
   "source": [
    "import sympy as sy\n",
    "import numpy as np\n",
    "from sympy.functions import sin,cos,exp\n",
    "import matplotlib.pyplot as plt\n",
    "from sympy import* \n",
    "import math\n",
    "plt.style.use(\"ggplot\")"
   ]
  },
  {
   "cell_type": "code",
   "execution_count": null,
   "id": "b66b2d57",
   "metadata": {},
   "outputs": [],
   "source": [
    "var('x')\n",
    "x = sy.Symbol('x')"
   ]
  }
 ],
 "metadata": {
  "kernelspec": {
   "display_name": "Python 3 (ipykernel)",
   "language": "python",
   "name": "python3"
  },
  "language_info": {
   "codemirror_mode": {
    "name": "ipython",
    "version": 3
   },
   "file_extension": ".py",
   "mimetype": "text/x-python",
   "name": "python",
   "nbconvert_exporter": "python",
   "pygments_lexer": "ipython3",
   "version": "3.9.7"
  }
 },
 "nbformat": 4,
 "nbformat_minor": 5
}
