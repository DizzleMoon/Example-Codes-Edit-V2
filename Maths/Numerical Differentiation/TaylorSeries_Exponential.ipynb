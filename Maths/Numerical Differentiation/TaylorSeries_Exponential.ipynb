{
 "cells": [
  {
   "cell_type": "code",
   "execution_count": 708,
   "id": "93209f23",
   "metadata": {},
   "outputs": [],
   "source": [
    "import sympy as sym\n",
    "import numpy as num\n",
    "import matplotlib.pyplot as pyplot\n",
    "\n",
    "import sympy as sy\n",
    "import numpy as np\n",
    "from sympy.functions import sin,cos,exp\n",
    "import matplotlib.pyplot as plt\n",
    "from sympy import* \n",
    "import math\n",
    "plt.style.use(\"ggplot\")\n",
    "\n",
    "pyplot.style.use(\"ggplot\")"
   ]
  },
  {
   "cell_type": "code",
   "execution_count": 709,
   "id": "860697f3",
   "metadata": {},
   "outputs": [
    {
     "name": "stdout",
     "output_type": "stream",
     "text": [
      "[[ 1.00000000e+00  1.00000000e+00  1.00000000e+00  1.00000000e+00\n",
      "   1.00000000e+00  1.00000000e+00  1.00000000e+00]\n",
      " [ 3.00000000e+00  2.00000000e+00  1.00000000e+00  0.00000000e+00\n",
      "  -1.00000000e+00 -2.00000000e+00 -3.00000000e+00]\n",
      " [ 4.50000000e+00  2.00000000e+00  5.00000000e-01  0.00000000e+00\n",
      "   5.00000000e-01  2.00000000e+00  4.50000000e+00]\n",
      " [ 4.50000000e+00  1.33333333e+00  1.66666667e-01  0.00000000e+00\n",
      "  -1.66666667e-01 -1.33333333e+00 -4.50000000e+00]\n",
      " [ 3.37500000e+00  6.66666667e-01  4.16666667e-02  0.00000000e+00\n",
      "   4.16666667e-02  6.66666667e-01  3.37500000e+00]\n",
      " [ 2.02500000e+00  2.66666667e-01  8.33333333e-03  0.00000000e+00\n",
      "  -8.33333333e-03 -2.66666667e-01 -2.02500000e+00]\n",
      " [ 1.01250000e+00  8.88888889e-02  1.38888889e-03  0.00000000e+00\n",
      "   1.38888889e-03  8.88888889e-02  1.01250000e+00]]\n",
      "[[ -1.]\n",
      " [ 12.]\n",
      " [-39.]\n",
      " [ 56.]\n",
      " [-39.]\n",
      " [ 12.]\n",
      " [ -1.]]\n",
      "[[1.60590438e-10]]\n",
      "[[-1.14707392e-11]]\n"
     ]
    }
   ],
   "source": [
    "# Import modules from another workbook\n",
    "# %%capture\n",
    "%run fourthorder_centrediﬀerence.ipynb"
   ]
  },
  {
   "cell_type": "code",
   "execution_count": 710,
   "id": "3e62d4b0",
   "metadata": {},
   "outputs": [
    {
     "name": "stdout",
     "output_type": "stream",
     "text": [
      "7\n",
      "6\n",
      "4\n"
     ]
    }
   ],
   "source": [
    "# Function\n",
    "n,sol_val,index = centre_difference(\"fourth-order\")\n",
    "print(n)\n",
    "print(sol_val)\n",
    "print(index)"
   ]
  },
  {
   "cell_type": "code",
   "execution_count": 711,
   "id": "c23520f1",
   "metadata": {
    "scrolled": true
   },
   "outputs": [
    {
     "name": "stdout",
     "output_type": "stream",
     "text": [
      "[[ 1.00000000e+00  1.00000000e+00  1.00000000e+00  1.00000000e+00\n",
      "   1.00000000e+00  1.00000000e+00  1.00000000e+00]\n",
      " [ 3.00000000e+00  2.00000000e+00  1.00000000e+00  0.00000000e+00\n",
      "  -1.00000000e+00 -2.00000000e+00 -3.00000000e+00]\n",
      " [ 4.50000000e+00  2.00000000e+00  5.00000000e-01  0.00000000e+00\n",
      "   5.00000000e-01  2.00000000e+00  4.50000000e+00]\n",
      " [ 4.50000000e+00  1.33333333e+00  1.66666667e-01  0.00000000e+00\n",
      "  -1.66666667e-01 -1.33333333e+00 -4.50000000e+00]\n",
      " [ 3.37500000e+00  6.66666667e-01  4.16666667e-02  0.00000000e+00\n",
      "   4.16666667e-02  6.66666667e-01  3.37500000e+00]\n",
      " [ 2.02500000e+00  2.66666667e-01  8.33333333e-03  0.00000000e+00\n",
      "  -8.33333333e-03 -2.66666667e-01 -2.02500000e+00]\n",
      " [ 1.01250000e+00  8.88888889e-02  1.38888889e-03  0.00000000e+00\n",
      "   1.38888889e-03  8.88888889e-02  1.01250000e+00]]\n",
      "[[ -1.]\n",
      " [ 12.]\n",
      " [-39.]\n",
      " [ 56.]\n",
      " [-39.]\n",
      " [ 12.]\n",
      " [ -1.]]\n"
     ]
    }
   ],
   "source": [
    "# Create System Matrix\n",
    "mat_list = sys_matrix(n)\n",
    "# Solution Vector\n",
    "b = np.zeros((1,n))\n",
    "# Index\n",
    "b[0][index] = sol_val\n",
    "# Create Weights\n",
    "c = np.linalg.pinv(np.matrix(mat_list))*b.T\n",
    "print(c)\n"
   ]
  },
  {
   "cell_type": "code",
   "execution_count": 712,
   "id": "8ae4af04",
   "metadata": {},
   "outputs": [
    {
     "name": "stdout",
     "output_type": "stream",
     "text": [
      "[[64449.86199161 68435.2188825  72667.01648027 77160.49382716\n",
      "  81931.83229517 86998.21385643 92377.88295693]]\n",
      "[[0.04166665]]\n"
     ]
    }
   ],
   "source": [
    "#Exponential\n",
    "# Delta\n",
    "dx = 0.01*6\n",
    "# Guess\n",
    "t= 0\n",
    "# Derivative Coefficient Term\n",
    "term = 4\n",
    "# Exp Function\n",
    "f = lambda x: np.exp(x)\n",
    "\n",
    "# Function matrix\n",
    "func = np.matrix([f(t-3*dx),f(t-2*dx),f(t-dx),f(t),f(t+dx),f(t+2*dx),f(t+3*dx)])/(dx**4)\n",
    "# func = np.matrix([f(t-2*dx),f(t-dx),f(t),f(t+dx),f(t+2*dx)])/(dx**2)\n",
    "print(func)\n",
    "\n",
    "# Derivative coefficient\n",
    "deriv = (np.matmul(func,c))/6/math.factorial(term)\n",
    "print(deriv)\n"
   ]
  },
  {
   "cell_type": "code",
   "execution_count": 713,
   "id": "64c003ea",
   "metadata": {},
   "outputs": [
    {
     "name": "stdout",
     "output_type": "stream",
     "text": [
      "[[0.1666666]]\n"
     ]
    }
   ],
   "source": [
    "# Differentation\n",
    "# Setup Differentation Counter\n",
    "diff_counter = term\n",
    "# Conduct differentation\n",
    "deriv_diff = deriv*diff_counter\n",
    "print(deriv_diff)\n",
    "# Update differentation counter\n",
    "diff_counter = diff_counter - 1"
   ]
  },
  {
   "cell_type": "code",
   "execution_count": null,
   "id": "1ce54e99",
   "metadata": {},
   "outputs": [],
   "source": []
  }
 ],
 "metadata": {
  "kernelspec": {
   "display_name": "Python 3 (ipykernel)",
   "language": "python",
   "name": "python3"
  },
  "language_info": {
   "codemirror_mode": {
    "name": "ipython",
    "version": 3
   },
   "file_extension": ".py",
   "mimetype": "text/x-python",
   "name": "python",
   "nbconvert_exporter": "python",
   "pygments_lexer": "ipython3",
   "version": "3.9.7"
  }
 },
 "nbformat": 4,
 "nbformat_minor": 5
}
