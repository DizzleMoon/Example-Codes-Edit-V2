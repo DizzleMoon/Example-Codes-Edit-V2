{
 "cells": [
  {
   "cell_type": "code",
   "execution_count": 53,
   "id": "4d7b22fa",
   "metadata": {},
   "outputs": [],
   "source": [
    "import sympy as sym\n",
    "import numpy as num\n",
    "import matplotlib.pyplot as pyplot\n",
    "\n",
    "import sympy as sy\n",
    "import numpy as np\n",
    "from sympy.functions import sin,cos,exp\n",
    "import matplotlib.pyplot as plt\n",
    "from sympy import* \n",
    "import math\n",
    "plt.style.use(\"ggplot\")\n",
    "\n",
    "pyplot.style.use(\"ggplot\")"
   ]
  },
  {
   "cell_type": "code",
   "execution_count": 54,
   "id": "2fb03807",
   "metadata": {},
   "outputs": [],
   "source": [
    "x = 0\n",
    "h = 0.001\n",
    "n = 4\n",
    "term = 3\n",
    "# f = lambda x: np.exp(x)"
   ]
  },
  {
   "cell_type": "code",
   "execution_count": 55,
   "id": "dca83032",
   "metadata": {},
   "outputs": [
    {
     "name": "stdout",
     "output_type": "stream",
     "text": [
      "2\n",
      "4\n",
      "[[ 1.  1.  1.  1.]\n",
      " [ 2.  1.  0. -1.]\n",
      " [ 4.  1.  0.  1.]\n",
      " [ 8.  1.  0. -1.]]\n"
     ]
    }
   ],
   "source": [
    "# Create list of zeros\n",
    "mat_list = np.matrix(np.zeros((n,n)))\n",
    "m = floor(n/2)\n",
    "print(m)\n",
    "# First half\n",
    "print(n)\n",
    "for i in range(m):\n",
    "#     print(i)\n",
    "    for j in range(n):\n",
    "        mat_list[j,i] = ((m-i)**j)\n",
    "        mat_list[j,i + m] = ((i)**j)*(-1)**j\n",
    "\n",
    "# Middle function\n",
    "mat_list[0,m] = 1\n",
    "print(mat_list)"
   ]
  },
  {
   "cell_type": "code",
   "execution_count": 56,
   "id": "e0951dd6",
   "metadata": {},
   "outputs": [
    {
     "name": "stdout",
     "output_type": "stream",
     "text": [
      "-1.0\n",
      "0.5\n",
      "-0.16666666666666666\n",
      "0.041666666666666664\n"
     ]
    }
   ],
   "source": [
    "for i in range(0,4):\n",
    "    print(1/math.factorial(i+1)*(-1)**(i+1))"
   ]
  },
  {
   "cell_type": "code",
   "execution_count": 57,
   "id": "12e29e03",
   "metadata": {},
   "outputs": [
    {
     "name": "stdout",
     "output_type": "stream",
     "text": [
      "[[0. 0. 0. 0.]\n",
      " [0. 0. 0. 0.]\n",
      " [0. 0. 0. 0.]\n",
      " [0. 0. 0. 0.]]\n",
      "2\n",
      "[[ 2.          0.5         0.5         2.        ]\n",
      " [ 2.          0.16666667 -0.16666667 -2.        ]\n",
      " [ 1.33333333  0.04166667  0.04166667  1.33333333]\n",
      " [ 0.66666667  0.00833333 -0.00833333 -0.66666667]]\n"
     ]
    }
   ],
   "source": [
    "# Create list of zeros\n",
    "q = 0\n",
    "mat_list = np.matrix(np.zeros((n,n)))\n",
    "print(mat_list)\n",
    "# m = floor(n/2)\n",
    "m = 2\n",
    "print(m)\n",
    "for j in range(m): \n",
    "    for i in range(1,n+1):\n",
    "        mat_list[i-1,3*j] = ((m**(i))/math.factorial(i)) \n",
    "        mat_list[i-1,3*j-2]=(1/math.factorial(i+1))\n",
    "        if j > (m/2 - 1):\n",
    "            mat_list[i-1,3*j] = ((m**(i))/math.factorial(i))*(-1)**(i+1)\n",
    "            mat_list[i-1,3*j-1]=(1/math.factorial(i+1)) * (-1)**(i+1)            \n",
    "print(mat_list)"
   ]
  },
  {
   "cell_type": "code",
   "execution_count": 58,
   "id": "efe071fd",
   "metadata": {},
   "outputs": [
    {
     "name": "stdout",
     "output_type": "stream",
     "text": [
      "3\n",
      "[[0. 0. 2. 0.]]\n",
      "[[ 0.85714286]\n",
      " [-3.42857143]\n",
      " [-3.42857143]\n",
      " [ 0.85714286]]\n"
     ]
    }
   ],
   "source": [
    "# Index\n",
    "print(term)\n",
    "b = np.zeros((1,n))\n",
    "# b[0][term-1] = math.factorial(term-1)/(h**(term-1))\n",
    "b[0][term-1] = math.factorial(term-1)\n",
    "print(b)\n",
    "# Weights\n",
    "c = np.linalg.pinv(mat_list)*b.T\n",
    "print(c)\n"
   ]
  },
  {
   "cell_type": "code",
   "execution_count": 59,
   "id": "a935b2ec",
   "metadata": {},
   "outputs": [
    {
     "name": "stdout",
     "output_type": "stream",
     "text": [
      "3\n",
      "7\n",
      "[[ 1.00000000e+00  3.00000000e+00  4.50000000e+00  4.50000000e+00\n",
      "   3.37500000e+00  2.02500000e+00  1.01250000e+00]\n",
      " [ 1.00000000e+00  2.00000000e+00  2.00000000e+00  1.33333333e+00\n",
      "   6.66666667e-01  2.66666667e-01  8.88888889e-02]\n",
      " [ 1.00000000e+00  1.00000000e+00  5.00000000e-01  1.66666667e-01\n",
      "   4.16666667e-02  8.33333333e-03  1.38888889e-03]\n",
      " [ 1.00000000e+00  0.00000000e+00  0.00000000e+00  0.00000000e+00\n",
      "   0.00000000e+00  0.00000000e+00  0.00000000e+00]\n",
      " [ 1.00000000e+00 -1.00000000e+00  5.00000000e-01 -1.66666667e-01\n",
      "   4.16666667e-02 -8.33333333e-03  1.38888889e-03]\n",
      " [ 1.00000000e+00 -2.00000000e+00  2.00000000e+00 -1.33333333e+00\n",
      "   6.66666667e-01 -2.66666667e-01  8.88888889e-02]\n",
      " [ 1.00000000e+00 -3.00000000e+00  4.50000000e+00 -4.50000000e+00\n",
      "   3.37500000e+00 -2.02500000e+00  1.01250000e+00]]\n"
     ]
    }
   ],
   "source": [
    "# Create list of zeros\n",
    "n = 7\n",
    "mat_list = np.matrix(np.zeros((n,n)))\n",
    "m = floor(n/2)\n",
    "print(m)\n",
    "# First half\n",
    "print(n)\n",
    "for i in range(m+1):\n",
    "#     print(i)\n",
    "    for j in range(n):\n",
    "        mat_list[j,i] = ((m-i)**j)/math.factorial(j)\n",
    "        mat_list[j,i + m] = ((i)**j)*(-1)**j/math.factorial(j)\n",
    "\n",
    "# Middle function\n",
    "mat_list[0,m] = 1\n",
    "print(mat_list.T)"
   ]
  },
  {
   "cell_type": "code",
   "execution_count": 60,
   "id": "5cfc3bc0",
   "metadata": {},
   "outputs": [
    {
     "name": "stdout",
     "output_type": "stream",
     "text": [
      "3\n",
      "[[0. 0. 0. 0. 6. 0. 0.]]\n",
      "[[ -1.]\n",
      " [ 12.]\n",
      " [-39.]\n",
      " [ 56.]\n",
      " [-39.]\n",
      " [ 12.]\n",
      " [ -1.]]\n"
     ]
    }
   ],
   "source": [
    "# Index\n",
    "print(term)\n",
    "b = np.zeros((1,n))\n",
    "# b[0][term-1] = math.factorial(term-1)/(h**(term-1))\n",
    "# b[0][term-1] = math.factorial(term-1)\n",
    "b[0][4] = math.factorial(3)\n",
    "print(b)\n",
    "# Weights\n",
    "c = np.linalg.pinv(mat_list)*b.T\n",
    "print(c)\n"
   ]
  },
  {
   "cell_type": "code",
   "execution_count": 61,
   "id": "ba5bc2ca",
   "metadata": {},
   "outputs": [],
   "source": [
    "# f_0 = 'x**3 + x - 1'\n",
    "# f_1 = str(f_0)\n",
    "f = lambda x: np.sin(x)"
   ]
  },
  {
   "cell_type": "code",
   "execution_count": 62,
   "id": "d9d4295d",
   "metadata": {},
   "outputs": [
    {
     "name": "stdout",
     "output_type": "stream",
     "text": [
      "[[ 2.99999550e+09  1.99999867e+09  9.99999833e+08  0.00000000e+00\n",
      "  -9.99999833e+08 -1.99999867e+09 -2.99999550e+09]]\n"
     ]
    }
   ],
   "source": [
    "i = 0\n",
    "h = 0.001\n",
    "# a = terms\n",
    "func = np.matrix([f(i+3*h),f(i+2*h),f(i+h),f(i),f(i-h),f(i-2*h),f(i-3*h)])/(h**4)\n",
    "print(func)"
   ]
  },
  {
   "cell_type": "code",
   "execution_count": 63,
   "id": "52d051f3",
   "metadata": {},
   "outputs": [
    {
     "name": "stdout",
     "output_type": "stream",
     "text": [
      "[[1.52587891e-05]]\n",
      "[[1.52587891e-05]]\n",
      "[[7.62939453e-06]]\n",
      "[[2.54313151e-06]]\n",
      "[[6.35782878e-07]]\n"
     ]
    }
   ],
   "source": [
    "for i in range(5):\n",
    "    deriv = np.matmul(func,c)/math.factorial(i)\n",
    "    print(deriv)"
   ]
  },
  {
   "cell_type": "code",
   "execution_count": 64,
   "id": "1ffa0388",
   "metadata": {},
   "outputs": [
    {
     "name": "stdout",
     "output_type": "stream",
     "text": [
      "2\n",
      "4\n",
      "[[1.         1.        ]\n",
      " [2.         1.        ]\n",
      " [2.         0.5       ]\n",
      " [1.33333333 0.16666667]]\n",
      "[[ 1.          1.        ]\n",
      " [-2.         -1.        ]\n",
      " [ 2.          0.5       ]\n",
      " [-1.33333333 -0.16666667]]\n",
      "[[ 1.          1.          1.          1.        ]\n",
      " [ 2.          1.         -1.         -2.        ]\n",
      " [ 2.          0.5         0.5         2.        ]\n",
      " [ 1.33333333  0.16666667 -0.16666667 -1.33333333]]\n"
     ]
    }
   ],
   "source": [
    "# Create list of zeros\n",
    "n = 4\n",
    "mat_list = np.zeros((n,int(n/2)))\n",
    "mat_list_2 = np.zeros((n,int(n/2)))\n",
    "m = int(n/2)\n",
    "print(m)\n",
    "# First half\n",
    "print(n)\n",
    "\n",
    "# First Half\n",
    "for i in reversed(range(m)):\n",
    "    for j in range(n):\n",
    "    #     mat_list[j,0] = ((m-i)**j)/math.factorial(j)\n",
    "        mat_list[j,i] = ((m-i)**j)/math.factorial(j)\n",
    "print(mat_list)\n",
    "\n",
    "# Second Half\n",
    "for i in range(m):\n",
    "    for j in range(n):\n",
    "    #     mat_list[j,0] = ((m-i)**j)/math.factorial(j)\n",
    "        mat_list_2[j,i] = ((m-i)**j)*(-1)**j/math.factorial(j)\n",
    "# mat_list_2[:,[0,1]] = mat_list_2[:,[1,0]]\n",
    "\n",
    "print(mat_list_2)\n",
    "\n",
    "# Concatenate \n",
    "mat_list_final = np.hstack((mat_list,np.flip(mat_list_2,1)))\n",
    "print(mat_list_final)"
   ]
  },
  {
   "cell_type": "code",
   "execution_count": 65,
   "id": "91369065",
   "metadata": {},
   "outputs": [
    {
     "name": "stdout",
     "output_type": "stream",
     "text": [
      "3\n",
      "[[ 0. 12.  0.  0.]]\n",
      "[[-1.]\n",
      " [ 8.]\n",
      " [-8.]\n",
      " [ 1.]]\n"
     ]
    }
   ],
   "source": [
    "# Index\n",
    "print(term)\n",
    "b = np.zeros((1,4))\n",
    "# print(b)\n",
    "# b[0][term-1] = math.factorial(term-1)/(h**(term-1))\n",
    "# b[0][term-1] = math.factorial(term-1)\n",
    "b[0][1] = 12\n",
    "print(b)\n",
    "# Weights\n",
    "c = np.linalg.pinv(np.matrix(mat_list_final))*b.T\n",
    "print(c)\n"
   ]
  },
  {
   "cell_type": "code",
   "execution_count": 66,
   "id": "d6d9b3b0",
   "metadata": {},
   "outputs": [
    {
     "name": "stdout",
     "output_type": "stream",
     "text": [
      "2\n",
      "5\n",
      "[[ 1.          1.          1.          1.          1.        ]\n",
      " [ 2.          1.          0.         -1.         -2.        ]\n",
      " [ 2.          0.5         0.          0.5         2.        ]\n",
      " [ 1.33333333  0.16666667  0.         -0.16666667 -1.33333333]\n",
      " [ 0.66666667  0.04166667  0.          0.04166667  0.66666667]]\n"
     ]
    }
   ],
   "source": [
    "# Create list of zeros\n",
    "n = 5\n",
    "mat_list = np.matrix(np.zeros((n,n)))\n",
    "m = floor(n/2)\n",
    "print(m)\n",
    "# First half\n",
    "print(n)\n",
    "for i in range(m+1):\n",
    "#     print(i)\n",
    "    for j in range(n):\n",
    "        mat_list[j,i] = ((m-i)**j)/math.factorial(j)\n",
    "        mat_list[j,i + m] = ((i)**j)*(-1)**j/math.factorial(j)\n",
    "\n",
    "# Middle function\n",
    "mat_list[0,m] = 1\n",
    "print(mat_list)"
   ]
  },
  {
   "cell_type": "code",
   "execution_count": 67,
   "id": "46a2101b",
   "metadata": {},
   "outputs": [
    {
     "name": "stdout",
     "output_type": "stream",
     "text": [
      "3\n",
      "[[ 0.  0. 12.  0.  0.]]\n",
      "[[ -1.]\n",
      " [ 16.]\n",
      " [-30.]\n",
      " [ 16.]\n",
      " [ -1.]]\n"
     ]
    }
   ],
   "source": [
    "# Index\n",
    "print(term)\n",
    "b = np.zeros((1,n))\n",
    "# b[0][term-1] = math.factorial(term-1)/(h**(term-1))\n",
    "# b[0][term-1] = math.factorial(term-1)\n",
    "b[0][2] = 12\n",
    "print(b)\n",
    "# Weights\n",
    "c = np.linalg.pinv(mat_list)*b.T\n",
    "print(c)\n"
   ]
  },
  {
   "cell_type": "code",
   "execution_count": 68,
   "id": "3f49f3cc",
   "metadata": {},
   "outputs": [
    {
     "name": "stdout",
     "output_type": "stream",
     "text": [
      "3\n",
      "6\n",
      "[[1.         1.         1.        ]\n",
      " [3.         2.         1.        ]\n",
      " [4.5        2.         0.5       ]\n",
      " [4.5        1.33333333 0.16666667]\n",
      " [3.375      0.66666667 0.04166667]\n",
      " [2.025      0.26666667 0.00833333]]\n",
      "[[ 1.          1.          1.          1.          1.          1.        ]\n",
      " [ 3.          2.          1.         -1.         -2.         -3.        ]\n",
      " [ 4.5         2.          0.5         0.5         2.          4.5       ]\n",
      " [ 4.5         1.33333333  0.16666667 -0.16666667 -1.33333333 -4.5       ]\n",
      " [ 3.375       0.66666667  0.04166667  0.04166667  0.66666667  3.375     ]\n",
      " [ 2.025       0.26666667  0.00833333 -0.00833333 -0.26666667 -2.025     ]]\n"
     ]
    }
   ],
   "source": [
    "# Create list of zeros\n",
    "n = 6\n",
    "mat_list = np.zeros((n,int(n/2)))\n",
    "mat_list_2 = np.zeros((n,int(n/2)))\n",
    "m = int(n/2)\n",
    "print(m)\n",
    "# First half\n",
    "print(n)\n",
    "\n",
    "# First Half\n",
    "for i in reversed(range(m)):\n",
    "    for j in range(n):\n",
    "    #     mat_list[j,0] = ((m-i)**j)/math.factorial(j)\n",
    "        mat_list[j,i] = ((m-i)**j)/math.factorial(j)\n",
    "print(mat_list)\n",
    "\n",
    "# Second Half\n",
    "for i in range(m):\n",
    "    for j in range(n-1,-1,-1):\n",
    "    #     mat_list[j,0] = ((m-i)**j)/math.factorial(j)\n",
    "        mat_list_2[j,i] = ((m-i)**j)*(-1)**j/math.factorial(j)\n",
    "# mat_col = [0:2]\n",
    "# mat_list_2[:,[0,1,2]] = mat_list_2[:,[2,1,0]]\n",
    "\n",
    "# print(mat_list_2)\n",
    "# print(\"\\n\")\n",
    "# matt=np.flip(mat_list_2,1)\n",
    "# print(matt)\n",
    "# print(mat_list_2)\n",
    "\n",
    "# Concatenate \n",
    "mat_list_final = np.hstack((mat_list,np.flip(mat_list_2,1)))\n",
    "print(mat_list_final)"
   ]
  },
  {
   "cell_type": "code",
   "execution_count": 69,
   "id": "bc47554b",
   "metadata": {},
   "outputs": [
    {
     "name": "stdout",
     "output_type": "stream",
     "text": [
      "3\n",
      "[[0. 0. 0. 8. 0. 0.]]\n",
      "[[ -1.]\n",
      " [  8.]\n",
      " [-13.]\n",
      " [ 13.]\n",
      " [ -8.]\n",
      " [  1.]]\n"
     ]
    }
   ],
   "source": [
    "# Index\n",
    "print(term)\n",
    "b = np.zeros((1,n))\n",
    "# b[0][term-1] = math.factorial(term-1)/(h**(term-1))\n",
    "# b[0][term-1] = math.factorial(term-1)\n",
    "b[0][3] = 8\n",
    "print(b)\n",
    "# Weights\n",
    "c = np.linalg.pinv(np.matrix(mat_list_final))*b.T\n",
    "print(c)\n"
   ]
  },
  {
   "cell_type": "code",
   "execution_count": 70,
   "id": "d29fc93a",
   "metadata": {},
   "outputs": [
    {
     "name": "stdout",
     "output_type": "stream",
     "text": [
      "3\n",
      "2\n",
      "1\n",
      "0\n"
     ]
    }
   ],
   "source": [
    "for i in range(3,-1,-1):\n",
    "    print(i)"
   ]
  },
  {
   "cell_type": "code",
   "execution_count": 71,
   "id": "b69c257f",
   "metadata": {},
   "outputs": [
    {
     "name": "stdout",
     "output_type": "stream",
     "text": [
      "3\n",
      "7\n",
      "[[ 1.00000000e+00  3.00000000e+00  4.50000000e+00  4.50000000e+00\n",
      "   3.37500000e+00  2.02500000e+00  1.01250000e+00]\n",
      " [ 1.00000000e+00  2.00000000e+00  2.00000000e+00  1.33333333e+00\n",
      "   6.66666667e-01  2.66666667e-01  8.88888889e-02]\n",
      " [ 1.00000000e+00  1.00000000e+00  5.00000000e-01  1.66666667e-01\n",
      "   4.16666667e-02  8.33333333e-03  1.38888889e-03]\n",
      " [ 1.00000000e+00  0.00000000e+00  0.00000000e+00  0.00000000e+00\n",
      "   0.00000000e+00  0.00000000e+00  0.00000000e+00]\n",
      " [ 1.00000000e+00 -1.00000000e+00  5.00000000e-01 -1.66666667e-01\n",
      "   4.16666667e-02 -8.33333333e-03  1.38888889e-03]\n",
      " [ 1.00000000e+00 -2.00000000e+00  2.00000000e+00 -1.33333333e+00\n",
      "   6.66666667e-01 -2.66666667e-01  8.88888889e-02]\n",
      " [ 1.00000000e+00 -3.00000000e+00  4.50000000e+00 -4.50000000e+00\n",
      "   3.37500000e+00 -2.02500000e+00  1.01250000e+00]]\n"
     ]
    }
   ],
   "source": [
    "# Create list of zeros\n",
    "n = 7\n",
    "mat_list = np.matrix(np.zeros((n,n)))\n",
    "m = floor(n/2)\n",
    "print(m)\n",
    "# First half\n",
    "print(n)\n",
    "for i in range(m+1):\n",
    "#     print(i)\n",
    "    for j in range(n):\n",
    "        mat_list[j,i] = ((m-i)**j)/math.factorial(j)\n",
    "        mat_list[j,i + m] = ((i)**j)*(-1)**j/math.factorial(j)\n",
    "\n",
    "# Middle function\n",
    "mat_list[0,m] = 1\n",
    "print(mat_list.T)"
   ]
  },
  {
   "cell_type": "code",
   "execution_count": 72,
   "id": "87d5cec2",
   "metadata": {},
   "outputs": [
    {
     "name": "stdout",
     "output_type": "stream",
     "text": [
      "3\n",
      "[[0. 0. 0. 0. 6. 0. 0.]]\n",
      "[[ -1.]\n",
      " [ 12.]\n",
      " [-39.]\n",
      " [ 56.]\n",
      " [-39.]\n",
      " [ 12.]\n",
      " [ -1.]]\n"
     ]
    }
   ],
   "source": [
    "# Index\n",
    "print(term)\n",
    "b = np.zeros((1,n))\n",
    "# b[0][term-1] = math.factorial(term-1)/(h**(term-1))\n",
    "# b[0][term-1] = math.factorial(term-1)\n",
    "b[0][4] = math.factorial(3)\n",
    "print(b)\n",
    "# Weights\n",
    "c = np.linalg.pinv(mat_list)*b.T\n",
    "print(c)\n"
   ]
  },
  {
   "cell_type": "code",
   "execution_count": 73,
   "id": "fb69a1d6",
   "metadata": {},
   "outputs": [
    {
     "name": "stdout",
     "output_type": "stream",
     "text": [
      "[[9.69984789e+13 9.79984314e+13 9.89983828e+13 9.99983333e+13\n",
      "  1.00998283e+14 1.01998231e+14 1.02998179e+14]]\n",
      "2\n",
      "[[1.60590438e-10]]\n"
     ]
    }
   ],
   "source": [
    "h = 0.0001\n",
    "i= 0.01\n",
    "fac = 13\n",
    "term = 13\n",
    "f = lambda x: np.sin(x)\n",
    "\n",
    "func = np.matrix([f(i-3*h),f(i-2*h),f(i-h),f(i),f(i+h),f(i+2*h),f(i+3*h)])/(h**4)\n",
    "print(func)\n",
    "\n",
    "sign = 2\n",
    "rem = term%4\n",
    "if rem == 3:\n",
    "    sign = 1  \n",
    "print(sign)\n",
    "deriv = (np.matmul(func,c)/6/math.factorial(term)) * (-1) ** (sign)\n",
    "\n",
    "# deriv = deriv*(h**(term-1))\n",
    "\n",
    "print(deriv)"
   ]
  },
  {
   "cell_type": "code",
   "execution_count": 74,
   "id": "ae08979d",
   "metadata": {},
   "outputs": [
    {
     "name": "stdout",
     "output_type": "stream",
     "text": [
      "[[5.33571766e+09 5.33570286e+09 5.33561500e+09 5.33545411e+09\n",
      "  5.33522017e+09 5.33491319e+09 5.33453318e+09]]\n",
      "2\n",
      "[[2.0876757e-09]]\n"
     ]
    }
   ],
   "source": [
    "h = 0.0037\n",
    "# h = 0.0009000000000000002 * 6\n",
    "i= 0.01\n",
    "fac = 13\n",
    "term = 12\n",
    "f = lambda x: np.cos(x)\n",
    "\n",
    "func = np.matrix([f(i-3*h),f(i-2*h),f(i-h),f(i),f(i+h),f(i+2*h),f(i+3*h)])/(h**4)\n",
    "print(func)\n",
    "\n",
    "sign = 1\n",
    "rem = (term)%4\n",
    "if rem == 0 or rem == 3:\n",
    "    sign = 2    \n",
    "print(sign)\n",
    "\n",
    "deriv = (np.matmul(func,c)/6/math.factorial(term)) * (-1) ** (sign)\n",
    "\n",
    "# deriv = deriv*(h**(term-1))\n",
    "\n",
    "print(deriv)"
   ]
  },
  {
   "cell_type": "code",
   "execution_count": 75,
   "id": "441ee0fa",
   "metadata": {},
   "outputs": [
    {
     "data": {
      "text/plain": [
       "0"
      ]
     },
     "execution_count": 75,
     "metadata": {},
     "output_type": "execute_result"
    }
   ],
   "source": [
    "term=16\n",
    "(term)%4"
   ]
  },
  {
   "cell_type": "code",
   "execution_count": 76,
   "id": "8ef540b7",
   "metadata": {},
   "outputs": [
    {
     "data": {
      "text/latex": [
       "$\\displaystyle \\frac{x^{17}}{355687428096000} - \\frac{x^{15}}{1307674368000} + \\frac{x^{13}}{6227020800} - \\frac{x^{11}}{39916800} + \\frac{x^{9}}{362880} - \\frac{x^{7}}{5040} + \\frac{x^{5}}{120} - \\frac{x^{3}}{6} + x$"
      ],
      "text/plain": [
       "x**17/355687428096000 - x**15/1307674368000 + x**13/6227020800 - x**11/39916800 + x**9/362880 - x**7/5040 + x**5/120 - x**3/6 + x"
      ]
     },
     "execution_count": 76,
     "metadata": {},
     "output_type": "execute_result"
    }
   ],
   "source": [
    "from sympy import*\n",
    "var( 'x' )\n",
    "formula = sin(x)\n",
    "series(formula, x, 0, 18).removeO()"
   ]
  },
  {
   "cell_type": "code",
   "execution_count": 77,
   "id": "eb55d3aa",
   "metadata": {},
   "outputs": [
    {
     "name": "stdout",
     "output_type": "stream",
     "text": [
      "[[4.77976905e-14]]\n",
      "0.0\n",
      "0.0037\n"
     ]
    }
   ],
   "source": [
    "tol = 1e-3\n",
    "h = 0.003\n",
    "term = 16\n",
    "i = 0.01\n",
    "func = np.matrix([f(i-3*h),f(i-2*h),f(i-h),f(i),f(i+h),f(i+2*h),f(i+3*h)])/(h**4)\n",
    "deriv_old = (np.matmul(func,c)/6/math.factorial(term)) * (-1) ** (2)\n",
    "f = lambda x: np.cos(x)\n",
    "while tol > 1e-15:\n",
    "#     h = 0.01/j\n",
    "\n",
    "    func = np.matrix([f(i-3*h),f(i-2*h),f(i-h),f(i),f(i+h),f(i+2*h),f(i+3*h)])/(h**4)\n",
    "#     print(func)\n",
    "\n",
    "    sign = 1\n",
    "    rem = (term)%4\n",
    "    if rem == 0:\n",
    "        sign = 2    \n",
    "#     print(sign)\n",
    "\n",
    "    deriv = (np.matmul(func,c)/6/math.factorial(term)) * (-1) ** (sign)\n",
    "    print(deriv)\n",
    "    \n",
    "    tol = abs(deriv_old - deriv)\n",
    "    print(float(tol))\n",
    "    deriv_old = deriv\n",
    "    h += 0.0001*(6+1)\n",
    "\n",
    "print(h)"
   ]
  },
  {
   "cell_type": "code",
   "execution_count": 78,
   "id": "477300ef",
   "metadata": {},
   "outputs": [
    {
     "name": "stdout",
     "output_type": "stream",
     "text": [
      "[[4.58829824e-12]]\n",
      "7.290296091001558e-11\n",
      "[[4.77947733e-13]]\n",
      "4.1103505058531515e-12\n",
      "[[1.792304e-13]]\n",
      "2.9871733327421157e-13\n",
      "[[9.857672e-14]]\n",
      "8.065367998403712e-14\n",
      "[[6.72114e-14]]\n",
      "3.1365319993792214e-14\n",
      "[[5.52627067e-14]]\n",
      "1.1948693330968465e-14\n",
      "[[5.152874e-14]]\n",
      "3.733966665927648e-15\n",
      "[[4.94750583e-14]]\n",
      "2.0536816662602025e-15\n",
      "[[4.83548683e-14]]\n",
      "1.1201899997782951e-15\n",
      "[[4.73280275e-14]]\n",
      "1.026840833130098e-15\n",
      "[[4.69546308e-14]]\n",
      "3.7339666659276294e-16\n",
      "0.0008699999999999999\n"
     ]
    }
   ],
   "source": [
    "tol = 1e-3\n",
    "h = 0.0001\n",
    "term = 15\n",
    "i = 0.01\n",
    "func = np.matrix([f(i-3*h),f(i-2*h),f(i-h),f(i),f(i+h),f(i+2*h),f(i+3*h)])/(h**4)\n",
    "deriv_old = (np.matmul(func,c)/6/math.factorial(term)) * (-1) ** (2)\n",
    "f = lambda x: np.sin(x)\n",
    "while tol > 1e-15:\n",
    "#     h = 0.01/j\n",
    "\n",
    "    func = np.matrix([f(i-3*h),f(i-2*h),f(i-h),f(i),f(i+h),f(i+2*h),f(i+3*h)])/(h**4)\n",
    "#     print(func)\n",
    "\n",
    "    sign = 1\n",
    "    rem = (term)%4\n",
    "    if rem == 0:\n",
    "        sign = 2    \n",
    "#     print(sign)\n",
    "\n",
    "    deriv = (np.matmul(func,c)/math.factorial(term)) * (-1) ** (2)\n",
    "    print(deriv)\n",
    "    \n",
    "    tol = abs(deriv_old - deriv)\n",
    "    print(float(tol))\n",
    "    deriv_old = deriv\n",
    "    h += 0.00001*(6+1)\n",
    "\n",
    "print(h)"
   ]
  },
  {
   "cell_type": "code",
   "execution_count": null,
   "id": "a4525a87",
   "metadata": {},
   "outputs": [],
   "source": []
  }
 ],
 "metadata": {
  "kernelspec": {
   "display_name": "Python 3 (ipykernel)",
   "language": "python",
   "name": "python3"
  },
  "language_info": {
   "codemirror_mode": {
    "name": "ipython",
    "version": 3
   },
   "file_extension": ".py",
   "mimetype": "text/x-python",
   "name": "python",
   "nbconvert_exporter": "python",
   "pygments_lexer": "ipython3",
   "version": "3.9.7"
  }
 },
 "nbformat": 4,
 "nbformat_minor": 5
}
