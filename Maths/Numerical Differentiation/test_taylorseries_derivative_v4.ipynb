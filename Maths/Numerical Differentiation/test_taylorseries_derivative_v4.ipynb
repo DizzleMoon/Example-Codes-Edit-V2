{
 "cells": [
  {
   "cell_type": "code",
   "execution_count": 1,
   "id": "c2b20c95",
   "metadata": {},
   "outputs": [],
   "source": [
    "import sympy as sy\n",
    "import numpy as np\n",
    "from sympy.functions import sin,cos,exp\n",
    "import matplotlib.pyplot as plt\n",
    "from sympy import* \n",
    "import math\n",
    "plt.style.use(\"ggplot\")"
   ]
  },
  {
   "cell_type": "code",
   "execution_count": 2,
   "id": "d02662b2",
   "metadata": {},
   "outputs": [],
   "source": [
    "def derivative(f,a,method='central',h=0.01):\n",
    "    '''Compute the difference formula for f'(a) with step size h.\n",
    "\n",
    "    Parameters\n",
    "    ----------\n",
    "    f : function\n",
    "        Vectorized function of one variable\n",
    "    a : number\n",
    "        Compute derivative at x = a\n",
    "    method : string\n",
    "        Difference formula: 'forward', 'backward' or 'central'\n",
    "    h : number\n",
    "        Step size in difference formula\n",
    "\n",
    "    Returns\n",
    "    -------\n",
    "    float\n",
    "        Difference formula:\n",
    "            central: f(a+h) - f(a-h))/2h\n",
    "            forward: f(a+h) - f(a))/h\n",
    "            backward: f(a) - f(a-h))/h            \n",
    "    '''\n",
    "    if method == 'central':\n",
    "        return (f(a + h) - f(a - h))/(2*h)\n",
    "    elif method == 'forward':\n",
    "        return (f(a + h) - f(a))/h\n",
    "    elif method == 'backward':\n",
    "        return (f(a) - f(a - h))/h\n",
    "    else:\n",
    "        raise ValueError(\"Method must be 'central', 'forward' or 'backward'.\")"
   ]
  },
  {
   "cell_type": "code",
   "execution_count": 3,
   "id": "6242a0bd",
   "metadata": {},
   "outputs": [],
   "source": [
    "h = 0.01\n",
    "a = 0"
   ]
  },
  {
   "cell_type": "code",
   "execution_count": 4,
   "id": "a7391fad",
   "metadata": {},
   "outputs": [
    {
     "name": "stdout",
     "output_type": "stream",
     "text": [
      "0.9999833334166665\n"
     ]
    }
   ],
   "source": [
    "f_prime = derivative(np.sin,a)\n",
    "print(f_prime)"
   ]
  },
  {
   "cell_type": "code",
   "execution_count": 5,
   "id": "4ffaaccd",
   "metadata": {},
   "outputs": [
    {
     "name": "stdout",
     "output_type": "stream",
     "text": [
      "0.9999833334166665\n"
     ]
    }
   ],
   "source": [
    "f_0 = (np.sin(a + h) - np.sin(a-h))/(2*h)\n",
    "print(f_0)"
   ]
  },
  {
   "cell_type": "code",
   "execution_count": 6,
   "id": "16a54cb6",
   "metadata": {},
   "outputs": [
    {
     "data": {
      "text/plain": [
       "0.0"
      ]
     },
     "execution_count": 6,
     "metadata": {},
     "output_type": "execute_result"
    }
   ],
   "source": [
    "fp1 = f_0 - f_prime\n",
    "fp1"
   ]
  },
  {
   "cell_type": "code",
   "execution_count": 7,
   "id": "4beb5054",
   "metadata": {},
   "outputs": [],
   "source": [
    "# x = np.linspace(0,10,1000)\n",
    "# dx = x[1]-x[0]\n",
    "# y = np.sin(x)\n",
    "# dydx = np.gradient(y, 0)\n",
    "# print(dydx)"
   ]
  },
  {
   "cell_type": "code",
   "execution_count": 8,
   "id": "98b954f0",
   "metadata": {},
   "outputs": [],
   "source": [
    "def derivative(x,y,n):\n",
    "    if(n==1):\n",
    "        return np.gradient(y,x)\n",
    "    else:\n",
    "        return np.gradient(derivative(x,y,n-1),x)"
   ]
  },
  {
   "cell_type": "code",
   "execution_count": 9,
   "id": "5e7b26e0",
   "metadata": {},
   "outputs": [
    {
     "data": {
      "text/plain": [
       "Text(0.5, 1.0, 'function and derivative')"
      ]
     },
     "execution_count": 9,
     "metadata": {},
     "output_type": "execute_result"
    },
    {
     "data": {
      "image/png": "[encoded data removed]",
      "text/plain": [
       "<Figure size 432x288 with 1 Axes>"
      ]
     },
     "metadata": {},
     "output_type": "display_data"
    }
   ],
   "source": [
    "import numpy as np\n",
    "import matplotlib.pyplot as plt\n",
    "\n",
    "def derivative(x,y,n):\n",
    "    if(n==1):\n",
    "        return np.gradient(y,x)\n",
    "    else:\n",
    "        return np.gradient(derivative(x,y,n-1),x)\n",
    "\n",
    "a=0\n",
    "b=10\n",
    "N_points=10000\n",
    "\n",
    "x=np.linspace(a,b,N_points, dtype=float)\n",
    "y=np.cos(x, dtype=float)\n",
    "plt.figure()\n",
    "plt.plot(x,y,label=\"f(x)\")\n",
    "\n",
    "n_max=7\n",
    "for n in range(1,n_max):\n",
    "    yprime=derivative(x,y,n)\n",
    "    yprime[0:n]=yprime[n]\n",
    "    yprime[-n:]=yprime[-n-1]\n",
    "\n",
    "    plt.plot(x,yprime,label=f\"fprime{n}(x)\")\n",
    "\n",
    "\n",
    "plt.legend()\n",
    "plt.title(\"function and derivative\")"
   ]
  },
  {
   "cell_type": "code",
   "execution_count": 10,
   "id": "3ce4affb",
   "metadata": {},
   "outputs": [
    {
     "data": {
      "text/plain": [
       "array([-5.00149655e-10, -7.50224107e-10, -1.00029756e-09, ...,\n",
       "       -6.71758264e-08, -1.35402436e-07, -1.35612538e-07])"
      ]
     },
     "execution_count": 10,
     "metadata": {},
     "output_type": "execute_result"
    }
   ],
   "source": [
    "yprime=derivative(1,np.sin(x),3)\n",
    "yprime"
   ]
  },
  {
   "cell_type": "code",
   "execution_count": 11,
   "id": "c8aa9a88",
   "metadata": {},
   "outputs": [
    {
     "name": "stdout",
     "output_type": "stream",
     "text": [
      "0.9999833334166665\n"
     ]
    }
   ],
   "source": [
    "f_prime = (np.sin(a + h) - np.sin(a-h))/(2*h)\n",
    "print(f_0)"
   ]
  },
  {
   "cell_type": "code",
   "execution_count": 12,
   "id": "4a879b5d",
   "metadata": {},
   "outputs": [],
   "source": [
    "# f_prime = derivative(np.sin,a)\n",
    "# print(f_prime)"
   ]
  },
  {
   "cell_type": "code",
   "execution_count": 13,
   "id": "f97fd417",
   "metadata": {},
   "outputs": [],
   "source": [
    "import math\n",
    "import matplotlib.pyplot as plt\n",
    "\n",
    "\n",
    "### Global constants ###\n",
    "x_0 = 0\n",
    "f_0 = 100\n",
    "k = 50\n",
    "\n",
    "def f(x):\n",
    "    '''Analytical solution to the diffeq: df/dx = -k*f'''\n",
    "#     return f_0*math.exp(-k*x)\n",
    "    return np.sin(x)\n",
    "\n",
    "def analytical(func,x_end):\n",
    "    '''Create arrays to plot analytical solution.'''\n",
    "    xarr=[]\n",
    "    farr=[]\n",
    "    x=0\n",
    "    while x < x_end:\n",
    "        farr.append(func(x))\n",
    "        xarr.append(x)\n",
    "        x+=.001\n",
    "    return xarr, farr\n",
    "\n",
    "def forward(h,x_end):\n",
    "    '''Create arrays to plot numerical solution using\n",
    "    forward-differencing (explicit scheme).'''\n",
    "    # plotting arrays with starting values\n",
    "    xarr=[x_0]\n",
    "    farr=[f_0]\n",
    "    x=x_0\n",
    "    # obtain points using forward differencing\n",
    "    while x <= x_end:\n",
    "        fnext=(1-h*k)*farr[-1]\n",
    "        x+=h\n",
    "        xarr.append(x)\n",
    "        farr.append(fnext)\n",
    "    return xarr, farr\n",
    "\n",
    "def backward(h,x_end):\n",
    "    '''Create arrays to plot numerical solution using\n",
    "    backward-differencing (implicit scheme).'''\n",
    "    # plotting arrays with starting values\n",
    "    xarr=[x_0]\n",
    "    farr=[f_0]\n",
    "    x=x_0\n",
    "    # obtain points using backward differencing\n",
    "    while x <= x_end:\n",
    "        fnext=farr[-1]/(1+h*k)\n",
    "        x+=h\n",
    "        xarr.append(x)\n",
    "        farr.append(fnext)\n",
    "    return xarr, farr"
   ]
  },
  {
   "cell_type": "code",
   "execution_count": 14,
   "id": "2ae1dd83",
   "metadata": {},
   "outputs": [],
   "source": [
    "# x_array, f_array = analytical(f,.2)\n",
    "# print(x_array)\n",
    "# print(f_array)\n",
    "# x1_array, f1_array = backward(.010,.15)\n",
    "# print(x1_array)\n",
    "# print(f1_array)"
   ]
  },
  {
   "cell_type": "code",
   "execution_count": 15,
   "id": "835d0827",
   "metadata": {},
   "outputs": [],
   "source": [
    "from scipy.misc import derivative\n",
    "x = np.linspace(-3,3,100)\n",
    "f = lambda x: 3*np.exp(x) / (x**2 + x + 1)\n",
    "y = f(x)"
   ]
  },
  {
   "cell_type": "code",
   "execution_count": 16,
   "id": "0d2a818f",
   "metadata": {},
   "outputs": [
    {
     "name": "stdout",
     "output_type": "stream",
     "text": [
      "3.0 1.9999983891239026e-06 5.999976182557987 -1.5002813806101278\n"
     ]
    }
   ],
   "source": [
    "a0 = f(0)\n",
    "a1 = derivative(f,0,dx=0.001,n=1)\n",
    "a2 = derivative(f,0,dx=0.001,n=3, order=5) / 2\n",
    "a3 = derivative(f,0,dx=0.001,n=4, order = 5) / 6\n",
    "# The parameter order specifies the number of points to use\n",
    "# The value order must be odd and at least n + 1\n",
    "\n",
    "print(a0,a1,a2,a3)"
   ]
  },
  {
   "cell_type": "code",
   "execution_count": 17,
   "id": "4d77df0d",
   "metadata": {},
   "outputs": [
    {
     "name": "stdout",
     "output_type": "stream",
     "text": [
      "[[ 1  1  1  1  1]\n",
      " [ 2 -1  0 -1 -2]\n",
      " [ 4  1  0  1  4]\n",
      " [ 8 -1  0 -1 -8]\n",
      " [16  1  0  1 16]]\n",
      "[[       0.               -0.            63725.49019608        0.\n",
      "         0.        ]\n",
      " [       0.               -0.           666666.66666667        0.\n",
      "        -0.        ]\n",
      " [       0.                0.         -1264705.88235294       -0.\n",
      "         0.        ]\n",
      " [      -0.               -0.           666666.66666667        0.\n",
      "        -0.        ]\n",
      " [      -0.                0.          -132352.94117647       -0.\n",
      "         0.        ]]\n"
     ]
    }
   ],
   "source": [
    "h_plus_2h = [1,2,4,8,16]\n",
    "h_plus_h = [1,1,1,1,1]\n",
    "h1 = [1,0,0,0,0]\n",
    "h_minus_h = [1,-1,1,-1,1]\n",
    "h_minus_2h = [1,-2,4,-8,16]\n",
    "\n",
    "h = np.vstack([h_plus_2h,h_minus_h,h1,h_minus_h,h_minus_2h])\n",
    "h = np.transpose(h)\n",
    "print(h)\n",
    "\n",
    "dx = 0.001\n",
    "b = np.array([0,0,(2/(dx**2)),0,0])\n",
    "\n",
    "deriv = np.linalg.pinv(h)*b\n",
    "print(deriv)"
   ]
  },
  {
   "cell_type": "code",
   "execution_count": 18,
   "id": "b2dbcc43",
   "metadata": {},
   "outputs": [
    {
     "name": "stdout",
     "output_type": "stream",
     "text": [
      "[[-0.33333333]\n",
      " [-0.5       ]\n",
      " [ 1.        ]\n",
      " [-0.16666667]]\n"
     ]
    }
   ],
   "source": [
    "a = np.matrix([[1,1,1,1],[-1,0,1,2],[0.5,0,0.5,2],[-1/6,0,1/6,8/6]])\n",
    "b = np.matrix([[0,1,0,0]])\n",
    "c = np.linalg.pinv(a)*b.T\n",
    "print(c)"
   ]
  },
  {
   "cell_type": "code",
   "execution_count": 19,
   "id": "33fa29e8",
   "metadata": {},
   "outputs": [
    {
     "name": "stdout",
     "output_type": "stream",
     "text": [
      "[[ 1.          1.          1.          1.          1.        ]\n",
      " [ 2.         -1.          0.         -1.         -2.        ]\n",
      " [ 1.33333333  0.5         0.          0.5         0.25      ]\n",
      " [ 8.         -0.16666667  0.         -0.16666667 -1.33333333]\n",
      " [ 0.66666667  0.04166667  0.          0.04166667  0.66666667]]\n",
      "[[ 0.         -0.         -0.04076708  0.          0.        ]\n",
      " [-0.         -0.          0.67004688  0.         -0.        ]\n",
      " [ 0.          0.         -0.74259053 -0.          0.        ]\n",
      " [ 0.         -0.          0.67004688  0.         -0.        ]\n",
      " [-0.         -0.         -0.55673616  0.          0.        ]]\n"
     ]
    }
   ],
   "source": [
    "h_plus_2h = [1,2,8/6,8,16/24]\n",
    "h_plus_h = [1,1,1/2,1/6,1/24]\n",
    "h1 = [1,0,0,0,0]\n",
    "h_minus_h = [1,-1,1/2,-1/6,1/24]\n",
    "h_minus_2h = [1,-2,1/4,-8/6,16/24]\n",
    "\n",
    "h = np.vstack([h_plus_2h,h_minus_h,h1,h_minus_h,h_minus_2h])\n",
    "h = np.transpose(h)\n",
    "print(h)\n",
    "\n",
    "dx = 0.001\n",
    "b = np.array([0,0,1,0,0])\n",
    "\n",
    "deriv = np.linalg.pinv(h)*b.T\n",
    "print(deriv)"
   ]
  },
  {
   "cell_type": "code",
   "execution_count": 20,
   "id": "9a3770c2",
   "metadata": {},
   "outputs": [
    {
     "data": {
      "text/plain": [
       "0.0"
      ]
     },
     "execution_count": 20,
     "metadata": {},
     "output_type": "execute_result"
    }
   ],
   "source": [
    "np.sum(deriv[:,1])"
   ]
  },
  {
   "cell_type": "code",
   "execution_count": 21,
   "id": "472ff5df",
   "metadata": {},
   "outputs": [
    {
     "name": "stdout",
     "output_type": "stream",
     "text": [
      "[[ 1  1  1]\n",
      " [ 1  0 -1]\n",
      " [ 1  0  1]]\n",
      "[[1.0/x**2]\n",
      " [-2.0/x**2]\n",
      " [1.0/x**2]]\n"
     ]
    }
   ],
   "source": [
    "h = 1\n",
    "x = sy.Symbol('x')\n",
    "A = np.matrix([[1,1,1],[1,0,-1],[1,0,1]])\n",
    "print(A)\n",
    "b = np.array([[0,0,2/x**2]])\n",
    "c = np.linalg.pinv(A)*b.T\n",
    "print(c)"
   ]
  },
  {
   "cell_type": "code",
   "execution_count": 22,
   "id": "ff51aa26",
   "metadata": {},
   "outputs": [
    {
     "name": "stdout",
     "output_type": "stream",
     "text": [
      "[sin(x) 0 -sin(x)]\n",
      "[[2.27373675443232e-13*sin(x)/x**2]]\n"
     ]
    }
   ],
   "source": [
    "h = 0.001\n",
    "x = sy.Symbol('x')\n",
    "func = np.array([sin(x),sin(0),sin(-x)])\n",
    "print(func)\n",
    "deriv = np.matmul(func,c/h)\n",
    "print(deriv)"
   ]
  },
  {
   "cell_type": "code",
   "execution_count": 23,
   "id": "fef0e6ba",
   "metadata": {},
   "outputs": [
    {
     "name": "stdout",
     "output_type": "stream",
     "text": [
      "[[ 1  1  1]\n",
      " [ 1  0 -1]\n",
      " [ 1  0  1]]\n",
      "[[ 1.]\n",
      " [-2.]\n",
      " [ 1.]]\n"
     ]
    }
   ],
   "source": [
    "h = 1\n",
    "# x = sy.Symbol('x')\n",
    "A = np.matrix([[1,1,1],[1,0,-1],[1,0,1]])\n",
    "print(A)\n",
    "b = np.array([[0,0,2/h**2]])\n",
    "c = np.linalg.pinv(A)*b.T\n",
    "print(c)"
   ]
  },
  {
   "cell_type": "code",
   "execution_count": 24,
   "id": "7492e6e1",
   "metadata": {},
   "outputs": [
    {
     "name": "stdout",
     "output_type": "stream",
     "text": [
      "[ 0.001  0.    -0.001]\n",
      "[[3.33066907e-16]]\n"
     ]
    }
   ],
   "source": [
    "h = 0.001\n",
    "# x = sy.Symbol('x')\n",
    "func = np.array([np.sin(h),np.sin(0),np.sin(-h)])\n",
    "print(func)\n",
    "deriv = np.matmul(func,c/h)\n",
    "print(deriv)"
   ]
  },
  {
   "cell_type": "code",
   "execution_count": 25,
   "id": "eaa82404",
   "metadata": {},
   "outputs": [
    {
     "name": "stdout",
     "output_type": "stream",
     "text": [
      "[[ 1  1  1]\n",
      " [ 1  0 -1]\n",
      " [ 1  0  1]]\n",
      "[[ 0.5]\n",
      " [-1. ]\n",
      " [ 0.5]]\n"
     ]
    }
   ],
   "source": [
    "h = 1\n",
    "# x = sy.Symbol('x')\n",
    "A = np.matrix([[1,1,1],[1,0,-1],[1,0,1]])\n",
    "print(A)\n",
    "b = np.array([[0,0,1]])\n",
    "c = np.linalg.pinv(A)*b.T\n",
    "print(c)"
   ]
  },
  {
   "cell_type": "code",
   "execution_count": 26,
   "id": "bb539599",
   "metadata": {},
   "outputs": [],
   "source": [
    "f = lambda x: 3*np.exp(x) / (x**2 + x + 1)"
   ]
  },
  {
   "cell_type": "code",
   "execution_count": 27,
   "id": "a427b606",
   "metadata": {},
   "outputs": [
    {
     "name": "stdout",
     "output_type": "stream",
     "text": [
      "3.0\n"
     ]
    }
   ],
   "source": [
    "y = f(0)\n",
    "print(y)"
   ]
  },
  {
   "cell_type": "code",
   "execution_count": 28,
   "id": "abb8101f",
   "metadata": {},
   "outputs": [
    {
     "name": "stdout",
     "output_type": "stream",
     "text": [
      "[2.9999985 3.        2.9999985]\n",
      "[[-1.50000038]]\n"
     ]
    }
   ],
   "source": [
    "h = 0.001\n",
    "# x = sy.Symbol('x')\n",
    "func = np.array([f(h),f(0),f(-h)])\n",
    "print(func)\n",
    "deriv = np.matmul(func,c/(h**2))\n",
    "print(deriv)"
   ]
  },
  {
   "cell_type": "code",
   "execution_count": 29,
   "id": "6792f68d",
   "metadata": {},
   "outputs": [
    {
     "name": "stdout",
     "output_type": "stream",
     "text": [
      "[[ 1  1  1  1  1]\n",
      " [ 2 -1  0 -1 -2]\n",
      " [ 4  1  0  1  4]\n",
      " [ 8 -1  0 -1 -8]\n",
      " [16  1  0  1 16]]\n",
      "[[ 0.         -0.          0.03186275  0.          0.        ]\n",
      " [ 0.         -0.          0.33333333  0.         -0.        ]\n",
      " [ 0.          0.         -0.63235294 -0.          0.        ]\n",
      " [-0.         -0.          0.33333333  0.         -0.        ]\n",
      " [-0.          0.         -0.06617647 -0.          0.        ]]\n"
     ]
    }
   ],
   "source": [
    "h_plus_2h = [1,2,4,8,16]\n",
    "h_plus_h = [1,1,1,1,1]\n",
    "h1 = [1,0,0,0,0]\n",
    "h_minus_h = [1,-1,1,-1,1]\n",
    "h_minus_2h = [1,-2,4,-8,16]\n",
    "\n",
    "h = np.vstack([h_plus_2h,h_minus_h,h1,h_minus_h,h_minus_2h])\n",
    "h = np.transpose(h)\n",
    "print(h)\n",
    "\n",
    "dx = 1\n",
    "b = np.array([0,0,1,0,0])\n",
    "\n",
    "deriv = np.linalg.pinv(h)*b.T\n",
    "print(deriv)"
   ]
  },
  {
   "cell_type": "code",
   "execution_count": 30,
   "id": "ac7e8004",
   "metadata": {},
   "outputs": [
    {
     "name": "stdout",
     "output_type": "stream",
     "text": [
      "[[ 0.          0.          0.         -0.         -0.        ]\n",
      " [-0.         -0.          0.         -0.          0.        ]\n",
      " [ 0.03186275  0.33333333 -0.63235294  0.33333333 -0.06617647]\n",
      " [ 0.          0.         -0.          0.         -0.        ]\n",
      " [ 0.         -0.          0.         -0.          0.        ]]\n",
      "[2.99999402 2.9999985  3.         2.9999985  2.99999398]\n",
      "[  191176.47058824  2000000.         -3794117.64705882  2000000.\n",
      "  -397058.82352941]\n"
     ]
    },
    {
     "data": {
      "text/plain": [
       "-4.656612873077393e-10"
      ]
     },
     "execution_count": 30,
     "metadata": {},
     "output_type": "execute_result"
    }
   ],
   "source": [
    "deriv = np.linalg.pinv(h)*b.T\n",
    "deriv = deriv.T\n",
    "print(deriv)\n",
    "h = 0.001\n",
    "# x = sy.Symbol('x')\n",
    "func = np.array([f(2*h),f(h),f(0),f(-h), f(-2*h)])\n",
    "print(func)\n",
    "deriv = np.matmul(func,deriv*2/(h**2))\n",
    "print(deriv)\n",
    "np.sum(deriv)"
   ]
  },
  {
   "cell_type": "code",
   "execution_count": 31,
   "id": "58ccffd5",
   "metadata": {},
   "outputs": [
    {
     "name": "stdout",
     "output_type": "stream",
     "text": [
      "[[ 1  1  1]\n",
      " [ 1  0 -1]\n",
      " [ 1  0  1]]\n"
     ]
    }
   ],
   "source": [
    "h = 1\n",
    "# x = sy.Symbol('x')\n",
    "# A = np.matrix([[1,1,1,1,1],[2,1,0,-1,-2],[1,0,1]])\n",
    "print(A)\n",
    "# b = np.array([[0,0,1]])\n",
    "# c = np.linalg.pinv(A)*b.T"
   ]
  },
  {
   "cell_type": "code",
   "execution_count": 32,
   "id": "a07ae91d",
   "metadata": {},
   "outputs": [
    {
     "name": "stdout",
     "output_type": "stream",
     "text": [
      "[ 1.          0.61764706 -0.63235294 -0.15441176  0.09558824]\n"
     ]
    }
   ],
   "source": [
    "h_plus_2h = [1,2,4,8,16]\n",
    "h_plus_h = [1,1,1,1,1]\n",
    "h1 = [1,0,0,0,0]\n",
    "h_minus_h = [1,-1,1,-1,1]\n",
    "h_minus_2h = [1,-2,4,-8,16]\n",
    "\n",
    "h = np.vstack([h_plus_2h,h_minus_h,h1,h_minus_h,h_minus_2h])\n",
    "h = np.transpose(h)\n",
    "\n",
    "b = np.array([[0,0,1,0,0]])\n",
    "c = np.linalg.pinv(h)*b.T\n",
    "d = c[2,:]\n",
    "print(d)"
   ]
  },
  {
   "cell_type": "code",
   "execution_count": 33,
   "id": "0846fe5f",
   "metadata": {},
   "outputs": [
    {
     "name": "stdout",
     "output_type": "stream",
     "text": [
      "[2.99941594 2.999852   3.         2.999848   2.99938395]\n",
      "2.7787008690891337\n"
     ]
    },
    {
     "data": {
      "text/plain": [
       "2.499749978792868"
      ]
     },
     "execution_count": 33,
     "metadata": {},
     "output_type": "execute_result"
    }
   ],
   "source": [
    "h = 0.01\n",
    "# x = sy.Symbol('x')\n",
    "func = np.array([f(2*h),f(h),f(0),f(-h),(f(-2*h))])\n",
    "print(func)\n",
    "deriv = np.matmul(func.T,d)\n",
    "print(deriv)\n",
    "# print(np.sum(func)/6)\n",
    "np_sum = np.sum(func)\n",
    "np_sum/6"
   ]
  },
  {
   "cell_type": "code",
   "execution_count": 34,
   "id": "1c1e342a",
   "metadata": {},
   "outputs": [
    {
     "name": "stdout",
     "output_type": "stream",
     "text": [
      "[[ 1.          1.          1.          1.          1.        ]\n",
      " [ 2.         -1.          0.         -1.         -2.        ]\n",
      " [ 1.33333333  0.5         0.          0.5         0.25      ]\n",
      " [ 8.         -0.16666667  0.         -0.16666667 -1.33333333]\n",
      " [ 0.66666667  0.04166667  0.          0.04166667  0.66666667]]\n",
      "[[ 1.          1.          1.          1.          1.        ]\n",
      " [ 2.         -1.          0.         -1.         -2.        ]\n",
      " [ 1.33333333  0.5         0.          0.5         0.25      ]\n",
      " [ 8.         -0.16666667  0.         -0.16666667 -1.33333333]\n",
      " [ 0.66666667  0.04166667  0.          0.04166667  0.66666667]]\n",
      "[[ 0.         -0.         -0.04076708  0.          0.        ]\n",
      " [-0.         -0.          0.67004688  0.         -0.        ]\n",
      " [ 0.          0.         -0.74259053 -0.          0.        ]\n",
      " [ 0.         -0.          0.67004688  0.         -0.        ]\n",
      " [-0.         -0.         -0.55673616  0.          0.        ]]\n"
     ]
    }
   ],
   "source": [
    "h_plus_2h = [1,2,8/6,8,16/24]\n",
    "h_plus_h = [1,1,1/2,1/6,1/24]\n",
    "h1 = [1,0,0,0,0]\n",
    "h_minus_h = [1,-1,1/2,-1/6,1/24]\n",
    "h_minus_2h = [1,-2,1/4,-8/6,16/24]\n",
    "\n",
    "h = np.vstack([h_plus_2h,h_minus_h,h1,h_minus_h,h_minus_2h])\n",
    "h = np.transpose(h)\n",
    "print(h)\n",
    "print(np.matrix(h))\n",
    "\n",
    "dx = 0.001\n",
    "b = np.array([0,0,1,0,0])\n",
    "\n",
    "deriv = np.linalg.pinv(h)*b\n",
    "print(deriv)"
   ]
  },
  {
   "cell_type": "code",
   "execution_count": 35,
   "id": "0c8dcef3",
   "metadata": {},
   "outputs": [
    {
     "name": "stdout",
     "output_type": "stream",
     "text": [
      "[2.99999402 2.9999985  3.         2.9999985  2.99999398]\n",
      "[-0.12230123  2.01014065 -2.2277716   2.01014065 -1.67020847]\n",
      "-1.7763568394002505e-15\n"
     ]
    }
   ],
   "source": [
    "h = 0.001\n",
    "# x = sy.Symbol('x')\n",
    "func = np.array([f(2*h),f(h),f(0),f(-h),(f(-2*h))])\n",
    "print(func)\n",
    "deriv = np.matmul(func,deriv.T)\n",
    "print(deriv)\n",
    "print(np.sum(deriv))"
   ]
  },
  {
   "cell_type": "code",
   "execution_count": 36,
   "id": "e9830224",
   "metadata": {},
   "outputs": [
    {
     "name": "stdout",
     "output_type": "stream",
     "text": [
      "[[ 1  1  1  1  1]\n",
      " [ 2  1  0 -1 -2]\n",
      " [ 4  1  0  1  4]\n",
      " [ 8  1  0 -1 -8]\n",
      " [16  1  0  1 16]]\n",
      "[[ 8.33333333e-02]\n",
      " [-1.66666667e-01]\n",
      " [-4.12354978e-16]\n",
      " [ 1.66666667e-01]\n",
      " [-8.33333333e-02]]\n"
     ]
    }
   ],
   "source": [
    "h = 1\n",
    "# x = sy.Symbol('x')\n",
    "A = np.matrix([[1,1,1,1,1],[2,1,0,-1,-2],[4,1,0,1,4],[8,1,0,-1,-8],[16,1,0,1,16]])\n",
    "print(A)\n",
    "b = np.array([[0,0,0,1,0]])\n",
    "c = np.linalg.pinv(A)*b.T\n",
    "print(c)"
   ]
  },
  {
   "cell_type": "code",
   "execution_count": 37,
   "id": "a4810098",
   "metadata": {},
   "outputs": [
    {
     "name": "stdout",
     "output_type": "stream",
     "text": [
      "[2.99999402 2.9999985  3.         2.9999985  2.99999398]\n",
      "[[1.99999207]]\n",
      "1.9999920725822449\n"
     ]
    }
   ],
   "source": [
    "h = 0.001\n",
    "# x = sy.Symbol('x')\n",
    "func = np.array([f(2*h),f(h),f(0),f(-h),(f(-2*h))])\n",
    "print(func)\n",
    "deriv = np.matmul(func,c/h**3)\n",
    "print(deriv)\n",
    "print(np.sum(deriv))"
   ]
  },
  {
   "cell_type": "code",
   "execution_count": 38,
   "id": "2e42d513",
   "metadata": {},
   "outputs": [
    {
     "name": "stdout",
     "output_type": "stream",
     "text": [
      "[[ 1  2  4  8 16]\n",
      " [ 1  1  1  1  1]\n",
      " [ 1  0  0  0  0]\n",
      " [ 1 -1  1 -1  1]\n",
      " [ 1 -2  4 -8 16]]\n",
      "[[ 1  1  1  1  1]\n",
      " [ 2  1  0 -1 -2]\n",
      " [ 4  1  0  1  4]\n",
      " [ 8  1  0 -1 -8]\n",
      " [16  1  0  1 16]]\n",
      "[[ 8.33333333e-02]\n",
      " [-1.66666667e-01]\n",
      " [-4.12354978e-16]\n",
      " [ 1.66666667e-01]\n",
      " [-8.33333333e-02]]\n"
     ]
    }
   ],
   "source": [
    "# h_plus_2h = np.array([1,2,8/6,8,16/24])\n",
    "# h_plus_h = np.array([1,1,1/2,1/6,1/24])\n",
    "# h1 = np.array([1,0,0,0,0])\n",
    "# h_minus_h = np.array([1,-1,1/2,-1/6,1/24])\n",
    "# h_minus_2h = np.array([1,-2,1/4,-8/6,16/24])\n",
    "\n",
    "h_plus_2h = [1,2,4,8,16]\n",
    "h_plus_h = [1,1,1,1,1]\n",
    "h1 = [1,0,0,0,0]\n",
    "h_minus_h = [1,-1,1,-1,1]\n",
    "h_minus_2h = [1,-2,4,-8,16]\n",
    "h_list = np.vstack([h_plus_2h,h_plus_h,h1,h_minus_h])\n",
    "h_list = np.vstack([h_list,h_minus_2h])\n",
    "\n",
    "h_mat = np.matrix(h_list)\n",
    "# h_mat.append(h_minus_2h)\n",
    "print(h_mat)\n",
    "print(h_mat.T)\n",
    "\n",
    "b = np.array([[0,0,0,1,0]])\n",
    "c = np.linalg.pinv(h_mat.T)*b.T\n",
    "print(c)"
   ]
  },
  {
   "cell_type": "code",
   "execution_count": 39,
   "id": "1343e9e2",
   "metadata": {},
   "outputs": [
    {
     "name": "stdout",
     "output_type": "stream",
     "text": [
      "[2.99999402 2.9999985  3.         2.9999985  2.99999398]\n",
      "[[1.99999207]]\n",
      "1.9999920725822449\n"
     ]
    }
   ],
   "source": [
    "h = 0.001\n",
    "# x = sy.Symbol('x')\n",
    "func = np.array([f(2*h),f(h),f(0),f(-h),(f(-2*h))])\n",
    "print(func)\n",
    "deriv = np.matmul(func,c/h**3)\n",
    "print(deriv)\n",
    "print(np.sum(deriv))"
   ]
  },
  {
   "cell_type": "code",
   "execution_count": 40,
   "id": "99deefff",
   "metadata": {},
   "outputs": [
    {
     "name": "stdout",
     "output_type": "stream",
     "text": [
      "[[0. 0. 0. 0. 0.]\n",
      " [0. 0. 0. 0. 0.]\n",
      " [0. 0. 0. 0. 0.]\n",
      " [0. 0. 0. 0. 0.]\n",
      " [0. 0. 0. 0. 0.]]\n",
      "2\n",
      "5\n",
      "0\n",
      "1\n",
      "2\n",
      "[[ 1.  1.  1.  1.  1.]\n",
      " [ 2.  1.  0. -1. -2.]\n",
      " [ 4.  1.  0.  1.  4.]\n",
      " [ 8.  1.  0. -1. -8.]\n",
      " [16.  1.  0.  1. 16.]]\n"
     ]
    }
   ],
   "source": [
    "# Order\n",
    "n = 5\n",
    "# Create list of zeros\n",
    "mat_list = np.matrix(np.zeros((n,n)))\n",
    "print(mat_list)\n",
    "m = floor(n/2)\n",
    "print(m)\n",
    "# First half\n",
    "print(n)\n",
    "for i in range(m):\n",
    "#     print(i)\n",
    "    for j in range(n):\n",
    "        mat_list[j,i] = ((m-i)**j)\n",
    "\n",
    "# Middle function\n",
    "mat_list[0,m] = 1\n",
    "\n",
    "# Second half\n",
    "for i in range(m+1):\n",
    "    print(i)\n",
    "    for j in range(n):\n",
    "        mat_list[j,i*1 + m] = ((i)**j)*(-1)**j\n",
    "        \n",
    "print(mat_list)\n",
    "    "
   ]
  },
  {
   "cell_type": "code",
   "execution_count": 41,
   "id": "06862953",
   "metadata": {},
   "outputs": [
    {
     "name": "stdout",
     "output_type": "stream",
     "text": [
      "[[ 1.01789570e-17]\n",
      " [ 4.38170136e-17]\n",
      " [ 1.00000000e+00]\n",
      " [ 3.14206204e-16]\n",
      " [-6.07482801e-17]]\n"
     ]
    }
   ],
   "source": [
    "# derivative index\n",
    "# b = np.array([[0,0,0,1,0]])\n",
    "b = np.array([[1,0,0,0,0]])\n",
    "c = np.linalg.pinv(mat_list)*b.T\n",
    "print(c)"
   ]
  },
  {
   "cell_type": "code",
   "execution_count": 42,
   "id": "46a9689d",
   "metadata": {},
   "outputs": [
    {
     "name": "stdout",
     "output_type": "stream",
     "text": [
      "[2.99999402 2.9999985  3.         2.9999985  2.99999398]\n"
     ]
    }
   ],
   "source": [
    "# Create solution vector\n",
    "# Step size\n",
    "h = 0.001\n",
    "# Create 2 \"Halves\"\n",
    "first_half = []\n",
    "second_half = []\n",
    "for i in reversed(range(m)):\n",
    "    first_half.append(f((i+1)*h))\n",
    "for i in range(m):\n",
    "    second_half.append(f((-i-1)*h))   \n",
    "# Create complete solution vector\n",
    "# func = np.concatenate((first_half,f(0),second_half), axis=None)\n",
    "func = np.hstack((first_half,f(0),second_half))\n",
    "print(func)"
   ]
  },
  {
   "cell_type": "code",
   "execution_count": 43,
   "id": "8c72ecd4",
   "metadata": {},
   "outputs": [
    {
     "name": "stdout",
     "output_type": "stream",
     "text": [
      "[[3.]]\n"
     ]
    }
   ],
   "source": [
    "h = 0.001\n",
    "# x = sy.Symbol('x')\n",
    "# func = np.array([f(2*h),f(h),f(0),f(-h),(f(-2*h))])\n",
    "# print(func)\n",
    "deriv = np.matmul(func,c/h**0)\n",
    "print(deriv)"
   ]
  },
  {
   "cell_type": "code",
   "execution_count": 44,
   "id": "c5b336b2",
   "metadata": {},
   "outputs": [],
   "source": [
    "def derivation(f,x,h,n,term):\n",
    "    \n",
    "    # Ensure polynomials are odd\n",
    "    if n%2 == 0:\n",
    "        n += 1\n",
    "        \n",
    "    # Term,\n",
    "    if term <= 0:\n",
    "        term = 1\n",
    "    \n",
    "    # Create matrix of Taylor Series  equations\n",
    "    \n",
    "    # Create list of zeros\n",
    "    mat_list = np.matrix(np.zeros((n,n)))\n",
    "    print(mat_list)\n",
    "    m = floor(n/2)\n",
    "    print(m)\n",
    "    # First half\n",
    "    print(n)\n",
    "    for i in range(m+1):\n",
    "    #     print(i)\n",
    "        for j in range(n):\n",
    "            mat_list[j,i] = ((m-i)**j)\n",
    "            mat_list[j,i + m] = ((i)**j)*(-1)**j\n",
    "\n",
    "    # Middle function\n",
    "    mat_list[0,m] = 1\n",
    "    print(mat_list)\n",
    "\n",
    "    # Second half\n",
    "#     for i in range(m+1):\n",
    "#         print(i)\n",
    "#         for j in range(n):\n",
    "#             mat_list[j,i*1 + m] = ((i)**j)*(-1)**j\n",
    "            \n",
    "    # Index\n",
    "    b = np.zeros((1,n))\n",
    "    b[0][term-1] = 1\n",
    "    print(b)\n",
    "    # Weights\n",
    "    c = np.linalg.pinv(mat_list)*b.T\n",
    "#     print(c)\n",
    "\n",
    "    # Create solution vector\n",
    "    # Step size\n",
    "    h = 0.001\n",
    "    # Create 2 \"Halves\"\n",
    "    first_half = []\n",
    "    second_half = []\n",
    "    for i in reversed(range(m)):\n",
    "        first_half.append(f((i+1)*h))\n",
    "    for i in range(m):\n",
    "        second_half.append(f((-i-1)*h))   \n",
    "    # Create complete solution vector\n",
    "    # func = np.concatenate((first_half,f(0),second_half), axis=None)\n",
    "    func = np.hstack((first_half,f(0),second_half))\n",
    "    \n",
    "    deriv = np.matmul(func,c/h**(term-1))\n",
    "#     deriv = deriv[0][0]\n",
    "    \n",
    "    return np.array(deriv)[0][0]"
   ]
  },
  {
   "cell_type": "code",
   "execution_count": 45,
   "id": "059ae4fe",
   "metadata": {},
   "outputs": [
    {
     "name": "stdout",
     "output_type": "stream",
     "text": [
      "[[0. 0. 0. 0. 0. 0. 0.]\n",
      " [0. 0. 0. 0. 0. 0. 0.]\n",
      " [0. 0. 0. 0. 0. 0. 0.]\n",
      " [0. 0. 0. 0. 0. 0. 0.]\n",
      " [0. 0. 0. 0. 0. 0. 0.]\n",
      " [0. 0. 0. 0. 0. 0. 0.]\n",
      " [0. 0. 0. 0. 0. 0. 0.]]\n",
      "3\n",
      "7\n",
      "[[   1.    1.    1.    1.    1.    1.    1.]\n",
      " [   3.    2.    1.    0.   -1.   -2.   -3.]\n",
      " [   9.    4.    1.    0.    1.    4.    9.]\n",
      " [  27.    8.    1.    0.   -1.   -8.  -27.]\n",
      " [  81.   16.    1.    0.    1.   16.   81.]\n",
      " [ 243.   32.    1.    0.   -1.  -32. -243.]\n",
      " [ 729.   64.    1.    0.    1.   64.  729.]]\n",
      "[[0. 0. 0. 1. 0. 0. 0.]]\n",
      "1.999996304512024\n",
      "[[0. 0. 0. 0. 0. 0. 0.]\n",
      " [0. 0. 0. 0. 0. 0. 0.]\n",
      " [0. 0. 0. 0. 0. 0. 0.]\n",
      " [0. 0. 0. 0. 0. 0. 0.]\n",
      " [0. 0. 0. 0. 0. 0. 0.]\n",
      " [0. 0. 0. 0. 0. 0. 0.]\n",
      " [0. 0. 0. 0. 0. 0. 0.]]\n",
      "3\n",
      "7\n",
      "[[   1.    1.    1.    1.    1.    1.    1.]\n",
      " [   3.    2.    1.    0.   -1.   -2.   -3.]\n",
      " [   9.    4.    1.    0.    1.    4.    9.]\n",
      " [  27.    8.    1.    0.   -1.   -8.  -27.]\n",
      " [  81.   16.    1.    0.    1.   16.   81.]\n",
      " [ 243.   32.    1.    0.   -1.  -32. -243.]\n",
      " [ 729.   64.    1.    0.    1.   64.  729.]]\n",
      "[[1. 0. 0. 0. 0. 0. 0.]]\n",
      "[[0. 0. 0. 0. 0. 0. 0.]\n",
      " [0. 0. 0. 0. 0. 0. 0.]\n",
      " [0. 0. 0. 0. 0. 0. 0.]\n",
      " [0. 0. 0. 0. 0. 0. 0.]\n",
      " [0. 0. 0. 0. 0. 0. 0.]\n",
      " [0. 0. 0. 0. 0. 0. 0.]\n",
      " [0. 0. 0. 0. 0. 0. 0.]]\n",
      "3\n",
      "7\n",
      "[[   1.    1.    1.    1.    1.    1.    1.]\n",
      " [   3.    2.    1.    0.   -1.   -2.   -3.]\n",
      " [   9.    4.    1.    0.    1.    4.    9.]\n",
      " [  27.    8.    1.    0.   -1.   -8.  -27.]\n",
      " [  81.   16.    1.    0.    1.   16.   81.]\n",
      " [ 243.   32.    1.    0.   -1.  -32. -243.]\n",
      " [ 729.   64.    1.    0.    1.   64.  729.]]\n",
      "[[1. 0. 0. 0. 0. 0. 0.]]\n",
      "[[0. 0. 0. 0. 0. 0. 0.]\n",
      " [0. 0. 0. 0. 0. 0. 0.]\n",
      " [0. 0. 0. 0. 0. 0. 0.]\n",
      " [0. 0. 0. 0. 0. 0. 0.]\n",
      " [0. 0. 0. 0. 0. 0. 0.]\n",
      " [0. 0. 0. 0. 0. 0. 0.]\n",
      " [0. 0. 0. 0. 0. 0. 0.]]\n",
      "3\n",
      "7\n",
      "[[   1.    1.    1.    1.    1.    1.    1.]\n",
      " [   3.    2.    1.    0.   -1.   -2.   -3.]\n",
      " [   9.    4.    1.    0.    1.    4.    9.]\n",
      " [  27.    8.    1.    0.   -1.   -8.  -27.]\n",
      " [  81.   16.    1.    0.    1.   16.   81.]\n",
      " [ 243.   32.    1.    0.   -1.  -32. -243.]\n",
      " [ 729.   64.    1.    0.    1.   64.  729.]]\n",
      "[[0. 1. 0. 0. 0. 0. 0.]]\n",
      "[[0. 0. 0. 0. 0. 0. 0.]\n",
      " [0. 0. 0. 0. 0. 0. 0.]\n",
      " [0. 0. 0. 0. 0. 0. 0.]\n",
      " [0. 0. 0. 0. 0. 0. 0.]\n",
      " [0. 0. 0. 0. 0. 0. 0.]\n",
      " [0. 0. 0. 0. 0. 0. 0.]\n",
      " [0. 0. 0. 0. 0. 0. 0.]]\n",
      "3\n",
      "7\n",
      "[[   1.    1.    1.    1.    1.    1.    1.]\n",
      " [   3.    2.    1.    0.   -1.   -2.   -3.]\n",
      " [   9.    4.    1.    0.    1.    4.    9.]\n",
      " [  27.    8.    1.    0.   -1.   -8.  -27.]\n",
      " [  81.   16.    1.    0.    1.   16.   81.]\n",
      " [ 243.   32.    1.    0.   -1.  -32. -243.]\n",
      " [ 729.   64.    1.    0.    1.   64.  729.]]\n",
      "[[0. 0. 1. 0. 0. 0. 0.]]\n",
      "[3.000000000000002, 3.000000000000002, 3.637978807091713e-12, -1.4999999962747097]\n"
     ]
    }
   ],
   "source": [
    "x = 0\n",
    "h = 0.001\n",
    "n = 7\n",
    "term = 4\n",
    "c = derivation(f,x,h,n,term)\n",
    "print(c)\n",
    "\n",
    "terms_list = []\n",
    "for i in range(term):\n",
    "    c = derivation(f,x,h,n,i)\n",
    "    terms_list.append(c)\n",
    "    \n",
    "print(terms_list)\n",
    "    "
   ]
  },
  {
   "cell_type": "code",
   "execution_count": 46,
   "id": "2de9854a",
   "metadata": {},
   "outputs": [
    {
     "name": "stdout",
     "output_type": "stream",
     "text": [
      "-0.37507034515253196\n"
     ]
    }
   ],
   "source": [
    "from scipy.misc import derivative\n",
    "x = np.linspace(-3,3,100)\n",
    "f = lambda x: 3*np.exp(x) / (x**2 + x + 1)\n",
    "y = f(x)\n",
    "a4 = derivative(f,0,dx=0.001,n=4,order=5) / math.factorial(4)\n",
    "print(a4)"
   ]
  },
  {
   "cell_type": "code",
   "execution_count": 47,
   "id": "c42e542e",
   "metadata": {},
   "outputs": [],
   "source": [
    "# x = 0\n",
    "# h = 0.001\n",
    "# n = 5\n",
    "# # if n%2 == 0:\n",
    "# #     n += 1\n",
    "# # print(n)\n",
    "# term = 3\n",
    "# c = derivation(f,x,h,n,term)\n",
    "# print(c)\n",
    "# # print(type(c))"
   ]
  },
  {
   "cell_type": "code",
   "execution_count": 48,
   "id": "0b5d13bb",
   "metadata": {},
   "outputs": [],
   "source": [
    "# for i in np.array(c):\n",
    "#     print(i[0])"
   ]
  },
  {
   "cell_type": "code",
   "execution_count": 49,
   "id": "7e2a19fe",
   "metadata": {},
   "outputs": [
    {
     "name": "stdout",
     "output_type": "stream",
     "text": [
      "[[0. 0. 0. 0. 0. 0. 0.]\n",
      " [0. 0. 0. 0. 0. 0. 0.]\n",
      " [0. 0. 0. 0. 0. 0. 0.]\n",
      " [0. 0. 0. 0. 0. 0. 0.]\n",
      " [0. 0. 0. 0. 0. 0. 0.]\n",
      " [0. 0. 0. 0. 0. 0. 0.]\n",
      " [0. 0. 0. 0. 0. 0. 0.]]\n",
      "3\n",
      "7\n",
      "[[   1.    1.    1.    1.    1.    1.    1.]\n",
      " [   3.    2.    1.    0.   -1.   -2.   -3.]\n",
      " [   9.    4.    1.    0.    1.    4.    9.]\n",
      " [  27.    8.    1.    0.   -1.   -8.  -27.]\n",
      " [  81.   16.    1.    0.    1.   16.   81.]\n",
      " [ 243.   32.    1.    0.   -1.  -32. -243.]\n",
      " [ 729.   64.    1.    0.    1.   64.  729.]]\n",
      "[[1. 0. 0. 0. 0. 0. 0.]]\n",
      "[[0. 0. 0. 0. 0. 0. 0.]\n",
      " [0. 0. 0. 0. 0. 0. 0.]\n",
      " [0. 0. 0. 0. 0. 0. 0.]\n",
      " [0. 0. 0. 0. 0. 0. 0.]\n",
      " [0. 0. 0. 0. 0. 0. 0.]\n",
      " [0. 0. 0. 0. 0. 0. 0.]\n",
      " [0. 0. 0. 0. 0. 0. 0.]]\n",
      "3\n",
      "7\n",
      "[[   1.    1.    1.    1.    1.    1.    1.]\n",
      " [   3.    2.    1.    0.   -1.   -2.   -3.]\n",
      " [   9.    4.    1.    0.    1.    4.    9.]\n",
      " [  27.    8.    1.    0.   -1.   -8.  -27.]\n",
      " [  81.   16.    1.    0.    1.   16.   81.]\n",
      " [ 243.   32.    1.    0.   -1.  -32. -243.]\n",
      " [ 729.   64.    1.    0.    1.   64.  729.]]\n",
      "[[0. 1. 0. 0. 0. 0. 0.]]\n",
      "[[0. 0. 0. 0. 0. 0. 0.]\n",
      " [0. 0. 0. 0. 0. 0. 0.]\n",
      " [0. 0. 0. 0. 0. 0. 0.]\n",
      " [0. 0. 0. 0. 0. 0. 0.]\n",
      " [0. 0. 0. 0. 0. 0. 0.]\n",
      " [0. 0. 0. 0. 0. 0. 0.]\n",
      " [0. 0. 0. 0. 0. 0. 0.]]\n",
      "3\n",
      "7\n",
      "[[   1.    1.    1.    1.    1.    1.    1.]\n",
      " [   3.    2.    1.    0.   -1.   -2.   -3.]\n",
      " [   9.    4.    1.    0.    1.    4.    9.]\n",
      " [  27.    8.    1.    0.   -1.   -8.  -27.]\n",
      " [  81.   16.    1.    0.    1.   16.   81.]\n",
      " [ 243.   32.    1.    0.   -1.  -32. -243.]\n",
      " [ 729.   64.    1.    0.    1.   64.  729.]]\n",
      "[[0. 0. 1. 0. 0. 0. 0.]]\n",
      "[[0. 0. 0. 0. 0. 0. 0.]\n",
      " [0. 0. 0. 0. 0. 0. 0.]\n",
      " [0. 0. 0. 0. 0. 0. 0.]\n",
      " [0. 0. 0. 0. 0. 0. 0.]\n",
      " [0. 0. 0. 0. 0. 0. 0.]\n",
      " [0. 0. 0. 0. 0. 0. 0.]\n",
      " [0. 0. 0. 0. 0. 0. 0.]]\n",
      "3\n",
      "7\n",
      "[[   1.    1.    1.    1.    1.    1.    1.]\n",
      " [   3.    2.    1.    0.   -1.   -2.   -3.]\n",
      " [   9.    4.    1.    0.    1.    4.    9.]\n",
      " [  27.    8.    1.    0.   -1.   -8.  -27.]\n",
      " [  81.   16.    1.    0.    1.   16.   81.]\n",
      " [ 243.   32.    1.    0.   -1.  -32. -243.]\n",
      " [ 729.   64.    1.    0.    1.   64.  729.]]\n",
      "[[0. 0. 0. 1. 0. 0. 0.]]\n",
      "[1.0000000000000007, 1.0000000000011369, 0.5000000011641532, 0.16666549444198608]\n",
      "[[0. 0. 0. 0. 0. 0. 0.]\n",
      " [0. 0. 0. 0. 0. 0. 0.]\n",
      " [0. 0. 0. 0. 0. 0. 0.]\n",
      " [0. 0. 0. 0. 0. 0. 0.]\n",
      " [0. 0. 0. 0. 0. 0. 0.]\n",
      " [0. 0. 0. 0. 0. 0. 0.]\n",
      " [0. 0. 0. 0. 0. 0. 0.]]\n",
      "3\n",
      "7\n",
      "[[   1.    1.    1.    1.    1.    1.    1.]\n",
      " [   3.    2.    1.    0.   -1.   -2.   -3.]\n",
      " [   9.    4.    1.    0.    1.    4.    9.]\n",
      " [  27.    8.    1.    0.   -1.   -8.  -27.]\n",
      " [  81.   16.    1.    0.    1.   16.   81.]\n",
      " [ 243.   32.    1.    0.   -1.  -32. -243.]\n",
      " [ 729.   64.    1.    0.    1.   64.  729.]]\n",
      "[[1. 0. 0. 0. 0. 0. 0.]]\n",
      "I: 1\n",
      "init:  1.0000000000000007\n",
      "[[0. 0. 0. 0. 0. 0. 0.]\n",
      " [0. 0. 0. 0. 0. 0. 0.]\n",
      " [0. 0. 0. 0. 0. 0. 0.]\n",
      " [0. 0. 0. 0. 0. 0. 0.]\n",
      " [0. 0. 0. 0. 0. 0. 0.]\n",
      " [0. 0. 0. 0. 0. 0. 0.]\n",
      " [0. 0. 0. 0. 0. 0. 0.]]\n",
      "3\n",
      "7\n",
      "[[   1.    1.    1.    1.    1.    1.    1.]\n",
      " [   3.    2.    1.    0.   -1.   -2.   -3.]\n",
      " [   9.    4.    1.    0.    1.    4.    9.]\n",
      " [  27.    8.    1.    0.   -1.   -8.  -27.]\n",
      " [  81.   16.    1.    0.    1.   16.   81.]\n",
      " [ 243.   32.    1.    0.   -1.  -32. -243.]\n",
      " [ 729.   64.    1.    0.    1.   64.  729.]]\n",
      "[[0. 1. 0. 0. 0. 0. 0.]]\n",
      "I: 2\n",
      "init:  1.0000000000011369\n",
      "[[0. 0. 0. 0. 0. 0. 0.]\n",
      " [0. 0. 0. 0. 0. 0. 0.]\n",
      " [0. 0. 0. 0. 0. 0. 0.]\n",
      " [0. 0. 0. 0. 0. 0. 0.]\n",
      " [0. 0. 0. 0. 0. 0. 0.]\n",
      " [0. 0. 0. 0. 0. 0. 0.]\n",
      " [0. 0. 0. 0. 0. 0. 0.]]\n",
      "3\n",
      "7\n",
      "[[   1.    1.    1.    1.    1.    1.    1.]\n",
      " [   3.    2.    1.    0.   -1.   -2.   -3.]\n",
      " [   9.    4.    1.    0.    1.    4.    9.]\n",
      " [  27.    8.    1.    0.   -1.   -8.  -27.]\n",
      " [  81.   16.    1.    0.    1.   16.   81.]\n",
      " [ 243.   32.    1.    0.   -1.  -32. -243.]\n",
      " [ 729.   64.    1.    0.    1.   64.  729.]]\n",
      "[[0. 0. 1. 0. 0. 0. 0.]]\n",
      "I: 3\n",
      "init:  0.5000000011641532\n",
      "[[0. 0. 0. 0. 0. 0. 0.]\n",
      " [0. 0. 0. 0. 0. 0. 0.]\n",
      " [0. 0. 0. 0. 0. 0. 0.]\n",
      " [0. 0. 0. 0. 0. 0. 0.]\n",
      " [0. 0. 0. 0. 0. 0. 0.]\n",
      " [0. 0. 0. 0. 0. 0. 0.]\n",
      " [0. 0. 0. 0. 0. 0. 0.]]\n",
      "3\n",
      "7\n",
      "[[   1.    1.    1.    1.    1.    1.    1.]\n",
      " [   3.    2.    1.    0.   -1.   -2.   -3.]\n",
      " [   9.    4.    1.    0.    1.    4.    9.]\n",
      " [  27.    8.    1.    0.   -1.   -8.  -27.]\n",
      " [  81.   16.    1.    0.    1.   16.   81.]\n",
      " [ 243.   32.    1.    0.   -1.  -32. -243.]\n",
      " [ 729.   64.    1.    0.    1.   64.  729.]]\n",
      "[[0. 0. 0. 1. 0. 0. 0.]]\n",
      "I: 4\n",
      "init:  0.16666549444198608\n"
     ]
    }
   ],
   "source": [
    "x = 0\n",
    "h = 0.001\n",
    "n = 7\n",
    "# if n%2 == 0:\n",
    "#     n += 1\n",
    "# print(n)\n",
    "f = lambda x: np.exp(x)\n",
    "term = 5\n",
    "terms_list = []\n",
    "for t in range(1,term):\n",
    "    c = derivation(f,x,h,n,t)\n",
    "    terms_list.append(c)\n",
    "print(terms_list)\n",
    "    \n",
    "integral_list = []\n",
    "for i in range(1,term):\n",
    "    c = derivation(f,x,h,n,i)\n",
    "    print(\"I:\",i)\n",
    "    print(\"init: \", c)\n",
    "    integral_list.append(c/(i*2-1))\n",
    "# print(integral_list)\n",
    "    \n",
    "#     print(c)\n",
    "# print(type(c))"
   ]
  },
  {
   "cell_type": "code",
   "execution_count": 50,
   "id": "e6b1fb3e",
   "metadata": {},
   "outputs": [
    {
     "name": "stdout",
     "output_type": "stream",
     "text": [
      "[1.0000000000000007, 1.0000000000011369, 0.5000000011641532, 0.16666549444198608]\n",
      "[1.0000000000000007, 0.3333333333337123, 0.10000000023283065, 0.023809356348855153]\n"
     ]
    }
   ],
   "source": [
    "print(terms_list)\n",
    "print(integral_list)"
   ]
  },
  {
   "cell_type": "code",
   "execution_count": 51,
   "id": "0a0fbfdf",
   "metadata": {},
   "outputs": [
    {
     "name": "stdout",
     "output_type": "stream",
     "text": [
      "[[0. 0. 0. 0. 0. 0. 0.]\n",
      " [0. 0. 0. 0. 0. 0. 0.]\n",
      " [0. 0. 0. 0. 0. 0. 0.]\n",
      " [0. 0. 0. 0. 0. 0. 0.]\n",
      " [0. 0. 0. 0. 0. 0. 0.]\n",
      " [0. 0. 0. 0. 0. 0. 0.]\n",
      " [0. 0. 0. 0. 0. 0. 0.]]\n",
      "3\n",
      "7\n",
      "[[   1.    1.    1.    1.    1.    1.    1.]\n",
      " [   3.    2.    1.    0.   -1.   -2.   -3.]\n",
      " [   9.    4.    1.    0.    1.    4.    9.]\n",
      " [  27.    8.    1.    0.   -1.   -8.  -27.]\n",
      " [  81.   16.    1.    0.    1.   16.   81.]\n",
      " [ 243.   32.    1.    0.   -1.  -32. -243.]\n",
      " [ 729.   64.    1.    0.    1.   64.  729.]]\n",
      "[[1. 0. 0. 0. 0. 0. 0.]]\n",
      "[[0. 0. 0. 0. 0. 0. 0.]\n",
      " [0. 0. 0. 0. 0. 0. 0.]\n",
      " [0. 0. 0. 0. 0. 0. 0.]\n",
      " [0. 0. 0. 0. 0. 0. 0.]\n",
      " [0. 0. 0. 0. 0. 0. 0.]\n",
      " [0. 0. 0. 0. 0. 0. 0.]\n",
      " [0. 0. 0. 0. 0. 0. 0.]]\n",
      "3\n",
      "7\n",
      "[[   1.    1.    1.    1.    1.    1.    1.]\n",
      " [   3.    2.    1.    0.   -1.   -2.   -3.]\n",
      " [   9.    4.    1.    0.    1.    4.    9.]\n",
      " [  27.    8.    1.    0.   -1.   -8.  -27.]\n",
      " [  81.   16.    1.    0.    1.   16.   81.]\n",
      " [ 243.   32.    1.    0.   -1.  -32. -243.]\n",
      " [ 729.   64.    1.    0.    1.   64.  729.]]\n",
      "[[0. 1. 0. 0. 0. 0. 0.]]\n",
      "[[0. 0. 0. 0. 0. 0. 0.]\n",
      " [0. 0. 0. 0. 0. 0. 0.]\n",
      " [0. 0. 0. 0. 0. 0. 0.]\n",
      " [0. 0. 0. 0. 0. 0. 0.]\n",
      " [0. 0. 0. 0. 0. 0. 0.]\n",
      " [0. 0. 0. 0. 0. 0. 0.]\n",
      " [0. 0. 0. 0. 0. 0. 0.]]\n",
      "3\n",
      "7\n",
      "[[   1.    1.    1.    1.    1.    1.    1.]\n",
      " [   3.    2.    1.    0.   -1.   -2.   -3.]\n",
      " [   9.    4.    1.    0.    1.    4.    9.]\n",
      " [  27.    8.    1.    0.   -1.   -8.  -27.]\n",
      " [  81.   16.    1.    0.    1.   16.   81.]\n",
      " [ 243.   32.    1.    0.   -1.  -32. -243.]\n",
      " [ 729.   64.    1.    0.    1.   64.  729.]]\n",
      "[[0. 0. 1. 0. 0. 0. 0.]]\n",
      "[[0. 0. 0. 0. 0. 0. 0.]\n",
      " [0. 0. 0. 0. 0. 0. 0.]\n",
      " [0. 0. 0. 0. 0. 0. 0.]\n",
      " [0. 0. 0. 0. 0. 0. 0.]\n",
      " [0. 0. 0. 0. 0. 0. 0.]\n",
      " [0. 0. 0. 0. 0. 0. 0.]\n",
      " [0. 0. 0. 0. 0. 0. 0.]]\n",
      "3\n",
      "7\n",
      "[[   1.    1.    1.    1.    1.    1.    1.]\n",
      " [   3.    2.    1.    0.   -1.   -2.   -3.]\n",
      " [   9.    4.    1.    0.    1.    4.    9.]\n",
      " [  27.    8.    1.    0.   -1.   -8.  -27.]\n",
      " [  81.   16.    1.    0.    1.   16.   81.]\n",
      " [ 243.   32.    1.    0.   -1.  -32. -243.]\n",
      " [ 729.   64.    1.    0.    1.   64.  729.]]\n",
      "[[0. 0. 0. 1. 0. 0. 0.]]\n",
      "[1.0000000000000007, 1.0000000000011369, 0.5000000011641532, 0.16666549444198608]\n",
      "[[0. 0. 0. 0. 0. 0. 0.]\n",
      " [0. 0. 0. 0. 0. 0. 0.]\n",
      " [0. 0. 0. 0. 0. 0. 0.]\n",
      " [0. 0. 0. 0. 0. 0. 0.]\n",
      " [0. 0. 0. 0. 0. 0. 0.]\n",
      " [0. 0. 0. 0. 0. 0. 0.]\n",
      " [0. 0. 0. 0. 0. 0. 0.]]\n",
      "3\n",
      "7\n",
      "[[   1.    1.    1.    1.    1.    1.    1.]\n",
      " [   3.    2.    1.    0.   -1.   -2.   -3.]\n",
      " [   9.    4.    1.    0.    1.    4.    9.]\n",
      " [  27.    8.    1.    0.   -1.   -8.  -27.]\n",
      " [  81.   16.    1.    0.    1.   16.   81.]\n",
      " [ 243.   32.    1.    0.   -1.  -32. -243.]\n",
      " [ 729.   64.    1.    0.    1.   64.  729.]]\n",
      "[[1. 0. 0. 0. 0. 0. 0.]]\n",
      "I: 1\n",
      "init:  1.0000000000000007\n",
      "[[0. 0. 0. 0. 0. 0. 0.]\n",
      " [0. 0. 0. 0. 0. 0. 0.]\n",
      " [0. 0. 0. 0. 0. 0. 0.]\n",
      " [0. 0. 0. 0. 0. 0. 0.]\n",
      " [0. 0. 0. 0. 0. 0. 0.]\n",
      " [0. 0. 0. 0. 0. 0. 0.]\n",
      " [0. 0. 0. 0. 0. 0. 0.]]\n",
      "3\n",
      "7\n",
      "[[   1.    1.    1.    1.    1.    1.    1.]\n",
      " [   3.    2.    1.    0.   -1.   -2.   -3.]\n",
      " [   9.    4.    1.    0.    1.    4.    9.]\n",
      " [  27.    8.    1.    0.   -1.   -8.  -27.]\n",
      " [  81.   16.    1.    0.    1.   16.   81.]\n",
      " [ 243.   32.    1.    0.   -1.  -32. -243.]\n",
      " [ 729.   64.    1.    0.    1.   64.  729.]]\n",
      "[[0. 1. 0. 0. 0. 0. 0.]]\n",
      "I: 2\n",
      "init:  1.0000000000011369\n",
      "[[0. 0. 0. 0. 0. 0. 0.]\n",
      " [0. 0. 0. 0. 0. 0. 0.]\n",
      " [0. 0. 0. 0. 0. 0. 0.]\n",
      " [0. 0. 0. 0. 0. 0. 0.]\n",
      " [0. 0. 0. 0. 0. 0. 0.]\n",
      " [0. 0. 0. 0. 0. 0. 0.]\n",
      " [0. 0. 0. 0. 0. 0. 0.]]\n",
      "3\n",
      "7\n",
      "[[   1.    1.    1.    1.    1.    1.    1.]\n",
      " [   3.    2.    1.    0.   -1.   -2.   -3.]\n",
      " [   9.    4.    1.    0.    1.    4.    9.]\n",
      " [  27.    8.    1.    0.   -1.   -8.  -27.]\n",
      " [  81.   16.    1.    0.    1.   16.   81.]\n",
      " [ 243.   32.    1.    0.   -1.  -32. -243.]\n",
      " [ 729.   64.    1.    0.    1.   64.  729.]]\n",
      "[[0. 0. 1. 0. 0. 0. 0.]]\n",
      "I: 3\n",
      "init:  0.5000000011641532\n",
      "[[0. 0. 0. 0. 0. 0. 0.]\n",
      " [0. 0. 0. 0. 0. 0. 0.]\n",
      " [0. 0. 0. 0. 0. 0. 0.]\n",
      " [0. 0. 0. 0. 0. 0. 0.]\n",
      " [0. 0. 0. 0. 0. 0. 0.]\n",
      " [0. 0. 0. 0. 0. 0. 0.]\n",
      " [0. 0. 0. 0. 0. 0. 0.]]\n",
      "3\n",
      "7\n",
      "[[   1.    1.    1.    1.    1.    1.    1.]\n",
      " [   3.    2.    1.    0.   -1.   -2.   -3.]\n",
      " [   9.    4.    1.    0.    1.    4.    9.]\n",
      " [  27.    8.    1.    0.   -1.   -8.  -27.]\n",
      " [  81.   16.    1.    0.    1.   16.   81.]\n",
      " [ 243.   32.    1.    0.   -1.  -32. -243.]\n",
      " [ 729.   64.    1.    0.    1.   64.  729.]]\n",
      "[[0. 0. 0. 1. 0. 0. 0.]]\n",
      "I: 4\n",
      "init:  0.16666549444198608\n",
      "[[0. 0. 0. 0. 0. 0. 0.]\n",
      " [0. 0. 0. 0. 0. 0. 0.]\n",
      " [0. 0. 0. 0. 0. 0. 0.]\n",
      " [0. 0. 0. 0. 0. 0. 0.]\n",
      " [0. 0. 0. 0. 0. 0. 0.]\n",
      " [0. 0. 0. 0. 0. 0. 0.]\n",
      " [0. 0. 0. 0. 0. 0. 0.]]\n",
      "3\n",
      "7\n",
      "[[   1.    1.    1.    1.    1.    1.    1.]\n",
      " [   3.    2.    1.    0.   -1.   -2.   -3.]\n",
      " [   9.    4.    1.    0.    1.    4.    9.]\n",
      " [  27.    8.    1.    0.   -1.   -8.  -27.]\n",
      " [  81.   16.    1.    0.    1.   16.   81.]\n",
      " [ 243.   32.    1.    0.   -1.  -32. -243.]\n",
      " [ 729.   64.    1.    0.    1.   64.  729.]]\n",
      "[[1. 0. 0. 0. 0. 0. 0.]]\n",
      "I: 1\n",
      "init:  1.0000000000000007\n",
      "[[0. 0. 0. 0. 0. 0. 0.]\n",
      " [0. 0. 0. 0. 0. 0. 0.]\n",
      " [0. 0. 0. 0. 0. 0. 0.]\n",
      " [0. 0. 0. 0. 0. 0. 0.]\n",
      " [0. 0. 0. 0. 0. 0. 0.]\n",
      " [0. 0. 0. 0. 0. 0. 0.]\n",
      " [0. 0. 0. 0. 0. 0. 0.]]\n",
      "3\n",
      "7\n",
      "[[   1.    1.    1.    1.    1.    1.    1.]\n",
      " [   3.    2.    1.    0.   -1.   -2.   -3.]\n",
      " [   9.    4.    1.    0.    1.    4.    9.]\n",
      " [  27.    8.    1.    0.   -1.   -8.  -27.]\n",
      " [  81.   16.    1.    0.    1.   16.   81.]\n",
      " [ 243.   32.    1.    0.   -1.  -32. -243.]\n",
      " [ 729.   64.    1.    0.    1.   64.  729.]]\n",
      "[[0. 1. 0. 0. 0. 0. 0.]]\n",
      "I: 2\n",
      "init:  1.0000000000011369\n",
      "[[0. 0. 0. 0. 0. 0. 0.]\n",
      " [0. 0. 0. 0. 0. 0. 0.]\n",
      " [0. 0. 0. 0. 0. 0. 0.]\n",
      " [0. 0. 0. 0. 0. 0. 0.]\n",
      " [0. 0. 0. 0. 0. 0. 0.]\n",
      " [0. 0. 0. 0. 0. 0. 0.]\n",
      " [0. 0. 0. 0. 0. 0. 0.]]\n",
      "3\n",
      "7\n",
      "[[   1.    1.    1.    1.    1.    1.    1.]\n",
      " [   3.    2.    1.    0.   -1.   -2.   -3.]\n",
      " [   9.    4.    1.    0.    1.    4.    9.]\n",
      " [  27.    8.    1.    0.   -1.   -8.  -27.]\n",
      " [  81.   16.    1.    0.    1.   16.   81.]\n",
      " [ 243.   32.    1.    0.   -1.  -32. -243.]\n",
      " [ 729.   64.    1.    0.    1.   64.  729.]]\n",
      "[[0. 0. 1. 0. 0. 0. 0.]]\n",
      "I: 3\n",
      "init:  0.5000000011641532\n",
      "[[0. 0. 0. 0. 0. 0. 0.]\n",
      " [0. 0. 0. 0. 0. 0. 0.]\n",
      " [0. 0. 0. 0. 0. 0. 0.]\n",
      " [0. 0. 0. 0. 0. 0. 0.]\n",
      " [0. 0. 0. 0. 0. 0. 0.]\n",
      " [0. 0. 0. 0. 0. 0. 0.]\n",
      " [0. 0. 0. 0. 0. 0. 0.]]\n",
      "3\n",
      "7\n",
      "[[   1.    1.    1.    1.    1.    1.    1.]\n",
      " [   3.    2.    1.    0.   -1.   -2.   -3.]\n",
      " [   9.    4.    1.    0.    1.    4.    9.]\n",
      " [  27.    8.    1.    0.   -1.   -8.  -27.]\n",
      " [  81.   16.    1.    0.    1.   16.   81.]\n",
      " [ 243.   32.    1.    0.   -1.  -32. -243.]\n",
      " [ 729.   64.    1.    0.    1.   64.  729.]]\n",
      "[[0. 0. 0. 1. 0. 0. 0.]]\n",
      "I: 4\n",
      "init:  0.16666549444198608\n"
     ]
    }
   ],
   "source": [
    "x = 0\n",
    "h = 0.001\n",
    "n = 7\n",
    "# if n%2 == 0:\n",
    "#     n += 1\n",
    "# print(n)\n",
    "f = lambda x: np.exp(x)\n",
    "term = 5\n",
    "terms_list = []\n",
    "for t in range(1,term):\n",
    "    c = derivation(f,x,h,n,t)\n",
    "    terms_list.append(c)\n",
    "print(terms_list)\n",
    "    \n",
    "integral_list = []\n",
    "for i in range(1,term):\n",
    "    c = derivation(f,x,h,n,i)\n",
    "    print(\"I:\",i)\n",
    "    print(\"init: \", c)\n",
    "    integral_list.append(c/(i*2-1))\n",
    "# print(integral_list)\n",
    "    \n",
    "#     print(c)\n",
    "# print(type(c))\n",
    "\n",
    "dy_dx = []\n",
    "I = []\n",
    "for i in range(1,term):\n",
    "    c = derivation(f,x,h,n,i)\n",
    "    I.append(i)\n",
    "    print(\"I:\",i)\n",
    "    print(\"init: \", c)\n",
    "    dy_dx.append(c*(2*i-2))"
   ]
  },
  {
   "cell_type": "code",
   "execution_count": 52,
   "id": "a865617a",
   "metadata": {},
   "outputs": [
    {
     "name": "stdout",
     "output_type": "stream",
     "text": [
      "[1.0000000000000007, 1.0000000000011369, 0.5000000011641532, 0.16666549444198608]\n",
      "[0.0, 2.0000000000022737, 2.000000004656613, 0.9999929666519165]\n",
      "[1, 2, 3, 4]\n"
     ]
    }
   ],
   "source": [
    "print(terms_list)\n",
    "print(dy_dx)\n",
    "print(I)"
   ]
  }
 ],
 "metadata": {
  "kernelspec": {
   "display_name": "Python 3 (ipykernel)",
   "language": "python",
   "name": "python3"
  },
  "language_info": {
   "codemirror_mode": {
    "name": "ipython",
    "version": 3
   },
   "file_extension": ".py",
   "mimetype": "text/x-python",
   "name": "python",
   "nbconvert_exporter": "python",
   "pygments_lexer": "ipython3",
   "version": "3.9.7"
  }
 },
 "nbformat": 4,
 "nbformat_minor": 5
}
