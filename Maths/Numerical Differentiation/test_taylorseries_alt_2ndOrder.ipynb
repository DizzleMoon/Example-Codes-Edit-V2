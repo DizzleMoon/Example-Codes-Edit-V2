{
 "cells": [
  {
   "cell_type": "code",
   "execution_count": 1067,
   "id": "b42fa91c",
   "metadata": {},
   "outputs": [],
   "source": [
    "import sympy as sym\n",
    "import numpy as num\n",
    "import matplotlib.pyplot as pyplot\n",
    "\n",
    "import sympy as sy\n",
    "import numpy as np\n",
    "from sympy.functions import sin,cos,exp\n",
    "import matplotlib.pyplot as plt\n",
    "from sympy import* \n",
    "import math\n",
    "plt.style.use(\"ggplot\")\n",
    "\n",
    "pyplot.style.use(\"ggplot\")"
   ]
  },
  {
   "cell_type": "code",
   "execution_count": 1068,
   "id": "ab282fc8",
   "metadata": {},
   "outputs": [],
   "source": [
    "x = 0\n",
    "h = 0.001\n",
    "n = 4\n",
    "term = 3\n",
    "# f = lambda x: np.exp(x)"
   ]
  },
  {
   "cell_type": "code",
   "execution_count": 1069,
   "id": "29dc5c9e",
   "metadata": {},
   "outputs": [
    {
     "name": "stdout",
     "output_type": "stream",
     "text": [
      "2\n",
      "4\n",
      "[[ 1.  1.  1.  1.]\n",
      " [ 2.  1.  0. -1.]\n",
      " [ 4.  1.  0.  1.]\n",
      " [ 8.  1.  0. -1.]]\n"
     ]
    }
   ],
   "source": [
    "# Create list of zeros\n",
    "mat_list = np.matrix(np.zeros((n,n)))\n",
    "m = floor(n/2)\n",
    "print(m)\n",
    "# First half\n",
    "print(n)\n",
    "for i in range(m):\n",
    "#     print(i)\n",
    "    for j in range(n):\n",
    "        mat_list[j,i] = ((m-i)**j)\n",
    "        mat_list[j,i + m] = ((i)**j)*(-1)**j\n",
    "\n",
    "# Middle function\n",
    "mat_list[0,m] = 1\n",
    "print(mat_list)"
   ]
  },
  {
   "cell_type": "code",
   "execution_count": 1070,
   "id": "e9ee8368",
   "metadata": {},
   "outputs": [
    {
     "name": "stdout",
     "output_type": "stream",
     "text": [
      "-1.0\n",
      "0.5\n",
      "-0.16666666666666666\n",
      "0.041666666666666664\n"
     ]
    }
   ],
   "source": [
    "for i in range(0,4):\n",
    "    print(1/math.factorial(i+1)*(-1)**(i+1))"
   ]
  },
  {
   "cell_type": "code",
   "execution_count": 1071,
   "id": "5c6a69d0",
   "metadata": {},
   "outputs": [
    {
     "name": "stdout",
     "output_type": "stream",
     "text": [
      "[[0. 0. 0. 0. 0. 0.]\n",
      " [0. 0. 0. 0. 0. 0.]\n",
      " [0. 0. 0. 0. 0. 0.]\n",
      " [0. 0. 0. 0. 0. 0.]\n",
      " [0. 0. 0. 0. 0. 0.]\n",
      " [0. 0. 0. 0. 0. 0.]]\n",
      "2\n",
      "[[ 2.00000000e+00  2.00000000e+00  1.33333333e+00  6.66666667e-01\n",
      "   2.66666667e-01  8.88888889e-02]\n",
      " [ 5.00000000e-01  1.66666667e-01  4.16666667e-02  8.33333333e-03\n",
      "   1.38888889e-03  1.98412698e-04]\n",
      " [ 5.00000000e-01 -1.66666667e-01  4.16666667e-02 -8.33333333e-03\n",
      "   1.38888889e-03 -1.98412698e-04]\n",
      " [ 2.00000000e+00 -2.00000000e+00  1.33333333e+00 -6.66666667e-01\n",
      "   2.66666667e-01 -8.88888889e-02]\n",
      " [ 5.00000000e-01  1.66666667e-01  4.16666667e-02  8.33333333e-03\n",
      "   1.38888889e-03  1.98412698e-04]\n",
      " [ 0.00000000e+00  0.00000000e+00  0.00000000e+00  0.00000000e+00\n",
      "   0.00000000e+00  0.00000000e+00]]\n"
     ]
    }
   ],
   "source": [
    "# Create list of zeros\n",
    "n = 6\n",
    "mat_list = np.matrix(np.zeros((n,n)))\n",
    "print(mat_list)\n",
    "# m = floor(n/2)\n",
    "m = 2\n",
    "print(m)\n",
    "for j in range(m): \n",
    "    for i in range(1,n+1):\n",
    "        mat_list[i-1,3*j] = ((m**(i))/math.factorial(i)) \n",
    "        mat_list[i-1,3*j-2]=(1/math.factorial(i+1))\n",
    "        if j > (m/2 - 1):\n",
    "            mat_list[i-1,3*j] = ((m**(i))/math.factorial(i))*(-1)**(i+1)\n",
    "            mat_list[i-1,3*j-1]=(1/math.factorial(i+1)) * (-1)**(i+1)            \n",
    "print(mat_list.T)"
   ]
  },
  {
   "cell_type": "code",
   "execution_count": 1072,
   "id": "ec4b3631",
   "metadata": {},
   "outputs": [
    {
     "name": "stdout",
     "output_type": "stream",
     "text": [
      "3\n",
      "[[0. 0. 2. 0. 0. 0.]]\n",
      "[[ 0.81602424]\n",
      " [-1.62866621]\n",
      " [-3.25733243]\n",
      " [ 0.81602424]\n",
      " [-1.62866621]\n",
      " [ 0.        ]]\n"
     ]
    }
   ],
   "source": [
    "# Index\n",
    "print(term)\n",
    "b = np.zeros((1,n))\n",
    "# b[0][term-1] = math.factorial(term-1)/(h**(term-1))\n",
    "b[0][term-1] = math.factorial(term-1)\n",
    "print(b)\n",
    "# Weights\n",
    "c = np.linalg.pinv(mat_list)*b.T\n",
    "print(c)\n"
   ]
  },
  {
   "cell_type": "code",
   "execution_count": 1073,
   "id": "4d9ac5b1",
   "metadata": {},
   "outputs": [
    {
     "name": "stdout",
     "output_type": "stream",
     "text": [
      "2\n",
      "5\n",
      "[[ 1.          1.          1.          1.          1.        ]\n",
      " [ 2.          1.          0.         -1.         -2.        ]\n",
      " [ 2.          0.5         0.          0.5         2.        ]\n",
      " [ 1.33333333  0.16666667  0.         -0.16666667 -1.33333333]\n",
      " [ 0.66666667  0.04166667  0.          0.04166667  0.66666667]]\n"
     ]
    }
   ],
   "source": [
    "# Create list of zeros\n",
    "n = 5\n",
    "mat_list = np.matrix(np.zeros((n,n)))\n",
    "m = floor(n/2)\n",
    "print(m)\n",
    "# First half\n",
    "print(n)\n",
    "for i in range(m+1):\n",
    "#     print(i)\n",
    "    for j in range(n):\n",
    "        mat_list[j,i] = ((m-i)**j)/math.factorial(j)\n",
    "        mat_list[j,i + m] = ((i)**j)*(-1)**j/math.factorial(j)\n",
    "\n",
    "# Middle function\n",
    "mat_list[0,m] = 1\n",
    "print(mat_list)"
   ]
  },
  {
   "cell_type": "code",
   "execution_count": 1074,
   "id": "e980ace7",
   "metadata": {},
   "outputs": [
    {
     "name": "stdout",
     "output_type": "stream",
     "text": [
      "3\n",
      "[[0. 0. 0. 0. 1.]]\n",
      "[[ 1.]\n",
      " [-4.]\n",
      " [ 6.]\n",
      " [-4.]\n",
      " [ 1.]]\n"
     ]
    }
   ],
   "source": [
    "# Index\n",
    "print(term)\n",
    "b = np.zeros((1,n))\n",
    "# b[0][term-1] = math.factorial(term-1)/(h**(term-1))\n",
    "# b[0][term-1] = math.factorial(term-1)\n",
    "b[0][4] = math.factorial(1)\n",
    "print(b)\n",
    "# Weights\n",
    "c = np.linalg.pinv(mat_list)*b.T\n",
    "print(c)\n"
   ]
  },
  {
   "cell_type": "code",
   "execution_count": 1075,
   "id": "f4167943",
   "metadata": {},
   "outputs": [],
   "source": [
    "# f_0 = 'x**3 + x - 1'\n",
    "# f_1 = str(f_0)\n",
    "f = lambda x: np.sin(x)"
   ]
  },
  {
   "cell_type": "code",
   "execution_count": 1076,
   "id": "34b08c06",
   "metadata": {},
   "outputs": [
    {
     "name": "stdout",
     "output_type": "stream",
     "text": [
      "[[8.40388698e+11 8.40930262e+11 8.41470985e+11 8.42010866e+11\n",
      "  8.42549906e+11]]\n"
     ]
    }
   ],
   "source": [
    "i = 1\n",
    "h = 0.001\n",
    "# a = terms\n",
    "func = np.matrix([f(i-2*h),f(i-h),f(i),f(i+h),(f(i+2*h))])/(h**4)\n",
    "print(func)"
   ]
  },
  {
   "cell_type": "code",
   "execution_count": 1077,
   "id": "69140492",
   "metadata": {},
   "outputs": [
    {
     "name": "stdout",
     "output_type": "stream",
     "text": [
      "[[0.84545898]]\n",
      "[[0.84545898]]\n",
      "[[0.42272949]]\n",
      "[[0.14090983]]\n",
      "[[0.03522746]]\n"
     ]
    }
   ],
   "source": [
    "for i in range(5):\n",
    "    deriv = np.matmul(func,c)/math.factorial(i)\n",
    "    print(deriv)"
   ]
  },
  {
   "cell_type": "code",
   "execution_count": null,
   "id": "a46b546a",
   "metadata": {},
   "outputs": [],
   "source": []
  }
 ],
 "metadata": {
  "kernelspec": {
   "display_name": "Python 3 (ipykernel)",
   "language": "python",
   "name": "python3"
  },
  "language_info": {
   "codemirror_mode": {
    "name": "ipython",
    "version": 3
   },
   "file_extension": ".py",
   "mimetype": "text/x-python",
   "name": "python",
   "nbconvert_exporter": "python",
   "pygments_lexer": "ipython3",
   "version": "3.9.7"
  }
 },
 "nbformat": 4,
 "nbformat_minor": 5
}
