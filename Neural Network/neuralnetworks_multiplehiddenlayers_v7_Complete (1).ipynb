{
 "cells": [
  {
   "cell_type": "code",
   "execution_count": 1,
   "metadata": {},
   "outputs": [],
   "source": [
    "import numpy as np\n",
    "import pandas as pd\n",
    "import matplotlib.pyplot as plt\n",
    "import sklearn"
   ]
  },
  {
   "cell_type": "code",
   "execution_count": 2,
   "metadata": {},
   "outputs": [],
   "source": [
    "def sigmoid(x):\n",
    "    return (1 / (1 + np.exp(-x)))"
   ]
  },
  {
   "cell_type": "code",
   "execution_count": 3,
   "metadata": {},
   "outputs": [],
   "source": [
    "def setParameters(X, Y, hidden_size):\n",
    "  np.random.seed(3)\n",
    "  input_size = X.shape[0] # number of neurons in input layer\n",
    "  output_size = Y.shape[0] # number of neurons in output layer.\n",
    "  W1 = np.random.randn(hidden_size, input_size)*np.sqrt(2/input_size)\n",
    "  b1 = np.zeros((hidden_size, 1))\n",
    "  W2 = np.random.randn(output_size, hidden_size)*np.sqrt(2/hidden_size)\n",
    "  b2 = np.zeros((output_size, 1))\n",
    "  return {'W1': W1, 'W2': W2, 'b1': b1, 'b2': b2}\n"
   ]
  },
  {
   "cell_type": "code",
   "execution_count": 4,
   "metadata": {},
   "outputs": [],
   "source": [
    "# # Python implementation\n",
    "# np.random.randn(output_size, hidden_size)*np.sqrt(2/hidden_size)\n",
    "# np.random.randn(output_size, hidden_size)*0.01"
   ]
  },
  {
   "cell_type": "code",
   "execution_count": 5,
   "metadata": {},
   "outputs": [],
   "source": [
    "def forwardPropagation(X, params):\n",
    "  Z1 = np.dot(params['W1'], X)+params['b1']\n",
    "  A1 = np.tanh(Z1)\n",
    "  Z2 = np.dot(params['W2'], A1)+params['b2']\n",
    "  y = sigmoid(Z2)  \n",
    "  return y, {'Z1': Z1, 'Z2': Z2, 'A1': A1, 'y': y}"
   ]
  },
  {
   "cell_type": "code",
   "execution_count": 6,
   "metadata": {},
   "outputs": [],
   "source": [
    "def cost(predict, actual):\n",
    "  m = actual.shape[1]\n",
    "  cost__ = -np.sum(np.multiply(np.log(predict), actual) + np.multiply((1 - actual), np.log(1 - predict)))/m\n",
    "  return np.squeeze(cost__)"
   ]
  },
  {
   "cell_type": "code",
   "execution_count": 7,
   "metadata": {},
   "outputs": [],
   "source": [
    "def backPropagation(X, Y, params, cache):\n",
    "  m = X.shape[1]\n",
    "  dy = cache['y'] - Y\n",
    "  dW2 = (1 / m) * np.dot(dy, np.transpose(cache['A1']))\n",
    "  db2 = (1 / m) * np.sum(dy, axis=1, keepdims=True)\n",
    "  dZ1 = np.dot(np.transpose(params['W2']), dy) * (1-np.power(cache['A1'], 2))\n",
    "  dW1 = (1 / m) * np.dot(dZ1, np.transpose(X))\n",
    "#   print('dW1:', dW1.shape)\n",
    "  db1 = (1 / m) * np.sum(dZ1, axis=1, keepdims=True)\n",
    "  return {\"dW1\": dW1, \"db1\": db1, \"dW2\": dW2, \"db2\": db2}"
   ]
  },
  {
   "cell_type": "code",
   "execution_count": 8,
   "metadata": {},
   "outputs": [],
   "source": [
    "# def updateParameters(gradients, params, learning_rate = 2.2):\n",
    "#     W1 = params['W1'] - learning_rate * gradients['dW1']\n",
    "#     b1 = params['b1'] - learning_rate * gradients['db1']\n",
    "#     W2 = params['W2'] - learning_rate * gradients['dW2']\n",
    "#     b2 = params['b2'] - learning_rate * gradients['db2']\n",
    "#     return {'W1': W1, 'W2': W2, 'b1': b1, 'b2': b2}"
   ]
  },
  {
   "cell_type": "code",
   "execution_count": 9,
   "metadata": {},
   "outputs": [],
   "source": [
    "def updateParameters(gradients, params, learning_rate_wg, learning_rate_bias):\n",
    "    W1 = params['W1'] - learning_rate_wg * gradients['dW1']\n",
    "    b1 = params['b1'] - learning_rate_bias * gradients['db1']\n",
    "    W2 = params['W2'] - learning_rate_wg * gradients['dW2']\n",
    "    b2 = params['b2'] - learning_rate_bias  * gradients['db2']\n",
    "    return {'W1': W1, 'W2': W2, 'b1': b1, 'b2': b2}"
   ]
  },
  {
   "cell_type": "code",
   "execution_count": 10,
   "metadata": {},
   "outputs": [],
   "source": [
    "# def fit(X, Y, learning_rate, hidden_size, number_of_iterations = 5000):\n",
    "#   params = setParameters(X, Y, hidden_size)\n",
    "#   cost_ = []\n",
    "#   for j in range(number_of_iterations):\n",
    "#     y, cache = forwardPropagation(X, params)\n",
    "#     costit = cost(y, Y)\n",
    "#     gradients = backPropagation(X, Y, params, cache)\n",
    "#     params = updateParameters(gradients, params, learning_rate)\n",
    "#     cost_.append(costit)\n",
    "#   return params, cost_"
   ]
  },
  {
   "cell_type": "code",
   "execution_count": 11,
   "metadata": {},
   "outputs": [],
   "source": [
    "def fit(X, Y, learning_rate_wg, learning_rate_bias, hidden_size, number_of_iterations = 5000):\n",
    "    params = setParameters(X, Y, hidden_size)\n",
    "    cost_ = []\n",
    "    for j in range(number_of_iterations):\n",
    "        y, cache = forwardPropagation(X, params)\n",
    "        costit = cost(y, Y)\n",
    "        gradients = backPropagation(X, Y, params, cache)\n",
    "        params = updateParameters(gradients, params, learning_rate_wg, learning_rate_bias)\n",
    "        cost_.append(costit)\n",
    "    return params, cost_"
   ]
  },
  {
   "cell_type": "code",
   "execution_count": 12,
   "metadata": {},
   "outputs": [],
   "source": [
    "# import sklearn.datasets\n",
    "# X, Y = sklearn.datasets.make_moons(n_samples=500, noise=.2)\n",
    "# X, Y = X.T, Y.reshape(1, Y.shape[0])\n"
   ]
  },
  {
   "cell_type": "code",
   "execution_count": 13,
   "metadata": {},
   "outputs": [
    {
     "data": {
      "text/plain": [
       "array([[0, 0, 1, 1],\n",
       "       [0, 1, 0, 1]])"
      ]
     },
     "execution_count": 13,
     "metadata": {},
     "output_type": "execute_result"
    }
   ],
   "source": [
    "X=np.array([[0,0,1,1],[0,1,0,1]])\n",
    "# x1 = x.copy()\n",
    "# These are XOR outputs\n",
    "Y=np.array([[0,1,1,0]])\n",
    "X"
   ]
  },
  {
   "cell_type": "code",
   "execution_count": 14,
   "metadata": {},
   "outputs": [
    {
     "data": {
      "text/plain": [
       "array([[ 0.        ,  0.43650985,  1.78862847,  2.22513832],\n",
       "       [ 0.        , -1.8634927 ,  0.09649747, -1.76699524]])"
      ]
     },
     "execution_count": 14,
     "metadata": {},
     "output_type": "execute_result"
    }
   ],
   "source": [
    "# Random seed\n",
    "np.random.seed(3)\n",
    "# Input layer\n",
    "input_size = X.shape[0] # number of neurons in input layer\n",
    "# Output layer\n",
    "output_size = Y.shape[0] # number of neurons in output layer.\n",
    "# First hidden layer\n",
    "hidden_size_1 = 2\n",
    "W1 = np.random.randn(hidden_size_1, input_size)*np.sqrt(2/hidden_size_1)\n",
    "b1 = np.zeros((hidden_size_1, 1))\n",
    "z_x_0 = np.dot(W1,X) + b1\n",
    "z_x_0"
   ]
  },
  {
   "cell_type": "code",
   "execution_count": 15,
   "metadata": {},
   "outputs": [
    {
     "data": {
      "text/plain": [
       "array([[0., 0., 1., 1.],\n",
       "       [0., 1., 0., 1.]])"
      ]
     },
     "execution_count": 15,
     "metadata": {},
     "output_type": "execute_result"
    }
   ],
   "source": [
    "# Size of input layer array\n",
    "row_input,col_input = z_x_0.shape\n",
    "z_x = z_x_0.copy()\n",
    "for i in range(row_input):\n",
    "    for j in range(col_input):\n",
    "        if np.abs(z_x_0[i][j]) >= 0.5:\n",
    "            z_x[i][j] = 1\n",
    "        else:\n",
    "            z_x[i][j] = 0\n",
    "z_x"
   ]
  },
  {
   "cell_type": "code",
   "execution_count": 16,
   "metadata": {},
   "outputs": [],
   "source": [
    "# Hidden Layers\n",
    "hidden_size_2 = row_input * col_input\n",
    "params, cost_ = fit(z_x, Y, 2.2, 1.2, hidden_size_2, 5000)\n"
   ]
  },
  {
   "cell_type": "code",
   "execution_count": 17,
   "metadata": {},
   "outputs": [
    {
     "data": {
      "text/plain": [
       "[<matplotlib.lines.Line2D at 0x201e8936190>]"
      ]
     },
     "execution_count": 17,
     "metadata": {},
     "output_type": "execute_result"
    },
    {
     "data": {
      "image/png": "[encoded data removed]",
      "text/plain": [
       "<Figure size 432x288 with 1 Axes>"
      ]
     },
     "metadata": {
      "needs_background": "light"
     },
     "output_type": "display_data"
    }
   ],
   "source": [
    "plt.plot(cost_)"
   ]
  },
  {
   "cell_type": "code",
   "execution_count": 18,
   "metadata": {},
   "outputs": [],
   "source": [
    "def predict(params,input):    \n",
    "#     print('pred2:',wg)\n",
    "#     w1 = wg[0]\n",
    "#     w2 = wg[1]\n",
    "#     b1 = bias[0]\n",
    "#     b2 = bias[1]\n",
    "#     z1,a1,z2,a2 = forward_prop(w1,w2,b1,b2,test)\n",
    "    y,cache = forwardPropagation(input, params)\n",
    "#     diff_0 = np.sum(cache['A1'])\n",
    "#     if diff_0 < 0.01:\n",
    "#         diff = diff_0\n",
    "#     else:\n",
    "#         diff = y\n",
    "#     z,a = forward_prop_3(wg,bias,input,hidden_layer)\n",
    "#     z,a = (wg,bias,x,hidden_layer)\n",
    "#     print('a:', a[1])\n",
    "#     print('a_val:', np.squeeze(a[1]))\n",
    "#     print('a_pred:',a[1])\n",
    "#     a2 = np.squeeze(a2)\n",
    "#     print('a_squeeze',a2)\n",
    "#     if a2>=0.5:\n",
    "#         print(\"For input\", [i[0] for i in input], \"output is 1\")# ['{:.2f}'.format(i) for i in x])\n",
    "#     else:\n",
    "#         print(\"For input\", [i[0] for i in input], \"output is 0\")\n",
    "#     return np.squeeze(np.mean(a[0]))\n",
    "    return np.squeeze(y),cache"
   ]
  },
  {
   "cell_type": "code",
   "execution_count": 19,
   "metadata": {},
   "outputs": [],
   "source": [
    "# test = np.array([[1,0],[1,0]])\n",
    "# y,cache,diff = predict(params,test)\n",
    "# print(y[0])\n",
    "# # print(diff[0])\n",
    "# test = np.array([[0,0],[0,0]])\n",
    "# y,cache,diff = predict(params,test)\n",
    "# print(y[0])\n",
    "# # print(diff[0])\n",
    "# test = np.array([[0,1],[1,0]])\n",
    "# y,cache,diff = predict(params,test)\n",
    "# print(y[0])\n",
    "# # print(diff[0])\n",
    "# test = np.array([[1,1],[1,1]])\n",
    "# y,cache,diff = predict(params,test)\n",
    "# print(y[0])\n",
    "# # print(diff)"
   ]
  },
  {
   "cell_type": "code",
   "execution_count": 20,
   "metadata": {},
   "outputs": [
    {
     "name": "stdout",
     "output_type": "stream",
     "text": [
      "0.9998767892322709\n",
      "2.7628457703954013e-05\n",
      "0.999874859627669\n",
      "0.00014951275060345756\n"
     ]
    }
   ],
   "source": [
    "test = np.array([[1],[0]])\n",
    "y,cache = predict(params,test)\n",
    "print(y)\n",
    "# print(diff[0])\n",
    "test = np.array([[0],[0]])\n",
    "y,cache = predict(params,test)\n",
    "print(y)\n",
    "# print(diff[0])\n",
    "test = np.array([[0],[1]])\n",
    "y,cache = predict(params,test)\n",
    "print(y)\n",
    "# print(diff[0])\n",
    "test = np.array([[1],[1]])\n",
    "y,cache = predict(params,test)\n",
    "print(y)\n",
    "# print(diff)"
   ]
  },
  {
   "cell_type": "code",
   "execution_count": null,
   "metadata": {},
   "outputs": [],
   "source": []
  }
 ],
 "metadata": {
  "kernelspec": {
   "display_name": "Python 3 (ipykernel)",
   "language": "python",
   "name": "python3"
  },
  "language_info": {
   "codemirror_mode": {
    "name": "ipython",
    "version": 3
   },
   "file_extension": ".py",
   "mimetype": "text/x-python",
   "name": "python",
   "nbconvert_exporter": "python",
   "pygments_lexer": "ipython3",
   "version": "3.9.7"
  }
 },
 "nbformat": 4,
 "nbformat_minor": 4
}
