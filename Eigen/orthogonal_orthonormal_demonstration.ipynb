{
 "cells": [
  {
   "cell_type": "code",
   "execution_count": 1,
   "metadata": {},
   "outputs": [],
   "source": [
    "%matplotlib inline\n",
    "import numpy as np\n",
    "np.set_printoptions(linewidth=np.inf)\n",
    "np.set_printoptions(precision=7)\n",
    "import matplotlib.pyplot as plt\n",
    "import math \n",
    "import pandas as pd\n",
    "from numpy import linalg as LA\n",
    "from sympy import * "
   ]
  },
  {
   "cell_type": "code",
   "execution_count": 2,
   "metadata": {},
   "outputs": [
    {
     "name": "stdout",
     "output_type": "stream",
     "text": [
      "[[ 1.         1.         1.       ]\n",
      " [ 0.         1.4142136 -1.4142136]\n",
      " [-1.         1.         1.       ]]\n",
      "[[ 0.7071068  0.        -0.7071068]\n",
      " [ 0.5        0.7071068  0.5      ]\n",
      " [ 0.5       -0.7071068  0.5      ]]\n",
      "0.9999999999999999\n"
     ]
    },
    {
     "data": {
      "text/plain": [
       "array([[1.000000e+00, 0.000000e+00, 1.110223e-16],\n",
       "       [0.000000e+00, 1.000000e+00, 0.000000e+00],\n",
       "       [1.110223e-16, 0.000000e+00, 1.000000e+00]])"
      ]
     },
     "execution_count": 2,
     "metadata": {},
     "output_type": "execute_result"
    }
   ],
   "source": [
    "vec = np.array([[1,0,-1],[1,np.sqrt(2),1],[1,-np.sqrt(2),1]])\n",
    "print(vec.T)\n",
    "\n",
    "# Normalize\n",
    "vec[0] = vec[0]/np.linalg.norm(vec[0])\n",
    "vec[1] = vec[1]/np.linalg.norm(vec[1])\n",
    "vec[2] = vec[2]/np.linalg.norm(vec[2])\n",
    "\n",
    "print(vec)\n",
    "print(np.linalg.norm(vec[0]))\n",
    "\n",
    "vec.T.dot(vec)"
   ]
  },
  {
   "cell_type": "code",
   "execution_count": 3,
   "metadata": {},
   "outputs": [
    {
     "name": "stdout",
     "output_type": "stream",
     "text": [
      "-1.1102230246251565e-16\n"
     ]
    }
   ],
   "source": [
    "dot1 = vec[1].dot(vec[2])\n",
    "print(dot1)"
   ]
  },
  {
   "cell_type": "code",
   "execution_count": 4,
   "metadata": {},
   "outputs": [
    {
     "name": "stdout",
     "output_type": "stream",
     "text": [
      "[ 0.7071068  0.        -0.7071068]\n",
      "[0.5       0.7071068 0.5      ]\n",
      "[ 0.5       -0.7071068  0.5      ]\n",
      "0.9999999999999999\n"
     ]
    }
   ],
   "source": [
    "u1 = vec[0]/np.linalg.norm(vec[0])\n",
    "print(u1)\n",
    "u2 = vec[1]/np.linalg.norm(vec[1])\n",
    "print(u2)\n",
    "u3 = vec[2]/np.linalg.norm(vec[2])\n",
    "print(u3)\n",
    "print(np.linalg.norm(vec[0]))"
   ]
  },
  {
   "cell_type": "code",
   "execution_count": 5,
   "metadata": {},
   "outputs": [
    {
     "name": "stdout",
     "output_type": "stream",
     "text": [
      "0.0\n",
      "1.0\n"
     ]
    }
   ],
   "source": [
    "# Orthogonal & Orthonormal Check\n",
    "# Orthogonal\n",
    "orthogonal = u1.dot(u3)\n",
    "print(orthogonal)\n",
    "# Orthonormal\n",
    "orthonormal = np.linalg.norm(u1)\n",
    "print(orthonormal)\n"
   ]
  },
  {
   "cell_type": "code",
   "execution_count": 6,
   "metadata": {},
   "outputs": [
    {
     "name": "stdout",
     "output_type": "stream",
     "text": [
      "0\n",
      "2.23606797749979\n",
      "3.0\n",
      "5.744562646538029\n",
      "[0.4472136 0.8944272 0.       ]\n",
      "[0. 0. 1.]\n",
      "0.9999999999999999\n",
      "1.0\n",
      "0.0\n"
     ]
    }
   ],
   "source": [
    "u = np.array([1,2,0])\n",
    "v = np.array([0,0,3])\n",
    "y = np.array([2,-2,3,-4])\n",
    "\n",
    "# Check for orthogornality\n",
    "uv = u.dot(v)\n",
    "print(uv)\n",
    "\n",
    "# Check for orthonormality\n",
    "u_norm = np.linalg.norm(u)\n",
    "print(u_norm)\n",
    "v_norm = np.linalg.norm(v)\n",
    "print(v_norm)\n",
    "y_norm = np.linalg.norm(y)\n",
    "print(y_norm)\n",
    "\n",
    "# Normalization\n",
    "u1_norm = u/np.linalg.norm(u)\n",
    "print(u1_norm)\n",
    "u2_norm = v/np.linalg.norm(v)\n",
    "print(u2_norm)\n",
    "\n",
    "# Magnitudes(Normalization) of normalized vecotrs\n",
    "u1_norm_mag = np.linalg.norm(u1_norm)\n",
    "print(u1_norm_mag)\n",
    "u2_norm_mag = np.linalg.norm(u2_norm)\n",
    "print(u2_norm_mag)\n",
    "\n",
    "# Cosine similarity\n",
    "cos_uv = (uv)/(u_norm*v_norm)\n",
    "print(cos_uv)"
   ]
  },
  {
   "cell_type": "code",
   "execution_count": 7,
   "metadata": {},
   "outputs": [
    {
     "name": "stdout",
     "output_type": "stream",
     "text": [
      "[[ 0.7071068  0.7071068]\n",
      " [ 0.7071068 -0.7071068]]\n",
      "[[ 1.0000000e+00 -2.2371143e-17]\n",
      " [-2.2371143e-17  1.0000000e+00]]\n"
     ]
    }
   ],
   "source": [
    "Q = np.array([[1/np.sqrt(2),1/np.sqrt(2)],[1/np.sqrt(2),-1/np.sqrt(2)]])\n",
    "print(Q)\n",
    "\n",
    "# Check for orthogonality\n",
    "Q_ortho = Q.T.dot(Q)\n",
    "print(Q_ortho)\n",
    "\n"
   ]
  },
  {
   "cell_type": "code",
   "execution_count": null,
   "metadata": {},
   "outputs": [],
   "source": []
  }
 ],
 "metadata": {
  "kernelspec": {
   "display_name": "Python 3 (ipykernel)",
   "language": "python",
   "name": "python3"
  },
  "language_info": {
   "codemirror_mode": {
    "name": "ipython",
    "version": 3
   },
   "file_extension": ".py",
   "mimetype": "text/x-python",
   "name": "python",
   "nbconvert_exporter": "python",
   "pygments_lexer": "ipython3",
   "version": "3.9.7"
  }
 },
 "nbformat": 4,
 "nbformat_minor": 4
}
