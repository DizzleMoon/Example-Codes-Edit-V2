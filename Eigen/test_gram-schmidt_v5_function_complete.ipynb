{
 "cells": [
  {
   "cell_type": "code",
   "execution_count": 1,
   "metadata": {},
   "outputs": [],
   "source": [
    "%matplotlib inline\n",
    "import numpy as np\n",
    "np.set_printoptions(linewidth=np.inf)\n",
    "import matplotlib.pyplot as plt\n",
    "import math \n",
    "import pandas as pd"
   ]
  },
  {
   "cell_type": "code",
   "execution_count": 2,
   "metadata": {},
   "outputs": [],
   "source": [
    "# span = np.array([[1,2,3],[-1,1,1],[1,1,1],[1,1,1]])\n",
    "# print(span)\n",
    "# A1 = span"
   ]
  },
  {
   "cell_type": "code",
   "execution_count": 3,
   "metadata": {},
   "outputs": [
    {
     "name": "stdout",
     "output_type": "stream",
     "text": [
      "[[9 0 5 5 7]\n",
      " [6 6 1 7 3]\n",
      " [2 9 9 2 4]\n",
      " [0 3 4 2 0]\n",
      " [2 6 0 5 4]]\n"
     ]
    }
   ],
   "source": [
    "row = 5\n",
    "col = 5\n",
    "span = np.random.randint(10,size=(row,col))\n",
    "print(span)\n",
    "A1 = span"
   ]
  },
  {
   "cell_type": "code",
   "execution_count": 4,
   "metadata": {},
   "outputs": [
    {
     "data": {
      "text/plain": [
       "5"
      ]
     },
     "execution_count": 4,
     "metadata": {},
     "output_type": "execute_result"
    }
   ],
   "source": [
    "row,col = span.shape\n",
    "row"
   ]
  },
  {
   "cell_type": "code",
   "execution_count": 5,
   "metadata": {},
   "outputs": [],
   "source": [
    "v1 = span[:,0]\n",
    "v2 = span[:,1]\n",
    "v3 = span[:,2]\n",
    "v4 = span[:,3]\n",
    "v5 = span[:,4]"
   ]
  },
  {
   "cell_type": "code",
   "execution_count": 6,
   "metadata": {},
   "outputs": [],
   "source": [
    "# Setup arrays\n",
    "# Original Values\n",
    "vector = []\n",
    "# Normalized Values\n",
    "vec_norm = []"
   ]
  },
  {
   "cell_type": "code",
   "execution_count": 7,
   "metadata": {},
   "outputs": [
    {
     "name": "stdout",
     "output_type": "stream",
     "text": [
      "[9 6 2 0 2]\n",
      "125.00000000000001\n",
      "[0.80498447 0.53665631 0.17888544 0.         0.17888544]\n"
     ]
    }
   ],
   "source": [
    "# First Column\n",
    "\n",
    "v1 = span[:,0]\n",
    "vec_1 = v1\n",
    "print(vec_1)\n",
    "vector.append(vec_1)\n",
    "\n",
    "# Test\n",
    "v1_scale = np.square(np.linalg.norm(vec_1))\n",
    "print(v1_scale)\n",
    "\n",
    "v1 = np.multiply(1/np.sqrt(v1_scale),vec_1)\n",
    "print(v1)\n",
    "vec_norm.append(v1)\n"
   ]
  },
  {
   "cell_type": "code",
   "execution_count": 8,
   "metadata": {},
   "outputs": [],
   "source": [
    "def QR(span): \n",
    "    \n",
    "    # Copy matrix\n",
    "    A1 = span\n",
    "    \n",
    "    # Size of array\n",
    "    row,col = span.shape\n",
    "    \n",
    "    # Setup arrays\n",
    "    # Original Values\n",
    "    vector = []\n",
    "    # Normalized Values\n",
    "    vec_norm = []\n",
    "    \n",
    "    # First Column\n",
    "    v1 = span[:,0]\n",
    "    vec_1 = v1\n",
    "#     print(vec_1)\n",
    "    vector.append(vec_1)\n",
    "\n",
    "    # Test\n",
    "    v1_scale = np.square(np.linalg.norm(vec_1))\n",
    "#     print(v1_scale)\n",
    "\n",
    "    v1 = np.multiply(1/np.sqrt(v1_scale),vec_1)\n",
    "#     print(v1)\n",
    "    vec_norm.append(v1)     \n",
    "\n",
    "    # Subsequent Columns\n",
    "\n",
    "    start = 1\n",
    "    end = col\n",
    "\n",
    "    for i in range(start,end):\n",
    "        \n",
    "        # Initialize vectors\n",
    "        length = []\n",
    "        projection = []\n",
    "        project = []\n",
    "\n",
    "        # Columns\n",
    "        v = span[:,i]\n",
    "\n",
    "        for i in vector:\n",
    "            leng = np.dot(i,v)\n",
    "            length.append(leng)\n",
    "            proj_0 = np.dot(i,i)\n",
    "            projection.append(proj_0)\n",
    "            proj_1 = leng/proj_0\n",
    "            project.append(proj_1)\n",
    "\n",
    "#         print(length)\n",
    "#         print(projection)\n",
    "#         print(project)\n",
    "        \n",
    "        # Factorization\n",
    "        a = min(projection)\n",
    "#         print('a:',a)\n",
    "\n",
    "        # QR equation\n",
    "        vec_0 = 0\n",
    "        vec_1 = np.multiply(a,v)\n",
    "        for i in range(len(vector)):\n",
    "            vec_0 = vec_0 - np.multiply(project[i]*a,vector[i])\n",
    "\n",
    "        vect_0 = vec_1 + vec_0    \n",
    "#         print(vect_0)\n",
    "        vector.append(vect_0)\n",
    "\n",
    "        # Scaling vector    \n",
    "        # Scale\n",
    "        v_scale = np.square(np.linalg.norm(vect_0))\n",
    "#         print(v_scale)\n",
    "\n",
    "        v_norm = np.multiply(1/np.sqrt(v_scale + 1e-20),vect_0)\n",
    "#         print(v_norm)\n",
    "\n",
    "        v = v_norm\n",
    "        vec_norm.append(v_norm)\n",
    "#         print('v norm:', v_norm)\n",
    "#         print('\\n')\n",
    "#         print(vector)\n",
    "#         print('\\n')\n",
    "#         print(vec_norm)\n",
    "#         print('\\n')\n",
    "#         print(np.array(vec_norm).T)\n",
    "        \n",
    "    # Calculate R\n",
    "    # Q matrix\n",
    "    Q = np.array(vec_norm)\n",
    "    # A1 = np.multiply(1,A1)\n",
    "    R = np.dot(Q,A1)\n",
    "#     print(R)\n",
    "    \n",
    "    return Q.T, R"
   ]
  },
  {
   "cell_type": "code",
   "execution_count": 9,
   "metadata": {},
   "outputs": [],
   "source": [
    "# Function\n",
    "Q,R = QR(A1)"
   ]
  },
  {
   "cell_type": "code",
   "execution_count": 10,
   "metadata": {},
   "outputs": [
    {
     "name": "stdout",
     "output_type": "stream",
     "text": [
      "[[ 0.80498447 -0.4214197   0.3221911   0.06726719  0.25704757]\n",
      " [ 0.53665631  0.25114911 -0.50368337 -0.03837761 -0.62749848]\n",
      " [ 0.17888544  0.70449455  0.54193683 -0.42110707  0.02570476]\n",
      " [ 0.          0.26604779  0.34304963  0.87300133 -0.22227055]\n",
      " [ 0.17888544  0.43844676 -0.48074669  0.23353755  0.70007662]]\n",
      "\n",
      "\n",
      "[[ 1.11803399e+01  5.90321946e+00  6.17154762e+00  9.03371463e+00  8.67594375e+00]\n",
      " [-1.11022302e-16  1.12761696e+01  5.54869272e+00  3.78426378e+00  2.37527468e+00]\n",
      " [ 1.11022302e-16  1.22124533e-15  7.35690214e+00 -2.54858859e+00  9.89048183e-01]\n",
      " [ 8.32667268e-16 -3.05311332e-15 -8.88178420e-16  2.13916896e+00 -3.94540594e-01]\n",
      " [-2.22044605e-16 -2.66453526e-15 -2.22044605e-15 -4.44089210e-16  2.81996305e+00]]\n"
     ]
    }
   ],
   "source": [
    "print(Q)\n",
    "print(\"\\n\")\n",
    "print(R)"
   ]
  },
  {
   "cell_type": "code",
   "execution_count": 11,
   "metadata": {},
   "outputs": [],
   "source": [
    "# # Calculate R\n",
    "# Q = vec_norm\n",
    "# # A1 = np.multiply(1,A1)\n",
    "# R = np.dot(Q,A1)\n",
    "# print(R)"
   ]
  },
  {
   "cell_type": "code",
   "execution_count": 12,
   "metadata": {},
   "outputs": [
    {
     "name": "stdout",
     "output_type": "stream",
     "text": [
      "[[ 0.89442719 -0.40824829  0.18257419]\n",
      " [ 0.4472136   0.81649658 -0.36514837]\n",
      " [ 0.          0.40824829  0.91287093]]\n",
      "[[2.23606798e+00 2.23606798e+00 4.47213595e-01]\n",
      " [0.00000000e+00 2.44948974e+00 2.44948974e+00]\n",
      " [0.00000000e+00 1.11022302e-16 3.28633535e+00]]\n",
      "[[2.00000000e+00 1.00000000e+00 1.28782024e-16]\n",
      " [1.00000000e+00 3.00000000e+00 1.00000000e+00]\n",
      " [0.00000000e+00 1.00000000e+00 4.00000000e+00]]\n"
     ]
    }
   ],
   "source": [
    "# Function\n",
    "C = np.array([[2,1,0],[1,3,1],[0,1,4]])\n",
    "Q,R = QR(C)\n",
    "print(Q)\n",
    "print(R)\n",
    "\n",
    "A2 = np.dot(Q,R)\n",
    "print(A2)"
   ]
  },
  {
   "cell_type": "code",
   "execution_count": 13,
   "metadata": {},
   "outputs": [
    {
     "name": "stdout",
     "output_type": "stream",
     "text": [
      "[[ 0.21132487 -0.57735027  0.78867513]\n",
      " [ 0.57735027 -0.57735027 -0.57735027]\n",
      " [ 0.78867513  0.57735027  0.21132487]]\n",
      "[[ 4.73205081e+00 -2.16734458e-16 -2.65771039e-16]\n",
      " [ 7.62491445e-20  3.00000000e+00 -1.43222913e-16]\n",
      " [-1.46181478e-31  4.85380545e-32  1.26794919e+00]]\n"
     ]
    }
   ],
   "source": [
    "A = np.array([[2,1,0],[1,3,1],[0,1,4]])\n",
    "pQ = np.eye(3)\n",
    "X=A.copy()\n",
    "Y=A.copy()\n",
    "for i in range(100):\n",
    "        Q,R = QR(X)\n",
    "        pQ = pQ.dot(Q)\n",
    "        X = R.dot(Q)\n",
    "        \n",
    "print(pQ)\n",
    "print(X)"
   ]
  },
  {
   "cell_type": "code",
   "execution_count": 14,
   "metadata": {},
   "outputs": [
    {
     "data": {
      "text/plain": [
       "(array([1.26794919, 3.        , 4.73205081]),\n",
       " array([[-0.78867513, -0.57735027,  0.21132487],\n",
       "        [ 0.57735027, -0.57735027,  0.57735027],\n",
       "        [-0.21132487,  0.57735027,  0.78867513]]))"
      ]
     },
     "execution_count": 14,
     "metadata": {},
     "output_type": "execute_result"
    }
   ],
   "source": [
    "np.linalg.eig(Y)"
   ]
  }
 ],
 "metadata": {
  "kernelspec": {
   "display_name": "Python 3 (ipykernel)",
   "language": "python",
   "name": "python3"
  },
  "language_info": {
   "codemirror_mode": {
    "name": "ipython",
    "version": 3
   },
   "file_extension": ".py",
   "mimetype": "text/x-python",
   "name": "python",
   "nbconvert_exporter": "python",
   "pygments_lexer": "ipython3",
   "version": "3.9.7"
  }
 },
 "nbformat": 4,
 "nbformat_minor": 4
}
