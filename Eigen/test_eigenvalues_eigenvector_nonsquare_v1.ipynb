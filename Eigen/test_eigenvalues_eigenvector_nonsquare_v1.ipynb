{
 "cells": [
  {
   "cell_type": "code",
   "execution_count": 1,
   "metadata": {},
   "outputs": [],
   "source": [
    "%matplotlib inline\n",
    "import numpy as np\n",
    "np.set_printoptions(linewidth=np.inf)\n",
    "import matplotlib.pyplot as plt\n",
    "import math \n",
    "import pandas as pd\n",
    "from numpy import linalg as LA"
   ]
  },
  {
   "cell_type": "code",
   "execution_count": 2,
   "metadata": {},
   "outputs": [],
   "source": [
    "def QR(span): \n",
    "    \n",
    "    # Copy matrix\n",
    "    A1 = span\n",
    "    \n",
    "    # Size of array\n",
    "    row,col = span.shape\n",
    "    \n",
    "    # Setup arrays\n",
    "    # Original Values\n",
    "    vector = []\n",
    "    # Normalized Values\n",
    "    vec_norm = []\n",
    "    \n",
    "    # First Column\n",
    "    v1 = span[:,0]\n",
    "    vec_1 = v1\n",
    "#     print(vec_1)\n",
    "    vector.append(vec_1)\n",
    "\n",
    "    # Test\n",
    "    v1_scale = np.square(np.linalg.norm(vec_1))\n",
    "#     print(v1_scale)\n",
    "\n",
    "    v1 = np.multiply(1/np.sqrt(v1_scale),vec_1)\n",
    "#     print(v1)\n",
    "    vec_norm.append(v1)     \n",
    "\n",
    "    # Subsequent Columns\n",
    "\n",
    "    start = 1\n",
    "    end = col\n",
    "\n",
    "    for i in range(start,end):\n",
    "        \n",
    "        # Initialize vectors\n",
    "        length = []\n",
    "        projection = []\n",
    "        project = []\n",
    "\n",
    "        # Columns\n",
    "        v = span[:,i]\n",
    "\n",
    "        for i in vector:\n",
    "            leng = np.dot(i,v)\n",
    "            length.append(leng)\n",
    "            proj_0 = np.dot(i,i)\n",
    "            projection.append(proj_0)\n",
    "            proj_1 = leng/(proj_0 + 1e-15)\n",
    "            project.append(proj_1)\n",
    "\n",
    "#         print(length)\n",
    "#         print(projection)\n",
    "#         print(project)\n",
    "        \n",
    "        # Factorization\n",
    "        a = min(projection)\n",
    "#         print('a:',a)\n",
    "\n",
    "        # QR equation\n",
    "        vec_0 = 0\n",
    "        vec_1 = np.multiply(a,v)\n",
    "        for i in range(len(vector)):\n",
    "            vec_0 = vec_0 - np.multiply(project[i]*a,vector[i])\n",
    "\n",
    "        vect_0 = vec_1 + vec_0    \n",
    "#         print(vect_0)\n",
    "        vector.append(vect_0)\n",
    "\n",
    "        # Scaling vector    \n",
    "        # Scale\n",
    "        v_scale = np.square(np.linalg.norm(vect_0))\n",
    "#         print(v_scale)\n",
    "\n",
    "        v_norm = np.multiply(1/np.sqrt(v_scale + 1e-15),vect_0)\n",
    "#         print(v_norm)\n",
    "\n",
    "        v = v_norm\n",
    "        vec_norm.append(v_norm)\n",
    "#         print('v norm:', v_norm)\n",
    "#         print('\\n')\n",
    "#         print(vector)\n",
    "#         print('\\n')\n",
    "#         print(vec_norm)\n",
    "#         print('\\n')\n",
    "#         print(np.array(vec_norm).T)\n",
    "        \n",
    "    # Calculate R\n",
    "    # Q matrix\n",
    "    Q = vec_norm\n",
    "    Q = np.array(Q)\n",
    "    # A1 = np.multiply(1,A1)\n",
    "    R = np.dot(Q,A1)\n",
    "#     print(R)\n",
    "    \n",
    "    return Q.T,R\n"
   ]
  },
  {
   "cell_type": "code",
   "execution_count": 3,
   "metadata": {},
   "outputs": [],
   "source": [
    "def QR_Givens(A):\n",
    "    # Initialize G list\n",
    "    G_lst = []\n",
    "    Q = np.eye(row)\n",
    "    \n",
    "    for j in range(0,row-1):\n",
    "        for i in range(j+1,row):\n",
    "            # Initialize Given Rotation Matrix\n",
    "            G = np.eye(row)\n",
    "\n",
    "            # Initialize variables\n",
    "            x = A[j,j]\n",
    "            y = A[i,j]\n",
    "            r = np.sqrt(x**2 + y**2)\n",
    "\n",
    "            r1 = np.linalg.norm(A[j:i,j])\n",
    "\n",
    "            cos_t = x/r\n",
    "            sin_t = y/r\n",
    "\n",
    "            G[j,j] = cos_t\n",
    "            G[j,i] = sin_t\n",
    "            G[i,j] = -sin_t\n",
    "            G[i,i] = cos_t\n",
    "\n",
    "            G_lst.append(G)\n",
    "\n",
    "            Q = np.dot(Q,G)\n",
    "\n",
    "            A = np.dot(G,A)\n",
    "            \n",
    "    #Q\n",
    "    G_lst_len = len(G_lst)\n",
    "    G_lst = np.array(G_lst)\n",
    "    # Q_mat = np.dot(G1.T,np.dot(G2.T,G3.T))\n",
    "    Q_mat = G_lst[0].T\n",
    "    for i in range(1,G_lst_len):\n",
    "    #     print(Q_mat)\n",
    "        Q_mat = Q_mat.dot(G_lst[i].T)\n",
    "#     print(Q_mat)\n",
    "\n",
    "    return Q_mat,A\n",
    "\n",
    " "
   ]
  },
  {
   "cell_type": "code",
   "execution_count": 4,
   "metadata": {},
   "outputs": [],
   "source": [
    "def QR_eig(A):\n",
    "    pQ = np.eye(A.shape[0])\n",
    "#     print('pQ:',pQ)\n",
    "    X=A.copy()\n",
    "    for i in range(100):\n",
    "            Q,R = QR_Givens(X)\n",
    "            pQ = pQ.dot(Q)\n",
    "            X = R.dot(Q)\n",
    "            \n",
    "                \n",
    "    return pQ,X"
   ]
  },
  {
   "cell_type": "code",
   "execution_count": 5,
   "metadata": {},
   "outputs": [
    {
     "name": "stdout",
     "output_type": "stream",
     "text": [
      "A: [[2 6]\n",
      " [5 4]\n",
      " [9 6]\n",
      " [1 0]]\n",
      "[[ 40  34  54   2]\n",
      " [ 34  41  69   5]\n",
      " [ 54  69 117   9]\n",
      " [  2   5   9   1]]\n"
     ]
    }
   ],
   "source": [
    "row = 4\n",
    "col = 2\n",
    "A = np.random.randint(10,size=(row,col))\n",
    "print('A:',A)\n",
    "\n",
    "# A = np.array([[2,4],[1,3],[0,0],[0,0]])\n",
    "# A = np.array([[2,1,0],[1,3,1],[0,1,4]])\n",
    "# W = A.dot(A.T)\n",
    "row,col = A.shape\n",
    "if row == col:\n",
    "    W = A.copy()\n",
    "else:\n",
    "    W = A.dot(A.T)\n",
    "print(W)"
   ]
  },
  {
   "cell_type": "code",
   "execution_count": 6,
   "metadata": {},
   "outputs": [
    {
     "name": "stdout",
     "output_type": "stream",
     "text": [
      "[[ 1.86265489e+002  2.02366220e-014 -1.76144708e-015 -2.91282919e-015]\n",
      " [ 1.18820332e-114  1.27345115e+001  2.98270585e-015 -3.89763536e-016]\n",
      " [-1.33397724e-322  2.47032823e-323  1.80644977e-015 -8.60761285e-016]\n",
      " [ 4.94065646e-324 -9.88131292e-324 -2.53336972e-074 -4.69204859e-016]]\n",
      "\n",
      "\n",
      "[[ 0.39980529 -0.89613405  0.13136921  0.1408603 ]\n",
      " [ 0.4687071   0.07926724 -0.87977241 -0.00555511]\n",
      " [ 0.78576667  0.39572857  0.45514573 -0.13715689]\n",
      " [ 0.05513734  0.1845518   0.03981208  0.98046698]]\n",
      "4 2\n",
      "[[1. 0. 0. 0.]\n",
      " [0. 1. 0. 0.]\n",
      " [0. 0. 1. 0.]\n",
      " [0. 0. 0. 1.]]\n",
      "[[1. 0. 0. 0.]\n",
      " [0. 1. 0. 0.]\n",
      " [0. 0. 1. 0.]\n",
      " [0. 0. 0. 1.]]\n"
     ]
    }
   ],
   "source": [
    "# W = W.dot(W.T)\n",
    "eigen_vec,eigen_val = QR_eig(W)\n",
    "print(eigen_val)\n",
    "print('\\n')\n",
    "print(eigen_vec)\n",
    "\n",
    "r,c = A.shape\n",
    "print(r,c)\n",
    "\n",
    "idty = np.eye(r)\n",
    "print(idty)\n",
    "\n",
    "# for i in range(c):\n",
    "#     for j in range(r):\n",
    "#         idty[j,i] = eigen_vec[j,i]\n",
    "\n",
    "print(idty)"
   ]
  },
  {
   "cell_type": "code",
   "execution_count": 7,
   "metadata": {},
   "outputs": [
    {
     "name": "stdout",
     "output_type": "stream",
     "text": [
      "[ 1.86265489e+02  1.27345115e+01 -1.06773397e-14 -2.64329018e-16]\n",
      "[[-0.39980529  0.89613405  0.14135784 -0.09654697]\n",
      " [-0.4687071  -0.07926724 -0.87780531 -0.25064282]\n",
      " [-0.78576667 -0.39572857  0.4438457   0.26364218]\n",
      " [-0.05513734 -0.1845518   0.11169955 -0.92647162]]\n"
     ]
    }
   ],
   "source": [
    "w,v = np.linalg.eig(W)\n",
    "print(w)\n",
    "print(v)"
   ]
  },
  {
   "cell_type": "code",
   "execution_count": 8,
   "metadata": {},
   "outputs": [
    {
     "name": "stdout",
     "output_type": "stream",
     "text": [
      "[ 1.86265489e+02  1.27345115e+01 -1.06773397e-14 -2.64329018e-16]\n",
      "[[-0.39980529  0.89613405  0.14135784 -0.09654697]\n",
      " [-0.4687071  -0.07926724 -0.87780531 -0.25064282]\n",
      " [-0.78576667 -0.39572857  0.4438457   0.26364218]\n",
      " [-0.05513734 -0.1845518   0.11169955 -0.92647162]]\n"
     ]
    }
   ],
   "source": [
    "import scipy.linalg as la\n",
    "eigvals, eigvecs = la.eig(W)\n",
    "print(eigvals.real)\n",
    "print(eigvecs)\n"
   ]
  },
  {
   "cell_type": "code",
   "execution_count": 9,
   "metadata": {},
   "outputs": [
    {
     "name": "stdout",
     "output_type": "stream",
     "text": [
      "Iteration 1:\n",
      "[[ 1.82284003e+02  2.59818952e+01  0.00000000e+00 -7.10542736e-15]\n",
      " [ 2.59818952e+01  1.67159972e+01 -1.77635684e-15  0.00000000e+00]\n",
      " [ 2.58279416e-15  1.96318787e-15  1.65384749e-15 -2.41955373e-16]\n",
      " [-1.35702348e-17 -9.75209816e-17 -1.40608365e-17  5.01416449e-16]]\n",
      "Iteration 5:\n",
      "[[ 1.86265489e+02  5.80966271e-04 -3.03476645e-15 -7.03239861e-15]\n",
      " [ 5.80966271e-04  1.27345115e+01 -3.31907097e-15  1.13061856e-15]\n",
      " [ 1.63335906e-83  4.48412778e-79  1.65676928e-15 -2.28010316e-16]\n",
      " [-7.05871078e-88 -2.22021506e-82 -1.15779377e-19  4.98494661e-16]]\n",
      "Iteration 10:\n",
      "[[ 1.86265489e+002  8.67742195e-010 -3.03407634e-015  7.03269739e-015]\n",
      " [ 8.67761514e-010  1.27345115e+001 -3.31917353e-015 -1.13031116e-015]\n",
      " [ 9.09399854e-169  1.67163043e-158  1.65679201e-015  2.27894822e-016]\n",
      " [ 9.68891631e-176  2.04030642e-164  2.85437808e-022  4.98471926e-016]]\n",
      "Iteration 20:\n",
      "[[ 1.86265489e+002 -1.93191437e-014 -3.03407461e-015  7.03269814e-015]\n",
      " [ 1.93597309e-021  1.27345115e+001 -3.31917381e-015 -1.13031034e-015]\n",
      " [ 0.00000000e+000  2.32272365e-317  1.65679207e-015  2.27894537e-016]\n",
      " [ 0.00000000e+000  0.00000000e+000  1.73475451e-027  4.98471870e-016]]\n"
     ]
    }
   ],
   "source": [
    "# a = np.array([[0, 2], \n",
    "#               [2, 3]])\n",
    "a = b = W.copy()\n",
    "p = [1, 5, 10, 20]\n",
    "for i in range(20):\n",
    "    q, r = np.linalg.qr(a)\n",
    "    a = np.dot(r, q)\n",
    "    if i+1 in p:\n",
    "        print(f'Iteration {i+1}:')\n",
    "        print(a)"
   ]
  },
  {
   "cell_type": "code",
   "execution_count": 10,
   "metadata": {},
   "outputs": [],
   "source": [
    "def normalize(x):\n",
    "    fac = abs(x).max()\n",
    "    x_n = x / x.max()\n",
    "    return fac, x_n"
   ]
  },
  {
   "cell_type": "code",
   "execution_count": 11,
   "metadata": {},
   "outputs": [
    {
     "name": "stdout",
     "output_type": "stream",
     "text": [
      "186.26548853086695\n",
      "[0.50880918 0.59649655 1.         0.07017012]\n"
     ]
    }
   ],
   "source": [
    "x = np.diag(eigen_val)\n",
    "a = b\n",
    "\n",
    "for i in range(100):\n",
    "    x = np.dot(a, x)\n",
    "    lambda_1, x = normalize(x)\n",
    "    \n",
    "print(lambda_1)\n",
    "print(x)"
   ]
  },
  {
   "cell_type": "code",
   "execution_count": 12,
   "metadata": {},
   "outputs": [],
   "source": [
    "# power iteration / von Mises iteration\n",
    "# gives an approximation for an eigenvector for the dominant eigenvalue of a matrix A\n",
    "# by doing the power iteration k times\n",
    "def power_iteration(A, k: int):\n",
    "    v = np.random.rand(A.shape[1])\n",
    "\n",
    "    for _ in range(k):\n",
    "        # calculates b = Av\n",
    "        b = np.dot(A, v)\n",
    "\n",
    "        # calculate the norm of b\n",
    "        b_norm = np.linalg.norm(b)\n",
    "\n",
    "        # define v to be the normalized version of b\n",
    "        v = b / b_norm\n",
    "\n",
    "    return v\n",
    "\n",
    "def give_eigenvalue(A,k):\n",
    "    v=power_iteration(A,k)\n",
    "    lam = np.dot(A,v)[0]/v[0]\n",
    "    \n",
    "    return lam"
   ]
  },
  {
   "cell_type": "code",
   "execution_count": 13,
   "metadata": {},
   "outputs": [
    {
     "data": {
      "text/plain": [
       "array([0.39981287, 0.46870643, 0.78576332, 0.05513578])"
      ]
     },
     "execution_count": 13,
     "metadata": {},
     "output_type": "execute_result"
    }
   ],
   "source": [
    "v=power_iteration(b,3)\n",
    "v"
   ]
  }
 ],
 "metadata": {
  "kernelspec": {
   "display_name": "Python 3 (ipykernel)",
   "language": "python",
   "name": "python3"
  },
  "language_info": {
   "codemirror_mode": {
    "name": "ipython",
    "version": 3
   },
   "file_extension": ".py",
   "mimetype": "text/x-python",
   "name": "python",
   "nbconvert_exporter": "python",
   "pygments_lexer": "ipython3",
   "version": "3.9.7"
  }
 },
 "nbformat": 4,
 "nbformat_minor": 4
}
