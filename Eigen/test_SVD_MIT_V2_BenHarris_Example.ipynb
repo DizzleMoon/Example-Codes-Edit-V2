{
 "cells": [
  {
   "cell_type": "code",
   "execution_count": 12,
   "metadata": {},
   "outputs": [],
   "source": [
    "%matplotlib inline\n",
    "import numpy as np\n",
    "np.set_printoptions(linewidth=np.inf)\n",
    "np.set_printoptions(precision=7)\n",
    "import matplotlib.pyplot as plt\n",
    "import math \n",
    "import pandas as pd\n",
    "from numpy import linalg as LA\n",
    "from sympy import * "
   ]
  },
  {
   "cell_type": "code",
   "execution_count": 13,
   "metadata": {},
   "outputs": [],
   "source": [
    "# Scale function\n",
    "def scale(vec_1):\n",
    "    \n",
    "    # Test\n",
    "    v1_scale = np.square(np.linalg.norm(vec_1))\n",
    "#     print(v1_scale)\n",
    "\n",
    "    v1 = np.multiply(1/np.sqrt(v1_scale + 1e-15),vec_1)\n",
    "#     print(v1)\n",
    "    \n",
    "    return list(v1)\n",
    "    \n",
    "    \n",
    "def QR(span):\n",
    "    \n",
    "    # Setup arrays\n",
    "    # Original Values\n",
    "    vector = []\n",
    "    # Normalized Values\n",
    "    vec_norm = []\n",
    "\n",
    "    # Size of array\n",
    "    row,col = span.shape\n",
    "    \n",
    "    # First Column\n",
    "    v1 = span[:,0]\n",
    "    vec_1 = v1\n",
    "    vector.append(vec_1)\n",
    "\n",
    "    v1 = scale(vec_1)\n",
    "    vec_norm.append(v1)\n",
    "    \n",
    "    # Subsequent Columns\n",
    "\n",
    "    start = 1\n",
    "    end = col\n",
    "\n",
    "    for j in range(start,end):\n",
    "\n",
    "        # Column\n",
    "        projection = span[:,j]\n",
    "        v = span[:,j]\n",
    "\n",
    "        #Orthonormal vector\n",
    "        for i in range(len(vec_norm)):\n",
    "            #projection\n",
    "            # dot\n",
    "            proj_dot = np.dot(v,vec_norm[i])/(np.dot(vec_norm[i],vec_norm[i]) + 1e-15)\n",
    "            proj = np.multiply(proj_dot,vec_norm[i])\n",
    "            projection = projection - proj\n",
    "\n",
    "        v_norm = scale(projection)\n",
    "\n",
    "        vec_norm.append(v_norm)\n",
    "        \n",
    "    # Calculate R\n",
    "    Q = vec_norm\n",
    "    Q = np.array(Q)\n",
    "    R = np.dot(Q,span)\n",
    "    R = np.array(R)\n",
    "\n",
    "    \n",
    "    return Q.T,R\n",
    "\n",
    "def eigenspace(span):\n",
    "    \n",
    "    eig_vec = np.eye(span.shape[0])\n",
    "    X = span.copy()\n",
    "\n",
    "    for _ in range(100):\n",
    "        Q,R = QR(X)\n",
    "        eig_vec = np.dot(eig_vec,Q)\n",
    "        X = np.dot(R,Q)\n",
    "        eig_val = np.diag(X)\n",
    "        \n",
    "    return eig_val,eig_vec, X\n"
   ]
  },
  {
   "cell_type": "code",
   "execution_count": 14,
   "metadata": {},
   "outputs": [
    {
     "data": {
      "text/plain": [
       "(array([[ 0.7071068,  0.7071068],\n",
       "        [ 0.7071068, -0.7071068]]),\n",
       " array([8.9442719, 4.472136 ]),\n",
       " array([[ 0.3162278,  0.9486833],\n",
       "        [ 0.9486833, -0.3162278]]))"
      ]
     },
     "execution_count": 14,
     "metadata": {},
     "output_type": "execute_result"
    }
   ],
   "source": [
    "C = np.array([[5,5],[-1,7]])\n",
    "# C = np.array([[2,2],[1,1]])\n",
    "D = C.copy()\n",
    "\n",
    "# Solve for svd using numpy\n",
    "np.linalg.svd(D)"
   ]
  },
  {
   "cell_type": "code",
   "execution_count": 15,
   "metadata": {},
   "outputs": [
    {
     "name": "stdout",
     "output_type": "stream",
     "text": [
      "[[26 18]\n",
      " [18 74]]\n"
     ]
    }
   ],
   "source": [
    "A2 = np.dot(C.T,C)\n",
    "print(A2)"
   ]
  },
  {
   "cell_type": "code",
   "execution_count": 16,
   "metadata": {},
   "outputs": [
    {
     "name": "stdout",
     "output_type": "stream",
     "text": [
      "[80. 20.]\n",
      "[[ 0.3162278 -0.9486833]\n",
      " [ 0.9486833  0.3162278]]\n",
      "[[80. -0.]\n",
      " [-0. 20.]]\n"
     ]
    }
   ],
   "source": [
    "# Eigenspace\n",
    "eig_val_A2,eig_vec_A2,x_A2 = eigenspace(A2)\n",
    "Sigma = x_A2*np.eye(2)\n",
    "print(eig_val_A2)\n",
    "print(eig_vec_A2)\n",
    "print(Sigma)"
   ]
  },
  {
   "cell_type": "code",
   "execution_count": 17,
   "metadata": {},
   "outputs": [
    {
     "name": "stdout",
     "output_type": "stream",
     "text": [
      "[8.944271909999166, 4.472135954999574]\n"
     ]
    }
   ],
   "source": [
    "#singular values\n",
    "sigma_A2 = []\n",
    "eig_val = eig_val_A2\n",
    "for i in range(len(eig_val)):\n",
    "    sigma_A2.append(np.sqrt(eig_val[i]))\n",
    "    \n",
    "print(sigma_A2)"
   ]
  },
  {
   "cell_type": "code",
   "execution_count": 18,
   "metadata": {},
   "outputs": [
    {
     "name": "stdout",
     "output_type": "stream",
     "text": [
      "[80. 20.]\n",
      "[array([[-54.,  18.],\n",
      "       [ 18.,  -6.]]), array([[ 6., 18.],\n",
      "       [18., 54.]])]\n",
      "\n",
      "\n",
      "[[-54.  18.]\n",
      " [ 18.  -6.]]\n",
      "\n",
      "\n",
      "[[ 6. 18.]\n",
      " [18. 54.]]\n"
     ]
    }
   ],
   "source": [
    "# Charateristic Polynomial\n",
    "\n",
    "# Eigenvalues\n",
    "print(eig_val_A2)\n",
    "\n",
    "poly = []\n",
    "for i in range(len(sigma_A2)):\n",
    "    poly.append(A2 - np.multiply(sigma_A2[i]**2,np.eye(2)))\n",
    "    \n",
    "print(poly)\n",
    "print('\\n')\n",
    "\n",
    "# Eigenvalue #1\n",
    "eig_1 = poly[0]\n",
    "print(eig_1)\n",
    "print('\\n')\n",
    "# Eigenvalue #2\n",
    "eig_2 = poly[1]\n",
    "print(eig_2)"
   ]
  },
  {
   "cell_type": "code",
   "execution_count": 19,
   "metadata": {},
   "outputs": [
    {
     "name": "stdout",
     "output_type": "stream",
     "text": [
      "[[-54.  18.]\n",
      " [ 18.  -6.]]\n",
      "[-0.9486833  0.3162278]\n",
      "[[ 6. 18.]\n",
      " [18. 54.]]\n",
      "[0.3162278 0.9486833]\n",
      "[[ 0.3162278 -0.9486833]\n",
      " [ 0.9486833  0.3162278]]\n"
     ]
    }
   ],
   "source": [
    "# Eigenvectors\n",
    "# lamda 2\n",
    "eig_vec_2 = A2 - eig_val_A2[0]*np.eye(2)\n",
    "print(eig_vec_2)\n",
    "# Normalize\n",
    "v1_0 = eig_1[0]/np.linalg.norm(eig_1[0])\n",
    "print(v1_0)\n",
    "\n",
    "# lamda 1\n",
    "eig_vec_1 = A2 - eig_val_A2[1]*np.eye(2)\n",
    "print(eig_vec_1)\n",
    "# Normalize\n",
    "v2_0 = eig_2[0]/np.linalg.norm(eig_2[0])\n",
    "print(v2_0)\n",
    "\n",
    "V = [v2_0,v1_0]\n",
    "V = np.array(V).T\n",
    "print(V)"
   ]
  },
  {
   "cell_type": "code",
   "execution_count": 20,
   "metadata": {},
   "outputs": [
    {
     "name": "stdout",
     "output_type": "stream",
     "text": [
      "[[ 6.3245553 -3.1622777]\n",
      " [ 6.3245553  3.1622777]]\n"
     ]
    }
   ],
   "source": [
    "CV = C.dot(V)\n",
    "print(CV)"
   ]
  },
  {
   "cell_type": "code",
   "execution_count": 21,
   "metadata": {},
   "outputs": [
    {
     "name": "stdout",
     "output_type": "stream",
     "text": [
      "[80. 20.]\n",
      "[[80. -0.]\n",
      " [-0. 20.]]\n",
      "[[8.9442719 0.       ]\n",
      " [0.        4.472136 ]]\n",
      "[[ 0.7071068 -0.7071068]\n",
      " [ 0.7071068  0.7071068]]\n",
      "[[ 0.3162278 -0.9486833]\n",
      " [ 0.9486833  0.3162278]]\n",
      "\n",
      "\n",
      "[[ 5.  5.]\n",
      " [-1.  7.]]\n",
      "[[ 5  5]\n",
      " [-1  7]]\n"
     ]
    }
   ],
   "source": [
    "# Solve for U\n",
    "print(eig_val_A2)\n",
    "print(Sigma)\n",
    "Sig = np.multiply(np.sqrt(eig_val_A2),np.eye(2))\n",
    "print(Sig)\n",
    "U = CV.dot(np.linalg.pinv(Sig))\n",
    "print(U)\n",
    "print(V)\n",
    "# print(V.T)\n",
    "\n",
    "print('\\n')\n",
    "\n",
    "# Check for decomposition\n",
    "A = U.dot(Sig).dot(V.T)\n",
    "print(A)\n",
    "print(D)"
   ]
  },
  {
   "cell_type": "code",
   "execution_count": 22,
   "metadata": {},
   "outputs": [
    {
     "data": {
      "text/plain": [
       "(array([[ 0.7071068,  0.7071068],\n",
       "        [ 0.7071068, -0.7071068]]),\n",
       " array([8.9442719, 4.472136 ]),\n",
       " array([[ 0.3162278,  0.9486833],\n",
       "        [ 0.9486833, -0.3162278]]))"
      ]
     },
     "execution_count": 22,
     "metadata": {},
     "output_type": "execute_result"
    }
   ],
   "source": [
    "# Solve for svd using numpy\n",
    "np.linalg.svd(D)"
   ]
  },
  {
   "cell_type": "code",
   "execution_count": null,
   "metadata": {},
   "outputs": [],
   "source": []
  }
 ],
 "metadata": {
  "kernelspec": {
   "display_name": "Python 3 (ipykernel)",
   "language": "python",
   "name": "python3"
  },
  "language_info": {
   "codemirror_mode": {
    "name": "ipython",
    "version": 3
   },
   "file_extension": ".py",
   "mimetype": "text/x-python",
   "name": "python",
   "nbconvert_exporter": "python",
   "pygments_lexer": "ipython3",
   "version": "3.9.7"
  }
 },
 "nbformat": 4,
 "nbformat_minor": 4
}
