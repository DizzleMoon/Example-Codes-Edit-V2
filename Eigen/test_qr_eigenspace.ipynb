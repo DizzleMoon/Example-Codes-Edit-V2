{
 "cells": [
  {
   "cell_type": "code",
   "execution_count": 10,
   "metadata": {},
   "outputs": [],
   "source": [
    "%matplotlib inline\n",
    "import numpy as np\n",
    "np.set_printoptions(linewidth=np.inf)\n",
    "np.set_printoptions(precision=7)\n",
    "import matplotlib.pyplot as plt\n",
    "import math \n",
    "import pandas as pd\n",
    "from numpy import linalg as LA\n",
    "from sympy import * "
   ]
  },
  {
   "cell_type": "code",
   "execution_count": 11,
   "metadata": {},
   "outputs": [
    {
     "name": "stdout",
     "output_type": "stream",
     "text": [
      "[[2 1 1]\n",
      " [1 3 2]\n",
      " [1 0 0]]\n",
      "3 3\n"
     ]
    }
   ],
   "source": [
    "# span = np.array([[1,2,3],[-1,1,1],[1,1,1],[1,1,1]])\n",
    "span = np.array([[2,1,1],[1,3,2],[1,0,0]])\n",
    "print(span)\n",
    "A1 = span\n",
    "\n",
    "row,col = span.shape\n",
    "print(row,col)"
   ]
  },
  {
   "cell_type": "code",
   "execution_count": 12,
   "metadata": {},
   "outputs": [],
   "source": [
    "# Setup arrays\n",
    "# Original Values\n",
    "vector = []\n",
    "# Normalized Values\n",
    "vec_norm = []"
   ]
  },
  {
   "cell_type": "code",
   "execution_count": 13,
   "metadata": {},
   "outputs": [],
   "source": [
    "# Scale function\n",
    "def scale(vec_1):\n",
    "    \n",
    "    # Test\n",
    "    v1_scale = np.square(np.linalg.norm(vec_1))\n",
    "#     print(v1_scale)\n",
    "\n",
    "    v1 = np.multiply(1/np.sqrt(v1_scale),vec_1)\n",
    "#     print(v1)\n",
    "    \n",
    "    return list(v1)\n",
    "    \n",
    "    "
   ]
  },
  {
   "cell_type": "code",
   "execution_count": 14,
   "metadata": {},
   "outputs": [],
   "source": [
    "def QR(span):\n",
    "    \n",
    "    # Setup arrays\n",
    "    # Original Values\n",
    "    vector = []\n",
    "    # Normalized Values\n",
    "    vec_norm = []\n",
    "\n",
    "    # Size of array\n",
    "    row,col = span.shape\n",
    "    \n",
    "    # First Column\n",
    "    v1 = span[:,0]\n",
    "    vec_1 = v1\n",
    "    vector.append(vec_1)\n",
    "\n",
    "    v1 = scale(vec_1)\n",
    "    vec_norm.append(v1)\n",
    "    \n",
    "    # Subsequent Columns\n",
    "\n",
    "    start = 1\n",
    "    end = col\n",
    "\n",
    "    for j in range(start,end):\n",
    "\n",
    "        # Column\n",
    "        projection = span[:,j]\n",
    "        v = span[:,j]\n",
    "\n",
    "        #Orthonormal vector\n",
    "        for i in range(len(vec_norm)):\n",
    "            #projection\n",
    "            # dot\n",
    "            proj_dot = np.dot(v,vec_norm[i])/np.dot(vec_norm[i],vec_norm[i])\n",
    "            proj = np.multiply(proj_dot,vec_norm[i])\n",
    "            projection = projection - proj\n",
    "\n",
    "        v_norm = scale(projection)\n",
    "\n",
    "        vec_norm.append(v_norm)\n",
    "        \n",
    "    # Calculate R\n",
    "    Q = vec_norm\n",
    "    Q = np.array(Q)\n",
    "    R = np.dot(Q,span)\n",
    "    R = np.array(R)\n",
    "\n",
    "    \n",
    "    return Q.T,R\n"
   ]
  },
  {
   "cell_type": "code",
   "execution_count": 15,
   "metadata": {},
   "outputs": [
    {
     "name": "stdout",
     "output_type": "stream",
     "text": [
      "[[ 0.8164966 -0.2760262  0.5070926]\n",
      " [ 0.4082483  0.8970852 -0.1690309]\n",
      " [ 0.4082483 -0.3450328 -0.8451543]]\n",
      "\n",
      "\n",
      "[[ 2.4494897e+00  2.0412415e+00  1.6329932e+00]\n",
      " [ 2.7755576e-16  2.4152295e+00  1.5181442e+00]\n",
      " [-5.5511151e-16 -5.6621374e-15  1.6903085e-01]]\n"
     ]
    }
   ],
   "source": [
    "Q,R = QR(span)\n",
    "print(Q)\n",
    "print('\\n')\n",
    "print(R)"
   ]
  },
  {
   "cell_type": "code",
   "execution_count": 16,
   "metadata": {},
   "outputs": [
    {
     "name": "stdout",
     "output_type": "stream",
     "text": [
      "[ 3.9122292  1.2864621 -0.1986912]\n",
      "\n",
      "\n",
      "[[ 0.5123339 -0.722973  -0.4634912]\n",
      " [ 0.8487428  0.5085663  0.1449003]\n",
      " [ 0.130957  -0.4676221  0.8741738]]\n"
     ]
    }
   ],
   "source": [
    "# span = span.T\n",
    "eig_vec = np.eye(span.shape[0])\n",
    "X = span.copy()\n",
    "\n",
    "for _ in range(100):\n",
    "    Q,R = QR(X)\n",
    "    eig_vec = np.dot(eig_vec,Q)\n",
    "    X = np.dot(R,Q)\n",
    "    eig_val = np.diag(X)\n",
    "    \n",
    "    \n",
    "# print('X:')\n",
    "print(eig_val)\n",
    "print('\\n')\n",
    "print(eig_vec)"
   ]
  },
  {
   "cell_type": "code",
   "execution_count": 17,
   "metadata": {},
   "outputs": [],
   "source": [
    "def eigenspace(span):\n",
    "    \n",
    "    eig_vec = np.eye(span.shape[0])\n",
    "    X = span.copy()\n",
    "\n",
    "    for _ in range(100):\n",
    "        Q,R = QR(X)\n",
    "        eig_vec = np.dot(eig_vec,Q)\n",
    "        X = np.dot(R,Q)\n",
    "        eig_val = np.diag(X)\n",
    "        \n",
    "    return eig_val,eig_vec\n",
    "\n",
    "    "
   ]
  },
  {
   "cell_type": "code",
   "execution_count": 18,
   "metadata": {},
   "outputs": [
    {
     "name": "stdout",
     "output_type": "stream",
     "text": [
      "[ 3.9122292  1.2864621 -0.1986912]\n",
      "[[ 0.5123339 -0.722973  -0.4634912]\n",
      " [ 0.8487428  0.5085663  0.1449003]\n",
      " [ 0.130957  -0.4676221  0.8741738]]\n"
     ]
    }
   ],
   "source": [
    "eig_val,eig_vec = eigenspace(span)\n",
    "print(eig_val)\n",
    "print(eig_vec)"
   ]
  }
 ],
 "metadata": {
  "kernelspec": {
   "display_name": "Python 3 (ipykernel)",
   "language": "python",
   "name": "python3"
  },
  "language_info": {
   "codemirror_mode": {
    "name": "ipython",
    "version": 3
   },
   "file_extension": ".py",
   "mimetype": "text/x-python",
   "name": "python",
   "nbconvert_exporter": "python",
   "pygments_lexer": "ipython3",
   "version": "3.9.7"
  }
 },
 "nbformat": 4,
 "nbformat_minor": 4
}
