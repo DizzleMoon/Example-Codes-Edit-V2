{
 "cells": [
  {
   "cell_type": "code",
   "execution_count": 11,
   "metadata": {},
   "outputs": [],
   "source": [
    "%matplotlib inline\n",
    "import numpy as np\n",
    "import matplotlib.pyplot as plt\n",
    "import math "
   ]
  },
  {
   "cell_type": "code",
   "execution_count": 12,
   "metadata": {},
   "outputs": [
    {
     "name": "stdout",
     "output_type": "stream",
     "text": [
      "[[1 1 0]\n",
      " [0 1 1]\n",
      " [0 2 1]\n",
      " [0 0 3]]\n"
     ]
    }
   ],
   "source": [
    "A2 = np.array([[1,1,0],[0,1,1],[0,2,1],[0,0,3]])\n",
    "print(A2)"
   ]
  },
  {
   "cell_type": "code",
   "execution_count": 13,
   "metadata": {},
   "outputs": [],
   "source": [
    "# Split columns\n",
    "u1 = A2[:,0]\n",
    "a1 = u1\n",
    "u2 = A2[:,1]\n",
    "a2 = u2\n",
    "u3 = A2[:,2]\n",
    "a3 = u3\n"
   ]
  },
  {
   "cell_type": "code",
   "execution_count": 14,
   "metadata": {},
   "outputs": [
    {
     "name": "stdout",
     "output_type": "stream",
     "text": [
      "[1 0 0 0]\n"
     ]
    }
   ],
   "source": [
    "# Partial Basis\n",
    "X_partial = a1\n",
    "# First Column\n",
    "v1 = a1\n",
    "print(v1)"
   ]
  },
  {
   "cell_type": "code",
   "execution_count": 15,
   "metadata": {},
   "outputs": [
    {
     "name": "stdout",
     "output_type": "stream",
     "text": [
      "1.0\n",
      "[0. 1. 2. 0.]\n"
     ]
    },
    {
     "data": {
      "text/plain": [
       "0.0"
      ]
     },
     "execution_count": 15,
     "metadata": {},
     "output_type": "execute_result"
    }
   ],
   "source": [
    "# Second Column\n",
    "# V2 / Second Column\n",
    "proj_dot_2 = np.dot(a1,a2)\n",
    "proj_2 = proj_dot_2/np.sum(a1 ** 2)\n",
    "print(proj_2)\n",
    "# a2_1 = np.multiply(27,a2)\n",
    "# v2 = np.dot(1/proj_2,a1)\n",
    "v2 = np.dot(1/proj_2,a2) - a1\n",
    "print(v2)\n",
    "\n",
    "# v2_sq = np.square(np.linalg.norm(v2))\n",
    "# print(v2_sq)\n",
    "\n",
    "\n",
    "# v2 = a2 - np.dot(proj_2,a1)\n",
    "# print(v2)\n",
    "\n",
    "# Second column\n",
    "# v2_scale = np.multiply(1/np.square(np.linalg.norm(v2)),v2)\n",
    "# v2_scale\n",
    "\n",
    "# Orthogornal Test\n",
    "np.dot(v1,v2)"
   ]
  },
  {
   "cell_type": "code",
   "execution_count": 16,
   "metadata": {},
   "outputs": [
    {
     "name": "stdout",
     "output_type": "stream",
     "text": [
      "[0 1 1 3]\n",
      "0\n",
      "1\n",
      "0.0\n",
      "3.0\n",
      "5.0\n",
      "0.6\n",
      "[ 0.  5.  5. 15.]\n",
      "[0. 0. 0. 0.]\n",
      "[0. 1. 2. 0.]\n",
      "proj_3: 0.6\n",
      "[0. 3. 6. 0.]\n",
      "[ 0.  2. -1. 15.]\n",
      "\n",
      "\n",
      "0.0\n",
      "0.0\n",
      "0.0\n"
     ]
    }
   ],
   "source": [
    "# Third Column\n",
    "# V3 / Third Column\n",
    "v3 = a3\n",
    "print(v3)\n",
    "\n",
    "proj_dot_2 = np.dot(a1,a3)\n",
    "print(proj_dot_2)\n",
    "length_1 =  np.sum(a1 ** 2)\n",
    "print(length_1)\n",
    "proj_2 = proj_dot_2/length_1\n",
    "# proj_2 = 1/(proj_2 + 1e-5)\n",
    "# proj_2 = proj_dot_2/np.sum(a1 ** 2)\n",
    "print(proj_2)\n",
    "\n",
    "\n",
    "proj_dot_3 = np.dot(v2,a3)\n",
    "print(proj_dot_3)\n",
    "length_2 = np.sum(v2 ** 2)\n",
    "print(length_2)\n",
    "proj_3 = proj_dot_3/length_2\n",
    "print(proj_3)\n",
    "\n",
    "# print(proj_3/proj_2)\n",
    "\n",
    "# v3 = a3 - np.dot(proj_2,a1) - np.dot(proj_3,v2)\n",
    "# v3 = np.dot(proj_3,a3) - np.dot((proj_3/proj_2),a1) - np.dot(proj_3,v2)\n",
    "v3_0 = np.multiply(length_2,a3)\n",
    "print(v3_0)\n",
    "# proj_a = proj_3/proj_2\n",
    "# print(proj_a)\n",
    "v3_1 = np.multiply(proj_2,a1)\n",
    "print(v3_1)\n",
    "print(v2)\n",
    "print('proj_3:',proj_3)\n",
    "v3_2 = np.multiply(proj_3*length_2,v2)\n",
    "print(v3_2)\n",
    "# print('v3: \\n',v3)\n",
    "v3 = v3_0 - v3_1 - v3_2\n",
    "print(v3)\n",
    "\n",
    "# # v3_scale = np.multiply(10,v3)\n",
    "# # # v3_scale = np.dot(10,a3) - np.dot(10, np.dot(proj_2,a3)) - np.dot(10, np.dot(proj_3,a3))\n",
    "# # print(v3_scale)\n",
    "# # # print(a3)\n",
    "\n",
    "# Check for orthogonality\n",
    "print(\"\\n\")\n",
    "print(np.dot(v2,v3))\n",
    "print(np.dot(v1,v3))\n",
    "print(np.dot(v1,v2))\n"
   ]
  },
  {
   "cell_type": "code",
   "execution_count": 17,
   "metadata": {},
   "outputs": [],
   "source": [
    "# Q = [v1,v2,v3]\n",
    "# print(Q)"
   ]
  },
  {
   "cell_type": "code",
   "execution_count": 18,
   "metadata": {},
   "outputs": [
    {
     "name": "stdout",
     "output_type": "stream",
     "text": [
      "1.0\n",
      "5.000000000000001\n",
      "230.0\n"
     ]
    }
   ],
   "source": [
    "# For an orthonormal basis: normalize at the end\n",
    "# First column\n",
    "v1_scale = np.square(np.linalg.norm(v1))\n",
    "print(v1_scale)\n",
    "# Second column\n",
    "v2_scale = np.square(np.linalg.norm(v2))\n",
    "print(v2_scale)\n",
    "# Thrid column\n",
    "v3_scale = np.square(np.linalg.norm(v3))\n",
    "print(v3_scale)\n"
   ]
  },
  {
   "cell_type": "code",
   "execution_count": 19,
   "metadata": {},
   "outputs": [
    {
     "name": "stdout",
     "output_type": "stream",
     "text": [
      "[[ 1.          0.          0.        ]\n",
      " [ 0.          0.4472136   0.13187609]\n",
      " [ 0.          0.89442719 -0.06593805]\n",
      " [ 0.          0.          0.98907071]]\n"
     ]
    }
   ],
   "source": [
    "# Assemble Q\n",
    "v1 = np.multiply(1/np.sqrt(v1_scale),v1)\n",
    "v2 = np.multiply(1/np.sqrt(v2_scale),v2)\n",
    "v3 = np.multiply(1/np.sqrt(v3_scale),v3)\n",
    "\n",
    "Q = np.array([v1,v2,v3])\n",
    "# print(Q)\n",
    "print(Q.T)"
   ]
  },
  {
   "cell_type": "code",
   "execution_count": 20,
   "metadata": {},
   "outputs": [
    {
     "name": "stdout",
     "output_type": "stream",
     "text": [
      "[[1.         1.         0.        ]\n",
      " [0.         2.23606798 1.34164079]\n",
      " [0.         0.         3.03315018]]\n"
     ]
    }
   ],
   "source": [
    "# Calculate R\n",
    "R = np.dot(Q,A2)\n",
    "print(R)"
   ]
  },
  {
   "cell_type": "code",
   "execution_count": null,
   "metadata": {},
   "outputs": [],
   "source": []
  }
 ],
 "metadata": {
  "kernelspec": {
   "display_name": "Python 3 (ipykernel)",
   "language": "python",
   "name": "python3"
  },
  "language_info": {
   "codemirror_mode": {
    "name": "ipython",
    "version": 3
   },
   "file_extension": ".py",
   "mimetype": "text/x-python",
   "name": "python",
   "nbconvert_exporter": "python",
   "pygments_lexer": "ipython3",
   "version": "3.9.7"
  }
 },
 "nbformat": 4,
 "nbformat_minor": 4
}
