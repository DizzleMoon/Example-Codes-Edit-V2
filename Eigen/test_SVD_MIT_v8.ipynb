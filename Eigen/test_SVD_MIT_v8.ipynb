{
 "cells": [
  {
   "cell_type": "code",
   "execution_count": 1,
   "metadata": {},
   "outputs": [],
   "source": [
    "%matplotlib inline\n",
    "import numpy as np\n",
    "np.set_printoptions(linewidth=np.inf)\n",
    "# np.set_printoptions(precision=7)\n",
    "import matplotlib.pyplot as plt\n",
    "import math \n",
    "import pandas as pd\n",
    "from numpy import linalg as LA\n",
    "from sympy import * "
   ]
  },
  {
   "cell_type": "code",
   "execution_count": 2,
   "metadata": {},
   "outputs": [],
   "source": [
    "# Scale function\n",
    "def scale(vec_1):\n",
    "    \n",
    "    # Test\n",
    "    v1_scale = np.square(np.linalg.norm(vec_1))\n",
    "#     print(v1_scale)\n",
    "\n",
    "    v1 = np.multiply(1/np.sqrt(v1_scale + 1e-15),vec_1)\n",
    "#     print(v1)\n",
    "    \n",
    "    return list(v1)\n",
    "    \n",
    "    \n",
    "def QR(span):\n",
    "    \n",
    "    # Setup arrays\n",
    "    # Original Values\n",
    "    vector = []\n",
    "    # Normalized Values\n",
    "    vec_norm = []\n",
    "\n",
    "    # Size of array\n",
    "    row,col = span.shape\n",
    "    \n",
    "    # First Column\n",
    "    v1 = span[:,0]\n",
    "    vec_1 = v1\n",
    "    vector.append(vec_1)\n",
    "\n",
    "    v1 = scale(vec_1)\n",
    "    vec_norm.append(v1)\n",
    "    \n",
    "    # Subsequent Columns\n",
    "\n",
    "    start = 1\n",
    "    end = col\n",
    "\n",
    "    for j in range(start,end):\n",
    "\n",
    "        # Column\n",
    "        projection = span[:,j]\n",
    "        v = span[:,j]\n",
    "\n",
    "        #Orthonormal vector\n",
    "        for i in range(len(vec_norm)):\n",
    "            #projection\n",
    "            # dot\n",
    "            proj_dot = np.dot(v,vec_norm[i])/(np.dot(vec_norm[i],vec_norm[i]) + 1e-15)\n",
    "            proj = np.multiply(proj_dot,vec_norm[i])\n",
    "            projection = projection - proj\n",
    "\n",
    "        v_norm = scale(projection)\n",
    "\n",
    "        vec_norm.append(v_norm)\n",
    "        \n",
    "    # Calculate R\n",
    "    Q = vec_norm\n",
    "    Q = np.array(Q)\n",
    "    R = np.dot(Q,span)\n",
    "    R = np.array(R)\n",
    "\n",
    "    \n",
    "    return Q.T,R\n",
    "\n",
    "def eigenspace(span):\n",
    "    \n",
    "    eig_vec = np.eye(span.shape[0])\n",
    "    X = span.copy()\n",
    "\n",
    "    for _ in range(100):\n",
    "        Q,R = QR(X)\n",
    "        eig_vec = np.dot(eig_vec,Q)\n",
    "        X = np.dot(R,Q)\n",
    "        eig_val = np.diag(X)\n",
    "        \n",
    "    return eig_val,eig_vec, X\n"
   ]
  },
  {
   "cell_type": "code",
   "execution_count": 3,
   "metadata": {},
   "outputs": [
    {
     "name": "stdout",
     "output_type": "stream",
     "text": [
      "[[ -5   7  -8   6 -10]\n",
      " [ -4  -9  -8   0   7]\n",
      " [ -5  -2  -4   3  -1]\n",
      " [ -7  -4  -8   4  -6]\n",
      " [ -9 -10   3   2   9]\n",
      " [ -5   8  -6  -9   0]]\n"
     ]
    }
   ],
   "source": [
    "# A = np.array([[4,4],[-3,3]])\n",
    "# A = np.array([[2,4],[1,3],[0,0],[0,0]])\n",
    "\n",
    "row = 6\n",
    "col = 5\n",
    "A = np.random.randint(-10,10,size=(row,col))\n",
    "\n",
    "row,col = A.shape\n",
    "\n",
    "if col > row:\n",
    "    np.set_printoptions(precision=0)\n",
    "    \n",
    "\n",
    "B = A.copy()\n",
    "\n",
    "print(A)"
   ]
  },
  {
   "cell_type": "code",
   "execution_count": 4,
   "metadata": {},
   "outputs": [
    {
     "name": "stdout",
     "output_type": "stream",
     "text": [
      "[[ 274  -49   71  155 -127   75]\n",
      " [ -49  210   63   86  165   -4]\n",
      " [  71   63   55   93   50    6]\n",
      " [ 155   86   93  181   33   15]\n",
      " [-127  165   50   33  275  -71]\n",
      " [  75   -4    6   15  -71  206]]\n",
      "[[ 221   89  151  -46  -12]\n",
      " [  89  314  -22  -72 -197]\n",
      " [ 151  -22  253  -32  103]\n",
      " [ -46  -72  -32  146  -69]\n",
      " [ -12 -197  103  -69  267]]\n"
     ]
    }
   ],
   "source": [
    "A1 = A.dot(A.T)\n",
    "print(A1)\n",
    "A2 = np.dot(A.T,A)\n",
    "print(A2)"
   ]
  },
  {
   "cell_type": "code",
   "execution_count": 5,
   "metadata": {},
   "outputs": [
    {
     "name": "stdout",
     "output_type": "stream",
     "text": [
      "[519.44107203 430.53689345 181.89946385  58.01787799  11.10791226   0.        ]\n",
      "[[ 0.56315108  0.47075236  0.21048385 -0.20905194 -0.54176992  0.        ]\n",
      " [-0.41340976  0.43516848 -0.2705033   0.65741791 -0.34299194  0.        ]\n",
      " [-0.01610124  0.3521848   0.06041477 -0.10358394 -0.12647571  0.        ]\n",
      " [ 0.0983258   0.61608668  0.18104971  0.08982656  0.74297194  0.        ]\n",
      " [-0.64612044  0.26865076 -0.03115107 -0.67993212 -0.08354581  0.        ]\n",
      " [ 0.29078244  0.11511159 -0.91931241 -0.20739948  0.117723    0.        ]]\n",
      "[[ 5.19441072e+02 -5.22995872e-07  8.08618541e-15  9.89013046e-15 -2.12745626e-14  0.00000000e+00]\n",
      " [-5.22995831e-07  4.30536893e+02 -1.00725402e-14 -4.95946910e-15  1.63482408e-14  0.00000000e+00]\n",
      " [ 4.40001506e-29 -4.64887654e-29  1.81899464e+02 -2.52328839e-14 -2.55365217e-15  0.00000000e+00]\n",
      " [ 1.16434675e-28 -4.56309595e-29 -1.30336678e-28  5.80178780e+01  3.08175447e-14  0.00000000e+00]\n",
      " [-1.08603082e-27  7.16511264e-28 -4.67334454e-29  2.22238387e-28  1.11079123e+01  0.00000000e+00]\n",
      " [ 0.00000000e+00  0.00000000e+00  0.00000000e+00  0.00000000e+00  0.00000000e+00  0.00000000e+00]]\n",
      "\n",
      "\n",
      "[519.44105697 430.53679306 181.89762082  58.01661844  11.1079107 ]\n",
      "[[ 0.11369695 -0.63430113 -0.2474224  -0.7169717   0.0973079 ]\n",
      " [ 0.70593347 -0.26774727  0.29510236  0.31405873  0.49421761]\n",
      " [-0.24584793 -0.64915281 -0.31234792  0.6152817  -0.205004  ]\n",
      " [-0.00813346  0.28177891 -0.76961917  0.09176382  0.56550882]\n",
      " [-0.65438794 -0.15866556  0.40227089 -0.01807034  0.62004295]]\n",
      "[[ 5.19441057e+02  3.49035134e-06  1.86160042e-14  1.35768753e-14 -2.96939987e-15]\n",
      " [ 3.49035136e-06  4.30536793e+02 -2.08822659e-15  2.99825265e-14  2.66472590e-14]\n",
      " [ 8.93162171e-29 -1.02036109e-29  1.81897621e+02  1.10895366e-15  2.30912044e-15]\n",
      " [ 1.41046272e-28  2.36264291e-28  5.57413640e-30  5.80166184e+01 -7.45725477e-15]\n",
      " [-1.34163462e-28  1.16006995e-27  3.86422099e-29 -5.20986369e-29  1.11079107e+01]]\n",
      "\n",
      "\n",
      "V: [[ 0.11369695  0.70593347 -0.24584793 -0.00813346 -0.65438794]\n",
      " [-0.63430113 -0.26774727 -0.64915281  0.28177891 -0.15866556]\n",
      " [-0.2474224   0.29510236 -0.31234792 -0.76961917  0.40227089]\n",
      " [-0.7169717   0.31405873  0.6152817   0.09176382 -0.01807034]\n",
      " [ 0.0973079   0.49421761 -0.205004    0.56550882  0.62004295]]\n"
     ]
    }
   ],
   "source": [
    "# Eigenvalues\n",
    "eig_val_A1,eig_vec_A1,x_A1 = eigenspace(A1)\n",
    "print(eig_val_A1)\n",
    "print(eig_vec_A1)\n",
    "print(x_A1)\n",
    "\n",
    "print('\\n')\n",
    "\n",
    "eig_val_A2,eig_vec_A2,x_A2 = eigenspace(A2)\n",
    "print(eig_val_A2)\n",
    "print(eig_vec_A2)\n",
    "print(x_A2)\n",
    "\n",
    "print('\\n')\n",
    "\n",
    "V = eig_vec_A2.T\n",
    "print('V:',V)"
   ]
  },
  {
   "cell_type": "code",
   "execution_count": 6,
   "metadata": {},
   "outputs": [
    {
     "name": "stdout",
     "output_type": "stream",
     "text": [
      "[22.79124957006931, 20.749380546514107, 13.486942604728664, 7.616864082007789, 3.332853237652959]\n"
     ]
    }
   ],
   "source": [
    "#singular values\n",
    "sigma_A2 = []\n",
    "eig_val = eig_val_A2\n",
    "for i in range(len(eig_val)):\n",
    "    sigma_A2.append(np.sqrt(eig_val[i]))\n",
    "    \n",
    "print(sigma_A2)"
   ]
  },
  {
   "cell_type": "code",
   "execution_count": 7,
   "metadata": {},
   "outputs": [
    {
     "name": "stdout",
     "output_type": "stream",
     "text": [
      "[[22.79124957  0.          0.          0.          0.        ]\n",
      " [ 0.         20.74938055  0.          0.          0.        ]\n",
      " [ 0.          0.         13.4869426   0.          0.        ]\n",
      " [ 0.          0.          0.          7.61686408  0.        ]\n",
      " [ 0.          0.          0.          0.          3.33285324]]\n",
      "[[ 0.11369695 -0.63430113 -0.2474224  -0.7169717   0.0973079 ]\n",
      " [ 0.70593347 -0.26774727  0.29510236  0.31405873  0.49421761]\n",
      " [-0.24584793 -0.64915281 -0.31234792  0.6152817  -0.205004  ]\n",
      " [-0.00813346  0.28177891 -0.76961917  0.09176382  0.56550882]\n",
      " [-0.65438794 -0.15866556  0.40227089 -0.01807034  0.62004295]]\n",
      "[[ 0.11369695  0.70593347 -0.24584793 -0.00813346 -0.65438794]\n",
      " [-0.63430113 -0.26774727 -0.64915281  0.28177891 -0.15866556]\n",
      " [-0.2474224   0.29510236 -0.31234792 -0.76961917  0.40227089]\n",
      " [-0.7169717   0.31405873  0.6152817   0.09176382 -0.01807034]\n",
      " [ 0.0973079   0.49421761 -0.205004    0.56550882  0.62004295]]\n"
     ]
    }
   ],
   "source": [
    "Sigma = np.sqrt(eig_val_A2) * np.eye(len(sigma_A2))\n",
    "print(Sigma)\n",
    "# V = [v1,v2]\n",
    "V = eig_vec_A2\n",
    "V = np.array(V)\n",
    "print(V)\n",
    "print(V.T)"
   ]
  },
  {
   "cell_type": "code",
   "execution_count": 8,
   "metadata": {},
   "outputs": [
    {
     "name": "stdout",
     "output_type": "stream",
     "text": [
      "[[  2.59129562  16.08910591  -5.60318148  -0.18537178 -14.91431895]\n",
      " [-13.16135548  -5.55558993 -13.4695186    5.84673791  -3.29221206]\n",
      " [ -3.33697169   3.98002857  -4.21261852 -10.37980954   5.42540435]\n",
      " [ -5.46107595   2.39214268   4.68651705   0.69895257  -0.13763933]\n",
      " [  0.32431295   1.64715476  -0.68324825   1.88475791   2.06651214]]\n",
      "[[ 0.56315085  0.47075267 -0.21048595  0.2090496   0.54176981]\n",
      " [-0.41340959  0.4351693   0.27051705 -0.65740805  0.34299217]\n",
      " [-0.01610146  0.35218467 -0.06041617  0.10358279  0.12647566]\n",
      " [ 0.09832566  0.61608723 -0.18104705 -0.08982821 -0.74297184]\n",
      " [-0.6461212   0.26864861  0.03113633  0.67992517  0.08354552]\n",
      " [ 0.29078141  0.11510869  0.91930331  0.20740343 -0.11772315]]\n",
      "[[-5.00000000e+00  7.00000000e+00 -8.00000000e+00  6.00000000e+00 -1.00000000e+01]\n",
      " [-4.00000000e+00 -9.00000000e+00 -8.00000000e+00 -1.77344553e-15  7.00000000e+00]\n",
      " [-5.00000000e+00 -2.00000000e+00 -4.00000000e+00  3.00000000e+00 -1.00000000e+00]\n",
      " [-7.00000000e+00 -4.00000000e+00 -8.00000000e+00  4.00000000e+00 -6.00000000e+00]\n",
      " [-9.00000000e+00 -1.00000000e+01  3.00000000e+00  2.00000000e+00  9.00000000e+00]\n",
      " [-5.00000000e+00  8.00000000e+00 -6.00000000e+00 -9.00000000e+00 -1.20854100e-14]]\n",
      "[[ -5   7  -8   6 -10]\n",
      " [ -4  -9  -8   0   7]\n",
      " [ -5  -2  -4   3  -1]\n",
      " [ -7  -4  -8   4  -6]\n",
      " [ -9 -10   3   2   9]\n",
      " [ -5   8  -6  -9   0]]\n"
     ]
    }
   ],
   "source": [
    "Sigma_V = Sigma.dot(V.T)\n",
    "print(Sigma_V)\n",
    "\n",
    "U = A.dot(np.linalg.pinv(Sigma_V))\n",
    "print(U)\n",
    "\n",
    "A = U.dot(Sigma).dot(V.T)\n",
    "print(A)\n",
    "\n",
    "print(B)"
   ]
  },
  {
   "cell_type": "code",
   "execution_count": 9,
   "metadata": {},
   "outputs": [],
   "source": [
    "# # Normalize vectors\n",
    "# # CV = CV.T\n",
    "# print(CV)\n",
    "\n",
    "# row,col = CV.shape\n",
    "\n",
    "# for i in range(row):\n",
    "#     CV[i] = CV[i]/(np.linalg.norm(CV[i]) + 1e-15)\n",
    "    \n",
    "# print(CV)"
   ]
  },
  {
   "cell_type": "code",
   "execution_count": 10,
   "metadata": {},
   "outputs": [],
   "source": [
    "# # Solve for U\n",
    "# print(Sigma)\n",
    "# U = CV.dot(np.linalg.pinv(Sigma))\n",
    "# U1 = U\n",
    "# print(U1)\n",
    "# # print(V)\n",
    "# # print(V.T)"
   ]
  },
  {
   "cell_type": "code",
   "execution_count": null,
   "metadata": {},
   "outputs": [],
   "source": []
  }
 ],
 "metadata": {
  "kernelspec": {
   "display_name": "Python 3 (ipykernel)",
   "language": "python",
   "name": "python3"
  },
  "language_info": {
   "codemirror_mode": {
    "name": "ipython",
    "version": 3
   },
   "file_extension": ".py",
   "mimetype": "text/x-python",
   "name": "python",
   "nbconvert_exporter": "python",
   "pygments_lexer": "ipython3",
   "version": "3.9.7"
  }
 },
 "nbformat": 4,
 "nbformat_minor": 4
}
