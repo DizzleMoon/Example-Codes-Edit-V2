{
 "cells": [
  {
   "cell_type": "code",
   "execution_count": 1,
   "metadata": {},
   "outputs": [],
   "source": [
    "%matplotlib inline\n",
    "import numpy as np\n",
    "np.set_printoptions(linewidth=np.inf)\n",
    "np.set_printoptions(precision=7)\n",
    "import matplotlib.pyplot as plt\n",
    "import math \n",
    "import pandas as pd\n",
    "from numpy import linalg as LA\n",
    "from sympy import * "
   ]
  },
  {
   "cell_type": "code",
   "execution_count": 2,
   "metadata": {},
   "outputs": [],
   "source": [
    "# Scale function\n",
    "def scale(vec_1):\n",
    "    \n",
    "    # Test\n",
    "    v1_scale = np.square(np.linalg.norm(vec_1))\n",
    "#     print(v1_scale)\n",
    "\n",
    "    v1 = np.multiply(1/np.sqrt(v1_scale + 1e-15),vec_1)\n",
    "#     print(v1)\n",
    "    \n",
    "    return list(v1)\n",
    "    \n",
    "    \n",
    "def QR(span):\n",
    "    \n",
    "    # Setup arrays\n",
    "    # Original Values\n",
    "    vector = []\n",
    "    # Normalized Values\n",
    "    vec_norm = []\n",
    "\n",
    "    # Size of array\n",
    "    row,col = span.shape\n",
    "    \n",
    "    # First Column\n",
    "    v1 = span[:,0]\n",
    "    vec_1 = v1\n",
    "    vector.append(vec_1)\n",
    "\n",
    "    v1 = scale(vec_1)\n",
    "    vec_norm.append(v1)\n",
    "    \n",
    "    # Subsequent Columns\n",
    "\n",
    "    start = 1\n",
    "    end = col\n",
    "\n",
    "    for j in range(start,end):\n",
    "\n",
    "        # Column\n",
    "        projection = span[:,j]\n",
    "        v = span[:,j]\n",
    "\n",
    "        #Orthonormal vector\n",
    "        for i in range(len(vec_norm)):\n",
    "            #projection\n",
    "            # dot\n",
    "            proj_dot = np.dot(v,vec_norm[i])/(np.dot(vec_norm[i],vec_norm[i]) + 1e-15)\n",
    "            proj = np.multiply(proj_dot,vec_norm[i])\n",
    "            projection = projection - proj\n",
    "\n",
    "        v_norm = scale(projection)\n",
    "\n",
    "        vec_norm.append(v_norm)\n",
    "        \n",
    "    # Calculate R\n",
    "    Q = vec_norm\n",
    "    Q = np.array(Q)\n",
    "    R = np.dot(Q,span)\n",
    "    R = np.array(R)\n",
    "\n",
    "    \n",
    "    return Q.T,R\n",
    "\n",
    "def eigenspace(span):\n",
    "    \n",
    "    eig_vec = np.eye(span.shape[0])\n",
    "    X = span.copy()\n",
    "\n",
    "    for _ in range(100):\n",
    "        Q,R = QR(X)\n",
    "        eig_vec = np.dot(eig_vec,Q)\n",
    "        X = np.dot(R,Q)\n",
    "        eig_val = np.diag(X)\n",
    "        \n",
    "    return eig_val,eig_vec, X\n"
   ]
  },
  {
   "cell_type": "code",
   "execution_count": 3,
   "metadata": {},
   "outputs": [
    {
     "name": "stdout",
     "output_type": "stream",
     "text": [
      "0.8728715609439696\n",
      "[ 0.6666667 -1.3333333  0.6666667]\n",
      "1.6329931618554523\n",
      "0.6666666666666666\n"
     ]
    }
   ],
   "source": [
    "a = np.array([2,1,4])\n",
    "b = np.array([1,-2,1])\n",
    "\n",
    "# Cpmpare vectors for projecion\n",
    "compare_a_b = a.dot(b)/np.linalg.norm(a)\n",
    "print(compare_a_b)\n",
    "\n",
    "# Projection a onto b v1\n",
    "proj_a_b = ((a.dot(b))/(np.linalg.norm(b))**2)*b\n",
    "print(proj_a_b)\n",
    "print(np.linalg.norm(proj_a_b))\n",
    "\n",
    "# Projection a onto b v2\n",
    "proj_a_b = a.dot(b)/b.T.dot(b)\n",
    "print(proj_a_b)"
   ]
  },
  {
   "cell_type": "code",
   "execution_count": 4,
   "metadata": {},
   "outputs": [
    {
     "name": "stdout",
     "output_type": "stream",
     "text": [
      "-2\n",
      "5.0\n",
      "3.0\n",
      "-0.4\n",
      "[-0.32 -0.    0.24]\n",
      "[ 1.32 -2.    1.76]\n"
     ]
    }
   ],
   "source": [
    "# Math Syd\n",
    "u = np.array([4,0,-3])\n",
    "v = np.array([1,-2,2])\n",
    "\n",
    "\n",
    "# dot product\n",
    "uv = u.dot(v)\n",
    "print(uv)\n",
    "\n",
    "# Normalize vectors\n",
    "u_norm = np.linalg.norm(u)\n",
    "print(u_norm)\n",
    "v_norm = np.linalg.norm(v)\n",
    "print(v_norm)\n",
    "\n",
    "# The component of v in the direction of u is\n",
    "comp_v_u = uv/u_norm\n",
    "print(comp_v_u)\n",
    "# The projection of v in the direction of u is\n",
    "proj_v_u = uv/u_norm**2*u\n",
    "print(proj_v_u)\n",
    "\n",
    "# Orthonormal Projection\n",
    "ortho = v - proj_v_u\n",
    "print(ortho)"
   ]
  },
  {
   "cell_type": "code",
   "execution_count": null,
   "metadata": {},
   "outputs": [],
   "source": []
  }
 ],
 "metadata": {
  "kernelspec": {
   "display_name": "Python 3 (ipykernel)",
   "language": "python",
   "name": "python3"
  },
  "language_info": {
   "codemirror_mode": {
    "name": "ipython",
    "version": 3
   },
   "file_extension": ".py",
   "mimetype": "text/x-python",
   "name": "python",
   "nbconvert_exporter": "python",
   "pygments_lexer": "ipython3",
   "version": "3.9.7"
  }
 },
 "nbformat": 4,
 "nbformat_minor": 4
}
