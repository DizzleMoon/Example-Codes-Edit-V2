{
 "cells": [
  {
   "cell_type": "code",
   "execution_count": 9,
   "metadata": {},
   "outputs": [],
   "source": [
    "%matplotlib inline\n",
    "import numpy as np\n",
    "np.set_printoptions(linewidth=np.inf)\n",
    "import matplotlib.pyplot as plt\n",
    "import math \n",
    "import pandas as pd\n",
    "from numpy import linalg as LA\n",
    "from sympy import * "
   ]
  },
  {
   "cell_type": "code",
   "execution_count": 10,
   "metadata": {},
   "outputs": [
    {
     "name": "stdout",
     "output_type": "stream",
     "text": [
      "[[1 0 0 0]\n",
      " [1 1 0 0]\n",
      " [1 1 1 1]\n",
      " [1 0 0 1]]\n",
      "[[1 0 0 0]\n",
      " [1 1 0 0]\n",
      " [1 1 1 1]\n",
      " [1 0 0 1]]\n"
     ]
    }
   ],
   "source": [
    "# X =  np.array([1,0,0,1,1,0,1,1,1]).reshape(3,3)\n",
    "X =  np.array([1,0,0,0,1,1,0,0,1,1,1,1,1,0,0,1]).reshape(4,4)\n",
    "# row = 4\n",
    "# col = 4\n",
    "# X = np.random.randint(2,size=(row,col))\n",
    "Y = X.copy()\n",
    "X\n",
    "row,col = X.shape\n",
    "print(X)\n",
    "Y = X.copy()\n",
    "print(X)"
   ]
  },
  {
   "cell_type": "code",
   "execution_count": 11,
   "metadata": {},
   "outputs": [
    {
     "name": "stdout",
     "output_type": "stream",
     "text": [
      "[[-5.00000000e-01  5.00000000e-01  8.32667268e-17 -7.07106781e-01]\n",
      " [-5.00000000e-01 -5.00000000e-01  7.07106781e-01 -2.39233303e-17]\n",
      " [-5.00000000e-01 -5.00000000e-01 -7.07106781e-01  3.83224528e-18]\n",
      " [-5.00000000e-01  5.00000000e-01  1.14668576e-16  7.07106781e-01]]\n",
      "\n",
      "\n",
      "[[-2.00000000e+00 -1.00000000e+00 -5.00000000e-01 -1.00000000e+00]\n",
      " [ 0.00000000e+00 -1.00000000e+00 -5.00000000e-01 -5.55111512e-17]\n",
      " [ 0.00000000e+00  0.00000000e+00 -7.07106781e-01 -7.07106781e-01]\n",
      " [ 0.00000000e+00  0.00000000e+00  0.00000000e+00  7.07106781e-01]]\n",
      "\n",
      "\n",
      "[[ 1.00000000e+00  0.00000000e+00  5.55111512e-17 -1.66533454e-16]\n",
      " [ 1.00000000e+00  1.00000000e+00 -2.77555756e-17  2.56499632e-16]\n",
      " [ 1.00000000e+00  1.00000000e+00  1.00000000e+00  1.00000000e+00]\n",
      " [ 1.00000000e+00  5.55111512e-17  5.55111512e-17  1.00000000e+00]]\n",
      "\n",
      "\n"
     ]
    }
   ],
   "source": [
    "Q,R = np.linalg.qr(X)\n",
    "Q1 = Q.copy()\n",
    "\n",
    "print(Q)\n",
    "print('\\n')\n",
    "print(R)\n",
    "\n",
    "print('\\n')\n",
    "\n",
    "X =Q.dot(R)\n",
    "print(X)\n",
    "\n",
    "print('\\n')\n",
    "\n",
    "# np.dot(Q[row-1],Q[row-1].T)"
   ]
  },
  {
   "cell_type": "code",
   "execution_count": 12,
   "metadata": {},
   "outputs": [],
   "source": [
    "# Initialize arrays\n",
    "\n",
    "U = []\n",
    "V_norm = []\n",
    "U_Norm = []\n",
    "A = []\n",
    "projection = []"
   ]
  },
  {
   "cell_type": "code",
   "execution_count": 13,
   "metadata": {},
   "outputs": [
    {
     "name": "stdout",
     "output_type": "stream",
     "text": [
      "[1. 1. 1. 1.]\n",
      "[0.5 0.5 0.5 0.5]\n"
     ]
    }
   ],
   "source": [
    "# First Column\n",
    "\n",
    "a1 = X[:,0]\n",
    "A.append(a1)\n",
    "u1 = a1\n",
    "print(u1)\n",
    "U.append(u1)\n",
    "\n",
    "# Normalization\n",
    "a1_norm = np.linalg.norm(a1)\n",
    "u1_normalized = a1/a1_norm\n",
    "print(u1_normalized)\n",
    "V_norm.append(u1_normalized)"
   ]
  },
  {
   "cell_type": "code",
   "execution_count": 14,
   "metadata": {},
   "outputs": [
    {
     "name": "stdout",
     "output_type": "stream",
     "text": [
      "[-0.5  0.5  0.5 -0.5]\n",
      "[ 0.         -0.70710678  0.70710678  0.        ]\n",
      "[-7.07106781e-01  4.66967757e-17 -1.10312470e-16  7.07106781e-01]\n",
      "\n",
      "\n"
     ]
    }
   ],
   "source": [
    "# Subsequent Columns\n",
    "for j in range(1,row):\n",
    "    a = X[:,j]\n",
    "    u = a\n",
    "    A.append(a)\n",
    "    \n",
    "    # Projection\n",
    "    projection = []\n",
    "    for i in range(j):\n",
    "\n",
    "        # Dot products\n",
    "        # Denominator\n",
    "        denom = U[i-1].dot(U[i-1].T)\n",
    "        # Numerator\n",
    "        num = U[i-1].dot(a)\n",
    "        # Multiple\n",
    "        vec = np.multiply(num/denom,U[i-1])\n",
    "        projection.append(vec)\n",
    "        \n",
    "#     print(projection)\n",
    "    \n",
    "    for k in range(len(projection)):\n",
    "        u1 = a - projection[k]\n",
    "        a = u1\n",
    "#     print(a)\n",
    "    \n",
    "    U.append(a)\n",
    "    \n",
    "    # Normalization\n",
    "    v_norm = np.linalg.norm(a)\n",
    "    v_normalized = a/v_norm\n",
    "    print(v_normalized)\n",
    "    V_norm.append(v_normalized)\n",
    "\n",
    "print('\\n')\n",
    "# U_norm = []\n",
    "# for i in V_norm:\n",
    "#     U_norm.append(list(i))\n",
    "# print(U_norm)\n",
    "# print(V_norm[0])\n",
    "# print('\\n')\n",
    "# print(U)"
   ]
  },
  {
   "cell_type": "code",
   "execution_count": 15,
   "metadata": {},
   "outputs": [
    {
     "name": "stdout",
     "output_type": "stream",
     "text": [
      "[4.0, 1.0, 0.5, 0.5000000000000004]\n"
     ]
    }
   ],
   "source": [
    "err = []\n",
    "for i in range(len(U)):\n",
    "    err.append(np.dot(U[i],U[i]))\n",
    "    \n",
    "print(err)\n",
    "\n",
    "# print(V_norm[3].T.dot(V_norm[3]))"
   ]
  },
  {
   "cell_type": "code",
   "execution_count": 16,
   "metadata": {},
   "outputs": [
    {
     "name": "stdout",
     "output_type": "stream",
     "text": [
      "[[ 5.00000000e-01 -5.00000000e-01 -8.32667268e-17  7.07106781e-01]\n",
      " [ 5.00000000e-01  5.00000000e-01 -7.07106781e-01  2.39233303e-17]\n",
      " [ 5.00000000e-01  5.00000000e-01  7.07106781e-01 -3.83224528e-18]\n",
      " [ 5.00000000e-01 -5.00000000e-01 -1.14668576e-16 -7.07106781e-01]]\n",
      "\n",
      "\n",
      "[4.0, 1.0, 0.5, 0.5000000000000004]\n",
      "\n",
      "\n",
      "[array([0.5, 0.5, 0.5, 0.5]), array([-0.5,  0.5,  0.5, -0.5]), array([ 0.        , -0.70710678,  0.70710678,  0.        ]), array([-7.07106781e-01,  4.66967757e-17, -1.10312470e-16,  7.07106781e-01])]\n"
     ]
    }
   ],
   "source": [
    "for i in range(row):\n",
    "    Q1[i,:] = np.multiply(-1,Q1[i,:])\n",
    "print(Q1)\n",
    "print('\\n')\n",
    "print(err)\n",
    "print('\\n')\n",
    "print(V_norm)"
   ]
  },
  {
   "cell_type": "code",
   "execution_count": null,
   "metadata": {},
   "outputs": [],
   "source": []
  }
 ],
 "metadata": {
  "kernelspec": {
   "display_name": "Python 3 (ipykernel)",
   "language": "python",
   "name": "python3"
  },
  "language_info": {
   "codemirror_mode": {
    "name": "ipython",
    "version": 3
   },
   "file_extension": ".py",
   "mimetype": "text/x-python",
   "name": "python",
   "nbconvert_exporter": "python",
   "pygments_lexer": "ipython3",
   "version": "3.9.7"
  }
 },
 "nbformat": 4,
 "nbformat_minor": 4
}
