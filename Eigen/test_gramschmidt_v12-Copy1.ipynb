{
 "cells": [
  {
   "cell_type": "code",
   "execution_count": 1,
   "metadata": {},
   "outputs": [],
   "source": [
    "%matplotlib inline\n",
    "import numpy as np\n",
    "np.set_printoptions(linewidth=np.inf)\n",
    "np.set_printoptions(precision=7)\n",
    "import matplotlib.pyplot as plt\n",
    "import math \n",
    "import pandas as pd\n",
    "from numpy import linalg as LA\n",
    "from sympy import * "
   ]
  },
  {
   "cell_type": "code",
   "execution_count": 2,
   "metadata": {},
   "outputs": [
    {
     "name": "stdout",
     "output_type": "stream",
     "text": [
      "[[2 1 1]\n",
      " [1 3 2]\n",
      " [1 0 0]]\n",
      "3 3\n"
     ]
    }
   ],
   "source": [
    "# span = np.array([[1,2,3],[-1,1,1],[1,1,1],[1,1,1]])\n",
    "span = np.array([[2,1,1],[1,3,2],[1,0,0]])\n",
    "print(span)\n",
    "A1 = span\n",
    "\n",
    "row,col = span.shape\n",
    "print(row,col)"
   ]
  },
  {
   "cell_type": "code",
   "execution_count": 3,
   "metadata": {},
   "outputs": [],
   "source": [
    "# Setup arrays\n",
    "# Original Values\n",
    "vector = []\n",
    "# Normalized Values\n",
    "vec_norm = []"
   ]
  },
  {
   "cell_type": "code",
   "execution_count": 4,
   "metadata": {},
   "outputs": [],
   "source": [
    "# Scale function\n",
    "def scale(vec_1):\n",
    "    \n",
    "    # Test\n",
    "    v1_scale = np.square(np.linalg.norm(vec_1))\n",
    "#     print(v1_scale)\n",
    "\n",
    "    v1 = np.multiply(1/np.sqrt(v1_scale),vec_1)\n",
    "#     print(v1)\n",
    "    \n",
    "    return list(v1)\n",
    "    \n",
    "    "
   ]
  },
  {
   "cell_type": "code",
   "execution_count": 5,
   "metadata": {},
   "outputs": [],
   "source": [
    "def QR(span):\n",
    "    \n",
    "    row,col = span.shape\n",
    "    \n",
    "    # First Column\n",
    "    v1 = span[:,0]\n",
    "    vec_1 = v1\n",
    "    vector.append(vec_1)\n",
    "\n",
    "    v1 = scale(vec_1)\n",
    "    vec_norm.append(v1)\n",
    "    \n",
    "    # Subsequent Columns\n",
    "\n",
    "    start = 1\n",
    "    end = col\n",
    "\n",
    "    for j in range(start,end):\n",
    "\n",
    "        # Column\n",
    "        projection = span[:,j]\n",
    "        v = span[:,j]\n",
    "\n",
    "        #Orthonormal vector\n",
    "        for i in range(len(vec_norm)):\n",
    "            #projection\n",
    "            # dot\n",
    "            proj_dot = np.dot(v,vec_norm[i])/np.dot(vec_norm[i],vec_norm[i])\n",
    "            proj = np.multiply(proj_dot,vec_norm[i])\n",
    "            projection = projection - proj\n",
    "\n",
    "        v_norm = scale(projection)\n",
    "\n",
    "        vec_norm.append(v_norm)\n",
    "        \n",
    "    # Calculate R\n",
    "    Q = vec_norm\n",
    "    Q = np.array(Q)\n",
    "    R = np.dot(Q,span)\n",
    "    R = np.array(R)\n",
    "\n",
    "    \n",
    "    return Q.T,R\n"
   ]
  },
  {
   "cell_type": "code",
   "execution_count": 6,
   "metadata": {},
   "outputs": [
    {
     "name": "stdout",
     "output_type": "stream",
     "text": [
      "[[ 0.8164966 -0.2760262  0.5070926]\n",
      " [ 0.4082483  0.8970852 -0.1690309]\n",
      " [ 0.4082483 -0.3450328 -0.8451543]]\n",
      "\n",
      "\n",
      "[[ 2.4494897e+00  2.0412415e+00  1.6329932e+00]\n",
      " [ 2.7755576e-16  2.4152295e+00  1.5181442e+00]\n",
      " [-5.5511151e-16 -5.6621374e-15  1.6903085e-01]]\n"
     ]
    }
   ],
   "source": [
    "Q,R = QR(span)\n",
    "print(Q)\n",
    "print('\\n')\n",
    "print(R)"
   ]
  },
  {
   "cell_type": "code",
   "execution_count": 7,
   "metadata": {},
   "outputs": [],
   "source": [
    "# # span = span.T\n",
    "# eig_val = np.eye(span.shape[0])\n",
    "# X = span.copy()\n",
    "\n",
    "# for i in range(3):\n",
    "#     print(i)\n",
    "#     print('\\n')\n",
    "#     Q,R = QR(X)\n",
    "# #     print('Q:')\n",
    "# #     print(Q.T)\n",
    "# #     print('\\n')\n",
    "# #     Q = Q[0:row,0:row]\n",
    "#     print('Q:')\n",
    "#     print(Q.T)\n",
    "#     print('\\n')\n",
    "# #     Q1 = Q[-3:]\n",
    "# #     print('Q1:')\n",
    "# #     print(Q1.T)\n",
    "# #     print('\\n')    \n",
    "#     R = R[0:row,0:row]\n",
    "#     print('R0:')\n",
    "#     print(R)\n",
    "#     print('\\n')\n",
    "#     X = np.dot(R,Q)\n",
    "#     print('X:')\n",
    "#     print(X.T)\n",
    "#     print('/n')"
   ]
  },
  {
   "cell_type": "code",
   "execution_count": 8,
   "metadata": {},
   "outputs": [
    {
     "name": "stdout",
     "output_type": "stream",
     "text": [
      "[[ 0.8164966 -0.2760262  0.5070926]\n",
      " [ 0.4082483  0.8970852 -0.1690309]\n",
      " [ 0.4082483 -0.3450328 -0.8451543]]\n",
      "\n",
      "\n",
      "[[ 1.6857635 -0.2715875  2.2392106]\n",
      " [-1.3942283  2.5252063 -1.9618186]\n",
      " [ 0.4345719  0.1878446  0.8227802]]\n",
      "\n",
      "\n",
      "X:\n",
      "[[ 2.1796989 -0.9083806  0.7674123]\n",
      " [-1.4815531  3.3270606 -0.2353267]\n",
      " [-0.9917336  0.5241987 -0.5067595]]\n",
      "\n",
      "\n"
     ]
    }
   ],
   "source": [
    "# span = span.T\n",
    "eig_val = np.eye(span.shape[0])\n",
    "X = span.copy()\n",
    "\n",
    "for i in range(100):\n",
    "#     print(i)\n",
    "#     print('\\n')\n",
    "    Q,R = QR(X)\n",
    "#     print('Q:')\n",
    "#     print(Q.T)\n",
    "#     print('\\n')\n",
    "    Q = Q[0:row,0:row]\n",
    "#     print('Q:')\n",
    "#     print(Q.T)\n",
    "#     print('\\n')\n",
    "#     Q1 = Q[-3:]\n",
    "#     print('Q1:')\n",
    "#     print(Q1.T)\n",
    "#     print('\\n')    \n",
    "    R = R[0:row,0:row]\n",
    "#     print('R0:')\n",
    "#     print(R)\n",
    "#     print('\\n')\n",
    "    X = np.dot(R,Q)\n",
    "    \n",
    "\n",
    "print(Q)\n",
    "print('\\n')\n",
    "print(R)\n",
    "print('\\n')    \n",
    "print('X:')\n",
    "print(X.T)\n",
    "print('\\n')"
   ]
  }
 ],
 "metadata": {
  "kernelspec": {
   "display_name": "Python 3 (ipykernel)",
   "language": "python",
   "name": "python3"
  },
  "language_info": {
   "codemirror_mode": {
    "name": "ipython",
    "version": 3
   },
   "file_extension": ".py",
   "mimetype": "text/x-python",
   "name": "python",
   "nbconvert_exporter": "python",
   "pygments_lexer": "ipython3",
   "version": "3.9.7"
  }
 },
 "nbformat": 4,
 "nbformat_minor": 4
}
