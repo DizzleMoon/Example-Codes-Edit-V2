{
 "cells": [
  {
   "cell_type": "code",
   "execution_count": 1,
   "metadata": {},
   "outputs": [],
   "source": [
    "%matplotlib inline\n",
    "import numpy as np\n",
    "np.set_printoptions(linewidth=np.inf)\n",
    "import matplotlib.pyplot as plt\n",
    "import math \n",
    "import pandas as pd\n",
    "from numpy import linalg as LA"
   ]
  },
  {
   "cell_type": "code",
   "execution_count": 2,
   "metadata": {},
   "outputs": [
    {
     "name": "stdout",
     "output_type": "stream",
     "text": [
      "3\n",
      "[[2 1 0]\n",
      " [1 3 1]\n",
      " [0 1 4]]\n"
     ]
    }
   ],
   "source": [
    "# A = np.array([[1,2,3,4],[2,1,2,2],[3,2,1,3],[4,2,3,1]])\n",
    "# A = np.array([[6,5,7,2,1],[0,1,2,8,2],[4,3,7,8,7],[6,9,8,9,3],[3,8,3,1,5]])\n",
    "# A = np.array([[8,8,4,1,1,7],[1,4,8,5,8,1],[8,7,3,8,5,1],[4,1,1,9,9,1],[0,5,7,3,0,0],[3,1,1,0,0,0]])\n",
    "A = np.array([[2,1,0],[1,3,1],[0,1,4]])\n",
    "# row = 6\n",
    "# col = 6\n",
    "# A = np.random.randint(10,size=(row,col))\n",
    "A1 = A\n",
    "A2 = A1\n",
    "row,col = A.shape\n",
    "print(row)\n",
    "print(A)"
   ]
  },
  {
   "cell_type": "code",
   "execution_count": 3,
   "metadata": {},
   "outputs": [],
   "source": [
    "# Initialize G list\n",
    "G_lst = []\n",
    "Q = np.eye(row)"
   ]
  },
  {
   "cell_type": "code",
   "execution_count": 4,
   "metadata": {},
   "outputs": [
    {
     "name": "stdout",
     "output_type": "stream",
     "text": [
      "[[2.23606798 2.23606798 0.4472136 ]\n",
      " [0.         2.44948974 2.44948974]\n",
      " [0.         0.         3.28633535]]\n",
      "[[ 0.89442719  0.40824829  0.18257419]\n",
      " [-0.4472136   0.81649658  0.36514837]\n",
      " [ 0.         -0.40824829  0.91287093]]\n"
     ]
    }
   ],
   "source": [
    "for j in range(0,row-1):\n",
    "    for i in range(j+1,row):\n",
    "        # Initialize Given Rotation Matrix\n",
    "        G = np.eye(row)\n",
    "\n",
    "        # Initialize variables\n",
    "        x = A[j,j]\n",
    "        y = A[i,j]\n",
    "        r = np.sqrt(x**2 + y**2)\n",
    "        \n",
    "        r1 = np.linalg.norm(A[j:i,j])\n",
    "\n",
    "        cos_t = x/r\n",
    "        sin_t = y/r\n",
    "\n",
    "        G[j,j] = cos_t\n",
    "        G[j,i] = sin_t\n",
    "        G[i,j] = -sin_t\n",
    "        G[i,i] = cos_t\n",
    "            \n",
    "        G_lst.append(G)\n",
    "        \n",
    "        Q = np.dot(Q,G)\n",
    "\n",
    "        A = np.dot(G,A)\n",
    "\n",
    "# A5 = A\n",
    "# A5[5,5] = A5[5,5] * -1\n",
    "print(A)\n",
    "print(Q)    "
   ]
  },
  {
   "cell_type": "code",
   "execution_count": 5,
   "metadata": {},
   "outputs": [],
   "source": [
    "# # Initialize variables\n",
    "# x = A[4,4]\n",
    "# y = A[5,4]\n",
    "# r = np.sqrt(x**2 + y**2)\n",
    "\n",
    "# cos_t = x/r\n",
    "# sin_t = y/r\n",
    "\n",
    "# # Initialize Given Rotation Matrix\n",
    "# G7 = np.eye(row)\n",
    "# # # Setup given rotation matrix\n",
    "# # rotation = np.array([[cos_t,sin_t],[-sin_t,cos_t]])\n",
    "# # G6[2:5,2:5] = rotation\n",
    "\n",
    "# G7 = np.eye(row)\n",
    "# G7[4,4] = cos_t\n",
    "# G7[5,4] = sin_t\n",
    "# G7[4,5] = -sin_t\n",
    "# G7[5,5] = cos_t\n",
    "# print(G7)\n",
    "# G_lst.append(G7)\n",
    "\n",
    "# G_lst.append(G7)\n",
    "\n",
    "# A7 = np.dot(G7,A)\n"
   ]
  },
  {
   "cell_type": "code",
   "execution_count": 6,
   "metadata": {},
   "outputs": [
    {
     "name": "stdout",
     "output_type": "stream",
     "text": [
      "[[ 0.89442719 -0.40824829  0.18257419]\n",
      " [ 0.4472136   0.81649658 -0.36514837]\n",
      " [ 0.          0.40824829  0.91287093]]\n"
     ]
    }
   ],
   "source": [
    "#Q\n",
    "G_lst_len = len(G_lst)\n",
    "G_lst = np.array(G_lst)\n",
    "# Q_mat = np.dot(G1.T,np.dot(G2.T,G3.T))\n",
    "Q_mat = G_lst[0].T\n",
    "for i in range(1,G_lst_len):\n",
    "#     print(Q_mat)\n",
    "    Q_mat = Q_mat.dot(G_lst[i].T)\n",
    "print(Q_mat)"
   ]
  },
  {
   "cell_type": "code",
   "execution_count": 7,
   "metadata": {},
   "outputs": [
    {
     "name": "stdout",
     "output_type": "stream",
     "text": [
      "[[2.23606798 2.23606798 0.4472136 ]\n",
      " [0.         2.44948974 2.44948974]\n",
      " [0.         0.         3.28633535]]\n"
     ]
    }
   ],
   "source": [
    "print(A)"
   ]
  },
  {
   "cell_type": "code",
   "execution_count": 8,
   "metadata": {},
   "outputs": [
    {
     "name": "stdout",
     "output_type": "stream",
     "text": [
      "[[ 2.00000000e+00  1.00000000e+00 -4.35113307e-17]\n",
      " [ 1.00000000e+00  3.00000000e+00  1.00000000e+00]\n",
      " [ 0.00000000e+00  1.00000000e+00  4.00000000e+00]]\n"
     ]
    }
   ],
   "source": [
    "B = np.dot(Q_mat,A)\n",
    "print(B)"
   ]
  },
  {
   "cell_type": "code",
   "execution_count": 9,
   "metadata": {},
   "outputs": [
    {
     "name": "stdout",
     "output_type": "stream",
     "text": [
      "[[ 2.00000000e+00  1.00000000e+00 -4.35113307e-17]\n",
      " [ 1.00000000e+00  3.00000000e+00  1.00000000e+00]\n",
      " [ 0.00000000e+00  1.00000000e+00  4.00000000e+00]]\n"
     ]
    }
   ],
   "source": [
    "Z = A\n",
    "# Z[5,5] = Z[5,5] * -1\n",
    "# print(Z)\n",
    "Y = np.dot(Q_mat,Z)\n",
    "print(Y)"
   ]
  },
  {
   "cell_type": "code",
   "execution_count": 10,
   "metadata": {},
   "outputs": [],
   "source": [
    "def QR_Givens(A):\n",
    "    # Initialize G list\n",
    "    G_lst = []\n",
    "    Q = np.eye(row)\n",
    "    \n",
    "    for j in range(0,row-1):\n",
    "        for i in range(j+1,row):\n",
    "            # Initialize Given Rotation Matrix\n",
    "            G = np.eye(row)\n",
    "\n",
    "            # Initialize variables\n",
    "            x = A[j,j]\n",
    "            y = A[i,j]\n",
    "            r = np.sqrt(x**2 + y**2)\n",
    "\n",
    "            r1 = np.linalg.norm(A[j:i,j])\n",
    "\n",
    "            cos_t = x/r\n",
    "            sin_t = y/r\n",
    "\n",
    "            G[j,j] = cos_t\n",
    "            G[j,i] = sin_t\n",
    "            G[i,j] = -sin_t\n",
    "            G[i,i] = cos_t\n",
    "\n",
    "            G_lst.append(G)\n",
    "\n",
    "            Q = np.dot(Q,G)\n",
    "\n",
    "            A = np.dot(G,A)\n",
    "            \n",
    "    #Q\n",
    "    G_lst_len = len(G_lst)\n",
    "    G_lst = np.array(G_lst)\n",
    "    # Q_mat = np.dot(G1.T,np.dot(G2.T,G3.T))\n",
    "    Q_mat = G_lst[0].T\n",
    "    for i in range(1,G_lst_len):\n",
    "    #     print(Q_mat)\n",
    "        Q_mat = Q_mat.dot(G_lst[i].T)\n",
    "#     print(Q_mat)\n",
    "\n",
    "    return Q_mat,A\n",
    "\n",
    " "
   ]
  },
  {
   "cell_type": "code",
   "execution_count": 11,
   "metadata": {},
   "outputs": [
    {
     "name": "stdout",
     "output_type": "stream",
     "text": [
      "[[ 0.89442719 -0.40824829  0.18257419]\n",
      " [ 0.4472136   0.81649658 -0.36514837]\n",
      " [ 0.          0.40824829  0.91287093]]\n",
      "[[2.23606798 2.23606798 0.4472136 ]\n",
      " [0.         2.44948974 2.44948974]\n",
      " [0.         0.         3.28633535]]\n"
     ]
    }
   ],
   "source": [
    "A = np.array([[2,1,0],[1,3,1],[0,1,4]])\n",
    "Q,R = QR_Givens(A)\n",
    "print(Q)\n",
    "print(R)"
   ]
  },
  {
   "cell_type": "code",
   "execution_count": 12,
   "metadata": {},
   "outputs": [],
   "source": [
    "C = np.array([[2,1,0],[1,3,1],[0,1,4]])\n",
    "Q,R = QR_Givens(C)"
   ]
  },
  {
   "cell_type": "code",
   "execution_count": 13,
   "metadata": {},
   "outputs": [],
   "source": [
    "A = np.array([[2,1,0],[1,3,1],[0,1,4]])\n",
    "pQ = np.eye(A.shape[0])\n",
    "X=A.copy()\n",
    "for i in range(100):\n",
    "        Q,R = QR_Givens(X)\n",
    "        pQ = pQ.dot(Q)\n",
    "        X = R.dot(Q)"
   ]
  },
  {
   "cell_type": "code",
   "execution_count": 14,
   "metadata": {},
   "outputs": [
    {
     "name": "stdout",
     "output_type": "stream",
     "text": [
      "[[ 4.73205081e+00 -3.57859052e-16  4.15586463e-16]\n",
      " [ 7.62491445e-20  3.00000000e+00  1.38493730e-16]\n",
      " [-1.27072545e-71  1.87546546e-37  1.26794919e+00]]\n",
      "[[ 0.21132487 -0.57735027  0.78867513]\n",
      " [ 0.57735027 -0.57735027 -0.57735027]\n",
      " [ 0.78867513  0.57735027  0.21132487]]\n"
     ]
    }
   ],
   "source": [
    "print(X)\n",
    "print(pQ)"
   ]
  },
  {
   "cell_type": "code",
   "execution_count": 15,
   "metadata": {},
   "outputs": [
    {
     "name": "stdout",
     "output_type": "stream",
     "text": [
      "[1.26794919 3.         4.73205081]\n",
      "[[-0.78867513 -0.57735027  0.21132487]\n",
      " [ 0.57735027 -0.57735027  0.57735027]\n",
      " [-0.21132487  0.57735027  0.78867513]]\n"
     ]
    }
   ],
   "source": [
    "w,v = np.linalg.eig(A)\n",
    "print(w)\n",
    "print(v)"
   ]
  },
  {
   "cell_type": "code",
   "execution_count": 16,
   "metadata": {},
   "outputs": [],
   "source": [
    "def QR_eig(A):\n",
    "    pQ = np.eye(A.shape[0])\n",
    "    X=A.copy()\n",
    "    for i in range(100):\n",
    "            Q,R = QR_Givens(X)\n",
    "            pQ = pQ.dot(Q)\n",
    "            X = R.dot(Q)\n",
    "            \n",
    "                \n",
    "    return pQ,X"
   ]
  },
  {
   "cell_type": "code",
   "execution_count": 17,
   "metadata": {},
   "outputs": [
    {
     "name": "stdout",
     "output_type": "stream",
     "text": [
      "[[ 0.21132487 -0.57735027  0.78867513]\n",
      " [ 0.57735027 -0.57735027 -0.57735027]\n",
      " [ 0.78867513  0.57735027  0.21132487]]\n",
      "[[ 4.73205081e+00 -3.57859052e-16  4.15586463e-16]\n",
      " [ 7.62491445e-20  3.00000000e+00  1.38493730e-16]\n",
      " [-1.27072545e-71  1.87546546e-37  1.26794919e+00]]\n"
     ]
    }
   ],
   "source": [
    "Q,R = QR_eig(A)\n",
    "print(Q)\n",
    "print(R)\n",
    "\n",
    "# Q,R = QR_Givens(A)\n",
    "# print(Q)\n",
    "# print(R)\n",
    "# A2 = Q.dot(R)\n",
    "# print(A2)"
   ]
  },
  {
   "cell_type": "code",
   "execution_count": 18,
   "metadata": {},
   "outputs": [
    {
     "name": "stdout",
     "output_type": "stream",
     "text": [
      "[[ 0.89442719 -0.40824829  0.18257419]\n",
      " [ 0.4472136   0.81649658 -0.36514837]\n",
      " [ 0.          0.40824829  0.91287093]]\n",
      "[[2.23606798 2.23606798 0.4472136 ]\n",
      " [0.         2.44948974 2.44948974]\n",
      " [0.         0.         3.28633535]]\n",
      "[[ 2.00000000e+00  1.00000000e+00 -4.35113307e-17]\n",
      " [ 1.00000000e+00  3.00000000e+00  1.00000000e+00]\n",
      " [ 0.00000000e+00  1.00000000e+00  4.00000000e+00]]\n"
     ]
    }
   ],
   "source": [
    "Q,R = QR_Givens(A)\n",
    "print(Q)\n",
    "print(R)\n",
    "AA = Q.dot(R)\n",
    "print(AA)"
   ]
  },
  {
   "cell_type": "code",
   "execution_count": null,
   "metadata": {},
   "outputs": [],
   "source": []
  }
 ],
 "metadata": {
  "kernelspec": {
   "display_name": "Python 3 (ipykernel)",
   "language": "python",
   "name": "python3"
  },
  "language_info": {
   "codemirror_mode": {
    "name": "ipython",
    "version": 3
   },
   "file_extension": ".py",
   "mimetype": "text/x-python",
   "name": "python",
   "nbconvert_exporter": "python",
   "pygments_lexer": "ipython3",
   "version": "3.9.7"
  }
 },
 "nbformat": 4,
 "nbformat_minor": 4
}
