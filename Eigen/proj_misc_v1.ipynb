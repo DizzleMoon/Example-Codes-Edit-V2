{
 "cells": [
  {
   "cell_type": "code",
   "execution_count": 9,
   "metadata": {},
   "outputs": [],
   "source": [
    "%matplotlib inline\n",
    "import numpy as np\n",
    "np.set_printoptions(linewidth=np.inf)\n",
    "np.set_printoptions(precision=7)\n",
    "import matplotlib.pyplot as plt\n",
    "import math \n",
    "import pandas as pd\n",
    "from numpy import linalg as LA\n",
    "from sympy import * "
   ]
  },
  {
   "cell_type": "code",
   "execution_count": 10,
   "metadata": {},
   "outputs": [
    {
     "name": "stdout",
     "output_type": "stream",
     "text": [
      "[[2.  0.8]\n",
      " [0.8 0.6]]\n",
      "[-1  1]\n",
      "[-1.2 -0.2]\n",
      "1.48\n",
      "[array([[-1.776, -0.296],\n",
      "       [-1.776, -0.296]]), array([[-1.776, -1.776],\n",
      "       [-0.296, -0.296]])]\n",
      "[array([[-1.2, -0.2],\n",
      "       [-1.2, -0.2]]), array([[-1.2, -1.2],\n",
      "       [-0.2, -0.2]])]\n"
     ]
    }
   ],
   "source": [
    "sig_a = np.array([[2,0.8],[0.8,0.6]])\n",
    "print(sig_a)\n",
    "\n",
    "vec_sig = np.array([-1,1])\n",
    "print(vec_sig)\n",
    "vec_sig_2 = np.array([-1.2,-0.2])\n",
    "print(vec_sig_2)\n",
    "\n",
    "\n",
    "vec = sig_a.dot(vec_sig).dot(vec_sig_2)\n",
    "print(vec)\n",
    "\n",
    "vec_2 = sig_a.dot(vec)\n",
    "print(np.gradient(vec_2))\n",
    "\n",
    "# vec_len = vec_sig.dot(vec)/np.linalg.norm(vec)\n",
    "# print(vec_len)\n",
    "\n",
    "# vec_len = (vec[0])/np.linalg.norm(vec)\n",
    "# print(vec_len)\n",
    "\n",
    "# vec_full_len = np.linalg.norm(vec_len)\n",
    "# print(vec_full_len)\n",
    "\n",
    "\n",
    "\n",
    "# print(np.dot(vec[0].vec[1]))\n",
    "\n",
    "print(np.gradient(sig_a))"
   ]
  },
  {
   "cell_type": "code",
   "execution_count": null,
   "metadata": {},
   "outputs": [],
   "source": []
  },
  {
   "cell_type": "code",
   "execution_count": 11,
   "metadata": {},
   "outputs": [
    {
     "name": "stdout",
     "output_type": "stream",
     "text": [
      "[[2.  0.8]\n",
      " [0.8 0.6]]\n",
      "[[4.64 2.08]\n",
      " [2.08 1.  ]]\n"
     ]
    },
    {
     "data": {
      "text/plain": [
       "array([[0.8421519, 0.3368608],\n",
       "       [0.3368608, 0.2526456]])"
      ]
     },
     "execution_count": 11,
     "metadata": {},
     "output_type": "execute_result"
    }
   ],
   "source": [
    "sig_a = np.array([[2,0.8],[0.8,0.6]])\n",
    "print(sig_a)\n",
    "\n",
    "vec_sig_2 = sig_a\n",
    "veg_sig_2 = np.array([-2.5,-1.0])\n",
    "\n",
    "vec_fin = sig_a.dot(sig_a)\n",
    "print(vec_fin)\n",
    "sig_a/np.linalg.norm(sig_a)"
   ]
  },
  {
   "cell_type": "code",
   "execution_count": 12,
   "metadata": {},
   "outputs": [
    {
     "name": "stdout",
     "output_type": "stream",
     "text": [
      "0.1666666666666667\n",
      "0.46666666666666656\n"
     ]
    }
   ],
   "source": [
    "x = np.array([2.,0.8])\n",
    "y = np.array([0.8,0.6])\n",
    "\n",
    "m,b = np.polyfit(x,y,1)\n",
    "print(m)\n",
    "print(b)\n",
    "# print(c)\n"
   ]
  },
  {
   "cell_type": "code",
   "execution_count": 13,
   "metadata": {},
   "outputs": [
    {
     "data": {
      "text/plain": [
       "[array([[-1.2, -0.2],\n",
       "        [-1.2, -0.2]]),\n",
       " array([[-1.2, -1.2],\n",
       "        [-0.2, -0.2]])]"
      ]
     },
     "execution_count": 13,
     "metadata": {},
     "output_type": "execute_result"
    }
   ],
   "source": [
    "sig_a_grad = np.gradient([[2,0.8],[0.8,0.6]])\n",
    "sig_a_grad"
   ]
  },
  {
   "cell_type": "code",
   "execution_count": 14,
   "metadata": {},
   "outputs": [
    {
     "name": "stdout",
     "output_type": "stream",
     "text": [
      "-0.04109589041095903\n"
     ]
    }
   ],
   "source": [
    "from statistics import mean\n",
    "import numpy as np\n",
    "\n",
    "# xs = np.array([1,2,3,4,5], dtype=np.float64)\n",
    "# ys = np.array([5,4,6,5,6], dtype=np.float64)\n",
    "\n",
    "xs = np.array([2.,0.8])\n",
    "ys = np.array([0.8,0.6])\n",
    "\n",
    "def best_fit_slope(xs,ys):\n",
    "    m = (((mean(xs)*mean(ys)) - mean(xs*ys)) /\n",
    "         ((mean(xs)**2) - mean(ys**2)))\n",
    "    return m\n",
    "\n",
    "m = best_fit_slope(xs,ys)\n",
    "print(m)"
   ]
  }
 ],
 "metadata": {
  "kernelspec": {
   "display_name": "Python 3 (ipykernel)",
   "language": "python",
   "name": "python3"
  },
  "language_info": {
   "codemirror_mode": {
    "name": "ipython",
    "version": 3
   },
   "file_extension": ".py",
   "mimetype": "text/x-python",
   "name": "python",
   "nbconvert_exporter": "python",
   "pygments_lexer": "ipython3",
   "version": "3.9.7"
  }
 },
 "nbformat": 4,
 "nbformat_minor": 4
}
