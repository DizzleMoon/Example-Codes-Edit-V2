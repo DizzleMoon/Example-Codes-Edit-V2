{
 "cells": [
  {
   "cell_type": "code",
   "execution_count": 1,
   "metadata": {},
   "outputs": [],
   "source": [
    "%matplotlib inline\n",
    "import numpy as np\n",
    "np.set_printoptions(linewidth=np.inf)\n",
    "import matplotlib.pyplot as plt\n",
    "import math \n",
    "import pandas as pd\n",
    "from numpy import linalg as LA"
   ]
  },
  {
   "cell_type": "code",
   "execution_count": 2,
   "metadata": {},
   "outputs": [],
   "source": [
    "# span = np.array([[1,2,3],[-1,1,1],[1,1,1],[1,1,1]])\n",
    "# print(span)\n",
    "# A1 = span"
   ]
  },
  {
   "cell_type": "code",
   "execution_count": 3,
   "metadata": {},
   "outputs": [
    {
     "name": "stdout",
     "output_type": "stream",
     "text": [
      "[[5 4 0]\n",
      " [1 3 7]\n",
      " [5 1 7]]\n"
     ]
    }
   ],
   "source": [
    "row = 3\n",
    "col = 3\n",
    "span = np.random.randint(10,size=(row,col))\n",
    "print(span)\n",
    "A1 = span\n",
    "A2 = A1"
   ]
  },
  {
   "cell_type": "code",
   "execution_count": 4,
   "metadata": {},
   "outputs": [
    {
     "data": {
      "text/plain": [
       "3"
      ]
     },
     "execution_count": 4,
     "metadata": {},
     "output_type": "execute_result"
    }
   ],
   "source": [
    "row,col = span.shape\n",
    "row"
   ]
  },
  {
   "cell_type": "code",
   "execution_count": 5,
   "metadata": {},
   "outputs": [],
   "source": [
    "# v1 = span[:,0]\n",
    "# v2 = span[:,1]\n",
    "# v3 = span[:,2]\n",
    "# v4 = span[:,3]\n",
    "# v5 = span[:,4]"
   ]
  },
  {
   "cell_type": "code",
   "execution_count": 6,
   "metadata": {},
   "outputs": [],
   "source": [
    "# Setup arrays\n",
    "# Original Values\n",
    "vector = []\n",
    "# Normalized Values\n",
    "vec_norm = []"
   ]
  },
  {
   "cell_type": "code",
   "execution_count": 7,
   "metadata": {},
   "outputs": [
    {
     "name": "stdout",
     "output_type": "stream",
     "text": [
      "[5 1 5]\n",
      "51.00000000000001\n",
      "[0.70014004 0.14002801 0.70014004]\n"
     ]
    }
   ],
   "source": [
    "# First Column\n",
    "\n",
    "v1 = span[:,0]\n",
    "vec_1 = v1\n",
    "print(vec_1)\n",
    "vector.append(vec_1)\n",
    "\n",
    "# Test\n",
    "v1_scale = np.square(np.linalg.norm(vec_1))\n",
    "print(v1_scale)\n",
    "\n",
    "v1 = np.multiply(1/np.sqrt(v1_scale),vec_1)\n",
    "print(v1)\n",
    "vec_norm.append(v1)\n"
   ]
  },
  {
   "cell_type": "code",
   "execution_count": 8,
   "metadata": {},
   "outputs": [],
   "source": [
    "def QR(span): \n",
    "    \n",
    "    # Copy matrix\n",
    "    A1 = span\n",
    "    \n",
    "    # Size of array\n",
    "    row,col = span.shape\n",
    "    \n",
    "    # Setup arrays\n",
    "    # Original Values\n",
    "    vector = []\n",
    "    # Normalized Values\n",
    "    vec_norm = []\n",
    "    \n",
    "    # First Column\n",
    "    v1 = span[:,0]\n",
    "    vec_1 = v1\n",
    "#     print(vec_1)\n",
    "    vector.append(vec_1)\n",
    "\n",
    "    # Test\n",
    "    v1_scale = np.square(np.linalg.norm(vec_1))\n",
    "#     print(v1_scale)\n",
    "\n",
    "    v1 = np.multiply(1/np.sqrt(v1_scale),vec_1)\n",
    "#     print(v1)\n",
    "    vec_norm.append(v1)     \n",
    "\n",
    "    # Subsequent Columns\n",
    "\n",
    "    start = 1\n",
    "    end = col\n",
    "\n",
    "    for i in range(start,end):\n",
    "        \n",
    "        # Initialize vectors\n",
    "        length = []\n",
    "        projection = []\n",
    "        project = []\n",
    "\n",
    "        # Columns\n",
    "        v = span[:,i]\n",
    "\n",
    "        for i in vector:\n",
    "            leng = np.dot(i,v)\n",
    "            length.append(leng)\n",
    "            proj_0 = np.dot(i,i)\n",
    "            projection.append(proj_0)\n",
    "            proj_1 = leng/proj_0\n",
    "            project.append(proj_1)\n",
    "\n",
    "#         print(length)\n",
    "#         print(projection)\n",
    "#         print(project)\n",
    "        \n",
    "        # Factorization\n",
    "        a = min(projection)\n",
    "#         print('a:',a)\n",
    "\n",
    "        # QR equation\n",
    "        vec_0 = 0\n",
    "        vec_1 = np.multiply(a,v)\n",
    "        for i in range(len(vector)):\n",
    "            vec_0 = vec_0 - np.multiply(project[i]*a,vector[i])\n",
    "\n",
    "        vect_0 = vec_1 + vec_0    \n",
    "#         print(vect_0)\n",
    "        vector.append(vect_0)\n",
    "\n",
    "        # Scaling vector    \n",
    "        # Scale\n",
    "        v_scale = np.square(np.linalg.norm(vect_0))\n",
    "#         print(v_scale)\n",
    "\n",
    "        v_norm = np.multiply(1/np.sqrt(v_scale + 1e-15),vect_0)\n",
    "#         print(v_norm)\n",
    "\n",
    "        v = v_norm\n",
    "        vec_norm.append(v_norm)\n",
    "#         print('v norm:', v_norm)\n",
    "#         print('\\n')\n",
    "#         print(vector)\n",
    "#         print('\\n')\n",
    "#         print(vec_norm)\n",
    "#         print('\\n')\n",
    "#         print(np.array(vec_norm).T)\n",
    "        \n",
    "    # Calculate R\n",
    "    # Q matrix\n",
    "    Q = np.array(vec_norm)\n",
    "    # A1 = np.multiply(1,A1)\n",
    "    R = np.dot(Q,A1)\n",
    "#     print(R)\n",
    "    \n",
    "    return Q.T,R\n"
   ]
  },
  {
   "cell_type": "code",
   "execution_count": 9,
   "metadata": {},
   "outputs": [],
   "source": [
    "# Function\n",
    "Q,R = QR(A1)"
   ]
  },
  {
   "cell_type": "code",
   "execution_count": 10,
   "metadata": {},
   "outputs": [
    {
     "name": "stdout",
     "output_type": "stream",
     "text": [
      "[[ 0.70014004  0.38494195 -0.60135149]\n",
      " [ 0.14002801  0.75183975  0.64430517]\n",
      " [ 0.70014004 -0.5353099   0.47249046]]\n",
      "\n",
      "\n",
      "[[ 7.14142843e+00  3.92078424e+00  5.88117635e+00]\n",
      " [-1.88737914e-15  3.25997714e+00  1.51570893e+00]\n",
      " [-5.55111512e-17  6.10622664e-16  7.81756939e+00]]\n"
     ]
    }
   ],
   "source": [
    "print(Q)\n",
    "print(\"\\n\")\n",
    "print(R)"
   ]
  },
  {
   "cell_type": "code",
   "execution_count": 11,
   "metadata": {},
   "outputs": [],
   "source": [
    "# # Calculate R\n",
    "# Q = vec_norm\n",
    "# # A1 = np.multiply(1,A1)\n",
    "# R = np.dot(Q,A1)\n",
    "# print(R)"
   ]
  },
  {
   "cell_type": "code",
   "execution_count": 12,
   "metadata": {},
   "outputs": [],
   "source": [
    "\n",
    "# for _ in range(20):\n",
    "#     Q,R = QR(A2)\n",
    "#     Q = np.array(Q)\n",
    "#     R = np.array(R)\n",
    "#     A2 = np.dot(Q.T,np.dot(A2,Q))\n",
    "    \n",
    "# print(A2)"
   ]
  },
  {
   "cell_type": "code",
   "execution_count": 13,
   "metadata": {},
   "outputs": [
    {
     "name": "stdout",
     "output_type": "stream",
     "text": [
      "[11.06372731  2.06762586  1.86864682]\n",
      "[[ 0.41277721 -0.83094606 -0.3730196 ]\n",
      " [ 0.62574211  0.55629953 -0.54678848]\n",
      " [ 0.66186236 -0.00771225  0.74958571]]\n"
     ]
    }
   ],
   "source": [
    "pQ = np.eye(row)\n",
    "X = A2\n",
    "for i in range(100):\n",
    "        Q,R = QR(X)\n",
    "        pQ = pQ @ Q\n",
    "        X = R @ Q\n",
    "print(np.diag(X))\n",
    "print(pQ)"
   ]
  },
  {
   "cell_type": "code",
   "execution_count": 14,
   "metadata": {},
   "outputs": [
    {
     "name": "stdout",
     "output_type": "stream",
     "text": [
      "[11.06372731+0.j          1.96813634+3.54634907j  1.96813634-3.54634907j]\n",
      "[[-0.41277721+0.j         -0.38450594-0.44975383j -0.38450594+0.44975383j]\n",
      " [-0.62574211+0.j          0.69018842+0.j          0.69018842-0.j        ]\n",
      " [-0.66186236+0.j         -0.04681063+0.4139147j  -0.04681063-0.4139147j ]]\n"
     ]
    }
   ],
   "source": [
    "w,v = LA.eig(A2)\n",
    "print(w)\n",
    "print(v)"
   ]
  },
  {
   "cell_type": "code",
   "execution_count": 15,
   "metadata": {},
   "outputs": [],
   "source": [
    "B = np.array([[1,2,3],[3,2,1],[1,0,-1]])\n",
    "B_diag = np.diag(B)\n"
   ]
  },
  {
   "cell_type": "code",
   "execution_count": 16,
   "metadata": {},
   "outputs": [],
   "source": [
    "# for _ in range(20):\n",
    "#     Q,R = QR(B)\n",
    "#     Q = np.array(Q)\n",
    "#     R = np.array(R)\n",
    "#     B = np.dot(R,Q)\n",
    "# #     B = np.dot(Q.T,np.dot(B,Q))\n",
    "# B"
   ]
  },
  {
   "cell_type": "code",
   "execution_count": 17,
   "metadata": {},
   "outputs": [
    {
     "data": {
      "text/plain": [
       "array([ 4.31662479e+00, -2.31662479e+00,  2.13869201e-17])"
      ]
     },
     "execution_count": 17,
     "metadata": {},
     "output_type": "execute_result"
    }
   ],
   "source": [
    "w,v = np.linalg.eig(B)\n",
    "w"
   ]
  },
  {
   "cell_type": "code",
   "execution_count": 18,
   "metadata": {},
   "outputs": [
    {
     "name": "stdout",
     "output_type": "stream",
     "text": [
      "[[ 1  2  3]\n",
      " [ 3  2  1]\n",
      " [ 1  0 -1]]\n",
      "[ 4.3166237 -2.3166237  0.       ]\n"
     ]
    }
   ],
   "source": [
    "# a = np.array([[0, 2], \n",
    "#               [2, 3]])\n",
    "# p = [1, 5, 10, 20]\n",
    "print(B)\n",
    "for i in range(20):\n",
    "    q, r = QR(B)\n",
    "    q = np.array(q)\n",
    "    B = np.dot(r,q)\n",
    "#     B = np.dot(q.T,np.dot(B,q))\n",
    "#     if i+1 in p:\n",
    "#         print(f'Iteration {i+1}:')\n",
    "#         print(A2)\n",
    "        \n",
    "A2_diag = np.diag(B)\n",
    "print(A2_diag)"
   ]
  },
  {
   "cell_type": "code",
   "execution_count": 19,
   "metadata": {},
   "outputs": [],
   "source": [
    "# C = np.array([[2,1,0],[1,3,1],[0,1,4]])\n",
    "# C1 = C\n",
    "# print(C)\n",
    "# # q,r = QR(C)\n",
    "# pQ = np.eye(C.shape[1])\n",
    "# for _ in range(100):\n",
    "#     q,r = QR(C)\n",
    "#     pQ = pQ@q\n",
    "#     C = np.dot(r,q)\n",
    "\n",
    "# # print(q)\n",
    "\n",
    "# C_diag = np.diag(C)\n",
    "# print(C_diag)\n",
    "# print('\\n')\n",
    "# print(pQ)"
   ]
  },
  {
   "cell_type": "code",
   "execution_count": 20,
   "metadata": {},
   "outputs": [],
   "source": [
    "# pQ = np.eye(C.shape[0])\n",
    "# for i in range(100):\n",
    "#     Q,R = QR(C)\n",
    "#     C = R@Q\n",
    "#     pQ = pQ@Q\n",
    "    \n",
    "# print(np.diag(C))\n",
    "# print(pQ)"
   ]
  },
  {
   "cell_type": "code",
   "execution_count": 21,
   "metadata": {},
   "outputs": [
    {
     "name": "stdout",
     "output_type": "stream",
     "text": [
      "[4.73205081 3.         1.26794919]\n",
      "[[ 0.21132487 -0.57735027  0.78867513]\n",
      " [ 0.57735027 -0.57735027 -0.57735027]\n",
      " [ 0.78867513  0.57735027  0.21132487]]\n"
     ]
    }
   ],
   "source": [
    "# C = np.array([[2,1,1],[1,3,2],[1,0,0]])\n",
    "C = np.array([[2,1,0],[1,3,1],[0,1,4]])\n",
    "C11 = C\n",
    "\n",
    "# Q,R = np.linalg.qr(C)\n",
    "# print(Q)\n",
    "\n",
    "# Q,R = QR(C)\n",
    "# print(Q)\n",
    "\n",
    "# p_eye = np.eye(C.shape[0])\n",
    "# for _ in range(100):\n",
    "#     Q,R = QR(C)\n",
    "#     p_eye = np.dot(p_eye,Q)\n",
    "#     C = np.dot(R,Q)\n",
    "\n",
    "    \n",
    "# print(np.diag(C))\n",
    "# print(p_eye)\n",
    "\n",
    "pQ = np.eye(C.shape[0])\n",
    "X=C.copy()\n",
    "X1 = C.copy()\n",
    "for i in range(100):\n",
    "        Q,R = QR(X)\n",
    "        Q = np.array(Q)\n",
    "        pQ = np.dot(pQ,Q)\n",
    "        X = np.matmul(R,Q)\n",
    "        \n",
    "print(np.diag(X))\n",
    "print(pQ)"
   ]
  },
  {
   "cell_type": "code",
   "execution_count": 22,
   "metadata": {},
   "outputs": [
    {
     "name": "stdout",
     "output_type": "stream",
     "text": [
      "[1.26794919 3.         4.73205081]\n",
      "[[-0.78867513 -0.57735027  0.21132487]\n",
      " [ 0.57735027 -0.57735027  0.57735027]\n",
      " [-0.21132487  0.57735027  0.78867513]]\n"
     ]
    }
   ],
   "source": [
    "w,v = np.linalg.eig(X1)\n",
    "print(w)\n",
    "print(v)"
   ]
  },
  {
   "cell_type": "code",
   "execution_count": 23,
   "metadata": {},
   "outputs": [],
   "source": [
    "# p_eye = np.eye(C1.shape[0])\n",
    "# print(p_eye)\n",
    "# print(w)\n",
    "# i_eye = np.multiply(w,p_eye)\n",
    "# i_eye"
   ]
  },
  {
   "cell_type": "code",
   "execution_count": 24,
   "metadata": {},
   "outputs": [],
   "source": [
    "# M = C1 - i_eye\n",
    "# M"
   ]
  },
  {
   "cell_type": "code",
   "execution_count": 25,
   "metadata": {},
   "outputs": [],
   "source": [
    "# pQ = np.eye(C1.shape[0])\n",
    "# X=X1=C1.copy()\n",
    "# for i in range(100):\n",
    "#         Q,R = np.linalg.qr(X)\n",
    "#         pQ = pQ @ Q;\n",
    "#         X = R @ Q;"
   ]
  },
  {
   "cell_type": "code",
   "execution_count": 26,
   "metadata": {},
   "outputs": [],
   "source": [
    "# print(pQ)\n",
    "# print(np.diag(X))"
   ]
  },
  {
   "cell_type": "code",
   "execution_count": 27,
   "metadata": {},
   "outputs": [],
   "source": [
    "# w,v = np.linalg.eig(X1)\n",
    "# print(w)\n",
    "# print(v)"
   ]
  },
  {
   "cell_type": "code",
   "execution_count": 28,
   "metadata": {},
   "outputs": [
    {
     "data": {
      "text/plain": [
       "array([[ 7.18679344e+00,  3.93777840e-01,  6.79301560e+00],\n",
       "       [ 3.36300722e-17,  6.50729890e+00,  4.64786718e+00],\n",
       "       [-1.37898911e-14,  9.58493347e-15,  1.49230392e-01]])"
      ]
     },
     "execution_count": 28,
     "metadata": {},
     "output_type": "execute_result"
    }
   ],
   "source": [
    "D = np.array([[5.4,4,7.7],[3.5,-0.7,2.8],[-3.2,5.1,0.8]])\n",
    "D_q,D_r = QR(D)\n",
    "D_q\n",
    "D_r"
   ]
  },
  {
   "cell_type": "code",
   "execution_count": 29,
   "metadata": {},
   "outputs": [
    {
     "name": "stdout",
     "output_type": "stream",
     "text": [
      "[[ 5.91913923e+00 -8.04869569e+00  3.96727603e+00]\n",
      " [ 6.96635182e-65 -1.31545206e+00 -6.62036393e+00]\n",
      " [-1.42673563e-82  1.26846839e-17  8.96312838e-01]]\n",
      "[[ 0.8988889  -0.32577813 -0.29303132]\n",
      " [ 0.41069247  0.39327346  0.82259813]\n",
      " [-0.15274304 -0.85977009  0.48730377]]\n"
     ]
    }
   ],
   "source": [
    "pQ = np.eye(D.shape[0])\n",
    "X=D1=D.copy()\n",
    "for i in range(100):\n",
    "        Q,R = np.linalg.qr(X)\n",
    "        pQ = pQ @ Q\n",
    "        X = R @ Q\n",
    "print(X)\n",
    "print(pQ)"
   ]
  },
  {
   "cell_type": "code",
   "execution_count": 30,
   "metadata": {},
   "outputs": [
    {
     "name": "stdout",
     "output_type": "stream",
     "text": [
      "[ 5.91913923 -1.31545206  0.89631284]\n",
      "[[ 0.8988889  -0.32577813 -0.29303132]\n",
      " [ 0.41069247  0.39327346  0.82259813]\n",
      " [-0.15274304 -0.85977009  0.48730377]]\n"
     ]
    }
   ],
   "source": [
    "for i in range(100):\n",
    "        Q,R = QR(X)\n",
    "        pQ = pQ @ Q.T\n",
    "        X = R @ Q\n",
    "print(np.diag(X))\n",
    "print(pQ)"
   ]
  },
  {
   "cell_type": "code",
   "execution_count": 31,
   "metadata": {},
   "outputs": [
    {
     "name": "stdout",
     "output_type": "stream",
     "text": [
      "[ 5.91913923 -1.31545206  0.89631284]\n",
      "[[ 1.00000000e+00  5.83133238e-14  8.24495364e-14]\n",
      " [-6.78345180e-14  1.00000000e+00  7.47580781e-14]\n",
      " [-1.17656743e-14 -2.08161929e-14  1.00000000e+00]]\n"
     ]
    }
   ],
   "source": [
    "pQ = np.eye(3)\n",
    "for i in range(100):\n",
    "        Q,R = QR(X)\n",
    "        pQ = pQ.dot(Q.T)\n",
    "        X = R.dot(Q)\n",
    "print(np.diag(X))\n",
    "print(pQ)"
   ]
  },
  {
   "cell_type": "code",
   "execution_count": 32,
   "metadata": {},
   "outputs": [
    {
     "data": {
      "text/plain": [
       "(array([ 5.91913923, -1.31545206,  0.89631284]),\n",
       " array([[ 0.8988889 , -0.45073968, -0.67632405],\n",
       "        [ 0.41069247, -0.56834012, -0.41283965],\n",
       "        [-0.15274304,  0.68834821,  0.61004033]]))"
      ]
     },
     "execution_count": 32,
     "metadata": {},
     "output_type": "execute_result"
    }
   ],
   "source": [
    "np.linalg.eig(D1)"
   ]
  },
  {
   "cell_type": "code",
   "execution_count": null,
   "metadata": {},
   "outputs": [],
   "source": []
  }
 ],
 "metadata": {
  "kernelspec": {
   "display_name": "Python 3 (ipykernel)",
   "language": "python",
   "name": "python3"
  },
  "language_info": {
   "codemirror_mode": {
    "name": "ipython",
    "version": 3
   },
   "file_extension": ".py",
   "mimetype": "text/x-python",
   "name": "python",
   "nbconvert_exporter": "python",
   "pygments_lexer": "ipython3",
   "version": "3.9.7"
  }
 },
 "nbformat": 4,
 "nbformat_minor": 4
}
