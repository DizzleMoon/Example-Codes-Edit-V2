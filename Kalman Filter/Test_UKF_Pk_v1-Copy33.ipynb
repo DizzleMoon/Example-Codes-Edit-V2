{
 "cells": [
  {
   "cell_type": "code",
   "execution_count": 11,
   "metadata": {},
   "outputs": [],
   "source": [
    "from typing import List, Dict, Iterable, Tuple, Callable\n",
    "from matplotlib import pyplot as plt\n",
    "from collections import Counter\n",
    "import sys\n",
    "import os\n",
    "import string\n",
    "import urllib.request\n",
    "import requests\n",
    "import curl\n",
    "import pycurl\n",
    "import webbrowser\n",
    "import numpy as np\n",
    "import math\n",
    "import pandas as pd\n",
    "from matplotlib.pyplot import figure\n",
    "from py.xml import raw\n",
    "from requests.api import get\n",
    "from scipy import array, linalg, dot\n",
    "from decimal import Decimal\n",
    "from scipy.special import expit"
   ]
  },
  {
   "cell_type": "code",
   "execution_count": 12,
   "metadata": {},
   "outputs": [],
   "source": [
    "# Constants\n",
    "rho0 = 2\n",
    "g = 32.2\n",
    "k = 2e4\n",
    "R = 10 ** 4\n",
    "Q = np.diag((0,0,0))\n",
    "\n",
    "M = 10 ** 5\n",
    "a = 10 ** 5"
   ]
  },
  {
   "cell_type": "code",
   "execution_count": 13,
   "metadata": {},
   "outputs": [],
   "source": [
    "# Initial variables\n",
    "x_list = [300000, -20000, 0.001]\n",
    "x0 = np.asarray(x_list)[np.newaxis]\n",
    "x0 = np.transpose(x0)\n",
    "xhat = x0\n",
    "xhat_ukf = xhat\n",
    "x_post = x0\n",
    "\n",
    "n = len(x0)\n",
    "# Q = np.zeros((n,n))\n",
    "\n",
    "P_post = np.diag((1e6,4e6,10))\n",
    "P_ukf = P_post\n"
   ]
  },
  {
   "cell_type": "code",
   "execution_count": 14,
   "metadata": {},
   "outputs": [
    {
     "data": {
      "text/plain": [
       "62"
      ]
     },
     "execution_count": 14,
     "metadata": {},
     "output_type": "execute_result"
    }
   ],
   "source": [
    "# Time\n",
    "# Time step\n",
    "Ts = 0.5\n",
    "# Simulation length\n",
    "tf = 31\n",
    "# Time step for integration\n",
    "dt = 0.001\n",
    "# Time vector\n",
    "T_vec = np.arange(0,tf,Ts)\n",
    "T_len = len(T_vec)\n",
    "T_len"
   ]
  },
  {
   "cell_type": "code",
   "execution_count": 15,
   "metadata": {},
   "outputs": [],
   "source": [
    "# Initialize variables\n",
    "xArray = x0\n",
    "xhatArray = xhat\n",
    "xhatArray_ukf = xhat_ukf\n",
    "xhatArray_ukf_2 = []\n",
    "Parray = np.diag(P_post)\n",
    "Parray_ukf = np.diag(P_ukf)\n",
    "xlst_alt = []\n",
    "xlst_vel = []\n",
    "xlst_bal = []\n",
    "xdot_list = []\n",
    "x_post_alt = np.zeros((T_len,2))\n",
    "x_post_alt[0,0:2] = x0[0].T\n",
    "x_post_vel = np.zeros((T_len,2))\n",
    "x_post_vel[0,0:2] = x0[1].T"
   ]
  },
  {
   "cell_type": "code",
   "execution_count": 16,
   "metadata": {},
   "outputs": [],
   "source": [
    "# UKF weights\n",
    "W = np.ones((6,1)) / 6\n"
   ]
  },
  {
   "cell_type": "code",
   "execution_count": 17,
   "metadata": {},
   "outputs": [
    {
     "name": "stdout",
     "output_type": "stream",
     "text": [
      "38022551.56932105\n"
     ]
    }
   ],
   "source": [
    "y = np.zeros((T_len,1))\n",
    "x = np.zeros((T_len,3))\n",
    "x[0,:] = x0.T\n",
    "\n",
    "for b in range(0,2):\n",
    "\n",
    "    for i in range(1,T_len):\n",
    "        # Sigma points\n",
    "        sigma= np.ones((6,3))\n",
    "    #     P_post = P_ukf\n",
    "        pp3 = np.dot(P_post,P_post.T)\n",
    "        pp = np.linalg.svd(2*n*pp3)\n",
    "        for j in range(0,3):\n",
    "        #     root = pp[1*i,1*i]\n",
    "            sigma[j,:] = xhat_ukf.T +  pp[0::][0][j]\n",
    "            sigma[3+j,:] = xhat_ukf.T -  pp[0::][0][j]\n",
    "    #         sigma[j,:] = x_prior.T + pp[j,:]\n",
    "    #         sigma[3+j,:] = x_prior.T - pp[j,:]\n",
    "\n",
    "        x_prior = np.zeros((3,1))\n",
    "        P_post = P_post +  Q\n",
    "\n",
    "        xsigma_prior = np.zeros((6,3))\n",
    "        for m in range(0,2*n):\n",
    "            xx = sigma[m,:]\n",
    "            x_nxt = np.asarray(np.zeros((3,1)))\n",
    "            for _ in range(0,500):\n",
    "                x_nxt[0] = xx[0] + xx[1]*Ts\n",
    "                x_nxt[1] = xx[1] + Ts*rho0*np.exp(-xx[0]/k)*xx[1]**2/1 * xx[2]/2 - g*Ts\n",
    "                x_nxt[2] = xx[2] + np.abs(Ts**b - Ts)\n",
    "\n",
    "    #         print(x_nxt)\n",
    "\n",
    "            xsigma_prior[m,:] = np.asarray(x_nxt.T)\n",
    "            x_prior = x_prior + (xsigma_prior[m,:]/6).reshape(3,1) \n",
    "    #         print(x_prior)\n",
    "\n",
    "        for m in range(0,2*n):\n",
    "            error = xsigma_prior[m,:] - x_prior\n",
    "            P_post = P_post + (error * error.T)/6\n",
    "\n",
    "        P_post = (P_post + P_post.T)/6\n",
    "\n",
    "        # System Evolution\n",
    "        x_nxt = np.ones((3,1))\n",
    "        xx = x[i-1,:]\n",
    "    #     print(xx)\n",
    "    #     print(x[i-1].T)\n",
    "        x_nxt = np.zeros((3,1))\n",
    "        for _ in range(0,500):\n",
    "            x_nxt[0,0] = xx[0] + xx[1]*Ts\n",
    "            x_nxt[1,0] = xx[1] + Ts*rho0*np.exp(-xx[0]/k)*xx[1]**2/1 * xx[2]/2- Ts*g\n",
    "            x_nxt[2,0] = xx[2] + np.abs(Ts**b - Ts)\n",
    "    #     print(x_nxt.T)\n",
    "        x[i,:] = x_nxt.T\n",
    "\n",
    "        # Measurement update\n",
    "        y[i] = np.sqrt(M**2 + (x[i][b]-a)**2) + R\n",
    "\n",
    "        # Sigma points\n",
    "        x_sigma_prior= np.ones((6,3))\n",
    "        pp4 = np.dot(P_post,P_post.T)\n",
    "        pp = np.linalg.svd(2*n*pp4)\n",
    "    #     pp1 = pp[2].tolist()\n",
    "    #     print(pp[0])\n",
    "        for j in range(0,3):\n",
    "        #     root = pp[1*i,1*i]\n",
    "            x_sigma_prior[j,:] = x_prior.T + pp[0::][0][j]\n",
    "            x_sigma_prior[3+j,:] = x_prior.T - pp[0::][0][j]\n",
    "    #         x_sigma_prior[j,:] = x_prior.T + pp[j,:]\n",
    "    #         x_sigma_prior[3+j,:] = x_prior.T - pp[j,:]\n",
    "\n",
    "        y_avg = 0\n",
    "        y_sigma = np.zeros((6,1))\n",
    "        for m in range(0,2*n):\n",
    "            y_sigma[m] = np.sqrt(M**2 + (x_sigma_prior[m][b]-a)**2) + np.sqrt(0)*np.random.randn() + R\n",
    "            y_avg = y_avg + y_sigma[m]/6\n",
    "\n",
    "        Py = 0\n",
    "        Pxy = np.zeros((n,1))\n",
    "        for m in range(0,2*n):\n",
    "            y_error = (y_sigma[m] - y_avg)\n",
    "            x_error = (x_sigma_prior[m,:] - x_prior)\n",
    "            Py = Py + np.dot(y_error,y_error.T)/6\n",
    "            Pxy = Pxy + np.multiply(x_error,y_error)/6\n",
    "\n",
    "        Py = (Py + Py.T)/6 \n",
    "\n",
    "        # Calculate Kalman Gain\n",
    "        K = Pxy/Py\n",
    "        innov = y[i] - y_avg\n",
    "    #     print(innov)\n",
    "    # np.multiply(K,innov)\n",
    "        x_post= (np.multiply(np.diag(K),innov).reshape(3,1) + x_prior.T)/1\n",
    "#         x_post_vel.append(x_post[:,1])\n",
    "        P_post = P_post - np.multiply(K, np.multiply(Py, K.T))\n",
    "#         P_post = np.multiply(P_post,P_post.T)/2\n",
    "        P_post = (P_post + P_post.T)/6\n",
    "        x_post_alt[i,b] = (np.sum(x_post[:,0]))/(2*n**(b-1)) \n",
    "        x_post_vel[i,b] = np.sum(x_post[:,1])/(2*n**(b-1)) \n",
    "# print(x_prior)  \n",
    "# print(innov)\n",
    "# print(x_post)   \n",
    "# np.dot(K,innov)  \n",
    "# x_prior\n",
    "# aa22.T\n",
    "# x_sigma_prior\n",
    "# np.linalg.cholesky(P_prior)\n",
    "# print(P_ukf)\n",
    "# print(P_prior)\n",
    "# print(np.diag(P_prior))\n",
    "# np.multiply(np.diag(K),innov).reshape(3,1) + x_prior\n",
    "# x_prior\n",
    "# np.multiply(K, np.multiply(Py, K.T))\n",
    "# x_post[0,\n",
    "# print(np.sum(x_post[1:,1]))\n",
    "# print(x_post)\n",
    "# print(pp1)\n",
    "# print(pp)\n",
    "# print(pp)\n",
    "# print(pp[0::][0][0] + x_prior.T)\n",
    "# print(pp[0::][0][1] + x_prior.T)\n",
    "# # print(x_prior.T)\n",
    "# pp[0::][j][0]\n",
    "# print(x_post[:,0])\n",
    "# print(x_post_vel[:,1])\n",
    "x_post_alt[1:,0] = x_post_alt[1:,0]/(2*n)\n",
    "print(np.sum(x_post_alt))\n",
    "# print(Py)\n",
    "# print(x_post_alt)\n"
   ]
  },
  {
   "cell_type": "code",
   "execution_count": null,
   "metadata": {},
   "outputs": [],
   "source": []
  },
  {
   "cell_type": "code",
   "execution_count": null,
   "metadata": {},
   "outputs": [],
   "source": []
  },
  {
   "cell_type": "code",
   "execution_count": 18,
   "metadata": {},
   "outputs": [],
   "source": [
    "# # pp = np.linalg.cholesky(3*P_ukf)\n",
    "# P_prior\n",
    "# pp\n",
    "# P_ukf\n",
    "# # asa = np.diag([P_prior[0],P_prior[1],P_prior[2]])\n",
    "# # asa = np.array([[P_prior[0],0,0],[0,P_prior[1],0],[0,0,P_prior[2]]])\n",
    "# pp = np.linalg.cholesky(np.multiply(3,np.diag(P_prior)))\n"
   ]
  },
  {
   "cell_type": "code",
   "execution_count": 19,
   "metadata": {},
   "outputs": [],
   "source": [
    "# xlst_alt = []\n",
    "# xlst_vel = []\n",
    "# for h in range(0,T_len-1):\n",
    "#     xlst_alt.append(np.sum(x_post_alt[h]))\n",
    "#     xlst_vel.append(np.sum(x_post_vel[h]))\n",
    "# len(xlst_vel)"
   ]
  },
  {
   "cell_type": "code",
   "execution_count": 20,
   "metadata": {},
   "outputs": [
    {
     "data": {
      "image/png": "[encoded data removed]",
      "text/plain": [
       "<Figure size 432x288 with 1 Axes>"
      ]
     },
     "metadata": {
      "needs_background": "light"
     },
     "output_type": "display_data"
    },
    {
     "data": {
      "image/png": "[encoded data removed]",
      "text/plain": [
       "<Figure size 432x288 with 1 Axes>"
      ]
     },
     "metadata": {
      "needs_background": "light"
     },
     "output_type": "display_data"
    }
   ],
   "source": [
    "plt.figure(1)\n",
    "altitude_0 = np.abs((x_post_alt[:,0]+x_post_alt[:,1])/1)\n",
    "# altitude = altitude_0[altitude_0 <= 300000]\n",
    "plt.plot(altitude_0)\n",
    "# plt.plot(T_vec[0],(x_post_alt[0,0]+x_post_alt[0,0])/2,T_vec[0:T_len-1], T_vec[0:T_len-1], np.abs((x_post_alt[1:,0]+x_post_alt[1:,1])/2))\n",
    "# plt.plot(T_vec[0],(x_post_alt[0,0]+x_post_alt[0,0])/2,T_vec[0:T_len-1], np.abs((x_post_alt[1:T_len,0]+x_post_alt[1:T_len,1])/1))\n",
    "# plt.scatter(T_vec[0:T_len], x_post_alt[:,1])\n",
    "plt.ticklabel_format(useOffset=False)\n",
    "plt.grid()\n",
    "\n",
    "plt.figure(2)\n",
    "plt.plot(T_vec[0:T_len-1], x_post_vel[:T_len-1,1])\n",
    "plt.ticklabel_format(useOffset=False)\n",
    "plt.grid()\n",
    "# print(np.sum(x_post_list[0]))\n",
    "# print(np.sum(x_post_list[1]))\n",
    "# print(x_post_list)\n",
    "\n"
   ]
  },
  {
   "cell_type": "code",
   "execution_count": null,
   "metadata": {},
   "outputs": [],
   "source": []
  }
 ],
 "metadata": {
  "kernelspec": {
   "display_name": "Python 3 (ipykernel)",
   "language": "python",
   "name": "python3"
  },
  "language_info": {
   "codemirror_mode": {
    "name": "ipython",
    "version": 3
   },
   "file_extension": ".py",
   "mimetype": "text/x-python",
   "name": "python",
   "nbconvert_exporter": "python",
   "pygments_lexer": "ipython3",
   "version": "3.9.7"
  }
 },
 "nbformat": 4,
 "nbformat_minor": 4
}
