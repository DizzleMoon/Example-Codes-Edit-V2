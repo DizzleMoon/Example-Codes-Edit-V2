{
 "cells": [
  {
   "cell_type": "code",
   "execution_count": 1,
   "metadata": {},
   "outputs": [],
   "source": [
    "from typing import List, Dict, Iterable, Tuple, Callable\n",
    "from matplotlib import pyplot as plt\n",
    "from collections import Counter\n",
    "import sys\n",
    "import os\n",
    "import string\n",
    "import urllib.request\n",
    "import requests\n",
    "import curl\n",
    "import pycurl\n",
    "import webbrowser\n",
    "import numpy as np\n",
    "import math\n",
    "import pandas as pd\n",
    "from matplotlib.pyplot import figure\n",
    "from py.xml import raw\n",
    "from requests.api import get\n",
    "from scipy import array, linalg, dot\n",
    "from decimal import Decimal\n",
    "from scipy.special import expit"
   ]
  },
  {
   "cell_type": "code",
   "execution_count": 2,
   "metadata": {},
   "outputs": [],
   "source": [
    "# Constants\n",
    "rho0 = 2\n",
    "g = 32.2\n",
    "k = 2e4\n",
    "R = 10 ** 4\n",
    "Q = np.diag((0,0,0))\n",
    "M = 10 ** 5\n",
    "a = 10 ** 5"
   ]
  },
  {
   "cell_type": "code",
   "execution_count": 3,
   "metadata": {},
   "outputs": [],
   "source": [
    "# Initial variables\n",
    "x_list = [300000, -20000, 0.001]\n",
    "x = np.asarray(x_list)[np.newaxis]\n",
    "x = np.transpose(x)\n",
    "xhat = x\n",
    "xhat_ukf = xhat\n",
    "\n",
    "P = np.diag((1e6,4e6,10))\n",
    "P_ukf = P\n"
   ]
  },
  {
   "cell_type": "code",
   "execution_count": 4,
   "metadata": {},
   "outputs": [
    {
     "data": {
      "text/plain": [
       "60"
      ]
     },
     "execution_count": 4,
     "metadata": {},
     "output_type": "execute_result"
    }
   ],
   "source": [
    "# Time\n",
    "# Time step\n",
    "Ts = 0.5\n",
    "# Simulation length\n",
    "tf = 30\n",
    "# Time step for integration\n",
    "dt = 0.001\n",
    "# Time vector\n",
    "T_vec = np.arange(0,tf,Ts)\n",
    "T_len = len(T_vec)\n",
    "T_len"
   ]
  },
  {
   "cell_type": "code",
   "execution_count": 5,
   "metadata": {},
   "outputs": [],
   "source": [
    "# Initialize variables\n",
    "xArray = x\n",
    "xhatArray = xhat\n",
    "xhatArray_ukf = xhat_ukf\n",
    "xhatArray_ukf_2 = []\n",
    "Parray = np.diag(P)\n",
    "Parray_ukf = np.diag(P_ukf)\n",
    "xlst_alt = []\n",
    "xlst_vel = []\n",
    "xlst_bal = []\n",
    "xdot_list = []"
   ]
  },
  {
   "cell_type": "code",
   "execution_count": 6,
   "metadata": {},
   "outputs": [],
   "source": [
    "# UKF weights\n",
    "W = np.ones((6,1)) / 6"
   ]
  },
  {
   "cell_type": "code",
   "execution_count": 7,
   "metadata": {},
   "outputs": [
    {
     "name": "stdout",
     "output_type": "stream",
     "text": [
      "[[2.12610346e-01 3.73856424e-01 1.99515784e-04]\n",
      " [2.12610346e-01 3.73856424e-01 1.99515784e-04]\n",
      " [2.12610346e-01 3.73856424e-01 1.99515784e-04]]\n",
      "[[ 2.70418141e+05 -5.44419269e+04 -1.82878977e+01]\n",
      " [ 2.70418141e+05 -5.44419269e+04 -1.82878977e+01]\n",
      " [ 2.70418141e+05 -5.44419269e+04 -1.82878977e+01]]\n"
     ]
    }
   ],
   "source": [
    "# Simulate the system\n",
    "tau = np.arange(0,Ts,dt)\n",
    "tau_len = len(tau)\n",
    "\n",
    "# Select index\n",
    "ind = 0\n",
    "\n",
    "for t in range(0,T_len):\n",
    "    \n",
    "    xdot = np.ones((3,1))\n",
    "    xxx = []\n",
    "    for _ in range(0,tau_len):\n",
    "        xdot[0] = x[1,0] + W[1]\n",
    "        xdot[1] = (rho0 * np.exp(-x[0,0]/k) * x[1,0]**2 * x[2,0]/2 - g + W[1])\n",
    "        xdot[2] = W[1]\n",
    "        xdot = xdot + np.dot(np.sqrt(dt*Q),[[np.random.randn()],[np.random.randn()],[np.random.randn()]])\n",
    "        xxx.append(xdot)\n",
    "        x = x + xdot*dt\n",
    "#         print(xdot)\n",
    "    xdot_list.append(xxx[tau_len-1])   \n",
    "    # Simulate the noisy measurement.\n",
    "    z = np.sqrt(M**2 + (x[ind]-a)**2) + np.sqrt(R) * np.random.randn()\n",
    "#     print(z)\n",
    "    \n",
    "    # Sigma points\n",
    "    sigma= np.ones((6,3))\n",
    "    pp = np.linalg.cholesky(3*P_ukf)\n",
    "    for i in range(0,3):\n",
    "    #     root = pp[1*i,1*i]\n",
    "        sigma[i,:] = xhat_ukf.T + pp[i,:]\n",
    "        sigma[3+i,:] = xhat_ukf.T - pp[i,:]\n",
    "        \n",
    "    xbreve = np.ones((6,3))\n",
    "    for i in range(0,6):\n",
    "        xbreve[i,:] = sigma[i,:]\n",
    "    \n",
    "    xbrevedot = np.ones((3,1))\n",
    "    for i in range(0,6):\n",
    "            for _ in range(0,tau_len):\n",
    "                xbrevedot[0] = xbreve[i,1] + W[1]\n",
    "                xbrevedot[1] =(rho0 * np.exp(-xbreve[i,0]/k) * xbreve[i,1]**2 * xbreve[i,2]/2 - g) + W[1]\n",
    "                xbrevedot[2] = W[1]\n",
    "                xbreve[i,:] = xbreve[i,:] + (xbrevedot*dt).T\n",
    "#     print(xbreve)\n",
    "                \n",
    "    xhat_ukf_0 = np.zeros((1,3))\n",
    "    \n",
    "    for i in range(0,6):\n",
    "        xhat_ukf_0 = xhat_ukf_0 + W[i] * 1/1 *xbreve[i,:]\n",
    "           \n",
    "    P_ukf_0 = np.zeros((3,3))\n",
    "    for i in range(0,6):\n",
    "        P_ukf_0 = P_ukf_0 + 1/1 * W[i] * np.multiply((xbreve[i,:] - xhat_ukf_0),(xbreve[i,:] - xhat_ukf_0).T)\n",
    "    \n",
    "    P_ukf_0 += Q\n",
    "    \n",
    "       \n",
    "    # UKF measurement\n",
    "    zukf = np.zeros((6,3))\n",
    "    for i in range(0,6):\n",
    "        zukf[i,:] = np.sqrt(M**2 + (xbreve[i,ind]-a)**2)  + W[1]\n",
    "   \n",
    "    zhat = 0\n",
    "\n",
    "    \n",
    "    for i in range(0,6):\n",
    "        zhat = zhat + W[i] * zukf[i,:]\n",
    "    \n",
    "    Py = 0\n",
    "    Pxy = np.zeros((1,3))\n",
    "    \n",
    "# np.dot((zukf[0,:] - zhat),(zukf[0,:] - zhat).T)\n",
    "# zukf\n",
    "    \n",
    "    for m in range(0,6):\n",
    "        Py = (Py + 1/1 * np.multiply(W[m], np.multiply((zukf[m,:] - zhat),(zukf[m,:] - zhat).T)))/6\n",
    "#         Pxy = Pxy + W[i] * (xbreve[i,:] - xhat) * (zukf[i,:] - zhat)\n",
    "        Pxy_0 = np.multiply((xbreve[m,:] - xhat_ukf_0),(zukf[m,:] - zhat).T)\n",
    "#         print(Pxy_0)\n",
    "#         Pxy = np.add(Pxy,np.multiply(W[i],Pxy_0.T))\n",
    "        Pxy = (Pxy + 1/1 *np.multiply(W[m],Pxy_0))/6\n",
    "#         print(Pxy)\n",
    "#         Pxy = np.dot(W[i].T,np.dot((xbreve[i,:] - xhat),(zukf[i,:] - zhat)).T)\n",
    "        \n",
    "    Py = Py + R*np.ones((1,3))\n",
    "#     Py = Py + R\n",
    "    Kukf = np.multiply(Pxy,np.linalg.pinv(Py))\n",
    "#     Kukf_2 = np.dot(Pxy,np.linalg.pinv(Py))\n",
    "#     print(Kukf)\n",
    "#     Kukf = Pxy/Py\n",
    "# #     aaa = z - zhat\n",
    "#     xhat_ukf_0 = np.sum(xhat_ukf_0) + np.multiply(Kukf_2,(z - zhat)[0]) \n",
    "    xhat_ukf_0 = (xhat_ukf_0) + np.multiply(Kukf,(z - zhat)) \n",
    "# #     xhatArray_ukf_2.append([xhat_ukf_0[0]])\n",
    "# #     print(xhat_ukf_0)\n",
    "    P_ukf_0 = P_ukf_0 - np.multiply(Kukf, np.multiply(Py,Kukf.T))\n",
    "\n",
    "# #     xhatArray_ukf_2 =  np.c_(xhatArray_ukf_2,xhat_ukf_0)\n",
    "# #     xhatArray_ukf_2.append([xhat_ukf_0[0]])\n",
    "    xlst_alt.append(xhat_ukf_0)\n",
    "#     xlst_vel.append(xhat_ukf_0[0][1])\n",
    "#     xlst_bal.append(xhat_ukf_0[0][2])\n",
    "# #     xhatArray_ukf_2[:,t] = 1\n",
    "# #     xhatArray_ukf_2 = xhatArray_ukf_2 + xhat_ukf_2\n",
    "    \n",
    "# #     xhatArray_ukf_2 =  np.append(xhatArray_ukf_2,xhat_ukf_0)\n",
    "# #     plt.plot(t,xhatArray_ukf_2)\n",
    "    \n",
    "    \n",
    "# xhat_ukf_0\n",
    "# plt.plot(xhat_ukf_0)\n",
    "# xhatArray_ukf_2[0][0][0]\n",
    "# len(xlst)\n",
    "# Kukf\n",
    "# Pxy[0]\n",
    "# xhat_ukf_0[0][0]\n",
    "\n",
    "# np.linalg.pinv(Py)\n",
    "# aaa\n",
    "# xlst\n",
    "\n",
    "# print(Py)\n",
    "\n",
    "# r,c = Kukf.shape\n",
    "# print(c)\n",
    "\n",
    "print(Kukf)\n",
    "# print(Kukf_2)\n",
    "# print(len(Kukf))\n",
    "# print(Pxy)\n",
    "# print(Pxy_0)\n",
    "# print(len(Pxy_0))\n",
    "# print(zhat)\n",
    "# print(zukf)\n",
    "# print((zukf- zhat).T)\n",
    "# print(z)\n",
    "# print(zhat)\n",
    "print(xhat_ukf_0)\n",
    "# print(np.sum(xhat_ukf_0))\n",
    "# print(np.min(xhat_ukf_0)*W**6)\n",
    "# print(P_ukf_0)\n",
    "# t_lst = []\n",
    "# for j in range(0,3):\n",
    "#     t_lst.append(P_ukf_0[j,0])\n",
    "# print((t_lst))    \n",
    "# print(P_ukf_0)\n",
    "# print(xlst)\n",
    "# print(Py)\n",
    "# print((z - zhat)[0])\n",
    "# print(xdot[1])\n",
    "# print(len(xdot_list))\n",
    "# print(xdot_list[4][1][0])\n",
    "# print(xdot_list)\n",
    "# print(np.dot(Kukf.T,Kukf))\n",
    "# print(np.dot(Kukf_2,Kukf_2.T))\n",
    "# print(zhat)"
   ]
  },
  {
   "cell_type": "code",
   "execution_count": null,
   "metadata": {},
   "outputs": [],
   "source": []
  },
  {
   "cell_type": "code",
   "execution_count": 8,
   "metadata": {},
   "outputs": [
    {
     "data": {
      "image/png": "[encoded data removed]",
      "text/plain": [
       "<Figure size 432x288 with 1 Axes>"
      ]
     },
     "metadata": {
      "needs_background": "light"
     },
     "output_type": "display_data"
    },
    {
     "data": {
      "image/png": "[encoded data removed]",
      "text/plain": [
       "<Figure size 432x288 with 1 Axes>"
      ]
     },
     "metadata": {
      "needs_background": "light"
     },
     "output_type": "display_data"
    }
   ],
   "source": [
    "# Plot\n",
    "tt = np.arange(0,tf,Ts)\n",
    "len(tt)\n",
    "alt = []\n",
    "vel = []\n",
    "bal = []\n",
    "xdot_vel = []\n",
    "for j in range(len(xlst_alt)):\n",
    "    alt.append(xlst_alt[j][0][1])\n",
    "#     vel.append(xlst_vel[j])\n",
    "#     bal.append(xlst_bal[j])\n",
    "    xdot_vel.append(xdot_list[j][0][0])\n",
    "# print(xlst[0][0])\n",
    "# print(xlst[1][0])\n",
    "# print(xlst)\n",
    "# plt.plot(tt,xlst[0:len(tt),0])\n",
    "# plt.plot(tt,alt)\n",
    "plt.figure(1)\n",
    "plt.plot(tt,alt)\n",
    "plt.grid()\n",
    "\n",
    "# plt.figure(2)\n",
    "# plt.plot(tt,vel)\n",
    "# plt.grid()\n",
    "\n",
    "# plt.figure(3)\n",
    "# plt.plot(tt,bal)\n",
    "# plt.grid()\n",
    "\n",
    "plt.figure(4)\n",
    "plt.plot(tt,xdot_vel)\n",
    "plt.grid()\n",
    "# np.sum(xlst[0])\n",
    "\n",
    "\n"
   ]
  },
  {
   "cell_type": "code",
   "execution_count": null,
   "metadata": {},
   "outputs": [],
   "source": []
  }
 ],
 "metadata": {
  "kernelspec": {
   "display_name": "Python 3 (ipykernel)",
   "language": "python",
   "name": "python3"
  },
  "language_info": {
   "codemirror_mode": {
    "name": "ipython",
    "version": 3
   },
   "file_extension": ".py",
   "mimetype": "text/x-python",
   "name": "python",
   "nbconvert_exporter": "python",
   "pygments_lexer": "ipython3",
   "version": "3.9.7"
  }
 },
 "nbformat": 4,
 "nbformat_minor": 4
}
