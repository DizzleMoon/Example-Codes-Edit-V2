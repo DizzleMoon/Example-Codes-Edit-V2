{
 "cells": [
  {
   "cell_type": "code",
   "execution_count": 201,
   "metadata": {},
   "outputs": [],
   "source": [
    "# from typing import List, Dict, Iterable, Tuple, Callable\n",
    "from typing import *\n",
    "from matplotlib import pyplot as plt\n",
    "from collections import Counter\n",
    "import pygal\n",
    "import sys\n",
    "import os\n",
    "import string\n",
    "import urllib.request\n",
    "import requests\n",
    "import curl\n",
    "import pycurl\n",
    "import webbrowser\n",
    "import numpy as np\n",
    "import math\n",
    "import pandas as pd\n",
    "# from IPython import qt\n",
    "from matplotlib.pyplot import figure\n",
    "from py.xml import raw\n",
    "from requests.api import get\n",
    "\n",
    "from sklearn import datasets, linear_model\n",
    "\n",
    "from sklearn import *\n",
    "from sklearn.model_selection import train_test_split\n",
    "# from sklearn.cross_validation import train_test_split\n",
    "# from sklearn.preprocessing import StandardScaler\n",
    "import matplotlib.pyplot as plt\n",
    "\n"
   ]
  },
  {
   "cell_type": "code",
   "execution_count": 202,
   "metadata": {},
   "outputs": [],
   "source": [
    "def scale(X, axis=0):\n",
    "    new = X - np.mean(X, axis=0)\n",
    "    return new / np.std(new, axis=0)\n"
   ]
  },
  {
   "cell_type": "code",
   "execution_count": 203,
   "metadata": {},
   "outputs": [],
   "source": [
    "class LinearRegression(object):\n",
    "    def __init__(self, eta=0.001, n_iter=50, fit_alg='sgd'):\n",
    "        self.eta = eta\n",
    "        self.n_iter = n_iter\n",
    "        self.fit_alg = self.fit_sgd if fit_alg=='sgd' else self.fit_batch\n",
    "        self.w = np.ones(X.shape[1])\n",
    "\n",
    "    def fit(self, X, y):\n",
    "        X = np.insert(X, 0, 1, axis=1)\n",
    "        self.w = np.ones(X.shape[1])\n",
    "\n",
    "        for _ in range(self.n_iter):\n",
    "            self.fit_alg(X, y)\n",
    "\n",
    "        return self\n",
    "\n",
    "    def fit_batch(self, X, y):\n",
    "        output = X.dot(self.w)\n",
    "        errors = y - output\n",
    "        self.w += self.eta * X.T.dot(errors)\n",
    "        # print(sum(errors**2) / 2.0)\n",
    "\n",
    "    def fit_sgd(self, X, y):\n",
    "        X, y = self._shuffle(X, y)\n",
    "        for x, target in zip(X, y):\n",
    "            output = x.dot(self.w)\n",
    "            errors = target - output\n",
    "            self.w += self.eta * x.T.dot(errors)\n",
    "\n",
    "    def _shuffle(self, X, y):\n",
    "        r = np.random.permutation(len(y))\n",
    "        return X[r], y[r]\n",
    "\n",
    "    def predict(self, X):\n",
    "        return np.insert(X, 0, 1, axis=1).dot(self.w)\n",
    "\n",
    "    def score(self, X, y):\n",
    "        return 1 - sum((self.predict(X) - y)**2) / sum((y - np.mean(y))**2)"
   ]
  },
  {
   "cell_type": "code",
   "execution_count": 204,
   "metadata": {},
   "outputs": [],
   "source": [
    "class LinearRegressionNormal(object):\n",
    "    def __init__(self):\n",
    "        pass\n",
    "\n",
    "    def fit(self, X, y):\n",
    "        X = np.insert(X, 0, 1, axis=1)\n",
    "        self.w_ = np.linalg.inv(X.T.dot(X)).dot(X.T).dot(y)\n",
    "        return self\n",
    "\n",
    "    def predict(self, X):\n",
    "        return np.insert(X, 0, 1, axis=1).dot(self.w_)\n",
    "\n",
    "    def score(self, X, y):\n",
    "        return 1 - sum((self.predict(X) - y)**2) / sum((y - np.mean(y))**2)"
   ]
  },
  {
   "cell_type": "code",
   "execution_count": 205,
   "metadata": {},
   "outputs": [],
   "source": [
    "class LinearRegressionSGD(object):\n",
    "    def __init__(self, eta=0.1, n_iter=1500, shuffle=True):\n",
    "        self.eta = eta\n",
    "        self.n_iter = n_iter\n",
    "        self.shuffle = shuffle\n",
    "\n",
    "    def fit(self, X, y):\n",
    "        X = np.insert(X, 0, 1, axis=1)\n",
    "#         self.w = np.ones(X.shape[1])\n",
    "        self.w = np.linalg.inv(X.T.dot(X)).dot(X.T).dot(y)\n",
    "\n",
    "        for _ in range(self.n_iter):\n",
    "            if self.shuffle:\n",
    "                X, y = self._shuffle(X, y)\n",
    "            for x, target in zip(X, y):\n",
    "                output = x.dot(self.w)\n",
    "                error = target - output\n",
    "                self.w += self.eta * error * x\n",
    "        return self\n",
    "\n",
    "    def _shuffle(self, X, y):\n",
    "        r = np.random.permutation(len(y))\n",
    "        return X[r], y[r]\n",
    "    \n",
    "    def predict(self, X):\n",
    "        return np.insert(X, 0, 1, axis=1).dot(self.w)\n",
    "\n",
    "    def score(self, X, y):\n",
    "        return 1 - sum((self.predict(X) - y)**2) / sum((y - np.mean(y))**2)"
   ]
  },
  {
   "cell_type": "code",
   "execution_count": 206,
   "metadata": {},
   "outputs": [],
   "source": [
    "diabetes = datasets.load_diabetes()\n",
    "# Use only one feature\n",
    "X = diabetes.data[:, np.newaxis, 2]\n",
    "y = diabetes.target\n",
    "X_train, X_test, y_train, y_test = train_test_split(X, y, test_size=.25)"
   ]
  },
  {
   "cell_type": "code",
   "execution_count": 207,
   "metadata": {},
   "outputs": [
    {
     "data": {
      "text/plain": [
       "array([1.67398265])"
      ]
     },
     "execution_count": 207,
     "metadata": {},
     "output_type": "execute_result"
    }
   ],
   "source": [
    "regr = LinearRegression()\n",
    "regr.fit_sgd(X_train,y_train)\n",
    "regr.w"
   ]
  },
  {
   "cell_type": "code",
   "execution_count": 208,
   "metadata": {},
   "outputs": [
    {
     "data": {
      "text/plain": [
       "array([152.39290072, 946.07331263])"
      ]
     },
     "execution_count": 208,
     "metadata": {},
     "output_type": "execute_result"
    }
   ],
   "source": [
    "regr = LinearRegressionSGD(eta=.001, n_iter=1500)\n",
    "regr.fit(X_train, y_train)\n",
    "regr.w"
   ]
  },
  {
   "cell_type": "code",
   "execution_count": 209,
   "metadata": {},
   "outputs": [],
   "source": [
    "regr2 = LinearRegression(n_iter=1500)\n",
    "regr2.fit_sgd(X_train,y_train)"
   ]
  },
  {
   "cell_type": "code",
   "execution_count": 210,
   "metadata": {},
   "outputs": [
    {
     "data": {
      "text/plain": [
       "<__main__.LinearRegression at 0x1e908ef42b0>"
      ]
     },
     "execution_count": 210,
     "metadata": {},
     "output_type": "execute_result"
    }
   ],
   "source": [
    "regr2 = LinearRegression(n_iter=1500, fit_alg='sgd')\n",
    "regr2.fit(X_train,y_train)"
   ]
  },
  {
   "cell_type": "code",
   "execution_count": 211,
   "metadata": {},
   "outputs": [
    {
     "data": {
      "text/plain": [
       "0.3375094212910099"
      ]
     },
     "execution_count": 211,
     "metadata": {},
     "output_type": "execute_result"
    }
   ],
   "source": [
    "regr_normal = LinearRegressionNormal()\n",
    "regr_normal.fit(X_train,y_train)\n",
    "regr_normal.score(X_train,y_train)"
   ]
  },
  {
   "cell_type": "code",
   "execution_count": 212,
   "metadata": {},
   "outputs": [
    {
     "data": {
      "image/png": "[encoded data removed]",
      "text/plain": [
       "<Figure size 432x288 with 1 Axes>"
      ]
     },
     "metadata": {},
     "output_type": "display_data"
    }
   ],
   "source": [
    "plt.scatter(X_test, y_test,  color='black')\n",
    "plt.plot(X_test, regr_normal.predict(X_test), color='blue', linewidth=3)\n",
    "plt.xticks(())\n",
    "plt.yticks(())\n",
    "plt.show()"
   ]
  }
 ],
 "metadata": {
  "kernelspec": {
   "display_name": "Python 3 (ipykernel)",
   "language": "python",
   "name": "python3"
  },
  "language_info": {
   "codemirror_mode": {
    "name": "ipython",
    "version": 3
   },
   "file_extension": ".py",
   "mimetype": "text/x-python",
   "name": "python",
   "nbconvert_exporter": "python",
   "pygments_lexer": "ipython3",
   "version": "3.9.7"
  }
 },
 "nbformat": 4,
 "nbformat_minor": 4
}
