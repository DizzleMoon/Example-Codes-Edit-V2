{
 "cells": [
  {
   "cell_type": "code",
   "execution_count": 1,
   "metadata": {},
   "outputs": [],
   "source": [
    "from typing import List, Dict, Iterable, Tuple, Callable\n",
    "from matplotlib import pyplot as plt\n",
    "from collections import Counter\n",
    "import pygal\n",
    "import sys\n",
    "import os\n",
    "import string\n",
    "import urllib.request\n",
    "import requests\n",
    "import curl\n",
    "import pycurl\n",
    "import webbrowser\n",
    "import numpy as np\n",
    "import math\n",
    "import pandas as pd\n",
    "# from IPython import qt\n",
    "from matplotlib.pyplot import figure\n",
    "from py.xml import raw\n",
    "from requests.api import get\n",
    "from matplotlib import pyplot as plt\n",
    "# from scratch.working_with_data import rescale\n",
    "# from scratch.multiple_regression import least_squares_fit, predict\n",
    "# from scratch.gradient_descent import gradient_step\n",
    "\n",
    "# from stats import mean, median, de_mean, standard_deviation, correlation\n",
    "# from gradient_descent import minimize_stochastic, maximize_stochastic, maximize_batch\n",
    "# from vector import dot, vector_add\n",
    "# from normal import normal_cdf\n",
    "# from matrix import make_matrix, get_column, shape, matrix_multiply\n",
    "# from logistic_regression import *\n",
    "\n",
    "import math\n",
    "import os\n",
    "import random\n",
    "import sys\n",
    "from functools import partial, reduce\n",
    "\n",
    "from scipy.optimize import fmin_tnc\n",
    "\n",
    "import tqdm\n",
    "\n",
    "from typing import Tuple\n"
   ]
  },
  {
   "cell_type": "code",
   "execution_count": 2,
   "metadata": {},
   "outputs": [],
   "source": [
    "# Functions\n",
    "\n",
    "# def add(a, b): return a + b\n",
    "\n",
    "def vector_sum(vectors):\n",
    "    \"\"\"Sums all corresponding elements\"\"\"\n",
    "    # Check that vectors is not empty\n",
    "    assert vectors, \"no vectors provided!\"\n",
    "\n",
    "    # Check the vectors are all the same size\n",
    "    num_elements = len(vectors[0])\n",
    "    assert all(len(v) == num_elements for v in vectors), \"different sizes!\"\n",
    "\n",
    "    # the i-th element of the result is the sum of every vector[i]\n",
    "    return [sum(vector[i] for vector in vectors)\n",
    "            for i in range(num_elements)]\n",
    "\n",
    "def scalar_multiply(c , v):\n",
    "    \"\"\"Multiplies every element by c\"\"\"\n",
    "    return [c * v_i for v_i in v]\n",
    "\n",
    "def vector_mean(vectors):\n",
    "    \"\"\"Computes the element-wise average\"\"\"\n",
    "    n = len(vectors)\n",
    "    m = np.sum(vectors,axis=0)\n",
    "    vec_mean = np.multiply(1/n,m)\n",
    "    return vec_mean\n",
    "\n",
    "def de_mean(xs):\n",
    "    \"\"\"Translate xs by subtracting its mean (so the result has mean 0)\"\"\"\n",
    "    x_bar = np.mean(xs)\n",
    "    d_mean = [x - x_bar for x in xs]\n",
    "    return d_mean\n",
    "\n",
    "def dot(v, w):\n",
    "    \"\"\"Computes v_1 * w_1 + ... + v_n * w_n\"\"\"\n",
    "    assert len(v) == len(w), \"vectors must be same length\"\n",
    "\n",
    "    return sum(v_i * w_i for v_i, w_i in zip(v, w))\n",
    "\n",
    "def sum_of_squares(v):\n",
    "    \"\"\"Returns v_1 * v_1 + ... + v_n * v_n\"\"\"\n",
    "    return dot(v, v)\n",
    "\n",
    "def variance(xs):\n",
    "    \"\"\"Almost the average squared deviation from the mean\"\"\"\n",
    "    assert len(xs) >= 2, \"variance requires at least two elements\"\n",
    "\n",
    "    n = len(xs)\n",
    "    deviations = de_mean(xs)\n",
    "    vari = sum_of_squares(deviations)/(n-1)\n",
    "    return vari\n",
    "\n",
    "# Standard deviation                        \n",
    "def standard_deviation(xs):\n",
    "    \"\"\"The standard deviation is the square root of the variance\"\"\"\n",
    "    std_dev = np.sqrt(variance(xs)) \n",
    "    return std_dev\n",
    "\n",
    "def scale(data):\n",
    "    \"\"\"returns the mean and standard deviation for each position\"\"\"\n",
    "    dim = len(data[0])\n",
    "    \n",
    "    # Vector Mean\n",
    "#     n = len(data)\n",
    "#     m = np.sum(data,axis=0)\n",
    "#     means = np.multiply(1/n,m)\n",
    "    means = vector_mean(data)\n",
    "    \n",
    "    # Standard Deviaiton\n",
    "    stdevs = [standard_deviation([vector[i] for vector in data])\n",
    "              for i in range(dim)]\n",
    "    return means,stdevs\n",
    "\n",
    "def rescale(data):\n",
    "    \"\"\"\n",
    "    Rescales the input data so that each position has\n",
    "    mean 0 and standard deviation 1. (Leaves a position\n",
    "    as is if its standard deviation is 0.)\n",
    "    \"\"\"\n",
    "    dim = len(data[0])\n",
    "    means, stdevs = scale(data)\n",
    "    \n",
    "    means = list(means)\n",
    "    stdevs = list(stdevs)\n",
    "\n",
    "    # Make a copy of each vector\n",
    "    rescaled = [v[:] for v in data]\n",
    "    v0 = []\n",
    "    for v in rescaled:\n",
    "        v = list(v)\n",
    "        for i in range(dim):\n",
    "            if stdevs[i] > 0:\n",
    "                v[i] = (v[i] - means[i]) / stdevs[i]\n",
    "        v0.append(v)\n",
    "\n",
    "    return v0\n",
    "\n",
    "def gradient_step(v, gradient, step_size):\n",
    "    \"\"\"Moves `step_size` in the `gradient` direction from `v`\"\"\"\n",
    "    assert len(v) == len(gradient)\n",
    "    step = scalar_multiply(step_size, gradient)\n",
    "    grad_step = np.add(v,step)\n",
    "    return grad_step\n",
    "\n",
    "# def predict(alpha, beta, x_i):\n",
    "#     pred = beta * x_i + alpha\n",
    "#     return pred\n",
    "\n",
    "# def error(x, y, beta):\n",
    "#     \"\"\"\n",
    "#     The error from predicting beta * x_i + alpha\n",
    "#     when the actual value is y_i\n",
    "#     \"\"\"\n",
    "#     err_fin = predict(alpha, beta, x_i) - y_i\n",
    "#     return err_fin\n",
    "\n",
    "def predict(x, beta):\n",
    "    \"\"\"assumes that the first element of x is 1\"\"\"\n",
    "    return dot(x, beta)\n",
    "\n",
    "def error(x, y, beta):\n",
    "    return predict(x, beta) - y \n",
    "\n",
    "def sqerror_gradient(x, y, beta):\n",
    "    err = error(x, y, beta)\n",
    "    err_fin = [2 * err * x_i for x_i in x]\n",
    "    return err_fin\n",
    "\n",
    "def least_squares_fit(xs, ys, learning_rate = 0.001, num_steps = 1000, batch_size = 1):\n",
    "    \"\"\"\n",
    "    Find the beta that minimizes the sum of squared errors\n",
    "    assuming the model y = dot(x, beta).\n",
    "    \"\"\"\n",
    "    # Start with a random guess\n",
    "    guess = [np.random.random() for _ in xs[0]]\n",
    "\n",
    "    for _ in tqdm.trange(num_steps, desc=\"least squares fit\"):\n",
    "        for start in range(0, len(xs), batch_size):\n",
    "            batch_xs = xs[start:start+batch_size]\n",
    "            batch_ys = ys[start:start+batch_size]\n",
    "\n",
    "            gradient = vector_mean([sqerror_gradient(x, y, guess)\n",
    "                                    for x, y in zip(batch_xs, batch_ys)])\n",
    "            guess = gradient_step(guess, gradient, -learning_rate)\n",
    "\n",
    "    return guess\n",
    "\n",
    "def logistic(x):\n",
    "    return 1.0 / (1 + math.exp(-x))\n",
    "\n",
    "def logistic_prime(x):\n",
    "    y = logistic(x)\n",
    "    return y * (1 - y)\n",
    "\n",
    "def _negative_log_likelihood(x, y, beta):\n",
    "    \"\"\"The negative log likelihood for one data point\"\"\" \n",
    "    if y == 1:\n",
    "        return -math.log(logistic(dot(x, beta)))\n",
    "    else:\n",
    "        return -math.log(1 - logistic(dot(x, beta)))\n",
    "    \n",
    "def negative_log_likelihood(xs, ys, beta):\n",
    "    return sum(_negative_log_likelihood(x, y, beta)\n",
    "               for x, y in zip(xs, ys))\n",
    "\n",
    "def _negative_log_partial_j(x, y, beta, j):\n",
    "    \"\"\"\n",
    "    The jth partial derivative for one data point.\n",
    "    Here i is the index of the data point.\n",
    "    \"\"\"\n",
    "    return -(y - logistic(dot(x, beta))) * x[j]\n",
    "\n",
    "def _negative_log_gradient(x, y, beta):\n",
    "    \"\"\"\n",
    "    The gradient for one data point.\n",
    "    \"\"\"\n",
    "    return [_negative_log_partial_j(x, y, beta, j)\n",
    "            for j in range(len(beta))]\n",
    "\n",
    "def negative_log_gradient(xs, ys,beta):\n",
    "    return vector_sum([_negative_log_gradient(x, y, beta)\n",
    "                       for x, y in zip(xs, ys)])\n",
    "\n",
    "def split_data(data, prob):\n",
    "    \"\"\"Split data into fractions [prob, 1 - prob]\"\"\"\n",
    "    data = data[:]                    # Make a shallow copy\n",
    "    random.shuffle(data)              # because shuffle modifies the list.\n",
    "    cut = int(len(data) * prob)       # Use prob to find a cutoff\n",
    "    return data[:cut], data[cut:]     # and split the shuffled list there.\n",
    "\n",
    "def train_test_split(xs, ys, test_pct):\n",
    "     # Generate the indices and split them\n",
    "    idxs = [i for i in range(len(xs))]\n",
    "    train_idxs, test_idxs = split_data(idxs, 1 - test_pct)\n",
    "\n",
    "    return ([xs[i] for i in train_idxs],  # x_train \n",
    "            [xs[i] for i in test_idxs],   # x_test\n",
    "            [ys[i] for i in train_idxs],  # y_train\n",
    "            [ys[i] for i in test_idxs])   # y_test\n",
    "                                                                \n",
    "\n"
   ]
  },
  {
   "cell_type": "code",
   "execution_count": 3,
   "metadata": {},
   "outputs": [
    {
     "data": {
      "text/plain": [
       "array([16, 20])"
      ]
     },
     "execution_count": 3,
     "metadata": {},
     "output_type": "execute_result"
    }
   ],
   "source": [
    "# Test code\n",
    "#     return means, stdevs\n",
    "# Scalar Multiply\n",
    "asc = np.multiply(2,[1,2,3])\n",
    "asc\n",
    "\n",
    "# Vector sum\n",
    "asd = [1, 2] + [3, 4] + [5, 6] + [7, 8]\n",
    "assd = np.sum([[1, 2], [3, 4], [5, 6], [7, 8]],axis=0)\n",
    "assd\n",
    "\n",
    "# # Standard deviation                        \n",
    "# def standard_deviation(xs: List[float]) -> float:\n",
    "#     \"\"\"The standard deviation is the square root of the variance\"\"\"\n",
    "#     return math.sqrt(variance(xs)) "
   ]
  },
  {
   "cell_type": "code",
   "execution_count": 4,
   "metadata": {},
   "outputs": [],
   "source": [
    "# Orginal dataset\n",
    "data_org = [(0.7,48000,1),(1.9,48000,0),(2.5,60000,1),(4.2,63000,0),(6,76000,0),(6.5,69000,0),(7.5,76000,0),(8.1,88000,0),(8.7,83000,1),(10,83000,1),(0.8,43000,0),(1.8,60000,0),(10,79000,1),(6.1,76000,0),(1.4,50000,0),(9.1,92000,0),(5.8,75000,0),(5.2,69000,0),(1,56000,0),(6,67000,0),(4.9,74000,0),(6.4,63000,1),(6.2,82000,0),(3.3,58000,0),(9.3,90000,1),(5.5,57000,1),(9.1,102000,0),(2.4,54000,0),(8.2,65000,1),(5.3,82000,0),(9.8,107000,0),(1.8,64000,0),(0.6,46000,1),(0.8,48000,0),(8.6,84000,1),(0.6,45000,0),(0.5,30000,1),(7.3,89000,0),(2.5,48000,1),(5.6,76000,0),(7.4,77000,0),(2.7,56000,0),(0.7,48000,0),(1.2,42000,0),(0.2,32000,1),(4.7,56000,1),(2.8,44000,1),(7.6,78000,0),(1.1,63000,0),(8,79000,1),(2.7,56000,0),(6,52000,1),(4.6,56000,0),(2.5,51000,0),(5.7,71000,0),(2.9,65000,0),(1.1,33000,1),(3,62000,0),(4,71000,0),(2.4,61000,0),(7.5,75000,0),(9.7,81000,1),(3.2,62000,0),(7.9,88000,0),(4.7,44000,1),(2.5,55000,0),(1.6,41000,0),(6.7,64000,1),(6.9,66000,1),(7.9,78000,1),(8.1,102000,0),(5.3,48000,1),(8.5,66000,1),(0.2,56000,0),(6,69000,0),(7.5,77000,0),(8,86000,0),(4.4,68000,0),(4.9,75000,0),(1.5,60000,0),(2.2,50000,0),(3.4,49000,1),(4.2,70000,0),(7.7,98000,0),(8.2,85000,0),(5.4,88000,0),(0.1,46000,0),(1.5,37000,0),(6.3,86000,0),(3.7,57000,0),(8.4,85000,0),(2,42000,0),(5.8,69000,1),(2.7,64000,0),(3.1,63000,0),(1.9,48000,0),(10,72000,1),(0.2,45000,0),(8.6,95000,0),(1.5,64000,0),(9.8,95000,0),(5.3,65000,0),(7.5,80000,0),(9.9,91000,0),(9.7,50000,1),(2.8,68000,0),(3.6,58000,0),(3.9,74000,0),(4.4,76000,0),(2.5,49000,0),(7.2,81000,0),(5.2,60000,1),(2.4,62000,0),(8.9,94000,0),(2.4,63000,0),(6.8,69000,1),(6.5,77000,0),(7,86000,0),(9.4,94000,0),(7.8,72000,1),(0.2,53000,0),(10,97000,0),(5.5,65000,0),(7.7,71000,1),(8.1,66000,1),(9.8,91000,0),(8,84000,0),(2.7,55000,0),(2.8,62000,0),(9.4,79000,0),(2.5,57000,0),(7.4,70000,1),(2.1,47000,0),(5.3,62000,1),(6.3,79000,0),(6.8,58000,1),(5.7,80000,0),(2.2,61000,0),(4.8,62000,0),(3.7,64000,0),(4.1,85000,0),(2.3,51000,0),(3.5,58000,0),(0.9,43000,0),(0.9,54000,0),(4.5,74000,0),(6.5,55000,1),(4.1,41000,1),(7.1,73000,0),(1.1,66000,0),(9.1,81000,1),(8,69000,1),(7.3,72000,1),(3.3,50000,0),(3.9,58000,0),(2.6,49000,0),(1.6,78000,0),(0.7,56000,0),(2.1,36000,1),(7.5,90000,0),(4.8,59000,1),(8.9,95000,0),(6.2,72000,0),(6.3,63000,0),(9.1,100000,0),(7.3,61000,1),(5.6,74000,0),(0.5,66000,0),(1.1,59000,0),(5.1,61000,0),(6.2,70000,0),(6.6,56000,1),(6.3,76000,0),(6.5,78000,0),(5.1,59000,0),(9.5,74000,1),(4.5,64000,0),(2,54000,0),(1,52000,0),(4,69000,0),(6.5,76000,0),(3,60000,0),(4.5,63000,0),(7.8,70000,0),(3.9,60000,1),(0.8,51000,0),(4.2,78000,0),(1.1,54000,0),(6.2,60000,0),(2.9,59000,0),(2.1,52000,0),(8.2,87000,0),(4.8,73000,0),(2.2,42000,1),(9.1,98000,0),(6.5,84000,0),(6.9,73000,0),(5.1,72000,0),(9.1,69000,1),(9.8,79000,1),]\n",
    "# Data Frame\n",
    "data = pd.DataFrame(data_org)"
   ]
  },
  {
   "cell_type": "code",
   "execution_count": 5,
   "metadata": {},
   "outputs": [],
   "source": [
    "# xs = [(1,) + row[:2] for row in data_org]\n",
    "# ys = [row[2] for row in data_org]\n",
    "\n",
    "# Maximum values\n",
    "exp_val = data.iloc[:,0]\n",
    "sal_val = data.iloc[:,1]\n",
    "\n",
    "dd = data.iloc[:,0:2]\n",
    "\n",
    "data_list = []\n",
    "for i in range(len(data)):\n",
    "    data_exp = data.loc[i,0]\n",
    "    data_sal = data.loc[i,1]\n",
    "    data_set = [1,data_exp,data_sal]\n",
    "    data_list.append(data_set)\n",
    "#     print(dd.iloc[i,0:2])\n",
    "xs = data_list\n",
    "ys = data.iloc[:,2].tolist()\n"
   ]
  },
  {
   "cell_type": "code",
   "execution_count": 6,
   "metadata": {},
   "outputs": [
    {
     "data": {
      "image/png": "[encoded data removed]",
      "text/plain": [
       "<Figure size 432x288 with 1 Axes>"
      ]
     },
     "metadata": {
      "needs_background": "light"
     },
     "output_type": "display_data"
    }
   ],
   "source": [
    "# X = feature values, all the columns except the last column\n",
    "X = data.iloc[:, :-1]\n",
    "\n",
    "# y = target values, last column of the data frame\n",
    "y = data.iloc[:, -1]\n",
    "\n",
    "# filter out the applicants that got admitted\n",
    "paid = data.loc[y == 1]\n",
    "\n",
    "# filter out the applicants that din't get admission\n",
    "unpaid = data.loc[y == 0]\n",
    "\n",
    "# plots\n",
    "# msize = []\n",
    "# for n in range(len([paid])):\n",
    "#     msize.append(100)\n",
    "    \n",
    "plt.scatter(paid.iloc[:, 0], paid.iloc[:, 1], s=50, marker = '+', label='Paid')\n",
    "plt.scatter(unpaid.iloc[:, 0], unpaid.iloc[:, 1], s=25, marker = 'o', label='Unpaid')\n",
    "plt.legend()\n",
    "plt.grid()\n",
    "\n",
    "# Show Plots\n",
    "plt.show()\n",
    "\n"
   ]
  },
  {
   "cell_type": "code",
   "execution_count": 7,
   "metadata": {},
   "outputs": [],
   "source": [
    "# X1 = [np.ones((X.shape[0], 1)), X]\n",
    "# X = np.c_[np.ones((X.shape[0], 1)), X]\n",
    "# y = y[:, np.newaxis]\n",
    "# X = pd.DataFrame(np.c_[np.ones((X.shape[0], 1)), X])\n",
    "\n",
    "\n",
    "# x_ones = pd.DataFrame(np.ones((X.shape[0], 1)))\n",
    "# xl = pd.concat([x_ones,X])\n",
    "# # x1 = pd.Series(xl)\n",
    "# x1[1:]"
   ]
  },
  {
   "cell_type": "code",
   "execution_count": 8,
   "metadata": {},
   "outputs": [
    {
     "data": {
      "text/plain": [
       "200"
      ]
     },
     "execution_count": 8,
     "metadata": {},
     "output_type": "execute_result"
    }
   ],
   "source": [
    "asd = np.dot([1, 2, 3], [4, 5, 6])\n",
    "asd\n",
    "len(xs)"
   ]
  },
  {
   "cell_type": "code",
   "execution_count": 9,
   "metadata": {},
   "outputs": [
    {
     "data": {
      "text/plain": [
       "array([22290.12781755, 22286.11996681, 47206.34316742])"
      ]
     },
     "execution_count": 9,
     "metadata": {},
     "output_type": "execute_result"
    }
   ],
   "source": [
    "mm,nn = scale(xs)\n",
    "# dim = len(xs[1])\n",
    "# dim\n",
    "\n",
    "mm\n",
    "\n",
    "# rescaled_xs = rescale(xs)\n",
    "# rescaled_xs\n",
    "# beta = least_squares_fit(rescaled_xs, ys, 0.001, 500, 1)\n",
    "# predictions = [predict(x_i, beta) for x_i in rescaled_xs]\n",
    "meansx = vector_mean(xs)\n",
    "std = standard_deviation(xs)\n",
    "std"
   ]
  },
  {
   "cell_type": "code",
   "execution_count": 10,
   "metadata": {},
   "outputs": [
    {
     "data": {
      "text/plain": [
       "[[1, -1.509461466111811, -1.2035820048365877],\n",
       " [1, -1.0880203866948326, -1.2035820048365877],\n",
       " [1, -0.8772998469863432, -0.4312299161713978],\n",
       " [1, -0.28025831781229016, -0.23814189400510025],\n",
       " [1, 0.3519033013131777, 0.5985728687155223],\n",
       " [1, 0.527503751070252, 0.14803415032749476],\n",
       " [1, 0.878704650584401, 0.5985728687155223],\n",
       " [1, 1.0894251902928902, 1.3709249573807123],\n",
       " [1, 1.3001457300013792, 1.0491115871035497],\n",
       " [1, 1.756706899369773, 1.0491115871035497],\n",
       " [1, -1.4743413761603963, -1.5253953751137503],\n",
       " [1, -1.1231404766462474, -0.4312299161713978],\n",
       " [1, 1.756706899369773, 0.7916608908818198],\n",
       " [1, 0.38702339126459245, 0.5985728687155223],\n",
       " [1, -1.263620836451907, -1.0748566567257227],\n",
       " [1, 1.4406260898070389, 1.6283756536024423],\n",
       " [1, 0.2816631214103478, 0.5342101946600898],\n",
       " [1, 0.07094258170185867, 0.14803415032749476],\n",
       " [1, -1.4041011962575665, -0.6886806123931277],\n",
       " [1, 0.3519033013131777, 0.019308802216629752],\n",
       " [1, -0.03441768815238591, 0.4698475206046573],\n",
       " [1, 0.49238366111883736, -0.23814189400510025],\n",
       " [1, 0.42214348121600753, 0.9847489130481173],\n",
       " [1, -0.5963391273750243, -0.5599552642822627],\n",
       " [1, 1.5108662697098691, 1.4996503054915773],\n",
       " [1, 0.17630285155610326, -0.6243179383376952],\n",
       " [1, 1.4406260898070389, 2.2720023941567673],\n",
       " [1, -0.9124199369377581, -0.8174059605039927],\n",
       " [1, 1.1245452802443048, -0.10941654589423526],\n",
       " [1, 0.10606267165327343, 0.9847489130481173],\n",
       " [1, 1.6864667194669436, 2.5938157644339297],\n",
       " [1, -1.1231404766462474, -0.17377921994966775],\n",
       " [1, -1.5445815560632261, -1.3323073529474527],\n",
       " [1, -1.4743413761603963, -1.2035820048365877],\n",
       " [1, 1.2650256400499644, 1.1134742611589823],\n",
       " [1, -1.5445815560632261, -1.3966700270028853],\n",
       " [1, -1.579701646014641, -2.3621101378343727],\n",
       " [1, 0.8084644706815711, 1.4352876314361447],\n",
       " [1, -0.8772998469863432, -1.2035820048365877],\n",
       " [1, 0.21142294150751803, 0.5985728687155223],\n",
       " [1, 0.8435845606329861, 0.6629355427709548],\n",
       " [1, -0.8070596670835134, -0.6886806123931277],\n",
       " [1, -1.509461466111811, -1.2035820048365877],\n",
       " [1, -1.3338610163547366, -1.5897580491691827],\n",
       " [1, -1.6850619158688855, -2.233384789723508],\n",
       " [1, -0.10465786805521575, -0.6886806123931277],\n",
       " [1, -0.7719395771320987, -1.4610327010583177],\n",
       " [1, 0.9138247405358156, 0.7272982168263873],\n",
       " [1, -1.3689811063061517, -0.23814189400510025],\n",
       " [1, 1.0543051003414754, 0.7916608908818198],\n",
       " [1, -0.8070596670835134, -0.6886806123931277],\n",
       " [1, 0.3519033013131777, -0.9461313086148577],\n",
       " [1, -0.13977795800663081, -0.6886806123931277],\n",
       " [1, -0.8772998469863432, -1.0104939826702903],\n",
       " [1, 0.24654303145893308, 0.2767594984383598],\n",
       " [1, -0.7368194871806838, -0.10941654589423526],\n",
       " [1, -1.3689811063061517, -2.169022115668075],\n",
       " [1, -0.7016993972292688, -0.3025045680605328],\n",
       " [1, -0.35049849771512, 0.2767594984383598],\n",
       " [1, -0.9124199369377581, -0.3668672421159653],\n",
       " [1, 0.878704650584401, 0.5342101946600898],\n",
       " [1, 1.6513466295155281, 0.9203862389926848],\n",
       " [1, -0.631459217326439, -0.3025045680605328],\n",
       " [1, 1.0191850103900606, 1.3709249573807123],\n",
       " [1, -0.10465786805521575, -1.4610327010583177],\n",
       " [1, -0.8772998469863432, -0.7530432864485602],\n",
       " [1, -1.1933806565490772, -1.6541207232246153],\n",
       " [1, 0.597743930973082, -0.17377921994966775],\n",
       " [1, 0.6679841108759118, -0.04505387183880275],\n",
       " [1, 1.0191850103900606, 0.7272982168263873],\n",
       " [1, 1.0894251902928902, 2.2720023941567673],\n",
       " [1, 0.10606267165327343, -1.2035820048365877],\n",
       " [1, 1.2299055500985498, -0.04505387183880275],\n",
       " [1, -1.6850619158688855, -0.6886806123931277],\n",
       " [1, 0.3519033013131777, 0.14803415032749476],\n",
       " [1, 0.878704650584401, 0.6629355427709548],\n",
       " [1, 1.0543051003414754, 1.2421996092698473],\n",
       " [1, -0.21001813790946033, 0.08367147627206226],\n",
       " [1, -0.03441768815238591, 0.5342101946600898],\n",
       " [1, -1.228500746500492, -0.4312299161713978],\n",
       " [1, -0.9826601168405878, -1.0748566567257227],\n",
       " [1, -0.5612190374236093, -1.1392193307811553],\n",
       " [1, -0.28025831781229016, 0.21239682438292726],\n",
       " [1, 0.9489448304872308, 2.0145516979350373],\n",
       " [1, 1.1245452802443048, 1.1778369352144147],\n",
       " [1, 0.1411827616046885, 1.3709249573807123],\n",
       " [1, -1.7201820058203006, -1.3323073529474527],\n",
       " [1, -1.228500746500492, -1.9115714194463453],\n",
       " [1, 0.4572635711674223, 1.2421996092698473],\n",
       " [1, -0.45585876756936455, -0.6243179383376952],\n",
       " [1, 1.194785460147135, 1.1778369352144147],\n",
       " [1, -1.0529002967434176, -1.5897580491691827],\n",
       " [1, 0.2816631214103478, 0.14803415032749476],\n",
       " [1, -0.8070596670835134, -0.17377921994966775],\n",
       " [1, -0.6665793072778539, -0.23814189400510025],\n",
       " [1, -1.0880203866948326, -1.2035820048365877],\n",
       " [1, 1.756706899369773, 0.3411221724937923],\n",
       " [1, -1.6850619158688855, -1.3966700270028853],\n",
       " [1, 1.2650256400499644, 1.82146367576874],\n",
       " [1, -1.228500746500492, -0.17377921994966775],\n",
       " [1, 1.6864667194669436, 1.82146367576874],\n",
       " [1, 0.10606267165327343, -0.10941654589423526],\n",
       " [1, 0.878704650584401, 0.8560235649372523],\n",
       " [1, 1.7215868094183582, 1.5640129795470097],\n",
       " [1, 1.6513466295155281, -1.0748566567257227],\n",
       " [1, -0.7719395771320987, 0.08367147627206226],\n",
       " [1, -0.4909788575207795, -0.5599552642822627],\n",
       " [1, -0.3856185876665349, 0.4698475206046573],\n",
       " [1, -0.21001813790946033, 0.5985728687155223],\n",
       " [1, -0.8772998469863432, -1.1392193307811553],\n",
       " [1, 0.7733443807301563, 0.9203862389926848],\n",
       " [1, 0.07094258170185867, -0.4312299161713978],\n",
       " [1, -0.9124199369377581, -0.3025045680605328],\n",
       " [1, 1.3703859099042095, 1.7571010017133073],\n",
       " [1, -0.9124199369377581, -0.23814189400510025],\n",
       " [1, 0.6328640209244967, 0.14803415032749476],\n",
       " [1, 0.527503751070252, 0.6629355427709548],\n",
       " [1, 0.7031042008273265, 1.2421996092698473],\n",
       " [1, 1.545986359661284, 1.7571010017133073],\n",
       " [1, 0.9840649204386456, 0.3411221724937923],\n",
       " [1, -1.6850619158688855, -0.8817686345594252],\n",
       " [1, 1.756706899369773, 1.950189023879605],\n",
       " [1, 0.17630285155610326, -0.10941654589423526],\n",
       " [1, 0.9489448304872308, 0.2767594984383598],\n",
       " [1, 1.0894251902928902, -0.04505387183880275],\n",
       " [1, 1.6864667194669436, 1.5640129795470097],\n",
       " [1, 1.0543051003414754, 1.1134742611589823],\n",
       " [1, -0.8070596670835134, -0.7530432864485602],\n",
       " [1, -0.7719395771320987, -0.3025045680605328],\n",
       " [1, 1.545986359661284, 0.7916608908818198],\n",
       " [1, -0.8772998469863432, -0.6243179383376952],\n",
       " [1, 0.8435845606329861, 0.21239682438292726],\n",
       " [1, -1.0177802067920028, -1.2679446788920203],\n",
       " [1, 0.10606267165327343, -0.3025045680605328],\n",
       " [1, 0.4572635711674223, 0.7916608908818198],\n",
       " [1, 0.6328640209244967, -0.5599552642822627],\n",
       " [1, 0.24654303145893308, 0.8560235649372523],\n",
       " [1, -0.9826601168405878, -0.3668672421159653],\n",
       " [1, -0.06953777810380099, -0.3025045680605328],\n",
       " [1, -0.45585876756936455, -0.17377921994966775],\n",
       " [1, -0.31537840776370524, 1.1778369352144147],\n",
       " [1, -0.947540026889173, -1.0104939826702903],\n",
       " [1, -0.5260989474721944, -0.5599552642822627],\n",
       " [1, -1.4392212862089813, -1.5253953751137503],\n",
       " [1, -1.4392212862089813, -0.8174059605039927],\n",
       " [1, -0.17489804795804556, 0.4698475206046573],\n",
       " [1, 0.527503751070252, -0.7530432864485602],\n",
       " [1, -0.31537840776370524, -1.6541207232246153],\n",
       " [1, 0.7382242907787413, 0.4054848465492248],\n",
       " [1, -1.3689811063061517, -0.04505387183880275],\n",
       " [1, 1.4406260898070389, 0.9203862389926848],\n",
       " [1, 1.0543051003414754, 0.14803415032749476],\n",
       " [1, 0.8084644706815711, 0.3411221724937923],\n",
       " [1, -0.5963391273750243, -1.0748566567257227],\n",
       " [1, -0.3856185876665349, -0.5599552642822627],\n",
       " [1, -0.8421797570349283, -1.1392193307811553],\n",
       " [1, -1.1933806565490772, 0.7272982168263873],\n",
       " [1, -1.509461466111811, -0.6886806123931277],\n",
       " [1, -1.0177802067920028, -1.9759340935017777],\n",
       " [1, 0.878704650584401, 1.4996503054915773],\n",
       " [1, -0.06953777810380099, -0.4955925902268303],\n",
       " [1, 1.3703859099042095, 1.82146367576874],\n",
       " [1, 0.42214348121600753, 0.3411221724937923],\n",
       " [1, 0.4572635711674223, -0.23814189400510025],\n",
       " [1, 1.4406260898070389, 2.1432770460459025],\n",
       " [1, 0.8084644706815711, -0.3668672421159653],\n",
       " [1, 0.21142294150751803, 0.4698475206046573],\n",
       " [1, -1.579701646014641, -0.04505387183880275],\n",
       " [1, -1.3689811063061517, -0.4955925902268303],\n",
       " [1, 0.0358224917504436, -0.3668672421159653],\n",
       " [1, 0.42214348121600753, 0.21239682438292726],\n",
       " [1, 0.5626238410216668, -0.6886806123931277],\n",
       " [1, 0.4572635711674223, 0.5985728687155223],\n",
       " [1, 0.527503751070252, 0.7272982168263873],\n",
       " [1, 0.0358224917504436, -0.4955925902268303],\n",
       " [1, 1.5811064496126985, 0.4698475206046573],\n",
       " [1, -0.17489804795804556, -0.17377921994966775],\n",
       " [1, -1.0529002967434176, -0.8174059605039927],\n",
       " [1, -1.4041011962575665, -0.9461313086148577],\n",
       " [1, -0.35049849771512, 0.14803415032749476],\n",
       " [1, 0.527503751070252, 0.5985728687155223],\n",
       " [1, -0.7016993972292688, -0.4312299161713978],\n",
       " [1, -0.17489804795804556, -0.23814189400510025],\n",
       " [1, 0.9840649204386456, 0.21239682438292726],\n",
       " [1, -0.3856185876665349, -0.4312299161713978],\n",
       " [1, -1.4743413761603963, -1.0104939826702903],\n",
       " [1, -0.28025831781229016, 0.7272982168263873],\n",
       " [1, -1.3689811063061517, -0.8174059605039927],\n",
       " [1, 0.42214348121600753, -0.4312299161713978],\n",
       " [1, -0.7368194871806838, -0.4955925902268303],\n",
       " [1, -1.0177802067920028, -0.9461313086148577],\n",
       " [1, 1.1245452802443048, 1.3065622833252797],\n",
       " [1, -0.06953777810380099, 0.4054848465492248],\n",
       " [1, -0.9826601168405878, -1.5897580491691827],\n",
       " [1, 1.4406260898070389, 2.0145516979350373],\n",
       " [1, 0.527503751070252, 1.1134742611589823],\n",
       " [1, 0.6679841108759118, 0.4054848465492248],\n",
       " [1, 0.0358224917504436, 0.3411221724937923],\n",
       " [1, 1.4406260898070389, 0.14803415032749476],\n",
       " [1, 1.6864667194669436, 0.7916608908818198]]"
      ]
     },
     "execution_count": 10,
     "metadata": {},
     "output_type": "execute_result"
    }
   ],
   "source": [
    "rescale(xs)"
   ]
  },
  {
   "cell_type": "code",
   "execution_count": 11,
   "metadata": {},
   "outputs": [
    {
     "name": "stderr",
     "output_type": "stream",
     "text": [
      "least squares fit: 100%|███████████████████████████████████████████████████████████| 1000/1000 [00:10<00:00, 94.78it/s]\n"
     ]
    }
   ],
   "source": [
    "rescaled_xs = rescale(xs)\n",
    "beta = least_squares_fit(rescaled_xs, ys, 0.001, 1000, 1)\n",
    "predictions = [predict(x_i, beta) for x_i in rescaled_xs]"
   ]
  },
  {
   "cell_type": "code",
   "execution_count": 12,
   "metadata": {},
   "outputs": [],
   "source": [
    "# rescaled = [v[:] for v in xs]\n",
    "# rescaled\n",
    "\n",
    "# means,stdevs = scale(xs)\n",
    "# print(means)\n",
    "\n",
    "# # for i in range(dim):\n",
    "# #     print(i)\n",
    "\n",
    "# vv = []\n",
    "# vv0 = []\n",
    "# for v in xs:\n",
    "#     if stdevs[i] > 0:\n",
    "#         v1 = np.array(v[1:3])\n",
    "#         v_means = np.array(means[1:3])\n",
    "#         v0 = (np.array(v[1:3]) - np.array(means[1:3]))/np.array(stdevs[1:3])\n",
    "#         print(v0)\n",
    "# #     vv1 = v1\n",
    "# #     print(v_means)\n",
    "# #     for i in range(dim):\n",
    "# #         if stdevs[i] > 0:\n",
    "# #             v1[i] = (v1[i] - means[i]) / stdevs[i]\n",
    "# #             vv.append(v1[i])\n",
    "  \n",
    "# # vv0\n"
   ]
  },
  {
   "cell_type": "code",
   "execution_count": 13,
   "metadata": {},
   "outputs": [
    {
     "data": {
      "image/png": "[encoded data removed]",
      "text/plain": [
       "<Figure size 432x288 with 1 Axes>"
      ]
     },
     "metadata": {
      "needs_background": "light"
     },
     "output_type": "display_data"
    }
   ],
   "source": [
    "plt.scatter(predictions, ys)\n",
    "plt.xlabel(\"predicted\")\n",
    "plt.ylabel(\"actual\")\n",
    "plt.show()"
   ]
  },
  {
   "cell_type": "code",
   "execution_count": 14,
   "metadata": {},
   "outputs": [
    {
     "data": {
      "image/png": "[encoded data removed]",
      "text/plain": [
       "<Figure size 432x288 with 1 Axes>"
      ]
     },
     "metadata": {
      "needs_background": "light"
     },
     "output_type": "display_data"
    }
   ],
   "source": [
    "z = [zi/50 - 10 for zi in range(1000)]\n",
    "plt.plot(z, [logistic(zi) for zi in z])\n",
    "plt.title('logistic function')\n",
    "plt.show()"
   ]
  },
  {
   "cell_type": "code",
   "execution_count": 15,
   "metadata": {},
   "outputs": [
    {
     "name": "stderr",
     "output_type": "stream",
     "text": [
      "loss: 39.963 beta: [-2.02390325  4.69304785 -4.46981132]: 100%|███████████████████| 5000/5000 [00:34<00:00, 143.37it/s]\n"
     ]
    }
   ],
   "source": [
    "random.seed(0)\n",
    "x_train, x_test, y_train, y_test = train_test_split(rescaled_xs, ys, 0.33)\n",
    "\n",
    "learning_rate = 0.01\n",
    "\n",
    "# pick a random starting point\n",
    "beta = [random.random() for _ in range(3)]\n",
    "\n",
    "with tqdm.trange(5000) as t:\n",
    "    for epoch in t:\n",
    "        gradient = negative_log_gradient(x_train, y_train, beta)\n",
    "        beta = gradient_step(beta, gradient, -learning_rate)\n",
    "        loss = negative_log_likelihood(x_train, y_train, beta)\n",
    "        t.set_description(f\"loss: {loss:.3f} beta: {beta}\")\n"
   ]
  },
  {
   "cell_type": "code",
   "execution_count": 16,
   "metadata": {},
   "outputs": [
    {
     "data": {
      "text/plain": [
       "array([-2.02390325,  4.69304785, -4.46981132])"
      ]
     },
     "execution_count": 16,
     "metadata": {},
     "output_type": "execute_result"
    }
   ],
   "source": [
    "beta"
   ]
  },
  {
   "cell_type": "code",
   "execution_count": 17,
   "metadata": {},
   "outputs": [
    {
     "data": {
      "text/plain": [
       "[8.927236932527311, 1.6482026277676038, -0.00028768900920142336]"
      ]
     },
     "execution_count": 17,
     "metadata": {},
     "output_type": "execute_result"
    }
   ],
   "source": [
    "means, stdevs = scale(xs)\n",
    "beta_unscaled = [(beta[0] - beta[1] * means[1] / stdevs[1] - beta[2] * means[2] / stdevs[2]),\n",
    "                 beta[1] / stdevs[1],\n",
    "                 beta[2] / stdevs[2]]\n",
    "beta_unscaled"
   ]
  },
  {
   "cell_type": "code",
   "execution_count": 18,
   "metadata": {},
   "outputs": [],
   "source": [
    "true_positives = false_positives = true_negatives = false_negatives = 0\n",
    "\n",
    "for x_i, y_i in zip(x_test, y_test):\n",
    "    prediction = logistic(dot(beta, x_i))\n",
    "\n",
    "    if y_i == 1 and prediction >= 0.5:  # TP: paid and we predict paid\n",
    "        true_positives += 1\n",
    "    elif y_i == 1:                      # FN: paid and we predict unpaid\n",
    "        false_negatives += 1\n",
    "    elif prediction >= 0.5:             # FP: unpaid and we predict paid\n",
    "        false_positives += 1\n",
    "    else:                               # TN: unpaid and we predict unpaid\n",
    "        true_negatives += 1\n",
    "\n",
    "precision = true_positives / (true_positives + false_positives)\n",
    "recall = true_positives / (true_positives + false_negatives)\n"
   ]
  },
  {
   "cell_type": "code",
   "execution_count": 19,
   "metadata": {},
   "outputs": [
    {
     "data": {
      "image/png": "[encoded data removed]",
      "text/plain": [
       "<Figure size 432x288 with 1 Axes>"
      ]
     },
     "metadata": {
      "needs_background": "light"
     },
     "output_type": "display_data"
    }
   ],
   "source": [
    "predictions = [logistic(dot(beta, x_i)) for x_i in x_test]\n",
    "plt.scatter(predictions, y_test, marker='+')\n",
    "plt.xlabel(\"predicted probability\")\n",
    "plt.ylabel(\"actual outcome\")\n",
    "plt.title(\"Logistic Regression Predicted vs. Actual\")\n",
    "plt.show()"
   ]
  },
  {
   "cell_type": "code",
   "execution_count": 20,
   "metadata": {},
   "outputs": [],
   "source": [
    "mu_1 = np.mean([xi[1] for xi in xs])\n",
    "sig_1 = standard_deviation([xi[1] for xi in xs])\n",
    "\n",
    "mu_2 = np.mean([xi[2] for xi in xs])\n",
    "sig_2 = standard_deviation([xi[2] for xi in xs])"
   ]
  },
  {
   "cell_type": "code",
   "execution_count": 21,
   "metadata": {},
   "outputs": [],
   "source": [
    "# beta_hat = beta"
   ]
  },
  {
   "cell_type": "code",
   "execution_count": 22,
   "metadata": {},
   "outputs": [],
   "source": [
    "# beta_hat_unscaled[0] = beta_hat[0] - (beta_hat[1]*mu_1)/sig_1 - (beta_hat[2]*mu_2)/sig_2\n",
    "# beta_hat_unscaled[0]"
   ]
  },
  {
   "cell_type": "code",
   "execution_count": 23,
   "metadata": {},
   "outputs": [],
   "source": [
    "# beta_hat_unscaled[1] = beta_hat[1]/sig_1\n",
    "# beta_hat_unscaled[1]"
   ]
  },
  {
   "cell_type": "code",
   "execution_count": 24,
   "metadata": {},
   "outputs": [],
   "source": [
    "# beta_hat_unscaled[2] = beta_hat[2]/sig_2\n",
    "# beta_hat_unscaled[2]"
   ]
  },
  {
   "cell_type": "code",
   "execution_count": 25,
   "metadata": {},
   "outputs": [],
   "source": [
    "# # min_range = (data_marks.min())\n",
    "# # min_range = math.floor(min_range[0])\n",
    "# # max_range = (data_marks.max())\n",
    "# # max_range = math.ceil(max_range[0])\n",
    "\n",
    "# min_val = math.floor(np.min(exp_val))\n",
    "# max_val = math.ceil(np.max(exp_val))\n",
    "\n",
    "# pay_avg = (min(unpaid.iloc[:, 1]) + min(unpaid.iloc[:,1]))/2\n",
    "# pay_avg\n",
    "\n",
    "# # x_db = [xi for xi in range(min_val,max_val)]\n",
    "# x_db = np.linspace(min_val,max_val,len(exp_val))\n",
    "# y_db = [(-beta_unscaled[1]/beta_unscaled[2]*xi - beta_unscaled[0]/beta_unscaled[2])\n",
    "#         for xi in x_db]\n",
    "# y_db_1 = [-((beta_unscaled[0]*xi**2)/beta_unscaled[2] - (beta_unscaled[1]*xi)/beta_unscaled[2] - beta_unscaled[0]/beta_unscaled[2])/10\n",
    "#         for xi in x_db]\n",
    "# y_db_0 = []\n",
    "# for m in range(len(x_db)):\n",
    "#     y_db_0.append(y_db_1[m] + 37000)\n",
    "   \n"
   ]
  },
  {
   "cell_type": "code",
   "execution_count": 26,
   "metadata": {},
   "outputs": [
    {
     "data": {
      "text/plain": [
       "(52, 3)"
      ]
     },
     "execution_count": 26,
     "metadata": {},
     "output_type": "execute_result"
    }
   ],
   "source": [
    "# min_range = (data_marks.min())\n",
    "# min_range = math.floor(min_range[0])\n",
    "# max_range = (data_marks.max())\n",
    "# max_range = math.ceil(max_range[0])\n",
    "\n",
    "min_val = math.floor(np.min(exp_val))\n",
    "max_val = math.ceil(np.max(exp_val))\n",
    "\n",
    "pay_avg_paid = (min(paid.iloc[:, 1]) + max(paid.iloc[:,1]))\n",
    "pay_avg_unpaid = (min(unpaid.iloc[:, 1]) + max(unpaid.iloc[:,1]))\n",
    "pay_avg = (pay_avg_paid + pay_avg_unpaid)/(2*paid.shape[1])\n",
    "\n",
    "\n",
    "# x_db = [xi for xi in range(min_val,max_val)]\n",
    "x_db = np.linspace(min_val,max_val,len(exp_val))\n",
    "y_db = [(-beta_unscaled[1]/beta_unscaled[2]*xi - beta_unscaled[0]/beta_unscaled[2])\n",
    "        for xi in x_db]\n",
    "y_db_1 = [-((beta_unscaled[1]/beta_unscaled[2])*(xi**3) -(beta_unscaled[1]/beta_unscaled[2])*(xi**2)- (beta_unscaled[1]/beta_unscaled[2])*xi - (beta_unscaled[0]/beta_unscaled[2]))*0.01\n",
    "        for xi in x_db]\n",
    "y_db_1b = [-((beta_unscaled[1]/beta_unscaled[2])*(xi**2)- (beta_unscaled[1]/beta_unscaled[2])*xi - (beta_unscaled[0]/beta_unscaled[2]))*0.1\n",
    "        for xi in x_db]\n",
    "y_db_0 = []\n",
    "for m in range(len(x_db)):\n",
    "    y_db_0.append(y_db_1b[m] + pay_avg)\n",
    "    \n",
    "pay_avg\n",
    "paid.shape"
   ]
  },
  {
   "cell_type": "code",
   "execution_count": 27,
   "metadata": {},
   "outputs": [],
   "source": [
    "# # min_range = (data_marks.min())\n",
    "# # min_range = math.floor(min_range[0])\n",
    "# # max_range = (data_marks.max())\n",
    "# # max_range = math.ceil(max_range[0])\n",
    "\n",
    "# min_val = math.floor(np.min(exp_val))\n",
    "# # max_val = math.ceil(np.max(exp_val))\n",
    "\n",
    "# pay_avg_paid = (min(paid.iloc[:, 1]) + max(paid.iloc[:,1]))\n",
    "# pay_avg_unpaid = (min(unpaid.iloc[:, 1]) + max(unpaid.iloc[:,1]))\n",
    "# pay_avg = (pay_avg_paid + pay_avg_unpaid)/(2*paid.shape[1])\n",
    "\n",
    "\n",
    "# # x_db = [xi for xi in range(min_val,max_val)]\n",
    "# x_db = np.linspace(min_val,max_val,len(exp_val))\n",
    "# y_db = [(-beta_unscaled[1]/beta_unscaled[2]*xi - beta_unscaled[0]/beta_unscaled[2])\n",
    "#         for xi in x_db]\n",
    "# y_db_1 = [((beta_unscaled[1]/beta_unscaled[2])*xi**2 + (beta_unscaled[1]/beta_unscaled[2])*xi + beta_unscaled[0]/beta_unscaled[2])*0.1\n",
    "#         for xi in x_db]\n",
    "# y_db_0 = []\n",
    "# for m in range(len(x_db)):\n",
    "#     y_db_0.append(y_db_1[m] - pay_avg)\n",
    "    \n",
    "# pay_avg\n",
    "# paid.shape"
   ]
  },
  {
   "cell_type": "code",
   "execution_count": 28,
   "metadata": {
    "scrolled": true
   },
   "outputs": [
    {
     "data": {
      "image/png": "[encoded data removed]",
      "text/plain": [
       "<Figure size 432x288 with 1 Axes>"
      ]
     },
     "metadata": {
      "needs_background": "light"
     },
     "output_type": "display_data"
    }
   ],
   "source": [
    "plt.scatter(paid.iloc[:, 0], paid.iloc[:, 1], s=50, marker = '+', label='Paid')\n",
    "plt.scatter(unpaid.iloc[:, 0], unpaid.iloc[:, 1], s=25, marker = 'o', label='Unpaid')\n",
    "plt.plot(x_db, y_db_0, 'purple')\n",
    "plt.xlabel('experience')\n",
    "plt.ylabel('salary')\n",
    "plt.legend()\n",
    "plt.grid()\n",
    "plt.title('Paid and Unpaid Users')\n",
    "plt.show()"
   ]
  },
  {
   "cell_type": "code",
   "execution_count": 29,
   "metadata": {},
   "outputs": [
    {
     "data": {
      "image/png": "[encoded data removed]",
      "text/plain": [
       "<Figure size 432x288 with 1 Axes>"
      ]
     },
     "metadata": {
      "needs_background": "light"
     },
     "output_type": "display_data"
    }
   ],
   "source": [
    "plt.scatter(paid.iloc[:, 0], paid.iloc[:, 1], s=50, marker = '+', label='Paid')\n",
    "plt.scatter(unpaid.iloc[:, 0], unpaid.iloc[:, 1], s=25, marker = 'o', label='Unpaid')\n",
    "plt.plot(x_db, y_db, 'purple')\n",
    "plt.xlabel('experience')\n",
    "plt.ylabel('salary')\n",
    "plt.legend()\n",
    "plt.grid()\n",
    "plt.title('Paid and Unpaid Users')\n",
    "plt.show()"
   ]
  },
  {
   "cell_type": "code",
   "execution_count": 30,
   "metadata": {},
   "outputs": [],
   "source": [
    "# rescale(xs)"
   ]
  },
  {
   "cell_type": "code",
   "execution_count": null,
   "metadata": {},
   "outputs": [],
   "source": []
  }
 ],
 "metadata": {
  "kernelspec": {
   "display_name": "Python 3 (ipykernel)",
   "language": "python",
   "name": "python3"
  },
  "language_info": {
   "codemirror_mode": {
    "name": "ipython",
    "version": 3
   },
   "file_extension": ".py",
   "mimetype": "text/x-python",
   "name": "python",
   "nbconvert_exporter": "python",
   "pygments_lexer": "ipython3",
   "version": "3.9.7"
  }
 },
 "nbformat": 4,
 "nbformat_minor": 4
}
