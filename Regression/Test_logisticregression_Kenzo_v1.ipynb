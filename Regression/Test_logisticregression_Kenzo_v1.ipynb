{
 "cells": [
  {
   "cell_type": "code",
   "execution_count": 1,
   "metadata": {},
   "outputs": [],
   "source": [
    "class LogisticRegression(object):\n",
    "    def __init__(self, eta=0.001, n_iter=50):\n",
    "        self.eta = eta\n",
    "        self.n_iter = n_iter\n",
    "\n",
    "    def fit(self, X, y):\n",
    "        X = np.insert(X, 0, 1, axis=1)\n",
    "        self.w = np.ones(X.shape[1])\n",
    "\n",
    "        for _ in range(self.n_iter):\n",
    "            output = X.dot(self.w)\n",
    "            errors = y - self.sigmoid(output)\n",
    "            self.w += self.eta * errors.T.dot(X)\n",
    "            # print(sum(errors**2) / 2.0)\n",
    "        return self\n",
    "\n",
    "    def predict(self, X):\n",
    "        output = np.insert(X, 0, 1, axis=1).dot(self.w)\n",
    "        return (self.sigmoid(output) + .5) / 1\n",
    "\n",
    "    def sigmoid(self, x):\n",
    "        return 1.0 / (1 + np.exp(-x))\n",
    "    \n",
    "    def score(self, X, y):\n",
    "        return sum(self.predict(X) == y) / len(y)"
   ]
  },
  {
   "cell_type": "code",
   "execution_count": 2,
   "metadata": {},
   "outputs": [],
   "source": [
    "import matplotlib.pyplot as plt\n",
    "import numpy as np\n",
    "import random\n",
    "from sklearn import datasets, linear_model"
   ]
  },
  {
   "cell_type": "code",
   "execution_count": 3,
   "metadata": {},
   "outputs": [],
   "source": [
    "class LogisticRegressionOVR(object):\n",
    "    \"\"\"One vs Rest\"\"\"\n",
    "\n",
    "    def __init__(self, eta=0.001, n_iter=50):\n",
    "        self.eta = eta\n",
    "        self.n_iter = n_iter\n",
    "\n",
    "    def fit(self, X, y):\n",
    "        X = np.insert(X, 0, 1, axis=1)\n",
    "        self.w = []\n",
    "\n",
    "        for i in np.unique(y):\n",
    "            y_copy = [1 if c == i else 0 for c in y]\n",
    "            w = np.ones(X.shape[1])\n",
    "\n",
    "            # print('training ', i)\n",
    "            # counter = 0\n",
    "\n",
    "            for _ in range(self.n_iter):\n",
    "                output = X.dot(w)\n",
    "                errors = y_copy - self.sigmoid(output)\n",
    "                w += self.eta * errors.T.dot(X)\n",
    "                \n",
    "                # counter += 1\n",
    "                # if counter // 10 == 0:\n",
    "                #     print(sum(errors**2) / 2.0)\n",
    "            self.w.append((w, i))\n",
    "\n",
    "        return self\n",
    "\n",
    "\n",
    "    def predictOne(self, x):\n",
    "        return max((x.dot(w), c) for w, c in self.w)[1]\n",
    "\n",
    "    def predict(self, X):\n",
    "        return np.array([self.predictOne(i) for i in np.insert(X, 0, 1, axis=1)])\n",
    "\n",
    "    def sigmoid(self, x):\n",
    "        return 1.0 / (1 + np.exp(-x))\n",
    "    \n",
    "    def score(self, X, y):\n",
    "        return sum(self.predict(X) == y) / len(y)"
   ]
  },
  {
   "cell_type": "code",
   "execution_count": 4,
   "metadata": {},
   "outputs": [],
   "source": [
    "def main():\n",
    "    iris = datasets.load_iris()\n",
    "    # X = iris.data[:100, :2]\n",
    "    # y = iris.target[:100]\n",
    "    X = iris.data[:, :2]\n",
    "    y = iris.target\n",
    "    logi = LogisticRegression2()\n",
    "    logi.fit(X, y)\n",
    "    y_pred = logi.predict(X)\n",
    "    print(y_pred)\n",
    "    print(\"out of a total %d points : %d\" % (X.shape[0],(y != y_pred).sum()))"
   ]
  },
  {
   "cell_type": "code",
   "execution_count": 5,
   "metadata": {},
   "outputs": [],
   "source": [
    "iris = datasets.load_iris()\n",
    "X = iris.data[:, :2]  # we only take the first two features.\n",
    "Y = iris.target\n",
    "\n",
    "h = .02  # step size in the mesh\n",
    "\n",
    "# logreg = linear_model.LogisticRegression(C=1e5)\n",
    "logreg = LogisticRegression(n_iter=1000)\n",
    "\n",
    "# we create an instance of Neighbours Classifier and fit the data.\n",
    "logreg.fit(X, Y)\n",
    "\n",
    "# Plot the decision boundary. For that, we will assign a color to each\n",
    "# point in the mesh [x_min, m_max]x[y_min, y_max].\n",
    "x_min, x_max = X[:, 0].min() - .5, X[:, 0].max() + .5\n",
    "y_min, y_max = X[:, 1].min() - .5, X[:, 1].max() + .5\n",
    "xx, yy = np.meshgrid(np.arange(x_min, x_max, h), np.arange(y_min, y_max, h))\n",
    "Z = logreg.predict(np.c_[xx.ravel(), yy.ravel()])\n",
    "\n",
    "# # we create an instance of Neighbours Classifier and fit the data.\n",
    "# logreg.fit(X, Y)"
   ]
  },
  {
   "cell_type": "code",
   "execution_count": 6,
   "metadata": {},
   "outputs": [
    {
     "data": {
      "image/png": "[encoded data removed]",
      "text/plain": [
       "<Figure size 288x216 with 1 Axes>"
      ]
     },
     "metadata": {},
     "output_type": "display_data"
    }
   ],
   "source": [
    "# Put the result into a color plot\n",
    "Z = Z.reshape(xx.shape)\n",
    "plt.figure(1, figsize=(4, 3))\n",
    "plt.pcolormesh(xx, yy, Z, cmap=plt.cm.Paired)\n",
    "\n",
    "# Plot also the training points\n",
    "plt.scatter(X[:, 0], X[:, 1], c=Y, edgecolors='k', cmap=plt.cm.Paired)\n",
    "plt.xlabel('Sepal length')\n",
    "plt.ylabel('Sepal width')\n",
    "\n",
    "plt.xlim(xx.min(), xx.max())\n",
    "plt.ylim(yy.min(), yy.max())\n",
    "plt.xticks(())\n",
    "plt.yticks(())\n",
    "\n",
    "plt.show()"
   ]
  },
  {
   "cell_type": "code",
   "execution_count": 7,
   "metadata": {},
   "outputs": [
    {
     "name": "stdout",
     "output_type": "stream",
     "text": [
      "[(array([ 1.137,  0.215,  2.268, -3.153, -0.799]), 0), (array([ 1.863,  0.578, -2.075,  0.595, -1.693]), 1), (array([-0.795, -2.6  , -2.171,  3.495,  3.724]), 2)]\n"
     ]
    }
   ],
   "source": [
    "np.set_printoptions(precision=3)\n",
    "iris = datasets.load_iris()\n",
    "X = iris.data\n",
    "y = iris.target\n",
    "logi = LogisticRegressionOVR(n_iter=1000).fit(X, y)\n",
    "print(logi.w)"
   ]
  },
  {
   "cell_type": "code",
   "execution_count": 8,
   "metadata": {},
   "outputs": [],
   "source": [
    "from sklearn.model_selection import train_test_split\n",
    "\n",
    "iris = datasets.load_iris()\n",
    "X_train, X_temp, y_train, y_temp = \\\n",
    "    train_test_split(iris.data, iris.target, test_size=.4)\n",
    "X_validation, X_test, y_validation, y_test = \\\n",
    "    train_test_split(X_temp, y_temp, test_size=.5)"
   ]
  },
  {
   "cell_type": "code",
   "execution_count": 9,
   "metadata": {},
   "outputs": [
    {
     "name": "stdout",
     "output_type": "stream",
     "text": [
      "0.9777777777777777\n",
      "0.9666666666666667\n"
     ]
    }
   ],
   "source": [
    "print(logi.score(X_train, y_train))\n",
    "print(logi.score(X_validation, y_validation))"
   ]
  },
  {
   "cell_type": "code",
   "execution_count": 10,
   "metadata": {},
   "outputs": [
    {
     "name": "stdout",
     "output_type": "stream",
     "text": [
      "[1 2 1 2 2 0 0 1 0 1 0 1 2 0 1 2 1 1 2 0 1 1 1 0 0 2 1 0 2 1 1 1 2 0 0 0 0\n",
      " 0 2 0 1 1 0 2 2 1 0 1 2 1 0 1 0 0 1 1 2 2 1 1 2 0 2 2 0 2 0 2 0 2 0 1 0 0\n",
      " 0 2 1 0 2 2 2 2 1 2 1 2 1 1 1 1]\n"
     ]
    }
   ],
   "source": [
    "print(logi.predict(X_train))"
   ]
  },
  {
   "cell_type": "code",
   "execution_count": 11,
   "metadata": {},
   "outputs": [
    {
     "name": "stdout",
     "output_type": "stream",
     "text": [
      "[1.5 1.5 1.5 1.5 1.5 1.5 1.5 1.5 1.5 1.5 1.5 1.5 1.5 1.5 1.5 1.5 1.5 1.5\n",
      " 1.5 1.5 1.5 1.5 1.5 1.5 1.5 1.5 1.5 1.5 1.5 1.5 1.5 1.5 1.5 1.5 1.5 1.5\n",
      " 1.5 1.5 1.5 1.5 1.5 1.5 1.5 1.5 1.5 1.5 1.5 1.5 1.5 1.5 1.5 1.5 1.5 1.5\n",
      " 1.5 1.5 1.5 1.5 1.5 1.5 1.5 1.5 1.5 1.5 1.5 1.5 1.5 1.5 1.5 1.5 1.5 1.5\n",
      " 1.5 1.5 1.5 1.5 1.5 1.5 1.5 1.5 1.5 1.5 1.5 1.5 1.5 1.5 1.5 1.5 1.5 1.5\n",
      " 1.5 1.5 1.5 1.5 1.5 1.5 1.5 1.5 1.5 1.5 1.5 1.5 1.5 1.5 1.5 1.5 1.5 1.5\n",
      " 1.5 1.5 1.5 1.5 1.5 1.5 1.5 1.5 1.5 1.5 1.5 1.5 1.5 1.5 1.5 1.5 1.5 1.5\n",
      " 1.5 1.5 1.5 1.5 1.5 1.5 1.5 1.5 1.5 1.5 1.5 1.5 1.5 1.5 1.5 1.5 1.5 1.5\n",
      " 1.5 1.5 1.5 1.5 1.5 1.5]\n"
     ]
    }
   ],
   "source": [
    "np.set_printoptions(precision=3)\n",
    "iris = datasets.load_iris()\n",
    "X = iris.data\n",
    "y = iris.target\n",
    "logi = LogisticRegression(n_iter=1000).fit(X, y)\n",
    "print(logi.predict(X))"
   ]
  },
  {
   "cell_type": "code",
   "execution_count": 12,
   "metadata": {},
   "outputs": [
    {
     "name": "stdout",
     "output_type": "stream",
     "text": [
      "[  1.   80.1 -21.7 205.5  90. ]\n"
     ]
    }
   ],
   "source": [
    "print(logreg.fit(X, Y).w)\n",
    "# print(logreg.w[1:])"
   ]
  },
  {
   "cell_type": "code",
   "execution_count": 13,
   "metadata": {},
   "outputs": [],
   "source": [
    "def logistic(x):\n",
    "    return 1.0 / (1 + np.exp(-x))"
   ]
  },
  {
   "cell_type": "code",
   "execution_count": 14,
   "metadata": {},
   "outputs": [],
   "source": [
    "\n",
    "def fit(X, y):\n",
    "    X = np.insert(X, 0, 1, axis=1)\n",
    "    w = np.ones(X.shape[1])\n",
    "    m = X.shape[0]\n",
    "    eta = 0.001\n",
    "\n",
    "    for _ in range(50):\n",
    "        output = X.dot(w)\n",
    "        errors = y - sigmoid(output)\n",
    "        w += eta / m * errors.dot(X)\n",
    "    return w\n",
    "\n",
    "def predict(X,w):\n",
    "    output = np.insert(X, 0, 1, axis=1).dot(w)\n",
    "    return (np.floor(sigmoid(output) + .5)).astype(int)\n",
    "\n",
    "def score(X, y,w):\n",
    "    return sum(predict(X,w) == y) / len(y)\n",
    "\n",
    "def sigmoid(x):\n",
    "    return 1 / (1 + np.exp(-x))"
   ]
  },
  {
   "cell_type": "code",
   "execution_count": 15,
   "metadata": {},
   "outputs": [
    {
     "data": {
      "text/plain": [
       "0.3888888888888889"
      ]
     },
     "execution_count": 15,
     "metadata": {},
     "output_type": "execute_result"
    }
   ],
   "source": [
    "w = fit(X,Y)\n",
    "w1 = predict(X,w)\n",
    "w2 = score(X_train,y_train,w)\n",
    "w2"
   ]
  },
  {
   "cell_type": "code",
   "execution_count": 16,
   "metadata": {},
   "outputs": [
    {
     "data": {
      "text/plain": [
       "35"
      ]
     },
     "execution_count": 16,
     "metadata": {},
     "output_type": "execute_result"
    }
   ],
   "source": [
    "true_positives = false_positives = true_negatives = false_negatives = 0\n",
    "\n",
    "for x_i, y_i in zip(X_train, y_train):\n",
    "#     print(x_i)\n",
    "    prediction = logistic(np.dot(w[1:], x_i))\n",
    "\n",
    "    if y_i == 1 and prediction >= 0.5:  # TP: paid and we predict paid\n",
    "        true_positives += 1\n",
    "    elif y_i == 1:                      # FN: paid and we predict unpaid\n",
    "        false_negatives += 1\n",
    "    elif prediction >= 0.5:             # FP: unpaid and we predict paid\n",
    "        false_positives += 1\n",
    "    else:                               # TN: unpaid and we predict unpaid\n",
    "        true_negatives += 1\n",
    "\n",
    "precision = true_positives / (true_positives + false_positives)\n",
    "recall = true_positives / (true_positives + false_negatives)\n",
    "\n",
    "true_positives"
   ]
  },
  {
   "cell_type": "code",
   "execution_count": 17,
   "metadata": {},
   "outputs": [
    {
     "name": "stdout",
     "output_type": "stream",
     "text": [
      "0.3888888888888889\n",
      "1.0\n"
     ]
    }
   ],
   "source": [
    "print(precision)\n",
    "print(recall)"
   ]
  },
  {
   "cell_type": "code",
   "execution_count": null,
   "metadata": {},
   "outputs": [],
   "source": []
  }
 ],
 "metadata": {
  "kernelspec": {
   "display_name": "Python 3 (ipykernel)",
   "language": "python",
   "name": "python3"
  },
  "language_info": {
   "codemirror_mode": {
    "name": "ipython",
    "version": 3
   },
   "file_extension": ".py",
   "mimetype": "text/x-python",
   "name": "python",
   "nbconvert_exporter": "python",
   "pygments_lexer": "ipython3",
   "version": "3.9.7"
  }
 },
 "nbformat": 4,
 "nbformat_minor": 4
}
