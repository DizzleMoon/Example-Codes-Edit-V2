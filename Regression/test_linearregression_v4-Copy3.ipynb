{
 "cells": [
  {
   "cell_type": "code",
   "execution_count": 2,
   "metadata": {},
   "outputs": [],
   "source": [
    "import os.path\n",
    "import random\n",
    "import sys\n",
    "import numpy as np\n",
    "from stats import mean, de_mean, standard_deviation, correlation\n",
    "from gradient_descent import minimize_stochastic\n",
    "import matplotlib.pyplot as plt"
   ]
  },
  {
   "cell_type": "code",
   "execution_count": 3,
   "metadata": {},
   "outputs": [],
   "source": [
    "def vector_subtract(v, w):\n",
    "    \"\"\"subtracts corresponding elements\"\"\"\n",
    "    return [v_i - w_i for v_i, w_i in zip(v, w)]\n",
    "\n",
    "def scalar_multiply(c, v):\n",
    "    \"\"\"c is a number, v is a vector\"\"\"\n",
    "    return [c * v_i for v_i in v]\n",
    "\n",
    "def in_random_order(data):\n",
    "#\"\"\"generator\tthat\treturns\tthe\telements\tof\tdata\tin\trandom\torder\"\"\"\n",
    "    indexes = [i for i,_ in enumerate(data)]\n",
    "    random.shuffle(indexes)\n",
    "    for i in indexes:\n",
    "        yield data[i]\n",
    "\n",
    "def minimize_stochastic(target_fn, gradient_fn, x, y, theta_0, alpha_0=0.01):\n",
    "    data = list(zip(x, y))\n",
    "    \n",
    "    # initial guess\n",
    "    theta = theta_0\n",
    "    \n",
    "    # initial step size\n",
    "    alpha = alpha_0\n",
    "    \n",
    "    # the minimum so far\n",
    "    min_theta, min_value = None, float(\"inf\")\n",
    "    iterations_with_no_improvement = 0\n",
    "\n",
    "    # if we ever go 100 iterations with no improvement, stop\n",
    "    while iterations_with_no_improvement < 100:\n",
    "        value = sum(target_fn(x_i, y_i, theta) for x_i, y_i in data)\n",
    "\n",
    "        if value < min_value:\n",
    "            # if we've found a new minimum, remember it\n",
    "            # and go back to the original step size\n",
    "            min_theta, min_value = theta, value\n",
    "            iterations_with_no_improvement = 0\n",
    "            alpha = alpha_0\n",
    "        else:\n",
    "            # otherwise we're not improving, so try shrinking the step size\n",
    "            iterations_with_no_improvement += 1\n",
    "            alpha *= 0.9\n",
    "\n",
    "        # and take a gradient step for each of the data points\n",
    "        for x_i, y_i in in_random_order(data):\n",
    "            gradient_i = gradient_fn(x_i, y_i, theta)\n",
    "            theta = vector_subtract(theta, scalar_multiply(alpha, gradient_i))\n",
    "\n",
    "    return min_theta"
   ]
  },
  {
   "cell_type": "code",
   "execution_count": 4,
   "metadata": {},
   "outputs": [
    {
     "data": {
      "text/plain": [
       "array([[2.104e+03, 3.000e+00, 3.999e+05],\n",
       "       [1.600e+03, 3.000e+00, 3.299e+05],\n",
       "       [2.400e+03, 3.000e+00, 3.690e+05],\n",
       "       [1.416e+03, 2.000e+00, 2.320e+05],\n",
       "       [3.000e+03, 4.000e+00, 5.399e+05]])"
      ]
     },
     "execution_count": 4,
     "metadata": {},
     "output_type": "execute_result"
    }
   ],
   "source": [
    "data = np.loadtxt(\"ex1data2.txt\",dtype=np.float64,delimiter=\",\")\n",
    "data[:5,::] #dataset loaded demonstration"
   ]
  },
  {
   "cell_type": "code",
   "execution_count": 5,
   "metadata": {},
   "outputs": [
    {
     "data": {
      "text/plain": [
       "[4478.0,\n",
       " 4215.0,\n",
       " 3890.0,\n",
       " 3137.0,\n",
       " 3031.0,\n",
       " 3000.0,\n",
       " 2637.0,\n",
       " 2609.0,\n",
       " 2567.0,\n",
       " 2526.0,\n",
       " 2400.0,\n",
       " 2300.0,\n",
       " 2238.0,\n",
       " 2200.0,\n",
       " 2162.0,\n",
       " 2132.0,\n",
       " 2104.0,\n",
       " 2040.0,\n",
       " 2000.0,\n",
       " 1985.0,\n",
       " 1962.0,\n",
       " 1940.0,\n",
       " 1890.0,\n",
       " 1888.0,\n",
       " 1852.0,\n",
       " 1839.0,\n",
       " 1811.0,\n",
       " 1767.0,\n",
       " 1664.0,\n",
       " 1604.0,\n",
       " 1600.0,\n",
       " 1534.0,\n",
       " 1494.0,\n",
       " 1458.0,\n",
       " 1437.0,\n",
       " 1427.0,\n",
       " 1416.0,\n",
       " 1380.0,\n",
       " 1320.0,\n",
       " 1268.0,\n",
       " 1239.0,\n",
       " 1236.0,\n",
       " 1203.0,\n",
       " 1200.0,\n",
       " 1100.0,\n",
       " 1000.0,\n",
       " 852.0]"
      ]
     },
     "execution_count": 5,
     "metadata": {},
     "output_type": "execute_result"
    }
   ],
   "source": [
    "# Break datasets into X and Y.\n",
    "X_0 = np.array(data[::,0:2])\n",
    "X_1 = np.array(data[::,0])\n",
    "X_2 = np.array(data[::,1])\n",
    "Y = data[::,-1:]\n",
    "X_10 = np.sort(X_1)\n",
    "X_10 = X_10[::-1]\n",
    "X_10 = X_10.tolist()\n",
    "X_10\n"
   ]
  },
  {
   "cell_type": "code",
   "execution_count": 6,
   "metadata": {},
   "outputs": [],
   "source": [
    "# Setup bias array\n",
    "X_ones = np.ones(len(X_0))\n",
    "# Concentate arrays\n",
    "# X = [X_ones,X_0]\n",
    "X1 = np.vstack((X_ones.T,X_0.T))\n",
    "# X1 = [[X_ones],[X_0]]\n",
    "\n",
    "# X1.T"
   ]
  },
  {
   "cell_type": "code",
   "execution_count": 7,
   "metadata": {},
   "outputs": [
    {
     "data": {
      "text/plain": [
       "array([[89597.90954361],\n",
       "       [  139.21067402],\n",
       "       [-8738.01911255]])"
      ]
     },
     "execution_count": 7,
     "metadata": {},
     "output_type": "execute_result"
    }
   ],
   "source": [
    "Theta = np.linalg.pinv(X1.dot(X1.T)).dot(X1).dot(Y)\n",
    "Theta"
   ]
  },
  {
   "cell_type": "code",
   "execution_count": 8,
   "metadata": {},
   "outputs": [
    {
     "data": {
      "text/plain": [
       "array([ 1.31415422e-01, -5.09640698e-01,  5.07908699e-01, -7.43677059e-01,\n",
       "        1.27107075e+00, -1.99450507e-02, -5.93588523e-01, -7.29685755e-01,\n",
       "       -7.89466782e-01, -6.44465993e-01, -7.71822042e-02, -8.65999486e-04,\n",
       "       -1.40779041e-01,  3.15099326e+00, -9.31923697e-01,  3.80715024e-01,\n",
       "       -8.65782986e-01, -9.72625673e-01,  7.73743478e-01,  1.31050078e+00,\n",
       "       -2.97227261e-01, -1.43322915e-01, -5.04552951e-01, -4.91995958e-02,\n",
       "        2.40309445e+00, -1.14560907e+00, -6.90255715e-01,  6.68172729e-01,\n",
       "        2.53521350e-01,  8.09357707e-01, -2.05647815e-01, -1.27280274e+00,\n",
       "        5.00114703e-02,  1.44532608e+00, -2.41262044e-01, -7.16966387e-01,\n",
       "       -9.68809863e-01,  1.67029651e-01,  2.81647389e+00,  2.05187753e-01,\n",
       "       -4.28236746e-01,  3.01854946e-01,  7.20322135e-01, -1.01841540e+00,\n",
       "       -1.46104938e+00, -1.89112638e-01, -1.01459959e+00])"
      ]
     },
     "execution_count": 8,
     "metadata": {},
     "output_type": "execute_result"
    }
   ],
   "source": [
    "# Feature Scaling\n",
    "# Mean\n",
    "mean_size = np.mean(X1[1])\n",
    "mean_bedroom = np.mean(X1[2])\n",
    "# Standard Deviation\n",
    "std_size = np.std(X1[1])\n",
    "std_bedroom = np.std(X1[2])\n",
    "# Scaling\n",
    "X1[1] = (X1[1] - mean_size)/std_size\n",
    "X1[2] = (X1[2] - mean_bedroom)/std_bedroom\n",
    "X11 = X1\n",
    "X11[1]"
   ]
  },
  {
   "cell_type": "code",
   "execution_count": 9,
   "metadata": {},
   "outputs": [],
   "source": [
    "def predict(x, beta):\n",
    "    \"\"\"assumes that the first element of x is 1\"\"\"\n",
    "    return np.dot(x, beta)"
   ]
  },
  {
   "cell_type": "code",
   "execution_count": 10,
   "metadata": {},
   "outputs": [],
   "source": [
    "def error(x, y, beta):\n",
    "    return predict(x, beta) - y\n",
    "\n",
    "def squared_error(x, y, beta):\n",
    "    return error(x, y, beta) ** 2\n",
    "\n",
    "def sqerror_gradient(x, y, beta):\n",
    "    err = error(x, y, beta)\n",
    "    return [2 * err * x_i for x_i in x]\n",
    "\n"
   ]
  },
  {
   "cell_type": "code",
   "execution_count": 11,
   "metadata": {},
   "outputs": [
    {
     "data": {
      "text/plain": [
       "[array([340422.90069931]), array([109416.13897372]), array([-6531.76566368])]"
      ]
     },
     "execution_count": 11,
     "metadata": {},
     "output_type": "execute_result"
    }
   ],
   "source": [
    "Theta_0 = np.array([1,1,1])\n",
    "min_theta = minimize_stochastic(squared_error,\n",
    "                                  sqerror_gradient,\n",
    "                                  X1.T,\n",
    "                                  Y,\n",
    "                                  Theta,\n",
    "                                  0.001)\n",
    "min_theta"
   ]
  },
  {
   "cell_type": "code",
   "execution_count": 12,
   "metadata": {},
   "outputs": [
    {
     "data": {
      "text/plain": [
       "array([[356278.65767358],\n",
       "       [286136.77220019],\n",
       "       [397473.09834843],\n",
       "       [269205.55194498],\n",
       "       [472299.20820073],\n",
       "       [331041.24440014],\n",
       "       [276951.52529296],\n",
       "       [262060.29167063],\n",
       "       [255519.28250942],\n",
       "       [271384.70898555],\n",
       "       [324778.5760543 ],\n",
       "       [341804.93527431],\n",
       "       [326496.19042893],\n",
       "       [669316.93600072],\n",
       "       [239932.19684867],\n",
       "       [374879.92282101],\n",
       "       [255845.19280719],\n",
       "       [235478.74380274],\n",
       "       [417883.57879577],\n",
       "       [476613.49083897],\n",
       "       [309378.23028363],\n",
       "       [334893.98437245],\n",
       "       [286693.45383093],\n",
       "       [327840.32502338],\n",
       "       [604837.00579954],\n",
       "       [216551.56835754],\n",
       "       [266374.57430888],\n",
       "       [415008.56971678],\n",
       "       [369639.01681137],\n",
       "       [430456.48496985],\n",
       "       [328074.63439587],\n",
       "       [219986.79710679],\n",
       "       [338695.61682283],\n",
       "       [500041.6888125 ],\n",
       "       [306825.5934629 ],\n",
       "       [263451.99574748],\n",
       "       [235896.25502579],\n",
       "       [351499.29432988],\n",
       "       [641391.25353837],\n",
       "       [355674.40656044],\n",
       "       [303719.81305094],\n",
       "       [374927.49230341],\n",
       "       [412038.42167299],\n",
       "       [230468.60912607],\n",
       "       [190713.44201047],\n",
       "       [312531.580178  ],\n",
       "       [230886.12034912]])"
      ]
     },
     "execution_count": 12,
     "metadata": {},
     "output_type": "execute_result"
    }
   ],
   "source": [
    "y_hat = [predict(x_i,min_theta) for x_i in X1.T]\n",
    "y_hat = np.sort(y_hat)\n",
    "np.max(y_hat)\n",
    "y_hat\n",
    "# y_hat_alt = []\n",
    "# for i in range(len(y_hat)):\n",
    "#     y_hat_alt.append(y_hat[i][0])\n",
    "# yy2 = np.sort()\n",
    "# print(yy2)\n",
    "# y_hat_alt\n"
   ]
  },
  {
   "cell_type": "code",
   "execution_count": 13,
   "metadata": {},
   "outputs": [
    {
     "name": "stdout",
     "output_type": "stream",
     "text": [
      "Cost of house with 1650 sq ft and 3 bedroom is  [293095.29258445]\n"
     ]
    }
   ],
   "source": [
    "# predict the price of a house with 1650 square feet and 3 bedrooms\n",
    "# add bias unit 1.0\n",
    "X_predict = np.array([1.0,1650.0,3]) \n",
    "#feature scaling the data first\n",
    "X_predict[1] = (X_predict[1] - mean_size)/ (std_size) \n",
    "X_predict[2] = (X_predict[2]- mean_bedroom)/ (std_bedroom)\n",
    "hypothesis = X_predict.dot(min_theta)\n",
    "print(\"Cost of house with 1650 sq ft and 3 bedroom is \",hypothesis)"
   ]
  },
  {
   "cell_type": "code",
   "execution_count": 14,
   "metadata": {},
   "outputs": [],
   "source": [
    "def predict_line(alpha, beta, x_i):\n",
    "    return beta * x_i + alpha"
   ]
  },
  {
   "cell_type": "code",
   "execution_count": 15,
   "metadata": {},
   "outputs": [
    {
     "data": {
      "text/plain": [
       "[<matplotlib.lines.Line2D at 0x2403aa7cdc0>]"
      ]
     },
     "execution_count": 15,
     "metadata": {},
     "output_type": "execute_result"
    },
    {
     "data": {
      "image/png": "[encoded data removed]",
      "text/plain": [
       "<Figure size 432x288 with 1 Axes>"
      ]
     },
     "metadata": {
      "needs_background": "light"
     },
     "output_type": "display_data"
    }
   ],
   "source": [
    "y_hat_line = [predict_line(min_theta[0],min_theta[1],x_i) for x_i in X11[1]]\n",
    "# y_hat_line = [predict(x_i, min_theta) for x_i in X11[1]]\n",
    "y_hat_line\n",
    "plt.scatter(X_1,Y)\n",
    "plt.plot(X_1,y_hat_line)"
   ]
  },
  {
   "cell_type": "code",
   "execution_count": 16,
   "metadata": {},
   "outputs": [
    {
     "data": {
      "text/plain": [
       "[<matplotlib.lines.Line2D at 0x2403ab91310>]"
      ]
     },
     "execution_count": 16,
     "metadata": {},
     "output_type": "execute_result"
    },
    {
     "data": {
      "image/png": "[encoded data removed]",
      "text/plain": [
       "<Figure size 432x288 with 1 Axes>"
      ]
     },
     "metadata": {
      "needs_background": "light"
     },
     "output_type": "display_data"
    }
   ],
   "source": [
    "y_hat_line = [predict_line(min_theta[0],min_theta[2],x_i) for x_i in X11[2]]\n",
    "# y_hat_line = [predict(x_i, min_theta) for x_i in X11[1]]\n",
    "y_hat_line\n",
    "plt.scatter(X_2,Y)\n",
    "plt.plot(X_2,y_hat_line)"
   ]
  },
  {
   "cell_type": "code",
   "execution_count": 17,
   "metadata": {},
   "outputs": [],
   "source": [
    "# plt.scatter(num_friends_good, daily_minutes_good, marker='.', color='blue', label='ys1')\n",
    "# plt.plot(num_friends_good, y_hat, '-')\n",
    "# plt.xlabel('friends')\n",
    "# plt.ylabel('minutes')\n",
    "# plt.show()"
   ]
  },
  {
   "cell_type": "code",
   "execution_count": 18,
   "metadata": {},
   "outputs": [],
   "source": [
    "# alpha = min_theta[0]\n",
    "# beta = min_theta[1]\n",
    "# y_hat_1 = [predict_line(alpha, beta, x_i) for x_i in X_1]\n",
    "# y_hat_alt = []\n",
    "# for i in range(len(y_hat_1)):\n",
    "#     y_hat_alt.append(y_hat_1[i][0])\n",
    "# y_hat_alt   "
   ]
  },
  {
   "cell_type": "code",
   "execution_count": 19,
   "metadata": {},
   "outputs": [],
   "source": [
    "# plt.scatter(X_1, Y, marker='.', color='blue', label='ys1')\n",
    "# plt.plot(X_1, np.abs(yy2), '-')\n",
    "# # plt.xlabel('friends')\n",
    "# # plt.ylabel('minutes')\n",
    "# plt.show()"
   ]
  },
  {
   "cell_type": "code",
   "execution_count": 20,
   "metadata": {},
   "outputs": [
    {
     "data": {
      "text/plain": [
       "array([[190713.44201047, 216551.56835754, 219986.79710679,\n",
       "        230468.60912607, 230886.12034912, 235478.74380274,\n",
       "        235896.25502579, 239932.19684867, 255519.28250942,\n",
       "        255845.19280719, 262060.29167063, 263451.99574748,\n",
       "        266374.57430888, 269205.55194498, 271384.70898555,\n",
       "        276951.52529296, 286136.77220019, 286693.45383093,\n",
       "        303719.81305094, 306825.5934629 , 309378.23028363,\n",
       "        312531.580178  , 324778.5760543 , 326496.19042893,\n",
       "        327840.32502338, 328074.63439587, 331041.24440014,\n",
       "        334893.98437245, 338695.61682283, 341804.93527431,\n",
       "        351499.29432988, 355674.40656044, 356278.65767358,\n",
       "        369639.01681137, 374879.92282101, 374927.49230341,\n",
       "        397473.09834843, 412038.42167299, 415008.56971678,\n",
       "        417883.57879577, 430456.48496985, 472299.20820073,\n",
       "        476613.49083897, 500041.6888125 , 604837.00579954,\n",
       "        641391.25353837, 669316.93600072]])"
      ]
     },
     "execution_count": 20,
     "metadata": {},
     "output_type": "execute_result"
    }
   ],
   "source": [
    "# y_hat_2 = y_hat.to_list()\n",
    "# type(y_hat)\n",
    "y_hat_2 = np.array(y_hat)\n",
    "y_hat_sort = np.sort(y_hat_2)\n",
    "yy_hat = np.sort(y_hat_sort.reshape(len(y_hat_2),1))\n",
    "yy_hat = np.sort(yy_hat.T)\n",
    "# y_hat_sort = y_hat.sort()\n",
    "# print(y_hat_sort)\n",
    "# print(np.squeeze(y_hat_sort))\n",
    "# print(y_hat_sort)\n",
    "# plt.plot(X_2,np.squeeze(yy_hat))\n",
    "# yy_hat[::-1]\n",
    "# plt.plot(X_2,yy_hat[0])\n",
    "yy_hat"
   ]
  },
  {
   "cell_type": "code",
   "execution_count": 21,
   "metadata": {},
   "outputs": [
    {
     "data": {
      "text/plain": [
       "[<matplotlib.lines.Line2D at 0x2403ac646d0>]"
      ]
     },
     "execution_count": 21,
     "metadata": {},
     "output_type": "execute_result"
    },
    {
     "data": {
      "image/png": "[encoded data removed]",
      "text/plain": [
       "<Figure size 432x288 with 1 Axes>"
      ]
     },
     "metadata": {
      "needs_background": "light"
     },
     "output_type": "display_data"
    },
    {
     "data": {
      "image/png": "[encoded data removed]",
      "text/plain": [
       "<Figure size 432x288 with 1 Axes>"
      ]
     },
     "metadata": {
      "needs_background": "light"
     },
     "output_type": "display_data"
    }
   ],
   "source": [
    "# Matrix Size: Degree of Polynomial\n",
    "poly_deg = 1\n",
    "mat_size = poly_deg + 1\n",
    "\n",
    "# Create dummy matrix\n",
    "a = np.ones((mat_size,mat_size))\n",
    "b = np.ones((mat_size,1))\n",
    "\n",
    "# # Least Squares Method\n",
    "# b_0 = np.matmul(X1.T, X1)\n",
    "# # b_0 = x3.T * x3\n",
    "# b_1 = np.linalg.pinv(b_0)\n",
    "# Y_0 = np.matrix(Y)\n",
    "# b_2 = np.dot(Y.T, YX1.T)\n",
    "# b_hat = np.dot(b_1,b_2)\n",
    "# print(\"b_hat:\", b_hat)\n",
    "\n",
    "b_hat = Theta\n",
    "\n",
    "# X_11 = (X_1 - np.mean(X_1,axis=0))/(np.std(X_1,axis=0))\n",
    "# X_22 = (X_2 - np.mean(X_2,axis=0))/(np.std(X_2,axis=0))\n",
    "# X_11 = np.abs(X_11)\n",
    "# X_22 = np.abs(X_22)\n",
    "\n",
    "# Y_1 = (Y - np.mean(Y,axis=0))/(np.std(Y,axis=0))\n",
    "\n",
    "xx0 = np.linspace(0, max(X_1), len(X_1))\n",
    "xx1 = np.linspace(0, max(X_2), len(X_2))\n",
    "yy0 = np.array(b_hat[0] + b_hat[1] * xx0 + b_hat[2]*xx0)\n",
    "yy1 = np.array(b_hat[0] + b_hat[1] * xx1 + b_hat[2]*xx1)\n",
    "zz = np.array(b_hat[0] + b_hat[1] * xx0 + b_hat[2]*xx1)\n",
    "\n",
    "plot1 = plt.figure(1)\n",
    "plt.scatter(X_1,Y)\n",
    "# plt.scatter(X_2, Y)\n",
    "# plt.plot(xx1,zz.T, color = 'orange')\n",
    "plt.plot(xx0,zz.T, color = 'violet')\n",
    "\n",
    "b_hat = min_theta\n",
    "\n",
    "X_11 = (X_1 - np.mean(X_1,axis=0))/(np.std(X_1,axis=0))\n",
    "X_22 = (X_2 - np.mean(X_2,axis=0))/(np.std(X_2,axis=0))\n",
    "X_11 = np.abs(X_11)\n",
    "X_22 = np.abs(X_22)\n",
    "\n",
    "\n",
    "xx0 = np.linspace(0, max(X_11), len(X_11))\n",
    "xx1 = np.linspace(0, max(X_22), len(X_22))\n",
    "yy0 = np.array(b_hat[0] + b_hat[1] * xx0 + b_hat[2]*xx0)\n",
    "yy1 = np.array(b_hat[0] + b_hat[1] * xx1 + b_hat[2]*xx1)\n",
    "zz = np.array(b_hat[0] + b_hat[1] * xx0 + b_hat[2]*xx1)\n",
    "\n",
    "plot2 = plt.figure(2)\n",
    "plt.scatter(X_11,Y)\n",
    "# plt.scatter(X_2, Y)\n",
    "# plt.plot(xx1,zz.T, color = 'orange')\n",
    "plt.plot(xx0,zz.T, color = 'violet')"
   ]
  },
  {
   "cell_type": "code",
   "execution_count": 22,
   "metadata": {},
   "outputs": [
    {
     "data": {
      "text/plain": [
       "[<matplotlib.lines.Line2D at 0x2403acf3220>]"
      ]
     },
     "execution_count": 22,
     "metadata": {},
     "output_type": "execute_result"
    },
    {
     "data": {
      "image/png": "[encoded data removed]",
      "text/plain": [
       "<Figure size 432x288 with 1 Axes>"
      ]
     },
     "metadata": {
      "needs_background": "light"
     },
     "output_type": "display_data"
    }
   ],
   "source": [
    "## Plotting the best fit line\n",
    "min_theta = b_hat\n",
    "best_fit_x = np.linspace(np.min(X_11), np.max(X_11), len(X_11))\n",
    "best_fit_y = [min_theta[0] + min_theta[1]*xx for xx in best_fit_x]\n",
    "plt.scatter(X_11,Y)\n",
    "plt.plot(best_fit_x,best_fit_y)"
   ]
  },
  {
   "cell_type": "code",
   "execution_count": 23,
   "metadata": {},
   "outputs": [],
   "source": [
    "# plt.scatter(X_22, Y, marker='.', color='blue', label='ys1')\n",
    "# plt.plot(X_22,np.squeeze(yy_hat), '-')\n",
    "# plt.xlabel('friends')\n",
    "# plt.ylabel('minutes')\n",
    "# plt.show()"
   ]
  },
  {
   "cell_type": "code",
   "execution_count": 24,
   "metadata": {},
   "outputs": [],
   "source": [
    "# xx0 = np.linspace(0, max(X_1), len(X_1))\n",
    "# xx1 = np.linspace(0, max(X_2), len(X_2))\n",
    "# # yy0 = np.array(b_hat[0] + b_hat[1] * xx0 + b_hat[2]*xx0)\n",
    "# # yy1 = np.array(b_hat[0] + b_hat[1] * xx1 + b_hat[2]*xx1)\n",
    "# zz = np.array(min_theta[0] + min_theta[1] * xx1)"
   ]
  },
  {
   "cell_type": "code",
   "execution_count": 25,
   "metadata": {},
   "outputs": [],
   "source": [
    "# plot1 = plt.figure(1)\n",
    "# plt.scatter(X_2, Y, marker='.', color='blue', label='ys1')\n",
    "# plt.plot(xx1,zz.T)\n",
    "# # plt.plot(x_list, J_tot)\n",
    "# # plt.plot(x_list, J_tot_smooth)\n",
    "# plt.legend([\"Initial Plot\", \"Predicted Plot\", \"Predicted Trendline\"])\n",
    "# plt.grid()"
   ]
  },
  {
   "cell_type": "code",
   "execution_count": 26,
   "metadata": {},
   "outputs": [
    {
     "name": "stderr",
     "output_type": "stream",
     "text": [
      "C:\\Users\\USER\\AppData\\Local\\Temp/ipykernel_10164/695234767.py:25: VisibleDeprecationWarning: Creating an ndarray from ragged nested sequences (which is a list-or-tuple of lists-or-tuples-or ndarrays with different lengths or shapes) is deprecated. If you meant to do this, you must specify 'dtype=object' when creating the ndarray.\n",
      "  xx0_list = np.array([1,xx0,xx0])\n",
      "C:\\Users\\USER\\AppData\\Local\\Temp/ipykernel_10164/695234767.py:31: VisibleDeprecationWarning: Creating an ndarray from ragged nested sequences (which is a list-or-tuple of lists-or-tuples-or ndarrays with different lengths or shapes) is deprecated. If you meant to do this, you must specify 'dtype=object' when creating the ndarray.\n",
      "  xx0_list = np.array([1,xx1,xx1])\n",
      "C:\\Users\\USER\\AppData\\Local\\Temp/ipykernel_10164/695234767.py:37: VisibleDeprecationWarning: Creating an ndarray from ragged nested sequences (which is a list-or-tuple of lists-or-tuples-or ndarrays with different lengths or shapes) is deprecated. If you meant to do this, you must specify 'dtype=object' when creating the ndarray.\n",
      "  xx = np.array([1,xx0,xx1]).reshape(len(b_hat),1)\n"
     ]
    }
   ],
   "source": [
    "b_hat = np.array(min_theta)\n",
    "# b_hat = b_hat[::-1]\n",
    "\n",
    "# X_11 = (X_1 - np.min(X_1))/(np.max(X_1) - np.min(X_1))\n",
    "# X_22 = (X_2 - np.min(X_2))/(np.max(X_2) - np.min(X_2))\n",
    "\n",
    "X_11 = (X_1 - np.mean(X_1,axis=0))/(np.std(X_1,axis=0))\n",
    "X_22 = (X_2 - np.mean(X_2,axis=0))/(np.std(X_2,axis=0))\n",
    "X_11 = np.abs(X_11)\n",
    "X_22 = np.abs(X_22)\n",
    "\n",
    "# Y = (Y - np.min(Y))/(np.max(Y) - np.min(Y))\n",
    "# Y = (Y -np.mean(Y,axis=0))/np.std(Y,axis=0)\n",
    "\n",
    "# X_1a = (X_1 - np.mean(X_1))/(np.std(X_1))\n",
    "\n",
    "xx0 = np.linspace(0, max(X_11), len(X_11))\n",
    "xx1 = np.linspace(0, max(X_22), len(X_22))\n",
    "# yy0 = np.array(b_hat[0] + b_hat[1] * xx0 + b_hat[2]*xx0)\n",
    "# yy1 = np.array(b_hat[0] + b_hat[1] * xx1 + b_hat[2]*xx1)\n",
    "zz = np.array(b_hat[0] + b_hat[1] * xx0 + b_hat[2]*xx1)\n",
    "\n",
    "# print(yy0.shape)\n",
    "\n",
    "xx0_list = np.array([1,xx0,xx0])\n",
    "xx0_list_1 = xx0_list.reshape(len(b_hat),1)\n",
    "yy0_1 = np.dot(b_hat.T,xx0_list_1)\n",
    "yy0_2 = yy0_1.tolist()\n",
    "yy0_2 = np.squeeze(yy0_2)\n",
    "\n",
    "xx0_list = np.array([1,xx1,xx1])\n",
    "xx0_list_2 = xx0_list.reshape(len(b_hat),1)\n",
    "yy0_1 = np.dot(b_hat.T,xx0_list_2)\n",
    "yy0_3 = yy0_1.tolist()\n",
    "yy0_3 = np.squeeze(yy0_3)\n",
    "\n",
    "xx = np.array([1,xx0,xx1]).reshape(len(b_hat),1)\n",
    "zz1 = b_hat.T.dot(xx)\n",
    "zz2 = zz1.tolist()\n",
    "zz2 = np.squeeze(zz2)\n",
    "zz = np.abs(zz2)"
   ]
  },
  {
   "cell_type": "code",
   "execution_count": 27,
   "metadata": {},
   "outputs": [],
   "source": [
    "## Plotting the best fit line\n",
    "# best_fit_x = np.linspace(0, 25, 20)\n",
    "best_fit_y = [min_theta[0] + min_theta[1]*xx2 + min_theta[2]*xx1 for xx1,xx2 in zip(xx0,xx1)]"
   ]
  },
  {
   "cell_type": "code",
   "execution_count": 28,
   "metadata": {},
   "outputs": [
    {
     "data": {
      "image/png": "[encoded data removed]",
      "text/plain": [
       "<Figure size 432x288 with 1 Axes>"
      ]
     },
     "metadata": {
      "needs_background": "light"
     },
     "output_type": "display_data"
    },
    {
     "data": {
      "image/png": "[encoded data removed]",
      "text/plain": [
       "<Figure size 432x288 with 1 Axes>"
      ]
     },
     "metadata": {
      "needs_background": "light"
     },
     "output_type": "display_data"
    }
   ],
   "source": [
    "# # Plots\n",
    "\n",
    "# Actual & Predicted values\n",
    "plot1 = plt.figure(1)\n",
    "plt.scatter(X_11,Y)\n",
    "# plt.scatter(X_2,Y)\n",
    "# plt.plot(xx1,zz2, color = 'orange')\n",
    "plt.plot(xx0,best_fit_y, color = 'violet')\n",
    "# plt.scatter(xx0, yy_hat[0])\n",
    "plt.plot()\n",
    "# plt.plot(x_list, J_tot)\n",
    "# plt.plot(x_list, J_tot_smooth)\n",
    "# plt.legend([\"Initial Plot\", \"Predicted Plot\", \"Predicted Trendline\"])\n",
    "plt.grid()\n",
    "\n",
    "plot2 = plt.figure(2)\n",
    "plt.scatter(X_22, Y)\n",
    "plt.plot(xx1,zz)\n",
    "plt.plot(xx1, yy_hat[0])\n",
    "# plt.plot(x_list, J_tot)\n",
    "# plt.plot(x_list, J_tot_smooth)\n",
    "# plt.legend([\"Initial Plot\", \"Predicted Plot\", \"Predicted Trendline\"])\n",
    "plt.grid()"
   ]
  },
  {
   "cell_type": "code",
   "execution_count": 29,
   "metadata": {},
   "outputs": [
    {
     "data": {
      "image/png": "[encoded data removed]",
      "text/plain": [
       "<Figure size 432x288 with 1 Axes>"
      ]
     },
     "metadata": {
      "needs_background": "light"
     },
     "output_type": "display_data"
    },
    {
     "data": {
      "image/png": "[encoded data removed]",
      "text/plain": [
       "<Figure size 432x288 with 1 Axes>"
      ]
     },
     "metadata": {
      "needs_background": "light"
     },
     "output_type": "display_data"
    }
   ],
   "source": [
    "# # Plots\n",
    "\n",
    "# Actual & Predicted values\n",
    "plot1 = plt.figure(1)\n",
    "plt.scatter(np.abs(X_11),Y)\n",
    "# plt.scatter(X_2,Y)\n",
    "# plt.plot(xx1,zz2, color = 'orange')\n",
    "plt.plot(np.abs(xx0),np.abs(zz), color = 'violet')\n",
    "# plt.plot(x_list, J_tot)\n",
    "# plt.plot(x_list, J_tot_smooth)\n",
    "# plt.legend([\"Initial Plot\", \"Predicted Plot\", \"Predicted Trendline\"])\n",
    "plt.grid()\n",
    "\n",
    "plot2 = plt.figure(2)\n",
    "plt.scatter(np.abs(X_22), Y)\n",
    "plt.plot(np.abs(xx1),zz)\n",
    "# plt.plot(x_list, J_tot)\n",
    "# plt.plot(x_list, J_tot_smooth)\n",
    "# plt.legend([\"Initial Plot\", \"Predicted Plot\", \"Predicted Trendline\"])\n",
    "plt.grid()"
   ]
  },
  {
   "cell_type": "code",
   "execution_count": null,
   "metadata": {},
   "outputs": [],
   "source": []
  }
 ],
 "metadata": {
  "kernelspec": {
   "display_name": "Python 3 (ipykernel)",
   "language": "python",
   "name": "python3"
  },
  "language_info": {
   "codemirror_mode": {
    "name": "ipython",
    "version": 3
   },
   "file_extension": ".py",
   "mimetype": "text/x-python",
   "name": "python",
   "nbconvert_exporter": "python",
   "pygments_lexer": "ipython3",
   "version": "3.9.7"
  }
 },
 "nbformat": 4,
 "nbformat_minor": 4
}
