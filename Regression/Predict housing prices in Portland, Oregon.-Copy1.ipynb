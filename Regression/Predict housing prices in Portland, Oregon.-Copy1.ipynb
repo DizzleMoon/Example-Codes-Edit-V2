{
 "cells": [
  {
   "cell_type": "markdown",
   "metadata": {},
   "source": [
    "## Predict housing prices in Portland, Oregon.\n",
    "#### Problem statement :\n",
    "Suppose you are selling your house and you want to know what a good market price would be. One way to do this is to first collect information on recent houses sold and make a model of housing prices.\n",
    "The file ex1data2.txt contains a training set of housing prices in Portland,Oregon. The first column is the size of the house (in square feet), the second column is the number of bedrooms and the third column is the price of the house.\n",
    "Dataset is like below :\n",
    "\n",
    "| Size of the house (in square feet) | Number of bedrooms | Price of the house |\n",
    "|------------------------------------|--------------------|--------------------|\n",
    "| 2104                               | 3                  | 399900             |\n",
    "| 1600                               | 3                  | 329900             |\n",
    "| 2400                               | 3                  | 369000             |\n",
    "\n",
    "Now we have to predict housing prices in Portland, Oregon.(including which is not mention in our example dataset).\n",
    "\n",
    "**Note:This problem statement and dataset is from coursera Andrew ng machine learning [Coursework](https://www.coursera.org/learn/machine-learning)**"
   ]
  },
  {
   "cell_type": "code",
   "execution_count": 1,
   "metadata": {},
   "outputs": [],
   "source": [
    "import numpy as np\n",
    "import matplotlib.pyplot as plt\n",
    "#supressing the scientific output\n",
    "np.set_printoptions(suppress=True) "
   ]
  },
  {
   "cell_type": "code",
   "execution_count": 2,
   "metadata": {},
   "outputs": [
    {
     "data": {
      "text/plain": [
       "array([[  2104.,      3., 399900.],\n",
       "       [  1600.,      3., 329900.],\n",
       "       [  2400.,      3., 369000.],\n",
       "       [  1416.,      2., 232000.],\n",
       "       [  3000.,      4., 539900.]])"
      ]
     },
     "execution_count": 2,
     "metadata": {},
     "output_type": "execute_result"
    }
   ],
   "source": [
    "data = np.loadtxt(\"ex1data2.txt\",dtype=np.float64,delimiter=\",\")\n",
    "data[:5,::] #dataset loaded demonstration"
   ]
  },
  {
   "cell_type": "code",
   "execution_count": 3,
   "metadata": {},
   "outputs": [],
   "source": [
    "# Break datasets into X and Y.\n",
    "X = data[::,0:2]\n",
    "Y = data[::,-1:]"
   ]
  },
  {
   "cell_type": "code",
   "execution_count": 4,
   "metadata": {},
   "outputs": [
    {
     "data": {
      "image/png": "[encoded data removed]",
      "text/plain": [
       "<Figure size 1500x400 with 2 Axes>"
      ]
     },
     "metadata": {
      "needs_background": "light"
     },
     "output_type": "display_data"
    }
   ],
   "source": [
    "# Plotting example dataset\n",
    "plt.figure(figsize = (15,4),dpi=100)\n",
    "plt.subplot(121)\n",
    "plt.scatter(X[::,0:1],Y)\n",
    "plt.xlabel(\"Size of house (X1)\")\n",
    "plt.ylabel(\"Price (Y)\")\n",
    "plt.subplot(122)\n",
    "plt.scatter(X[::,-1:],Y)\n",
    "plt.xlabel(\"Number of Bedrooms (X2)\")\n",
    "plt.ylabel(\"Price (Y)\")\n",
    "plt.show()\n"
   ]
  },
  {
   "cell_type": "code",
   "execution_count": 5,
   "metadata": {},
   "outputs": [
    {
     "name": "stdout",
     "output_type": "stream",
     "text": [
      "Theta: [[0.92512636 0.80009321 0.09511145]]\n",
      "Theta_0: [[0.18951165 0.71964053 0.27946724]]\n",
      "X_bias = \n",
      " [[   1. 2104.    3.]\n",
      " [   1. 1600.    3.]\n",
      " [   1. 2400.    3.]\n",
      " [   1. 1416.    2.]\n",
      " [   1. 3000.    4.]]\n",
      "Y = \n",
      " [[399900.]\n",
      " [329900.]\n",
      " [369000.]\n",
      " [232000.]\n",
      " [539900.]]\n"
     ]
    }
   ],
   "source": [
    "# introduce weights of hypothesis (randomly initialize)\n",
    "Theta = np.random.rand(1,3)\n",
    "Theta_0 = np.array([np.random.random(),np.random.random(),np.random.random()])\n",
    "Theta_1 = np.matrix(Theta_0)\n",
    "print(\"Theta:\", Theta)\n",
    "print(\"Theta_0:\", Theta_1)\n",
    "# m is total example set , n is number of features\n",
    "m,n = X.shape\n",
    "# add bias to input matrix by simple make X0 = 1 for all\n",
    "X_bias = np.ones((m,n+1))\n",
    "X_bias[::,1:] = X\n",
    "# output first 5 X_bias examples\n",
    "print(\"X_bias = \\n\",X_bias[0:5,:])\n",
    "print(\"Y = \\n\",Y[0:5,::])"
   ]
  },
  {
   "cell_type": "code",
   "execution_count": 6,
   "metadata": {},
   "outputs": [
    {
     "data": {
      "text/plain": [
       "array([[89597.90963335],\n",
       "       [  139.21067403],\n",
       "       [-8738.01914598]])"
      ]
     },
     "execution_count": 6,
     "metadata": {},
     "output_type": "execute_result"
    }
   ],
   "source": [
    "theta_0 = np.linalg.pinv(X_bias.dot(X_bias.T))\n",
    "theta_1 = theta_0.dot(X_bias)\n",
    "theta_2 = theta_1.T.dot(Y)\n",
    "theta_2\n",
    "\n",
    "# Theta = np.linalg.pinv(X_bias.dot(X_bias.T)).dot(X_bias.T).dot(Y.T)\n",
    "# Theta"
   ]
  },
  {
   "cell_type": "code",
   "execution_count": 7,
   "metadata": {},
   "outputs": [
    {
     "data": {
      "text/plain": [
       "array([[ 1.        ,  0.13141542, -0.22609337],\n",
       "       [ 1.        , -0.5096407 , -0.22609337],\n",
       "       [ 1.        ,  0.5079087 , -0.22609337],\n",
       "       [ 1.        , -0.74367706, -1.5543919 ],\n",
       "       [ 1.        ,  1.27107075,  1.10220517]])"
      ]
     },
     "execution_count": 7,
     "metadata": {},
     "output_type": "execute_result"
    }
   ],
   "source": [
    "#feature scaling\n",
    "# it also protect program from overflow error\n",
    "mean_size = np.mean(X_bias[::,1:2])\n",
    "mean_bedroom = np.mean(X_bias[::,2:])\n",
    "size_std = np.std(X_bias[::,1:2])\n",
    "bedroom_std = np.std(X_bias[::,2:])\n",
    "X_bias[::,1:2] = (X_bias[::,1:2] - mean_size)/ (size_std) \n",
    "X_bias[::,2:] = (X_bias[::,2:] - mean_bedroom)/ (bedroom_std)\n",
    "X_bias[0:5,::]"
   ]
  },
  {
   "cell_type": "code",
   "execution_count": 8,
   "metadata": {},
   "outputs": [],
   "source": [
    "#define function to find cost\n",
    "def cost(X_bias,Y,Theta):\n",
    "#     np.seterr(over='raise')\n",
    "    m,n = X_bias.shape\n",
    "    hypothesis = X_bias.dot(Theta.transpose())\n",
    "    return (1/(2.0*m))*((np.square(hypothesis-Y)).sum(axis=0))"
   ]
  },
  {
   "cell_type": "code",
   "execution_count": 9,
   "metadata": {},
   "outputs": [],
   "source": [
    "#function gradient descent algorithm from minimizing theta\n",
    "def gradientDescent(X_bias,Y,Theta,iterations,alpha):\n",
    "    count = 1\n",
    "    cost_log = np.array([])\n",
    "    while(count <= iterations):\n",
    "        hypothesis = X_bias.dot(Theta.transpose())\n",
    "        temp0 = Theta[0,0] - alpha*(1.0/m)*((hypothesis-Y)*(X_bias[::,0:1])).sum(axis=0)\n",
    "        temp1 = Theta[0,1] - alpha*(1.0/m)*((hypothesis-Y)*(X_bias[::,1:2])).sum(axis=0)\n",
    "        temp2 = Theta[0,2] - alpha*(1.0/m)*((hypothesis-Y)*(X_bias[::,-1:])).sum(axis=0)\n",
    "        Theta[0,0] = temp0\n",
    "        Theta[0,1] = temp1\n",
    "        Theta[0,2] = temp2\n",
    "        cost_log = np.append(cost_log,cost(X_bias,Y,Theta))\n",
    "        count = count + 1\n",
    "    plt.plot(np.linspace(1,iterations,iterations,endpoint=True),cost_log)\n",
    "    plt.title(\"Iteration vs Cost graph \")\n",
    "    plt.xlabel(\"Number of iteration\")\n",
    "    plt.ylabel(\"Cost of Theta\")\n",
    "    plt.show()\n",
    "    return Theta"
   ]
  },
  {
   "cell_type": "code",
   "execution_count": 10,
   "metadata": {},
   "outputs": [
    {
     "data": {
      "image/png": "[encoded data removed]",
      "text/plain": [
       "<Figure size 432x288 with 1 Axes>"
      ]
     },
     "metadata": {
      "needs_background": "light"
     },
     "output_type": "display_data"
    }
   ],
   "source": [
    "alpha = 0.03\n",
    "iterations = 1000\n",
    "Theta = gradientDescent(X_bias,Y,theta_2.T,iterations,alpha)\n",
    "# print(np.min(Theta))"
   ]
  },
  {
   "cell_type": "code",
   "execution_count": 11,
   "metadata": {},
   "outputs": [
    {
     "name": "stdout",
     "output_type": "stream",
     "text": [
      "Cost of house with 1650 sq ft and 3 bedroom is  [293081.48428707]\n"
     ]
    }
   ],
   "source": [
    "# predict the price of a house with 1650 square feet and 3 bedrooms\n",
    "# add bias unit 1.0\n",
    "X_predict = np.array([1.0,1650.0,3]) \n",
    "#feature scaling the data first\n",
    "X_predict[1] = (X_predict[1] - mean_size)/ (size_std) \n",
    "X_predict[2] = (X_predict[2]- mean_bedroom)/ (bedroom_std)\n",
    "hypothesis = X_predict.dot(Theta.transpose())\n",
    "print(\"Cost of house with 1650 sq ft and 3 bedroom is \",hypothesis)\n"
   ]
  },
  {
   "cell_type": "code",
   "execution_count": null,
   "metadata": {},
   "outputs": [],
   "source": []
  }
 ],
 "metadata": {
  "kernelspec": {
   "display_name": "Python 3 (ipykernel)",
   "language": "python",
   "name": "python3"
  },
  "language_info": {
   "codemirror_mode": {
    "name": "ipython",
    "version": 3
   },
   "file_extension": ".py",
   "mimetype": "text/x-python",
   "name": "python",
   "nbconvert_exporter": "python",
   "pygments_lexer": "ipython3",
   "version": "3.8.3"
  }
 },
 "nbformat": 4,
 "nbformat_minor": 2
}
