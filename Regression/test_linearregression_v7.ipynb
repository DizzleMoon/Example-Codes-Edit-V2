{
 "cells": [
  {
   "cell_type": "code",
   "execution_count": 151,
   "metadata": {},
   "outputs": [],
   "source": [
    "import os.path\n",
    "import random\n",
    "import sys\n",
    "import numpy as np\n",
    "from stats import mean, de_mean, standard_deviation, correlation\n",
    "from gradient_descent import minimize_stochastic\n",
    "import matplotlib.pyplot as plt"
   ]
  },
  {
   "cell_type": "code",
   "execution_count": 152,
   "metadata": {},
   "outputs": [],
   "source": [
    "def vector_subtract(v, w):\n",
    "    \"\"\"subtracts corresponding elements\"\"\"\n",
    "    return [v_i - w_i for v_i, w_i in zip(v, w)]\n",
    "\n",
    "def scalar_multiply(c, v):\n",
    "    \"\"\"c is a number, v is a vector\"\"\"\n",
    "    return [c * v_i for v_i in v]\n",
    "\n",
    "def in_random_order(data):\n",
    "#\"\"\"generator\tthat\treturns\tthe\telements\tof\tdata\tin\trandom\torder\"\"\"\n",
    "    indexes = [i for i,_ in enumerate(data)]\n",
    "    random.shuffle(indexes)\n",
    "    for i in indexes:\n",
    "        yield data[i]\n",
    "\n",
    "def minimize_stochastic(target_fn, gradient_fn, x, y, theta_0, alpha_0=0.01):\n",
    "    data = list(zip(x, y))\n",
    "    \n",
    "    # initial guess\n",
    "    theta = theta_0\n",
    "    \n",
    "    # initial step size\n",
    "    alpha = alpha_0\n",
    "    \n",
    "    # the minimum so far\n",
    "    min_theta, min_value = None, float(\"inf\")\n",
    "    iterations_with_no_improvement = 0\n",
    "\n",
    "    # if we ever go 100 iterations with no improvement, stop\n",
    "    while iterations_with_no_improvement < 1500:\n",
    "        value = sum(target_fn(x_i, y_i, theta) for x_i, y_i in data)\n",
    "\n",
    "        if value < min_value:\n",
    "            # if we've found a new minimum, remember it\n",
    "            # and go back to the original step size\n",
    "            min_theta, min_value = theta, value\n",
    "            iterations_with_no_improvement = 0\n",
    "            alpha = alpha_0\n",
    "        else:\n",
    "            # otherwise we're not improving, so try shrinking the step size\n",
    "            iterations_with_no_improvement += 1\n",
    "            alpha *= 0.9\n",
    "\n",
    "        # and take a gradient step for each of the data points\n",
    "        for x_i, y_i in data:\n",
    "            gradient_i = gradient_fn(x_i, y_i, theta)\n",
    "            theta = vector_subtract(theta, scalar_multiply(alpha, gradient_i))\n",
    "\n",
    "    return min_theta"
   ]
  },
  {
   "cell_type": "code",
   "execution_count": 153,
   "metadata": {},
   "outputs": [
    {
     "data": {
      "text/plain": [
       "array([[2.104e+03, 3.000e+00, 3.999e+05],\n",
       "       [1.600e+03, 3.000e+00, 3.299e+05],\n",
       "       [2.400e+03, 3.000e+00, 3.690e+05],\n",
       "       [1.416e+03, 2.000e+00, 2.320e+05],\n",
       "       [3.000e+03, 4.000e+00, 5.399e+05]])"
      ]
     },
     "execution_count": 153,
     "metadata": {},
     "output_type": "execute_result"
    }
   ],
   "source": [
    "data = np.loadtxt(\"ex1data2.txt\",dtype=np.float64,delimiter=\",\")\n",
    "data[:5,::] #dataset loaded demonstration"
   ]
  },
  {
   "cell_type": "code",
   "execution_count": 154,
   "metadata": {},
   "outputs": [
    {
     "data": {
      "text/plain": [
       "array([[399900.],\n",
       "       [329900.],\n",
       "       [369000.],\n",
       "       [232000.],\n",
       "       [539900.],\n",
       "       [299900.],\n",
       "       [314900.],\n",
       "       [198999.],\n",
       "       [212000.],\n",
       "       [242500.],\n",
       "       [239999.],\n",
       "       [347000.],\n",
       "       [329999.],\n",
       "       [699900.],\n",
       "       [259900.],\n",
       "       [449900.],\n",
       "       [299900.],\n",
       "       [199900.],\n",
       "       [499998.],\n",
       "       [599000.],\n",
       "       [252900.],\n",
       "       [255000.],\n",
       "       [242900.],\n",
       "       [259900.],\n",
       "       [573900.],\n",
       "       [249900.],\n",
       "       [464500.],\n",
       "       [469000.],\n",
       "       [475000.],\n",
       "       [299900.],\n",
       "       [349900.],\n",
       "       [169900.],\n",
       "       [314900.],\n",
       "       [579900.],\n",
       "       [285900.],\n",
       "       [249900.],\n",
       "       [229900.],\n",
       "       [345000.],\n",
       "       [549000.],\n",
       "       [287000.],\n",
       "       [368500.],\n",
       "       [329900.],\n",
       "       [314000.],\n",
       "       [299000.],\n",
       "       [179900.],\n",
       "       [299900.],\n",
       "       [239500.]])"
      ]
     },
     "execution_count": 154,
     "metadata": {},
     "output_type": "execute_result"
    }
   ],
   "source": [
    "# Break datasets into X and Y.\n",
    "X_0 = np.array(data[::,0:2])\n",
    "X_1 = np.array(data[::,0])\n",
    "X_2 = np.array(data[::,1])\n",
    "Y = data[::,-1:]\n",
    "X_10 = np.sort(X_1)\n",
    "X_10 = X_10[::-1]\n",
    "X_10 = X_10.tolist()\n",
    "# X_10\n",
    "Y"
   ]
  },
  {
   "cell_type": "code",
   "execution_count": 155,
   "metadata": {},
   "outputs": [],
   "source": [
    "# Setup bias array\n",
    "X_ones = np.ones(len(X_0))\n",
    "# Concentate arrays\n",
    "# X = [X_ones,X_0]\n",
    "X1 = np.vstack((X_ones.T,X_0.T))\n",
    "# X1 = [[X_ones],[X_0]]\n",
    "\n",
    "# X1.T"
   ]
  },
  {
   "cell_type": "code",
   "execution_count": 156,
   "metadata": {},
   "outputs": [
    {
     "data": {
      "text/plain": [
       "array([[89597.90954361],\n",
       "       [  139.21067402],\n",
       "       [-8738.01911255]])"
      ]
     },
     "execution_count": 156,
     "metadata": {},
     "output_type": "execute_result"
    }
   ],
   "source": [
    "Theta = np.linalg.pinv(X1.dot(X1.T)).dot(X1).dot(Y)\n",
    "Theta"
   ]
  },
  {
   "cell_type": "code",
   "execution_count": 157,
   "metadata": {},
   "outputs": [
    {
     "data": {
      "text/plain": [
       "array([[89597.90954361],\n",
       "       [  139.21067402],\n",
       "       [-8738.01911255]])"
      ]
     },
     "execution_count": 157,
     "metadata": {},
     "output_type": "execute_result"
    }
   ],
   "source": [
    "theta_0 = np.linalg.pinv(X1.dot(X1.T))\n",
    "theta_1 = theta_0.dot(X1)\n",
    "theta_2 = theta_1.dot(Y)\n",
    "theta_2"
   ]
  },
  {
   "cell_type": "code",
   "execution_count": 158,
   "metadata": {},
   "outputs": [
    {
     "name": "stdout",
     "output_type": "stream",
     "text": [
      "2000.6808510638298\n"
     ]
    }
   ],
   "source": [
    "# Feature Scaling\n",
    "# Mean\n",
    "mean_size = np.mean(X1[1],axis=0)\n",
    "mean_bedroom = np.mean(X1[2],axis=0)\n",
    "# Standard Deviation\n",
    "std_size = np.std(X1[1],axis=0)\n",
    "std_bedroom = np.std(X1[2],axis=0)\n",
    "# Scaling\n",
    "X1[1] = (X1[1] - mean_size)/std_size\n",
    "X1[2] = (X1[2] - mean_bedroom)/std_bedroom\n",
    "X11 = X1\n",
    "X11[1]\n",
    "print(mean_size)"
   ]
  },
  {
   "cell_type": "code",
   "execution_count": 159,
   "metadata": {},
   "outputs": [],
   "source": [
    "def predict(x, beta):\n",
    "    \"\"\"assumes that the first element of x is 1\"\"\"\n",
    "#     print(\"X: \\n\", x)\n",
    "    return np.dot(x, beta)"
   ]
  },
  {
   "cell_type": "code",
   "execution_count": 160,
   "metadata": {},
   "outputs": [],
   "source": [
    "def error(x, y, beta):\n",
    "    return predict(x, beta) - y\n",
    "\n",
    "def squared_error(x, y, beta):\n",
    "    return error(x, y, beta) ** 2\n",
    "\n",
    "def sqerror_gradient(x, y, beta):\n",
    "    err = error(x, y, beta)\n",
    "    return [2 * err * x_i for x_i in x]\n",
    "\n",
    "def cost(X_bias,Y,Theta):\n",
    "#     np.seterr(over='raise')\n",
    "    m = X_bias.shape\n",
    "    Theta = np.array(Theta)\n",
    "    hypothesis = X_bias.dot(Theta)\n",
    "    cost_val = (1/(2*m[0]))*((np.square(hypothesis-Y)).sum(axis=0))\n",
    "    return cost_val"
   ]
  },
  {
   "cell_type": "code",
   "execution_count": 161,
   "metadata": {},
   "outputs": [],
   "source": [
    "def minimize_stochastic_v5(target_fn, gradient_fn, x, y, theta_0, alpha_0):\n",
    "    data = list(zip(x, y))\n",
    "    \n",
    "    # initial guess\n",
    "    theta = theta_0\n",
    "    \n",
    "    # initial step size\n",
    "    alpha = alpha_0 \n",
    "    \n",
    "    # the minimum so far\n",
    "    min_theta, min_value = None, float(\"inf\")\n",
    "    iterations_with_no_improvement = 0\n",
    "    \n",
    "    tol = 1e-2\n",
    "    min_theta_1 = 0\n",
    "    cnt = 0\n",
    "    \n",
    "    tol2 = []\n",
    "\n",
    "    # if we ever go 100 iterations with no improvement, stop\n",
    "    while iterations_with_no_improvement < 1500:\n",
    "        value = sum(target_fn(x_i, y_i, theta) for x_i, y_i in data)\n",
    "\n",
    "        if value < min_value:\n",
    "            # if we've found a new minimum, remember it\n",
    "            # and go back to the original step size\n",
    "            min_theta, min_value = theta, value\n",
    "#             tol1 = min_theta_1 - np.sum(min_theta)\n",
    "#             tol = abs(tol1)\n",
    "#             print('Tol: \\n',tol)\n",
    "    #         print(tol)\n",
    "    #         min_theta_1 = min_theta[0][0]\n",
    "#             min_theta_1 = np.sum(min_theta)\n",
    "            iterations_with_no_improvement -= 1\n",
    "            alpha = alpha_0\n",
    "        else:\n",
    "            # otherwise we're not improving, so try shrinking the step size\n",
    "            iterations_with_no_improvement += 1\n",
    "            alpha *= 0.9\n",
    "            \n",
    "#         print('alpha:\\n',alpha)\n",
    "\n",
    "        # and take a gradient step for each of the data points\n",
    "        for x_i, y_i in data:\n",
    "            gradient_i = gradient_fn(x_i, y_i, theta)\n",
    "            theta = vector_subtract(theta, scalar_multiply(alpha, gradient_i))\n",
    "#             cost_val = cost(x_i,y,theta)\n",
    "            \n",
    "            \n",
    "#         cost_val = cost(x,y,theta)\n",
    "#         print('Cost Val', cost_val)\n",
    "            \n",
    "#         Y_err_1 = theta_0 - min_theta\n",
    "#         Y_err_1_sq = np.square(Y_err_1)\n",
    "#         tol = np.sum(Y_err_1_sq)\n",
    "#         tol = squared_error(x_i, y_i, min_theta)\n",
    "#         print('Y_error:', tol)\n",
    "            \n",
    "        cnt += 1\n",
    "            \n",
    "#         tol1 = (min_theta_1 - np.sum(min_theta))\n",
    "#         print('tol1: \\n',tol)\n",
    "#         tol2.append(tol1)\n",
    "        \n",
    "\n",
    "    return min_theta,cnt"
   ]
  },
  {
   "cell_type": "code",
   "execution_count": 162,
   "metadata": {},
   "outputs": [
    {
     "name": "stdout",
     "output_type": "stream",
     "text": [
      "[array([339943.11053415]), array([108087.70234047]), array([-6826.07888617])]\n",
      "2106\n"
     ]
    }
   ],
   "source": [
    "# Theta_0 = np.array([1,0,0])\n",
    "Theta_0 = np.random.rand(1,3)\n",
    "min_theta,cnt = minimize_stochastic_v5(squared_error,\n",
    "                                  sqerror_gradient,\n",
    "                                  X1.T,\n",
    "                                  Y,\n",
    "                                  Theta,\n",
    "                                  0.01)\n",
    "print(min_theta)\n",
    "print(cnt)"
   ]
  },
  {
   "cell_type": "code",
   "execution_count": 163,
   "metadata": {},
   "outputs": [],
   "source": [
    "# min_theta = minimize_stochastic(squared_error,\n",
    "#                                   sqerror_gradient,\n",
    "#                                   X1.T,\n",
    "#                                   Y,\n",
    "#                                   Theta,\n",
    "#                                   0.3)\n",
    "# min_theta"
   ]
  },
  {
   "cell_type": "code",
   "execution_count": 164,
   "metadata": {},
   "outputs": [
    {
     "name": "stdout",
     "output_type": "stream",
     "text": [
      "(3, 47)\n"
     ]
    },
    {
     "data": {
      "text/plain": [
       "663935.921587474"
      ]
     },
     "execution_count": 164,
     "metadata": {},
     "output_type": "execute_result"
    }
   ],
   "source": [
    "xx_i = []\n",
    "for x_i in X1.T:\n",
    "    xx_i.append(x_i)\n",
    "    \n",
    "print(X1.shape)\n",
    "\n",
    "y_hat = [predict(x_i,min_theta) for x_i in X1.T]\n",
    "y_hat = np.sort(y_hat)\n",
    "np.max(y_hat)\n",
    "# y_hat\n",
    "# y_hat_alt = []\n",
    "# for i in range(len(y_hat)):\n",
    "#     y_hat_alt.append(y_hat[i][0])\n",
    "# yy2 = np.sort()\n",
    "# print(yy2)\n",
    "# y_hat_alt\n"
   ]
  },
  {
   "cell_type": "code",
   "execution_count": 165,
   "metadata": {},
   "outputs": [
    {
     "name": "stdout",
     "output_type": "stream",
     "text": [
      "Cost of house with 1650 sq ft and 3 bedroom is  [293274.58569099]\n"
     ]
    }
   ],
   "source": [
    "# predict the price of a house with 1650 square feet and 3 bedrooms\n",
    "# add bias unit 1.0\n",
    "X_predict = np.array([1.0,1650.0,3]) \n",
    "#feature scaling the data first\n",
    "X_predict[1] = (X_predict[1] - mean_size)/ (std_size) \n",
    "X_predict[2] = (X_predict[2]- mean_bedroom)/ (std_bedroom)\n",
    "hypothesis = X_predict.dot(min_theta)\n",
    "print(\"Cost of house with 1650 sq ft and 3 bedroom is \",hypothesis)\n",
    "# print(mean_size)"
   ]
  },
  {
   "cell_type": "code",
   "execution_count": 166,
   "metadata": {},
   "outputs": [
    {
     "name": "stdout",
     "output_type": "stream",
     "text": [
      "Cost of house with 1650 sq ft and 3 bedroom is  [293081.46433499]\n"
     ]
    }
   ],
   "source": [
    "# predict the price of a house with 1650 square feet and 3 bedrooms\n",
    "# add bias unit 1.0\n",
    "X_predict = np.array([1.0,1650.0,3]) \n",
    "#feature scaling the data first\n",
    "# X_predict[1] = (X_predict[1] - mean_size)/ (std_size) \n",
    "# X_predict[2] = (X_predict[2]- mean_bedroom)/ (std_bedroom)\n",
    "hypothesis = X_predict.dot(theta_2)\n",
    "print(\"Cost of house with 1650 sq ft and 3 bedroom is \",hypothesis)\n",
    "# print(mean_size)"
   ]
  },
  {
   "cell_type": "code",
   "execution_count": 167,
   "metadata": {},
   "outputs": [],
   "source": [
    "def predict_line(alpha, beta, x_i):\n",
    "    return beta * x_i + alpha"
   ]
  },
  {
   "cell_type": "code",
   "execution_count": 168,
   "metadata": {},
   "outputs": [
    {
     "data": {
      "text/plain": [
       "[<matplotlib.lines.Line2D at 0x23b0d7c5490>]"
      ]
     },
     "execution_count": 168,
     "metadata": {},
     "output_type": "execute_result"
    },
    {
     "data": {
      "image/png": "[encoded data removed]",
      "text/plain": [
       "<Figure size 432x288 with 1 Axes>"
      ]
     },
     "metadata": {
      "needs_background": "light"
     },
     "output_type": "display_data"
    }
   ],
   "source": [
    "y_hat_line = [predict_line(min_theta[0],min_theta[1],x_i) for x_i in X11[1]]\n",
    "# y_hat_line = [predict(x_i, min_theta) for x_i in X11[1]]\n",
    "y_hat_line\n",
    "plt.scatter(X_1,Y)\n",
    "plt.plot(X_1,y_hat_line)"
   ]
  },
  {
   "cell_type": "code",
   "execution_count": 169,
   "metadata": {},
   "outputs": [
    {
     "data": {
      "text/plain": [
       "[<matplotlib.lines.Line2D at 0x23b0d8128e0>]"
      ]
     },
     "execution_count": 169,
     "metadata": {},
     "output_type": "execute_result"
    },
    {
     "data": {
      "image/png": "[encoded data removed]",
      "text/plain": [
       "<Figure size 432x288 with 1 Axes>"
      ]
     },
     "metadata": {
      "needs_background": "light"
     },
     "output_type": "display_data"
    }
   ],
   "source": [
    "y_hat_line = [predict_line(min_theta[0],min_theta[2],x_i) for x_i in X11[2]]\n",
    "# y_hat_line = [predict(x_i, min_theta) for x_i in X11[1]]\n",
    "y_hat_line\n",
    "plt.scatter(X_2,Y)\n",
    "plt.plot(X_2,y_hat_line)"
   ]
  },
  {
   "cell_type": "code",
   "execution_count": 170,
   "metadata": {},
   "outputs": [
    {
     "data": {
      "image/png": "[encoded data removed]",
      "text/plain": [
       "<Figure size 432x288 with 1 Axes>"
      ]
     },
     "metadata": {
      "needs_background": "light"
     },
     "output_type": "display_data"
    },
    {
     "data": {
      "image/png": "[encoded data removed]",
      "text/plain": [
       "<Figure size 432x288 with 1 Axes>"
      ]
     },
     "metadata": {
      "needs_background": "light"
     },
     "output_type": "display_data"
    }
   ],
   "source": [
    "# Building the model\n",
    "# X1 = X11[1]\n",
    "# X_mean_1 = np.mean(X1)\n",
    "# X2 = X11[2]\n",
    "# X_mean_2 = np.mean(X2)\n",
    "# # Y1 = (Y - np.mean(Y,axis=0))/np.std(Y,axis=0)\n",
    "# Y_mean = np.mean(Y)\n",
    "\n",
    "# num1 = 0\n",
    "# den1 = 0\n",
    "# num2 = 0\n",
    "# den2 = 0\n",
    "# for i in range(len(X1)):\n",
    "#     num1 += (X1[i] - X_mean_1)*(Y[i] - Y_mean)\n",
    "#     den1 += (X1[i] - X_mean_1)**2\n",
    "#     num2 += (X2[i] - X_mean_2)*(Y[i] - Y_mean)\n",
    "#     den2 += (X2[i] - X_mean_2)**2\n",
    "# m1 = num1 / den1\n",
    "# m2 = num2 / den2\n",
    "# c1 = Y_mean - m1*X_mean_1 - m2*X_mean_2\n",
    "\n",
    "# print(m1, c1)\n",
    "\n",
    "\n",
    "# # Making predictions\n",
    "# Y_pred_1 = m1*X1 + c1\n",
    "# Y_pred_2 = m2*X2 + c1\n",
    "\n",
    "y_hat_line_1 = [predict_line(min_theta[0],min_theta[1],x_i) for x_i in X11[1]]\n",
    "plt.scatter(X_1, Y) # actual\n",
    "plt.plot([min(X_1), max(X_1)], [min(y_hat_line_1), max(y_hat_line_1)], color='red') # predicted\n",
    "# plt.plot(X,Y_pred)\n",
    "plt.show()\n",
    "\n",
    "\n",
    "y_hat_line_2 = [predict_line(min_theta[0],min_theta[1],x_i) for x_i in X11[2]]\n",
    "plt.scatter(X_2, Y) # actual\n",
    "plt.plot([min(X_2), max(X_2)], [min(y_hat_line_2), max(y_hat_line_2)], color='green') # predicted\n",
    "# plt.plot(X,Y_pred)\n",
    "plt.show()"
   ]
  },
  {
   "cell_type": "code",
   "execution_count": 171,
   "metadata": {},
   "outputs": [
    {
     "name": "stdout",
     "output_type": "stream",
     "text": [
      "[-242403.54741991]\n"
     ]
    }
   ],
   "source": [
    "sumofsquares = 0\n",
    "sumofresiduals = 0\n",
    "score = 0\n",
    "\n",
    "# y_hat = [predict(x_i,min_theta_2) for x_i in X1.T]\n",
    "\n",
    "Y1 = (Y - np.mean(Y,axis=0))/np.std(Y,axis=0)\n",
    "\n",
    "y_mean = np.mean(Y1)\n",
    "min_theta_2 = np.array(min_theta)\n",
    "\n",
    "# for i in X1.T:\n",
    "#     y_pred = predict(x_i,min_theta_2)\n",
    "#     sumofsquares += (Y[])\n",
    "# for x_i in X1.T:\n",
    "#     print(x_i)\n",
    "# X12 = X1.T\n",
    "# y_pred = X1.T.dot(min_theta_2)\n",
    "for i in range(len(Y)):\n",
    "#     X_pred = np.array(X_predict[i])\n",
    "#     y_pred = X1.T.dot(min_theta_2)\n",
    "    y_pred = X_predict.dot(min_theta)\n",
    "#     print(y_pred)\n",
    "#     y_pred = Theta[0] + Theta[1]*X_bias\n",
    "    sumofsquares += (Y[i] - y_mean) ** 2\n",
    "    sumofresiduals += (Y[i] - y_pred) ** 2\n",
    "#     score += 1 - np.mean(sumofresiduals/sumofsquares)\n",
    "#     print(score[0])\n",
    "    \n",
    "score = 1 - (sumofresiduals/sumofsquares)\n",
    "# print(np.abs(np.mean(score)))\n",
    "# print(np.mean(score))\n",
    "# print(np.mean(score))\n",
    "print(score)\n",
    "\n"
   ]
  },
  {
   "cell_type": "code",
   "execution_count": 172,
   "metadata": {},
   "outputs": [],
   "source": [
    "# sumofsquares = 0\n",
    "# sumofresiduals = 0\n",
    "\n",
    "# # y_hat = [predict(x_i,min_theta_2) for x_i in X1.T]\n",
    "# y_mean = np.mean(Y)\n",
    "\n",
    "# # for i in X1.T:\n",
    "# #     y_pred = predict(x_i,min_theta_2)\n",
    "# #     sumofsquares += (Y[])\n",
    "# # for x_i in X1.T:\n",
    "# #     print(x_i)\n",
    "# X12 = X1.T\n",
    "# min_theta = np.array(min_theta)\n",
    "# for i in range(len(Y)):\n",
    "#     y_pred = predict(X12[i],min_theta)\n",
    "# #     y_pred = X_predict.dot(min_theta)\n",
    "#     sumofsquares = (Y[i] - y_mean) ** 2\n",
    "#     sumofresiduals = (Y[i] - y_pred) ** 2\n",
    "#     score = 1 - (sumofresiduals/sumofsquares)\n",
    "# #     print(score[0])\n",
    "    \n",
    "# # score = 1 - (sumofresiduals/sumofsquares)\n",
    "# print(score[0])\n"
   ]
  },
  {
   "cell_type": "code",
   "execution_count": 173,
   "metadata": {},
   "outputs": [],
   "source": [
    "# sumofsquares = 0\n",
    "# sumofresiduals = 0\n",
    "\n",
    "# # y_hat = [predict(x_i,min_theta_2) for x_i in X1.T]\n",
    "# y_mean = np.mean(Y)\n",
    "\n",
    "# # for i in X1.T:\n",
    "# #     y_pred = predict(x_i,min_theta_2)\n",
    "# #     sumofsquares += (Y[])\n",
    "# # for x_i in X1.T:\n",
    "# #     print(x_i)\n",
    "# X12 = X1.T\n",
    "# min_theta = np.array(min_theta)\n",
    "# for i in range(len(Y)):\n",
    "#     y_pred = predict(X12[i],min_theta)\n",
    "# #     y_pred = X_predict.dot(min_theta)\n",
    "#     sumofsquares = (Y[i] - y_mean) ** 2\n",
    "#     sumofresiduals = (Y[i] - y_pred) ** 2\n",
    "#     score = 1 - (sumofresiduals/sumofsquares)\n",
    "# #     print(score[0])\n",
    "    \n",
    "# # score = 1 - (sumofresiduals/sumofsquares)\n",
    "# print(score[0])\n"
   ]
  },
  {
   "cell_type": "code",
   "execution_count": 174,
   "metadata": {},
   "outputs": [
    {
     "name": "stdout",
     "output_type": "stream",
     "text": [
      "[[ 1.00000000e+00  1.31415422e-01 -2.26093368e-01]\n",
      " [ 1.00000000e+00 -5.09640698e-01 -2.26093368e-01]\n",
      " [ 1.00000000e+00  5.07908699e-01 -2.26093368e-01]\n",
      " [ 1.00000000e+00 -7.43677059e-01 -1.55439190e+00]\n",
      " [ 1.00000000e+00  1.27107075e+00  1.10220517e+00]\n",
      " [ 1.00000000e+00 -1.99450507e-02  1.10220517e+00]\n",
      " [ 1.00000000e+00 -5.93588523e-01 -2.26093368e-01]\n",
      " [ 1.00000000e+00 -7.29685755e-01 -2.26093368e-01]\n",
      " [ 1.00000000e+00 -7.89466782e-01 -2.26093368e-01]\n",
      " [ 1.00000000e+00 -6.44465993e-01 -2.26093368e-01]\n",
      " [ 1.00000000e+00 -7.71822042e-02  1.10220517e+00]\n",
      " [ 1.00000000e+00 -8.65999486e-04 -2.26093368e-01]\n",
      " [ 1.00000000e+00 -1.40779041e-01 -2.26093368e-01]\n",
      " [ 1.00000000e+00  3.15099326e+00  2.43050370e+00]\n",
      " [ 1.00000000e+00 -9.31923697e-01 -2.26093368e-01]\n",
      " [ 1.00000000e+00  3.80715024e-01  1.10220517e+00]\n",
      " [ 1.00000000e+00 -8.65782986e-01 -1.55439190e+00]\n",
      " [ 1.00000000e+00 -9.72625673e-01 -2.26093368e-01]\n",
      " [ 1.00000000e+00  7.73743478e-01  1.10220517e+00]\n",
      " [ 1.00000000e+00  1.31050078e+00  1.10220517e+00]\n",
      " [ 1.00000000e+00 -2.97227261e-01 -2.26093368e-01]\n",
      " [ 1.00000000e+00 -1.43322915e-01 -1.55439190e+00]\n",
      " [ 1.00000000e+00 -5.04552951e-01 -2.26093368e-01]\n",
      " [ 1.00000000e+00 -4.91995958e-02  1.10220517e+00]\n",
      " [ 1.00000000e+00  2.40309445e+00 -2.26093368e-01]\n",
      " [ 1.00000000e+00 -1.14560907e+00 -2.26093368e-01]\n",
      " [ 1.00000000e+00 -6.90255715e-01 -2.26093368e-01]\n",
      " [ 1.00000000e+00  6.68172729e-01 -2.26093368e-01]\n",
      " [ 1.00000000e+00  2.53521350e-01 -2.26093368e-01]\n",
      " [ 1.00000000e+00  8.09357707e-01 -2.26093368e-01]\n",
      " [ 1.00000000e+00 -2.05647815e-01 -1.55439190e+00]\n",
      " [ 1.00000000e+00 -1.27280274e+00 -2.88269044e+00]\n",
      " [ 1.00000000e+00  5.00114703e-02  1.10220517e+00]\n",
      " [ 1.00000000e+00  1.44532608e+00 -2.26093368e-01]\n",
      " [ 1.00000000e+00 -2.41262044e-01  1.10220517e+00]\n",
      " [ 1.00000000e+00 -7.16966387e-01 -2.26093368e-01]\n",
      " [ 1.00000000e+00 -9.68809863e-01 -2.26093368e-01]\n",
      " [ 1.00000000e+00  1.67029651e-01  1.10220517e+00]\n",
      " [ 1.00000000e+00  2.81647389e+00  1.10220517e+00]\n",
      " [ 1.00000000e+00  2.05187753e-01  1.10220517e+00]\n",
      " [ 1.00000000e+00 -4.28236746e-01 -1.55439190e+00]\n",
      " [ 1.00000000e+00  3.01854946e-01 -2.26093368e-01]\n",
      " [ 1.00000000e+00  7.20322135e-01  1.10220517e+00]\n",
      " [ 1.00000000e+00 -1.01841540e+00 -2.26093368e-01]\n",
      " [ 1.00000000e+00 -1.46104938e+00 -1.55439190e+00]\n",
      " [ 1.00000000e+00 -1.89112638e-01  1.10220517e+00]\n",
      " [ 1.00000000e+00 -1.01459959e+00 -2.26093368e-01]]\n"
     ]
    },
    {
     "data": {
      "text/plain": [
       "array([[355690.83271523],\n",
       "       [286400.5496751 ],\n",
       "       [396385.12592927],\n",
       "       [270171.16771765],\n",
       "       [469806.4875389 ],\n",
       "       [330263.55641642],\n",
       "       [277326.82213413],\n",
       "       [262616.38506014],\n",
       "       [256154.79120521],\n",
       "       [271827.59332142],\n",
       "       [324076.92400212],\n",
       "       [341392.83780219],\n",
       "       [326269.95856724],\n",
       "       [663935.92158747],\n",
       "       [240756.95052962],\n",
       "       [373569.9833165 ],\n",
       "       [256973.01856715],\n",
       "       [236357.56747945],\n",
       "       [416051.52589467],\n",
       "       [474068.38986875],\n",
       "       [309359.82996816],\n",
       "       [335062.06770761],\n",
       "       [286950.47255637],\n",
       "       [327101.49984911],\n",
       "       [601231.39920267],\n",
       "       [217660.18951625],\n",
       "       [266878.28738999],\n",
       "       [413707.69668931],\n",
       "       [368888.98186573],\n",
       "       [428968.05664457],\n",
       "       [328325.51241204],\n",
       "       [222046.25864649],\n",
       "       [337824.99603389],\n",
       "       [497708.41680343],\n",
       "       [306341.91108113],\n",
       "       [263991.19226332],\n",
       "       [236770.00964041],\n",
       "       [350473.22230312],\n",
       "       [636845.56272492],\n",
       "       [354597.64391265],\n",
       "       [304266.38635644],\n",
       "       [374113.2492378 ],\n",
       "       [410277.33564133],\n",
       "       [231408.26154802],\n",
       "       [192632.04145846],\n",
       "       [311978.62061416],\n",
       "       [231820.70370897]])"
      ]
     },
     "execution_count": 174,
     "metadata": {},
     "output_type": "execute_result"
    }
   ],
   "source": [
    "X12 = X1.T\n",
    "print(X12)\n",
    "y_pred = predict(X12,min_theta)\n",
    "y_pred\n",
    "# X12[0]"
   ]
  },
  {
   "cell_type": "code",
   "execution_count": 175,
   "metadata": {},
   "outputs": [
    {
     "data": {
      "text/plain": [
       "0.9646538044966335"
      ]
     },
     "execution_count": 175,
     "metadata": {},
     "output_type": "execute_result"
    }
   ],
   "source": [
    "sumofsquares = (Y - y_mean) ** 2\n",
    "sumofresiduals = (Y - y_pred) ** 2\n",
    "score = 1 - (sumofresiduals/sumofsquares)\n",
    "score.mean()"
   ]
  },
  {
   "cell_type": "code",
   "execution_count": 176,
   "metadata": {},
   "outputs": [],
   "source": [
    "# sumofresiduals\n",
    "# sumofsquares "
   ]
  },
  {
   "cell_type": "code",
   "execution_count": 177,
   "metadata": {},
   "outputs": [],
   "source": [
    "yym = y_mean * np.ones((len(Y),1))\n",
    "sumofsquares = (Y - yym) ** 2\n",
    "# sumofsquares"
   ]
  },
  {
   "cell_type": "code",
   "execution_count": 178,
   "metadata": {},
   "outputs": [],
   "source": [
    "# score = 1 - (sumofresiduals/sumofsquares)\n",
    "# score.mean()"
   ]
  },
  {
   "cell_type": "code",
   "execution_count": 179,
   "metadata": {},
   "outputs": [
    {
     "data": {
      "text/plain": [
       "array([[2.71992232e+21]])"
      ]
     },
     "execution_count": 179,
     "metadata": {},
     "output_type": "execute_result"
    }
   ],
   "source": [
    "ssr = sumofresiduals.T.dot(sumofresiduals)\n",
    "ssq = sumofsquares.T.dot(sumofsquares)\n",
    "ssr"
   ]
  },
  {
   "cell_type": "code",
   "execution_count": 180,
   "metadata": {},
   "outputs": [
    {
     "data": {
      "text/plain": [
       "array([0.99789463])"
      ]
     },
     "execution_count": 180,
     "metadata": {},
     "output_type": "execute_result"
    }
   ],
   "source": [
    "score = 1 - (ssr/ssq)\n",
    "score[0]"
   ]
  },
  {
   "cell_type": "code",
   "execution_count": null,
   "metadata": {},
   "outputs": [],
   "source": []
  }
 ],
 "metadata": {
  "kernelspec": {
   "display_name": "Python 3 (ipykernel)",
   "language": "python",
   "name": "python3"
  },
  "language_info": {
   "codemirror_mode": {
    "name": "ipython",
    "version": 3
   },
   "file_extension": ".py",
   "mimetype": "text/x-python",
   "name": "python",
   "nbconvert_exporter": "python",
   "pygments_lexer": "ipython3",
   "version": "3.9.7"
  }
 },
 "nbformat": 4,
 "nbformat_minor": 4
}
