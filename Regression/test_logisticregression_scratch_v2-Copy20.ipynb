{
 "cells": [
  {
   "cell_type": "code",
   "execution_count": 177,
   "metadata": {},
   "outputs": [],
   "source": [
    "from typing import List, Dict, Iterable, Tuple, Callable\n",
    "from matplotlib import pyplot as plt\n",
    "from collections import Counter\n",
    "import pygal\n",
    "import sys\n",
    "import os\n",
    "import string\n",
    "import urllib.request\n",
    "import requests\n",
    "import curl\n",
    "import pycurl\n",
    "import webbrowser\n",
    "import numpy as np\n",
    "import math\n",
    "import pandas as pd\n",
    "# from IPython import qt\n",
    "from matplotlib.pyplot import figure\n",
    "from py.xml import raw\n",
    "from requests.api import get\n",
    "from matplotlib import pyplot as plt\n",
    "# from scratch.working_with_data import rescale\n",
    "# from scratch.multiple_regression import least_squares_fit, predict\n",
    "# from scratch.gradient_descent import gradient_step\n",
    "\n",
    "# from stats import mean, median, de_mean, standard_deviation, correlation\n",
    "# from gradient_descent import minimize_stochastic, maximize_stochastic, maximize_batch\n",
    "# from vector import dot, vector_add\n",
    "# from normal import normal_cdf\n",
    "# from matrix import make_matrix, get_column, shape, matrix_multiply\n",
    "# from logistic_regression import *\n",
    "\n",
    "import math\n",
    "import os\n",
    "import random\n",
    "import sys\n",
    "from functools import partial, reduce\n"
   ]
  },
  {
   "cell_type": "code",
   "execution_count": 178,
   "metadata": {},
   "outputs": [],
   "source": [
    "data = [(0.7,48000,1),(1.9,48000,0),(2.5,60000,1),(4.2,63000,0),(6,76000,0),(6.5,69000,0),(7.5,76000,0),(8.1,88000,0),(8.7,83000,1),(10,83000,1),(0.8,43000,0),(1.8,60000,0),(10,79000,1),(6.1,76000,0),(1.4,50000,0),(9.1,92000,0),(5.8,75000,0),(5.2,69000,0),(1,56000,0),(6,67000,0),(4.9,74000,0),(6.4,63000,1),(6.2,82000,0),(3.3,58000,0),(9.3,90000,1),(5.5,57000,1),(9.1,102000,0),(2.4,54000,0),(8.2,65000,1),(5.3,82000,0),(9.8,107000,0),(1.8,64000,0),(0.6,46000,1),(0.8,48000,0),(8.6,84000,1),(0.6,45000,0),(0.5,30000,1),(7.3,89000,0),(2.5,48000,1),(5.6,76000,0),(7.4,77000,0),(2.7,56000,0),(0.7,48000,0),(1.2,42000,0),(0.2,32000,1),(4.7,56000,1),(2.8,44000,1),(7.6,78000,0),(1.1,63000,0),(8,79000,1),(2.7,56000,0),(6,52000,1),(4.6,56000,0),(2.5,51000,0),(5.7,71000,0),(2.9,65000,0),(1.1,33000,1),(3,62000,0),(4,71000,0),(2.4,61000,0),(7.5,75000,0),(9.7,81000,1),(3.2,62000,0),(7.9,88000,0),(4.7,44000,1),(2.5,55000,0),(1.6,41000,0),(6.7,64000,1),(6.9,66000,1),(7.9,78000,1),(8.1,102000,0),(5.3,48000,1),(8.5,66000,1),(0.2,56000,0),(6,69000,0),(7.5,77000,0),(8,86000,0),(4.4,68000,0),(4.9,75000,0),(1.5,60000,0),(2.2,50000,0),(3.4,49000,1),(4.2,70000,0),(7.7,98000,0),(8.2,85000,0),(5.4,88000,0),(0.1,46000,0),(1.5,37000,0),(6.3,86000,0),(3.7,57000,0),(8.4,85000,0),(2,42000,0),(5.8,69000,1),(2.7,64000,0),(3.1,63000,0),(1.9,48000,0),(10,72000,1),(0.2,45000,0),(8.6,95000,0),(1.5,64000,0),(9.8,95000,0),(5.3,65000,0),(7.5,80000,0),(9.9,91000,0),(9.7,50000,1),(2.8,68000,0),(3.6,58000,0),(3.9,74000,0),(4.4,76000,0),(2.5,49000,0),(7.2,81000,0),(5.2,60000,1),(2.4,62000,0),(8.9,94000,0),(2.4,63000,0),(6.8,69000,1),(6.5,77000,0),(7,86000,0),(9.4,94000,0),(7.8,72000,1),(0.2,53000,0),(10,97000,0),(5.5,65000,0),(7.7,71000,1),(8.1,66000,1),(9.8,91000,0),(8,84000,0),(2.7,55000,0),(2.8,62000,0),(9.4,79000,0),(2.5,57000,0),(7.4,70000,1),(2.1,47000,0),(5.3,62000,1),(6.3,79000,0),(6.8,58000,1),(5.7,80000,0),(2.2,61000,0),(4.8,62000,0),(3.7,64000,0),(4.1,85000,0),(2.3,51000,0),(3.5,58000,0),(0.9,43000,0),(0.9,54000,0),(4.5,74000,0),(6.5,55000,1),(4.1,41000,1),(7.1,73000,0),(1.1,66000,0),(9.1,81000,1),(8,69000,1),(7.3,72000,1),(3.3,50000,0),(3.9,58000,0),(2.6,49000,0),(1.6,78000,0),(0.7,56000,0),(2.1,36000,1),(7.5,90000,0),(4.8,59000,1),(8.9,95000,0),(6.2,72000,0),(6.3,63000,0),(9.1,100000,0),(7.3,61000,1),(5.6,74000,0),(0.5,66000,0),(1.1,59000,0),(5.1,61000,0),(6.2,70000,0),(6.6,56000,1),(6.3,76000,0),(6.5,78000,0),(5.1,59000,0),(9.5,74000,1),(4.5,64000,0),(2,54000,0),(1,52000,0),(4,69000,0),(6.5,76000,0),(3,60000,0),(4.5,63000,0),(7.8,70000,0),(3.9,60000,1),(0.8,51000,0),(4.2,78000,0),(1.1,54000,0),(6.2,60000,0),(2.9,59000,0),(2.1,52000,0),(8.2,87000,0),(4.8,73000,0),(2.2,42000,1),(9.1,98000,0),(6.5,84000,0),(6.9,73000,0),(5.1,72000,0),(9.1,69000,1),(9.8,79000,1),]"
   ]
  },
  {
   "cell_type": "code",
   "execution_count": 179,
   "metadata": {},
   "outputs": [],
   "source": [
    "x = [(1,) + row[:2] for row in data]\n",
    "y = [row[2] for row in data]"
   ]
  },
  {
   "cell_type": "code",
   "execution_count": 180,
   "metadata": {},
   "outputs": [
    {
     "data": {
      "image/png": "[encoded data removed]",
      "text/plain": [
       "<Figure size 432x288 with 1 Axes>"
      ]
     },
     "metadata": {
      "needs_background": "light"
     },
     "output_type": "display_data"
    }
   ],
   "source": [
    "plt.scatter([row[0] for row in data if row[2]],\n",
    "            [row[1] for row in data if row[2]],\n",
    "            marker='.', label='paid')\n",
    "plt.scatter([row[0] for row in data if not row[2]],\n",
    "            [row[1] for row in data if not row[2]],\n",
    "            marker='+', label='unpaid')\n",
    "plt.xlabel('experience')\n",
    "plt.ylabel('salary')\n",
    "plt.legend()\n",
    "plt.title('Paid and Unpaid Users')\n",
    "plt.show()"
   ]
  },
  {
   "cell_type": "code",
   "execution_count": 181,
   "metadata": {},
   "outputs": [],
   "source": [
    "# Datasets\n",
    "exp = []\n",
    "salary = []\n",
    "binary_cnt = []\n",
    "\n",
    "for i in range(0,len(data)):\n",
    "    exp.append(data[i][0])\n",
    "    salary.append(data[i][1])\n",
    "    binary_cnt.append(data[i][2])"
   ]
  },
  {
   "cell_type": "code",
   "execution_count": 182,
   "metadata": {},
   "outputs": [
    {
     "name": "stdout",
     "output_type": "stream",
     "text": [
      "b_hat: [[    0.       ]\n",
      " [11122.7948074]]\n"
     ]
    }
   ],
   "source": [
    "# Intialize matrix\n",
    "\n",
    "# Matrix Size: Degree of Polynomial\n",
    "poly_deg = 1\n",
    "mat_size = poly_deg + 1\n",
    "\n",
    "# Create dummy matrix\n",
    "a = np.ones((mat_size,mat_size))\n",
    "b = np.ones((mat_size,1))\n",
    "\n",
    "y = salary\n",
    "actual_y = salary\n",
    "\n",
    "x_ones = np.zeros((len(data),1))\n",
    "x_exp = np.matrix(exp)\n",
    "x_exp = np.transpose(x_exp)\n",
    "\n",
    "x3 = np.hstack((x_ones,x_exp))\n",
    "y = np.matrix(y)\n",
    "\n",
    "# Least Squares Method\n",
    "b_0 = np.matmul(x3.T, x3)\n",
    "# b_0 = x3.T * x3\n",
    "b_1 = np.linalg.pinv(b_0)\n",
    "salary = np.matrix(salary)\n",
    "b_2 = np.matmul(x3.T, salary.T)\n",
    "b_hat = np.dot(b_1,b_2)\n",
    "print(\"b_hat:\", b_hat)\n",
    "# ab0 = b_hat[1:][:,0]\n",
    "# ab1 = b_hat[1:][:,1]"
   ]
  },
  {
   "cell_type": "code",
   "execution_count": 183,
   "metadata": {},
   "outputs": [],
   "source": [
    "xx1 = np.linspace(min(exp), max(exp), len(exp))\n",
    "xx0 = np.linspace(0, max(salary), len(salary))\n",
    "zz = np.array(b_hat[0] + b_hat[1]* xx1)"
   ]
  },
  {
   "cell_type": "code",
   "execution_count": 184,
   "metadata": {},
   "outputs": [
    {
     "data": {
      "text/plain": [
       "[None,\n",
       " None,\n",
       " None,\n",
       " None,\n",
       " None,\n",
       " None,\n",
       " None,\n",
       " None,\n",
       " None,\n",
       " None,\n",
       " None,\n",
       " None,\n",
       " None,\n",
       " None,\n",
       " None,\n",
       " None,\n",
       " None,\n",
       " None,\n",
       " None,\n",
       " None,\n",
       " None,\n",
       " None,\n",
       " None,\n",
       " None,\n",
       " None,\n",
       " None,\n",
       " None,\n",
       " None,\n",
       " None,\n",
       " None,\n",
       " None,\n",
       " None,\n",
       " None,\n",
       " None,\n",
       " None,\n",
       " None,\n",
       " None,\n",
       " None,\n",
       " None,\n",
       " None,\n",
       " None,\n",
       " None,\n",
       " None,\n",
       " None,\n",
       " None,\n",
       " None,\n",
       " None,\n",
       " None,\n",
       " None,\n",
       " None,\n",
       " None,\n",
       " None,\n",
       " None,\n",
       " None,\n",
       " None,\n",
       " None,\n",
       " None,\n",
       " None,\n",
       " None,\n",
       " None,\n",
       " None,\n",
       " None,\n",
       " None,\n",
       " None,\n",
       " None,\n",
       " None,\n",
       " None,\n",
       " None,\n",
       " None,\n",
       " None,\n",
       " None,\n",
       " None,\n",
       " None,\n",
       " None,\n",
       " None,\n",
       " None,\n",
       " None,\n",
       " None,\n",
       " None,\n",
       " None,\n",
       " None,\n",
       " None,\n",
       " None,\n",
       " None,\n",
       " None,\n",
       " None,\n",
       " None,\n",
       " None,\n",
       " None,\n",
       " None,\n",
       " None,\n",
       " None,\n",
       " None,\n",
       " None,\n",
       " None,\n",
       " None,\n",
       " None,\n",
       " None,\n",
       " None,\n",
       " None,\n",
       " None,\n",
       " None,\n",
       " None,\n",
       " None,\n",
       " None,\n",
       " None,\n",
       " None,\n",
       " None,\n",
       " None,\n",
       " None,\n",
       " None,\n",
       " None,\n",
       " None,\n",
       " None,\n",
       " None,\n",
       " None,\n",
       " None,\n",
       " None,\n",
       " None,\n",
       " None,\n",
       " None,\n",
       " None,\n",
       " None,\n",
       " None,\n",
       " None,\n",
       " None,\n",
       " None,\n",
       " None,\n",
       " None,\n",
       " None,\n",
       " None,\n",
       " None,\n",
       " None,\n",
       " None,\n",
       " None,\n",
       " None,\n",
       " None,\n",
       " None,\n",
       " None,\n",
       " None,\n",
       " None,\n",
       " None,\n",
       " None,\n",
       " None,\n",
       " None,\n",
       " None,\n",
       " None,\n",
       " None]"
      ]
     },
     "execution_count": 184,
     "metadata": {},
     "output_type": "execute_result"
    }
   ],
   "source": [
    "exp_paid = []\n",
    "sal_paid = []\n",
    "[exp_paid.append(row[0]) for row in data if row[2]]\n",
    "[sal_paid.append(row[1]) for row in data if row[2]]\n",
    "\n",
    "exp_unpaid = []\n",
    "sal_unpaid = []\n",
    "[exp_unpaid.append(row[0]) for row in data if not row[2]]\n",
    "[sal_unpaid.append(row[1]) for row in data if not row[2]]"
   ]
  },
  {
   "cell_type": "code",
   "execution_count": 185,
   "metadata": {},
   "outputs": [
    {
     "name": "stdout",
     "output_type": "stream",
     "text": [
      "b_hat: [[34373.1900048 ]\n",
      " [ 4413.34411411]]\n"
     ]
    }
   ],
   "source": [
    "# Intialize matrix\n",
    "\n",
    "# Matrix Size: Degree of Polynomial\n",
    "poly_deg = 2\n",
    "mat_size = poly_deg + 1\n",
    "\n",
    "# Create dummy matrix\n",
    "a = np.ones((mat_size,mat_size))\n",
    "b = np.ones((mat_size,1))\n",
    "\n",
    "y_paid = sal_paid\n",
    "actual_y = sal_paid\n",
    "\n",
    "x_ones = np.ones((len(exp_paid),1))\n",
    "x_exp_paid = np.matrix(exp_paid)\n",
    "x_exp_paid = np.transpose(x_exp_paid)\n",
    "\n",
    "x3 = np.hstack((x_ones,x_exp_paid))\n",
    "y = np.matrix(y)\n",
    "\n",
    "# Least Squares Method\n",
    "b_0 = np.matmul(x3.T, x3)\n",
    "# b_0 = x3.T * x3\n",
    "b_1 = np.linalg.inv(b_0)\n",
    "salary = np.matrix(sal_paid)\n",
    "b_2 = np.matmul(x3.T, salary.T)\n",
    "b_hat_paid = np.matmul(b_1,b_2)\n",
    "print(\"b_hat:\", b_hat_paid)"
   ]
  },
  {
   "cell_type": "code",
   "execution_count": 186,
   "metadata": {},
   "outputs": [
    {
     "name": "stdout",
     "output_type": "stream",
     "text": [
      "b_hat: [[45917.35864871]\n",
      " [ 4921.58239363]]\n"
     ]
    }
   ],
   "source": [
    "# Intialize matrix\n",
    "\n",
    "# Matrix Size: Degree of Polynomial\n",
    "poly_deg = 2\n",
    "mat_size = poly_deg + 1\n",
    "\n",
    "# Create dummy matrix\n",
    "a = np.ones((mat_size,mat_size))\n",
    "b = np.ones((mat_size,1))\n",
    "\n",
    "y_unpaid = sal_unpaid\n",
    "# actual_y = sal_paid\n",
    "\n",
    "x_ones = np.ones((len(exp_unpaid),1))\n",
    "x_exp_unpaid = np.matrix(exp_unpaid)\n",
    "x_exp_unpaid = np.transpose(x_exp_unpaid)\n",
    "\n",
    "x3 = np.hstack((x_ones,x_exp_unpaid))\n",
    "y = np.matrix(y)\n",
    "\n",
    "# Least Squares Method\n",
    "b_0 = np.matmul(x3.T, x3)\n",
    "# b_0 = x3.T * x3\n",
    "b_1 = np.linalg.pinv(b_0)\n",
    "salary = np.matrix(sal_unpaid)\n",
    "b_2 = np.matmul(x3.T, salary.T)\n",
    "b_hat_unpaid = np.matmul(b_1,b_2)\n",
    "print(\"b_hat:\", b_hat_unpaid)"
   ]
  },
  {
   "cell_type": "code",
   "execution_count": 187,
   "metadata": {},
   "outputs": [],
   "source": [
    "xx1 = np.linspace(min(exp), max(exp), len(exp))\n",
    "xx0 = np.linspace(0, max(salary), len(salary))\n",
    "zz_paid = np.array(b_hat_paid[0] + b_hat_paid[1] * xx1)\n",
    "zz_unpaid = np.array(b_hat_unpaid[0] + b_hat_unpaid[1] * xx1)"
   ]
  },
  {
   "cell_type": "code",
   "execution_count": 188,
   "metadata": {},
   "outputs": [
    {
     "data": {
      "image/png": "[encoded data removed]",
      "text/plain": [
       "<Figure size 432x288 with 1 Axes>"
      ]
     },
     "metadata": {
      "needs_background": "light"
     },
     "output_type": "display_data"
    }
   ],
   "source": [
    "# # Plots\n",
    "\n",
    "# Actual & Predicted values\n",
    "plot1 = plt.figure(1)\n",
    "# plt.scatter([row[0] for row in data if row[2]],\n",
    "#             [row[1] for row in data if row[2]],\n",
    "#             marker='.', label='paid')\n",
    "# plt.scatter([row[0] for row in data if not row[2]],\n",
    "#             [row[1] for row in data if not row[2]],\n",
    "#             marker='+', label='unpaid')\n",
    "plt.scatter(exp_paid, sal_paid, marker='.', label='paid')\n",
    "plt.scatter(exp_unpaid, sal_unpaid, marker='+', label='unpaid')\n",
    "# plt.plot(xx1.T,zz_paid.T)\n",
    "# plt.plot(xx1.T,zz_unpaid.T)\n",
    "plt.plot(xx1.T, (zz_unpaid.T+zz_paid.T + zz.T)/3)\n",
    "# plt.plot(xx1.T,zz.T)\n",
    "plt.xlabel('experience')\n",
    "plt.ylabel('salary')\n",
    "plt.legend()\n",
    "plt.title('Paid and Unpaid Users')\n",
    "# plt.scatter(dist, actual_y)\n",
    "# plt.plot(x_list, J_tot)\n",
    "# plt.plot(x_list, J_tot_smooth)\n",
    "# plt.legend([\"Initial Plot\", \"Predicted Plot\", \"Predicted Trendline\"])\n",
    "plt.ticklabel_format(useOffset=False)\n",
    "plt.grid()\n",
    "plt.show()"
   ]
  },
  {
   "cell_type": "code",
   "execution_count": 189,
   "metadata": {},
   "outputs": [
    {
     "data": {
      "text/plain": [
       "30000"
      ]
     },
     "execution_count": 189,
     "metadata": {},
     "output_type": "execute_result"
    }
   ],
   "source": [
    "x0 = [row[:2] for row in data]\n",
    "y0 = [row[2] for row in data]\n",
    "\n",
    "x = [row[0] for row in data]\n",
    "y = [row[1] for row in data]\n",
    "\n",
    "min(y)"
   ]
  },
  {
   "cell_type": "code",
   "execution_count": 190,
   "metadata": {},
   "outputs": [],
   "source": [
    "\n",
    "# Intialize matrix\n",
    "\n",
    "# Matrix Size: Degree of Polynomial\n",
    "poly_deg = 2\n",
    "mat_size = poly_deg + 1\n",
    "\n",
    "# Create dummy matrix\n",
    "a = np.ones((mat_size,mat_size))\n",
    "b = np.ones((mat_size,1))\n",
    "\n",
    "#%%\n",
    "# Create Input & Output arrays\n",
    "\n",
    "# Create output values\n",
    "# y = []\n",
    "# for i in range(0,row_data):\n",
    "#     y.append(dataset.iloc[i,7])\n",
    "\n",
    "# Create input values\n",
    "# len_Jan = len(y)\n",
    "# x = list(range(0,len_Jan))\n",
    "actual_x = x\n",
    "\n",
    "# print(\"Y\",y)\n",
    "# print(\"ActX\",actual_x )\n",
    "\n",
    "# Normalize input array\n",
    "# Mean\n",
    "meanX = np.mean(x, axis=0)\n",
    "# meanY = np.mean(y_Jan, axis=0)\n",
    "# Standard Deviation\n",
    "stdX = np.std(x, axis = 0)\n",
    "x = (x- meanX) / stdX\n",
    "# Variance\n",
    "varX = np.var(y)\n",
    "meanY = np.mean(y)\n",
    "stdY = np.std(y)\n",
    "# print(x)\n",
    "\n",
    "#%%\n",
    "# Create design matrix\n",
    "for i in range(0,mat_size):\n",
    "    for j in range(0,mat_size):\n",
    "        a[i][j] = np.sum(np.power(x,(i+j)))\n",
    "\n",
    "# Create matrix\n",
    "amat = np.mat(a)\n",
    "\n",
    "# print(a)\n",
    "# print(a[0][0])\n",
    "\n",
    "# Create design output\n",
    "for k in range(0, mat_size):\n",
    "    b[k] = np.sum(np.power(x.T,k) * y)\n",
    "\n",
    "#%%\n",
    "# Calculate coefficients\n",
    "# Inverse input matrix\n",
    "amat_inv = np.linalg.pinv(amat)\n",
    "z = amat_inv * b\n",
    "# Transpose coefficient vector\n",
    "zz = z.T\n",
    "# Reverse index list\n",
    "z3 = zz[::-1]\n",
    "# print(\"z3: \", zz)\n",
    "\n",
    "# print(len(x))\n",
    "# print(len(y))\n",
    "\n",
    "#%%\n",
    "# Predict values\n",
    "\n",
    "# Create list\n",
    "# x_list = list(range(min(y),max(y)))\n",
    "x_list = np.linspace(min(y),max(y),len(y))\n",
    "x = x_list\n",
    "# Normalization\n",
    "x = (x - meanX) / stdX\n",
    "\n",
    "# print(\"XX:\",x)\n",
    "\n",
    "# Create dummy array\n",
    "J = np.ones((len(x), 1))\n",
    "cost = np.ones((len(x),1))\n",
    "vec_out = np.ones((mat_size, 1))\n",
    "# Solve for predicted values\n",
    "for q in (range(len(x))):\n",
    "    for p in range(0, mat_size):\n",
    "        vec_out[p] = x[q] ** p\n",
    "    # Algebraic vector\n",
    "    vec_out = np.matrix(vec_out)\n",
    "    # Matrix multiplication\n",
    "    l = np.matmul(z3,vec_out)\n",
    "    J[q] = l\n",
    "    # Cost Function\n",
    "    cost[q] = (1/(2 * len(x))) * np.sum(np.square(J[q] - vec_out))\n"
   ]
  },
  {
   "cell_type": "code",
   "execution_count": 200,
   "metadata": {},
   "outputs": [
    {
     "data": {
      "text/plain": [
       "[<matplotlib.lines.Line2D at 0x1c6eef24fa0>]"
      ]
     },
     "execution_count": 200,
     "metadata": {},
     "output_type": "execute_result"
    },
    {
     "data": {
      "image/png": "[encoded data removed]",
      "text/plain": [
       "<Figure size 432x288 with 1 Axes>"
      ]
     },
     "metadata": {
      "needs_background": "light"
     },
     "output_type": "display_data"
    }
   ],
   "source": [
    "plt.scatter(exp_paid, sal_paid, marker='.', label='paid')\n",
    "plt.scatter(exp_unpaid, sal_unpaid, marker='+', label='unpaid')\n",
    "plt.plot(xx1,J/[10000000] + [30000])\n",
    "# plt.plot(xx1, (zz_unpaid.T+zz_paid.T + zz.T)/3)\n",
    "# plt.ticklabel_format(useOffset=False)"
   ]
  },
  {
   "cell_type": "code",
   "execution_count": 192,
   "metadata": {},
   "outputs": [
    {
     "data": {
      "text/plain": [
       "200"
      ]
     },
     "execution_count": 192,
     "metadata": {},
     "output_type": "execute_result"
    }
   ],
   "source": [
    "len(J)"
   ]
  },
  {
   "cell_type": "code",
   "execution_count": null,
   "metadata": {},
   "outputs": [],
   "source": []
  }
 ],
 "metadata": {
  "kernelspec": {
   "display_name": "Python 3 (ipykernel)",
   "language": "python",
   "name": "python3"
  },
  "language_info": {
   "codemirror_mode": {
    "name": "ipython",
    "version": 3
   },
   "file_extension": ".py",
   "mimetype": "text/x-python",
   "name": "python",
   "nbconvert_exporter": "python",
   "pygments_lexer": "ipython3",
   "version": "3.9.7"
  }
 },
 "nbformat": 4,
 "nbformat_minor": 4
}
