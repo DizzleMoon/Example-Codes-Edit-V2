{
 "cells": [
  {
   "cell_type": "markdown",
   "metadata": {},
   "source": [
    "# Chapter 14 - Linear Regression"
   ]
  },
  {
   "cell_type": "code",
   "execution_count": 1937,
   "metadata": {},
   "outputs": [],
   "source": [
    "import os.path\n",
    "import random\n",
    "import sys\n",
    "import numpy as np"
   ]
  },
  {
   "cell_type": "code",
   "execution_count": 1938,
   "metadata": {},
   "outputs": [],
   "source": [
    "book_dir = '/Users/CBare/Documents/projects/data-science-from-scratch'\n",
    "sys.path.extend(os.path.join(book_dir, 'chapter_{:02d}'.format(i)) for i in [3,4,5,6,7,8])"
   ]
  },
  {
   "cell_type": "code",
   "execution_count": 1939,
   "metadata": {},
   "outputs": [],
   "source": [
    "# from stats import mean, de_mean, standard_deviation, correlation\n",
    "# from gradient_descent import minimize_stochastic\n",
    "\n",
    "def vector_subtract(v, w):\n",
    "    \"\"\"subtracts corresponding elements\"\"\"\n",
    "    return [v_i - w_i for v_i, w_i in zip(v, w)]\n",
    "\n",
    "def scalar_multiply(c, v):\n",
    "    \"\"\"c is a number, v is a vector\"\"\"\n",
    "    return [c * v_i for v_i in v]\n",
    "\n",
    "def in_random_order(data):\n",
    "#\"\"\"generator\tthat\treturns\tthe\telements\tof\tdata\tin\trandom\torder\"\"\"\n",
    "    indexes = [i for i,_ in enumerate(data)]\n",
    "    random.shuffle(indexes)\n",
    "    for i in indexes:\n",
    "        yield data[i]\n",
    "\n",
    "def minimize_stochastic(target_fn, gradient_fn, x, y, theta_0, alpha_0=0.01):\n",
    "    data = zip(x, y)\n",
    "    \n",
    "    # initial guess\n",
    "    theta = theta_0\n",
    "    \n",
    "    # initial step size\n",
    "    alpha = alpha_0\n",
    "    \n",
    "    # the minimum so far\n",
    "    min_theta, min_value = None, float(\"inf\")\n",
    "    iterations_with_no_improvement = 0\n",
    "\n",
    "    # if we ever go 100 iterations with no improvement, stop\n",
    "    while iterations_with_no_improvement < 100:\n",
    "        value = sum(target_fn(x_i, y_i, theta) for x_i, y_i in data)\n",
    "\n",
    "        if np.all(value) < np.all(min_value):\n",
    "            # if we've found a new minimum, remember it\n",
    "            # and go back to the original step size\n",
    "            min_theta, min_value = theta, value\n",
    "            iterations_with_no_improvement = 0\n",
    "            alpha = alpha_0\n",
    "        else:\n",
    "            # otherwise we're not improving, so try shrinking the step size\n",
    "            iterations_with_no_improvement += 1\n",
    "            alpha *= 0.9\n",
    "\n",
    "        # and take a gradient step for each of the data points\n",
    "        for x_i, y_i in in_random_order(data):\n",
    "            gradient_i = gradient_fn(x_i, y_i, theta)\n",
    "            theta = vector_subtract(theta, scalar_multiply(alpha, gradient_i))\n",
    "\n",
    "    return min_theta"
   ]
  },
  {
   "cell_type": "code",
   "execution_count": 1940,
   "metadata": {},
   "outputs": [],
   "source": [
    "import matplotlib.pyplot as plt"
   ]
  },
  {
   "cell_type": "code",
   "execution_count": 1941,
   "metadata": {},
   "outputs": [],
   "source": [
    "def predict(alpha, beta, x_i):\n",
    "    return beta * x_i + alpha"
   ]
  },
  {
   "cell_type": "code",
   "execution_count": 1942,
   "metadata": {},
   "outputs": [],
   "source": [
    "# def predict(x_i,theta):\n",
    "#     return x_i.dot(theta)"
   ]
  },
  {
   "cell_type": "code",
   "execution_count": 1943,
   "metadata": {},
   "outputs": [],
   "source": [
    "def error(alpha, beta, x_i, y_i):\n",
    "    return y_i - predict(alpha, beta, x_i)"
   ]
  },
  {
   "cell_type": "code",
   "execution_count": 1944,
   "metadata": {},
   "outputs": [],
   "source": [
    "def sum_of_squared_errors(alpha, beta, x, y):\n",
    "    return sum(error(alpha, beta, x_i, y_i) ** 2\n",
    "               for x_i, y_i in zip(x, y))"
   ]
  },
  {
   "cell_type": "code",
   "execution_count": 1945,
   "metadata": {},
   "outputs": [],
   "source": [
    "def least_squares_fit(x, y):\n",
    "    \"\"\"given training values for x and y,\n",
    "       find the least-squares values of alpha and beta\"\"\"\n",
    "    beta = correlation(x, y) * standard_deviation(y) / standard_deviation(x)\n",
    "    alpha = mean(y) - beta * mean(x)\n",
    "    return alpha, beta"
   ]
  },
  {
   "cell_type": "code",
   "execution_count": 1946,
   "metadata": {},
   "outputs": [],
   "source": [
    "num_friends_good = [49,41,40,25,21,21,19,19,18,18,16,15,15,15,15,14,14,13,13,13,13,12,12,11,10,10,10,10,10,10,10,10,10,10,10,10,10,10,10,9,9,9,9,9,9,9,9,9,9,9,9,9,9,9,9,9,9,8,8,8,8,8,8,8,8,8,8,8,8,8,7,7,7,7,7,7,7,7,7,7,7,7,7,7,7,6,6,6,6,6,6,6,6,6,6,6,6,6,6,6,6,6,6,6,6,6,6,5,5,5,5,5,5,5,5,5,5,5,5,5,5,5,5,5,4,4,4,4,4,4,4,4,4,4,4,4,4,4,4,4,4,4,4,4,3,3,3,3,3,3,3,3,3,3,3,3,3,3,3,3,3,3,3,3,2,2,2,2,2,2,2,2,2,2,2,2,2,2,2,2,2,1,1,1,1,1,1,1,1,1,1,1,1,1,1,1,1,1,1,1,1,1,1]"
   ]
  },
  {
   "cell_type": "code",
   "execution_count": 1947,
   "metadata": {},
   "outputs": [],
   "source": [
    "daily_minutes_good = [68.77,51.25,52.08,38.36,44.54,57.13,51.4,41.42,31.22,34.76,54.01,38.79,47.59,49.1,27.66,41.03,36.73,48.65,28.12,46.62,35.57,32.98,35,26.07,23.77,39.73,40.57,31.65,31.21,36.32,20.45,21.93,26.02,27.34,23.49,46.94,30.5,33.8,24.23,21.4,27.94,32.24,40.57,25.07,19.42,22.39,18.42,46.96,23.72,26.41,26.97,36.76,40.32,35.02,29.47,30.2,31,38.11,38.18,36.31,21.03,30.86,36.07,28.66,29.08,37.28,15.28,24.17,22.31,30.17,25.53,19.85,35.37,44.6,17.23,13.47,26.33,35.02,32.09,24.81,19.33,28.77,24.26,31.98,25.73,24.86,16.28,34.51,15.23,39.72,40.8,26.06,35.76,34.76,16.13,44.04,18.03,19.65,32.62,35.59,39.43,14.18,35.24,40.13,41.82,35.45,36.07,43.67,24.61,20.9,21.9,18.79,27.61,27.21,26.61,29.77,20.59,27.53,13.82,33.2,25,33.1,36.65,18.63,14.87,22.2,36.81,25.53,24.62,26.25,18.21,28.08,19.42,29.79,32.8,35.99,28.32,27.79,35.88,29.06,36.28,14.1,36.63,37.49,26.9,18.58,38.48,24.48,18.95,33.55,14.24,29.04,32.51,25.63,22.22,19,32.73,15.16,13.9,27.2,32.01,29.27,33,13.74,20.42,27.32,18.23,35.35,28.48,9.08,24.62,20.12,35.26,19.92,31.02,16.49,12.16,30.7,31.22,34.65,13.13,27.51,33.2,31.57,14.1,33.42,17.44,10.12,24.42,9.82,23.39,30.93,15.03,21.67,31.09,33.29,22.61,26.89,23.48,8.38,27.81,32.35,23.84]"
   ]
  },
  {
   "cell_type": "code",
   "execution_count": 1948,
   "metadata": {},
   "outputs": [
    {
     "name": "stdout",
     "output_type": "stream",
     "text": [
      "22.94755241346903 0.903865945605865\n"
     ]
    }
   ],
   "source": [
    "alpha, beta = least_squares_fit(num_friends_good, daily_minutes_good)\n",
    "print(alpha, beta)"
   ]
  },
  {
   "cell_type": "code",
   "execution_count": 1949,
   "metadata": {},
   "outputs": [],
   "source": [
    "y_hat = [predict(alpha, beta, x_i) for x_i in num_friends_good]"
   ]
  },
  {
   "cell_type": "code",
   "execution_count": 1950,
   "metadata": {},
   "outputs": [
    {
     "data": {
      "image/png": "[encoded data removed]",
      "text/plain": [
       "<Figure size 432x288 with 1 Axes>"
      ]
     },
     "metadata": {
      "needs_background": "light"
     },
     "output_type": "display_data"
    }
   ],
   "source": [
    "plt.scatter(num_friends_good, daily_minutes_good, marker='.', color='blue', label='ys1')\n",
    "plt.plot(num_friends_good, y_hat, '-')\n",
    "plt.xlabel('friends')\n",
    "plt.ylabel('minutes')\n",
    "plt.show()"
   ]
  },
  {
   "cell_type": "code",
   "execution_count": 1951,
   "metadata": {},
   "outputs": [],
   "source": [
    "def total_sum_of_squares(y):\n",
    "    \"\"\"the total squared variation of y_i's from their mean\"\"\"\n",
    "    return sum(v ** 2 for v in de_mean(y))"
   ]
  },
  {
   "cell_type": "code",
   "execution_count": 1952,
   "metadata": {},
   "outputs": [
    {
     "data": {
      "text/plain": [
       "19670.254088669957"
      ]
     },
     "execution_count": 1952,
     "metadata": {},
     "output_type": "execute_result"
    }
   ],
   "source": [
    "total_sum_of_squares(daily_minutes_good)"
   ]
  },
  {
   "cell_type": "code",
   "execution_count": 1953,
   "metadata": {},
   "outputs": [],
   "source": [
    "def r_squared(alpha, beta, x, y):\n",
    "    \"\"\"\n",
    "    the fraction of variation in y captured by the model, which equals\n",
    "    1 - the fraction of variation in y not captured by the model\n",
    "    \"\"\"\n",
    "    return 1.0 - (sum_of_squared_errors(alpha, beta, x, y) /\n",
    "                  total_sum_of_squares(y))"
   ]
  },
  {
   "cell_type": "code",
   "execution_count": 1954,
   "metadata": {},
   "outputs": [
    {
     "data": {
      "text/plain": [
       "0.3291078377836305"
      ]
     },
     "execution_count": 1954,
     "metadata": {},
     "output_type": "execute_result"
    }
   ],
   "source": [
    "r_squared(alpha, beta, num_friends_good, daily_minutes_good)"
   ]
  },
  {
   "cell_type": "code",
   "execution_count": 1955,
   "metadata": {},
   "outputs": [],
   "source": [
    "# def squared_error(x_i, y_i, theta):\n",
    "#     alpha, beta = theta\n",
    "#     return error(alpha, beta, x_i, y_i) ** 2"
   ]
  },
  {
   "cell_type": "code",
   "execution_count": 1956,
   "metadata": {},
   "outputs": [],
   "source": [
    "# def squared_error_gradient(x_i, y_i, theta):\n",
    "#     alpha, beta = theta\n",
    "#     return [-2 * error(alpha, beta, x_i, y_i),\n",
    "#             -2 * error(alpha, beta, x_i, y_i) * x_i]"
   ]
  },
  {
   "cell_type": "code",
   "execution_count": 1957,
   "metadata": {},
   "outputs": [],
   "source": [
    "# # def sqerror_gradient(x_i, y_i, theta):\n",
    "# #     alpha,beta = theta\n",
    "# #     err = error(alpha, beta, x_i, y_i)\n",
    "# #     return [2 * err * x_i]\n",
    "\n",
    "# # def error(alpha, beta, x_i, y_i):\n",
    "# #     return y_i - predict(alpha, beta, x_i)\n",
    "\n",
    "# def error(x, y, beta):\n",
    "#     return predict(x, beta) - y\n",
    "\n",
    "# def sqerror_gradient(x_i, y_i,theta):\n",
    "#     alpha,beta = theta\n",
    "#     err = error(alpha, beta, x_i, y_i)\n",
    "#     return [2 * err * x for x in x_i]"
   ]
  },
  {
   "cell_type": "code",
   "execution_count": 1958,
   "metadata": {},
   "outputs": [],
   "source": [
    "def predict2(x, beta):\n",
    "    \"\"\"assumes that the first element of x is 1\"\"\"\n",
    "    return np.dot(x, beta)\n",
    "\n",
    "def error(x, y, beta):\n",
    "    return predict2(x, beta) - y\n",
    "\n",
    "def squared_error(x, y, beta):\n",
    "    return error(x, y, beta) ** 2\n",
    "\n",
    "def sqerror_gradient(x, y, beta):\n",
    "    err = error(x, y, beta)\n",
    "    return [2 * err * x_i for x_i in x]\n"
   ]
  },
  {
   "cell_type": "code",
   "execution_count": 1959,
   "metadata": {},
   "outputs": [],
   "source": [
    "X = np.array(num_friends_good)\n",
    "Y = np.array(daily_minutes_good)\n",
    "# print(X)\n",
    "X_ones = np.ones(len(X))\n",
    "# X_ones.reshape(len(X),1)\n",
    "\n",
    "# Add ones to X array\n",
    "X1 = np.vstack((X_ones,X))"
   ]
  },
  {
   "cell_type": "code",
   "execution_count": 1960,
   "metadata": {},
   "outputs": [
    {
     "name": "stdout",
     "output_type": "stream",
     "text": [
      "[22.94755241  0.90386595]\n"
     ]
    }
   ],
   "source": [
    "random.seed(0)\n",
    "# theta = np.array([random.random(), random.random()])\n",
    "Theta = np.linalg.pinv(X1.dot(X1.T)).dot(X1).dot(Y)\n",
    "# Theta = [random.random(),random.random()]\n",
    "min_theta = minimize_stochastic(squared_error,\n",
    "                                  sqerror_gradient,\n",
    "                                  X,\n",
    "                                  Y,\n",
    "                                  Theta,\n",
    "                                  0.0001)\n",
    "print(min_theta)"
   ]
  },
  {
   "cell_type": "code",
   "execution_count": 1961,
   "metadata": {},
   "outputs": [
    {
     "data": {
      "text/plain": [
       "[69.74151116154057,\n",
       " 61.74151116154057,\n",
       " 60.74151116154057,\n",
       " 45.74151116154057,\n",
       " 41.74151116154057,\n",
       " 41.74151116154057,\n",
       " 39.74151116154057,\n",
       " 39.74151116154057,\n",
       " 38.74151116154057,\n",
       " 38.74151116154057,\n",
       " 36.74151116154057,\n",
       " 35.74151116154057,\n",
       " 35.74151116154057,\n",
       " 35.74151116154057,\n",
       " 35.74151116154057,\n",
       " 34.74151116154057,\n",
       " 34.74151116154057,\n",
       " 33.74151116154057,\n",
       " 33.74151116154057,\n",
       " 33.74151116154057,\n",
       " 33.74151116154057,\n",
       " 32.74151116154057,\n",
       " 32.74151116154057,\n",
       " 31.741511161540572,\n",
       " 30.741511161540572,\n",
       " 30.741511161540572,\n",
       " 30.741511161540572,\n",
       " 30.741511161540572,\n",
       " 30.741511161540572,\n",
       " 30.741511161540572,\n",
       " 30.741511161540572,\n",
       " 30.741511161540572,\n",
       " 30.741511161540572,\n",
       " 30.741511161540572,\n",
       " 30.741511161540572,\n",
       " 30.741511161540572,\n",
       " 30.741511161540572,\n",
       " 30.741511161540572,\n",
       " 30.741511161540572,\n",
       " 29.741511161540572,\n",
       " 29.741511161540572,\n",
       " 29.741511161540572,\n",
       " 29.741511161540572,\n",
       " 29.741511161540572,\n",
       " 29.741511161540572,\n",
       " 29.741511161540572,\n",
       " 29.741511161540572,\n",
       " 29.741511161540572,\n",
       " 29.741511161540572,\n",
       " 29.741511161540572,\n",
       " 29.741511161540572,\n",
       " 29.741511161540572,\n",
       " 29.741511161540572,\n",
       " 29.741511161540572,\n",
       " 29.741511161540572,\n",
       " 29.741511161540572,\n",
       " 29.741511161540572,\n",
       " 28.741511161540572,\n",
       " 28.741511161540572,\n",
       " 28.741511161540572,\n",
       " 28.741511161540572,\n",
       " 28.741511161540572,\n",
       " 28.741511161540572,\n",
       " 28.741511161540572,\n",
       " 28.741511161540572,\n",
       " 28.741511161540572,\n",
       " 28.741511161540572,\n",
       " 28.741511161540572,\n",
       " 28.741511161540572,\n",
       " 28.741511161540572,\n",
       " 27.741511161540572,\n",
       " 27.741511161540572,\n",
       " 27.741511161540572,\n",
       " 27.741511161540572,\n",
       " 27.741511161540572,\n",
       " 27.741511161540572,\n",
       " 27.741511161540572,\n",
       " 27.741511161540572,\n",
       " 27.741511161540572,\n",
       " 27.741511161540572,\n",
       " 27.741511161540572,\n",
       " 27.741511161540572,\n",
       " 27.741511161540572,\n",
       " 27.741511161540572,\n",
       " 27.741511161540572,\n",
       " 26.741511161540572,\n",
       " 26.741511161540572,\n",
       " 26.741511161540572,\n",
       " 26.741511161540572,\n",
       " 26.741511161540572,\n",
       " 26.741511161540572,\n",
       " 26.741511161540572,\n",
       " 26.741511161540572,\n",
       " 26.741511161540572,\n",
       " 26.741511161540572,\n",
       " 26.741511161540572,\n",
       " 26.741511161540572,\n",
       " 26.741511161540572,\n",
       " 26.741511161540572,\n",
       " 26.741511161540572,\n",
       " 26.741511161540572,\n",
       " 26.741511161540572,\n",
       " 26.741511161540572,\n",
       " 26.741511161540572,\n",
       " 26.741511161540572,\n",
       " 26.741511161540572,\n",
       " 26.741511161540572,\n",
       " 25.741511161540572,\n",
       " 25.741511161540572,\n",
       " 25.741511161540572,\n",
       " 25.741511161540572,\n",
       " 25.741511161540572,\n",
       " 25.741511161540572,\n",
       " 25.741511161540572,\n",
       " 25.741511161540572,\n",
       " 25.741511161540572,\n",
       " 25.741511161540572,\n",
       " 25.741511161540572,\n",
       " 25.741511161540572,\n",
       " 25.741511161540572,\n",
       " 25.741511161540572,\n",
       " 25.741511161540572,\n",
       " 25.741511161540572,\n",
       " 25.741511161540572,\n",
       " 24.741511161540572,\n",
       " 24.741511161540572,\n",
       " 24.741511161540572,\n",
       " 24.741511161540572,\n",
       " 24.741511161540572,\n",
       " 24.741511161540572,\n",
       " 24.741511161540572,\n",
       " 24.741511161540572,\n",
       " 24.741511161540572,\n",
       " 24.741511161540572,\n",
       " 24.741511161540572,\n",
       " 24.741511161540572,\n",
       " 24.741511161540572,\n",
       " 24.741511161540572,\n",
       " 24.741511161540572,\n",
       " 24.741511161540572,\n",
       " 24.741511161540572,\n",
       " 24.741511161540572,\n",
       " 24.741511161540572,\n",
       " 24.741511161540572,\n",
       " 23.741511161540572,\n",
       " 23.741511161540572,\n",
       " 23.741511161540572,\n",
       " 23.741511161540572,\n",
       " 23.741511161540572,\n",
       " 23.741511161540572,\n",
       " 23.741511161540572,\n",
       " 23.741511161540572,\n",
       " 23.741511161540572,\n",
       " 23.741511161540572,\n",
       " 23.741511161540572,\n",
       " 23.741511161540572,\n",
       " 23.741511161540572,\n",
       " 23.741511161540572,\n",
       " 23.741511161540572,\n",
       " 23.741511161540572,\n",
       " 23.741511161540572,\n",
       " 23.741511161540572,\n",
       " 23.741511161540572,\n",
       " 23.741511161540572,\n",
       " 22.741511161540572,\n",
       " 22.741511161540572,\n",
       " 22.741511161540572,\n",
       " 22.741511161540572,\n",
       " 22.741511161540572,\n",
       " 22.741511161540572,\n",
       " 22.741511161540572,\n",
       " 22.741511161540572,\n",
       " 22.741511161540572,\n",
       " 22.741511161540572,\n",
       " 22.741511161540572,\n",
       " 22.741511161540572,\n",
       " 22.741511161540572,\n",
       " 22.741511161540572,\n",
       " 22.741511161540572,\n",
       " 22.741511161540572,\n",
       " 22.741511161540572,\n",
       " 21.741511161540572,\n",
       " 21.741511161540572,\n",
       " 21.741511161540572,\n",
       " 21.741511161540572,\n",
       " 21.741511161540572,\n",
       " 21.741511161540572,\n",
       " 21.741511161540572,\n",
       " 21.741511161540572,\n",
       " 21.741511161540572,\n",
       " 21.741511161540572,\n",
       " 21.741511161540572,\n",
       " 21.741511161540572,\n",
       " 21.741511161540572,\n",
       " 21.741511161540572,\n",
       " 21.741511161540572,\n",
       " 21.741511161540572,\n",
       " 21.741511161540572,\n",
       " 21.741511161540572,\n",
       " 21.741511161540572,\n",
       " 21.741511161540572,\n",
       " 21.741511161540572,\n",
       " 21.741511161540572]"
      ]
     },
     "execution_count": 1961,
     "metadata": {},
     "output_type": "execute_result"
    }
   ],
   "source": [
    "y_hat = [predict(x_i,min_theta[0],min_theta[1]) for x_i in np.array(num_friends_good)]\n",
    "y_hat\n",
    "\n",
    "# alpha = min_theta[0]\n",
    "# beta = min_theta[1]\n",
    "# y_hat = [predict(alpha, beta, x_i) for x_i in num_friends_good]"
   ]
  },
  {
   "cell_type": "code",
   "execution_count": 1962,
   "metadata": {},
   "outputs": [
    {
     "data": {
      "image/png": "[encoded data removed]",
      "text/plain": [
       "<Figure size 720x432 with 1 Axes>"
      ]
     },
     "metadata": {
      "needs_background": "light"
     },
     "output_type": "display_data"
    }
   ],
   "source": [
    "plt.figure(figsize=(10,6))\n",
    "plt.scatter(num_friends_good, daily_minutes_good, marker='.', color='blue', label='ys1')\n",
    "plt.plot(num_friends_good,y_hat, '-')\n",
    "plt.xlabel('friends')\n",
    "plt.ylabel('minutes')\n",
    "plt.show()"
   ]
  },
  {
   "cell_type": "code",
   "execution_count": null,
   "metadata": {},
   "outputs": [],
   "source": [
    "# xx0 = np.linspace(0, max(case), len(case))\n",
    "# xx1 = np.linspace(0, max(dist), len(dist))\n",
    "# # yy0 = np.array(b_hat[0] + b_hat[1] * xx0 + b_hat[2]*xx0)\n",
    "# # yy1 = np.array(b_hat[0] + b_hat[1] * xx1 + b_hat[2]*xx1)\n",
    "# zz = np.array(b_hat[0] + b_hat[1] * xx1)"
   ]
  },
  {
   "cell_type": "code",
   "execution_count": null,
   "metadata": {},
   "outputs": [],
   "source": []
  }
 ],
 "metadata": {
  "kernelspec": {
   "display_name": "Python 3 (ipykernel)",
   "language": "python",
   "name": "python3"
  },
  "language_info": {
   "codemirror_mode": {
    "name": "ipython",
    "version": 3
   },
   "file_extension": ".py",
   "mimetype": "text/x-python",
   "name": "python",
   "nbconvert_exporter": "python",
   "pygments_lexer": "ipython3",
   "version": "3.9.7"
  }
 },
 "nbformat": 4,
 "nbformat_minor": 2
}
