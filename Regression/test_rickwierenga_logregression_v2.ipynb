{
 "cells": [
  {
   "cell_type": "code",
   "execution_count": 44,
   "id": "695f02d6",
   "metadata": {
    "ExecuteTime": {
     "end_time": "2023-03-01T11:25:55.956277Z",
     "start_time": "2023-03-01T11:25:55.939482Z"
    }
   },
   "outputs": [
    {
     "name": "stdout",
     "output_type": "stream",
     "text": [
      "Populating the interactive namespace from numpy and matplotlib\n"
     ]
    },
    {
     "name": "stderr",
     "output_type": "stream",
     "text": [
      "C:\\Users\\USER\\anaconda3\\lib\\site-packages\\IPython\\core\\magics\\pylab.py:159: UserWarning: pylab import has clobbered these variables: ['hist', 'gradient']\n",
      "`%matplotlib` prevents importing * from pylab and numpy\n",
      "  warn(\"pylab import has clobbered these variables: %s\"  % clobbered +\n"
     ]
    }
   ],
   "source": [
    "%pylab inline"
   ]
  },
  {
   "cell_type": "code",
   "execution_count": 45,
   "id": "03cbf7fb",
   "metadata": {
    "ExecuteTime": {
     "end_time": "2023-03-01T11:25:56.002479Z",
     "start_time": "2023-03-01T11:25:55.958272Z"
    }
   },
   "outputs": [
    {
     "name": "stderr",
     "output_type": "stream",
     "text": [
      "'wget' is not recognized as an internal or external command,\n",
      "operable program or batch file.\n"
     ]
    }
   ],
   "source": [
    "!wget -O dataset.csv https://archive.ics.uci.edu/ml/machine"
   ]
  },
  {
   "cell_type": "code",
   "execution_count": 46,
   "id": "e52dac15",
   "metadata": {
    "ExecuteTime": {
     "end_time": "2023-03-01T11:25:56.065059Z",
     "start_time": "2023-03-01T11:25:56.003569Z"
    }
   },
   "outputs": [
    {
     "name": "stderr",
     "output_type": "stream",
     "text": [
      "'head' is not recognized as an internal or external command,\n",
      "operable program or batch file.\n"
     ]
    }
   ],
   "source": [
    "!head -3 dataset.csv"
   ]
  },
  {
   "cell_type": "code",
   "execution_count": 47,
   "id": "26284040",
   "metadata": {
    "ExecuteTime": {
     "end_time": "2023-03-01T11:25:56.080251Z",
     "start_time": "2023-03-01T11:25:56.067054Z"
    }
   },
   "outputs": [],
   "source": [
    "import pandas as pd"
   ]
  },
  {
   "cell_type": "code",
   "execution_count": 48,
   "id": "a79ccbcd",
   "metadata": {
    "ExecuteTime": {
     "end_time": "2023-03-01T11:25:56.095966Z",
     "start_time": "2023-03-01T11:25:56.081753Z"
    }
   },
   "outputs": [],
   "source": [
    "# Loading the data\n",
    "df = pd.read_csv('breast-cancer-wisconsin.data', names=[\n",
    "  \"id number\",\n",
    "  \"Clump Thickness\",\n",
    "  \"Uniformity of Cell Size\",\n",
    "  \"Uniformity of Cell Shape\",\n",
    "  \"Marginal Adhesion\",\n",
    "  \"Single Epithelial Cell Size\",\n",
    "  \"Bare Nuclei\",\n",
    "  \"Bland Chromatin\",\n",
    "  \"Normal Nucleoli\",\n",
    "  \"Mitoses\",\n",
    "  \"Class\"\n",
    "])"
   ]
  },
  {
   "cell_type": "code",
   "execution_count": 49,
   "id": "06297b97",
   "metadata": {
    "ExecuteTime": {
     "end_time": "2023-03-01T11:25:56.111408Z",
     "start_time": "2023-03-01T11:25:56.097032Z"
    }
   },
   "outputs": [
    {
     "data": {
      "text/html": [
       "<div>\n",
       "<style scoped>\n",
       "    .dataframe tbody tr th:only-of-type {\n",
       "        vertical-align: middle;\n",
       "    }\n",
       "\n",
       "    .dataframe tbody tr th {\n",
       "        vertical-align: top;\n",
       "    }\n",
       "\n",
       "    .dataframe thead th {\n",
       "        text-align: right;\n",
       "    }\n",
       "</style>\n",
       "<table border=\"1\" class=\"dataframe\">\n",
       "  <thead>\n",
       "    <tr style=\"text-align: right;\">\n",
       "      <th></th>\n",
       "      <th>id number</th>\n",
       "      <th>Clump Thickness</th>\n",
       "      <th>Uniformity of Cell Size</th>\n",
       "      <th>Uniformity of Cell Shape</th>\n",
       "      <th>Marginal Adhesion</th>\n",
       "      <th>Single Epithelial Cell Size</th>\n",
       "      <th>Bare Nuclei</th>\n",
       "      <th>Bland Chromatin</th>\n",
       "      <th>Normal Nucleoli</th>\n",
       "      <th>Mitoses</th>\n",
       "      <th>Class</th>\n",
       "    </tr>\n",
       "  </thead>\n",
       "  <tbody>\n",
       "    <tr>\n",
       "      <th>0</th>\n",
       "      <td>1000025</td>\n",
       "      <td>5</td>\n",
       "      <td>1</td>\n",
       "      <td>1</td>\n",
       "      <td>1</td>\n",
       "      <td>2</td>\n",
       "      <td>1</td>\n",
       "      <td>3</td>\n",
       "      <td>1</td>\n",
       "      <td>1</td>\n",
       "      <td>2</td>\n",
       "    </tr>\n",
       "    <tr>\n",
       "      <th>1</th>\n",
       "      <td>1002945</td>\n",
       "      <td>5</td>\n",
       "      <td>4</td>\n",
       "      <td>4</td>\n",
       "      <td>5</td>\n",
       "      <td>7</td>\n",
       "      <td>10</td>\n",
       "      <td>3</td>\n",
       "      <td>2</td>\n",
       "      <td>1</td>\n",
       "      <td>2</td>\n",
       "    </tr>\n",
       "    <tr>\n",
       "      <th>2</th>\n",
       "      <td>1015425</td>\n",
       "      <td>3</td>\n",
       "      <td>1</td>\n",
       "      <td>1</td>\n",
       "      <td>1</td>\n",
       "      <td>2</td>\n",
       "      <td>2</td>\n",
       "      <td>3</td>\n",
       "      <td>1</td>\n",
       "      <td>1</td>\n",
       "      <td>2</td>\n",
       "    </tr>\n",
       "    <tr>\n",
       "      <th>3</th>\n",
       "      <td>1016277</td>\n",
       "      <td>6</td>\n",
       "      <td>8</td>\n",
       "      <td>8</td>\n",
       "      <td>1</td>\n",
       "      <td>3</td>\n",
       "      <td>4</td>\n",
       "      <td>3</td>\n",
       "      <td>7</td>\n",
       "      <td>1</td>\n",
       "      <td>2</td>\n",
       "    </tr>\n",
       "    <tr>\n",
       "      <th>4</th>\n",
       "      <td>1017023</td>\n",
       "      <td>4</td>\n",
       "      <td>1</td>\n",
       "      <td>1</td>\n",
       "      <td>3</td>\n",
       "      <td>2</td>\n",
       "      <td>1</td>\n",
       "      <td>3</td>\n",
       "      <td>1</td>\n",
       "      <td>1</td>\n",
       "      <td>2</td>\n",
       "    </tr>\n",
       "  </tbody>\n",
       "</table>\n",
       "</div>"
      ],
      "text/plain": [
       "   id number  Clump Thickness  Uniformity of Cell Size  \\\n",
       "0    1000025                5                        1   \n",
       "1    1002945                5                        4   \n",
       "2    1015425                3                        1   \n",
       "3    1016277                6                        8   \n",
       "4    1017023                4                        1   \n",
       "\n",
       "   Uniformity of Cell Shape  Marginal Adhesion  Single Epithelial Cell Size  \\\n",
       "0                         1                  1                            2   \n",
       "1                         4                  5                            7   \n",
       "2                         1                  1                            2   \n",
       "3                         8                  1                            3   \n",
       "4                         1                  3                            2   \n",
       "\n",
       "  Bare Nuclei  Bland Chromatin  Normal Nucleoli  Mitoses  Class  \n",
       "0           1                3                1        1      2  \n",
       "1          10                3                2        1      2  \n",
       "2           2                3                1        1      2  \n",
       "3           4                3                7        1      2  \n",
       "4           1                3                1        1      2  "
      ]
     },
     "execution_count": 49,
     "metadata": {},
     "output_type": "execute_result"
    }
   ],
   "source": [
    "df.head()"
   ]
  },
  {
   "cell_type": "code",
   "execution_count": 50,
   "id": "b161a2ac",
   "metadata": {
    "ExecuteTime": {
     "end_time": "2023-03-01T11:25:56.126762Z",
     "start_time": "2023-03-01T11:25:56.112972Z"
    }
   },
   "outputs": [
    {
     "data": {
      "text/plain": [
       "id number                       0\n",
       "Clump Thickness                 0\n",
       "Uniformity of Cell Size         0\n",
       "Uniformity of Cell Shape        0\n",
       "Marginal Adhesion               0\n",
       "Single Epithelial Cell Size     0\n",
       "Bare Nuclei                    16\n",
       "Bland Chromatin                 0\n",
       "Normal Nucleoli                 0\n",
       "Mitoses                         0\n",
       "Class                           0\n",
       "dtype: int64"
      ]
     },
     "execution_count": 50,
     "metadata": {},
     "output_type": "execute_result"
    }
   ],
   "source": [
    "# Data cleaning\n",
    "df = df.replace('?',np.NaN)\n",
    "df.isna().sum()"
   ]
  },
  {
   "cell_type": "code",
   "execution_count": 51,
   "id": "00ddadca",
   "metadata": {
    "ExecuteTime": {
     "end_time": "2023-03-01T11:25:56.142213Z",
     "start_time": "2023-03-01T11:25:56.128758Z"
    }
   },
   "outputs": [
    {
     "data": {
      "text/plain": [
       "(699,)"
      ]
     },
     "execution_count": 51,
     "metadata": {},
     "output_type": "execute_result"
    }
   ],
   "source": [
    "# To NumPy & feature selection\n",
    "X = df[[\"Clump Thickness\",\n",
    "  \"Uniformity of Cell Size\",\n",
    "  \"Uniformity of Cell Shape\",\n",
    "  \"Marginal Adhesion\",\n",
    "  \"Single Epithelial Cell Size\",\n",
    "  \"Bare Nuclei\",\n",
    "  \"Bland Chromatin\",\n",
    "  \"Normal Nucleoli\",\n",
    "  \"Mitoses\"\n",
    "]].values.astype(np.float32)\n",
    "X.shape\n",
    "\n",
    "idx = np.where(np.isnan(X))\n",
    "X[idx] = np.take(np.nanmedian(X, axis = 0), idx[1])\n",
    "\n",
    "y = df['Class'].values\n",
    "y.shape"
   ]
  },
  {
   "cell_type": "code",
   "execution_count": 52,
   "id": "c5fea2b8",
   "metadata": {
    "ExecuteTime": {
     "end_time": "2023-03-01T11:25:56.158271Z",
     "start_time": "2023-03-01T11:25:56.144253Z"
    }
   },
   "outputs": [
    {
     "data": {
      "text/plain": [
       "((699,), array([0., 0., 0., 0., 0., 1., 0., 0., 0., 0.], dtype=float32))"
      ]
     },
     "execution_count": 52,
     "metadata": {},
     "output_type": "execute_result"
    }
   ],
   "source": [
    "# Cleaning y\n",
    "# we only run this cell once.\n",
    "if y[0] == 2:\n",
    "  y = np.array(y == 4, dtype=np.float32)\n",
    "\n",
    "y.shape, y[:10]\n"
   ]
  },
  {
   "cell_type": "code",
   "execution_count": 53,
   "id": "e73da8b8",
   "metadata": {
    "ExecuteTime": {
     "end_time": "2023-03-01T11:25:56.173843Z",
     "start_time": "2023-03-01T11:25:56.162270Z"
    }
   },
   "outputs": [
    {
     "data": {
      "text/plain": [
       "array([[ 1.,  5.,  1.,  1.,  1.,  2.,  1.,  3.,  1.,  1.],\n",
       "       [ 1.,  5.,  4.,  4.,  5.,  7., 10.,  3.,  2.,  1.],\n",
       "       [ 1.,  3.,  1.,  1.,  1.,  2.,  2.,  3.,  1.,  1.],\n",
       "       [ 1.,  6.,  8.,  8.,  1.,  3.,  4.,  3.,  7.,  1.],\n",
       "       [ 1.,  4.,  1.,  1.,  3.,  2.,  1.,  3.,  1.,  1.],\n",
       "       [ 1.,  8., 10., 10.,  8.,  7., 10.,  9.,  7.,  1.],\n",
       "       [ 1.,  1.,  1.,  1.,  1.,  2., 10.,  3.,  1.,  1.],\n",
       "       [ 1.,  2.,  1.,  2.,  1.,  2.,  1.,  3.,  1.,  1.],\n",
       "       [ 1.,  2.,  1.,  1.,  1.,  2.,  1.,  1.,  1.,  5.],\n",
       "       [ 1.,  4.,  2.,  1.,  1.,  2.,  1.,  2.,  1.,  1.]])"
      ]
     },
     "execution_count": 53,
     "metadata": {},
     "output_type": "execute_result"
    }
   ],
   "source": [
    "# Bias Factor\n",
    "X = np.hstack((np.ones((len(X), 1)), X))\n",
    "X[:10]"
   ]
  },
  {
   "cell_type": "code",
   "execution_count": 54,
   "id": "8e3f16c9",
   "metadata": {
    "ExecuteTime": {
     "end_time": "2023-03-01T11:25:56.189729Z",
     "start_time": "2023-03-01T11:25:56.175837Z"
    }
   },
   "outputs": [
    {
     "data": {
      "text/plain": [
       "(2, 699, 10)"
      ]
     },
     "execution_count": 54,
     "metadata": {},
     "output_type": "execute_result"
    }
   ],
   "source": [
    "# Stats\n",
    "m, n = X.shape\n",
    "K = 2\n",
    "K, m, n"
   ]
  },
  {
   "cell_type": "code",
   "execution_count": 55,
   "id": "4ea9f5fd",
   "metadata": {
    "ExecuteTime": {
     "end_time": "2023-03-01T11:25:56.205586Z",
     "start_time": "2023-03-01T11:25:56.192241Z"
    }
   },
   "outputs": [],
   "source": [
    "# Training a model\n",
    "theta = np.zeros(n)"
   ]
  },
  {
   "cell_type": "code",
   "execution_count": 56,
   "id": "2aa78d06",
   "metadata": {
    "ExecuteTime": {
     "end_time": "2023-03-01T11:25:56.220982Z",
     "start_time": "2023-03-01T11:25:56.207581Z"
    }
   },
   "outputs": [
    {
     "data": {
      "text/plain": [
       "((699,), array([0.5, 0.5, 0.5, 0.5, 0.5, 0.5, 0.5, 0.5, 0.5, 0.5]))"
      ]
     },
     "execution_count": 56,
     "metadata": {},
     "output_type": "execute_result"
    }
   ],
   "source": [
    "# The model\n",
    "def g(z):\n",
    "  \"\"\" sigmoid \"\"\"\n",
    "  return 1 / (1 + np.exp(-z))\n",
    "\n",
    "def h(X, theta):\n",
    "  return g(X @ theta)\n",
    "\n",
    "preds = h(X, theta)\n",
    "preds.shape, preds[:10]"
   ]
  },
  {
   "cell_type": "code",
   "execution_count": 57,
   "id": "e313d2c4",
   "metadata": {
    "ExecuteTime": {
     "end_time": "2023-03-01T11:25:56.236666Z",
     "start_time": "2023-03-01T11:25:56.223007Z"
    }
   },
   "outputs": [
    {
     "data": {
      "text/plain": [
       "0.6931471805599452"
      ]
     },
     "execution_count": 57,
     "metadata": {},
     "output_type": "execute_result"
    }
   ],
   "source": [
    "# Cost functions & Gradients\n",
    "def J(preds, y):\n",
    "  return 1/m * (-y @ np.log(preds) - (1 - y) @ np.log(1 - preds))\n",
    "\n",
    "def compute_gradient(theta, X, y):\n",
    "  preds = h(X, theta)\n",
    "  gradient = 1/m * X.T @ (preds - y)\n",
    "  return gradient\n",
    "\n",
    "compute_gradient(theta, X, y)\n",
    "\n",
    "preds = h(X, theta)\n",
    "J(preds, y)"
   ]
  },
  {
   "cell_type": "code",
   "execution_count": 58,
   "id": "6f55990e",
   "metadata": {
    "ExecuteTime": {
     "end_time": "2023-03-01T11:25:56.809408Z",
     "start_time": "2023-03-01T11:25:56.239173Z"
    }
   },
   "outputs": [
    {
     "name": "stdout",
     "output_type": "stream",
     "text": [
      "0.7306617045761895 0.3447782546494993\n",
      "0.465080013079729 0.8469241773962805\n",
      "0.38340821789823426 0.9055793991416309\n",
      "0.353472372891963 0.9141630901287554\n",
      "0.33271666973853586 0.9184549356223176\n",
      "0.3168806343469845 0.9256080114449213\n",
      "0.30406577744783664 0.9256080114449213\n",
      "0.2932708495641543 0.9313304721030042\n",
      "0.2839128193761681 0.9298998569384835\n",
      "0.27562709474198477 0.9313304721030042\n"
     ]
    }
   ],
   "source": [
    "# Training Loop\n",
    "\n",
    "hist = {'loss': [], 'acc': []}\n",
    "alpha = 0.1\n",
    "\n",
    "for i in range(100):\n",
    "  gradient = compute_gradient(theta, X, y)\n",
    "  theta -= alpha * gradient\n",
    "\n",
    "  # loss\n",
    "  preds = h(X, theta)\n",
    "  loss = J(preds, y)\n",
    "  hist['loss'].append(loss)\n",
    "\n",
    "  # acc\n",
    "  c = 0\n",
    "  for j in range(len(y)):\n",
    "    if (h(X[j], theta) > .5) == y[j]:\n",
    "      c += 1\n",
    "  acc = c / len(y)\n",
    "  hist['acc'].append(acc)\n",
    "\n",
    "  # print stats\n",
    "  if i % 10 == 0: print(loss, acc)"
   ]
  },
  {
   "cell_type": "code",
   "execution_count": 59,
   "id": "158ba973",
   "metadata": {
    "ExecuteTime": {
     "end_time": "2023-03-01T11:25:57.088523Z",
     "start_time": "2023-03-01T11:25:56.811179Z"
    }
   },
   "outputs": [
    {
     "data": {
      "text/plain": [
       "Text(0.5, 0, 'accuracy')"
      ]
     },
     "execution_count": 59,
     "metadata": {},
     "output_type": "execute_result"
    },
    {
     "data": {
      "image/png": "[encoded data removed]",
      "text/plain": [
       "<Figure size 1080x360 with 2 Axes>"
      ]
     },
     "metadata": {
      "needs_background": "light"
     },
     "output_type": "display_data"
    }
   ],
   "source": [
    "# Training evaluation\n",
    "figsize(15, 5)\n",
    "subplot(1, 2, 1)\n",
    "plot(hist['loss'])\n",
    "xlabel('loss')\n",
    "subplot(1, 2, 2)\n",
    "plot(hist['acc'])\n",
    "xlabel('accuracy')"
   ]
  },
  {
   "cell_type": "code",
   "execution_count": 60,
   "id": "fc31f7f0",
   "metadata": {
    "ExecuteTime": {
     "end_time": "2023-03-01T11:25:57.104294Z",
     "start_time": "2023-03-01T11:25:57.089521Z"
    }
   },
   "outputs": [
    {
     "data": {
      "text/plain": [
       "(0.2688861031735937, 0.9313304721030042)"
      ]
     },
     "execution_count": 60,
     "metadata": {},
     "output_type": "execute_result"
    }
   ],
   "source": [
    "# Final Performance\n",
    "hist['loss'][-1], hist['acc'][-1]"
   ]
  },
  {
   "cell_type": "code",
   "execution_count": 61,
   "id": "feaeb292",
   "metadata": {
    "ExecuteTime": {
     "end_time": "2023-03-01T11:25:57.119437Z",
     "start_time": "2023-03-01T11:25:57.106288Z"
    }
   },
   "outputs": [
    {
     "data": {
      "text/plain": [
       "0.9313304721030042"
      ]
     },
     "execution_count": 61,
     "metadata": {},
     "output_type": "execute_result"
    }
   ],
   "source": [
    "# Accuracy\n",
    "preds = h(X, theta) > 0.5\n",
    "(preds == y).sum() / len(y)"
   ]
  },
  {
   "cell_type": "code",
   "execution_count": 62,
   "id": "1e843d7b",
   "metadata": {
    "ExecuteTime": {
     "end_time": "2023-03-01T11:25:57.135057Z",
     "start_time": "2023-03-01T11:25:57.121949Z"
    }
   },
   "outputs": [
    {
     "data": {
      "text/plain": [
       "0.9313304721030042"
      ]
     },
     "execution_count": 62,
     "metadata": {},
     "output_type": "execute_result"
    }
   ],
   "source": [
    "#  F1\n",
    "def precision(preds, labels):\n",
    "  tp = ((preds == 1) == (y == 1)).sum()\n",
    "  fp = ((preds == 1) == (y == 0)).sum()\n",
    "  return tp / (tp + fp)\n",
    "\n",
    "precision(preds, y)"
   ]
  },
  {
   "cell_type": "code",
   "execution_count": 63,
   "id": "cabde554",
   "metadata": {
    "ExecuteTime": {
     "end_time": "2023-03-01T11:25:57.150413Z",
     "start_time": "2023-03-01T11:25:57.137052Z"
    }
   },
   "outputs": [
    {
     "data": {
      "text/plain": [
       "0.9313304721030042"
      ]
     },
     "execution_count": 63,
     "metadata": {},
     "output_type": "execute_result"
    }
   ],
   "source": [
    "def recall(preds, labels):\n",
    "  tp = ((preds == 1) == (y == 1)).sum()\n",
    "  fn = ((preds == 0) == (y == 1)).sum()\n",
    "  return tp / (tp + fn)\n",
    "\n",
    "recall(preds, y)"
   ]
  },
  {
   "cell_type": "code",
   "execution_count": 64,
   "id": "7849dee2",
   "metadata": {
    "ExecuteTime": {
     "end_time": "2023-03-01T11:25:57.166201Z",
     "start_time": "2023-03-01T11:25:57.152883Z"
    }
   },
   "outputs": [
    {
     "data": {
      "text/plain": [
       "0.9313304721030042"
      ]
     },
     "execution_count": 64,
     "metadata": {},
     "output_type": "execute_result"
    }
   ],
   "source": [
    "def f1(preds, labels):\n",
    "  return 2 * (precision(preds, labels) * recall(preds, labels)) / (precision(preds, labels) + recall(preds, labels))\n",
    "\n",
    "f1(preds, y)"
   ]
  },
  {
   "cell_type": "code",
   "execution_count": 65,
   "id": "73b2a495",
   "metadata": {
    "ExecuteTime": {
     "end_time": "2023-03-01T11:25:57.181478Z",
     "start_time": "2023-03-01T11:25:57.168323Z"
    }
   },
   "outputs": [],
   "source": [
    "# Optimizing model performance\n",
    "recalls = []\n",
    "for p in range(100):\n",
    "  preds = (h(X, theta) > (p / 100))\n",
    "  r = recall(preds, y)\n",
    "  recalls.append(r)"
   ]
  },
  {
   "cell_type": "code",
   "execution_count": 66,
   "id": "e22b4d24",
   "metadata": {
    "ExecuteTime": {
     "end_time": "2023-03-01T11:25:57.368560Z",
     "start_time": "2023-03-01T11:25:57.183994Z"
    }
   },
   "outputs": [
    {
     "data": {
      "text/plain": [
       "[<matplotlib.lines.Line2D at 0x1d299044910>]"
      ]
     },
     "execution_count": 66,
     "metadata": {},
     "output_type": "execute_result"
    },
    {
     "data": {
      "image/png": "[encoded data removed]",
      "text/plain": [
       "<Figure size 1080x360 with 1 Axes>"
      ]
     },
     "metadata": {
      "needs_background": "light"
     },
     "output_type": "display_data"
    }
   ],
   "source": [
    "plot(recalls)"
   ]
  },
  {
   "cell_type": "code",
   "execution_count": 67,
   "id": "cd9c3fe0",
   "metadata": {
    "ExecuteTime": {
     "end_time": "2023-03-01T11:25:57.600330Z",
     "start_time": "2023-03-01T11:25:57.369659Z"
    }
   },
   "outputs": [
    {
     "data": {
      "text/plain": [
       "<matplotlib.legend.Legend at 0x1d29904a7c0>"
      ]
     },
     "execution_count": 67,
     "metadata": {},
     "output_type": "execute_result"
    },
    {
     "data": {
      "image/png": "[encoded data removed]",
      "text/plain": [
       "<Figure size 1440x360 with 1 Axes>"
      ]
     },
     "metadata": {
      "needs_background": "light"
     },
     "output_type": "display_data"
    }
   ],
   "source": [
    "# Graphics\n",
    "figsize(20, 5)\n",
    "x = np.arange(-10, 10, 0.1)\n",
    "plot((0, 0), (0, 1), 'g-', label='x = 0')\n",
    "plot((-10, 10), (0.5, 0.5), 'r-', label='y = 0.5')\n",
    "plot(x, g(x), label='g')\n",
    "legend()"
   ]
  },
  {
   "cell_type": "code",
   "execution_count": null,
   "id": "bbab7ce3",
   "metadata": {},
   "outputs": [],
   "source": []
  }
 ],
 "metadata": {
  "kernelspec": {
   "display_name": "Python 3 (ipykernel)",
   "language": "python",
   "name": "python3"
  },
  "language_info": {
   "codemirror_mode": {
    "name": "ipython",
    "version": 3
   },
   "file_extension": ".py",
   "mimetype": "text/x-python",
   "name": "python",
   "nbconvert_exporter": "python",
   "pygments_lexer": "ipython3",
   "version": "3.9.7"
  }
 },
 "nbformat": 4,
 "nbformat_minor": 5
}
