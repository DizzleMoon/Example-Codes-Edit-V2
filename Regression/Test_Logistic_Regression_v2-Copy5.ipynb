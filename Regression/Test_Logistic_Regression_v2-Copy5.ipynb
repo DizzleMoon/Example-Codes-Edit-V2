{
 "cells": [
  {
   "cell_type": "code",
   "execution_count": 1,
   "metadata": {
    "colab": {
     "base_uri": "https://localhost:8080/",
     "height": 34
    },
    "colab_type": "code",
    "id": "GAiy6oVNELSZ",
    "outputId": "1b09e156-c2b8-422c-890b-a1cbf5c80c29"
   },
   "outputs": [
    {
     "name": "stdout",
     "output_type": "stream",
     "text": [
      "Populating the interactive namespace from numpy and matplotlib\n"
     ]
    }
   ],
   "source": [
    "%pylab inline"
   ]
  },
  {
   "cell_type": "markdown",
   "metadata": {
    "colab_type": "text",
    "id": "-rn8NZakzdMV"
   },
   "source": [
    "## The Dataset\n",
    "\n",
    "To keep the blog post concise and focussed I added explanations in the cells explaining the data loading. This is not part of the blog post."
   ]
  },
  {
   "cell_type": "markdown",
   "metadata": {
    "colab_type": "text",
    "id": "NPPGqFrLze4U"
   },
   "source": [
    "### Downloading the data\n",
    "\n",
    "The data is available in a `.data` file, but it's actually a `csv`.\n",
    "\n",
    "In a Jupyter Notebook you can execute shell commands by putting an `!` at the beginning of the cell. If you're not using a notebook (you should), then you can remove the `!` from the following command.\n",
    "\n",
    "Downloading files can be done with a little utility program called `wget`. By passing `-O` you can specify the filename of the downloaded file. I used the `csv` extension because it's a csv file, but any extension will do.\n",
    "\n",
    "To download the data execute the following cell:"
   ]
  },
  {
   "cell_type": "code",
   "execution_count": 2,
   "metadata": {
    "colab": {
     "base_uri": "https://localhost:8080/",
     "height": 204
    },
    "colab_type": "code",
    "id": "bSgCsD_oENna",
    "outputId": "c5ef44c2-1562-40ef-97a4-73c4b2f156f7"
   },
   "outputs": [
    {
     "name": "stderr",
     "output_type": "stream",
     "text": [
      "'wget' is not recognized as an internal or external command,\n",
      "operable program or batch file.\n"
     ]
    }
   ],
   "source": [
    "!wget -O dataset.csv https://archive.ics.uci.edu/ml/machine-learning-databases/breast-cancer-wisconsin/breast-cancer-wisconsin.data"
   ]
  },
  {
   "cell_type": "markdown",
   "metadata": {
    "colab_type": "text",
    "id": "Q6peH6a5ptvy"
   },
   "source": [
    "Let's look at what that looks like:"
   ]
  },
  {
   "cell_type": "code",
   "execution_count": 3,
   "metadata": {
    "colab": {
     "base_uri": "https://localhost:8080/",
     "height": 68
    },
    "colab_type": "code",
    "id": "mu0GXYGFpj0T",
    "outputId": "f9657f5b-41ea-441c-f41e-03bfe17a8c6d"
   },
   "outputs": [
    {
     "name": "stderr",
     "output_type": "stream",
     "text": [
      "'head' is not recognized as an internal or external command,\n",
      "operable program or batch file.\n"
     ]
    }
   ],
   "source": [
    "!head -3 dataset.csv"
   ]
  },
  {
   "cell_type": "markdown",
   "metadata": {
    "colab_type": "text",
    "id": "gxbKIdJfpvxm"
   },
   "source": [
    "We'll see the corresponding column names in a second."
   ]
  },
  {
   "cell_type": "markdown",
   "metadata": {
    "colab_type": "text",
    "id": "HUJHjN5CzQlg"
   },
   "source": [
    "### Loading the data"
   ]
  },
  {
   "cell_type": "markdown",
   "metadata": {
    "colab_type": "text",
    "id": "x_5qL0Lmp7u4"
   },
   "source": [
    "Now to load the data we use a library called `pandas`. This library can do many things related to data loading, but I'll focus on the CSV reader in this post."
   ]
  },
  {
   "cell_type": "code",
   "execution_count": 4,
   "metadata": {
    "colab": {},
    "colab_type": "code",
    "id": "CY-wIi2EEQnO"
   },
   "outputs": [],
   "source": [
    "import pandas as pd"
   ]
  },
  {
   "cell_type": "markdown",
   "metadata": {
    "colab_type": "text",
    "id": "pabqkgOip-3n"
   },
   "source": [
    "To read a csv file use `pd.read_csv()`. A few interesting parameters:\n",
    "\n",
    "* `filepath_or_buffer`: path to the csv file.\n",
    "* `sep=','`: the separator, defaulted to commas. If your CSV file had tabs in them, for example, pass `\\t`.\n",
    "* `columns`: by passing `columns=None` pandas will also read the first row in the file instead of skipping it assuming it contains headers.\n",
    "* `names`: custom column names for the dataset.\n",
    "\n",
    "Since our dataset is separated by commas we won't pass anything for `sep`. We do pass the column names in `names` though so it's easier to select input and output columns later on. Because we pass `names`, pandas knows our CSV does not contain a header row and therefore it also reads the first line."
   ]
  },
  {
   "cell_type": "code",
   "execution_count": 5,
   "metadata": {
    "colab": {},
    "colab_type": "code",
    "id": "JqQG1st2p7Ti"
   },
   "outputs": [],
   "source": [
    "df = pd.read_csv('breast-cancer-wisconsin.data', names=[\n",
    "  \"id number\",\n",
    "  \"Clump Thickness\",\n",
    "  \"Uniformity of Cell Size\",\n",
    "  \"Uniformity of Cell Shape\",\n",
    "  \"Marginal Adhesion\",\n",
    "  \"Single Epithelial Cell Size\",\n",
    "  \"Bare Nuclei\",\n",
    "  \"Bland Chromatin\",\n",
    "  \"Normal Nucleoli\",\n",
    "  \"Mitoses\",\n",
    "  \"Class\"\n",
    "])"
   ]
  },
  {
   "cell_type": "markdown",
   "metadata": {
    "colab_type": "text",
    "id": "v6i_UEeZqB-r"
   },
   "source": [
    "Note the variable name `df`. It stands for `DataFrame`: a Pandas object for data.\n",
    "\n",
    "Now let's inspect the DataFrame. `df.head()` prints out the first 5 elements:"
   ]
  },
  {
   "cell_type": "code",
   "execution_count": 6,
   "metadata": {
    "colab": {
     "base_uri": "https://localhost:8080/",
     "height": 221
    },
    "colab_type": "code",
    "id": "-rmeM3iCrA15",
    "outputId": "d87d8166-3a1a-46d1-f1d0-0a2fb019498a"
   },
   "outputs": [
    {
     "data": {
      "text/html": [
       "<div>\n",
       "<style scoped>\n",
       "    .dataframe tbody tr th:only-of-type {\n",
       "        vertical-align: middle;\n",
       "    }\n",
       "\n",
       "    .dataframe tbody tr th {\n",
       "        vertical-align: top;\n",
       "    }\n",
       "\n",
       "    .dataframe thead th {\n",
       "        text-align: right;\n",
       "    }\n",
       "</style>\n",
       "<table border=\"1\" class=\"dataframe\">\n",
       "  <thead>\n",
       "    <tr style=\"text-align: right;\">\n",
       "      <th></th>\n",
       "      <th>id number</th>\n",
       "      <th>Clump Thickness</th>\n",
       "      <th>Uniformity of Cell Size</th>\n",
       "      <th>Uniformity of Cell Shape</th>\n",
       "      <th>Marginal Adhesion</th>\n",
       "      <th>Single Epithelial Cell Size</th>\n",
       "      <th>Bare Nuclei</th>\n",
       "      <th>Bland Chromatin</th>\n",
       "      <th>Normal Nucleoli</th>\n",
       "      <th>Mitoses</th>\n",
       "      <th>Class</th>\n",
       "    </tr>\n",
       "  </thead>\n",
       "  <tbody>\n",
       "    <tr>\n",
       "      <th>0</th>\n",
       "      <td>1000025</td>\n",
       "      <td>5</td>\n",
       "      <td>1</td>\n",
       "      <td>1</td>\n",
       "      <td>1</td>\n",
       "      <td>2</td>\n",
       "      <td>1</td>\n",
       "      <td>3</td>\n",
       "      <td>1</td>\n",
       "      <td>1</td>\n",
       "      <td>2</td>\n",
       "    </tr>\n",
       "    <tr>\n",
       "      <th>1</th>\n",
       "      <td>1002945</td>\n",
       "      <td>5</td>\n",
       "      <td>4</td>\n",
       "      <td>4</td>\n",
       "      <td>5</td>\n",
       "      <td>7</td>\n",
       "      <td>10</td>\n",
       "      <td>3</td>\n",
       "      <td>2</td>\n",
       "      <td>1</td>\n",
       "      <td>2</td>\n",
       "    </tr>\n",
       "    <tr>\n",
       "      <th>2</th>\n",
       "      <td>1015425</td>\n",
       "      <td>3</td>\n",
       "      <td>1</td>\n",
       "      <td>1</td>\n",
       "      <td>1</td>\n",
       "      <td>2</td>\n",
       "      <td>2</td>\n",
       "      <td>3</td>\n",
       "      <td>1</td>\n",
       "      <td>1</td>\n",
       "      <td>2</td>\n",
       "    </tr>\n",
       "    <tr>\n",
       "      <th>3</th>\n",
       "      <td>1016277</td>\n",
       "      <td>6</td>\n",
       "      <td>8</td>\n",
       "      <td>8</td>\n",
       "      <td>1</td>\n",
       "      <td>3</td>\n",
       "      <td>4</td>\n",
       "      <td>3</td>\n",
       "      <td>7</td>\n",
       "      <td>1</td>\n",
       "      <td>2</td>\n",
       "    </tr>\n",
       "    <tr>\n",
       "      <th>4</th>\n",
       "      <td>1017023</td>\n",
       "      <td>4</td>\n",
       "      <td>1</td>\n",
       "      <td>1</td>\n",
       "      <td>3</td>\n",
       "      <td>2</td>\n",
       "      <td>1</td>\n",
       "      <td>3</td>\n",
       "      <td>1</td>\n",
       "      <td>1</td>\n",
       "      <td>2</td>\n",
       "    </tr>\n",
       "  </tbody>\n",
       "</table>\n",
       "</div>"
      ],
      "text/plain": [
       "   id number  Clump Thickness  Uniformity of Cell Size  \\\n",
       "0    1000025                5                        1   \n",
       "1    1002945                5                        4   \n",
       "2    1015425                3                        1   \n",
       "3    1016277                6                        8   \n",
       "4    1017023                4                        1   \n",
       "\n",
       "   Uniformity of Cell Shape  Marginal Adhesion  Single Epithelial Cell Size  \\\n",
       "0                         1                  1                            2   \n",
       "1                         4                  5                            7   \n",
       "2                         1                  1                            2   \n",
       "3                         8                  1                            3   \n",
       "4                         1                  3                            2   \n",
       "\n",
       "  Bare Nuclei  Bland Chromatin  Normal Nucleoli  Mitoses  Class  \n",
       "0           1                3                1        1      2  \n",
       "1          10                3                2        1      2  \n",
       "2           2                3                1        1      2  \n",
       "3           4                3                7        1      2  \n",
       "4           1                3                1        1      2  "
      ]
     },
     "execution_count": 6,
     "metadata": {},
     "output_type": "execute_result"
    }
   ],
   "source": [
    "df.head()"
   ]
  },
  {
   "cell_type": "markdown",
   "metadata": {
    "colab_type": "text",
    "id": "RgEAtyuoqGuc"
   },
   "source": [
    "### Data cleaning"
   ]
  },
  {
   "cell_type": "markdown",
   "metadata": {
    "colab_type": "text",
    "id": "GsbMEJusqH2K"
   },
   "source": [
    "If we take a closer look at the DataFrame we notice some columns have `?`, which of course means a value is unknown. Question marks are not understood by Pandas, so we replace them with `nan`, which Pandas does understand."
   ]
  },
  {
   "cell_type": "code",
   "execution_count": 7,
   "metadata": {
    "colab": {},
    "colab_type": "code",
    "id": "Tj73eOpA0NjK"
   },
   "outputs": [],
   "source": [
    "df = df.replace('?',np.NaN)"
   ]
  },
  {
   "cell_type": "markdown",
   "metadata": {
    "colab_type": "text",
    "id": "t0jZuzlWqMgr"
   },
   "source": [
    "If we now count the missing values for each column, we see that `Bare Nuclei` misses 16 values."
   ]
  },
  {
   "cell_type": "code",
   "execution_count": 8,
   "metadata": {
    "colab": {
     "base_uri": "https://localhost:8080/",
     "height": 221
    },
    "colab_type": "code",
    "id": "o0xBRuq4qPNJ",
    "outputId": "977a5fc2-818d-4032-926b-ce4d285392d2"
   },
   "outputs": [
    {
     "data": {
      "text/plain": [
       "id number                       0\n",
       "Clump Thickness                 0\n",
       "Uniformity of Cell Size         0\n",
       "Uniformity of Cell Shape        0\n",
       "Marginal Adhesion               0\n",
       "Single Epithelial Cell Size     0\n",
       "Bare Nuclei                    16\n",
       "Bland Chromatin                 0\n",
       "Normal Nucleoli                 0\n",
       "Mitoses                         0\n",
       "Class                           0\n",
       "dtype: int64"
      ]
     },
     "execution_count": 8,
     "metadata": {},
     "output_type": "execute_result"
    }
   ],
   "source": [
    "df.isna().sum()"
   ]
  },
  {
   "cell_type": "markdown",
   "metadata": {
    "colab_type": "text",
    "id": "eXpi16FKqR-C"
   },
   "source": [
    "We will fill the missing values in a second once we have the data in numpy arrays."
   ]
  },
  {
   "cell_type": "markdown",
   "metadata": {
    "colab_type": "text",
    "id": "GpboAIq1qT4l"
   },
   "source": [
    "### To NumPy &amp; feature selection"
   ]
  },
  {
   "cell_type": "markdown",
   "metadata": {
    "colab_type": "text",
    "id": "p0AIIz6LqWmb"
   },
   "source": [
    "DataFrames by themselves are a great tool for organizing and manipulating data, but in order to use it for machine learning we usually need to convert the data to some other object. Numpy arrays in this case.\n",
    "\n",
    "Convering a pandas object to numpy is done by calling `to_numpy()`.\n",
    "\n",
    "Note that we select all columns, except for id number and class, as features. We use the \"Class\" column as labels. Note that we did not select the id number column for either because that information should be completely unrelated to the diagnosis. In the rare event features like these boost accuracy it's because of a coincidence and it would not generalize well to the real world."
   ]
  },
  {
   "cell_type": "code",
   "execution_count": 9,
   "metadata": {
    "colab": {
     "base_uri": "https://localhost:8080/",
     "height": 34
    },
    "colab_type": "code",
    "id": "qJsu3I1Vty1D",
    "outputId": "ca88e75f-9571-4df7-b9a8-356b06026b53"
   },
   "outputs": [
    {
     "data": {
      "text/plain": [
       "(699, 9)"
      ]
     },
     "execution_count": 9,
     "metadata": {},
     "output_type": "execute_result"
    }
   ],
   "source": [
    "X = df[[\"Clump Thickness\",\n",
    "  \"Uniformity of Cell Size\",\n",
    "  \"Uniformity of Cell Shape\",\n",
    "  \"Marginal Adhesion\",\n",
    "  \"Single Epithelial Cell Size\",\n",
    "  \"Bare Nuclei\",\n",
    "  \"Bland Chromatin\",\n",
    "  \"Normal Nucleoli\",\n",
    "  \"Mitoses\"\n",
    "]].values.astype(np.float32)\n",
    "X.shape"
   ]
  },
  {
   "cell_type": "markdown",
   "metadata": {
    "colab_type": "text",
    "id": "mjJVsBmVqbnl"
   },
   "source": [
    "There are multiple techniques to deal with the missing data.\n",
    "\n",
    "* Delete instances with missing values.\n",
    "* Fill missing values in a column with the _mean_ of that column.\n",
    "* Fill missing values in a column with the _mode_ of that column.\n",
    "* Fill missing values in a column with the _median_ of that column.\n",
    "\n",
    "Since this dataset is relatively small deleting rows will have a big impact. The mean is very sensitive to outliers, and the mode may not always be present---especially in continuous metrics. That's the reason I chose to use the median of each column to fill up the missing values, but feel free to play around with that yourself.\n",
    "\n",
    "To replace missing values we first need to find the indicies (`idx`) that have missing values. Once we find these we can replace the items at those indices with the `nanmedian` of each column (axis = 0)."
   ]
  },
  {
   "cell_type": "code",
   "execution_count": 10,
   "metadata": {
    "colab": {},
    "colab_type": "code",
    "id": "syuKFHhsy0mG"
   },
   "outputs": [],
   "source": [
    "idx = np.where(np.isnan(X))\n",
    "X[idx] = np.take(np.nanmedian(X, axis = 0), idx[1])"
   ]
  },
  {
   "cell_type": "code",
   "execution_count": 11,
   "metadata": {
    "colab": {
     "base_uri": "https://localhost:8080/",
     "height": 34
    },
    "colab_type": "code",
    "id": "pRlEcPzxtnN5",
    "outputId": "baa0b07d-1dcd-4c62-b0aa-73d8c157730c"
   },
   "outputs": [
    {
     "data": {
      "text/plain": [
       "(699,)"
      ]
     },
     "execution_count": 11,
     "metadata": {},
     "output_type": "execute_result"
    }
   ],
   "source": [
    "y = df['Class'].values\n",
    "y.shape"
   ]
  },
  {
   "cell_type": "code",
   "execution_count": 12,
   "metadata": {},
   "outputs": [
    {
     "data": {
      "text/plain": [
       "2"
      ]
     },
     "execution_count": 12,
     "metadata": {},
     "output_type": "execute_result"
    }
   ],
   "source": [
    "y[0]"
   ]
  },
  {
   "cell_type": "markdown",
   "metadata": {
    "colab_type": "text",
    "id": "qo9QkYXVqq7H"
   },
   "source": [
    "### Cleaning `y`"
   ]
  },
  {
   "cell_type": "markdown",
   "metadata": {
    "colab_type": "text",
    "id": "a_YRqMgQrTUP"
   },
   "source": [
    "The negatives (label: 0) are labelled 2 and the positives (label: 1) are labelled 4. Our model won't work with these values so we convert them to $y^{(i)} \\in \\{1, 2\\}$."
   ]
  },
  {
   "cell_type": "code",
   "execution_count": 13,
   "metadata": {
    "colab": {},
    "colab_type": "code",
    "id": "wtq3xr7lqvWp"
   },
   "outputs": [],
   "source": [
    "# we only run this cell once.\n",
    "if y[0] == 2:\n",
    "  y = np.array(y == 4, dtype=np.float32)"
   ]
  },
  {
   "cell_type": "code",
   "execution_count": 14,
   "metadata": {
    "colab": {
     "base_uri": "https://localhost:8080/",
     "height": 34
    },
    "colab_type": "code",
    "id": "QJjpv6_3q2Cc",
    "outputId": "31105635-01c1-4051-985d-dff0c5d99eed"
   },
   "outputs": [
    {
     "data": {
      "text/plain": [
       "((699,), array([0., 0., 0., 0., 0., 1., 0., 0., 0., 0.], dtype=float32))"
      ]
     },
     "execution_count": 14,
     "metadata": {},
     "output_type": "execute_result"
    }
   ],
   "source": [
    "y.shape, y[:10]"
   ]
  },
  {
   "cell_type": "markdown",
   "metadata": {
    "colab_type": "text",
    "id": "FUonXRFtqniI"
   },
   "source": [
    "### Bias factor"
   ]
  },
  {
   "cell_type": "code",
   "execution_count": 15,
   "metadata": {
    "colab": {},
    "colab_type": "code",
    "id": "znfaOanoyQX_"
   },
   "outputs": [],
   "source": [
    "X = np.hstack((np.ones((len(X), 1)), X))"
   ]
  },
  {
   "cell_type": "code",
   "execution_count": 16,
   "metadata": {
    "colab": {
     "base_uri": "https://localhost:8080/",
     "height": 187
    },
    "colab_type": "code",
    "id": "5IHtk3UVq02o",
    "outputId": "04bc4dfe-691b-4446-eda4-42527170f4d7"
   },
   "outputs": [
    {
     "data": {
      "text/plain": [
       "array([[ 1.,  5.,  1.,  1.,  1.,  2.,  1.,  3.,  1.,  1.],\n",
       "       [ 1.,  5.,  4.,  4.,  5.,  7., 10.,  3.,  2.,  1.],\n",
       "       [ 1.,  3.,  1.,  1.,  1.,  2.,  2.,  3.,  1.,  1.],\n",
       "       [ 1.,  6.,  8.,  8.,  1.,  3.,  4.,  3.,  7.,  1.],\n",
       "       [ 1.,  4.,  1.,  1.,  3.,  2.,  1.,  3.,  1.,  1.],\n",
       "       [ 1.,  8., 10., 10.,  8.,  7., 10.,  9.,  7.,  1.],\n",
       "       [ 1.,  1.,  1.,  1.,  1.,  2., 10.,  3.,  1.,  1.],\n",
       "       [ 1.,  2.,  1.,  2.,  1.,  2.,  1.,  3.,  1.,  1.],\n",
       "       [ 1.,  2.,  1.,  1.,  1.,  2.,  1.,  1.,  1.,  5.],\n",
       "       [ 1.,  4.,  2.,  1.,  1.,  2.,  1.,  2.,  1.,  1.]])"
      ]
     },
     "execution_count": 16,
     "metadata": {},
     "output_type": "execute_result"
    }
   ],
   "source": [
    "X[:10]"
   ]
  },
  {
   "cell_type": "markdown",
   "metadata": {
    "colab_type": "text",
    "id": "XzeYtVOZmLbp"
   },
   "source": [
    "### Stats"
   ]
  },
  {
   "cell_type": "code",
   "execution_count": 17,
   "metadata": {
    "colab": {
     "base_uri": "https://localhost:8080/",
     "height": 34
    },
    "colab_type": "code",
    "id": "fgLDj1yQyc8u",
    "outputId": "587e7a4b-415c-4db4-d50f-82e4e82ee514"
   },
   "outputs": [
    {
     "data": {
      "text/plain": [
       "(2, 699, 10)"
      ]
     },
     "execution_count": 17,
     "metadata": {},
     "output_type": "execute_result"
    }
   ],
   "source": [
    "m, n = X.shape\n",
    "K = 2\n",
    "K, m, n"
   ]
  },
  {
   "cell_type": "markdown",
   "metadata": {
    "colab_type": "text",
    "id": "PQkk1G-8mB7K"
   },
   "source": [
    "## Training a model"
   ]
  },
  {
   "cell_type": "code",
   "execution_count": 18,
   "metadata": {
    "colab": {},
    "colab_type": "code",
    "id": "wrrExZ764dDI"
   },
   "outputs": [
    {
     "data": {
      "text/plain": [
       "array([0., 0., 0., 0., 0., 0., 0., 0., 0., 0.])"
      ]
     },
     "execution_count": 18,
     "metadata": {},
     "output_type": "execute_result"
    }
   ],
   "source": [
    "theta = np.zeros(n)\n",
    "theta"
   ]
  },
  {
   "cell_type": "markdown",
   "metadata": {
    "colab_type": "text",
    "id": "mm_j7ZOVmDFy"
   },
   "source": [
    "### The model"
   ]
  },
  {
   "cell_type": "code",
   "execution_count": 19,
   "metadata": {
    "colab": {},
    "colab_type": "code",
    "id": "A9u_l4p8HQ8y"
   },
   "outputs": [],
   "source": [
    "def g(z):\n",
    "  \"\"\" sigmoid \"\"\"\n",
    "  return 1 / (1 + np.exp(-z))"
   ]
  },
  {
   "cell_type": "code",
   "execution_count": 20,
   "metadata": {
    "colab": {},
    "colab_type": "code",
    "id": "QYp6wZ2TmSjE"
   },
   "outputs": [],
   "source": [
    "def h(X, theta):\n",
    "  return g(X @ theta)"
   ]
  },
  {
   "cell_type": "code",
   "execution_count": 21,
   "metadata": {
    "colab": {
     "base_uri": "https://localhost:8080/",
     "height": 34
    },
    "colab_type": "code",
    "id": "EEh7EKtmmS8r",
    "outputId": "e980d233-261e-4616-9c55-d99ec2b0e0a5"
   },
   "outputs": [
    {
     "data": {
      "text/plain": [
       "((699,), array([0.5, 0.5, 0.5, 0.5, 0.5, 0.5, 0.5, 0.5, 0.5, 0.5]))"
      ]
     },
     "execution_count": 21,
     "metadata": {},
     "output_type": "execute_result"
    }
   ],
   "source": [
    "preds = h(X, theta)\n",
    "preds.shape, preds[:10]"
   ]
  },
  {
   "cell_type": "markdown",
   "metadata": {
    "colab_type": "text",
    "id": "ekuim248mlQx"
   },
   "source": [
    "### Cost function & gradients"
   ]
  },
  {
   "cell_type": "code",
   "execution_count": 22,
   "metadata": {
    "colab": {},
    "colab_type": "code",
    "id": "lWllbrs6maBI"
   },
   "outputs": [],
   "source": [
    "def J(preds, y):\n",
    "  return 1/m * (-y @ np.log(preds) - (1 - y) @ np.log(1 - preds))"
   ]
  },
  {
   "cell_type": "code",
   "execution_count": 23,
   "metadata": {
    "colab": {},
    "colab_type": "code",
    "id": "y9ApxWz4nUTy"
   },
   "outputs": [],
   "source": [
    "def compute_gradient(theta, X, y):\n",
    "  preds = h(X, theta)\n",
    "  gradient = 1/m * X.T @ (preds - y)\n",
    "  return gradient"
   ]
  },
  {
   "cell_type": "code",
   "execution_count": 24,
   "metadata": {
    "colab": {
     "base_uri": "https://localhost:8080/",
     "height": 51
    },
    "colab_type": "code",
    "id": "x-RuFI9Cn7ql",
    "outputId": "9aeeb2a9-4d0a-44da-c803-504a754bc8f4"
   },
   "outputs": [
    {
     "data": {
      "text/plain": [
       "array([ 0.15522175, -0.27181688, -0.69885551, -0.65808298, -0.509299  ,\n",
       "       -0.21888412, -0.8676681 , -0.34263233, -0.58798283, -0.09799714])"
      ]
     },
     "execution_count": 24,
     "metadata": {},
     "output_type": "execute_result"
    }
   ],
   "source": [
    "compute_gradient(theta, X, y)"
   ]
  },
  {
   "cell_type": "code",
   "execution_count": 25,
   "metadata": {
    "colab": {
     "base_uri": "https://localhost:8080/",
     "height": 34
    },
    "colab_type": "code",
    "id": "gSWd67rs4LtX",
    "outputId": "3940b1e1-0123-403a-9478-cefaed13d47e"
   },
   "outputs": [
    {
     "data": {
      "text/plain": [
       "0.6931471805599452"
      ]
     },
     "execution_count": 25,
     "metadata": {},
     "output_type": "execute_result"
    }
   ],
   "source": [
    "preds = h(X, theta)\n",
    "J(preds, y)"
   ]
  },
  {
   "cell_type": "markdown",
   "metadata": {
    "colab_type": "text",
    "id": "d30rwLDszI3t"
   },
   "source": [
    "### Training loop"
   ]
  },
  {
   "cell_type": "code",
   "execution_count": 26,
   "metadata": {
    "colab": {
     "base_uri": "https://localhost:8080/",
     "height": 187
    },
    "colab_type": "code",
    "id": "wOcjo9MA_flk",
    "outputId": "20fce68f-33ec-4dad-d0f0-12982ae163d5"
   },
   "outputs": [
    {
     "name": "stdout",
     "output_type": "stream",
     "text": [
      "0.7306617045761894 0.3447782546494993\n",
      "0.4650800130797292 0.8469241773962805\n",
      "0.38340821789823426 0.9055793991416309\n",
      "0.35347237289196304 0.9141630901287554\n",
      "0.33271666973853586 0.9184549356223176\n",
      "0.31688063434698455 0.9256080114449213\n",
      "0.30406577744783675 0.9256080114449213\n",
      "0.2932708495641543 0.9313304721030042\n",
      "0.2839128193761681 0.9298998569384835\n",
      "0.2756270947419847 0.9313304721030042\n"
     ]
    }
   ],
   "source": [
    "hist = {'loss': [], 'acc': []}\n",
    "alpha = 0.1\n",
    "\n",
    "for i in range(100):\n",
    "  gradient = compute_gradient(theta, X, y)\n",
    "  theta -= alpha * gradient\n",
    "\n",
    "  # loss\n",
    "  preds = h(X, theta)\n",
    "  loss = J(preds, y)\n",
    "  hist['loss'].append(loss)\n",
    "\n",
    "  # acc\n",
    "  c = 0\n",
    "  for j in range(len(y)):\n",
    "    if (h(X[j], theta) > .5) == y[j]:\n",
    "      c += 1\n",
    "  acc = c / len(y)\n",
    "  hist['acc'].append(acc)\n",
    "\n",
    "  # print stats\n",
    "  if i % 10 == 0: print(loss, acc)"
   ]
  },
  {
   "cell_type": "markdown",
   "metadata": {
    "colab_type": "text",
    "id": "6-Kf9Da1sG5v"
   },
   "source": [
    "### Training evaluation"
   ]
  },
  {
   "cell_type": "code",
   "execution_count": 27,
   "metadata": {
    "colab": {
     "base_uri": "https://localhost:8080/",
     "height": 351
    },
    "colab_type": "code",
    "id": "tagqBRvVnVCE",
    "outputId": "2d370a93-d8fd-47f8-ee35-2fce0102440b"
   },
   "outputs": [
    {
     "data": {
      "text/plain": [
       "Text(0.5, 0, 'accuracy')"
      ]
     },
     "execution_count": 27,
     "metadata": {},
     "output_type": "execute_result"
    },
    {
     "data": {
      "image/png": "[encoded data removed]",
      "text/plain": [
       "<Figure size 1080x360 with 2 Axes>"
      ]
     },
     "metadata": {
      "needs_background": "light"
     },
     "output_type": "display_data"
    }
   ],
   "source": [
    "figsize(15, 5)\n",
    "subplot(1, 2, 1)\n",
    "plot(hist['loss'])\n",
    "xlabel('loss')\n",
    "subplot(1, 2, 2)\n",
    "plot(hist['acc'])\n",
    "xlabel('accuracy')"
   ]
  },
  {
   "cell_type": "markdown",
   "metadata": {
    "colab_type": "text",
    "id": "C6_dJV9isIsJ"
   },
   "source": [
    "### Final performance"
   ]
  },
  {
   "cell_type": "code",
   "execution_count": 28,
   "metadata": {},
   "outputs": [
    {
     "data": {
      "text/plain": [
       "[0.3447782546494993,\n",
       " 0.6566523605150214,\n",
       " 0.3447782546494993,\n",
       " 0.8512160228898427,\n",
       " 0.46924177396280403,\n",
       " 0.8226037195994278,\n",
       " 0.547925608011445,\n",
       " 0.8569384835479256,\n",
       " 0.7367668097281831,\n",
       " 0.871244635193133,\n",
       " 0.8469241773962805,\n",
       " 0.8869814020028612,\n",
       " 0.8741058655221745,\n",
       " 0.8984263233190272,\n",
       " 0.8884120171673819,\n",
       " 0.9070100143061517,\n",
       " 0.8984263233190272,\n",
       " 0.9055793991416309,\n",
       " 0.9012875536480687,\n",
       " 0.9041487839771102,\n",
       " 0.9055793991416309,\n",
       " 0.9055793991416309,\n",
       " 0.9084406294706724,\n",
       " 0.9070100143061517,\n",
       " 0.9098712446351931,\n",
       " 0.9098712446351931,\n",
       " 0.9127324749642346,\n",
       " 0.9127324749642346,\n",
       " 0.9127324749642346,\n",
       " 0.9141630901287554,\n",
       " 0.9141630901287554,\n",
       " 0.9155937052932761,\n",
       " 0.9155937052932761,\n",
       " 0.9155937052932761,\n",
       " 0.9155937052932761,\n",
       " 0.9155937052932761,\n",
       " 0.9170243204577968,\n",
       " 0.9184549356223176,\n",
       " 0.9184549356223176,\n",
       " 0.9184549356223176,\n",
       " 0.9184549356223176,\n",
       " 0.9198855507868383,\n",
       " 0.9213161659513591,\n",
       " 0.9213161659513591,\n",
       " 0.9213161659513591,\n",
       " 0.9227467811158798,\n",
       " 0.9241773962804005,\n",
       " 0.9241773962804005,\n",
       " 0.9256080114449213,\n",
       " 0.9256080114449213,\n",
       " 0.9256080114449213,\n",
       " 0.9256080114449213,\n",
       " 0.927038626609442,\n",
       " 0.927038626609442,\n",
       " 0.927038626609442,\n",
       " 0.927038626609442,\n",
       " 0.927038626609442,\n",
       " 0.9256080114449213,\n",
       " 0.9256080114449213,\n",
       " 0.9256080114449213,\n",
       " 0.9256080114449213,\n",
       " 0.9256080114449213,\n",
       " 0.9256080114449213,\n",
       " 0.9256080114449213,\n",
       " 0.927038626609442,\n",
       " 0.927038626609442,\n",
       " 0.9284692417739628,\n",
       " 0.9298998569384835,\n",
       " 0.9298998569384835,\n",
       " 0.9298998569384835,\n",
       " 0.9313304721030042,\n",
       " 0.9298998569384835,\n",
       " 0.9298998569384835,\n",
       " 0.9298998569384835,\n",
       " 0.9298998569384835,\n",
       " 0.9298998569384835,\n",
       " 0.9298998569384835,\n",
       " 0.9298998569384835,\n",
       " 0.9298998569384835,\n",
       " 0.9298998569384835,\n",
       " 0.9298998569384835,\n",
       " 0.9298998569384835,\n",
       " 0.9298998569384835,\n",
       " 0.9298998569384835,\n",
       " 0.9298998569384835,\n",
       " 0.9298998569384835,\n",
       " 0.9298998569384835,\n",
       " 0.9313304721030042,\n",
       " 0.9313304721030042,\n",
       " 0.9313304721030042,\n",
       " 0.9313304721030042,\n",
       " 0.9313304721030042,\n",
       " 0.9313304721030042,\n",
       " 0.9313304721030042,\n",
       " 0.9313304721030042,\n",
       " 0.9313304721030042,\n",
       " 0.9313304721030042,\n",
       " 0.9313304721030042,\n",
       " 0.9313304721030042,\n",
       " 0.9313304721030042]"
      ]
     },
     "execution_count": 28,
     "metadata": {},
     "output_type": "execute_result"
    }
   ],
   "source": [
    "hist['acc']"
   ]
  },
  {
   "cell_type": "code",
   "execution_count": 29,
   "metadata": {
    "colab": {
     "base_uri": "https://localhost:8080/",
     "height": 34
    },
    "colab_type": "code",
    "id": "9NZAZZPXkwgW",
    "outputId": "b6da1a8f-a1e0-415e-c91f-a3b6edd6b559"
   },
   "outputs": [
    {
     "data": {
      "text/plain": [
       "(0.2688861031735936, 0.9313304721030042)"
      ]
     },
     "execution_count": 29,
     "metadata": {},
     "output_type": "execute_result"
    }
   ],
   "source": [
    "hist['loss'][-1], hist['acc'][-1]"
   ]
  },
  {
   "cell_type": "markdown",
   "metadata": {
    "colab_type": "text",
    "id": "s-LXEHKbVDjt"
   },
   "source": [
    "## Evaluation metrics"
   ]
  },
  {
   "cell_type": "markdown",
   "metadata": {
    "colab_type": "text",
    "id": "_NTeccLPatex"
   },
   "source": [
    "#### Accuracy"
   ]
  },
  {
   "cell_type": "code",
   "execution_count": 30,
   "metadata": {
    "colab": {
     "base_uri": "https://localhost:8080/",
     "height": 34
    },
    "colab_type": "code",
    "id": "b3AseNGzVElV",
    "outputId": "1e82842c-7bcf-4007-99eb-9dcff1309529"
   },
   "outputs": [
    {
     "data": {
      "text/plain": [
       "0.9313304721030042"
      ]
     },
     "execution_count": 30,
     "metadata": {},
     "output_type": "execute_result"
    }
   ],
   "source": [
    "preds = h(X, theta) > 0.5\n",
    "(preds == y).sum() / len(y)"
   ]
  },
  {
   "cell_type": "markdown",
   "metadata": {
    "colab_type": "text",
    "id": "746ju6V2avBg"
   },
   "source": [
    "#### F1"
   ]
  },
  {
   "cell_type": "code",
   "execution_count": 31,
   "metadata": {
    "colab": {
     "base_uri": "https://localhost:8080/",
     "height": 34
    },
    "colab_type": "code",
    "id": "ylGqBLaVVfAP",
    "outputId": "52f36594-de64-4e0b-cc0c-6f469773e8a7"
   },
   "outputs": [
    {
     "data": {
      "text/plain": [
       "0.9313304721030042"
      ]
     },
     "execution_count": 31,
     "metadata": {},
     "output_type": "execute_result"
    }
   ],
   "source": [
    "def precision(preds, labels):\n",
    "  tp = ((preds == 1) == (y == 1)).sum()\n",
    "  fp = ((preds == 1) == (y == 0)).sum()\n",
    "  return tp / (tp + fp)\n",
    "\n",
    "precision(preds, y)"
   ]
  },
  {
   "cell_type": "code",
   "execution_count": 32,
   "metadata": {
    "colab": {
     "base_uri": "https://localhost:8080/",
     "height": 34
    },
    "colab_type": "code",
    "id": "0AhLxQ6gbDvk",
    "outputId": "aeb48370-a27c-435a-81d8-7cdc462823c5"
   },
   "outputs": [
    {
     "data": {
      "text/plain": [
       "0.9313304721030042"
      ]
     },
     "execution_count": 32,
     "metadata": {},
     "output_type": "execute_result"
    }
   ],
   "source": [
    "def recall(preds, labels):\n",
    "  tp = ((preds == 1) == (y == 1)).sum()\n",
    "  fn = ((preds == 0) == (y == 1)).sum()\n",
    "  return tp / (tp + fn)\n",
    "\n",
    "recall(preds, y)"
   ]
  },
  {
   "cell_type": "code",
   "execution_count": 33,
   "metadata": {
    "colab": {
     "base_uri": "https://localhost:8080/",
     "height": 34
    },
    "colab_type": "code",
    "id": "xdgdDEkDbUvK",
    "outputId": "e444e157-313d-4aad-96af-3e31d0568759"
   },
   "outputs": [
    {
     "data": {
      "text/plain": [
       "0.9313304721030042"
      ]
     },
     "execution_count": 33,
     "metadata": {},
     "output_type": "execute_result"
    }
   ],
   "source": [
    "def f1(preds, labels):\n",
    "  return 2 * (precision(preds, labels) * recall(preds, labels)) / (precision(preds, labels) + recall(preds, labels))\n",
    "\n",
    "f1(preds, y)"
   ]
  },
  {
   "cell_type": "markdown",
   "metadata": {
    "colab_type": "text",
    "id": "emiH-y7VzIdF"
   },
   "source": [
    "## Optimizing model performance"
   ]
  },
  {
   "cell_type": "code",
   "execution_count": 34,
   "metadata": {
    "colab": {},
    "colab_type": "code",
    "id": "eVyCcZCCzJqy"
   },
   "outputs": [],
   "source": [
    "recalls = []\n",
    "for p in range(100):\n",
    "  preds = (h(X, theta) > (p / 100))\n",
    "  r = recall(preds, y)\n",
    "  recalls.append(r)"
   ]
  },
  {
   "cell_type": "code",
   "execution_count": 35,
   "metadata": {},
   "outputs": [],
   "source": [
    "# recalls"
   ]
  },
  {
   "cell_type": "code",
   "execution_count": 36,
   "metadata": {
    "colab": {
     "base_uri": "https://localhost:8080/",
     "height": 337
    },
    "colab_type": "code",
    "id": "5D-H3WULzWKC",
    "outputId": "61d58f77-a298-41d4-db13-5ab4cddbb9a6"
   },
   "outputs": [
    {
     "data": {
      "text/plain": [
       "[<matplotlib.lines.Line2D at 0x2007ebe7490>]"
      ]
     },
     "execution_count": 36,
     "metadata": {},
     "output_type": "execute_result"
    },
    {
     "data": {
      "image/png": "[encoded data removed]",
      "text/plain": [
       "<Figure size 1080x360 with 1 Axes>"
      ]
     },
     "metadata": {
      "needs_background": "light"
     },
     "output_type": "display_data"
    }
   ],
   "source": [
    "plot(recalls)"
   ]
  },
  {
   "cell_type": "code",
   "execution_count": 37,
   "metadata": {
    "colab": {
     "base_uri": "https://localhost:8080/",
     "height": 34
    },
    "colab_type": "code",
    "id": "wCsVgpEU4ipc",
    "outputId": "b5f9e8b8-377a-4fdb-d3f4-817a3918ee31"
   },
   "outputs": [
    {
     "data": {
      "text/plain": [
       "0.9356223175965666"
      ]
     },
     "execution_count": 37,
     "metadata": {},
     "output_type": "execute_result"
    }
   ],
   "source": [
    "preds = h(X, theta) > 0.52\n",
    "recall(preds, y)"
   ]
  },
  {
   "cell_type": "markdown",
   "metadata": {
    "colab_type": "text",
    "id": "aTChgVmgm5SM"
   },
   "source": [
    "## Graphics"
   ]
  },
  {
   "cell_type": "markdown",
   "metadata": {
    "colab_type": "text",
    "id": "WDjTA2DVsNC1"
   },
   "source": [
    "The rest of the notebook is not directly related to the concept. This section just shows how I generate graphics for the blog post."
   ]
  },
  {
   "cell_type": "code",
   "execution_count": 38,
   "metadata": {
    "colab": {
     "base_uri": "https://localhost:8080/",
     "height": 337
    },
    "colab_type": "code",
    "id": "dg_Cw-91lbdg",
    "outputId": "305647e2-adda-433e-9c01-e911865b2bbd"
   },
   "outputs": [
    {
     "data": {
      "text/plain": [
       "<matplotlib.legend.Legend at 0x2007ec18070>"
      ]
     },
     "execution_count": 38,
     "metadata": {},
     "output_type": "execute_result"
    },
    {
     "data": {
      "image/png": "[encoded data removed]",
      "text/plain": [
       "<Figure size 1440x360 with 1 Axes>"
      ]
     },
     "metadata": {
      "needs_background": "light"
     },
     "output_type": "display_data"
    }
   ],
   "source": [
    "figsize(20, 5)\n",
    "x = np.arange(-10, 10, 0.1)\n",
    "plot((0, 0), (0, 1), 'g-', label='x = 0')\n",
    "plot((-10, 10), (0.5, 0.5), 'r-', label='y = 0.5')\n",
    "plot(x, g(x), label='g')\n",
    "legend()"
   ]
  },
  {
   "cell_type": "markdown",
   "metadata": {
    "colab_type": "text",
    "id": "NrRWRco8tm6T"
   },
   "source": [
    "---\n",
    "\n",
    "By [Rick Wierenga](https://twitter.com/rickwierenga/)"
   ]
  },
  {
   "cell_type": "code",
   "execution_count": null,
   "metadata": {
    "colab": {},
    "colab_type": "code",
    "id": "8O3zPl0w4pQd"
   },
   "outputs": [],
   "source": []
  }
 ],
 "metadata": {
  "colab": {
   "collapsed_sections": [],
   "name": "Logistic Regression.ipynb",
   "provenance": []
  },
  "kernelspec": {
   "display_name": "Python 3 (ipykernel)",
   "language": "python",
   "name": "python3"
  },
  "language_info": {
   "codemirror_mode": {
    "name": "ipython",
    "version": 3
   },
   "file_extension": ".py",
   "mimetype": "text/x-python",
   "name": "python",
   "nbconvert_exporter": "python",
   "pygments_lexer": "ipython3",
   "version": "3.9.7"
  }
 },
 "nbformat": 4,
 "nbformat_minor": 1
}
