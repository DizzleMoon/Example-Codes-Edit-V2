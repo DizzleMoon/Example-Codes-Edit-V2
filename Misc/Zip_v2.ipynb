{
 "cells": [
  {
   "cell_type": "code",
   "execution_count": 1,
   "id": "c5c984f4",
   "metadata": {},
   "outputs": [],
   "source": [
    "import zipfile\n",
    "import shutil\n",
    "import os"
   ]
  },
  {
   "cell_type": "code",
   "execution_count": 3,
   "id": "ff475998",
   "metadata": {},
   "outputs": [],
   "source": [
    "def copy_file(directory, *filenames):\n",
    "    \n",
    "    for filename in filenames:\n",
    "        try:\n",
    "            isFile = os.path.isfile(filename)\n",
    "            print(isFile)\n",
    "            shutil.copy(filename, directory)\n",
    "        except:\n",
    "            pass\n",
    "    return"
   ]
  },
  {
   "cell_type": "code",
   "execution_count": null,
   "id": "243953c7",
   "metadata": {},
   "outputs": [],
   "source": [
    "def zip_py(directory, zip_directory, mode, *filenames):\n",
    "    \n",
    "    filed = copy_file(\"insert directory\",\" insert file\")_dox\n",
    "    \n",
    "    ## Write\n",
    "    if mode == 'w':\n",
    "        zip_doc = zipfile.ZipFile(zip_directory, mode = 'w')\n",
    "        for filename in filenames:\n",
    "            zip_doc.write(filename)\n",
    "            \n",
    "    ## Read\n",
    "    elif mode == 'r':\n",
    "        zip_doc = zipfile.ZipFile(zip_directory, mode = 'r')\n",
    "        for filename in filenames:\n",
    "            print(\"\\n\", zip_doc.read(filename))\n",
    "            \n",
    "    ## Extract one at a time\n",
    "    elif mode == 'extract':\n",
    "        if mode == 'extract':\n",
    "            zip_doc = zipfile.ZipFile(zip_directory, mode = 'r')\n",
    "        for filename in filenames:\n",
    "            print(\"\\n\", zip_doc.extract(filename))\n",
    "            \n",
    "    ## Extract all\n",
    "    elif mode == 'extract all':\n",
    "        zip_doc = zipfile.ZipFile(zip_directory, mode = 'r')\n",
    "        zip_doc.extractall()\n",
    "        \n",
    "    zip_doc.close()\n",
    "    \n",
    "    return\n",
    " "
   ]
  }
 ],
 "metadata": {
  "kernelspec": {
   "display_name": "Python 3 (ipykernel)",
   "language": "python",
   "name": "python3"
  },
  "language_info": {
   "codemirror_mode": {
    "name": "ipython",
    "version": 3
   },
   "file_extension": ".py",
   "mimetype": "text/x-python",
   "name": "python",
   "nbconvert_exporter": "python",
   "pygments_lexer": "ipython3",
   "version": "3.9.7"
  }
 },
 "nbformat": 4,
 "nbformat_minor": 5
}
